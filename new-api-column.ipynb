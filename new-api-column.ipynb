{
 "cells": [
  {
   "cell_type": "markdown",
   "metadata": {},
   "source": [
    "## A beautifull way to work with data\n",
    "\n",
    "This is an API proposal to access data.\n",
    "\n",
    "Dataframes would have rows and columns. \n",
    "\n",
    "* To access columns just use df.cols()\n",
    "* To access rows just use df.rows()\n",
    "* I/O operations to load and save data are in Optimus. op.load.csv(). op.save.csv()\n",
    "\n",
    "Easy and simple"
   ]
  },
  {
   "cell_type": "code",
   "execution_count": 1,
   "metadata": {},
   "outputs": [],
   "source": [
    "%load_ext autoreload\n",
    "%autoreload 2"
   ]
  },
  {
   "cell_type": "code",
   "execution_count": 2,
   "metadata": {},
   "outputs": [],
   "source": [
    "from optimus import *\n",
    "\n",
    "from pyspark.sql.session import SparkSession\n",
    "from pyspark.sql.types import StructType, StructField, StringType, BooleanType, IntegerType, ArrayType\n",
    "\n",
    "sc = SparkSession.builder.getOrCreate()"
   ]
  },
  {
   "cell_type": "code",
   "execution_count": 3,
   "metadata": {},
   "outputs": [
    {
     "name": "stdout",
     "output_type": "stream",
     "text": [
      "Using a created Spark Session...\n",
      "Done.\n"
     ]
    }
   ],
   "source": [
    "# Create optimus\n",
    "op = Optimus(sc)"
   ]
  },
  {
   "cell_type": "markdown",
   "metadata": {},
   "source": [
    "## Create dataframe\n",
    "### Spark\n",
    "\n",
    "This is ugly:\n",
    "\n",
    "```\n",
    "val someData = Seq(\n",
    "  Row(8, \"bat\"),\n",
    "  Row(64, \"mouse\"),\n",
    "  Row(-27, \"horse\")\n",
    ")\n",
    "\n",
    "val someSchema = List(\n",
    "  StructField(\"number\", IntegerType, true),\n",
    "  StructField(\"word\", StringType, true)\n",
    ")\n",
    "\n",
    "val someDF = spark.createDataFrame(\n",
    "  spark.sparkContext.parallelize(someData),\n",
    "  StructType(someSchema)\n",
    ")```"
   ]
  },
  {
   "cell_type": "code",
   "execution_count": 66,
   "metadata": {},
   "outputs": [
    {
     "name": "stdout",
     "output_type": "stream",
     "text": [
      "+-------------------+---+-------+-----+-------------+------+-----+\n",
      "|              words|num|animals|thing|  two strings|filter|num 2|\n",
      "+-------------------+---+-------+-----+-------------+------+-----+\n",
      "|  I like     fish  |  1|    dog|housé|      cat-car|     a|    1|\n",
      "|            zombies|  2|    cat|   tv|       dog-tv|     b|    2|\n",
      "|simpsons   cat lady|  2|   frog|table|eagle-tv-plus|     1|    3|\n",
      "|               null|  3|  eagle|glass|      lion-pc|     c|    4|\n",
      "+-------------------+---+-------+-----+-------------+------+-----+\n",
      "\n"
     ]
    }
   ],
   "source": [
    "# Thanks Mr Powers\n",
    "df = op.create.df([\n",
    "                (\"  I like     fish  \", 1, \"dog\", \"housé\", \"cat-car\", \"a\",\"1\"),\n",
    "                (\"    zombies\", 2, \"cat\", \"tv\", \"dog-tv\", \"b\",\"2\"),\n",
    "                (\"simpsons   cat lady\", 2, \"frog\", \"table\",\"eagle-tv-plus\",\"1\",\"3\"),\n",
    "                (None, 3, \"eagle\", \"glass\", \"lion-pc\", \"c\",\"4\")\n",
    "            ],\n",
    "            [\n",
    "                (\"words\", \"str\", True),\n",
    "                (\"num\", \"int\", True),\n",
    "                (\"animals\", \"str\", True),\n",
    "                (\"thing\", StringType(), True),\n",
    "                (\"two strings\", StringType(), True),\n",
    "                (\"filter\", StringType(), True),\n",
    "                (\"num 2\", \"string\", True)\n",
    "\n",
    "            ])\n",
    "\n",
    "df.show()"
   ]
  },
  {
   "cell_type": "markdown",
   "metadata": {},
   "source": [
    "## Create Columns\n",
    "### Spark\n",
    "* You can not create multiple columns at the same time\n",
    "* You need to use the lit function. lit???\n",
    "\n",
    "### Pandas\n",
    "* Similiar behavior\n"
   ]
  },
  {
   "cell_type": "code",
   "execution_count": 67,
   "metadata": {
    "scrolled": true
   },
   "outputs": [
    {
     "name": "stdout",
     "output_type": "stream",
     "text": [
      "+-------------------+---+-------+-----+-------------+------+-----+---------+\n",
      "|              words|num|animals|thing|  two strings|filter|num 2|new_col_1|\n",
      "+-------------------+---+-------+-----+-------------+------+-----+---------+\n",
      "|  I like     fish  |  1|    dog|housé|      cat-car|     a|    1|        1|\n",
      "|            zombies|  2|    cat|   tv|       dog-tv|     b|    2|        1|\n",
      "|simpsons   cat lady|  2|   frog|table|eagle-tv-plus|     1|    3|        1|\n",
      "|               null|  3|  eagle|glass|      lion-pc|     c|    4|        1|\n",
      "+-------------------+---+-------+-----+-------------+------+-----+---------+\n",
      "\n"
     ]
    }
   ],
   "source": [
    "df = df.cols().create(\"new_col_1\", 1)\n",
    "df.show()"
   ]
  },
  {
   "cell_type": "code",
   "execution_count": 6,
   "metadata": {},
   "outputs": [
    {
     "name": "stdout",
     "output_type": "stream",
     "text": [
      "+-------------------+---+-------+-----+-------------+------+---------+\n",
      "|              words|num|animals|thing|  two strings|filter|new_col_1|\n",
      "+-------------------+---+-------+-----+-------------+------+---------+\n",
      "|  I like     fish  |  1|    dog|housé|      cat-car|     a|        1|\n",
      "|            zombies|  2|    cat|   tv|       dog-tv|     b|        1|\n",
      "|simpsons   cat lady|  2|   frog|table|eagle-tv-plus|     1|        1|\n",
      "|               null|  3|  eagle|glass|      lion-pc|     c|        1|\n",
      "+-------------------+---+-------+-----+-------------+------+---------+\n",
      "\n"
     ]
    }
   ],
   "source": [
    "from pyspark.sql.functions import *\n",
    "\n",
    "sf = df.cols().create([\n",
    "    (\"new_col_2\", 2.22),\n",
    "    (\"new_col_3\", lit(3)),\n",
    "    (\"new_col_4\", \"test\"),\n",
    "    (\"new_col_5\", df['num']*2)\n",
    "    ])\n",
    "\n",
    "df.show()"
   ]
  },
  {
   "cell_type": "markdown",
   "metadata": {},
   "source": [
    "## Select columns\n",
    "### Spark\n",
    "* You can not select columns by string and index at the same time\n",
    "\n",
    "### Pandas\n",
    "* You can not select columns by string and index at the same time"
   ]
  },
  {
   "cell_type": "code",
   "execution_count": 7,
   "metadata": {},
   "outputs": [
    {
     "name": "stdout",
     "output_type": "stream",
     "text": [
      "+-------------------+---+-------+-----+\n",
      "|              words|num|animals|thing|\n",
      "+-------------------+---+-------+-----+\n",
      "|  I like     fish  |  1|    dog|housé|\n",
      "|            zombies|  2|    cat|   tv|\n",
      "|simpsons   cat lady|  2|   frog|table|\n",
      "|               null|  3|  eagle|glass|\n",
      "+-------------------+---+-------+-----+\n",
      "\n"
     ]
    }
   ],
   "source": [
    "columns = [\"words\", 1, \"animals\", 3]\n",
    "df.cols().select(columns).show()"
   ]
  },
  {
   "cell_type": "code",
   "execution_count": 8,
   "metadata": {},
   "outputs": [
    {
     "name": "stdout",
     "output_type": "stream",
     "text": [
      "+---+---------+\n",
      "|num|new_col_1|\n",
      "+---+---------+\n",
      "|  1|        1|\n",
      "|  2|        1|\n",
      "|  2|        1|\n",
      "|  3|        1|\n",
      "+---+---------+\n",
      "\n"
     ]
    }
   ],
   "source": [
    "df.cols().select(regex = \"n.*\").show()"
   ]
  },
  {
   "cell_type": "markdown",
   "metadata": {},
   "source": [
    "## Rename Column\n",
    "### Spark\n",
    "You can not rename multiple columns using Spark Vanilla API\n",
    "\n",
    "\n",
    "### Pandas\n",
    "* Almost the same behavior https://pandas.pydata.org/pandas-docs/stable/generated/pandas.DataFrame.rename.html"
   ]
  },
  {
   "cell_type": "code",
   "execution_count": 56,
   "metadata": {},
   "outputs": [
    {
     "name": "stdout",
     "output_type": "stream",
     "text": [
      "+-------------------+------+-------+-----+-------------+------+---------+\n",
      "|              words|number|animals|thing|  two strings|filter|new_col_1|\n",
      "+-------------------+------+-------+-----+-------------+------+---------+\n",
      "|  I like     fish  |     1|    dog|housé|      cat-car|     a|        1|\n",
      "|            zombies|     2|    cat|   tv|       dog-tv|     b|        1|\n",
      "|simpsons   cat lady|     2|   frog|table|eagle-tv-plus|     1|        1|\n",
      "|               null|     3|  eagle|glass|      lion-pc|     c|        1|\n",
      "+-------------------+------+-------+-----+-------------+------+---------+\n",
      "\n"
     ]
    }
   ],
   "source": [
    "df.cols().rename([('num','number')]).show()"
   ]
  },
  {
   "cell_type": "code",
   "execution_count": 35,
   "metadata": {},
   "outputs": [
    {
     "name": "stdout",
     "output_type": "stream",
     "text": [
      "+-------------------+---+-------+-----+-------------+------+---------+\n",
      "|              words|num|animals|thing|  two strings|filter|new_col_1|\n",
      "+-------------------+---+-------+-----+-------------+------+---------+\n",
      "|  I like     fish  |  1|    dog|housé|      cat-car|     a|        1|\n",
      "|            zombies|  2|    cat|   tv|       dog-tv|     b|        1|\n",
      "|simpsons   cat lady|  2|   frog|table|eagle-tv-plus|     1|        1|\n",
      "|               null|  3|  eagle|glass|      lion-pc|     c|        1|\n",
      "+-------------------+---+-------+-----+-------------+------+---------+\n",
      "\n"
     ]
    }
   ],
   "source": [
    "df.cols().rename(func = str.lower).show()"
   ]
  },
  {
   "cell_type": "code",
   "execution_count": 36,
   "metadata": {},
   "outputs": [
    {
     "name": "stdout",
     "output_type": "stream",
     "text": [
      "+-------------------+---+-------+-----+-------------+------+---------+\n",
      "|              WORDS|NUM|ANIMALS|THING|  TWO STRINGS|FILTER|NEW_COL_1|\n",
      "+-------------------+---+-------+-----+-------------+------+---------+\n",
      "|  I like     fish  |  1|    dog|housé|      cat-car|     a|        1|\n",
      "|            zombies|  2|    cat|   tv|       dog-tv|     b|        1|\n",
      "|simpsons   cat lady|  2|   frog|table|eagle-tv-plus|     1|        1|\n",
      "|               null|  3|  eagle|glass|      lion-pc|     c|        1|\n",
      "+-------------------+---+-------+-----+-------------+------+---------+\n",
      "\n"
     ]
    }
   ],
   "source": [
    "df.cols().rename(func = str.upper).show()"
   ]
  },
  {
   "cell_type": "markdown",
   "metadata": {},
   "source": [
    "## Cast a columns\n",
    "\n",
    "### Spark\n",
    "* Can not cast multiple columns\n",
    "\n",
    "### Pandas\n",
    "This is a opinionated way to handle column casting. \n",
    "One of the first thing that every data cleaning process need to acomplish is define a data dictionary.\n",
    "Because of that we prefer to create a tuple like this:\n",
    "\n",
    "df.cols().cast(\n",
    "[(\"words\",\"str\"),\n",
    "(\"num\",\"int\"),\n",
    "(\"animals\",\"float\"),\n",
    "(\"thing\",\"str\")]\n",
    ")\n",
    "\n",
    "instead of pandas\n",
    "\n",
    "pd.Series([1], dtype='int32')\n",
    "pd.Series([2], dtype='string')\n",
    "\n",
    "https://pandas.pydata.org/pandas-docs/stable/generated/pandas.DataFrame.astype.html"
   ]
  },
  {
   "cell_type": "code",
   "execution_count": 71,
   "metadata": {},
   "outputs": [
    {
     "data": {
      "text/plain": [
       "DataFrame[words: string, num: string, animals: string, thing: string, two strings: string, filter: string, num 2: string, new_col_1: int]"
      ]
     },
     "execution_count": 71,
     "metadata": {},
     "output_type": "execute_result"
    }
   ],
   "source": [
    "df.cols().cast([(\"num\", \"string\"),(\"num 2\", \"integer\")])"
   ]
  },
  {
   "cell_type": "markdown",
   "metadata": {},
   "source": [
    "## Keep columns\n",
    "### Spark\n",
    "* You can not remove multiple columns\n",
    "\n",
    "### Pandas\n",
    "* Handle in pandas with drop\n"
   ]
  },
  {
   "cell_type": "code",
   "execution_count": 44,
   "metadata": {},
   "outputs": [
    {
     "name": "stdout",
     "output_type": "stream",
     "text": [
      "+---+\n",
      "|num|\n",
      "+---+\n",
      "|  1|\n",
      "|  2|\n",
      "|  2|\n",
      "|  3|\n",
      "+---+\n",
      "\n"
     ]
    }
   ],
   "source": [
    "df.cols().keep(\"num\").show()"
   ]
  },
  {
   "cell_type": "markdown",
   "metadata": {},
   "source": [
    "## Move columns\n",
    "### Spark\n",
    "Do not exist in spark\n",
    "\n",
    "### Pandas\n",
    "Do not exist in pandas"
   ]
  },
  {
   "cell_type": "code",
   "execution_count": 45,
   "metadata": {},
   "outputs": [
    {
     "name": "stdout",
     "output_type": "stream",
     "text": [
      "+---+-------+-----+-------------------+-------------+------+---------+\n",
      "|num|animals|thing|              words|  two strings|filter|new_col_1|\n",
      "+---+-------+-----+-------------------+-------------+------+---------+\n",
      "|  1|    dog|housé|  I like     fish  |      cat-car|     a|        1|\n",
      "|  2|    cat|   tv|            zombies|       dog-tv|     b|        1|\n",
      "|  2|   frog|table|simpsons   cat lady|eagle-tv-plus|     1|        1|\n",
      "|  3|  eagle|glass|               null|      lion-pc|     c|        1|\n",
      "+---+-------+-----+-------------------+-------------+------+---------+\n",
      "\n"
     ]
    }
   ],
   "source": [
    "df.cols().move(\"words\", \"thing\", \"after\").show()"
   ]
  },
  {
   "cell_type": "markdown",
   "metadata": {},
   "source": [
    "## Sorting Columns\n",
    "### Spark\n",
    "You can not sort columns using Spark Vanilla API \n",
    "\n",
    "### Pandas\n",
    "Similar to pandas\n",
    "http://pandas.pydata.org/pandas-docs/version/0.19/generated/pandas.DataFrame.sort_values.html#pandas.DataFrame.sort_values"
   ]
  },
  {
   "cell_type": "code",
   "execution_count": 46,
   "metadata": {},
   "outputs": [
    {
     "name": "stdout",
     "output_type": "stream",
     "text": [
      "+-------+------+---------+---+-----+-------------+-------------------+\n",
      "|animals|filter|new_col_1|num|thing|  two strings|              words|\n",
      "+-------+------+---------+---+-----+-------------+-------------------+\n",
      "|    dog|     a|        1|  1|housé|      cat-car|  I like     fish  |\n",
      "|    cat|     b|        1|  2|   tv|       dog-tv|            zombies|\n",
      "|   frog|     1|        1|  2|table|eagle-tv-plus|simpsons   cat lady|\n",
      "|  eagle|     c|        1|  3|glass|      lion-pc|               null|\n",
      "+-------+------+---------+---+-----+-------------+-------------------+\n",
      "\n"
     ]
    }
   ],
   "source": [
    "df.cols().sort().show()"
   ]
  },
  {
   "cell_type": "code",
   "execution_count": 47,
   "metadata": {},
   "outputs": [
    {
     "name": "stdout",
     "output_type": "stream",
     "text": [
      "+-------------------+-------------+-----+---+---------+------+-------+\n",
      "|              words|  two strings|thing|num|new_col_1|filter|animals|\n",
      "+-------------------+-------------+-----+---+---------+------+-------+\n",
      "|  I like     fish  |      cat-car|housé|  1|        1|     a|    dog|\n",
      "|            zombies|       dog-tv|   tv|  2|        1|     b|    cat|\n",
      "|simpsons   cat lady|eagle-tv-plus|table|  2|        1|     1|   frog|\n",
      "|               null|      lion-pc|glass|  3|        1|     c|  eagle|\n",
      "+-------------------+-------------+-----+---+---------+------+-------+\n",
      "\n"
     ]
    }
   ],
   "source": [
    "df.cols().sort(reverse = True).show()"
   ]
  },
  {
   "cell_type": "markdown",
   "metadata": {},
   "source": [
    "## Drop columns\n",
    "### Spark \n",
    "* You can not delete multiple colums\n",
    "\n",
    "### Pandas\n",
    "* Almost the same as pandas\n",
    "https://pandas.pydata.org/pandas-docs/stable/generated/pandas.DataFrame.drop.html"
   ]
  },
  {
   "cell_type": "code",
   "execution_count": 48,
   "metadata": {},
   "outputs": [
    {
     "name": "stdout",
     "output_type": "stream",
     "text": [
      "+-------+-----+-------------+------+---------+\n",
      "|animals|thing|  two strings|filter|new_col_1|\n",
      "+-------+-----+-------------+------+---------+\n",
      "|    dog|housé|      cat-car|     a|        1|\n",
      "|    cat|   tv|       dog-tv|     b|        1|\n",
      "|   frog|table|eagle-tv-plus|     1|        1|\n",
      "|  eagle|glass|      lion-pc|     c|        1|\n",
      "+-------+-----+-------------+------+---------+\n",
      "\n"
     ]
    }
   ],
   "source": [
    "df2 = df.cols().drop(\"num\")\n",
    "df2 = df.cols().drop([\"num\",\"words\"])\n",
    "df2.show()"
   ]
  },
  {
   "cell_type": "markdown",
   "metadata": {},
   "source": [
    "## Chaining\n",
    "\n",
    "cols y rows functions are used to organize and encapsulate optimus' functionality apart of Apache Spark Dataframe API. This have a disadvantage at chaining time because we need to user invoke cols or rows in every step.\n",
    "\n",
    "At the same time it can be helpfull when you look at the code because every line is self explained."
   ]
  },
  {
   "cell_type": "code",
   "execution_count": 49,
   "metadata": {},
   "outputs": [
    {
     "name": "stdout",
     "output_type": "stream",
     "text": [
      "+-------------+-----+---------+---------+------+-------+\n",
      "|  two strings|thing|new_col_2|new_col_1|filter|animals|\n",
      "+-------------+-----+---------+---------+------+-------+\n",
      "|      cat-car|housé|spongebob|        1|     a|    dog|\n",
      "|       dog-tv|   tv|spongebob|        1|     b|    cat|\n",
      "|eagle-tv-plus|table|spongebob|        1|     1|   frog|\n",
      "|      lion-pc|glass|spongebob|        1|     c|  eagle|\n",
      "+-------------+-----+---------+---------+------+-------+\n",
      "\n"
     ]
    }
   ],
   "source": [
    "df\\\n",
    "    .cols().rename([('num','number')])\\\n",
    "    .cols().drop([\"number\",\"words\"])\\\n",
    "    .withColumn(\"new_col_2\", lit(\"spongebob\"))\\\n",
    "    .cols().create(\"new_col_1\", 1)\\\n",
    "    .cols().sort(reverse= True)\\\n",
    "    .show()"
   ]
  },
  {
   "cell_type": "markdown",
   "metadata": {},
   "source": [
    "## Split Columns\n",
    "### Spark\n",
    "\n",
    "### Pandas"
   ]
  },
  {
   "cell_type": "code",
   "execution_count": 50,
   "metadata": {},
   "outputs": [
    {
     "name": "stdout",
     "output_type": "stream",
     "text": [
      "+-------------------+---+-------+-----+-------------+------+---------+-----+-----+-----+\n",
      "|              words|num|animals|thing|  two strings|filter|new_col_1|COL_0|COL_1|COL_2|\n",
      "+-------------------+---+-------+-----+-------------+------+---------+-----+-----+-----+\n",
      "|  I like     fish  |  1|    dog|housé|      cat-car|     a|        1|  cat|  car| null|\n",
      "|            zombies|  2|    cat|   tv|       dog-tv|     b|        1|  dog|   tv| null|\n",
      "|simpsons   cat lady|  2|   frog|table|eagle-tv-plus|     1|        1|eagle|   tv| plus|\n",
      "|               null|  3|  eagle|glass|      lion-pc|     c|        1| lion|   pc| null|\n",
      "+-------------------+---+-------+-----+-------------+------+---------+-----+-----+-----+\n",
      "\n"
     ]
    }
   ],
   "source": [
    "df.cols().split(\"two strings\",\"-\", n=3).show()"
   ]
  },
  {
   "cell_type": "code",
   "execution_count": 51,
   "metadata": {},
   "outputs": [
    {
     "name": "stdout",
     "output_type": "stream",
     "text": [
      "+-------------------+---+-------+-----+-------------+------+---------+-----+\n",
      "|              words|num|animals|thing|  two strings|filter|new_col_1|COL_1|\n",
      "+-------------------+---+-------+-----+-------------+------+---------+-----+\n",
      "|  I like     fish  |  1|    dog|housé|      cat-car|     a|        1|  car|\n",
      "|            zombies|  2|    cat|   tv|       dog-tv|     b|        1|   tv|\n",
      "|simpsons   cat lady|  2|   frog|table|eagle-tv-plus|     1|        1|   tv|\n",
      "|               null|  3|  eagle|glass|      lion-pc|     c|        1|   pc|\n",
      "+-------------------+---+-------+-----+-------------+------+---------+-----+\n",
      "\n"
     ]
    }
   ],
   "source": [
    "df.cols().split(\"two strings\",\"-\", get = 1).show()"
   ]
  },
  {
   "cell_type": "markdown",
   "metadata": {},
   "source": [
    "## Pandas comparision\n",
    "Pandas vs Spark\n",
    "https://www.analyticsvidhya.com/blog/2016/10/spark-dataframe-and-operations/"
   ]
  },
  {
   "cell_type": "code",
   "execution_count": null,
   "metadata": {},
   "outputs": [],
   "source": []
  }
 ],
 "metadata": {
  "kernelspec": {
   "display_name": "Python 3",
   "language": "python",
   "name": "python3"
  },
  "language_info": {
   "codemirror_mode": {
    "name": "ipython",
    "version": 3
   },
   "file_extension": ".py",
   "mimetype": "text/x-python",
   "name": "python",
   "nbconvert_exporter": "python",
   "pygments_lexer": "ipython3",
   "version": "3.6.4"
  }
 },
 "nbformat": 4,
 "nbformat_minor": 2
}
