{
 "cells": [
  {
   "cell_type": "markdown",
   "metadata": {},
   "source": [
    "## A beautifull way to work with data\n",
    "\n",
    "This is an API proposal to access data.\n",
    "\n",
    "Dataframes would have rows and columns. \n",
    "\n",
    "* To access columns just use df.cols()\n",
    "* To access rows just use df.rows()\n",
    "* I/O operations to load and save data are in Optimus. op.load.csv(). op.save.csv()\n",
    "\n",
    "Easy and simple"
   ]
  },
  {
   "cell_type": "code",
   "execution_count": 1,
   "metadata": {},
   "outputs": [],
   "source": [
    "%load_ext autoreload\n",
    "%autoreload 2"
   ]
  },
  {
   "cell_type": "code",
   "execution_count": 2,
   "metadata": {},
   "outputs": [],
   "source": [
    "from optimus import *\n",
    "\n",
    "from pyspark.sql.session import SparkSession\n",
    "from pyspark.sql.types import StructType, StructField, StringType, BooleanType, IntegerType, ArrayType\n",
    "\n",
    "sc = SparkSession.builder.getOrCreate()"
   ]
  },
  {
   "cell_type": "code",
   "execution_count": 3,
   "metadata": {},
   "outputs": [
    {
     "name": "stdout",
     "output_type": "stream",
     "text": [
      "Using a created Spark Session...\n",
      "Done.\n"
     ]
    }
   ],
   "source": [
    "# Create optimus\n",
    "op = Optimus(sc)"
   ]
  },
  {
   "cell_type": "markdown",
   "metadata": {},
   "source": [
    "## Create dataframe\n",
    "### Spark\n",
    "\n",
    "This is ugly:\n",
    "\n",
    "```\n",
    "val someData = Seq(\n",
    "  Row(8, \"bat\"),\n",
    "  Row(64, \"mouse\"),\n",
    "  Row(-27, \"horse\")\n",
    ")\n",
    "\n",
    "val someSchema = List(\n",
    "  StructField(\"number\", IntegerType, true),\n",
    "  StructField(\"word\", StringType, true)\n",
    ")\n",
    "\n",
    "val someDF = spark.createDataFrame(\n",
    "  spark.sparkContext.parallelize(someData),\n",
    "  StructType(someSchema)\n",
    ")```"
   ]
  },
  {
   "cell_type": "code",
   "execution_count": 65,
   "metadata": {},
   "outputs": [
    {
     "name": "stdout",
     "output_type": "stream",
     "text": [
      "+-------------------+---+-------+-----+-------------+------+\n",
      "|              words|num|animals|thing|  two strings|filter|\n",
      "+-------------------+---+-------+-----+-------------+------+\n",
      "|  I like     fish  |  1|    dog|housé|      cat-car|     a|\n",
      "|            zombies|  2|    cat|   tv|       dog-tv|     b|\n",
      "|simpsons   cat lady|  2|   frog|table|eagle-tv-plus|     1|\n",
      "|               null|  3|  eagle|glass|      lion-pc|     c|\n",
      "+-------------------+---+-------+-----+-------------+------+\n",
      "\n"
     ]
    }
   ],
   "source": [
    "# Thanks Mr Powers\n",
    "df = op.create.df([\n",
    "                (\"  I like     fish  \", 1, \"dog\", \"housé\", \"cat-car\", \"a\"),\n",
    "                (\"    zombies\", 2, \"cat\", \"tv\", \"dog-tv\", \"b\"),\n",
    "                (\"simpsons   cat lady\", 2, \"frog\", \"table\",\"eagle-tv-plus\",\"1\"),\n",
    "                (None, 3, \"eagle\", \"glass\", \"lion-pc\", \"c\")\n",
    "            ],\n",
    "            [\n",
    "                (\"words\", \"str\", True),\n",
    "                (\"num\", \"int\", True),\n",
    "                (\"animals\", \"str\", True),\n",
    "                (\"thing\", StringType(), True),\n",
    "                (\"two strings\", StringType(), True),\n",
    "                (\"filter\", StringType(), True)\n",
    "            ])\n",
    "\n",
    "df.show()"
   ]
  },
  {
   "cell_type": "markdown",
   "metadata": {},
   "source": [
    "## Create Columns\n",
    "### Spark\n",
    "* You can not create multiple columns at the same time\n",
    "* You need to use the lit function. lit???\n",
    "\n",
    "### Pandas\n",
    "* Similiar behavior\n"
   ]
  },
  {
   "cell_type": "code",
   "execution_count": 4,
   "metadata": {
    "scrolled": true
   },
   "outputs": [
    {
     "name": "stdout",
     "output_type": "stream",
     "text": [
      "+-------------------+---+-------+-----+---------+\n",
      "|              words|num|animals|thing|new_col_1|\n",
      "+-------------------+---+-------+-----+---------+\n",
      "|  I like     fish  |  1|    dog|housé|        1|\n",
      "|            zombies|  2|    cat|   tv|        1|\n",
      "|simpsons   cat lady|  2|   frog|table|        1|\n",
      "|               null|  3|  eagle|glass|        1|\n",
      "+-------------------+---+-------+-----+---------+\n",
      "\n"
     ]
    }
   ],
   "source": [
    "df = df.cols().create(\"new_col_1\", 1)\n",
    "df.show()"
   ]
  },
  {
   "cell_type": "code",
   "execution_count": 5,
   "metadata": {},
   "outputs": [
    {
     "name": "stdout",
     "output_type": "stream",
     "text": [
      "+-------------------+---+-------+-----+---------+\n",
      "|              words|num|animals|thing|new_col_1|\n",
      "+-------------------+---+-------+-----+---------+\n",
      "|  I like     fish  |  1|    dog|housé|        1|\n",
      "|            zombies|  2|    cat|   tv|        1|\n",
      "|simpsons   cat lady|  2|   frog|table|        1|\n",
      "|               null|  3|  eagle|glass|        1|\n",
      "+-------------------+---+-------+-----+---------+\n",
      "\n"
     ]
    }
   ],
   "source": [
    "sf = df.cols().create([\n",
    "    (\"new_col_2\", 2.22),\n",
    "    (\"new_col_3\", lit(3)),\n",
    "    (\"new_col_4\", \"test\"),\n",
    "    (\"new_col_5\", df['num']*2)\n",
    "    ])\n",
    "\n",
    "df.show()"
   ]
  },
  {
   "cell_type": "markdown",
   "metadata": {},
   "source": [
    "## Select columns\n",
    "### Spark\n",
    "* You can not select columns by string and index at the same time\n",
    "\n",
    "### Pandas\n",
    "* You can not select columns by string and index at the same time"
   ]
  },
  {
   "cell_type": "code",
   "execution_count": 7,
   "metadata": {},
   "outputs": [
    {
     "name": "stdout",
     "output_type": "stream",
     "text": [
      "+-------------------+---+-------+-----+\n",
      "|              words|num|animals|thing|\n",
      "+-------------------+---+-------+-----+\n",
      "|  I like     fish  |  1|    dog|housé|\n",
      "|            zombies|  2|    cat|   tv|\n",
      "|simpsons   cat lady|  2|   frog|table|\n",
      "|               null|  3|  eagle|glass|\n",
      "+-------------------+---+-------+-----+\n",
      "\n"
     ]
    }
   ],
   "source": [
    "columns = [\"words\", 1, \"animals\", 3]\n",
    "df.cols().select(columns).show()"
   ]
  },
  {
   "cell_type": "code",
   "execution_count": 8,
   "metadata": {},
   "outputs": [
    {
     "name": "stdout",
     "output_type": "stream",
     "text": [
      "+---+---------+\n",
      "|num|new_col_1|\n",
      "+---+---------+\n",
      "|  1|        1|\n",
      "|  2|        1|\n",
      "|  2|        1|\n",
      "|  3|        1|\n",
      "+---+---------+\n",
      "\n"
     ]
    }
   ],
   "source": [
    "df.cols().select(regex = \"n.*\").show()"
   ]
  },
  {
   "cell_type": "markdown",
   "metadata": {},
   "source": [
    "## Rename Column\n",
    "### Spark\n",
    "You can not rename multiple columns using Spark Vanilla API\n",
    "\n",
    "\n",
    "### Pandas\n",
    "Almost the same behavior that pandas"
   ]
  },
  {
   "cell_type": "code",
   "execution_count": 9,
   "metadata": {},
   "outputs": [
    {
     "name": "stdout",
     "output_type": "stream",
     "text": [
      "+-------------------+------+-------+-----+---------+\n",
      "|              words|number|animals|thing|new_col_1|\n",
      "+-------------------+------+-------+-----+---------+\n",
      "|  I like     fish  |     1|    dog|housé|        1|\n",
      "|            zombies|     2|    cat|   tv|        1|\n",
      "|simpsons   cat lady|     2|   frog|table|        1|\n",
      "|               null|     3|  eagle|glass|        1|\n",
      "+-------------------+------+-------+-----+---------+\n",
      "\n"
     ]
    }
   ],
   "source": [
    "df.cols().rename([('num','number')]).show()"
   ]
  },
  {
   "cell_type": "markdown",
   "metadata": {},
   "source": [
    "## Rename\n",
    "### Spark\n",
    "* You can not rename multiple columns\n",
    "\n",
    "### Pandas\n",
    "* Almost the same behavior https://pandas.pydata.org/pandas-docs/stable/generated/pandas.DataFrame.rename.html"
   ]
  },
  {
   "cell_type": "code",
   "execution_count": 10,
   "metadata": {},
   "outputs": [
    {
     "name": "stdout",
     "output_type": "stream",
     "text": [
      "+-------------------+---+-------+-----+---------+\n",
      "|              words|num|animals|thing|new_col_1|\n",
      "+-------------------+---+-------+-----+---------+\n",
      "|  I like     fish  |  1|    dog|housé|        1|\n",
      "|            zombies|  2|    cat|   tv|        1|\n",
      "|simpsons   cat lady|  2|   frog|table|        1|\n",
      "|               null|  3|  eagle|glass|        1|\n",
      "+-------------------+---+-------+-----+---------+\n",
      "\n"
     ]
    }
   ],
   "source": [
    "df.cols().rename(func = str.lower).show()"
   ]
  },
  {
   "cell_type": "code",
   "execution_count": 12,
   "metadata": {},
   "outputs": [
    {
     "name": "stdout",
     "output_type": "stream",
     "text": [
      "+-------------------+---+-------+-----+---------+\n",
      "|              WORDS|NUM|ANIMALS|THING|NEW_COL_1|\n",
      "+-------------------+---+-------+-----+---------+\n",
      "|  I like     fish  |  1|    dog|housé|        1|\n",
      "|            zombies|  2|    cat|   tv|        1|\n",
      "|simpsons   cat lady|  2|   frog|table|        1|\n",
      "|               null|  3|  eagle|glass|        1|\n",
      "+-------------------+---+-------+-----+---------+\n",
      "\n"
     ]
    }
   ],
   "source": [
    "df.cols().rename(func = str.upper).show()"
   ]
  },
  {
   "cell_type": "code",
   "execution_count": 13,
   "metadata": {},
   "outputs": [
    {
     "name": "stdout",
     "output_type": "stream",
     "text": [
      "+-------------------+------+-------+-----+---------+\n",
      "|              words|number|animals|thing|new_col_1|\n",
      "+-------------------+------+-------+-----+---------+\n",
      "|  I like     fish  |     1|    dog|housé|        1|\n",
      "|            zombies|     2|    cat|   tv|        1|\n",
      "|simpsons   cat lady|     2|   frog|table|        1|\n",
      "|               null|     3|  eagle|glass|        1|\n",
      "+-------------------+------+-------+-----+---------+\n",
      "\n"
     ]
    }
   ],
   "source": [
    "df.cols().rename(columns =[('num','number')]).show()"
   ]
  },
  {
   "cell_type": "markdown",
   "metadata": {},
   "source": [
    "## Cast a columns\n",
    "\n",
    "### Spark\n",
    "* Can not cast multiple columns\n",
    "\n",
    "### Pandas\n",
    "This is a opinionated way to handle column casting. \n",
    "One of the first thing that every data cleaning process need to acomplish is define a data dictionary.\n",
    "Because of that we prefer to create a tuple like this:\n",
    "\n",
    "df.cols().cast(\n",
    "[(\"words\",\"str\"),\n",
    "(\"num\",\"int\"),\n",
    "(\"animals\",\"float\"),\n",
    "(\"thing\",\"str\")]\n",
    ")\n",
    "\n",
    "instead of pandas\n",
    "\n",
    "pd.Series([1], dtype='int32')\n",
    "pd.Series([2], dtype='string')\n",
    "\n",
    "https://pandas.pydata.org/pandas-docs/stable/generated/pandas.DataFrame.astype.html"
   ]
  },
  {
   "cell_type": "code",
   "execution_count": 14,
   "metadata": {},
   "outputs": [
    {
     "data": {
      "text/plain": [
       "DataFrame[words: string, num: string, animals: string, thing: string, new_col_1: int]"
      ]
     },
     "execution_count": 14,
     "metadata": {},
     "output_type": "execute_result"
    }
   ],
   "source": [
    "df.cols().cast([(\"num\", \"string\")])"
   ]
  },
  {
   "cell_type": "markdown",
   "metadata": {},
   "source": [
    "## Keep columns\n",
    "### Spark\n",
    "* You can not remove multiple columns\n",
    "\n",
    "### Pandas\n",
    "* Handle in pandas with drop\n"
   ]
  },
  {
   "cell_type": "code",
   "execution_count": 15,
   "metadata": {},
   "outputs": [
    {
     "name": "stdout",
     "output_type": "stream",
     "text": [
      "+---+\n",
      "|num|\n",
      "+---+\n",
      "|  1|\n",
      "|  2|\n",
      "|  2|\n",
      "|  3|\n",
      "+---+\n",
      "\n"
     ]
    }
   ],
   "source": [
    "df.cols().keep(\"num\").show()"
   ]
  },
  {
   "cell_type": "markdown",
   "metadata": {},
   "source": [
    "## Move columns\n",
    "### Spark\n",
    "Do not exist in spark\n",
    "\n",
    "### Pandas\n",
    "Do not exist in pandas"
   ]
  },
  {
   "cell_type": "code",
   "execution_count": 16,
   "metadata": {},
   "outputs": [
    {
     "name": "stdout",
     "output_type": "stream",
     "text": [
      "+---+-------+-----+-------------------+---------+\n",
      "|num|animals|thing|              words|new_col_1|\n",
      "+---+-------+-----+-------------------+---------+\n",
      "|  1|    dog|housé|  I like     fish  |        1|\n",
      "|  2|    cat|   tv|            zombies|        1|\n",
      "|  2|   frog|table|simpsons   cat lady|        1|\n",
      "|  3|  eagle|glass|               null|        1|\n",
      "+---+-------+-----+-------------------+---------+\n",
      "\n"
     ]
    }
   ],
   "source": [
    "df.cols().move(\"words\", \"thing\", \"after\").show()"
   ]
  },
  {
   "cell_type": "markdown",
   "metadata": {},
   "source": [
    "## Sorting Columns\n",
    "### Spark\n",
    "You can not sort columns using Spark Vanilla API \n",
    "\n",
    "### Pandas\n",
    "Similar to pandas\n",
    "http://pandas.pydata.org/pandas-docs/version/0.19/generated/pandas.DataFrame.sort_values.html#pandas.DataFrame.sort_values"
   ]
  },
  {
   "cell_type": "code",
   "execution_count": 17,
   "metadata": {},
   "outputs": [
    {
     "name": "stdout",
     "output_type": "stream",
     "text": [
      "+-------+---------+---+-----+-------------------+\n",
      "|animals|new_col_1|num|thing|              words|\n",
      "+-------+---------+---+-----+-------------------+\n",
      "|    dog|        1|  1|housé|  I like     fish  |\n",
      "|    cat|        1|  2|   tv|            zombies|\n",
      "|   frog|        1|  2|table|simpsons   cat lady|\n",
      "|  eagle|        1|  3|glass|               null|\n",
      "+-------+---------+---+-----+-------------------+\n",
      "\n"
     ]
    }
   ],
   "source": [
    "df.cols().sort().show()"
   ]
  },
  {
   "cell_type": "code",
   "execution_count": 18,
   "metadata": {},
   "outputs": [
    {
     "name": "stdout",
     "output_type": "stream",
     "text": [
      "+-------------------+-----+---+---------+-------+\n",
      "|              words|thing|num|new_col_1|animals|\n",
      "+-------------------+-----+---+---------+-------+\n",
      "|  I like     fish  |housé|  1|        1|    dog|\n",
      "|            zombies|   tv|  2|        1|    cat|\n",
      "|simpsons   cat lady|table|  2|        1|   frog|\n",
      "|               null|glass|  3|        1|  eagle|\n",
      "+-------------------+-----+---+---------+-------+\n",
      "\n"
     ]
    }
   ],
   "source": [
    "df.cols().sort(reverse = True).show()"
   ]
  },
  {
   "cell_type": "markdown",
   "metadata": {},
   "source": [
    "## Drop columns\n",
    "### Spark \n",
    "* You can not delete multiple colums\n",
    "\n",
    "### Pandas\n",
    "* Almost the same as pandas\n",
    "https://pandas.pydata.org/pandas-docs/stable/generated/pandas.DataFrame.drop.html"
   ]
  },
  {
   "cell_type": "code",
   "execution_count": 19,
   "metadata": {},
   "outputs": [
    {
     "name": "stdout",
     "output_type": "stream",
     "text": [
      "+-------+-----+---------+\n",
      "|animals|thing|new_col_1|\n",
      "+-------+-----+---------+\n",
      "|    dog|housé|        1|\n",
      "|    cat|   tv|        1|\n",
      "|   frog|table|        1|\n",
      "|  eagle|glass|        1|\n",
      "+-------+-----+---------+\n",
      "\n"
     ]
    }
   ],
   "source": [
    "df2 = df.cols().drop(\"num\")\n",
    "df2 = df.cols().drop([\"num\",\"words\"])\n",
    "df2.show()"
   ]
  },
  {
   "cell_type": "markdown",
   "metadata": {},
   "source": [
    "## Chaining\n",
    "\n",
    "cols y rows functions are used to organize and encapsulate optimus' functionality apart of Apache Spark Dataframe API. This have a disadvantage at chaining time because we need to user invoke cols or rows in every step.\n",
    "\n",
    "At the same time it can be helpfull when you look at the code because every line is self explained."
   ]
  },
  {
   "cell_type": "code",
   "execution_count": 20,
   "metadata": {},
   "outputs": [
    {
     "name": "stdout",
     "output_type": "stream",
     "text": [
      "+-----+---------+---------+-------+\n",
      "|thing|new_col_2|new_col_1|animals|\n",
      "+-----+---------+---------+-------+\n",
      "|housé|spongebob|        1|    dog|\n",
      "|   tv|spongebob|        1|    cat|\n",
      "|table|spongebob|        1|   frog|\n",
      "|glass|spongebob|        1|  eagle|\n",
      "+-----+---------+---------+-------+\n",
      "\n"
     ]
    }
   ],
   "source": [
    "df\\\n",
    "    .cols().rename([('num','number')])\\\n",
    "    .cols().drop([\"number\",\"words\"])\\\n",
    "    .withColumn(\"new_col_2\", lit(\"spongebob\"))\\\n",
    "    .cols().create(\"new_col_1\", 1)\\\n",
    "    .cols().sort(reverse= True)\\\n",
    "    .show()"
   ]
  },
  {
   "cell_type": "markdown",
   "metadata": {},
   "source": [
    "## Split Columns\n",
    "### Spark\n",
    "\n",
    "### Pandas"
   ]
  },
  {
   "cell_type": "code",
   "execution_count": 62,
   "metadata": {},
   "outputs": [
    {
     "name": "stdout",
     "output_type": "stream",
     "text": [
      "+-------------------+---+-------+-----+-------------+-----+-----+-----+\n",
      "|              words|num|animals|thing|  two strings|COL_0|COL_1|COL_2|\n",
      "+-------------------+---+-------+-----+-------------+-----+-----+-----+\n",
      "|  I like     fish  |  1|    dog|housé|      cat-car|  cat|  car| null|\n",
      "|            zombies|  2|    cat|   tv|       dog-tv|  dog|   tv| null|\n",
      "|simpsons   cat lady|  2|   frog|table|eagle-tv-plus|eagle|   tv| plus|\n",
      "|               null|  3|  eagle|glass|      lion-pc| lion|   pc| null|\n",
      "+-------------------+---+-------+-----+-------------+-----+-----+-----+\n",
      "\n"
     ]
    }
   ],
   "source": [
    "df.cols().split(\"two strings\",\"-\", n=3).show()"
   ]
  },
  {
   "cell_type": "code",
   "execution_count": 59,
   "metadata": {},
   "outputs": [
    {
     "name": "stdout",
     "output_type": "stream",
     "text": [
      "+-------------------+---+-------+-----+-------------+-----+\n",
      "|              words|num|animals|thing|  two strings|COL_1|\n",
      "+-------------------+---+-------+-----+-------------+-----+\n",
      "|  I like     fish  |  1|    dog|housé|      cat-car|  car|\n",
      "|            zombies|  2|    cat|   tv|       dog-tv|   tv|\n",
      "|simpsons   cat lady|  2|   frog|table|eagle-tv-plus|   tv|\n",
      "|               null|  3|  eagle|glass|      lion-pc|   pc|\n",
      "+-------------------+---+-------+-----+-------------+-----+\n",
      "\n"
     ]
    }
   ],
   "source": [
    "df.cols().split(\"two strings\",\"-\", get = 1).show()"
   ]
  },
  {
   "cell_type": "markdown",
   "metadata": {},
   "source": [
    "## Filter"
   ]
  },
  {
   "cell_type": "code",
   "execution_count": 68,
   "metadata": {},
   "outputs": [
    {
     "name": "stdout",
     "output_type": "stream",
     "text": [
      "+-------------------+---+-------+-----+-------------+------+\n",
      "|              words|num|animals|thing|  two strings|filter|\n",
      "+-------------------+---+-------+-----+-------------+------+\n",
      "|  I like     fish  |  1|    dog|housé|      cat-car|     a|\n",
      "|            zombies|  2|    cat|   tv|       dog-tv|     b|\n",
      "|simpsons   cat lady|  2|   frog|table|eagle-tv-plus|     1|\n",
      "|               null|  3|  eagle|glass|      lion-pc|     c|\n",
      "+-------------------+---+-------+-----+-------------+------+\n",
      "\n"
     ]
    }
   ],
   "source": [
    "df.show()"
   ]
  },
  {
   "cell_type": "code",
   "execution_count": 82,
   "metadata": {},
   "outputs": [
    {
     "name": "stdout",
     "output_type": "stream",
     "text": [
      "filter\n",
      "+-------------------+---+-------+-----+-----------+------+\n",
      "|              words|num|animals|thing|two strings|filter|\n",
      "+-------------------+---+-------+-----+-----------+------+\n",
      "|  I like     fish  |  1|    dog|housé|    cat-car|     a|\n",
      "|            zombies|  2|    cat|   tv|     dog-tv|     b|\n",
      "|               null|  3|  eagle|glass|    lion-pc|     c|\n",
      "+-------------------+---+-------+-----+-----------+------+\n",
      "\n"
     ]
    }
   ],
   "source": [
    "df.rows().filter(\"filter\", type = \"integer\").show()"
   ]
  },
  {
   "cell_type": "code",
   "execution_count": null,
   "metadata": {},
   "outputs": [],
   "source": []
  }
 ],
 "metadata": {
  "kernelspec": {
   "display_name": "Python 3",
   "language": "python",
   "name": "python3"
  }
 },
 "nbformat": 4,
 "nbformat_minor": 2
}
