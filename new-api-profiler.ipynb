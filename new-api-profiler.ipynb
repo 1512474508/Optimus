{
 "cells": [
  {
   "cell_type": "code",
   "execution_count": 1,
   "metadata": {},
   "outputs": [],
   "source": [
    "%load_ext autoreload\n",
    "%autoreload 2"
   ]
  },
  {
   "cell_type": "code",
   "execution_count": 2,
   "metadata": {},
   "outputs": [],
   "source": [
    "from optimus import Optimus\n",
    "from optimus.profiler.functions import print_json as j"
   ]
  },
  {
   "cell_type": "code",
   "execution_count": 3,
   "metadata": {},
   "outputs": [
    {
     "name": "stdout",
     "output_type": "stream",
     "text": [
      "\n",
      "             ____        __  _                     \n",
      "            / __ \\____  / /_(_)___ ___  __  _______\n",
      "           / / / / __ \\/ __/ / __ `__ \\/ / / / ___/\n",
      "          / /_/ / /_/ / /_/ / / / / / / /_/ (__  ) \n",
      "          \\____/ .___/\\__/_/_/ /_/ /_/\\__,_/____/  \n",
      "              /_/                                  \n",
      "              \n",
      "Just checking that all necessary environments vars are present...\n",
      "-----\n",
      "PYSPARK_PYTHON=python\n",
      "SPARK_HOME=C:\\opt\\spark\\spark-2.3.1-bin-hadoop2.7\n",
      "JAVA_HOME=C:\\java8\n",
      "-----\n",
      "Starting or getting SparkSession and SparkContext...\n",
      "Setting checkpoint folder ( local ). If you are in a cluster initialize optimus with master='your_ip' as param\n",
      "Deleting previous folder if exists...\n",
      "Creating the checkpoint directory...\n",
      "Optimus successfully imported. Have fun :).\n"
     ]
    }
   ],
   "source": [
    "# Create optimus\n",
    "op = Optimus(master=\"local\", app_name= \"optimus\")"
   ]
  },
  {
   "cell_type": "code",
   "execution_count": 4,
   "metadata": {},
   "outputs": [],
   "source": [
    "df = op.read.csv(\"Meteorite_Landings.csv\", header=True)"
   ]
  },
  {
   "cell_type": "code",
   "execution_count": 5,
   "metadata": {},
   "outputs": [
    {
     "name": "stdout",
     "output_type": "stream",
     "text": [
      "+-------------------+---+--------+-----------+--------+----+--------------------+----------+-----------+--------------------+\n",
      "|               name| id|nametype|   recclass|mass (g)|fall|                year|    reclat|    reclong|         GeoLocation|\n",
      "+-------------------+---+--------+-----------+--------+----+--------------------+----------+-----------+--------------------+\n",
      "|             Aachen|  1|   Valid|         L5|      21|Fell|01/01/1880 12:00:...| 50.775000|   6.083330|(50.775000, 6.083...|\n",
      "|             Aarhus|  2|   Valid|         H6|     720|Fell|01/01/1951 12:00:...| 56.183330|  10.233330|(56.183330, 10.23...|\n",
      "|               Abee|  6|   Valid|        EH4|  107000|Fell|01/01/1952 12:00:...| 54.216670|-113.000000|(54.216670, -113....|\n",
      "|           Acapulco| 10|   Valid|Acapulcoite|    1914|Fell|01/01/1976 12:00:...| 16.883330| -99.900000|(16.883330, -99.9...|\n",
      "|            Achiras|370|   Valid|         L6|     780|Fell|01/01/1902 12:00:...|-33.166670| -64.950000|(-33.166670, -64....|\n",
      "|           Adhi Kot|379|   Valid|        EH4|    4239|Fell|01/01/1919 12:00:...| 32.100000|  71.800000|(32.100000, 71.80...|\n",
      "|Adzhi-Bogdo (stone)|390|   Valid|      LL3-6|     910|Fell|01/01/1949 12:00:...| 44.833330|  95.166670|(44.833330, 95.16...|\n",
      "|               Agen|392|   Valid|         H5|   30000|Fell|01/01/1814 12:00:...| 44.216670|   0.616670|(44.216670, 0.616...|\n",
      "|             Aguada|398|   Valid|         L6|    1620|Fell|01/01/1930 12:00:...|-31.600000| -65.233330|(-31.600000, -65....|\n",
      "|      Aguila Blanca|417|   Valid|          L|    1440|Fell|01/01/1920 12:00:...|-30.866670| -64.550000|(-30.866670, -64....|\n",
      "+-------------------+---+--------+-----------+--------+----+--------------------+----------+-----------+--------------------+\n",
      "only showing top 10 rows\n",
      "\n"
     ]
    }
   ],
   "source": [
    "df.show(10)"
   ]
  },
  {
   "cell_type": "code",
   "execution_count": 6,
   "metadata": {},
   "outputs": [],
   "source": [
    "df =df.cols().cast([(\"id\",\"integer\")])\n",
    "df.dtypes\n",
    "\n",
    "from optimus.profiler.profiler import Profiler\n",
    "profiler = Profiler()"
   ]
  },
  {
   "cell_type": "code",
   "execution_count": 7,
   "metadata": {},
   "outputs": [
    {
     "data": {
      "text/plain": [
       "[('name', 'string'),\n",
       " ('id', 'int'),\n",
       " ('nametype', 'string'),\n",
       " ('recclass', 'string'),\n",
       " ('mass (g)', 'string'),\n",
       " ('fall', 'string'),\n",
       " ('year', 'string'),\n",
       " ('reclat', 'string'),\n",
       " ('reclong', 'string'),\n",
       " ('GeoLocation', 'string')]"
      ]
     },
     "execution_count": 7,
     "metadata": {},
     "output_type": "execute_result"
    }
   ],
   "source": [
    "df.dtypes"
   ]
  },
  {
   "cell_type": "code",
   "execution_count": 8,
   "metadata": {},
   "outputs": [
    {
     "data": {
      "text/plain": [
       "{'id': [{'bucket': 0.0, 'count': 4532, 'max': 5689, 'min': 1},\n",
       "  {'bucket': 1.0, 'count': 4582, 'max': 10308, 'min': 5690},\n",
       "  {'bucket': 2.0, 'count': 4591, 'max': 14976, 'min': 10309},\n",
       "  {'bucket': 3.0, 'count': 4569, 'max': 19611, 'min': 14977},\n",
       "  {'bucket': 4.0, 'count': 4568, 'max': 24245, 'min': 19612},\n",
       "  {'bucket': 5.0, 'count': 4557, 'max': 29601, 'min': 24246},\n",
       "  {'bucket': 6.0, 'count': 4560, 'max': 36353, 'min': 29602},\n",
       "  {'bucket': 7.0, 'count': 4579, 'max': 46668, 'min': 36354},\n",
       "  {'bucket': 8.0, 'count': 4567, 'max': 51942, 'min': 46669},\n",
       "  {'bucket': 9.0, 'count': 4611, 'max': 57458, 'min': 51943}],\n",
       " 'reclat': [{'bucket': None, 'count': 0, 'max': None, 'min': None},\n",
       "  {'bucket': 0.0, 'count': 1423, 'max': -85, 'min': -87},\n",
       "  {'bucket': 1.0, 'count': 5755, 'max': -80, 'min': -84},\n",
       "  {'bucket': 2.0, 'count': 1201, 'max': -77, 'min': -79},\n",
       "  {'bucket': 3.0, 'count': 4132, 'max': -73, 'min': -76},\n",
       "  {'bucket': 4.0, 'count': 4699, 'max': -72, 'min': -72},\n",
       "  {'bucket': 5.0, 'count': 5771, 'max': -25, 'min': -71},\n",
       "  {'bucket': 6.0, 'count': 432, 'max': -1, 'min': -24},\n",
       "  {'bucket': 7.0, 'count': 6572, 'max': 17, 'min': 0},\n",
       "  {'bucket': 8.0, 'count': 3739, 'max': 26, 'min': 18},\n",
       "  {'bucket': 9.0, 'count': 4677, 'max': 81, 'min': 27}]}"
      ]
     },
     "execution_count": 8,
     "metadata": {},
     "output_type": "execute_result"
    }
   ],
   "source": [
    "df =df.cols().cast([('reclat','integer')])\n",
    "df.hist(['reclat','id'])"
   ]
  },
  {
   "cell_type": "code",
   "execution_count": 9,
   "metadata": {},
   "outputs": [
    {
     "name": "stdout",
     "output_type": "stream",
     "text": [
      "<class 'dict'>\n"
     ]
    }
   ],
   "source": [
    "p =Profiler.columns(df, ['recclass','id'])"
   ]
  },
  {
   "cell_type": "code",
   "execution_count": 10,
   "metadata": {},
   "outputs": [
    {
     "name": "stdout",
     "output_type": "stream",
     "text": [
      "{\n",
      "  \"columns\": {\n",
      "    \"recclass\": {\n",
      "      \"uniques_count\": 466,\n",
      "      \"p_uniques\": 1.0193367748709423,\n",
      "      \"missing_count\": 0,\n",
      "      \"p_missing\": 0.0,\n",
      "      \"frequency\": [\n",
      "        {\n",
      "          \"value\": \"L6\",\n",
      "          \"count\": 8285,\n",
      "          \"percentage\": 18.12275789657888\n",
      "        },\n",
      "        {\n",
      "          \"value\": \"H5\",\n",
      "          \"count\": 7142,\n",
      "          \"percentage\": 15.622539154781695\n",
      "        },\n",
      "        {\n",
      "          \"value\": \"L5\",\n",
      "          \"count\": 4796,\n",
      "          \"percentage\": 10.490856592877767\n",
      "        },\n",
      "        {\n",
      "          \"value\": \"H6\",\n",
      "          \"count\": 4528,\n",
      "          \"percentage\": 9.904628576428385\n",
      "        },\n",
      "        {\n",
      "          \"value\": \"H4\",\n",
      "          \"count\": 4211,\n",
      "          \"percentage\": 9.211217079359525\n",
      "        },\n",
      "        {\n",
      "          \"value\": \"LL5\",\n",
      "          \"count\": 2766,\n",
      "          \"percentage\": 6.050398110070873\n",
      "        },\n",
      "        {\n",
      "          \"value\": \"LL6\",\n",
      "          \"count\": 2043,\n",
      "          \"percentage\": 4.468894916440633\n",
      "        },\n",
      "        {\n",
      "          \"value\": \"L4\",\n",
      "          \"count\": 1253,\n",
      "          \"percentage\": 2.740834718698049\n",
      "        },\n",
      "        {\n",
      "          \"value\": \"H4/5\",\n",
      "          \"count\": 428,\n",
      "          \"percentage\": 0.9362148919415522\n",
      "        },\n",
      "        {\n",
      "          \"value\": \"CM2\",\n",
      "          \"count\": 416,\n",
      "          \"percentage\": 0.9099658762796395\n",
      "        }\n",
      "      ]\n",
      "    },\n",
      "    \"id\": {\n",
      "      \"uniques_count\": 45716,\n",
      "      \"p_uniques\": 100.0,\n",
      "      \"missing_count\": 0,\n",
      "      \"p_missing\": 0.0,\n",
      "      \"min\": 1,\n",
      "      \"max\": 57458,\n",
      "      \"quantile\": {\n",
      "        \"0.05\": 2434.0,\n",
      "        \"0.25\": 12688.0,\n",
      "        \"0.5\": 24261.0,\n",
      "        \"0.75\": 40656.0,\n",
      "        \"0.95\": 54892.0\n",
      "      },\n",
      "      \"range\": 57457,\n",
      "      \"median\": 24261.0,\n",
      "      \"interquartile_range\": 27968.0,\n",
      "      \"stdev\": 16860.68303027626,\n",
      "      \"kurt\": -1.1602608393254024,\n",
      "      \"mean\": 26889.73510368361,\n",
      "      \"mad\": 13263.0,\n",
      "      \"skewness\": 0.2665372193930267,\n",
      "      \"sum\": 1229291130,\n",
      "      \"variance\": 284282632.2474458,\n",
      "      \"zeros\": 0,\n",
      "      \"p_zeros\": 0.0,\n",
      "      \"hist\": [\n",
      "        {\n",
      "          \"bucket\": 0.0,\n",
      "          \"min\": 1,\n",
      "          \"max\": 5689,\n",
      "          \"count\": 4532\n",
      "        },\n",
      "        {\n",
      "          \"bucket\": 1.0,\n",
      "          \"min\": 5690,\n",
      "          \"max\": 10308,\n",
      "          \"count\": 4582\n",
      "        },\n",
      "        {\n",
      "          \"bucket\": 2.0,\n",
      "          \"min\": 10309,\n",
      "          \"max\": 14976,\n",
      "          \"count\": 4591\n",
      "        },\n",
      "        {\n",
      "          \"bucket\": 3.0,\n",
      "          \"min\": 14977,\n",
      "          \"max\": 19611,\n",
      "          \"count\": 4569\n",
      "        },\n",
      "        {\n",
      "          \"bucket\": 4.0,\n",
      "          \"min\": 19612,\n",
      "          \"max\": 24245,\n",
      "          \"count\": 4568\n",
      "        },\n",
      "        {\n",
      "          \"bucket\": 5.0,\n",
      "          \"min\": 24246,\n",
      "          \"max\": 29601,\n",
      "          \"count\": 4557\n",
      "        },\n",
      "        {\n",
      "          \"bucket\": 6.0,\n",
      "          \"min\": 29602,\n",
      "          \"max\": 36353,\n",
      "          \"count\": 4560\n",
      "        },\n",
      "        {\n",
      "          \"bucket\": 7.0,\n",
      "          \"min\": 36354,\n",
      "          \"max\": 46668,\n",
      "          \"count\": 4579\n",
      "        },\n",
      "        {\n",
      "          \"bucket\": 8.0,\n",
      "          \"min\": 46669,\n",
      "          \"max\": 51942,\n",
      "          \"count\": 4567\n",
      "        },\n",
      "        {\n",
      "          \"bucket\": 9.0,\n",
      "          \"min\": 51943,\n",
      "          \"max\": 57458,\n",
      "          \"count\": 4611\n",
      "        }\n",
      "      ]\n",
      "    }\n",
      "  },\n",
      "  \"rows_count\": 45716\n",
      "}\n"
     ]
    }
   ],
   "source": [
    "j(p)"
   ]
  },
  {
   "cell_type": "code",
   "execution_count": 11,
   "metadata": {},
   "outputs": [
    {
     "data": {
      "text/plain": [
       "{'cols_count': 10,\n",
       " 'missing': {'GeoLocation': 7315,\n",
       "  'fall': 0,\n",
       "  'id': 0,\n",
       "  'mass (g)': 131,\n",
       "  'name': 0,\n",
       "  'nametype': 0,\n",
       "  'recclass': 0,\n",
       "  'reclat': 7315,\n",
       "  'reclong': 7315,\n",
       "  'year': 288},\n",
       " 'rows_count': 45716}"
      ]
     },
     "execution_count": 11,
     "metadata": {},
     "output_type": "execute_result"
    }
   ],
   "source": [
    "Profiler.dataset_info(df)"
   ]
  },
  {
   "cell_type": "code",
   "execution_count": 12,
   "metadata": {},
   "outputs": [
    {
     "data": {
      "text/plain": [
       "{'GeoLocation': {'details': {'boolean': 0,\n",
       "   'float': 0,\n",
       "   'integer': 0,\n",
       "   'missing': 0,\n",
       "   'null': 7315,\n",
       "   'string': 38401},\n",
       "  'type': 'string'},\n",
       " 'fall': {'details': {'boolean': 0,\n",
       "   'float': 0,\n",
       "   'integer': 0,\n",
       "   'missing': 0,\n",
       "   'null': 0,\n",
       "   'string': 45716},\n",
       "  'type': 'string'},\n",
       " 'id': {'details': {'boolean': 0,\n",
       "   'float': 0,\n",
       "   'integer': 45716,\n",
       "   'missing': 0,\n",
       "   'null': 0,\n",
       "   'string': 0},\n",
       "  'type': 'integer'},\n",
       " 'mass (g)': {'details': {'boolean': 0,\n",
       "   'float': 32526,\n",
       "   'integer': 13059,\n",
       "   'missing': 0,\n",
       "   'null': 131,\n",
       "   'string': 0},\n",
       "  'type': 'float'},\n",
       " 'name': {'details': {'boolean': 0,\n",
       "   'float': 0,\n",
       "   'integer': 0,\n",
       "   'missing': 0,\n",
       "   'null': 0,\n",
       "   'string': 45716},\n",
       "  'type': 'string'},\n",
       " 'nametype': {'details': {'boolean': 0,\n",
       "   'float': 0,\n",
       "   'integer': 0,\n",
       "   'missing': 0,\n",
       "   'null': 0,\n",
       "   'string': 45716},\n",
       "  'type': 'string'},\n",
       " 'recclass': {'details': {'boolean': 0,\n",
       "   'float': 0,\n",
       "   'integer': 0,\n",
       "   'missing': 0,\n",
       "   'null': 0,\n",
       "   'string': 45716},\n",
       "  'type': 'string'},\n",
       " 'reclat': {'details': {'boolean': 0,\n",
       "   'float': 0,\n",
       "   'integer': 38401,\n",
       "   'missing': 0,\n",
       "   'null': 7315,\n",
       "   'string': 0},\n",
       "  'type': 'integer'},\n",
       " 'reclong': {'details': {'boolean': 0,\n",
       "   'float': 38401,\n",
       "   'integer': 0,\n",
       "   'missing': 0,\n",
       "   'null': 7315,\n",
       "   'string': 0},\n",
       "  'type': 'float'},\n",
       " 'year': {'details': {'boolean': 0,\n",
       "   'float': 0,\n",
       "   'integer': 0,\n",
       "   'missing': 0,\n",
       "   'null': 288,\n",
       "   'string': 45428},\n",
       "  'type': 'string'}}"
      ]
     },
     "execution_count": 12,
     "metadata": {},
     "output_type": "execute_result"
    }
   ],
   "source": [
    "Profiler.count_data_types(df,'*')"
   ]
  },
  {
   "cell_type": "markdown",
   "metadata": {},
   "source": [
    "## Server"
   ]
  },
  {
   "cell_type": "code",
   "execution_count": 31,
   "metadata": {},
   "outputs": [
    {
     "data": {
      "text/plain": [
       "{'reclat': 138}"
      ]
     },
     "execution_count": 31,
     "metadata": {},
     "output_type": "execute_result"
    }
   ],
   "source": [
    "df.cols().count_uniques('reclat')"
   ]
  },
  {
   "cell_type": "code",
   "execution_count": null,
   "metadata": {},
   "outputs": [],
   "source": []
  }
 ],
 "metadata": {
  "kernelspec": {
   "display_name": "Python 3",
   "language": "python",
   "name": "python3"
  },
  "language_info": {
   "codemirror_mode": {
    "name": "ipython",
    "version": 3
   },
   "file_extension": ".py",
   "mimetype": "text/x-python",
   "name": "python",
   "nbconvert_exporter": "python",
   "pygments_lexer": "ipython3",
   "version": "3.6.4"
  }
 },
 "nbformat": 4,
 "nbformat_minor": 2
}
