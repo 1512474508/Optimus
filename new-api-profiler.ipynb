{
 "cells": [
  {
   "cell_type": "code",
   "execution_count": 1,
   "metadata": {},
   "outputs": [],
   "source": [
    "%load_ext autoreload\n",
    "%autoreload 2"
   ]
  },
  {
   "cell_type": "code",
   "execution_count": 180,
   "metadata": {},
   "outputs": [],
   "source": [
    "from optimus import Optimus\n",
    "from optimus.profiler.functions import print_json as j"
   ]
  },
  {
   "cell_type": "code",
   "execution_count": 3,
   "metadata": {},
   "outputs": [
    {
     "name": "stdout",
     "output_type": "stream",
     "text": [
      "\n",
      "             ____        __  _                     \n",
      "            / __ \\____  / /_(_)___ ___  __  _______\n",
      "           / / / / __ \\/ __/ / __ `__ \\/ / / / ___/\n",
      "          / /_/ / /_/ / /_/ / / / / / / /_/ (__  ) \n",
      "          \\____/ .___/\\__/_/_/ /_/ /_/\\__,_/____/  \n",
      "              /_/                                  \n",
      "              \n",
      "Just checking that all necessary environments vars are present...\n",
      "-----\n",
      "PYSPARK_PYTHON=python\n",
      "SPARK_HOME=C:\\opt\\spark\\spark-2.3.1-bin-hadoop2.7\n",
      "JAVA_HOME=C:\\java8\n",
      "-----\n",
      "Starting or getting SparkSession and SparkContext...\n",
      "Setting checkpoint folder ( local ). If you are in a cluster initialize optimus with master='your_ip' as param\n",
      "Deleting previous folder if exists...\n",
      "Creating the checkpoint directory...\n",
      "Optimus successfully imported. Have fun :).\n"
     ]
    }
   ],
   "source": [
    "# Create optimus\n",
    "op = Optimus(master=\"local\", app_name= \"optimus\")"
   ]
  },
  {
   "cell_type": "code",
   "execution_count": 182,
   "metadata": {},
   "outputs": [],
   "source": [
    "df = op.read.csv(\"Meteorite_Landings.csv\", header=True)"
   ]
  },
  {
   "cell_type": "code",
   "execution_count": 5,
   "metadata": {},
   "outputs": [
    {
     "name": "stdout",
     "output_type": "stream",
     "text": [
      "+-------------------+---+--------+-----------+--------+----+--------------------+----------+-----------+--------------------+\n",
      "|               name| id|nametype|   recclass|mass (g)|fall|                year|    reclat|    reclong|         GeoLocation|\n",
      "+-------------------+---+--------+-----------+--------+----+--------------------+----------+-----------+--------------------+\n",
      "|             Aachen|  1|   Valid|         L5|      21|Fell|01/01/1880 12:00:...| 50.775000|   6.083330|(50.775000, 6.083...|\n",
      "|             Aarhus|  2|   Valid|         H6|     720|Fell|01/01/1951 12:00:...| 56.183330|  10.233330|(56.183330, 10.23...|\n",
      "|               Abee|  6|   Valid|        EH4|  107000|Fell|01/01/1952 12:00:...| 54.216670|-113.000000|(54.216670, -113....|\n",
      "|           Acapulco| 10|   Valid|Acapulcoite|    1914|Fell|01/01/1976 12:00:...| 16.883330| -99.900000|(16.883330, -99.9...|\n",
      "|            Achiras|370|   Valid|         L6|     780|Fell|01/01/1902 12:00:...|-33.166670| -64.950000|(-33.166670, -64....|\n",
      "|           Adhi Kot|379|   Valid|        EH4|    4239|Fell|01/01/1919 12:00:...| 32.100000|  71.800000|(32.100000, 71.80...|\n",
      "|Adzhi-Bogdo (stone)|390|   Valid|      LL3-6|     910|Fell|01/01/1949 12:00:...| 44.833330|  95.166670|(44.833330, 95.16...|\n",
      "|               Agen|392|   Valid|         H5|   30000|Fell|01/01/1814 12:00:...| 44.216670|   0.616670|(44.216670, 0.616...|\n",
      "|             Aguada|398|   Valid|         L6|    1620|Fell|01/01/1930 12:00:...|-31.600000| -65.233330|(-31.600000, -65....|\n",
      "|      Aguila Blanca|417|   Valid|          L|    1440|Fell|01/01/1920 12:00:...|-30.866670| -64.550000|(-30.866670, -64....|\n",
      "+-------------------+---+--------+-----------+--------+----+--------------------+----------+-----------+--------------------+\n",
      "only showing top 10 rows\n",
      "\n"
     ]
    }
   ],
   "source": [
    "df.show(10)"
   ]
  },
  {
   "cell_type": "code",
   "execution_count": 6,
   "metadata": {},
   "outputs": [],
   "source": [
    "from pyspark.sql.types import StructType, StructField, StringType, BooleanType, IntegerType, ArrayType\n",
    "df = op.create.df(\n",
    "            [\n",
    "                (\"words\", \"str\", True),\n",
    "                (\"num\", \"int\", True),\n",
    "                (\"animals\", \"str\", True),\n",
    "                (\"thing\", StringType(), True),\n",
    "                (\"two strings\", StringType(), True),\n",
    "                (\"filter\", StringType(), True),\n",
    "                (\"num 2\", \"int\", True),\n",
    "                (\"bool\", \"string\", True)\n",
    "\n",
    "            ]\n",
    ",\n",
    "[\n",
    "                (\"  I like     fish  \", 1, \"dog\", \"housé\", \"cat-car\", \"a\",1, \"True\"),\n",
    "                (\"    zombies\", 2, \"cat\", \"tv\", \"dog-tv\", \"b\",2, \"True\"),\n",
    "                (\"simpsons   cat lady\", 2, \"frog\", \"table\",\"eagle-tv-plus\",\"1\",3, \"False\"),\n",
    "                (None, 3, \"eagle\", \"glass\", \"lion-pc\", \"c\",4, \"False\"),\n",
    "                (None, 3, \"eagle\", \"glass\", \"lion-pc\", \"True\",1, False)\n",
    "            ])"
   ]
  },
  {
   "cell_type": "code",
   "execution_count": 7,
   "metadata": {},
   "outputs": [],
   "source": [
    "profiler = op.profiler(df)"
   ]
  },
  {
   "cell_type": "code",
   "execution_count": 9,
   "metadata": {},
   "outputs": [
    {
     "data": {
      "text/plain": [
       "{'num': {0.05: 1.0, 0.25: 2.0, 0.5: 2.0, 0.75: 3.0, 0.95: 3.0},\n",
       " 'num 2': {0.05: 1.0, 0.25: 1.0, 0.5: 2.0, 0.75: 3.0, 0.95: 4.0}}"
      ]
     },
     "execution_count": 9,
     "metadata": {},
     "output_type": "execute_result"
    }
   ],
   "source": [
    "columns = ['num', 'num 2']\n",
    "percentiles = [0.05, 0.25, 0.5, 0.75, 0.95]\n",
    "result =df.approxQuantile(columns, percentiles, 0)\n",
    "\n",
    "#print(dict(zip(p, r[0])))\n",
    "percentile_value =list(map(lambda r:dict(zip(percentiles,r)),result))\n",
    "dict(zip(columns, percentile_value))"
   ]
  },
  {
   "cell_type": "code",
   "execution_count": 148,
   "metadata": {},
   "outputs": [
    {
     "data": {
      "text/plain": [
       "2.0"
      ]
     },
     "execution_count": 148,
     "metadata": {},
     "output_type": "execute_result"
    }
   ],
   "source": [
    "df.cols().median(['num'])"
   ]
  },
  {
   "cell_type": "code",
   "execution_count": 152,
   "metadata": {},
   "outputs": [
    {
     "data": {
      "text/plain": [
       "{0.5: 2.0, 0.7: 3.0}"
      ]
     },
     "execution_count": 152,
     "metadata": {},
     "output_type": "execute_result"
    }
   ],
   "source": [
    "a = df.cols().percentile(['num'], [0.5, 0.7])\n",
    "a\n"
   ]
  },
  {
   "cell_type": "code",
   "execution_count": 176,
   "metadata": {},
   "outputs": [],
   "source": [
    "p =profiler.columns(['num','filter'])"
   ]
  },
  {
   "cell_type": "code",
   "execution_count": 181,
   "metadata": {},
   "outputs": [
    {
     "name": "stdout",
     "output_type": "stream",
     "text": [
      "{\n",
      "  \"columns\": {\n",
      "    \"num\": {\n",
      "      \"uniques_count\": 3,\n",
      "      \"p_uniques\": 60.0,\n",
      "      \"missing_count\": 0,\n",
      "      \"p_missing\": 0.0,\n",
      "      \"min\": 1,\n",
      "      \"max\": 3,\n",
      "      \"quantile\": {\n",
      "        \"0.05\": 1.0,\n",
      "        \"0.25\": 2.0,\n",
      "        \"0.5\": 2.0,\n",
      "        \"0.75\": 3.0,\n",
      "        \"0.95\": 3.0\n",
      "      },\n",
      "      \"range\": 2,\n",
      "      \"median\": 2.0,\n",
      "      \"interquartile_range\": 1.0,\n",
      "      \"stdev\": 0.8366600265340756,\n",
      "      \"kurt\": -1.1530612244897953,\n",
      "      \"mean\": 2.2,\n",
      "      \"mad\": 1.0,\n",
      "      \"skewness\": -0.343621596744546,\n",
      "      \"sum\": 11,\n",
      "      \"variance\": 0.7,\n",
      "      \"zeros\": 0,\n",
      "      \"p_zeros\": 0.0\n",
      "    },\n",
      "    \"filter\": {\n",
      "      \"uniques_count\": 5,\n",
      "      \"p_uniques\": 100.0,\n",
      "      \"missing_count\": 0,\n",
      "      \"p_missing\": 0.0,\n",
      "      \"frequency\": [\n",
      "        {\n",
      "          \"value\": 3,\n",
      "          \"count\": 2,\n",
      "          \"percentage\": 40.0\n",
      "        },\n",
      "        {\n",
      "          \"value\": 2,\n",
      "          \"count\": 2,\n",
      "          \"percentage\": 40.0\n",
      "        },\n",
      "        {\n",
      "          \"value\": 1,\n",
      "          \"count\": 1,\n",
      "          \"percentage\": 20.0\n",
      "        }\n",
      "      ]\n",
      "    }\n",
      "  },\n",
      "  \"rows_count\": 5\n",
      "}\n"
     ]
    }
   ],
   "source": [
    "j(p)"
   ]
  },
  {
   "cell_type": "code",
   "execution_count": 165,
   "metadata": {},
   "outputs": [
    {
     "data": {
      "text/plain": [
       "1.0"
      ]
     },
     "execution_count": 165,
     "metadata": {},
     "output_type": "execute_result"
    }
   ],
   "source": [
    "p[\"columns\"][\"num\"][\"quantile\"][0.05]"
   ]
  },
  {
   "cell_type": "code",
   "execution_count": 141,
   "metadata": {},
   "outputs": [
    {
     "data": {
      "text/plain": [
       "{0.05: 1.0, 0.25: 2.0, 0.5: 2.0, 0.75: 3.0, 0.95: 3.0}"
      ]
     },
     "execution_count": 141,
     "metadata": {},
     "output_type": "execute_result"
    }
   ],
   "source": [
    "df.cols().percentile(\"num\", [0.05, 0.25, 0.5, 0.75, 0.95])"
   ]
  },
  {
   "cell_type": "code",
   "execution_count": null,
   "metadata": {},
   "outputs": [],
   "source": [
    "profiler.dataset_info()"
   ]
  },
  {
   "cell_type": "code",
   "execution_count": 35,
   "metadata": {},
   "outputs": [],
   "source": [
    "a = profiler.count_data_types('*')"
   ]
  },
  {
   "cell_type": "code",
   "execution_count": 41,
   "metadata": {},
   "outputs": [
    {
     "name": "stdout",
     "output_type": "stream",
     "text": [
      "{'null': 2, 'missing': 0, 'string': 3, 'boolean': 0, 'integer': 0, 'float': 0}\n"
     ]
    }
   ],
   "source": [
    "b =a['words']\n",
    "max(b, key=b.get)\n",
    "print (b)"
   ]
  },
  {
   "cell_type": "code",
   "execution_count": 8,
   "metadata": {},
   "outputs": [
    {
     "data": {
      "text/plain": [
       "{'string': 5, 'integer': 2, 'boolean': 1, 'null': 0, 'float': 0}"
      ]
     },
     "execution_count": 8,
     "metadata": {},
     "output_type": "execute_result"
    }
   ],
   "source": [
    "profiler.columns_by_data_types('*')"
   ]
  },
  {
   "cell_type": "code",
   "execution_count": 196,
   "metadata": {},
   "outputs": [
    {
     "data": {
      "image/png": "[encoded data removed]",
      "text/plain": [
       "<matplotlib.figure.Figure at 0x22c1b88eb38>"
      ]
     },
     "metadata": {},
     "output_type": "display_data"
    }
   ],
   "source": [
    "import pandas as pd\n",
    "pd.DataFrame(\n",
    "    list(zip(*gre_histogram)), \n",
    "    columns=['bin', 'frequency']\n",
    ").set_index(\n",
    "    'bin'\n",
    ").plot(kind='bar');\n"
   ]
  },
  {
   "cell_type": "code",
   "execution_count": null,
   "metadata": {},
   "outputs": [],
   "source": []
  }
 ],
 "metadata": {
  "kernelspec": {
   "display_name": "Python 3",
   "language": "python",
   "name": "python3"
  },
  "language_info": {
   "codemirror_mode": {
    "name": "ipython",
    "version": 3
   },
   "file_extension": ".py",
   "mimetype": "text/x-python",
   "name": "python",
   "nbconvert_exporter": "python",
   "pygments_lexer": "ipython3",
   "version": "3.6.4"
  }
 },
 "nbformat": 4,
 "nbformat_minor": 2
}
