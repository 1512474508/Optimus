{
 "cells": [
  {
   "cell_type": "markdown",
   "metadata": {},
   "source": [
    "### All this cell must be run to executed the tests"
   ]
  },
  {
   "cell_type": "code",
   "execution_count": 1,
   "metadata": {},
   "outputs": [],
   "source": [
    "%load_ext autoreload\n",
    "%autoreload 2"
   ]
  },
  {
   "cell_type": "code",
   "execution_count": 2,
   "metadata": {},
   "outputs": [],
   "source": [
    "import sys"
   ]
  },
  {
   "cell_type": "code",
   "execution_count": 7,
   "metadata": {},
   "outputs": [],
   "source": [
    "sys.path.append(\"../..\")"
   ]
  },
  {
   "cell_type": "code",
   "execution_count": 8,
   "metadata": {},
   "outputs": [],
   "source": [
    "from optimus import Optimus\n",
    "from optimus.helpers.test import Test"
   ]
  },
  {
   "cell_type": "code",
   "execution_count": 9,
   "metadata": {},
   "outputs": [
    {
     "data": {
      "text/html": [
       "<style> /* Tables*/\n",
       "\n",
       " .data_type {\n",
       "        font-size: 0.8em;\n",
       "        font-weight: normal;\n",
       "    }\n",
       "\n",
       "    .column_name {\n",
       "        font-size: 1.2em;\n",
       "    }\n",
       "\n",
       "    .info_items {\n",
       "        margin: 10px 0;\n",
       "        font-size: 0.8em;\n",
       "    }\n",
       "\n",
       "    .optimus_table td {\n",
       "        padding: 2px;\n",
       "        border-left: 1px solid #cccccc;\n",
       "        border-right: 1px solid #cccccc;\n",
       "    }\n",
       "\n",
       "    .optimus_table tr:nth-child(even) {\n",
       "        background-color: #f2f2f2 !important;\n",
       "    }\n",
       "\n",
       "    .optimus_table tr:nth-child(odd) {\n",
       "        background-color: #ffffff !important;\n",
       "    }\n",
       "\n",
       "    .optimus_table thead {\n",
       "        border-bottom: 1px solid black;\n",
       "    }\n",
       "    .optimus_table{\n",
       "        font-size: 12px;\n",
       "    }\n",
       "\n",
       "    .optimus_table tbody{\n",
       "        font-family: monospace;\n",
       "        border-bottom: 1px solid #cccccc;\n",
       "    }\n",
       "\n",
       "    /* Profiler */\n",
       "        .main{\n",
       "        width:100%;\n",
       "        overflow:auto;\n",
       "        border-bottom:1px solid #eeeeee;\n",
       "        padding: 10px 0;\n",
       "    }\n",
       "    .panel_profiler{\n",
       "        margin-right:2%;\n",
       "        float:left;\n",
       "        padding-bottom:2%;\n",
       "    }\n",
       "    .panel_profiler tbody{\n",
       "        font-family:monospace;\n",
       "    }\n",
       "    .title_profiler{\n",
       "        padding:20px;\n",
       "        background-color: #eeeeee\n",
       "    }\n",
       "    .info{\n",
       "        overflow: auto\n",
       "    }\n",
       "    .main td, main th{\n",
       "        padding:0em\n",
       "    }\n",
       "    .panel_profiler td {\n",
       "        padding:0.2em\n",
       "    }\n",
       "\n",
       "</style>"
      ],
      "text/plain": [
       "<IPython.core.display.HTML object>"
      ]
     },
     "metadata": {},
     "output_type": "display_data"
    }
   ],
   "source": [
    "op = Optimus(master='local')"
   ]
  },
  {
   "cell_type": "code",
   "execution_count": 10,
   "metadata": {
    "lines_to_next_cell": 2
   },
   "outputs": [
    {
     "data": {
      "text/html": [
       "\n",
       "\n",
       "\n",
       "\n",
       "\n",
       "<div class=\"info_items\">Viewing 6 of 6 rows / 16 columns</div>\n",
       "<div class=\"info_items\">8 partition(s)</div>\n",
       "\n",
       "<table class=\"optimus_table\">\n",
       "    <thead>\n",
       "    <tr>\n",
       "        \n",
       "        <th>\n",
       "            <div class=\"column_name\">names</div>\n",
       "            <div class=\"data_type\">1 (string)</div>\n",
       "            <div class=\"data_type\">\n",
       "                \n",
       "                nullable\n",
       "                \n",
       "            </div>\n",
       "        </th>\n",
       "        \n",
       "        <th>\n",
       "            <div class=\"column_name\">height(ft)</div>\n",
       "            <div class=\"data_type\">2 (smallint)</div>\n",
       "            <div class=\"data_type\">\n",
       "                \n",
       "                nullable\n",
       "                \n",
       "            </div>\n",
       "        </th>\n",
       "        \n",
       "        <th>\n",
       "            <div class=\"column_name\">function</div>\n",
       "            <div class=\"data_type\">3 (string)</div>\n",
       "            <div class=\"data_type\">\n",
       "                \n",
       "                nullable\n",
       "                \n",
       "            </div>\n",
       "        </th>\n",
       "        \n",
       "        <th>\n",
       "            <div class=\"column_name\">rank</div>\n",
       "            <div class=\"data_type\">4 (tinyint)</div>\n",
       "            <div class=\"data_type\">\n",
       "                \n",
       "                nullable\n",
       "                \n",
       "            </div>\n",
       "        </th>\n",
       "        \n",
       "        <th>\n",
       "            <div class=\"column_name\">age</div>\n",
       "            <div class=\"data_type\">5 (int)</div>\n",
       "            <div class=\"data_type\">\n",
       "                \n",
       "                nullable\n",
       "                \n",
       "            </div>\n",
       "        </th>\n",
       "        \n",
       "        <th>\n",
       "            <div class=\"column_name\">weight(t)</div>\n",
       "            <div class=\"data_type\">6 (float)</div>\n",
       "            <div class=\"data_type\">\n",
       "                \n",
       "                nullable\n",
       "                \n",
       "            </div>\n",
       "        </th>\n",
       "        \n",
       "        <th>\n",
       "            <div class=\"column_name\">japanese name</div>\n",
       "            <div class=\"data_type\">7 (array&lt;string&gt;)</div>\n",
       "            <div class=\"data_type\">\n",
       "                \n",
       "                nullable\n",
       "                \n",
       "            </div>\n",
       "        </th>\n",
       "        \n",
       "        <th>\n",
       "            <div class=\"column_name\">last position seen</div>\n",
       "            <div class=\"data_type\">8 (string)</div>\n",
       "            <div class=\"data_type\">\n",
       "                \n",
       "                nullable\n",
       "                \n",
       "            </div>\n",
       "        </th>\n",
       "        \n",
       "        <th>\n",
       "            <div class=\"column_name\">date arrival</div>\n",
       "            <div class=\"data_type\">9 (string)</div>\n",
       "            <div class=\"data_type\">\n",
       "                \n",
       "                nullable\n",
       "                \n",
       "            </div>\n",
       "        </th>\n",
       "        \n",
       "        <th>\n",
       "            <div class=\"column_name\">last date seen</div>\n",
       "            <div class=\"data_type\">10 (string)</div>\n",
       "            <div class=\"data_type\">\n",
       "                \n",
       "                nullable\n",
       "                \n",
       "            </div>\n",
       "        </th>\n",
       "        \n",
       "        <th>\n",
       "            <div class=\"column_name\">attributes</div>\n",
       "            <div class=\"data_type\">11 (array&lt;float&gt;)</div>\n",
       "            <div class=\"data_type\">\n",
       "                \n",
       "                nullable\n",
       "                \n",
       "            </div>\n",
       "        </th>\n",
       "        \n",
       "        <th>\n",
       "            <div class=\"column_name\">Date Type</div>\n",
       "            <div class=\"data_type\">12 (date)</div>\n",
       "            <div class=\"data_type\">\n",
       "                \n",
       "                nullable\n",
       "                \n",
       "            </div>\n",
       "        </th>\n",
       "        \n",
       "        <th>\n",
       "            <div class=\"column_name\">Tiemstamp</div>\n",
       "            <div class=\"data_type\">13 (timestamp)</div>\n",
       "            <div class=\"data_type\">\n",
       "                \n",
       "                nullable\n",
       "                \n",
       "            </div>\n",
       "        </th>\n",
       "        \n",
       "        <th>\n",
       "            <div class=\"column_name\">Cybertronian</div>\n",
       "            <div class=\"data_type\">14 (boolean)</div>\n",
       "            <div class=\"data_type\">\n",
       "                \n",
       "                nullable\n",
       "                \n",
       "            </div>\n",
       "        </th>\n",
       "        \n",
       "        <th>\n",
       "            <div class=\"column_name\">function(binary)</div>\n",
       "            <div class=\"data_type\">15 (binary)</div>\n",
       "            <div class=\"data_type\">\n",
       "                \n",
       "                nullable\n",
       "                \n",
       "            </div>\n",
       "        </th>\n",
       "        \n",
       "        <th>\n",
       "            <div class=\"column_name\">NullType</div>\n",
       "            <div class=\"data_type\">16 (null)</div>\n",
       "            <div class=\"data_type\">\n",
       "                \n",
       "                nullable\n",
       "                \n",
       "            </div>\n",
       "        </th>\n",
       "        \n",
       "    </tr>\n",
       "\n",
       "    </thead>\n",
       "    <tbody>\n",
       "    \n",
       "    <tr>\n",
       "        \n",
       "        <td>\n",
       "            <div title='Optim&#39;us'>Optim&#39;us</div>\n",
       "        </td>\n",
       "        \n",
       "        <td>\n",
       "            <div title='28'>28</div>\n",
       "        </td>\n",
       "        \n",
       "        <td>\n",
       "            <div title='Leader'>Leader</div>\n",
       "        </td>\n",
       "        \n",
       "        <td>\n",
       "            <div title='10'>10</div>\n",
       "        </td>\n",
       "        \n",
       "        <td>\n",
       "            <div title='5000000'>5000000</div>\n",
       "        </td>\n",
       "        \n",
       "        <td>\n",
       "            <div title='4.300000190734863'>4.300000190734863</div>\n",
       "        </td>\n",
       "        \n",
       "        <td>\n",
       "            <div title='[&#39;Inochi&#39;,⸱&#39;Convoy&#39;]'>[&#39;Inochi&#39;,⸱&#39;Convoy&#39;]</div>\n",
       "        </td>\n",
       "        \n",
       "        <td>\n",
       "            <div title='19.442735,-99.201111'>19.442735,-99.201111</div>\n",
       "        </td>\n",
       "        \n",
       "        <td>\n",
       "            <div title='1980/04/10'>1980/04/10</div>\n",
       "        </td>\n",
       "        \n",
       "        <td>\n",
       "            <div title='2016/09/10'>2016/09/10</div>\n",
       "        </td>\n",
       "        \n",
       "        <td>\n",
       "            <div title='[8.53439998626709,⸱4300.0]'>[8.53439998626709,⸱4300.0]</div>\n",
       "        </td>\n",
       "        \n",
       "        <td>\n",
       "            <div title='2016-09-10'>2016-09-10</div>\n",
       "        </td>\n",
       "        \n",
       "        <td>\n",
       "            <div title='2014-06-24⸱00:00:00'>2014-06-24⸱00:00:00</div>\n",
       "        </td>\n",
       "        \n",
       "        <td>\n",
       "            <div title='True'>True</div>\n",
       "        </td>\n",
       "        \n",
       "        <td>\n",
       "            <div title='bytearray(b&#39;Leader&#39;)'>bytearray(b&#39;Leader&#39;)</div>\n",
       "        </td>\n",
       "        \n",
       "        <td>\n",
       "            <div title='None'>None</div>\n",
       "        </td>\n",
       "        \n",
       "    </tr>\n",
       "    \n",
       "    <tr>\n",
       "        \n",
       "        <td>\n",
       "            <div title='bumbl#ebéé⸱⸱'>bumbl#ebéé⸱⸱</div>\n",
       "        </td>\n",
       "        \n",
       "        <td>\n",
       "            <div title='17'>17</div>\n",
       "        </td>\n",
       "        \n",
       "        <td>\n",
       "            <div title='Espionage'>Espionage</div>\n",
       "        </td>\n",
       "        \n",
       "        <td>\n",
       "            <div title='7'>7</div>\n",
       "        </td>\n",
       "        \n",
       "        <td>\n",
       "            <div title='5000000'>5000000</div>\n",
       "        </td>\n",
       "        \n",
       "        <td>\n",
       "            <div title='2.0'>2.0</div>\n",
       "        </td>\n",
       "        \n",
       "        <td>\n",
       "            <div title='[&#39;Bumble&#39;,⸱&#39;Goldback&#39;]'>[&#39;Bumble&#39;,⸱&#39;Goldback&#39;]</div>\n",
       "        </td>\n",
       "        \n",
       "        <td>\n",
       "            <div title='10.642707,-71.612534'>10.642707,-71.612534</div>\n",
       "        </td>\n",
       "        \n",
       "        <td>\n",
       "            <div title='1980/04/10'>1980/04/10</div>\n",
       "        </td>\n",
       "        \n",
       "        <td>\n",
       "            <div title='2015/08/10'>2015/08/10</div>\n",
       "        </td>\n",
       "        \n",
       "        <td>\n",
       "            <div title='[5.334000110626221,⸱2000.0]'>[5.334000110626221,⸱2000.0]</div>\n",
       "        </td>\n",
       "        \n",
       "        <td>\n",
       "            <div title='2015-08-10'>2015-08-10</div>\n",
       "        </td>\n",
       "        \n",
       "        <td>\n",
       "            <div title='2014-06-24⸱00:00:00'>2014-06-24⸱00:00:00</div>\n",
       "        </td>\n",
       "        \n",
       "        <td>\n",
       "            <div title='True'>True</div>\n",
       "        </td>\n",
       "        \n",
       "        <td>\n",
       "            <div title='bytearray(b&#39;Espionage&#39;)'>bytearray(b&#39;Espionage&#39;)</div>\n",
       "        </td>\n",
       "        \n",
       "        <td>\n",
       "            <div title='None'>None</div>\n",
       "        </td>\n",
       "        \n",
       "    </tr>\n",
       "    \n",
       "    <tr>\n",
       "        \n",
       "        <td>\n",
       "            <div title='ironhide&amp;'>ironhide&amp;</div>\n",
       "        </td>\n",
       "        \n",
       "        <td>\n",
       "            <div title='26'>26</div>\n",
       "        </td>\n",
       "        \n",
       "        <td>\n",
       "            <div title='Security'>Security</div>\n",
       "        </td>\n",
       "        \n",
       "        <td>\n",
       "            <div title='7'>7</div>\n",
       "        </td>\n",
       "        \n",
       "        <td>\n",
       "            <div title='5000000'>5000000</div>\n",
       "        </td>\n",
       "        \n",
       "        <td>\n",
       "            <div title='4.0'>4.0</div>\n",
       "        </td>\n",
       "        \n",
       "        <td>\n",
       "            <div title='[&#39;Roadbuster&#39;]'>[&#39;Roadbuster&#39;]</div>\n",
       "        </td>\n",
       "        \n",
       "        <td>\n",
       "            <div title='37.789563,-122.400356'>37.789563,-122.400356</div>\n",
       "        </td>\n",
       "        \n",
       "        <td>\n",
       "            <div title='1980/04/10'>1980/04/10</div>\n",
       "        </td>\n",
       "        \n",
       "        <td>\n",
       "            <div title='2014/07/10'>2014/07/10</div>\n",
       "        </td>\n",
       "        \n",
       "        <td>\n",
       "            <div title='[7.924799919128418,⸱4000.0]'>[7.924799919128418,⸱4000.0]</div>\n",
       "        </td>\n",
       "        \n",
       "        <td>\n",
       "            <div title='2014-06-24'>2014-06-24</div>\n",
       "        </td>\n",
       "        \n",
       "        <td>\n",
       "            <div title='2014-06-24⸱00:00:00'>2014-06-24⸱00:00:00</div>\n",
       "        </td>\n",
       "        \n",
       "        <td>\n",
       "            <div title='True'>True</div>\n",
       "        </td>\n",
       "        \n",
       "        <td>\n",
       "            <div title='bytearray(b&#39;Security&#39;)'>bytearray(b&#39;Security&#39;)</div>\n",
       "        </td>\n",
       "        \n",
       "        <td>\n",
       "            <div title='None'>None</div>\n",
       "        </td>\n",
       "        \n",
       "    </tr>\n",
       "    \n",
       "    <tr>\n",
       "        \n",
       "        <td>\n",
       "            <div title='Jazz'>Jazz</div>\n",
       "        </td>\n",
       "        \n",
       "        <td>\n",
       "            <div title='13'>13</div>\n",
       "        </td>\n",
       "        \n",
       "        <td>\n",
       "            <div title='First⸱Lieutenant'>First⸱Lieutenant</div>\n",
       "        </td>\n",
       "        \n",
       "        <td>\n",
       "            <div title='8'>8</div>\n",
       "        </td>\n",
       "        \n",
       "        <td>\n",
       "            <div title='5000000'>5000000</div>\n",
       "        </td>\n",
       "        \n",
       "        <td>\n",
       "            <div title='1.7999999523162842'>1.7999999523162842</div>\n",
       "        </td>\n",
       "        \n",
       "        <td>\n",
       "            <div title='[&#39;Meister&#39;]'>[&#39;Meister&#39;]</div>\n",
       "        </td>\n",
       "        \n",
       "        <td>\n",
       "            <div title='33.670666,-117.841553'>33.670666,-117.841553</div>\n",
       "        </td>\n",
       "        \n",
       "        <td>\n",
       "            <div title='1980/04/10'>1980/04/10</div>\n",
       "        </td>\n",
       "        \n",
       "        <td>\n",
       "            <div title='2013/06/10'>2013/06/10</div>\n",
       "        </td>\n",
       "        \n",
       "        <td>\n",
       "            <div title='[3.962399959564209,⸱1800.0]'>[3.962399959564209,⸱1800.0]</div>\n",
       "        </td>\n",
       "        \n",
       "        <td>\n",
       "            <div title='2013-06-24'>2013-06-24</div>\n",
       "        </td>\n",
       "        \n",
       "        <td>\n",
       "            <div title='2014-06-24⸱00:00:00'>2014-06-24⸱00:00:00</div>\n",
       "        </td>\n",
       "        \n",
       "        <td>\n",
       "            <div title='True'>True</div>\n",
       "        </td>\n",
       "        \n",
       "        <td>\n",
       "            <div title='bytearray(b&#39;First⸱Lieutenant&#39;)'>bytearray(b&#39;First⸱Lieutenant&#39;)</div>\n",
       "        </td>\n",
       "        \n",
       "        <td>\n",
       "            <div title='None'>None</div>\n",
       "        </td>\n",
       "        \n",
       "    </tr>\n",
       "    \n",
       "    <tr>\n",
       "        \n",
       "        <td>\n",
       "            <div title='Megatron'>Megatron</div>\n",
       "        </td>\n",
       "        \n",
       "        <td>\n",
       "            <div title='None'>None</div>\n",
       "        </td>\n",
       "        \n",
       "        <td>\n",
       "            <div title='None'>None</div>\n",
       "        </td>\n",
       "        \n",
       "        <td>\n",
       "            <div title='10'>10</div>\n",
       "        </td>\n",
       "        \n",
       "        <td>\n",
       "            <div title='5000000'>5000000</div>\n",
       "        </td>\n",
       "        \n",
       "        <td>\n",
       "            <div title='5.699999809265137'>5.699999809265137</div>\n",
       "        </td>\n",
       "        \n",
       "        <td>\n",
       "            <div title='[&#39;Megatron&#39;]'>[&#39;Megatron&#39;]</div>\n",
       "        </td>\n",
       "        \n",
       "        <td>\n",
       "            <div title='None'>None</div>\n",
       "        </td>\n",
       "        \n",
       "        <td>\n",
       "            <div title='1980/04/10'>1980/04/10</div>\n",
       "        </td>\n",
       "        \n",
       "        <td>\n",
       "            <div title='2012/05/10'>2012/05/10</div>\n",
       "        </td>\n",
       "        \n",
       "        <td>\n",
       "            <div title='[None,⸱5700.0]'>[None,⸱5700.0]</div>\n",
       "        </td>\n",
       "        \n",
       "        <td>\n",
       "            <div title='2012-05-10'>2012-05-10</div>\n",
       "        </td>\n",
       "        \n",
       "        <td>\n",
       "            <div title='2014-06-24⸱00:00:00'>2014-06-24⸱00:00:00</div>\n",
       "        </td>\n",
       "        \n",
       "        <td>\n",
       "            <div title='True'>True</div>\n",
       "        </td>\n",
       "        \n",
       "        <td>\n",
       "            <div title='bytearray(b&#39;None&#39;)'>bytearray(b&#39;None&#39;)</div>\n",
       "        </td>\n",
       "        \n",
       "        <td>\n",
       "            <div title='None'>None</div>\n",
       "        </td>\n",
       "        \n",
       "    </tr>\n",
       "    \n",
       "    <tr>\n",
       "        \n",
       "        <td>\n",
       "            <div title='Metroplex_)^$'>Metroplex_)^$</div>\n",
       "        </td>\n",
       "        \n",
       "        <td>\n",
       "            <div title='300'>300</div>\n",
       "        </td>\n",
       "        \n",
       "        <td>\n",
       "            <div title='Battle⸱Station'>Battle⸱Station</div>\n",
       "        </td>\n",
       "        \n",
       "        <td>\n",
       "            <div title='8'>8</div>\n",
       "        </td>\n",
       "        \n",
       "        <td>\n",
       "            <div title='5000000'>5000000</div>\n",
       "        </td>\n",
       "        \n",
       "        <td>\n",
       "            <div title='None'>None</div>\n",
       "        </td>\n",
       "        \n",
       "        <td>\n",
       "            <div title='[&#39;Metroflex&#39;]'>[&#39;Metroflex&#39;]</div>\n",
       "        </td>\n",
       "        \n",
       "        <td>\n",
       "            <div title='None'>None</div>\n",
       "        </td>\n",
       "        \n",
       "        <td>\n",
       "            <div title='1980/04/10'>1980/04/10</div>\n",
       "        </td>\n",
       "        \n",
       "        <td>\n",
       "            <div title='2011/04/10'>2011/04/10</div>\n",
       "        </td>\n",
       "        \n",
       "        <td>\n",
       "            <div title='[91.44000244140625,⸱None]'>[91.44000244140625,⸱None]</div>\n",
       "        </td>\n",
       "        \n",
       "        <td>\n",
       "            <div title='2011-04-10'>2011-04-10</div>\n",
       "        </td>\n",
       "        \n",
       "        <td>\n",
       "            <div title='2014-06-24⸱00:00:00'>2014-06-24⸱00:00:00</div>\n",
       "        </td>\n",
       "        \n",
       "        <td>\n",
       "            <div title='True'>True</div>\n",
       "        </td>\n",
       "        \n",
       "        <td>\n",
       "            <div title='bytearray(b&#39;Battle⸱Station&#39;)'>bytearray(b&#39;Battle⸱Station&#39;)</div>\n",
       "        </td>\n",
       "        \n",
       "        <td>\n",
       "            <div title='None'>None</div>\n",
       "        </td>\n",
       "        \n",
       "    </tr>\n",
       "    \n",
       "    </tbody>\n",
       "</table>\n",
       "\n",
       "\n",
       "<div class=\"info_items\">Viewing 6 of 6 rows / 16 columns</div>\n",
       "<div class=\"info_items\">8 partition(s)</div>\n"
      ],
      "text/plain": [
       "<IPython.core.display.HTML object>"
      ]
     },
     "metadata": {},
     "output_type": "display_data"
    }
   ],
   "source": [
    "import pandas as pd\n",
    "from pyspark.sql.types import *\n",
    "from datetime import date, datetime\n",
    "\n",
    "\n",
    "cols = [\n",
    "        (\"names\", \"str\"),\n",
    "        (\"height(ft)\", ShortType()),\n",
    "        (\"function\", \"str\"),\n",
    "        (\"rank\", ByteType()),\n",
    "        (\"age\", \"int\"),\n",
    "        (\"weight(t)\", \"float\"),\n",
    "        \"japanese name\",\n",
    "        \"last position seen\",\n",
    "        \"date arrival\",\n",
    "        \"last date seen\",\n",
    "        (\"attributes\", ArrayType(FloatType())),\n",
    "        (\"Date Type\", DateType()),\n",
    "        (\"Tiemstamp\", TimestampType()),\n",
    "        (\"Cybertronian\", BooleanType()),\n",
    "        (\"function(binary)\", BinaryType()),\n",
    "        (\"NullType\", NullType())\n",
    "\n",
    "    ]\n",
    "\n",
    "rows = [\n",
    "        (\"Optim'us\", 28, \"Leader\", 10, 5000000, 4.30, [\"Inochi\", \"Convoy\"], \"19.442735,-99.201111\", \"1980/04/10\",\n",
    "         \"2016/09/10\", [8.5344, 4300.0], date(2016, 9, 10), datetime(2014, 6, 24), True, bytearray(\"Leader\", \"utf-8\"),\n",
    "         None),\n",
    "        (\"bumbl#ebéé  \", 17, \"Espionage\", 7, 5000000, 2.0, [\"Bumble\", \"Goldback\"], \"10.642707,-71.612534\", \"1980/04/10\",\n",
    "         \"2015/08/10\", [5.334, 2000.0], date(2015, 8, 10), datetime(2014, 6, 24), True, bytearray(\"Espionage\", \"utf-8\"),\n",
    "         None),\n",
    "        (\"ironhide&\", 26, \"Security\", 7, 5000000, 4.0, [\"Roadbuster\"], \"37.789563,-122.400356\", \"1980/04/10\",\n",
    "         \"2014/07/10\", [7.9248, 4000.0], date(2014, 6, 24), datetime(2014, 6, 24), True, bytearray(\"Security\", \"utf-8\"),\n",
    "         None),\n",
    "        (\"Jazz\", 13, \"First Lieutenant\", 8, 5000000, 1.80, [\"Meister\"], \"33.670666,-117.841553\", \"1980/04/10\",\n",
    "         \"2013/06/10\", [3.9624, 1800.0], date(2013, 6, 24), datetime(2014, 6, 24), True,\n",
    "         bytearray(\"First Lieutenant\", \"utf-8\"), None),\n",
    "        (\"Megatron\", None, \"None\", 10, 5000000, 5.70, [\"Megatron\"], None, \"1980/04/10\", \"2012/05/10\", [None, 5700.0],\n",
    "         date(2012, 5, 10), datetime(2014, 6, 24), True, bytearray(\"None\", \"utf-8\"), None),\n",
    "        (\"Metroplex_)^$\", 300, \"Battle Station\", 8, 5000000, None, [\"Metroflex\"], None, \"1980/04/10\", \"2011/04/10\",\n",
    "         [91.44, None], date(2011, 4, 10), datetime(2014, 6, 24), True, bytearray(\"Battle Station\", \"utf-8\"), None),\n",
    "\n",
    "    ]\n",
    "df = op.create.df(cols ,rows)\n",
    "df.table()"
   ]
  },
  {
   "cell_type": "markdown",
   "metadata": {},
   "source": [
    "### End Init Section"
   ]
  },
  {
   "cell_type": "markdown",
   "metadata": {},
   "source": [
    "# Test"
   ]
  },
  {
   "cell_type": "markdown",
   "metadata": {},
   "source": [
    "## Optimus Test"
   ]
  },
  {
   "cell_type": "code",
   "execution_count": 11,
   "metadata": {},
   "outputs": [],
   "source": [
    "from pyspark.ml.linalg import Vectors"
   ]
  },
  {
   "cell_type": "code",
   "execution_count": 28,
   "metadata": {},
   "outputs": [],
   "source": [
    "t = Test(op, None, \"Optimus\", imports=[\"import datetime\",\n",
    "                                \"from pyspark.sql import functions as F\"], path = \"create_df\")"
   ]
  },
  {
   "cell_type": "code",
   "execution_count": 29,
   "metadata": {},
   "outputs": [],
   "source": [
    "one_column = {\"rows\":[\"Argenis\", \"Favio\", \"Matthew\"], \"cols\":[\"name\"]}\n",
    "plain = {\"rows\":[(\"BOB\", 1),(\"JoSe\", 2)],\"cols\":[\"name\",\"age\"]}\n",
    "plain_infer_false = {\"rows\":[(\"BOB\", 1),(\"JoSe\", 2)],\"cols\":[\"name\",\"age\"],\"infer_schema\":False}\n",
    "with_data_types = {\"rows\":[(\"BOB\", 1),(\"JoSe\", 2)],\"cols\":[(\"name\", StringType(), True),(\"age\", IntegerType(), False)]}\n",
    "nullable = {\"rows\":[(\"BOB\", 1),(\"JoSe\", 2)],\"cols\":[(\"name\", StringType()),(\"age\", IntegerType())]}\n",
    "\n",
    "df1 = op.create.df(**one_column)\n",
    "df2 = op.create.df(**plain)\n",
    "df3 = op.create.df(**plain_infer_false)\n",
    "df4 = op.create.df(**with_data_types)\n",
    "df5 = op.create.df(**nullable)"
   ]
  },
  {
   "cell_type": "code",
   "execution_count": 30,
   "metadata": {},
   "outputs": [
    {
     "name": "stdout",
     "output_type": "stream",
     "text": [
      "Creating test_create_df_one_column() test function...\n"
     ]
    }
   ],
   "source": [
    "t.create(df1, None, \"one_column\", \"df\", **one_column)"
   ]
  },
  {
   "cell_type": "code",
   "execution_count": 31,
   "metadata": {},
   "outputs": [
    {
     "name": "stdout",
     "output_type": "stream",
     "text": [
      "Creating test_create_df_plain() test function...\n"
     ]
    }
   ],
   "source": [
    "t.create(df2, None, \"plain\", \"df\", **plain)"
   ]
  },
  {
   "cell_type": "code",
   "execution_count": 32,
   "metadata": {},
   "outputs": [
    {
     "name": "stdout",
     "output_type": "stream",
     "text": [
      "Creating test_create_df_plain_infer_false() test function...\n"
     ]
    }
   ],
   "source": [
    "t.create(df3, None, \"plain_infer_false\", \"df\", **plain_infer_false)"
   ]
  },
  {
   "cell_type": "code",
   "execution_count": 33,
   "metadata": {},
   "outputs": [
    {
     "name": "stdout",
     "output_type": "stream",
     "text": [
      "Creating test_create_df_with_data_types() test function...\n"
     ]
    }
   ],
   "source": [
    "t.create(df4, None, \"with_data_types\", \"df\", **with_data_types)"
   ]
  },
  {
   "cell_type": "code",
   "execution_count": 34,
   "metadata": {},
   "outputs": [
    {
     "name": "stdout",
     "output_type": "stream",
     "text": [
      "Creating test_create_df_nullable() test function...\n"
     ]
    }
   ],
   "source": [
    "t.create(df5, None, \"nullable\", \"df\", **nullable)"
   ]
  },
  {
   "cell_type": "code",
   "execution_count": 45,
   "metadata": {},
   "outputs": [
    {
     "name": "stdout",
     "output_type": "stream",
     "text": [
      "Creating file create_df/all_Optimus.py\n",
      "Done\n"
     ]
    }
   ],
   "source": [
    "t.run()"
   ]
  },
  {
   "cell_type": "markdown",
   "metadata": {},
   "source": [
    "## Columns Test"
   ]
  },
  {
   "cell_type": "code",
   "execution_count": 46,
   "metadata": {},
   "outputs": [],
   "source": [
    "from pyspark.ml.linalg import Vectors"
   ]
  },
  {
   "cell_type": "code",
   "execution_count": 244,
   "metadata": {},
   "outputs": [],
   "source": [
    "t = Test(op, df, \"df_cols\", imports=[\"from pyspark.ml.linalg import Vectors, VectorUDT, DenseVector\",\n",
    "                                        \"import numpy as np\",\n",
    "                                        \"nan = np.nan\",\n",
    "                                        \"import datetime\",\n",
    "                                        \"from pyspark.sql import functions as F\"], path = \"df_cols\")"
   ]
  },
  {
   "cell_type": "code",
   "execution_count": 245,
   "metadata": {},
   "outputs": [],
   "source": [
    "from pyspark.sql import functions as F\n",
    "\n",
    "\n",
    "def func(col_name, attrs):\n",
    "    return F.col(col_name) * 2\n",
    "\n",
    "numeric_col = \"height(ft)\"\n",
    "numeric_col_B = \"rank\"\n",
    "numeric_col_C = \"rank\"\n",
    "string_col = \"function\"\n",
    "date_col = \"date arrival\"\n",
    "date_col_B = \"last date seen\"\n",
    "new_col = \"new col\"\n",
    "array_col = \"attributes\""
   ]
  },
  {
   "cell_type": "code",
   "execution_count": 246,
   "metadata": {},
   "outputs": [
    {
     "name": "stdout",
     "output_type": "stream",
     "text": [
      "Creating test_cols_min() test function...\n"
     ]
    }
   ],
   "source": [
    "t.create(None, \"cols.min\", None, \"json\", numeric_col)"
   ]
  },
  {
   "cell_type": "code",
   "execution_count": 247,
   "metadata": {},
   "outputs": [
    {
     "name": "stdout",
     "output_type": "stream",
     "text": [
      "Creating test_cols_min_all_columns() test function...\n"
     ]
    }
   ],
   "source": [
    "t.create(None, \"cols.min\", \"all_columns\", \"json\", \"*\")"
   ]
  },
  {
   "cell_type": "code",
   "execution_count": 248,
   "metadata": {},
   "outputs": [
    {
     "name": "stdout",
     "output_type": "stream",
     "text": [
      "Creating test_cols_max() test function...\n"
     ]
    }
   ],
   "source": [
    "t.create(None, \"cols.max\", None, \"json\", numeric_col)"
   ]
  },
  {
   "cell_type": "code",
   "execution_count": 249,
   "metadata": {},
   "outputs": [
    {
     "name": "stdout",
     "output_type": "stream",
     "text": [
      "Creating test_cols_max_all_columns() test function...\n"
     ]
    }
   ],
   "source": [
    "t.create(None, \"cols.max\", \"all_columns\", \"json\", \"*\")"
   ]
  },
  {
   "cell_type": "code",
   "execution_count": 250,
   "metadata": {},
   "outputs": [
    {
     "name": "stdout",
     "output_type": "stream",
     "text": [
      "Creating test_cols_range() test function...\n"
     ]
    }
   ],
   "source": [
    "t.create(None, \"cols.range\", None, \"json\", numeric_col)"
   ]
  },
  {
   "cell_type": "code",
   "execution_count": 251,
   "metadata": {},
   "outputs": [
    {
     "name": "stdout",
     "output_type": "stream",
     "text": [
      "Creating test_cols_range_all_columns() test function...\n"
     ]
    }
   ],
   "source": [
    "t.create(None, \"cols.range\", \"all_columns\", \"json\", \"*\")"
   ]
  },
  {
   "cell_type": "code",
   "execution_count": 252,
   "metadata": {},
   "outputs": [
    {
     "name": "stdout",
     "output_type": "stream",
     "text": [
      "Creating test_cols_median() test function...\n"
     ]
    }
   ],
   "source": [
    "t.create(None, \"cols.median\", None, \"json\", numeric_col)"
   ]
  },
  {
   "cell_type": "code",
   "execution_count": 253,
   "metadata": {},
   "outputs": [
    {
     "name": "stdout",
     "output_type": "stream",
     "text": [
      "Creating test_cols_median_all_columns() test function...\n",
      "`names`,`function`,`japanese name`,`last position seen`,`date arrival`,`last date seen`,`attributes`,`Date Type`,`Tiemstamp`,`Cybertronian`,`function(binary)`,`NullType` column(s) was not processed because is/are not byte,short,big,int,double,float\n"
     ]
    }
   ],
   "source": [
    "t.create(None, \"cols.median\", \"all_columns\", \"json\", \"*\")"
   ]
  },
  {
   "cell_type": "code",
   "execution_count": 254,
   "metadata": {},
   "outputs": [
    {
     "name": "stdout",
     "output_type": "stream",
     "text": [
      "Creating test_cols_percentile() test function...\n"
     ]
    }
   ],
   "source": [
    "t.create(None, \"cols.percentile\", None, \"json\", numeric_col, [0.05, 0.25], 1)"
   ]
  },
  {
   "cell_type": "code",
   "execution_count": 255,
   "metadata": {},
   "outputs": [
    {
     "name": "stdout",
     "output_type": "stream",
     "text": [
      "Creating test_cols_percentile_all_columns() test function...\n",
      "`names`,`function`,`japanese name`,`last position seen`,`date arrival`,`last date seen`,`attributes`,`Date Type`,`Tiemstamp`,`Cybertronian`,`function(binary)`,`NullType` column(s) was not processed because is/are not byte,short,big,int,double,float\n"
     ]
    }
   ],
   "source": [
    "t.create(None, \"cols.percentile\", \"all_columns\", \"json\", \"*\", [0.05, 0.25], 1)"
   ]
  },
  {
   "cell_type": "code",
   "execution_count": 256,
   "metadata": {},
   "outputs": [
    {
     "name": "stdout",
     "output_type": "stream",
     "text": [
      "Creating test_cols_mad() test function...\n"
     ]
    }
   ],
   "source": [
    "t.create(None, \"cols.mad\", None, \"json\", numeric_col)"
   ]
  },
  {
   "cell_type": "code",
   "execution_count": 257,
   "metadata": {},
   "outputs": [
    {
     "name": "stdout",
     "output_type": "stream",
     "text": [
      "Creating test_cols_mad_all_columns() test function...\n",
      "`names`,`function`,`japanese name`,`last position seen`,`date arrival`,`last date seen`,`attributes`,`Date Type`,`Tiemstamp`,`Cybertronian`,`function(binary)`,`NullType` column(s) was not processed because is/are not byte,short,big,int,double,float\n"
     ]
    }
   ],
   "source": [
    "t.create(None, \"cols.mad\", \"all_columns\", \"json\", \"*\")"
   ]
  },
  {
   "cell_type": "code",
   "execution_count": 258,
   "metadata": {},
   "outputs": [
    {
     "name": "stdout",
     "output_type": "stream",
     "text": [
      "Creating test_cols_std() test function...\n"
     ]
    }
   ],
   "source": [
    "t.create(None, \"cols.std\", None, \"json\", numeric_col)"
   ]
  },
  {
   "cell_type": "code",
   "execution_count": 259,
   "metadata": {},
   "outputs": [
    {
     "name": "stdout",
     "output_type": "stream",
     "text": [
      "Creating test_cols_std_all_columns() test function...\n",
      "`names`,`function`,`japanese name`,`last position seen`,`date arrival`,`last date seen`,`attributes`,`Date Type`,`Tiemstamp`,`Cybertronian`,`function(binary)`,`NullType` column(s) was not processed because is/are not byte,short,big,int,double,float\n"
     ]
    }
   ],
   "source": [
    "t.create(None, \"cols.std\", \"all_columns\", \"json\", \"*\")"
   ]
  },
  {
   "cell_type": "code",
   "execution_count": 260,
   "metadata": {},
   "outputs": [
    {
     "name": "stdout",
     "output_type": "stream",
     "text": [
      "Creating test_cols_kurt() test function...\n"
     ]
    }
   ],
   "source": [
    "t.create(None, \"cols.kurt\", None, \"json\", numeric_col)"
   ]
  },
  {
   "cell_type": "code",
   "execution_count": 261,
   "metadata": {},
   "outputs": [
    {
     "name": "stdout",
     "output_type": "stream",
     "text": [
      "Creating test_cols_kurt_all_columns() test function...\n",
      "`names`,`function`,`japanese name`,`last position seen`,`date arrival`,`last date seen`,`attributes`,`Date Type`,`Tiemstamp`,`Cybertronian`,`function(binary)`,`NullType` column(s) was not processed because is/are not byte,short,big,int,double,float\n"
     ]
    }
   ],
   "source": [
    "t.create(None, \"cols.kurt\", \"all_columns\", \"json\", \"*\")"
   ]
  },
  {
   "cell_type": "code",
   "execution_count": 262,
   "metadata": {},
   "outputs": [
    {
     "name": "stdout",
     "output_type": "stream",
     "text": [
      "Creating test_cols_mean() test function...\n"
     ]
    }
   ],
   "source": [
    "t.create(None, \"cols.mean\", None, \"json\", numeric_col)"
   ]
  },
  {
   "cell_type": "code",
   "execution_count": 263,
   "metadata": {},
   "outputs": [
    {
     "name": "stdout",
     "output_type": "stream",
     "text": [
      "Creating test_cols_mean_all_columns() test function...\n",
      "`names`,`function`,`japanese name`,`last position seen`,`date arrival`,`last date seen`,`attributes`,`Date Type`,`Tiemstamp`,`Cybertronian`,`function(binary)`,`NullType` column(s) was not processed because is/are not byte,short,big,int,double,float\n"
     ]
    }
   ],
   "source": [
    "t.create(None, \"cols.mean\", \"all_columns\", \"json\", \"*\")"
   ]
  },
  {
   "cell_type": "code",
   "execution_count": 264,
   "metadata": {},
   "outputs": [
    {
     "name": "stdout",
     "output_type": "stream",
     "text": [
      "Creating test_cols_skewness() test function...\n"
     ]
    }
   ],
   "source": [
    "t.create(None, \"cols.skewness\", None, \"json\", numeric_col)"
   ]
  },
  {
   "cell_type": "code",
   "execution_count": 265,
   "metadata": {},
   "outputs": [
    {
     "name": "stdout",
     "output_type": "stream",
     "text": [
      "Creating test_cols_skewness_all_columns() test function...\n",
      "`names`,`function`,`japanese name`,`last position seen`,`date arrival`,`last date seen`,`attributes`,`Date Type`,`Tiemstamp`,`Cybertronian`,`function(binary)`,`NullType` column(s) was not processed because is/are not byte,short,big,int,double,float\n"
     ]
    }
   ],
   "source": [
    "t.create(None, \"cols.skewness\", \"all_columns\", \"json\", \"*\")"
   ]
  },
  {
   "cell_type": "code",
   "execution_count": 266,
   "metadata": {},
   "outputs": [
    {
     "name": "stdout",
     "output_type": "stream",
     "text": [
      "Creating test_cols_sum() test function...\n"
     ]
    }
   ],
   "source": [
    "t.create(None, \"cols.sum\", None, \"json\", numeric_col)"
   ]
  },
  {
   "cell_type": "code",
   "execution_count": 267,
   "metadata": {},
   "outputs": [
    {
     "name": "stdout",
     "output_type": "stream",
     "text": [
      "Creating test_cols_sum_all_columns() test function...\n",
      "`names`,`function`,`japanese name`,`last position seen`,`date arrival`,`last date seen`,`attributes`,`Date Type`,`Tiemstamp`,`Cybertronian`,`function(binary)`,`NullType` column(s) was not processed because is/are not byte,short,big,int,double,float\n"
     ]
    }
   ],
   "source": [
    "t.create(None, \"cols.sum\", \"all_columns\", \"json\", \"*\")"
   ]
  },
  {
   "cell_type": "code",
   "execution_count": 268,
   "metadata": {},
   "outputs": [
    {
     "name": "stdout",
     "output_type": "stream",
     "text": [
      "Creating test_cols_variance() test function...\n"
     ]
    }
   ],
   "source": [
    "t.create(None, \"cols.variance\", None, \"json\", numeric_col)"
   ]
  },
  {
   "cell_type": "code",
   "execution_count": 269,
   "metadata": {},
   "outputs": [
    {
     "name": "stdout",
     "output_type": "stream",
     "text": [
      "Creating test_cols_variance_all_columns() test function...\n",
      "`names`,`function`,`japanese name`,`last position seen`,`date arrival`,`last date seen`,`attributes`,`Date Type`,`Tiemstamp`,`Cybertronian`,`function(binary)`,`NullType` column(s) was not processed because is/are not byte,short,big,int,double,float\n"
     ]
    }
   ],
   "source": [
    "t.create(None, \"cols.variance\", \"all_columns\", \"json\", \"*\")"
   ]
  },
  {
   "cell_type": "code",
   "execution_count": 270,
   "metadata": {},
   "outputs": [
    {
     "name": "stdout",
     "output_type": "stream",
     "text": [
      "Creating test_cols_abs() test function...\n"
     ]
    }
   ],
   "source": [
    "t.create(None, \"cols.abs\", None, \"df\", numeric_col)"
   ]
  },
  {
   "cell_type": "code",
   "execution_count": 271,
   "metadata": {},
   "outputs": [
    {
     "name": "stdout",
     "output_type": "stream",
     "text": [
      "Creating test_cols_abs_all_columns() test function...\n",
      "`names`,`function`,`japanese name`,`last position seen`,`date arrival`,`last date seen`,`attributes`,`Date Type`,`Tiemstamp`,`Cybertronian`,`function(binary)`,`NullType` column(s) was not processed because is/are not byte,short,big,int,double,float\n"
     ]
    }
   ],
   "source": [
    "t.create(None, \"cols.abs\", \"all_columns\", \"df\", \"*\")"
   ]
  },
  {
   "cell_type": "code",
   "execution_count": 272,
   "metadata": {},
   "outputs": [
    {
     "name": "stdout",
     "output_type": "stream",
     "text": [
      "Creating test_cols_mode() test function...\n"
     ]
    }
   ],
   "source": [
    "t.create(None, \"cols.mode\", None, \"json\", numeric_col)"
   ]
  },
  {
   "cell_type": "code",
   "execution_count": 273,
   "metadata": {},
   "outputs": [
    {
     "name": "stdout",
     "output_type": "stream",
     "text": [
      "Creating test_cols_mode_all_columns() test function...\n"
     ]
    }
   ],
   "source": [
    "t.create(None, \"cols.mode\", \"all_columns\", \"json\", \"*\")"
   ]
  },
  {
   "cell_type": "code",
   "execution_count": 274,
   "metadata": {},
   "outputs": [
    {
     "name": "stdout",
     "output_type": "stream",
     "text": [
      "Creating test_cols_count() test function...\n"
     ]
    }
   ],
   "source": [
    "t.create(None, \"cols.count\", None, \"json\")"
   ]
  },
  {
   "cell_type": "code",
   "execution_count": 275,
   "metadata": {},
   "outputs": [
    {
     "name": "stdout",
     "output_type": "stream",
     "text": [
      "Creating test_cols_count_na() test function...\n"
     ]
    }
   ],
   "source": [
    "t.create(None, \"cols.count_na\", None, \"json\", numeric_col)"
   ]
  },
  {
   "cell_type": "code",
   "execution_count": 276,
   "metadata": {},
   "outputs": [
    {
     "name": "stdout",
     "output_type": "stream",
     "text": [
      "Creating test_cols_count_na_all_columns() test function...\n",
      "Including 'nan' as Null in processing 'names'\n",
      "Including 'nan' as Null in processing 'function'\n",
      "Including 'nan' as Null in processing 'last position seen'\n",
      "Including 'nan' as Null in processing 'date arrival'\n",
      "Including 'nan' as Null in processing 'last date seen'\n",
      "Including 'nan' as Null in processing 'Cybertronian'\n"
     ]
    }
   ],
   "source": [
    "t.create(None, \"cols.count_na\", \"all_columns\", \"json\", \"*\")"
   ]
  },
  {
   "cell_type": "code",
   "execution_count": 277,
   "metadata": {},
   "outputs": [
    {
     "name": "stdout",
     "output_type": "stream",
     "text": [
      "Creating test_cols_count_zeros() test function...\n"
     ]
    }
   ],
   "source": [
    "t.create(None, \"cols.count_zeros\", None, \"json\", numeric_col)"
   ]
  },
  {
   "cell_type": "code",
   "execution_count": 278,
   "metadata": {},
   "outputs": [
    {
     "name": "stdout",
     "output_type": "stream",
     "text": [
      "Creating test_cols_count_zeros_all_columns() test function...\n",
      "`names`,`function`,`japanese name`,`last position seen`,`date arrival`,`last date seen`,`attributes`,`Date Type`,`Tiemstamp`,`Cybertronian`,`function(binary)`,`NullType` column(s) was not processed because is/are not byte,short,big,int,double,float\n"
     ]
    }
   ],
   "source": [
    "t.create(None, \"cols.count_zeros\", \"all_columns\", \"json\", \"*\")"
   ]
  },
  {
   "cell_type": "code",
   "execution_count": 279,
   "metadata": {},
   "outputs": [
    {
     "name": "stdout",
     "output_type": "stream",
     "text": [
      "Creating test_cols_count_uniques() test function...\n"
     ]
    }
   ],
   "source": [
    "t.create(None, \"cols.count_uniques\", None, \"json\", numeric_col)"
   ]
  },
  {
   "cell_type": "code",
   "execution_count": 280,
   "metadata": {},
   "outputs": [
    {
     "name": "stdout",
     "output_type": "stream",
     "text": [
      "Creating test_cols_count_uniques_all_columns() test function...\n"
     ]
    }
   ],
   "source": [
    "t.create(None, \"cols.count_uniques\", \"all_columns\", \"json\", \"*\")"
   ]
  },
  {
   "cell_type": "code",
   "execution_count": 282,
   "metadata": {},
   "outputs": [
    {
     "name": "stdout",
     "output_type": "stream",
     "text": [
      "Creating test_cols_unique() test function...\n"
     ]
    }
   ],
   "source": [
    "t.create(None, \"cols.unique\", None, \"json\", numeric_col)"
   ]
  },
  {
   "cell_type": "code",
   "execution_count": 283,
   "metadata": {},
   "outputs": [
    {
     "name": "stdout",
     "output_type": "stream",
     "text": [
      "Creating test_cols_unique_all_columns() test function...\n"
     ]
    }
   ],
   "source": [
    "t.create(None, \"cols.unique\", \"all_columns\", \"json\", \"*\")"
   ]
  },
  {
   "cell_type": "code",
   "execution_count": 284,
   "metadata": {},
   "outputs": [
    {
     "name": "stdout",
     "output_type": "stream",
     "text": [
      "Creating test_cols_add() test function...\n"
     ]
    }
   ],
   "source": [
    "t.create(None, \"cols.add\", None, \"df\", [numeric_col, numeric_col_B])"
   ]
  },
  {
   "cell_type": "code",
   "execution_count": 285,
   "metadata": {},
   "outputs": [
    {
     "name": "stdout",
     "output_type": "stream",
     "text": [
      "Creating test_cols_add_all_columns() test function...\n",
      "`names`,`function`,`japanese name`,`last position seen`,`date arrival`,`last date seen`,`attributes`,`Date Type`,`Tiemstamp`,`Cybertronian`,`function(binary)`,`NullType` column(s) was not processed because is/are not byte,short,big,int,double,float\n"
     ]
    },
    {
     "data": {
      "text/plain": [
       "(None,)"
      ]
     },
     "execution_count": 285,
     "metadata": {},
     "output_type": "execute_result"
    }
   ],
   "source": [
    "t.create(None, \"cols.add\", \"all_columns\", \"df\", \"*\"),"
   ]
  },
  {
   "cell_type": "code",
   "execution_count": 286,
   "metadata": {},
   "outputs": [
    {
     "name": "stdout",
     "output_type": "stream",
     "text": [
      "Creating test_cols_sub() test function...\n"
     ]
    }
   ],
   "source": [
    "t.create(None, \"cols.sub\", None, \"df\", [numeric_col, numeric_col_B])"
   ]
  },
  {
   "cell_type": "code",
   "execution_count": 287,
   "metadata": {},
   "outputs": [
    {
     "name": "stdout",
     "output_type": "stream",
     "text": [
      "Creating test_cols_sub_all_columns() test function...\n",
      "`names`,`function`,`japanese name`,`last position seen`,`date arrival`,`last date seen`,`attributes`,`Date Type`,`Tiemstamp`,`Cybertronian`,`function(binary)`,`NullType` column(s) was not processed because is/are not byte,short,big,int,double,float\n"
     ]
    }
   ],
   "source": [
    "t.create(None, \"cols.sub\", \"all_columns\", \"df\", \"*\")"
   ]
  },
  {
   "cell_type": "code",
   "execution_count": 288,
   "metadata": {},
   "outputs": [
    {
     "name": "stdout",
     "output_type": "stream",
     "text": [
      "Creating test_cols_mul() test function...\n"
     ]
    }
   ],
   "source": [
    "t.create(None, \"cols.mul\", None, \"df\", [numeric_col, numeric_col_B])"
   ]
  },
  {
   "cell_type": "code",
   "execution_count": 289,
   "metadata": {},
   "outputs": [
    {
     "name": "stdout",
     "output_type": "stream",
     "text": [
      "Creating test_cols_mul_all_columns() test function...\n",
      "`names`,`function`,`japanese name`,`last position seen`,`date arrival`,`last date seen`,`attributes`,`Date Type`,`Tiemstamp`,`Cybertronian`,`function(binary)`,`NullType` column(s) was not processed because is/are not byte,short,big,int,double,float\n"
     ]
    }
   ],
   "source": [
    "t.create(None, \"cols.mul\", \"all_columns\", \"df\", \"*\")"
   ]
  },
  {
   "cell_type": "code",
   "execution_count": 290,
   "metadata": {},
   "outputs": [
    {
     "name": "stdout",
     "output_type": "stream",
     "text": [
      "Creating test_cols_div() test function...\n"
     ]
    }
   ],
   "source": [
    "t.create(None, \"cols.div\", None, \"df\", [numeric_col, numeric_col_B])"
   ]
  },
  {
   "cell_type": "code",
   "execution_count": 291,
   "metadata": {},
   "outputs": [
    {
     "name": "stdout",
     "output_type": "stream",
     "text": [
      "Creating test_cols_div_all_columns() test function...\n",
      "`names`,`function`,`japanese name`,`last position seen`,`date arrival`,`last date seen`,`attributes`,`Date Type`,`Tiemstamp`,`Cybertronian`,`function(binary)`,`NullType` column(s) was not processed because is/are not byte,short,big,int,double,float\n"
     ]
    }
   ],
   "source": [
    "t.create(None, \"cols.div\", \"all_columns\", \"df\", \"*\")"
   ]
  },
  {
   "cell_type": "code",
   "execution_count": 292,
   "metadata": {},
   "outputs": [
    {
     "name": "stdout",
     "output_type": "stream",
     "text": [
      "Creating test_cols_z_score() test function...\n"
     ]
    }
   ],
   "source": [
    "t.create(None, \"cols.z_score\", None, \"df\", numeric_col)"
   ]
  },
  {
   "cell_type": "code",
   "execution_count": 293,
   "metadata": {},
   "outputs": [
    {
     "name": "stdout",
     "output_type": "stream",
     "text": [
      "Creating test_cols_z_score_all_columns() test function...\n",
      "`names`,`function`,`japanese name`,`last position seen`,`date arrival`,`last date seen`,`attributes`,`Date Type`,`Tiemstamp`,`Cybertronian`,`function(binary)`,`NullType` column(s) was not processed because is/are not byte,short,big,int,double,float\n"
     ]
    }
   ],
   "source": [
    "t.create(None, \"cols.z_score\", \"all_columns\", \"df\", \"*\")"
   ]
  },
  {
   "cell_type": "code",
   "execution_count": 294,
   "metadata": {},
   "outputs": [
    {
     "name": "stdout",
     "output_type": "stream",
     "text": [
      "Creating test_cols_iqr() test function...\n"
     ]
    }
   ],
   "source": [
    "t.create(None, \"cols.iqr\", None, \"json\", numeric_col)"
   ]
  },
  {
   "cell_type": "code",
   "execution_count": 295,
   "metadata": {},
   "outputs": [
    {
     "name": "stdout",
     "output_type": "stream",
     "text": [
      "Creating test_cols_iqr_all_columns() test function...\n",
      "`names`,`function`,`japanese name`,`last position seen`,`date arrival`,`last date seen`,`attributes`,`Date Type`,`Tiemstamp`,`Cybertronian`,`function(binary)`,`NullType` column(s) was not processed because is/are not byte,short,big,int,double,float\n"
     ]
    }
   ],
   "source": [
    "t.create(None, \"cols.iqr\", \"all_columns\", \"json\", \"*\")"
   ]
  },
  {
   "cell_type": "code",
   "execution_count": 296,
   "metadata": {},
   "outputs": [
    {
     "name": "stdout",
     "output_type": "stream",
     "text": [
      "Creating test_cols_lower() test function...\n"
     ]
    }
   ],
   "source": [
    "t.create(None, \"cols.lower\", None, \"df\", string_col)"
   ]
  },
  {
   "cell_type": "code",
   "execution_count": 297,
   "metadata": {},
   "outputs": [
    {
     "name": "stdout",
     "output_type": "stream",
     "text": [
      "Creating test_cols_lower_all_columns() test function...\n",
      "`height(ft)`,`rank`,`age`,`weight(t)`,`japanese name`,`attributes`,`Date Type`,`Tiemstamp`,`Cybertronian`,`function(binary)`,`NullType` column(s) was not processed because is/are not string\n"
     ]
    }
   ],
   "source": [
    "t.create(None, \"cols.lower\", \"all_columns\", \"df\", \"*\")"
   ]
  },
  {
   "cell_type": "code",
   "execution_count": 298,
   "metadata": {},
   "outputs": [
    {
     "name": "stdout",
     "output_type": "stream",
     "text": [
      "Creating test_cols_upper() test function...\n"
     ]
    }
   ],
   "source": [
    "t.create(None, \"cols.upper\", None, \"df\", string_col)"
   ]
  },
  {
   "cell_type": "code",
   "execution_count": 299,
   "metadata": {},
   "outputs": [
    {
     "name": "stdout",
     "output_type": "stream",
     "text": [
      "Creating test_cols_upper_all_columns() test function...\n",
      "`height(ft)`,`rank`,`age`,`weight(t)`,`japanese name`,`attributes`,`Date Type`,`Tiemstamp`,`Cybertronian`,`function(binary)`,`NullType` column(s) was not processed because is/are not string\n"
     ]
    }
   ],
   "source": [
    "t.create(None, \"cols.upper\", \"all_columns\", \"df\", \"*\")"
   ]
  },
  {
   "cell_type": "code",
   "execution_count": 300,
   "metadata": {},
   "outputs": [
    {
     "name": "stdout",
     "output_type": "stream",
     "text": [
      "Creating test_cols_trim() test function...\n"
     ]
    }
   ],
   "source": [
    "t.create(None, \"cols.trim\", None, \"df\", numeric_col)"
   ]
  },
  {
   "cell_type": "code",
   "execution_count": 301,
   "metadata": {},
   "outputs": [
    {
     "name": "stdout",
     "output_type": "stream",
     "text": [
      "Creating test_cols_trim_all_columns() test function...\n",
      "`japanese name`,`attributes`,`Tiemstamp`,`function(binary)`,`NullType` column(s) was not processed because is/are not byte,short,big,int,double,float,string,date,bool\n"
     ]
    }
   ],
   "source": [
    "t.create(None, \"cols.trim\", \"all_columns\", \"df\", \"*\")"
   ]
  },
  {
   "cell_type": "code",
   "execution_count": 302,
   "metadata": {},
   "outputs": [
    {
     "name": "stdout",
     "output_type": "stream",
     "text": [
      "Creating test_cols_reverse() test function...\n"
     ]
    }
   ],
   "source": [
    "t.create(None, \"cols.reverse\", None, \"df\", string_col)"
   ]
  },
  {
   "cell_type": "code",
   "execution_count": 303,
   "metadata": {},
   "outputs": [
    {
     "name": "stdout",
     "output_type": "stream",
     "text": [
      "Creating test_cols_reverse_all_columns() test function...\n",
      "`height(ft)`,`rank`,`age`,`weight(t)`,`japanese name`,`attributes`,`Date Type`,`Tiemstamp`,`Cybertronian`,`function(binary)`,`NullType` column(s) was not processed because is/are not string\n"
     ]
    }
   ],
   "source": [
    "t.create(None, \"cols.reverse\", \"all_columns\", \"df\", \"*\")"
   ]
  },
  {
   "cell_type": "code",
   "execution_count": 304,
   "metadata": {},
   "outputs": [
    {
     "name": "stdout",
     "output_type": "stream",
     "text": [
      "Creating test_cols_remove_accents() test function...\n"
     ]
    }
   ],
   "source": [
    "t.create(None, \"cols.remove_accents\", None, \"df\", string_col)"
   ]
  },
  {
   "cell_type": "code",
   "execution_count": 305,
   "metadata": {},
   "outputs": [
    {
     "name": "stdout",
     "output_type": "stream",
     "text": [
      "Creating test_cols_remove_accents_all_columns() test function...\n"
     ]
    }
   ],
   "source": [
    "t.create(None, \"cols.remove_accents\", \"all_columns\", \"df\", string_col)"
   ]
  },
  {
   "cell_type": "code",
   "execution_count": 306,
   "metadata": {},
   "outputs": [
    {
     "name": "stdout",
     "output_type": "stream",
     "text": [
      "Creating test_cols_remove_special_chars() test function...\n"
     ]
    }
   ],
   "source": [
    "t.create(None, \"cols.remove_special_chars\", None, \"df\", string_col)"
   ]
  },
  {
   "cell_type": "code",
   "execution_count": 307,
   "metadata": {},
   "outputs": [
    {
     "name": "stdout",
     "output_type": "stream",
     "text": [
      "Creating test_cols_remove_special_chars_all_columns() test function...\n",
      "`height(ft)`,`rank`,`age`,`weight(t)`,`japanese name`,`attributes`,`Date Type`,`Tiemstamp`,`Cybertronian`,`function(binary)`,`NullType` column(s) was not processed because is/are not str\n"
     ]
    }
   ],
   "source": [
    "t.create(None, \"cols.remove_special_chars\", \"all_columns\", \"df\", \"*\")"
   ]
  },
  {
   "cell_type": "code",
   "execution_count": 308,
   "metadata": {},
   "outputs": [
    {
     "name": "stdout",
     "output_type": "stream",
     "text": [
      "Creating test_cols_remove_white_spaces() test function...\n"
     ]
    }
   ],
   "source": [
    "t.create(None, \"cols.remove_white_spaces\", None, \"df\", string_col)"
   ]
  },
  {
   "cell_type": "code",
   "execution_count": 309,
   "metadata": {},
   "outputs": [
    {
     "name": "stdout",
     "output_type": "stream",
     "text": [
      "Creating test_cols_remove_white_spaces_all_columns() test function...\n",
      "`japanese name`,`attributes`,`Tiemstamp`,`function(binary)`,`NullType` column(s) was not processed because is/are not byte,short,big,int,double,float,string,date,bool\n"
     ]
    }
   ],
   "source": [
    "t.create(None, \"cols.remove_white_spaces\", \"all_columns\", \"df\", \"*\")"
   ]
  },
  {
   "cell_type": "code",
   "execution_count": 310,
   "metadata": {},
   "outputs": [
    {
     "name": "stdout",
     "output_type": "stream",
     "text": [
      "Creating test_cols_date_transform() test function...\n"
     ]
    }
   ],
   "source": [
    "t.create(None, \"cols.date_transform\", None, \"df\", date_col, \"yyyy/MM/dd\", \"dd-MM-YYYY\")"
   ]
  },
  {
   "cell_type": "code",
   "execution_count": 311,
   "metadata": {},
   "outputs": [
    {
     "name": "stdout",
     "output_type": "stream",
     "text": [
      "Creating test_cols_date_transform_all_columns() test function...\n"
     ]
    }
   ],
   "source": [
    "t.create(None, \"cols.date_transform\", \"all_columns\", \"df\", [date_col, date_col_B], \"yyyy/MM/dd\", \"dd-MM-YYYY\")"
   ]
  },
  {
   "cell_type": "code",
   "execution_count": 312,
   "metadata": {},
   "outputs": [
    {
     "name": "stdout",
     "output_type": "stream",
     "text": [
      "Creating test_cols_years_between() test function...\n"
     ]
    }
   ],
   "source": [
    "t.create(None, \"cols.years_between\", None, \"df\", data_col, \"yyyyMMdd\")"
   ]
  },
  {
   "cell_type": "code",
   "execution_count": 313,
   "metadata": {},
   "outputs": [
    {
     "name": "stdout",
     "output_type": "stream",
     "text": [
      "Creating test_cols_years_between_multiple_columns() test function...\n"
     ]
    }
   ],
   "source": [
    "t.create(None, \"cols.years_between\", \"multiple_columns\", \"df\", [date_col, date_col_B], \"yyyyMMdd\")"
   ]
  },
  {
   "cell_type": "code",
   "execution_count": 314,
   "metadata": {},
   "outputs": [
    {
     "name": "stdout",
     "output_type": "stream",
     "text": [
      "Creating test_cols_impute() test function...\n",
      "0 values imputed for column(s) 'rank'\n"
     ]
    }
   ],
   "source": [
    "t.create(None, \"cols.impute\", None, \"df\", numeric_col_B)"
   ]
  },
  {
   "cell_type": "code",
   "execution_count": 464,
   "metadata": {},
   "outputs": [
    {
     "name": "stdout",
     "output_type": "stream",
     "text": [
      "Creating test_cols_impute_all_columns() test function...\n",
      "Including 'nan' as Null in processing 'names'\n",
      "0 values imputed for column(s) 'names' with 'None'\n"
     ]
    }
   ],
   "source": [
    "t.create(None, \"cols.impute\", \"all_columns\", \"df\", \"names\",\"categorical\")"
   ]
  },
  {
   "cell_type": "code",
   "execution_count": 315,
   "metadata": {},
   "outputs": [
    {
     "name": "stdout",
     "output_type": "stream",
     "text": [
      "Creating test_cols_hist() test function...\n"
     ]
    }
   ],
   "source": [
    "t.create(None, \"cols.hist\", None, \"json\", numeric_col_B, 4)"
   ]
  },
  {
   "cell_type": "code",
   "execution_count": 458,
   "metadata": {},
   "outputs": [],
   "source": [
    "# t.create(None,\"cols.hist\",\"all_columns\",\"df\",\"*\",4)"
   ]
  },
  {
   "cell_type": "code",
   "execution_count": 317,
   "metadata": {},
   "outputs": [
    {
     "name": "stdout",
     "output_type": "stream",
     "text": [
      "Creating test_cols_frequency() test function...\n"
     ]
    }
   ],
   "source": [
    "t.create(None, \"cols.frequency\", None, \"json\", numeric_col_B, 4)"
   ]
  },
  {
   "cell_type": "code",
   "execution_count": 318,
   "metadata": {},
   "outputs": [
    {
     "name": "stdout",
     "output_type": "stream",
     "text": [
      "Creating test_cols_frequency_all_columns() test function...\n"
     ]
    }
   ],
   "source": [
    "t.create(None, \"cols.frequency\", \"all_columns\", \"json\", \"*\", 4)"
   ]
  },
  {
   "cell_type": "code",
   "execution_count": 319,
   "metadata": {},
   "outputs": [
    {
     "name": "stdout",
     "output_type": "stream",
     "text": [
      "Creating test_cols_schema_dtype() test function...\n"
     ]
    }
   ],
   "source": [
    "t.create(None, \"cols.schema_dtype\", None, \"json\", numeric_col_B)"
   ]
  },
  {
   "cell_type": "code",
   "execution_count": 414,
   "metadata": {},
   "outputs": [
    {
     "name": "stdout",
     "output_type": "stream",
     "text": [
      "Creating test_cols_schema_dtype_all_columns() test function...\n"
     ]
    }
   ],
   "source": [
    "t.create(None, \"cols.schema_dtype\", \"all_columns\", \"json\", \"*\")"
   ]
  },
  {
   "cell_type": "code",
   "execution_count": 321,
   "metadata": {},
   "outputs": [
    {
     "name": "stdout",
     "output_type": "stream",
     "text": [
      "Creating test_cols_dtypes() test function...\n"
     ]
    }
   ],
   "source": [
    "t.create(None, \"cols.dtypes\", None, \"json\", numeric_col_B)"
   ]
  },
  {
   "cell_type": "code",
   "execution_count": 322,
   "metadata": {},
   "outputs": [
    {
     "name": "stdout",
     "output_type": "stream",
     "text": [
      "Creating test_cols_dtypes_all_columns() test function...\n"
     ]
    }
   ],
   "source": [
    "t.create(None, \"cols.dtypes\", \"all_columns\", \"json\", \"*\")"
   ]
  },
  {
   "cell_type": "code",
   "execution_count": 323,
   "metadata": {},
   "outputs": [
    {
     "name": "stdout",
     "output_type": "stream",
     "text": [
      "Creating test_cols_select_by_dtypes_str() test function...\n",
      "`height(ft)`,`rank`,`age`,`weight(t)`,`japanese name`,`attributes`,`Date Type`,`Tiemstamp`,`Cybertronian`,`function(binary)`,`NullType` column(s) was not processed because is/are not str\n"
     ]
    }
   ],
   "source": [
    "t.create(None, \"cols.select_by_dtypes\", \"str\", \"df\", \"str\")"
   ]
  },
  {
   "cell_type": "code",
   "execution_count": 324,
   "metadata": {},
   "outputs": [
    {
     "name": "stdout",
     "output_type": "stream",
     "text": [
      "Creating test_cols_select_by_dtypes_int() test function...\n",
      "`names`,`height(ft)`,`function`,`rank`,`weight(t)`,`japanese name`,`last position seen`,`date arrival`,`last date seen`,`attributes`,`Date Type`,`Tiemstamp`,`Cybertronian`,`function(binary)`,`NullType` column(s) was not processed because is/are not int\n"
     ]
    }
   ],
   "source": [
    "t.create(None, \"cols.select_by_dtypes\", \"int\", \"df\", \"int\")"
   ]
  },
  {
   "cell_type": "code",
   "execution_count": 325,
   "metadata": {},
   "outputs": [
    {
     "name": "stdout",
     "output_type": "stream",
     "text": [
      "Creating test_cols_select_by_dtypes_float() test function...\n",
      "`names`,`height(ft)`,`function`,`rank`,`age`,`japanese name`,`last position seen`,`date arrival`,`last date seen`,`attributes`,`Date Type`,`Tiemstamp`,`Cybertronian`,`function(binary)`,`NullType` column(s) was not processed because is/are not float\n"
     ]
    }
   ],
   "source": [
    "t.create(None, \"cols.select_by_dtypes\", \"float\", \"df\", \"float\")"
   ]
  },
  {
   "cell_type": "code",
   "execution_count": 326,
   "metadata": {},
   "outputs": [
    {
     "name": "stdout",
     "output_type": "stream",
     "text": [
      "Creating test_cols_select_by_dtypes_array() test function...\n",
      "`names`,`height(ft)`,`function`,`rank`,`age`,`weight(t)`,`last position seen`,`date arrival`,`last date seen`,`Date Type`,`Tiemstamp`,`Cybertronian`,`function(binary)`,`NullType` column(s) was not processed because is/are not array\n"
     ]
    }
   ],
   "source": [
    "t.create(None, \"cols.select_by_dtypes\", \"array\", \"df\", \"array\")"
   ]
  },
  {
   "cell_type": "code",
   "execution_count": 327,
   "metadata": {},
   "outputs": [
    {
     "name": "stdout",
     "output_type": "stream",
     "text": [
      "Creating test_cols_names() test function...\n"
     ]
    }
   ],
   "source": [
    "t.create(None, \"cols.names\", None, \"json\")"
   ]
  },
  {
   "cell_type": "code",
   "execution_count": 328,
   "metadata": {},
   "outputs": [
    {
     "name": "stdout",
     "output_type": "stream",
     "text": [
      "Creating test_cols_qcut() test function...\n"
     ]
    }
   ],
   "source": [
    "t.create(None, \"cols.qcut\", None, \"df\", numeric_col_B, 4)"
   ]
  },
  {
   "cell_type": "code",
   "execution_count": 329,
   "metadata": {},
   "outputs": [
    {
     "name": "stdout",
     "output_type": "stream",
     "text": [
      "Creating test_cols_qcut_all_columns() test function...\n",
      "`names`,`function`,`japanese name`,`last position seen`,`date arrival`,`last date seen`,`attributes`,`Date Type`,`Tiemstamp`,`Cybertronian`,`function(binary)`,`NullType` column(s) was not processed because is/are not byte,short,big,int,double,float\n"
     ]
    }
   ],
   "source": [
    "t.create(None, \"cols.qcut\", \"all_columns\", \"df\", \"*\", 4)"
   ]
  },
  {
   "cell_type": "code",
   "execution_count": 330,
   "metadata": {},
   "outputs": [
    {
     "name": "stdout",
     "output_type": "stream",
     "text": [
      "Creating test_cols_clip() test function...\n"
     ]
    }
   ],
   "source": [
    "t.create(None, \"cols.clip\", None, \"df\", numeric_col_B, 3, 5)"
   ]
  },
  {
   "cell_type": "code",
   "execution_count": 331,
   "metadata": {},
   "outputs": [
    {
     "name": "stdout",
     "output_type": "stream",
     "text": [
      "Creating test_cols_clip_all_columns() test function...\n",
      "`names`,`function`,`japanese name`,`last position seen`,`date arrival`,`last date seen`,`attributes`,`Date Type`,`Tiemstamp`,`Cybertronian`,`function(binary)`,`NullType` column(s) was not processed because is/are not byte,short,big,int,double,float\n"
     ]
    }
   ],
   "source": [
    "t.create(None, \"cols.clip\", \"all_columns\", \"df\", \"*\", 3, 5)"
   ]
  },
  {
   "cell_type": "code",
   "execution_count": 332,
   "metadata": {},
   "outputs": [
    {
     "name": "stdout",
     "output_type": "stream",
     "text": [
      "Creating test_cols_replace() test function...\n"
     ]
    }
   ],
   "source": [
    "t.create(None, \"cols.replace\", None, \"df\", string_col, [(\"Security\", \"Leader\")], \"Match\")"
   ]
  },
  {
   "cell_type": "code",
   "execution_count": 333,
   "metadata": {},
   "outputs": [
    {
     "name": "stdout",
     "output_type": "stream",
     "text": [
      "Creating test_cols_replace_all_columns() test function...\n",
      "`japanese name`,`attributes`,`Date Type`,`Tiemstamp`,`Cybertronian`,`function(binary)`,`NullType` column(s) was not processed because is/are not str,byte,short,big,int,double,float\n"
     ]
    }
   ],
   "source": [
    "t.create(None, \"cols.replace\", \"all_columns\", \"df\", \"*\", [(\"Jazz\", \"Leader\")], \"Match\")"
   ]
  },
  {
   "cell_type": "code",
   "execution_count": 334,
   "metadata": {},
   "outputs": [
    {
     "name": "stdout",
     "output_type": "stream",
     "text": [
      "Creating test_cols_apply_expr() test function...\n"
     ]
    }
   ],
   "source": [
    "t.create(None, \"cols.apply_expr\", None, \"df\", numeric_col_B, func)"
   ]
  },
  {
   "cell_type": "code",
   "execution_count": 335,
   "metadata": {},
   "outputs": [
    {
     "name": "stdout",
     "output_type": "stream",
     "text": [
      "Creating test_cols_apply_expr_all_columns() test function...\n"
     ]
    }
   ],
   "source": [
    "t.create(None, \"cols.apply_expr\", \"all_columns\", \"df\", [numeric_col_B,numeric_col_C], func)"
   ]
  },
  {
   "cell_type": "code",
   "execution_count": 336,
   "metadata": {},
   "outputs": [
    {
     "name": "stdout",
     "output_type": "stream",
     "text": [
      "Creating test_cols_append_number() test function...\n"
     ]
    }
   ],
   "source": [
    "t.create(None, \"cols.append\", \"number\", \"df\", new_col, 1)"
   ]
  },
  {
   "cell_type": "code",
   "execution_count": 337,
   "metadata": {},
   "outputs": [],
   "source": [
    "#t.create(None, \"cols.append\", \"advance\", \"df\", [(\"new_col_4\", \"test\"),\n",
    "    #                                                (\"new_col_5\", df[numeric_col_B] * 2),\n",
    "    #                                                (\"new_col_6\", [1, 2, 3])\n",
    "    #                                                ]),\n"
   ]
  },
  {
   "cell_type": "code",
   "execution_count": 338,
   "metadata": {},
   "outputs": [
    {
     "name": "stdout",
     "output_type": "stream",
     "text": [
      "Creating test_cols_rename() test function...\n"
     ]
    }
   ],
   "source": [
    "t.create(None, \"cols.rename\", None, \"df\", numeric_col_B, numeric_col_B + \"(old)\")"
   ]
  },
  {
   "cell_type": "code",
   "execution_count": 339,
   "metadata": {},
   "outputs": [
    {
     "name": "stdout",
     "output_type": "stream",
     "text": [
      "Creating test_cols_rename_list() test function...\n"
     ]
    }
   ],
   "source": [
    "t.create(None, \"cols.rename\", \"list\", \"df\", [numeric_col, numeric_col + \"(tons)\", numeric_col_B, numeric_col_B + \"(old)\"])"
   ]
  },
  {
   "cell_type": "code",
   "execution_count": 340,
   "metadata": {},
   "outputs": [
    {
     "name": "stdout",
     "output_type": "stream",
     "text": [
      "Creating test_cols_rename_function() test function...\n"
     ]
    }
   ],
   "source": [
    "t.create(None, \"cols.rename\", \"function\", \"df\", str.upper)"
   ]
  },
  {
   "cell_type": "code",
   "execution_count": 341,
   "metadata": {},
   "outputs": [
    {
     "name": "stdout",
     "output_type": "stream",
     "text": [
      "Creating test_cols_drop() test function...\n"
     ]
    }
   ],
   "source": [
    "t.create(None, \"cols.drop\", None, \"df\", numeric_col_B)"
   ]
  },
  {
   "cell_type": "code",
   "execution_count": 342,
   "metadata": {},
   "outputs": [
    {
     "name": "stdout",
     "output_type": "stream",
     "text": [
      "Creating test_cols_cast() test function...\n"
     ]
    }
   ],
   "source": [
    "t.create(None, \"cols.cast\", None, \"df\", string_col, \"string\")"
   ]
  },
  {
   "cell_type": "code",
   "execution_count": 343,
   "metadata": {},
   "outputs": [
    {
     "name": "stdout",
     "output_type": "stream",
     "text": [
      "Creating test_cols_cast_all_columns() test function...\n"
     ]
    }
   ],
   "source": [
    "t.create(None, \"cols.cast\", \"all_columns\", \"df\", \"*\", \"string\")"
   ]
  },
  {
   "cell_type": "code",
   "execution_count": 344,
   "metadata": {},
   "outputs": [
    {
     "name": "stdout",
     "output_type": "stream",
     "text": [
      "Creating test_cols_cast_vector() test function...\n"
     ]
    }
   ],
   "source": [
    "t.create(None, \"cols.cast\", \"vector\", \"df\", array_col, Vectors)"
   ]
  },
  {
   "cell_type": "code",
   "execution_count": 345,
   "metadata": {},
   "outputs": [
    {
     "name": "stdout",
     "output_type": "stream",
     "text": [
      "Creating test_cols_keep() test function...\n"
     ]
    }
   ],
   "source": [
    "t.create(None, \"cols.keep\", None, \"df\", numeric_col_B)"
   ]
  },
  {
   "cell_type": "code",
   "execution_count": 346,
   "metadata": {},
   "outputs": [
    {
     "name": "stdout",
     "output_type": "stream",
     "text": [
      "Creating test_cols_move_after() test function...\n"
     ]
    }
   ],
   "source": [
    "t.create(None, \"cols.move\", \"after\", \"df\", numeric_col_B, \"after\", array_col)"
   ]
  },
  {
   "cell_type": "code",
   "execution_count": 347,
   "metadata": {},
   "outputs": [
    {
     "name": "stdout",
     "output_type": "stream",
     "text": [
      "Creating test_cols_move_before() test function...\n"
     ]
    }
   ],
   "source": [
    "t.create(None, \"cols.move\", \"before\", \"df\", numeric_col_B, \"before\", array_col)"
   ]
  },
  {
   "cell_type": "code",
   "execution_count": 348,
   "metadata": {},
   "outputs": [
    {
     "name": "stdout",
     "output_type": "stream",
     "text": [
      "Creating test_cols_move_beginning() test function...\n"
     ]
    }
   ],
   "source": [
    "t.create(None, \"cols.move\", \"beginning\", \"df\", numeric_col_B, \"beginning\")"
   ]
  },
  {
   "cell_type": "code",
   "execution_count": 349,
   "metadata": {},
   "outputs": [
    {
     "name": "stdout",
     "output_type": "stream",
     "text": [
      "Creating test_cols_move_end() test function...\n"
     ]
    }
   ],
   "source": [
    "t.create(None, \"cols.move\", \"end\", \"df\", numeric_col_B, \"end\")"
   ]
  },
  {
   "cell_type": "code",
   "execution_count": 350,
   "metadata": {},
   "outputs": [
    {
     "name": "stdout",
     "output_type": "stream",
     "text": [
      "Creating test_cols_select() test function...\n"
     ]
    }
   ],
   "source": [
    "t.create(None, \"cols.select\", None, \"df\", 0, numeric_col)"
   ]
  },
  {
   "cell_type": "code",
   "execution_count": 351,
   "metadata": {},
   "outputs": [
    {
     "name": "stdout",
     "output_type": "stream",
     "text": [
      "Creating test_cols_select_regex() test function...\n"
     ]
    },
    {
     "data": {
      "text/plain": [
       "(None,)"
      ]
     },
     "execution_count": 351,
     "metadata": {},
     "output_type": "execute_result"
    }
   ],
   "source": [
    "t.create(None, \"cols.select\", \"regex\", \"df\", \"n.*\", regex=True),"
   ]
  },
  {
   "cell_type": "code",
   "execution_count": 356,
   "metadata": {},
   "outputs": [
    {
     "name": "stdout",
     "output_type": "stream",
     "text": [
      "Creating test_cols_sort() test function...\n"
     ]
    }
   ],
   "source": [
    "t.create(None, \"cols.sort\", None, \"df\")"
   ]
  },
  {
   "cell_type": "code",
   "execution_count": 357,
   "metadata": {},
   "outputs": [
    {
     "name": "stdout",
     "output_type": "stream",
     "text": [
      "Creating test_cols_sort_desc() test function...\n"
     ]
    }
   ],
   "source": [
    "t.create(None, \"cols.sort\", \"desc\", \"df\", \"desc\")"
   ]
  },
  {
   "cell_type": "code",
   "execution_count": 358,
   "metadata": {},
   "outputs": [
    {
     "name": "stdout",
     "output_type": "stream",
     "text": [
      "Creating test_cols_sort_asc() test function...\n"
     ]
    }
   ],
   "source": [
    "t.create(None, \"cols.sort\", \"asc\", \"df\", \"asc\")"
   ]
  },
  {
   "cell_type": "code",
   "execution_count": 413,
   "metadata": {},
   "outputs": [
    {
     "name": "stdout",
     "output_type": "stream",
     "text": [
      "Creating test_cols_fill_na() test function...\n"
     ]
    }
   ],
   "source": [
    "t.create(None, \"cols.fill_na\", None, \"df\", numeric_col, \"1\")"
   ]
  },
  {
   "cell_type": "code",
   "execution_count": 401,
   "metadata": {},
   "outputs": [
    {
     "name": "stdout",
     "output_type": "stream",
     "text": [
      "Creating test_cols_fill_na_all_columns() test function...\n"
     ]
    }
   ],
   "source": [
    "t.create(None, \"cols.fill_na\", \"all_columns\", \"df\", \"*\", \"2\")"
   ]
  },
  {
   "cell_type": "code",
   "execution_count": 402,
   "metadata": {},
   "outputs": [
    {
     "name": "stdout",
     "output_type": "stream",
     "text": [
      "Creating test_cols_nest() test function...\n"
     ]
    }
   ],
   "source": [
    "t.create(None, \"cols.nest\", None, \"df\", [numeric_col, numeric_col_B], new_col, separator=\" \")"
   ]
  },
  {
   "cell_type": "code",
   "execution_count": 447,
   "metadata": {},
   "outputs": [],
   "source": [
    "# t.create(None, \"cols.nest\", \"mix\", \"df\", [F.col(numeric_col_C), F.col(numeric_col_B)], \"E\", separator=\"--\")"
   ]
  },
  {
   "cell_type": "code",
   "execution_count": 445,
   "metadata": {},
   "outputs": [
    {
     "name": "stdout",
     "output_type": "stream",
     "text": [
      "height(ft) rank\n",
      "Creating test_cols_nest_vector_all_columns() test function...\n"
     ]
    }
   ],
   "source": [
    "t.create(None, \"cols.nest\", \"vector_all_columns\", \"df\", [numeric_col_C, numeric_col_B], new_col, shape=\"vector\")"
   ]
  },
  {
   "cell_type": "code",
   "execution_count": 439,
   "metadata": {},
   "outputs": [
    {
     "name": "stdout",
     "output_type": "stream",
     "text": [
      "Creating test_cols_nest_vector() test function...\n"
     ]
    }
   ],
   "source": [
    "t.create(None, \"cols.nest\", \"vector\", \"df\", [numeric_col_C, numeric_col_B], new_col, shape=\"vector\")"
   ]
  },
  {
   "cell_type": "code",
   "execution_count": 435,
   "metadata": {},
   "outputs": [
    {
     "name": "stdout",
     "output_type": "stream",
     "text": [
      "Creating test_cols_nest_array_all_columns() test function...\n"
     ]
    }
   ],
   "source": [
    "t.create(None, \"cols.nest\", \"array_all_columns\", \"df\", \"*\", new_col, shape=\"array\")"
   ]
  },
  {
   "cell_type": "code",
   "execution_count": 407,
   "metadata": {},
   "outputs": [
    {
     "name": "stdout",
     "output_type": "stream",
     "text": [
      "Creating test_cols_nest_array() test function...\n"
     ]
    }
   ],
   "source": [
    "t.create(None, \"cols.nest\", \"array\", \"df\", [numeric_col, numeric_col_B,numeric_col_C], new_col, shape=\"array\")"
   ]
  },
  {
   "cell_type": "code",
   "execution_count": 408,
   "metadata": {},
   "outputs": [
    {
     "name": "stdout",
     "output_type": "stream",
     "text": [
      "Creating test_cols_unnest_array_all_columns() test function...\n"
     ]
    }
   ],
   "source": [
    "t.create(None, \"cols.unnest\", \"array_all_columns\", \"df\", array_col, \"-\", index=1)"
   ]
  },
  {
   "cell_type": "code",
   "execution_count": 409,
   "metadata": {},
   "outputs": [
    {
     "name": "stdout",
     "output_type": "stream",
     "text": [
      "Creating test_cols_unnest_array() test function...\n"
     ]
    }
   ],
   "source": [
    "t.create(None, \"cols.unnest\", \"array\", \"df\", array_col)"
   ]
  },
  {
   "cell_type": "code",
   "execution_count": 410,
   "metadata": {},
   "outputs": [
    {
     "name": "stdout",
     "output_type": "stream",
     "text": [
      "Creating test_cols_unnest_array_all_columns() test function...\n"
     ]
    }
   ],
   "source": [
    "t.create(None, \"cols.unnest\", \"array_all_columns\", \"df\", array_col)"
   ]
  },
  {
   "cell_type": "code",
   "execution_count": 411,
   "metadata": {},
   "outputs": [
    {
     "name": "stdout",
     "output_type": "stream",
     "text": [
      "Creating test_cols_is_na_all_columns() test function...\n"
     ]
    }
   ],
   "source": [
    "t.create(None, \"cols.is_na\", \"all_columns\", \"df\", \"*\")"
   ]
  },
  {
   "cell_type": "code",
   "execution_count": 412,
   "metadata": {
    "scrolled": false
   },
   "outputs": [
    {
     "name": "stdout",
     "output_type": "stream",
     "text": [
      "Creating test_cols_is_na() test function...\n"
     ]
    },
    {
     "data": {
      "text/plain": [
       "(None,)"
      ]
     },
     "execution_count": 412,
     "metadata": {},
     "output_type": "execute_result"
    }
   ],
   "source": [
    "t.create(None, \"cols.is_na\", None, \"df\", numeric_col),"
   ]
  },
  {
   "cell_type": "code",
   "execution_count": 436,
   "metadata": {},
   "outputs": [
    {
     "name": "stdout",
     "output_type": "stream",
     "text": [
      "Creating file df_cols/all_df_cols.py\n",
      "Done\n"
     ]
    }
   ],
   "source": [
    "t.run()"
   ]
  },
  {
   "cell_type": "markdown",
   "metadata": {},
   "source": [
    "# Rows Test"
   ]
  },
  {
   "cell_type": "code",
   "execution_count": 15,
   "metadata": {},
   "outputs": [],
   "source": [
    "t = Test(op,df, \"df_rows\", imports=[\"from pyspark.ml.linalg import Vectors, VectorUDT, DenseVector\",\n",
    "                                         \"import numpy as np\",\n",
    "                                        \"nan = np.nan\",\n",
    "                                        \"import datetime\",\n",
    "                                        \"from pyspark.sql import functions as F\",\n",
    "                                        \"from optimus.functions import abstract_udf as audf\"])"
   ]
  },
  {
   "cell_type": "code",
   "execution_count": 16,
   "metadata": {},
   "outputs": [],
   "source": [
    "rows = [\n",
    "        (\"Optim'us\", 28, \"Leader\", 10, 5000000, 4.30, [\"Inochi\", \"Convoy\"], \"19.442735,-99.201111\", \"1980/04/10\",\n",
    "         \"2016/09/10\", [8.5344, 4300.0], date(2016, 9, 10), datetime(2014, 6, 24), True, bytearray(\"Leader\", \"utf-8\"),\n",
    "         None)\n",
    "]"
   ]
  },
  {
   "cell_type": "code",
   "execution_count": 23,
   "metadata": {},
   "outputs": [],
   "source": [
    "df = op.load.url(\"https://raw.githubusercontent.com/ironmussa/Optimus/master/examples/data/foo.csv\")"
   ]
  },
  {
   "cell_type": "code",
   "execution_count": 24,
   "metadata": {},
   "outputs": [],
   "source": [
    "t = Test(op, df, \"op_io\", imports=[\"from pyspark.ml.linalg import Vectors, VectorUDT, DenseVector\",\n",
    "                                        \"import numpy as np\",\n",
    "                                        \"nan = np.nan\",\n",
    "                                        \"import datetime\",\n",
    "                                        \"from pyspark.sql import functions as F\"])"
   ]
  },
  {
   "cell_type": "code",
   "execution_count": 25,
   "metadata": {
    "lines_to_next_cell": 0
   },
   "outputs": [
    {
     "name": "stdout",
     "output_type": "stream",
     "text": [
      "Creating test_load_csv() test function...\n",
      "Creating test_load_json() test function...\n",
      "Creating test_load_parquet() test function...\n",
      "Creating test_load_url_csv() test function...\n",
      "Creating test_load_url_json() test function...\n",
      "Creating test_load_url_parquet() test function...\n",
      "Creating test_save_csv() test function...\n",
      "Creating test_save_json() test function...\n",
      "Creating test_save_parquet() test function...\n",
      "Creating file test_op_io.py\n",
      "Done\n"
     ]
    }
   ],
   "source": [
    "t.run(\n",
    "    \n",
    "    t.create(op, \"load.csv\", None, \"df\", \"../examples/data/foo.csv\"),\n",
    "    t.create(op, \"load.json\", None, \"df\", \"../examples/data/foo.json\"),\n",
    "    t.create(op, \"load.parquet\", None, \"df\", \"../examples/data/foo.parquet\"),\n",
    "\n",
    "    t.create(op, \"load.url\", \"csv\", \"df\", \"https://raw.githubusercontent.com/ironmussa/Optimus/master/examples/data/foo.csv\"),\n",
    "    t.create(op, \"load.url\", \"json\", \"df\", \"https://raw.githubusercontent.com/ironmussa/Optimus/master/examples/data/foo.json\",\"json\"),\n",
    "    t.create(op, \"load.url\", \"parquet\", \"df\", \"https://raw.githubusercontent.com/ironmussa/Optimus/master/examples/data/foo.parquet\",\"parquet\"),\n",
    "    \n",
    "     t.create(None, \"save.csv\", None, None, \"test.csv\"),\n",
    "     t.create(None, \"save.json\", None, None, \"test.json\"),\n",
    "     t.create(None, \"save.parquet\", None, None, \"test.parquet\"),\n",
    "    \n",
    "     \n",
    "    \n",
    ")"
   ]
  },
  {
   "cell_type": "code",
   "execution_count": null,
   "metadata": {
    "lines_to_next_cell": 2
   },
   "outputs": [],
   "source": []
  }
 ],
 "metadata": {
  "jupytext": {
   "formats": "ipynb,py:light"
  },
  "kernelspec": {
   "display_name": "Python 3",
   "language": "python",
   "name": "python3"
  },
  "language_info": {
   "codemirror_mode": {
    "name": "ipython",
    "version": 3
   },
   "file_extension": ".py",
   "mimetype": "text/x-python",
   "name": "python",
   "nbconvert_exporter": "python",
   "pygments_lexer": "ipython3",
   "version": "3.7.1"
  }
 },
 "nbformat": 4,
 "nbformat_minor": 2
}
