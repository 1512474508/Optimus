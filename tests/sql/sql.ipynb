{
 "cells": [
  {
   "cell_type": "code",
   "execution_count": 1,
   "metadata": {
    "pycharm": {
     "is_executing": false
    }
   },
   "outputs": [],
   "source": [
    "# If you modify Optimus or any library this code is going to reload it\n",
    "%load_ext autoreload\n",
    "%autoreload "
   ]
  },
  {
   "cell_type": "code",
   "execution_count": 2,
   "metadata": {
    "pycharm": {
     "is_executing": false
    }
   },
   "outputs": [],
   "source": [
    "# If you are in the example folder. This is the way to find optimus\n",
    "import sys"
   ]
  },
  {
   "cell_type": "code",
   "execution_count": 3,
   "metadata": {
    "pycharm": {
     "is_executing": false
    }
   },
   "outputs": [],
   "source": [
    "sys.path.append(\"../..\")"
   ]
  },
  {
   "cell_type": "code",
   "execution_count": 4,
   "metadata": {
    "pycharm": {
     "is_executing": false
    }
   },
   "outputs": [],
   "source": [
    "import os\n",
    "os.environ[\"SPARK_HOME\"] = \"/opt/spark/\""
   ]
  },
  {
   "cell_type": "code",
   "execution_count": 5,
   "metadata": {
    "pycharm": {
     "is_executing": false
    }
   },
   "outputs": [],
   "source": [
    "from optimus import Optimus\n",
    "op = Optimus(verbose=True)"
   ]
  },
  {
   "cell_type": "code",
   "execution_count": 6,
   "metadata": {
    "pycharm": {
     "is_executing": false
    }
   },
   "outputs": [],
   "source": [
    "import records"
   ]
  },
  {
   "cell_type": "markdown",
   "metadata": {},
   "source": [
    "## Oracle"
   ]
  },
  {
   "cell_type": "code",
   "execution_count": 6,
   "metadata": {
    "pycharm": {
     "is_executing": false
    }
   },
   "outputs": [],
   "source": []
  },
  {
   "cell_type": "markdown",
   "metadata": {},
   "source": [
    "## Mysql"
   ]
  },
  {
   "cell_type": "code",
   "execution_count": 8,
   "metadata": {
    "pycharm": {
     "is_executing": false
    }
   },
   "outputs": [],
   "source": [
    "host = \"127.0.0.1\"\n",
    "port= 3306\n",
    "driver = \"mysql\"\n",
    "user = \"SA\"\n",
    "password = \"SA123\"\n",
    "db_name = \"optimus\"\n",
    "\n",
    "db = records.Database('{DRIVER}://{USER}:{PASSWORD}@{HOST}:{PORT}/{DB}?auth_plugin=mysql_native_password'.format(DRIVER=driver, USER=user, PASSWORD=password, HOST=host, PORT=port,DB=db_name))\n",
    "\n",
    "db.query_file('main.sql')\n",
    "db.query_file('secondary.sql')"
   ]
  },
  {
   "cell_type": "code",
   "execution_count": 13,
   "metadata": {
    "pycharm": {
     "is_executing": false
    }
   },
   "outputs": [],
   "source": [
    "# Put your db credentials here\n",
    "db_mysql = op.connect(\n",
    "    db_type=\"mysql\",\n",
    "    host=host,\n",
    "    database= db_name,\n",
    "    user= user,\n",
    "    password = password,\n",
    "    port=port)"
   ]
  },
  {
   "cell_type": "code",
   "execution_count": 10,
   "metadata": {
    "pycharm": {
     "is_executing": false
    }
   },
   "outputs": [],
   "source": [
    "# Get all tables"
   ]
  },
  {
   "cell_type": "code",
   "execution_count": 26,
   "metadata": {
    "pycharm": {
     "is_executing": false
    }
   },
   "outputs": [],
   "source": [
    "\n",
    "df = db_mysql.table_to_df('optimus.main', limit='all')"
   ]
  },
  {
   "cell_type": "markdown",
   "metadata": {},
   "source": [
    "## Postgres"
   ]
  },
  {
   "cell_type": "code",
   "execution_count": 7,
   "metadata": {
    "pycharm": {
     "is_executing": false
    }
   },
   "outputs": [],
   "source": [
    "host = \"127.0.0.1\"\n",
    "port= 5432\n",
    "driver = \"postgresql\"\n",
    "user = \"SA\"\n",
    "password = \"SA123\"\n",
    "db_name = \"optimus\"\n",
    "db = \"postgres\"\n",
    "\n",
    "db = records.Database('{DRIVER}://{USER}:{PASSWORD}@{HOST}:{PORT}/{DB}'.format(DRIVER=driver, USER=user, PASSWORD=password, HOST=host, PORT=port,DB=db_name))\n",
    "\n",
    "db.query_file('main.sql')\n",
    "db.query_file('secondary.sql')\n",
    "\n",
    "db_postgres = op.connect(\n",
    "    db_type=\"postgres\",\n",
    "    host=host,\n",
    "    database= db_name,\n",
    "    user= user,\n",
    "    password = password,\n",
    "    port=port)\n",
    "\n",
    "df = db_postgres.table_to_df('main', limit='all')"
   ]
  },
  {
   "cell_type": "code",
   "execution_count": null,
   "metadata": {
    "pycharm": {
     "is_executing": false
    }
   },
   "outputs": [],
   "source": [
    "# Put your db credentials here\n",
    "db =  op.connect(\n",
    "    db_type=\"postgres\",\n",
    "    host=host,\n",
    "    database= db_name,\n",
    "    user= user,\n",
    "    password = password,\n",
    "    port=port)"
   ]
  },
  {
   "cell_type": "code",
   "execution_count": null,
   "metadata": {
    "pycharm": {
     "is_executing": false
    }
   },
   "outputs": [],
   "source": [
    "db.url"
   ]
  },
  {
   "cell_type": "code",
   "execution_count": null,
   "metadata": {
    "pycharm": {
     "is_executing": false
    }
   },
   "outputs": [],
   "source": [
    "a = db.table.show('main')"
   ]
  },
  {
   "cell_type": "markdown",
   "metadata": {},
   "source": [
    "## Redshift"
   ]
  },
  {
   "cell_type": "code",
   "execution_count": null,
   "metadata": {
    "pycharm": {
     "is_executing": false
    }
   },
   "outputs": [],
   "source": [
    "!pip install redshift-sqlalchemy"
   ]
  },
  {
   "cell_type": "code",
   "execution_count": null,
   "metadata": {
    "pycharm": {
     "is_executing": false
    }
   },
   "outputs": [],
   "source": [
    "port= 5439\n",
    "driver = \"postgres\"\n",
    "user = \"SA\"\n",
    "password = \"SA123\"\n",
    "db = \"optimus\"\n",
    "\n",
    "connection ='{DRIVER}://{USER}:{PASSWORD}@{HOST}:{PORT}/{DB}'.format(DRIVER=driver, USER=user, PASSWORD=password, HOST=\"127.0.0.1\", PORT=port,DB=db)\n",
    "print(connection)\n",
    "db = records.Database(connection)\n",
    "\n",
    "db.query_file('main.sql')\n",
    "db.query_file('secondary.sql')"
   ]
  },
  {
   "cell_type": "code",
   "execution_count": null,
   "metadata": {
    "pycharm": {
     "is_executing": false
    }
   },
   "outputs": [],
   "source": [
    "# Put your db credentials here\n",
    "db = op.connect(\n",
    "    db_type=\"redshift\",\n",
    "    host=\"yopter.ccyy9l6xansm.us-east-1.redshift.amazonaws.com\",\n",
    "    database= \"yopterdwh\",\n",
    "    user= \"yopterrs\",\n",
    "    password = \"wDY9nkAET8Af\",\n",
    "    port=\"5439\")"
   ]
  },
  {
   "cell_type": "code",
   "execution_count": null,
   "metadata": {
    "pycharm": {
     "is_executing": false
    }
   },
   "outputs": [],
   "source": [
    "a = db.tables()"
   ]
  },
  {
   "cell_type": "code",
   "execution_count": null,
   "metadata": {
    "pycharm": {
     "is_executing": false
    }
   },
   "outputs": [],
   "source": [
    "a.show()"
   ]
  },
  {
   "cell_type": "markdown",
   "metadata": {},
   "source": [
    "## Mysql server"
   ]
  },
  {
   "cell_type": "code",
   "execution_count": null,
   "metadata": {
    "pycharm": {
     "is_executing": false
    }
   },
   "outputs": [],
   "source": [
    "port = 1433\n",
    "driver = \"mssql+pyodbc\"\n",
    "user = \"SA\"\n",
    "password = \"SA123\"\n",
    "db = \"optimus\"\n",
    "\n",
    "# port 1433\n",
    "\n",
    "connection = '{DRIVER}://{USER}:{PASSWORD}@{HOST}:{PORT}/{DB}'.format(DRIVER=driver, USER=user, PASSWORD=password, HOST=host, PORT=port,DB=db)\n",
    "db = records.Database(connection)\n",
    "# rows = db.query('select * from active_users')    # or \n",
    "db.query_file('main.sql')\n",
    "db.query_file('secondary.sql')"
   ]
  },
  {
   "cell_type": "markdown",
   "source": [
    "## Cassandra"
   ],
   "metadata": {
    "collapsed": false
   }
  },
  {
   "cell_type": "code",
   "execution_count": null,
   "outputs": [],
   "source": [
    "db = op.connect(\n",
    "    db_type=\"cassandra\",\n",
    "    host=\"127.0.0.1\",\n",
    "    database=\"cassandra\",\n",
    "    user=\"cassandra\",\n",
    "    password=\"cassandra\",\n",
    "    cassandra_keyspace=\"optimus\",\n",
    "    cassandra_table=\"main\",\n",
    "    port=\"9042\"\n",
    ")"
   ],
   "metadata": {
    "collapsed": false,
    "pycharm": {
     "name": "#%%\n",
     "is_executing": false
    }
   }
  },
  {
   "cell_type": "code",
   "execution_count": null,
   "outputs": [],
   "source": [
    "db.table.show(\"optimus.main\", \"10\")\n"
   ],
   "metadata": {
    "collapsed": false,
    "pycharm": {
     "name": "#%%\n",
     "is_executing": false
    }
   }
  }
 ],
 "metadata": {
  "kernelspec": {
   "name": "pycharm-b37bb0cb",
   "language": "python",
   "display_name": "PyCharm (Optimus)"
  },
  "language_info": {
   "codemirror_mode": {
    "name": "ipython",
    "version": 3
   },
   "file_extension": ".py",
   "mimetype": "text/x-python",
   "name": "python",
   "nbconvert_exporter": "python",
   "pygments_lexer": "ipython3",
   "version": "3.6.9"
  },
  "pycharm": {
   "stem_cell": {
    "cell_type": "raw",
    "source": [],
    "metadata": {
     "collapsed": false
    }
   }
  }
 },
 "nbformat": 4,
 "nbformat_minor": 2
}