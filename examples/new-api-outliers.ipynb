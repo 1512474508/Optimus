{
 "cells": [
  {
   "cell_type": "markdown",
   "metadata": {},
   "source": [
    "* http://colingorrie.github.io/outlier-detection.html\n",
    "* http://blog.madhukaraphatak.com/statistical-data-exploration-spark-part-3/\n",
    "* http://blog.caseystella.com/pyspark-openpayments-analysis-part-4.html\n",
    "* http://rstudio-pubs-static.s3.amazonaws.com/228345_4c20226b21714b7e8fa3782e6c8a1779.html"
   ]
  },
  {
   "cell_type": "code",
   "execution_count": 1,
   "metadata": {},
   "outputs": [],
   "source": [
    "%load_ext autoreload\n",
    "%autoreload 2"
   ]
  },
  {
   "cell_type": "code",
   "execution_count": 2,
   "metadata": {},
   "outputs": [],
   "source": [
    "import sys\n",
    "sys.path.append(\"..\")"
   ]
  },
  {
   "cell_type": "code",
   "execution_count": 3,
   "metadata": {},
   "outputs": [],
   "source": [
    "from optimus import Optimus"
   ]
  },
  {
   "cell_type": "code",
   "execution_count": 4,
   "metadata": {},
   "outputs": [
    {
     "name": "stderr",
     "output_type": "stream",
     "text": [
      "\n",
      "                             ____        __  _                     \n",
      "                            / __ \\____  / /_(_)___ ___  __  _______\n",
      "                           / / / / __ \\/ __/ / __ `__ \\/ / / / ___/\n",
      "                          / /_/ / /_/ / /_/ / / / / / / /_/ (__  ) \n",
      "                          \\____/ .___/\\__/_/_/ /_/ /_/\\__,_/____/  \n",
      "                              /_/                                  \n",
      "                              \n",
      "Transform and Roll out...\n",
      "Just checking that all necessary environments vars are present...\n",
      "-----\n",
      "PYSPARK_PYTHON=python\n",
      "SPARK_HOME=C:\\opt\\spark\\spark-2.3.1-bin-hadoop2.7\n",
      "JAVA_HOME=C:\\java8\n",
      "Pyarrow Installed\n",
      "-----\n",
      "Starting or getting SparkSession and SparkContext...\n",
      "Setting checkpoint folder local. If you are in a cluster initialize Optimus with master='your_ip' as param\n",
      "Deleting previous folder if exists...\n",
      "Creating the checkpoint directory...\n",
      "Optimus successfully imported. Have fun :).\n"
     ]
    }
   ],
   "source": [
    "# Create optimus\n",
    "op = Optimus()"
   ]
  },
  {
   "cell_type": "code",
   "execution_count": 5,
   "metadata": {},
   "outputs": [
    {
     "name": "stdout",
     "output_type": "stream",
     "text": [
      "+-------------------+---+-------+----------+-------------+------+-----+--------+-----+\n",
      "|              words|num|animals|     thing|  two strings|filter|num 2|    date|num 3|\n",
      "+-------------------+---+-------+----------+-------------+------+-----+--------+-----+\n",
      "|  I like     fish  |  1|    dog|&^%$#housé|      cat-car|     a|    1|20150510|    3|\n",
      "|            zombies|  2|    cat|        tv|       dog-tv|     b|    2|20160510|    3|\n",
      "|simpsons   cat lady|  2|   frog|     table|eagle-tv-plus|     1|    3|20170510|    4|\n",
      "|               null|  3|  eagle|     glass|      lion-pc|     c|    4|20180510|    5|\n",
      "|               null|  5|  eagle|     glass|      lion-pc|     c|    4|20180510|    5|\n",
      "|               null|  6|  eagle|     glass|      lion-pc|     c|    4|20180510|    5|\n",
      "|               null|  7|  eagle|     glass|      lion-pc|     c|    4|20180510|    5|\n",
      "|               null| 20|  eagle|     glass|      lion-pc|     c|    4|20180510|    5|\n",
      "+-------------------+---+-------+----------+-------------+------+-----+--------+-----+\n",
      "\n"
     ]
    }
   ],
   "source": [
    "from pyspark.sql.types import *\n",
    "df = op.create.df(\n",
    "    [\n",
    "                (\"words\", \"str\", True),\n",
    "                (\"num\", \"int\", True),\n",
    "                (\"animals\", \"str\", True),\n",
    "                (\"thing\", StringType(), True),\n",
    "                (\"two strings\", StringType(), True),\n",
    "                (\"filter\", StringType(), True),\n",
    "                (\"num 2\", \"int\", True),\n",
    "                (\"date\", \"string\", True),\n",
    "                (\"num 3\", \"str\", True)\n",
    "                \n",
    "            ],[\n",
    "                (\"  I like     fish  \", 1, \"dog\", \"&^%$#housé\", \"cat-car\", \"a\",1, \"20150510\", '3'),\n",
    "                (\"    zombies\", 2, \"cat\", \"tv\", \"dog-tv\", \"b\",2, \"20160510\", '3'),\n",
    "                (\"simpsons   cat lady\", 2, \"frog\", \"table\",\"eagle-tv-plus\",\"1\",3, \"20170510\", '4'),\n",
    "                (None, 3, \"eagle\", \"glass\", \"lion-pc\", \"c\",4, \"20180510\", '5'),\n",
    "                (None, 5, \"eagle\", \"glass\", \"lion-pc\", \"c\",4, \"20180510\", '5'),\n",
    "               (None, 6, \"eagle\", \"glass\", \"lion-pc\", \"c\",4, \"20180510\", '5'),\n",
    "             (None, 7, \"eagle\", \"glass\", \"lion-pc\", \"c\",4, \"20180510\", '5'),\n",
    "             (None, 20, \"eagle\", \"glass\", \"lion-pc\", \"c\",4, \"20180510\", '5')\n",
    "    \n",
    "            ]\n",
    "            )\n",
    "\n",
    "df.show()"
   ]
  },
  {
   "cell_type": "code",
   "execution_count": 6,
   "metadata": {},
   "outputs": [],
   "source": [
    "from optimus.outliers.outliers import OutlierDetector\n",
    "od = OutlierDetector()"
   ]
  },
  {
   "cell_type": "markdown",
   "metadata": {},
   "source": [
    "### Zscore"
   ]
  },
  {
   "cell_type": "code",
   "execution_count": 10,
   "metadata": {},
   "outputs": [
    {
     "name": "stdout",
     "output_type": "stream",
     "text": [
      "mean function took 1504.743 ms\n",
      "std function took 1508.878 ms\n",
      "z_score function took 3061.453 ms\n",
      "drop function took 19.951 ms\n",
      "drop function took 7.984 ms\n",
      "+-------------------+---+-------+----------+-------------+------+-----+--------+-----+\n",
      "|              words|num|animals|     thing|  two strings|filter|num 2|    date|num 3|\n",
      "+-------------------+---+-------+----------+-------------+------+-----+--------+-----+\n",
      "|  I like     fish  |  1|    dog|&^%$#housé|      cat-car|     a|    1|20150510|    3|\n",
      "|            zombies|  2|    cat|        tv|       dog-tv|     b|    2|20160510|    3|\n",
      "|simpsons   cat lady|  2|   frog|     table|eagle-tv-plus|     1|    3|20170510|    4|\n",
      "|               null|  3|  eagle|     glass|      lion-pc|     c|    4|20180510|    5|\n",
      "|               null|  5|  eagle|     glass|      lion-pc|     c|    4|20180510|    5|\n",
      "|               null|  6|  eagle|     glass|      lion-pc|     c|    4|20180510|    5|\n",
      "|               null|  7|  eagle|     glass|      lion-pc|     c|    4|20180510|    5|\n",
      "+-------------------+---+-------+----------+-------------+------+-----+--------+-----+\n",
      "\n"
     ]
    }
   ],
   "source": [
    "od.z_score(df, \"num\", threshold=1).show()"
   ]
  },
  {
   "cell_type": "code",
   "execution_count": 11,
   "metadata": {},
   "outputs": [
    {
     "name": "stdout",
     "output_type": "stream",
     "text": [
      "mean function took 1511.846 ms\n",
      "std function took 1496.635 ms\n",
      "z_score function took 3061.335 ms\n",
      "drop function took 6.945 ms\n",
      "drop function took 2.992 ms\n",
      "mean function took 1524.084 ms\n",
      "std function took 1529.622 ms\n",
      "z_score function took 3101.645 ms\n",
      "drop function took 6.982 ms\n",
      "drop function took 6.980 ms\n",
      "+-------------------+---+-------+-----+-------------+------+-----+--------+-----+\n",
      "|              words|num|animals|thing|  two strings|filter|num 2|    date|num 3|\n",
      "+-------------------+---+-------+-----+-------------+------+-----+--------+-----+\n",
      "|            zombies|  2|    cat|   tv|       dog-tv|     b|    2|20160510|    3|\n",
      "|simpsons   cat lady|  2|   frog|table|eagle-tv-plus|     1|    3|20170510|    4|\n",
      "|               null|  3|  eagle|glass|      lion-pc|     c|    4|20180510|    5|\n",
      "|               null|  5|  eagle|glass|      lion-pc|     c|    4|20180510|    5|\n",
      "|               null|  6|  eagle|glass|      lion-pc|     c|    4|20180510|    5|\n",
      "|               null|  7|  eagle|glass|      lion-pc|     c|    4|20180510|    5|\n",
      "+-------------------+---+-------+-----+-------------+------+-----+--------+-----+\n",
      "\n"
     ]
    }
   ],
   "source": [
    "od.z_score(df, [\"num\", \"num 2\"],1).show()"
   ]
  },
  {
   "cell_type": "markdown",
   "metadata": {},
   "source": [
    "### IQR"
   ]
  },
  {
   "cell_type": "code",
   "execution_count": 12,
   "metadata": {},
   "outputs": [
    {
     "name": "stdout",
     "output_type": "stream",
     "text": [
      "drop_na function took 16.953 ms\n",
      "cast function took 7.977 ms\n",
      "percentile function took 552.978 ms\n",
      "iqr function took 553.975 ms\n",
      "drop function took 6.948 ms\n",
      "+-------------------+---+-------+----------+-------------+------+-----+--------+-----+\n",
      "|              words|num|animals|     thing|  two strings|filter|num 2|    date|num 3|\n",
      "+-------------------+---+-------+----------+-------------+------+-----+--------+-----+\n",
      "|  I like     fish  |  1|    dog|&^%$#housé|      cat-car|     a|    1|20150510|    3|\n",
      "|            zombies|  2|    cat|        tv|       dog-tv|     b|    2|20160510|    3|\n",
      "|simpsons   cat lady|  2|   frog|     table|eagle-tv-plus|     1|    3|20170510|    4|\n",
      "|               null|  3|  eagle|     glass|      lion-pc|     c|    4|20180510|    5|\n",
      "|               null|  5|  eagle|     glass|      lion-pc|     c|    4|20180510|    5|\n",
      "|               null|  6|  eagle|     glass|      lion-pc|     c|    4|20180510|    5|\n",
      "|               null|  7|  eagle|     glass|      lion-pc|     c|    4|20180510|    5|\n",
      "+-------------------+---+-------+----------+-------------+------+-----+--------+-----+\n",
      "\n"
     ]
    }
   ],
   "source": [
    "od.iqr(df, \"num\").show()"
   ]
  },
  {
   "cell_type": "markdown",
   "metadata": {},
   "source": [
    "### MAD"
   ]
  },
  {
   "cell_type": "code",
   "execution_count": 13,
   "metadata": {},
   "outputs": [
    {
     "name": "stdout",
     "output_type": "stream",
     "text": [
      "drop_na function took 6.981 ms\n",
      "cast function took 6.944 ms\n",
      "median function took 452.789 ms\n",
      "drop_na function took 3.997 ms\n",
      "cast function took 8.976 ms\n",
      "median function took 478.719 ms\n",
      "mad function took 985.364 ms\n",
      "drop function took 5.984 ms\n",
      "+-------------------+---+-------+----------+-------------+------+-----+--------+-----+\n",
      "|              words|num|animals|     thing|  two strings|filter|num 2|    date|num 3|\n",
      "+-------------------+---+-------+----------+-------------+------+-----+--------+-----+\n",
      "|  I like     fish  |  1|    dog|&^%$#housé|      cat-car|     a|    1|20150510|    3|\n",
      "|            zombies|  2|    cat|        tv|       dog-tv|     b|    2|20160510|    3|\n",
      "|simpsons   cat lady|  2|   frog|     table|eagle-tv-plus|     1|    3|20170510|    4|\n",
      "|               null|  3|  eagle|     glass|      lion-pc|     c|    4|20180510|    5|\n",
      "|               null|  5|  eagle|     glass|      lion-pc|     c|    4|20180510|    5|\n",
      "+-------------------+---+-------+----------+-------------+------+-----+--------+-----+\n",
      "\n"
     ]
    }
   ],
   "source": [
    "od.mad(df, \"num\", 1).show()"
   ]
  },
  {
   "cell_type": "markdown",
   "metadata": {},
   "source": [
    "### Modified Zscore"
   ]
  },
  {
   "cell_type": "code",
   "execution_count": 14,
   "metadata": {},
   "outputs": [
    {
     "ename": "IndentationError",
     "evalue": "unexpected indent (<ipython-input-14-29e0f24ffc14>, line 10)",
     "output_type": "error",
     "traceback": [
      "\u001b[1;36m  File \u001b[1;32m\"<ipython-input-14-29e0f24ffc14>\"\u001b[1;36m, line \u001b[1;32m10\u001b[0m\n\u001b[1;33m    0.6745 * F.col(col_name)-median_y/\u001b[0m\n\u001b[1;37m    ^\u001b[0m\n\u001b[1;31mIndentationError\u001b[0m\u001b[1;31m:\u001b[0m unexpected indent\n"
     ]
    }
   ],
   "source": [
    "def outliers_modified_z_score(df ,col_name):\n",
    "    threshold = 3.5\n",
    "\n",
    "    median_y =df.cols().median(col_name)\n",
    "    \n",
    "    median_absolute_deviation_y = df.cols().median(F.abs(F.col(col_name) - median_y))\n",
    "    \n",
    "    return 1\n",
    "    \n",
    "                0.6745 * F.col(col_name)-median_y/\n",
    "    #modified_z_scores = [0.6745 * (y - median_y) / median_absolute_deviation_y\n",
    "    #                     for y in ys]\n",
    "    #return np.where(np.abs(modified_z_scores) > threshold)\n",
    "\n",
    "col_name = \"num\"\n",
    "outliers_modified_z_score(df , col_name).show()"
   ]
  },
  {
   "cell_type": "code",
   "execution_count": null,
   "metadata": {},
   "outputs": [],
   "source": [
    "\n",
    "import numpy as np\n",
    "\n",
    "def outliers_modified_z_score(ys):\n",
    "    threshold = 3.5\n",
    "\n",
    "    median_y = np.median(ys)\n",
    "    median_absolute_deviation_y = np.median([np.abs(y - median_y) for y in ys])\n",
    "    modified_z_scores = [0.6745 * (y - median_y) / median_absolute_deviation_y\n",
    "                         for y in ys]\n",
    "    return np.where(np.abs(modified_z_scores) > threshold)"
   ]
  }
 ],
 "metadata": {
  "kernelspec": {
   "display_name": "Python 3",
   "language": "python",
   "name": "python3"
  },
  "language_info": {
   "codemirror_mode": {
    "name": "ipython",
    "version": 3
   },
   "file_extension": ".py",
   "mimetype": "text/x-python",
   "name": "python",
   "nbconvert_exporter": "python",
   "pygments_lexer": "ipython3",
   "version": "3.6.4"
  }
 },
 "nbformat": 4,
 "nbformat_minor": 2
}
