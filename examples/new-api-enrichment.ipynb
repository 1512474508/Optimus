{
 "cells": [
  {
   "cell_type": "markdown",
   "metadata": {},
   "source": [
    "## Step for make it work\n",
    "\n",
    "Install Redis for your OS\n",
    "* pip install redis\n",
    "* pip install python-redis-rate-limit # https://pypi.org/project/python-redis-rate-limit/\n",
    "* pip install sparkly https://www.scivision.co/python-windows-visual-c++-14-required/\n",
    "* pip install sparkly[redis]\n",
    "* Install http://joeferner.github.io/redis-commander/  \n",
    "Then `redis-commander --redis-host=localhost --redis-port=6379` from the browser http://localhost:8081/"
   ]
  },
  {
   "cell_type": "code",
   "execution_count": 1,
   "metadata": {},
   "outputs": [],
   "source": [
    "%load_ext autoreload\n",
    "%autoreload 2"
   ]
  },
  {
   "cell_type": "code",
   "execution_count": 2,
   "metadata": {},
   "outputs": [],
   "source": [
    "import sys\n",
    "sys.path.append(\"..\")"
   ]
  },
  {
   "cell_type": "code",
   "execution_count": 18,
   "metadata": {},
   "outputs": [],
   "source": [
    "import redis\n",
    "r = redis.StrictRedis(host='localhost', port=6379, db=0)"
   ]
  },
  {
   "cell_type": "code",
   "execution_count": 4,
   "metadata": {},
   "outputs": [],
   "source": [
    "from sparkly import SparklySession\n",
    "spark = SparklySession()"
   ]
  },
  {
   "cell_type": "code",
   "execution_count": 42,
   "metadata": {},
   "outputs": [],
   "source": [
    "# make some test data\n",
    "columns = ['dogs', 'cats']\n",
    "vals = [\n",
    "    (2, 0),\n",
    "    (0, 1),\n",
    "    (4, 1)\n",
    "]\n",
    "\n",
    "# create DataFrame\n",
    "df = spark.createDataFrame(vals, columns)"
   ]
  },
  {
   "cell_type": "code",
   "execution_count": 46,
   "metadata": {},
   "outputs": [],
   "source": [
    "import optimus as Optimus"
   ]
  },
  {
   "cell_type": "code",
   "execution_count": 47,
   "metadata": {},
   "outputs": [
    {
     "data": {
      "text/html": [
       "<style>\n",
       "    .data_type{\n",
       "        font-size: 0.8em;\n",
       "        font-weight:normal;\n",
       "    }\n",
       "    .column_name{\n",
       "        font-size: 1.2em;\n",
       "    }\n",
       "    .info_items{\n",
       "        margin: 10px 0;\n",
       "        font-size: 0.8em;\n",
       "    }\n",
       "\n",
       "</style>\n",
       "\n",
       "\n",
       "\n",
       "\n",
       "<div class=\"info_items\">Viewing 3 of 3 rows / 3 columns</div>\n",
       "\n",
       "<table>\n",
       "    <thead>\n",
       "    <tr>\n",
       "        \n",
       "        <th>\n",
       "            <div class=\"column_name\">dogs</div>\n",
       "            <div class=\"data_type\">1 (bigint)</div>\n",
       "\n",
       "        </th>\n",
       "        \n",
       "        <th>\n",
       "            <div class=\"column_name\">cats</div>\n",
       "            <div class=\"data_type\">2 (bigint)</div>\n",
       "\n",
       "        </th>\n",
       "        \n",
       "        <th>\n",
       "            <div class=\"column_name\">id</div>\n",
       "            <div class=\"data_type\">3 (bigint)</div>\n",
       "\n",
       "        </th>\n",
       "        \n",
       "    </tr>\n",
       "\n",
       "    </thead>\n",
       "    <tbody>\n",
       "    \n",
       "    <tr>\n",
       "        \n",
       "        <td>\n",
       "            2\n",
       "        </td>\n",
       "        \n",
       "        <td>\n",
       "            0\n",
       "        </td>\n",
       "        \n",
       "        <td>\n",
       "            17179869184\n",
       "        </td>\n",
       "        \n",
       "    </tr>\n",
       "    \n",
       "    <tr>\n",
       "        \n",
       "        <td>\n",
       "            0\n",
       "        </td>\n",
       "        \n",
       "        <td>\n",
       "            1\n",
       "        </td>\n",
       "        \n",
       "        <td>\n",
       "            42949672960\n",
       "        </td>\n",
       "        \n",
       "    </tr>\n",
       "    \n",
       "    <tr>\n",
       "        \n",
       "        <td>\n",
       "            4\n",
       "        </td>\n",
       "        \n",
       "        <td>\n",
       "            1\n",
       "        </td>\n",
       "        \n",
       "        <td>\n",
       "            60129542144\n",
       "        </td>\n",
       "        \n",
       "    </tr>\n",
       "    \n",
       "    </tbody>\n",
       "</table>\n",
       "\n",
       "<div class=\"info_items\">Viewing 3 of 3 rows / 3 columns</div>\n"
      ],
      "text/plain": [
       "<IPython.core.display.HTML object>"
      ]
     },
     "metadata": {},
     "output_type": "display_data"
    }
   ],
   "source": [
    "df.table()"
   ]
  },
  {
   "cell_type": "code",
   "execution_count": 44,
   "metadata": {},
   "outputs": [],
   "source": [
    "from pyspark.sql import functions as F\n",
    "\n",
    "df = df.withColumn(\"id\", F.monotonically_increasing_id())"
   ]
  },
  {
   "cell_type": "code",
   "execution_count": 45,
   "metadata": {},
   "outputs": [
    {
     "name": "stdout",
     "output_type": "stream",
     "text": [
      "+----+----+-----------+\n",
      "|dogs|cats|         id|\n",
      "+----+----+-----------+\n",
      "|   2|   0|17179869184|\n",
      "|   0|   1|42949672960|\n",
      "|   4|   1|60129542144|\n",
      "+----+----+-----------+\n",
      "\n"
     ]
    }
   ],
   "source": [
    "df.show()"
   ]
  },
  {
   "cell_type": "code",
   "execution_count": 55,
   "metadata": {},
   "outputs": [],
   "source": [
    "df.write_ext.redis(\n",
    "    host='localhost',\n",
    "    port=6379,\n",
    "    key_by=['id'],\n",
    "    exclude_key_columns=True,\n",
    "    expire=24 * 60 * 60,\n",
    "    #compression='gzip',\n",
    ")"
   ]
  },
  {
   "cell_type": "code",
   "execution_count": 21,
   "metadata": {},
   "outputs": [
    {
     "name": "stdout",
     "output_type": "stream",
     "text": [
      "{\n",
      "  \"userId\": 1,\n",
      "  \"id\": 1,\n",
      "  \"title\": \"sunt aut facere repellat provident occaecati excepturi optio reprehenderit\",\n",
      "  \"body\": \"quia et suscipit\\nsuscipit recusandae consequuntur expedita et cum\\nreprehenderit molestiae ut ut quas totam\\nnostrum rerum est autem sunt rem eveniet architecto\"\n",
      "}\n"
     ]
    }
   ],
   "source": [
    "r.get(\"1\")\n",
    "r.delete(\"1\")\n",
    "import requests \n",
    "result = requests.get(\"https://jsonplaceholder.typicode.com/posts/1\")\n",
    "print(result.text)"
   ]
  },
  {
   "cell_type": "code",
   "execution_count": 20,
   "metadata": {},
   "outputs": [
    {
     "name": "stdout",
     "output_type": "stream",
     "text": [
      "200 OK\n"
     ]
    }
   ],
   "source": [
    "from redis_rate_limit import RateLimit, TooManyRequests\n",
    "try:\n",
    "    with RateLimit(resource='local', client='localhost', max_requests=10):\n",
    "        result =  '200 OK'\n",
    "except TooManyRequests:\n",
    "    result = '429 Too Many Requests'\n",
    "print(result)"
   ]
  },
  {
   "cell_type": "markdown",
   "metadata": {},
   "source": [
    "## Celery\n",
    "* pip instal redis\n",
    "* pip install celery\n",
    "* pip install -U \"celery[redis]\"\n",
    "* Run worker from python https://gist.github.com/chenjianjx/53d8c2317f6023dc2fa0"
   ]
  },
  {
   "cell_type": "code",
   "execution_count": 56,
   "metadata": {},
   "outputs": [],
   "source": [
    "from optimus.enrichment.worker import download"
   ]
  },
  {
   "cell_type": "code",
   "execution_count": 61,
   "metadata": {},
   "outputs": [
    {
     "data": {
      "text/plain": [
       "False"
      ]
     },
     "execution_count": 61,
     "metadata": {},
     "output_type": "execute_result"
    }
   ],
   "source": [
    "r = download.delay('http\"\\\\mood.com.ve')\n",
    "r.ready()"
   ]
  },
  {
   "cell_type": "code",
   "execution_count": 58,
   "metadata": {},
   "outputs": [
    {
     "data": {
      "text/plain": [
       "False"
      ]
     },
     "execution_count": 58,
     "metadata": {},
     "output_type": "execute_result"
    }
   ],
   "source": [
    "r.ready()"
   ]
  },
  {
   "cell_type": "code",
   "execution_count": null,
   "metadata": {},
   "outputs": [],
   "source": []
  }
 ],
 "metadata": {
  "kernelspec": {
   "display_name": "Python 3",
   "language": "python",
   "name": "python3"
  },
  "language_info": {
   "codemirror_mode": {
    "name": "ipython",
    "version": 3
   },
   "file_extension": ".py",
   "mimetype": "text/x-python",
   "name": "python",
   "nbconvert_exporter": "python",
   "pygments_lexer": "ipython3",
   "version": "3.6.5"
  }
 },
 "nbformat": 4,
 "nbformat_minor": 2
}
