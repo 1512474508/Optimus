{
 "cells": [
  {
   "cell_type": "code",
   "execution_count": 1,
   "metadata": {},
   "outputs": [],
   "source": [
    "%load_ext autoreload\n",
    "%autoreload 2\n",
    "\n",
    "import sys\n",
    "\n",
    "sys.path.append(\"../../pypika\")"
   ]
  },
  {
   "cell_type": "code",
   "execution_count": 6,
   "metadata": {},
   "outputs": [
    {
     "name": "stdout",
     "output_type": "stream",
     "text": [
      "SELECT MIN('RATING') FROM `main.music`\n"
     ]
    }
   ],
   "source": [
    "from pypika import Query, Table, Field, analytics as an\n",
    "from pypika.dialects import MySQLQuery as Query\n",
    "\n",
    "agg = [an.Min('RATING')]\n",
    "\n",
    "q = Query.from_('main.music').select(*agg)\n",
    "print(q.get_sql())\n"
   ]
  },
  {
   "cell_type": "code",
   "execution_count": 3,
   "metadata": {},
   "outputs": [
    {
     "name": "stdout",
     "output_type": "stream",
     "text": [
      "SELECT FIRST_VALUE('RATING'),MAX('RATING') FROM `main.music`\n"
     ]
    }
   ],
   "source": []
  },
  {
   "cell_type": "code",
   "execution_count": 4,
   "metadata": {},
   "outputs": [
    {
     "data": {
      "text/plain": [
       "'SELECT MIN(RATING) FROM main.music'"
      ]
     },
     "execution_count": 4,
     "metadata": {},
     "output_type": "execute_result"
    }
   ],
   "source": [
    "\"SELECT MIN(RATING) FROM main.music\""
   ]
  },
  {
   "cell_type": "code",
   "execution_count": 5,
   "metadata": {},
   "outputs": [
    {
     "name": "stdout",
     "output_type": "stream",
     "text": [
      "SELECT `fruits`.`id`,`fruits`.`name` FROM `fruits` JOIN `consumers` ON `fruits`.`consumer_id`=`consumers`.`id` WHERE `fruits`.`harvest_date`+INTERVAL 1 DAY<NOW()\n"
     ]
    }
   ],
   "source": [
    "from pypika import functions as fn\n",
    "from pypika import Tables, MySQLQuery, Interval\n",
    "\n",
    "fruits, consumers = Tables('fruits', 'consumers')\n",
    "q = MySQLQuery.from_(fruits) \\\n",
    "    .join(consumers) \\\n",
    "    .on(fruits.consumer_id == consumers.id) \\\n",
    "    .select(fruits.id, fruits.name) \\\n",
    "    .where((fruits.harvest_date + Interval(days=1)) < fn.Now())\n",
    "print(q.get_sql())"
   ]
  },
  {
   "cell_type": "code",
   "execution_count": null,
   "metadata": {},
   "outputs": [],
   "source": []
  }
 ],
 "metadata": {
  "kernelspec": {
   "display_name": "Python 3",
   "language": "python",
   "name": "python3"
  },
  "language_info": {
   "codemirror_mode": {
    "name": "ipython",
    "version": 3
   },
   "file_extension": ".py",
   "mimetype": "text/x-python",
   "name": "python",
   "nbconvert_exporter": "python",
   "pygments_lexer": "ipython3",
   "version": "3.7.1"
  }
 },
 "nbformat": 4,
 "nbformat_minor": 2
}
