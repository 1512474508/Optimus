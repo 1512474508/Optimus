{
 "cells": [
  {
   "cell_type": "code",
   "execution_count": 1,
   "metadata": {},
   "outputs": [
    {
     "name": "stdout",
     "output_type": "stream",
     "text": [
      "Collecting optimuspyspark\n",
      "  Downloading https://files.pythonhosted.org/packages/ea/25/acae4eeaaa82b2e97a0e48b329e897b9fed09c43a46009d8d8dcea6c9985/optimuspyspark-2.0.4-py3-none-any.whl (65kB)\n",
      "Requirement already satisfied: pygments>=2.2.0 in c:\\users\\argenisleon\\appdata\\local\\continuum\\anaconda3\\lib\\site-packages (from optimuspyspark) (2.2.0)\n",
      "Collecting tensorflow==1.6.0 (from optimuspyspark)\n",
      "  Using cached https://files.pythonhosted.org/packages/56/7d/a0e3ae33e8034be8e7d6b99a7f512c6e71b2180603fc3e0cfb6047b7374f/tensorflow-1.6.0-cp36-cp36m-win_amd64.whl\n",
      "Collecting keras==2.1.5 (from optimuspyspark)\n",
      "  Downloading https://files.pythonhosted.org/packages/ba/65/e4aff762b8696ec0626a6654b1e73b396fcc8b7cc6b98d78a1bc53b85b48/Keras-2.1.5-py2.py3-none-any.whl (334kB)\n",
      "Collecting setuptools==40.2.0 (from optimuspyspark)\n",
      "  Downloading https://files.pythonhosted.org/packages/66/e8/570bb5ca88a8bcd2a1db9c6246bb66615750663ffaaeada95b04ffe74e12/setuptools-40.2.0-py2.py3-none-any.whl (568kB)\n",
      "Requirement already satisfied: matplotlib==2.2.3 in c:\\users\\argenisleon\\appdata\\local\\continuum\\anaconda3\\lib\\site-packages (from optimuspyspark) (2.2.3)\n",
      "Requirement already satisfied: h5py>=2.7.0 in c:\\users\\argenisleon\\appdata\\local\\continuum\\anaconda3\\lib\\site-packages (from optimuspyspark) (2.7.1)\n",
      "Requirement already satisfied: pytest==3.7.2 in c:\\users\\argenisleon\\appdata\\local\\continuum\\anaconda3\\lib\\site-packages (from optimuspyspark) (3.7.2)\n",
      "Collecting numpy==1.15.1 (from optimuspyspark)\n",
      "  Downloading https://files.pythonhosted.org/packages/fb/7d/f8b97d97809f184d90faf320fa8e2e7eac994844c5e6c57adbed1283e9e9/numpy-1.15.1-cp36-none-win_amd64.whl (13.5MB)\n",
      "Requirement already satisfied: ipython==6.5.0 in c:\\users\\argenisleon\\appdata\\local\\continuum\\anaconda3\\lib\\site-packages (from optimuspyspark) (6.5.0)\n",
      "Collecting fastnumbers==2.1.1 (from optimuspyspark)\n",
      "  Downloading https://files.pythonhosted.org/packages/7c/5d/a80733c011cc683de70de5d8c9f5e481cc986428519d14849edfcabb95ae/fastnumbers-2.1.1-cp36-cp36m-win_amd64.whl\n",
      "Requirement already satisfied: nose==1.3.7 in c:\\users\\argenisleon\\appdata\\local\\continuum\\anaconda3\\lib\\site-packages (from optimuspyspark) (1.3.7)\n",
      "Requirement already satisfied: pyspark==2.3.1 in c:\\users\\argenisleon\\appdata\\local\\continuum\\anaconda3\\lib\\site-packages (from optimuspyspark) (2.3.1)\n",
      "Requirement already satisfied: tabulate==0.8.2 in c:\\users\\argenisleon\\appdata\\local\\continuum\\anaconda3\\lib\\site-packages (from optimuspyspark) (0.8.2)\n",
      "Requirement already satisfied: seaborn==0.9.0 in c:\\users\\argenisleon\\appdata\\local\\continuum\\anaconda3\\lib\\site-packages (from optimuspyspark) (0.9.0)\n",
      "Requirement already satisfied: Jinja2==2.10 in c:\\users\\argenisleon\\appdata\\local\\continuum\\anaconda3\\lib\\site-packages (from optimuspyspark) (2.10)\n",
      "Requirement already satisfied: six>=1.10.0 in c:\\users\\argenisleon\\appdata\\local\\continuum\\anaconda3\\lib\\site-packages (from optimuspyspark) (1.11.0)\n",
      "Requirement already satisfied: python-dateutil==2.7.3 in c:\\users\\argenisleon\\appdata\\local\\continuum\\anaconda3\\lib\\site-packages (from optimuspyspark) (2.7.3)\n",
      "Requirement already satisfied: deprecated==1.2.0 in c:\\users\\argenisleon\\appdata\\local\\continuum\\anaconda3\\lib\\site-packages (from optimuspyspark) (1.2.0)\n",
      "Collecting findspark==1.3.0 (from optimuspyspark)\n",
      "  Downloading https://files.pythonhosted.org/packages/b1/c8/e6e1f6a303ae5122dc28d131b5a67c5eb87cbf8f7ac5b9f87764ea1b1e1e/findspark-1.3.0-py2.py3-none-any.whl\n",
      "Requirement already satisfied: multipledispatch==0.6.0 in c:\\users\\argenisleon\\appdata\\local\\continuum\\anaconda3\\lib\\site-packages (from optimuspyspark) (0.6.0)\n",
      "Requirement already satisfied: pillow==5.2.0 in c:\\users\\argenisleon\\appdata\\local\\continuum\\anaconda3\\lib\\site-packages (from optimuspyspark) (5.2.0)\n",
      "Collecting pyarrow==0.10.0 (from optimuspyspark)\n",
      "  Downloading https://files.pythonhosted.org/packages/42/58/4d29b02e9b422cc65f65c1afe5c4710d7e1827c2c1f651bcc19cec042d92/pyarrow-0.10.0-cp36-cp36m-win_amd64.whl (3.6MB)\n",
      "Requirement already satisfied: flask==1.0.2 in c:\\users\\argenisleon\\appdata\\local\\continuum\\anaconda3\\lib\\site-packages (from optimuspyspark) (1.0.2)\n",
      "Collecting tensorboard<1.7.0,>=1.6.0 (from tensorflow==1.6.0->optimuspyspark)\n",
      "  Using cached https://files.pythonhosted.org/packages/b0/67/a8c91665987d359211dcdca5c8b2a7c1e0876eb0702a4383c1e4ff76228d/tensorboard-1.6.0-py3-none-any.whl\n",
      "Requirement already satisfied: protobuf>=3.4.0 in c:\\users\\argenisleon\\appdata\\local\\continuum\\anaconda3\\lib\\site-packages (from tensorflow==1.6.0->optimuspyspark) (3.6.1)\n",
      "Requirement already satisfied: wheel>=0.26 in c:\\users\\argenisleon\\appdata\\local\\continuum\\anaconda3\\lib\\site-packages (from tensorflow==1.6.0->optimuspyspark) (0.31.1)\n",
      "Requirement already satisfied: termcolor>=1.1.0 in c:\\users\\argenisleon\\appdata\\local\\continuum\\anaconda3\\lib\\site-packages (from tensorflow==1.6.0->optimuspyspark) (1.1.0)\n",
      "Requirement already satisfied: gast>=0.2.0 in c:\\users\\argenisleon\\appdata\\local\\continuum\\anaconda3\\lib\\site-packages (from tensorflow==1.6.0->optimuspyspark) (0.2.0)\n",
      "Requirement already satisfied: absl-py>=0.1.6 in c:\\users\\argenisleon\\appdata\\local\\continuum\\anaconda3\\lib\\site-packages (from tensorflow==1.6.0->optimuspyspark) (0.4.0)\n",
      "Requirement already satisfied: astor>=0.6.0 in c:\\users\\argenisleon\\appdata\\local\\continuum\\anaconda3\\lib\\site-packages (from tensorflow==1.6.0->optimuspyspark) (0.7.1)\n",
      "Requirement already satisfied: grpcio>=1.8.6 in c:\\users\\argenisleon\\appdata\\local\\continuum\\anaconda3\\lib\\site-packages (from tensorflow==1.6.0->optimuspyspark) (1.14.1)\n",
      "Requirement already satisfied: pyyaml in c:\\users\\argenisleon\\appdata\\local\\continuum\\anaconda3\\lib\\site-packages (from keras==2.1.5->optimuspyspark) (3.12)\n",
      "Requirement already satisfied: scipy>=0.14 in c:\\users\\argenisleon\\appdata\\local\\continuum\\anaconda3\\lib\\site-packages (from keras==2.1.5->optimuspyspark) (1.1.0)\n",
      "Requirement already satisfied: cycler>=0.10 in c:\\users\\argenisleon\\appdata\\local\\continuum\\anaconda3\\lib\\site-packages (from matplotlib==2.2.3->optimuspyspark) (0.10.0)\n",
      "Requirement already satisfied: pyparsing!=2.0.4,!=2.1.2,!=2.1.6,>=2.0.1 in c:\\users\\argenisleon\\appdata\\local\\continuum\\anaconda3\\lib\\site-packages (from matplotlib==2.2.3->optimuspyspark) (2.2.0)\n",
      "Requirement already satisfied: pytz in c:\\users\\argenisleon\\appdata\\local\\continuum\\anaconda3\\lib\\site-packages (from matplotlib==2.2.3->optimuspyspark) (2018.4)\n",
      "Requirement already satisfied: kiwisolver>=1.0.1 in c:\\users\\argenisleon\\appdata\\local\\continuum\\anaconda3\\lib\\site-packages (from matplotlib==2.2.3->optimuspyspark) (1.0.1)\n",
      "Requirement already satisfied: py>=1.5.0 in c:\\users\\argenisleon\\appdata\\local\\continuum\\anaconda3\\lib\\site-packages (from pytest==3.7.2->optimuspyspark) (1.5.3)\n",
      "Requirement already satisfied: attrs>=17.4.0 in c:\\users\\argenisleon\\appdata\\local\\continuum\\anaconda3\\lib\\site-packages (from pytest==3.7.2->optimuspyspark) (18.1.0)\n",
      "Requirement already satisfied: more-itertools>=4.0.0 in c:\\users\\argenisleon\\appdata\\local\\continuum\\anaconda3\\lib\\site-packages (from pytest==3.7.2->optimuspyspark) (4.1.0)\n",
      "Requirement already satisfied: atomicwrites>=1.0 in c:\\users\\argenisleon\\appdata\\local\\continuum\\anaconda3\\lib\\site-packages (from pytest==3.7.2->optimuspyspark) (1.1.5)\n",
      "Requirement already satisfied: pluggy>=0.7 in c:\\users\\argenisleon\\appdata\\local\\continuum\\anaconda3\\lib\\site-packages (from pytest==3.7.2->optimuspyspark) (0.7.1)\n",
      "Requirement already satisfied: colorama in c:\\users\\argenisleon\\appdata\\local\\continuum\\anaconda3\\lib\\site-packages (from pytest==3.7.2->optimuspyspark) (0.3.9)\n",
      "Requirement already satisfied: decorator in c:\\users\\argenisleon\\appdata\\local\\continuum\\anaconda3\\lib\\site-packages (from ipython==6.5.0->optimuspyspark) (4.3.0)\n",
      "Requirement already satisfied: jedi>=0.10 in c:\\users\\argenisleon\\appdata\\local\\continuum\\anaconda3\\lib\\site-packages (from ipython==6.5.0->optimuspyspark) (0.12.0)\n",
      "Requirement already satisfied: traitlets>=4.2 in c:\\users\\argenisleon\\appdata\\local\\continuum\\anaconda3\\lib\\site-packages (from ipython==6.5.0->optimuspyspark) (4.3.2)\n",
      "Requirement already satisfied: pickleshare in c:\\users\\argenisleon\\appdata\\local\\continuum\\anaconda3\\lib\\site-packages (from ipython==6.5.0->optimuspyspark) (0.7.4)\n",
      "Requirement already satisfied: prompt-toolkit<2.0.0,>=1.0.15 in c:\\users\\argenisleon\\appdata\\local\\continuum\\anaconda3\\lib\\site-packages (from ipython==6.5.0->optimuspyspark) (1.0.15)\n",
      "Requirement already satisfied: backcall in c:\\users\\argenisleon\\appdata\\local\\continuum\\anaconda3\\lib\\site-packages (from ipython==6.5.0->optimuspyspark) (0.1.0)\n",
      "Requirement already satisfied: simplegeneric>0.8 in c:\\users\\argenisleon\\appdata\\local\\continuum\\anaconda3\\lib\\site-packages (from ipython==6.5.0->optimuspyspark) (0.8.1)\n",
      "Requirement already satisfied: py4j==0.10.7 in c:\\users\\argenisleon\\appdata\\local\\continuum\\anaconda3\\lib\\site-packages (from pyspark==2.3.1->optimuspyspark) (0.10.7)\n",
      "Requirement already satisfied: pandas>=0.15.2 in c:\\users\\argenisleon\\appdata\\local\\continuum\\anaconda3\\lib\\site-packages (from seaborn==0.9.0->optimuspyspark) (0.23.0)\n",
      "Requirement already satisfied: MarkupSafe>=0.23 in c:\\users\\argenisleon\\appdata\\local\\continuum\\anaconda3\\lib\\site-packages (from Jinja2==2.10->optimuspyspark) (1.0)\n",
      "Requirement already satisfied: wrapt<2,>=1 in c:\\users\\argenisleon\\appdata\\local\\continuum\\anaconda3\\lib\\site-packages (from deprecated==1.2.0->optimuspyspark) (1.10.11)\n",
      "Requirement already satisfied: Werkzeug>=0.14 in c:\\users\\argenisleon\\appdata\\local\\continuum\\anaconda3\\lib\\site-packages (from flask==1.0.2->optimuspyspark) (0.14.1)\n",
      "Requirement already satisfied: click>=5.1 in c:\\users\\argenisleon\\appdata\\local\\continuum\\anaconda3\\lib\\site-packages (from flask==1.0.2->optimuspyspark) (6.7)\n",
      "Requirement already satisfied: itsdangerous>=0.24 in c:\\users\\argenisleon\\appdata\\local\\continuum\\anaconda3\\lib\\site-packages (from flask==1.0.2->optimuspyspark) (0.24)\n",
      "Requirement already satisfied: bleach==1.5.0 in c:\\users\\argenisleon\\appdata\\local\\continuum\\anaconda3\\lib\\site-packages (from tensorboard<1.7.0,>=1.6.0->tensorflow==1.6.0->optimuspyspark) (1.5.0)\n",
      "Requirement already satisfied: markdown>=2.6.8 in c:\\users\\argenisleon\\appdata\\local\\continuum\\anaconda3\\lib\\site-packages (from tensorboard<1.7.0,>=1.6.0->tensorflow==1.6.0->optimuspyspark) (2.6.11)\n",
      "Requirement already satisfied: html5lib==0.9999999 in c:\\users\\argenisleon\\appdata\\local\\continuum\\anaconda3\\lib\\site-packages (from tensorboard<1.7.0,>=1.6.0->tensorflow==1.6.0->optimuspyspark) (0.9999999)\n",
      "Requirement already satisfied: parso>=0.2.0 in c:\\users\\argenisleon\\appdata\\local\\continuum\\anaconda3\\lib\\site-packages (from jedi>=0.10->ipython==6.5.0->optimuspyspark) (0.2.0)\n",
      "Requirement already satisfied: ipython_genutils in c:\\users\\argenisleon\\appdata\\local\\continuum\\anaconda3\\lib\\site-packages (from traitlets>=4.2->ipython==6.5.0->optimuspyspark) (0.2.0)\n",
      "Requirement already satisfied: wcwidth in c:\\users\\argenisleon\\appdata\\local\\continuum\\anaconda3\\lib\\site-packages (from prompt-toolkit<2.0.0,>=1.0.15->ipython==6.5.0->optimuspyspark) (0.1.7)\n",
      "Installing collected packages: numpy, tensorboard, tensorflow, keras, setuptools, fastnumbers, findspark, pyarrow, optimuspyspark\n",
      "  Found existing installation: numpy 1.14.4\n",
      "    Uninstalling numpy-1.14.4:\n",
      "      Successfully uninstalled numpy-1.14.4\n"
     ]
    },
    {
     "name": "stderr",
     "output_type": "stream",
     "text": [
      "keras-preprocessing 1.0.2 has requirement keras>=2.1.6, but you'll have keras 2.1.5 which is incompatible.\n",
      "keras-applications 1.0.4 has requirement keras>=2.1.6, but you'll have keras 2.1.5 which is incompatible.\n",
      "Could not install packages due to an EnvironmentError: [WinError 5] Access is denied: 'C:\\\\Users\\\\ARGENI~1\\\\AppData\\\\Local\\\\Temp\\\\pip-uninstall-r4y_p5ei\\\\users\\\\argenisleon\\\\appdata\\\\local\\\\continuum\\\\anaconda3\\\\lib\\\\site-packages\\\\numpy\\\\.libs\\\\libopenblas.bnvrk7633hsx7yvo2tadgr4a5kekxjaw.gfortran-win_amd64.dll'\n",
      "Consider using the `--user` option or check the permissions.\n",
      "\n",
      "You are using pip version 10.0.1, however version 18.0 is available.\n",
      "You should consider upgrading via the 'python -m pip install --upgrade pip' command.\n"
     ]
    }
   ],
   "source": [
    "!pip install optimuspyspark"
   ]
  },
  {
   "cell_type": "code",
   "execution_count": 2,
   "metadata": {},
   "outputs": [
    {
     "ename": "ModuleNotFoundError",
     "evalue": "No module named 'optimus'",
     "output_type": "error",
     "traceback": [
      "\u001b[1;31m---------------------------------------------------------------------------\u001b[0m",
      "\u001b[1;31mModuleNotFoundError\u001b[0m                       Traceback (most recent call last)",
      "\u001b[1;32m<ipython-input-2-22e51d4255ae>\u001b[0m in \u001b[0;36m<module>\u001b[1;34m()\u001b[0m\n\u001b[1;32m----> 1\u001b[1;33m \u001b[1;32mfrom\u001b[0m \u001b[0moptimus\u001b[0m \u001b[1;32mimport\u001b[0m \u001b[0mOptimus\u001b[0m\u001b[1;33m\u001b[0m\u001b[0m\n\u001b[0m",
      "\u001b[1;31mModuleNotFoundError\u001b[0m: No module named 'optimus'"
     ]
    }
   ],
   "source": [
    "from optimus import Optimus"
   ]
  },
  {
   "cell_type": "code",
   "execution_count": null,
   "metadata": {},
   "outputs": [],
   "source": []
  }
 ],
 "metadata": {
  "kernelspec": {
   "display_name": "Python 3",
   "language": "python",
   "name": "python3"
  },
  "language_info": {
   "codemirror_mode": {
    "name": "ipython",
    "version": 3
   },
   "file_extension": ".py",
   "mimetype": "text/x-python",
   "name": "python",
   "nbconvert_exporter": "python",
   "pygments_lexer": "ipython3",
   "version": "3.6.5"
  }
 },
 "nbformat": 4,
 "nbformat_minor": 2
}
