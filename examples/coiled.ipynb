{
 "cells": [
  {
   "cell_type": "code",
   "execution_count": 1,
   "metadata": {},
   "outputs": [
    {
     "name": "stdout",
     "output_type": "stream",
     "text": [
      "Collecting coiled\n",
      "  Downloading coiled-0.0.23-py3-none-any.whl (44 kB)\n",
      "Requirement already satisfied: s3fs in c:\\users\\argenisleon\\appdata\\roaming\\python\\python37\\site-packages (from coiled) (0.2.2)\n",
      "Collecting aiohttp\n",
      "  Downloading aiohttp-3.6.2-cp37-cp37m-win_amd64.whl (649 kB)\n",
      "Collecting pandas>=1.1.0\n",
      "  Downloading pandas-1.1.2-cp37-cp37m-win_amd64.whl (9.4 MB)\n",
      "Requirement already satisfied: ipython in c:\\users\\argenisleon\\appdata\\roaming\\python\\python37\\site-packages (from coiled) (7.5.0)\n",
      "Requirement already satisfied: click in c:\\users\\argenisleon\\anaconda3\\lib\\site-packages (from coiled) (7.1.1)\n",
      "Collecting dask[complete]>=2.23.0\n",
      "  Downloading dask-2.25.0-py3-none-any.whl (834 kB)\n",
      "Collecting aiobotocore>=1.0.7\n",
      "  Downloading aiobotocore-1.1.1-py3-none-any.whl (45 kB)\n",
      "Collecting distributed>=2.23.0\n",
      "  Downloading distributed-2.25.0-py3-none-any.whl (652 kB)\n",
      "Requirement already satisfied: boto3>=1.9.91 in c:\\users\\argenisleon\\anaconda3\\lib\\site-packages (from s3fs->coiled) (1.9.139)\n",
      "Requirement already satisfied: six>=1.12.0 in c:\\users\\argenisleon\\appdata\\roaming\\python\\python37\\site-packages (from s3fs->coiled) (1.14.0)\n",
      "Requirement already satisfied: botocore>=1.12.91 in c:\\users\\argenisleon\\anaconda3\\lib\\site-packages (from s3fs->coiled) (1.12.139)\n",
      "Collecting multidict<5.0,>=4.5\n",
      "  Downloading multidict-4.7.6-cp37-cp37m-win_amd64.whl (48 kB)\n",
      "Collecting yarl<2.0,>=1.0\n",
      "  Downloading yarl-1.5.1-cp37-cp37m-win_amd64.whl (127 kB)\n",
      "Requirement already satisfied: chardet<4.0,>=2.0 in c:\\users\\argenisleon\\appdata\\roaming\\python\\python37\\site-packages (from aiohttp->coiled) (3.0.4)\n",
      "Requirement already satisfied: attrs>=17.3.0 in c:\\users\\argenisleon\\anaconda3\\lib\\site-packages (from aiohttp->coiled) (19.3.0)\n",
      "Collecting async-timeout<4.0,>=3.0\n",
      "  Downloading async_timeout-3.0.1-py3-none-any.whl (8.2 kB)\n",
      "Requirement already satisfied: numpy>=1.15.4 in c:\\users\\argenisleon\\anaconda3\\lib\\site-packages (from pandas>=1.1.0->coiled) (1.19.1)\n",
      "Requirement already satisfied: pytz>=2017.2 in c:\\users\\argenisleon\\appdata\\roaming\\python\\python37\\site-packages (from pandas>=1.1.0->coiled) (2019.3)\n",
      "Requirement already satisfied: python-dateutil>=2.7.3 in c:\\users\\argenisleon\\appdata\\roaming\\python\\python37\\site-packages (from pandas>=1.1.0->coiled) (2.8.1)\n",
      "Requirement already satisfied: backcall in c:\\users\\argenisleon\\anaconda3\\lib\\site-packages (from ipython->coiled) (0.1.0)\n",
      "Requirement already satisfied: pickleshare in c:\\users\\argenisleon\\anaconda3\\lib\\site-packages (from ipython->coiled) (0.7.5)\n",
      "Requirement already satisfied: jedi>=0.10 in c:\\users\\argenisleon\\anaconda3\\lib\\site-packages (from ipython->coiled) (0.14.1)\n",
      "Requirement already satisfied: traitlets>=4.2 in c:\\users\\argenisleon\\anaconda3\\lib\\site-packages (from ipython->coiled) (4.3.3)\n",
      "Requirement already satisfied: decorator in c:\\users\\argenisleon\\anaconda3\\lib\\site-packages (from ipython->coiled) (4.4.2)\n",
      "Collecting prompt-toolkit<2.1.0,>=2.0.0\n",
      "  Using cached prompt_toolkit-2.0.10-py3-none-any.whl (340 kB)\n",
      "Requirement already satisfied: colorama; sys_platform == \"win32\" in c:\\users\\argenisleon\\anaconda3\\lib\\site-packages (from ipython->coiled) (0.4.3)\n",
      "Requirement already satisfied: setuptools>=18.5 in c:\\users\\argenisleon\\anaconda3\\lib\\site-packages (from ipython->coiled) (41.6.0)\n",
      "Requirement already satisfied: pygments in c:\\users\\argenisleon\\anaconda3\\lib\\site-packages (from ipython->coiled) (2.6.1)\n",
      "Requirement already satisfied: pyyaml in c:\\users\\argenisleon\\appdata\\roaming\\python\\python37\\site-packages (from dask[complete]>=2.23.0->coiled) (5.3.1)\n",
      "Requirement already satisfied: fsspec>=0.6.0; extra == \"complete\" in c:\\users\\argenisleon\\anaconda3\\lib\\site-packages (from dask[complete]>=2.23.0->coiled) (0.7.1)\n",
      "Requirement already satisfied: cloudpickle>=0.2.2; extra == \"complete\" in c:\\users\\argenisleon\\anaconda3\\lib\\site-packages (from dask[complete]>=2.23.0->coiled) (1.5.0)\n",
      "Requirement already satisfied: toolz>=0.8.2; extra == \"complete\" in c:\\users\\argenisleon\\appdata\\roaming\\python\\python37\\site-packages (from dask[complete]>=2.23.0->coiled) (0.10.0)\n",
      "Requirement already satisfied: bokeh>=1.0.0; extra == \"complete\" in c:\\users\\argenisleon\\anaconda3\\lib\\site-packages (from dask[complete]>=2.23.0->coiled) (2.0.1)\n",
      "Requirement already satisfied: partd>=0.3.10; extra == \"complete\" in c:\\users\\argenisleon\\anaconda3\\lib\\site-packages (from dask[complete]>=2.23.0->coiled) (1.1.0)\n",
      "Requirement already satisfied: wrapt>=1.10.10 in c:\\users\\argenisleon\\anaconda3\\lib\\site-packages (from aiobotocore>=1.0.7->coiled) (1.12.1)\n",
      "Collecting aioitertools>=0.5.1\n",
      "  Downloading aioitertools-0.7.0-py3-none-any.whl (20 kB)\n",
      "Requirement already satisfied: tornado>=5; python_version < \"3.8\" in c:\\users\\argenisleon\\anaconda3\\lib\\site-packages (from distributed>=2.23.0->coiled) (6.0.4)\n",
      "Requirement already satisfied: sortedcontainers!=2.0.0,!=2.0.1 in c:\\users\\argenisleon\\anaconda3\\lib\\site-packages (from distributed>=2.23.0->coiled) (2.1.0)\n",
      "Requirement already satisfied: msgpack>=0.6.0 in c:\\users\\argenisleon\\anaconda3\\lib\\site-packages (from distributed>=2.23.0->coiled) (1.0.0)\n",
      "Requirement already satisfied: psutil>=5.0 in c:\\users\\argenisleon\\appdata\\roaming\\python\\python37\\site-packages (from distributed>=2.23.0->coiled) (5.7.0)\n",
      "Requirement already satisfied: zict>=0.1.3 in c:\\users\\argenisleon\\anaconda3\\lib\\site-packages (from distributed>=2.23.0->coiled) (2.0.0)\n",
      "Requirement already satisfied: tblib>=1.6.0 in c:\\users\\argenisleon\\anaconda3\\lib\\site-packages (from distributed>=2.23.0->coiled) (1.6.0)\n",
      "Requirement already satisfied: jmespath<1.0.0,>=0.7.1 in c:\\users\\argenisleon\\anaconda3\\lib\\site-packages (from boto3>=1.9.91->s3fs->coiled) (0.9.4)\n",
      "Requirement already satisfied: s3transfer<0.3.0,>=0.2.0 in c:\\users\\argenisleon\\anaconda3\\lib\\site-packages (from boto3>=1.9.91->s3fs->coiled) (0.2.0)\n",
      "Requirement already satisfied: docutils>=0.10 in c:\\users\\argenisleon\\appdata\\roaming\\python\\python37\\site-packages (from botocore>=1.12.91->s3fs->coiled) (0.15.2)\n",
      "Collecting urllib3<1.25,>=1.20; python_version >= \"3.4\"\n",
      "  Using cached urllib3-1.24.3-py2.py3-none-any.whl (118 kB)\n",
      "Requirement already satisfied: idna>=2.0 in c:\\users\\argenisleon\\appdata\\roaming\\python\\python37\\site-packages (from yarl<2.0,>=1.0->aiohttp->coiled) (2.9)\n",
      "Requirement already satisfied: typing-extensions>=3.7.4; python_version < \"3.8\" in c:\\users\\argenisleon\\anaconda3\\lib\\site-packages (from yarl<2.0,>=1.0->aiohttp->coiled) (3.7.4.1)\n",
      "Requirement already satisfied: parso>=0.5.0 in c:\\users\\argenisleon\\anaconda3\\lib\\site-packages (from jedi>=0.10->ipython->coiled) (0.5.2)\n",
      "Requirement already satisfied: ipython-genutils in c:\\users\\argenisleon\\anaconda3\\lib\\site-packages (from traitlets>=4.2->ipython->coiled) (0.2.0)\n",
      "Requirement already satisfied: wcwidth in c:\\users\\argenisleon\\anaconda3\\lib\\site-packages (from prompt-toolkit<2.1.0,>=2.0.0->ipython->coiled) (0.1.9)\n",
      "Requirement already satisfied: pillow>=4.0 in c:\\users\\argenisleon\\anaconda3\\lib\\site-packages (from bokeh>=1.0.0; extra == \"complete\"->dask[complete]>=2.23.0->coiled) (7.1.1)\n",
      "Requirement already satisfied: packaging>=16.8 in c:\\users\\argenisleon\\anaconda3\\lib\\site-packages (from bokeh>=1.0.0; extra == \"complete\"->dask[complete]>=2.23.0->coiled) (20.3)\n",
      "Requirement already satisfied: Jinja2>=2.7 in c:\\users\\argenisleon\\anaconda3\\lib\\site-packages (from bokeh>=1.0.0; extra == \"complete\"->dask[complete]>=2.23.0->coiled) (2.11.1)\n",
      "Requirement already satisfied: locket in c:\\users\\argenisleon\\anaconda3\\lib\\site-packages (from partd>=0.3.10; extra == \"complete\"->dask[complete]>=2.23.0->coiled) (0.2.0)\n",
      "Requirement already satisfied: heapdict in c:\\users\\argenisleon\\anaconda3\\lib\\site-packages (from zict>=0.1.3->distributed>=2.23.0->coiled) (1.0.1)\n",
      "Requirement already satisfied: pyparsing>=2.0.2 in c:\\users\\argenisleon\\anaconda3\\lib\\site-packages (from packaging>=16.8->bokeh>=1.0.0; extra == \"complete\"->dask[complete]>=2.23.0->coiled) (2.4.6)\n",
      "Requirement already satisfied: MarkupSafe>=0.23 in c:\\users\\argenisleon\\anaconda3\\lib\\site-packages (from Jinja2>=2.7->bokeh>=1.0.0; extra == \"complete\"->dask[complete]>=2.23.0->coiled) (1.1.1)\n",
      "Installing collected packages: multidict, yarl, async-timeout, aiohttp, pandas, distributed, dask, aioitertools, aiobotocore, coiled, prompt-toolkit, urllib3\n",
      "  Attempting uninstall: pandas\n",
      "    Found existing installation: pandas 1.0.3\n",
      "    Uninstalling pandas-1.0.3:\n",
      "      Successfully uninstalled pandas-1.0.3\n",
      "  Attempting uninstall: distributed\n",
      "    Found existing installation: distributed 2.22.0\n",
      "    Uninstalling distributed-2.22.0:\n",
      "      Successfully uninstalled distributed-2.22.0\n",
      "  Attempting uninstall: dask\n",
      "    Found existing installation: dask 2.22.0\n",
      "    Uninstalling dask-2.22.0:\n",
      "      Successfully uninstalled dask-2.22.0\n",
      "  Attempting uninstall: prompt-toolkit\n",
      "    Found existing installation: prompt-toolkit 3.0.4\n",
      "    Uninstalling prompt-toolkit-3.0.4:\n",
      "      Successfully uninstalled prompt-toolkit-3.0.4\n",
      "  Attempting uninstall: urllib3\n",
      "    Found existing installation: urllib3 1.25.9\n",
      "    Uninstalling urllib3-1.25.9:\n",
      "      Successfully uninstalled urllib3-1.25.9\n",
      "Successfully installed aiobotocore-1.1.1 aiohttp-3.6.2 aioitertools-0.7.0 async-timeout-3.0.1 coiled-0.0.23 dask-2.25.0 distributed-2.25.0 multidict-4.7.6 pandas-1.1.2 prompt-toolkit-2.0.10 urllib3-1.25.8 yarl-1.5.1\n"
     ]
    },
    {
     "name": "stderr",
     "output_type": "stream",
     "text": [
      "ERROR: apache-airflow 1.10.9 requires flask<2.0,>=1.1.0, which is not installed.\n",
      "ERROR: apache-airflow 1.10.9 requires unicodecsv>=0.14.1, which is not installed.\n",
      "ERROR: apache-airflow 1.10.9 requires werkzeug<1.0.0, which is not installed.\n",
      "ERROR: sparkmagic 0.12.9 requires nose, which is not installed.\n",
      "ERROR: mlflow 0.9.1 requires Flask, which is not installed.\n",
      "ERROR: hdijupyterutils 0.12.9 requires jupyter>=1, which is not installed.\n",
      "ERROR: hdijupyterutils 0.12.9 requires nose, which is not installed.\n",
      "ERROR: datashader 0.8.0 requires datashape>=0.5.1, which is not installed.\n",
      "ERROR: datashader 0.8.0 requires scikit-image, which is not installed.\n",
      "ERROR: modin 0.7.0 has requirement pandas==0.25.3, but you'll have pandas 1.1.2 which is incompatible.\n",
      "ERROR: h2o-pysparkling-2-4 2.4.10 has requirement pyspark<=2.4.0,>=2.4.0, but you'll have pyspark 2.3.1 which is incompatible.\n",
      "ERROR: apache-airflow 1.10.9 has requirement jinja2<2.11.0,>=2.10.1, but you'll have jinja2 2.11.1 which is incompatible.\n",
      "ERROR: apache-airflow 1.10.9 has requirement pandas<1.0.0,>=0.17.1, but you'll have pandas 1.1.2 which is incompatible.\n",
      "ERROR: apache-airflow 1.10.9 has requirement pendulum==1.4.4, but you'll have pendulum 2.1.0 which is incompatible.\n",
      "ERROR: apache-airflow 1.10.9 has requirement text-unidecode==1.2, but you'll have text-unidecode 1.3 which is incompatible.\n",
      "ERROR: prefect 0.9.8 has requirement cloudpickle<1.4,>=0.6.0, but you'll have cloudpickle 1.5.0 which is incompatible.\n",
      "ERROR: aiobotocore 1.1.1 has requirement botocore<1.17.45,>=1.17.44, but you'll have botocore 1.12.139 which is incompatible.\n"
     ]
    }
   ],
   "source": [
    "!pip install coiled"
   ]
  },
  {
   "cell_type": "code",
   "execution_count": 3,
   "metadata": {},
   "outputs": [
    {
     "name": "stdout",
     "output_type": "stream",
     "text": [
      "Credentials have been saved at C:\\Users\\argenisleon\\.config\\dask\\coiled.yaml\n"
     ]
    }
   ],
   "source": [
    "!coiled login --token 1166cf82461ae2fbf7f41884ef1a54de1a3cd212"
   ]
  },
  {
   "cell_type": "code",
   "execution_count": 1,
   "metadata": {},
   "outputs": [],
   "source": [
    "import coiled"
   ]
  },
  {
   "cell_type": "code",
   "execution_count": null,
   "metadata": {},
   "outputs": [],
   "source": [
    "coiled.create_software_environment(name='zarr', conda=['xarray', 'zarr','dask=2.2.23','distributed'])"
   ]
  },
  {
   "cell_type": "code",
   "execution_count": 6,
   "metadata": {},
   "outputs": [],
   "source": [
    "coiled.create_cluster_configuration(\n",
    "    name=\"bumblebee\",\n",
    "    worker_memory=\"16 GiB\",\n",
    "    worker_cpu=4,\n",
    "    scheduler_memory=\"4 GiB\",\n",
    "    scheduler_cpu=1,\n",
    "    software=\"coiled/default\"\n",
    ")"
   ]
  },
  {
   "cell_type": "code",
   "execution_count": 10,
   "metadata": {},
   "outputs": [
    {
     "data": {
      "text/plain": [
       "'argenisleon-82e8c2c8-7'"
      ]
     },
     "execution_count": 10,
     "metadata": {},
     "output_type": "execute_result"
    }
   ],
   "source": [
    "cluster.name #salvar en bumblebee"
   ]
  },
  {
   "cell_type": "code",
   "execution_count": 9,
   "metadata": {},
   "outputs": [
    {
     "data": {
      "text/plain": [
       "{'argenisleon-82e8c2c8-7': {'id': 798,\n",
       "  'status': 'running',\n",
       "  'account': 'argenisleon',\n",
       "  'dashboard_address': 'http://ec2-18-221-23-232.us-east-2.compute.amazonaws.com:8787',\n",
       "  'configuration': 126,\n",
       "  'address': 'tls://ec2-18-221-23-232.us-east-2.compute.amazonaws.com:8786'}}"
      ]
     },
     "execution_count": 9,
     "metadata": {},
     "output_type": "execute_result"
    }
   ],
   "source": [
    "coiled.list_clusters()"
   ]
  },
  {
   "cell_type": "code",
   "execution_count": 11,
   "metadata": {},
   "outputs": [
    {
     "name": "stdout",
     "output_type": "stream",
     "text": [
      "Creating Cluster. This takes about a minute ...Checking environment images\n",
      "Valid environment image found\n"
     ]
    }
   ],
   "source": [
    "cluster = coiled.Cluster(configuration='bumblebee')"
   ]
  },
  {
   "cell_type": "code",
   "execution_count": null,
   "metadata": {},
   "outputs": [],
   "source": [
    "cluster.name # argenisleon-82e8c2c8-7"
   ]
  },
  {
   "cell_type": "code",
   "execution_count": null,
   "metadata": {},
   "outputs": [],
   "source": [
    "coiled.list_clusters()  # {\"argenisleon-82e8c2c8-7\":{...}}"
   ]
  },
  {
   "cell_type": "code",
   "execution_count": 5,
   "metadata": {},
   "outputs": [
    {
     "name": "stdout",
     "output_type": "stream",
     "text": [
      "Dashboard: http://ec2-18-219-253-148.us-east-2.compute.amazonaws.com:8787/status\n"
     ]
    },
    {
     "name": "stderr",
     "output_type": "stream",
     "text": [
      "C:\\Users\\argenisleon\\Anaconda3\\lib\\site-packages\\numpy\\_distributor_init.py:32: UserWarning: loaded more than 1 DLL from .libs:\n",
      "C:\\Users\\argenisleon\\Anaconda3\\lib\\site-packages\\numpy\\.libs\\libopenblas.NOIJJG62EMASZI6NYURL6JBKM4EVBGM7.gfortran-win_amd64.dll\n",
      "C:\\Users\\argenisleon\\Anaconda3\\lib\\site-packages\\numpy\\.libs\\libopenblas.PYQHXLVVQ7VESDPUVUADXEVJOBGHJPAY.gfortran-win_amd64.dll\n",
      "  stacklevel=1)\n",
      "C:\\Users\\argenisleon\\Anaconda3\\lib\\site-packages\\distributed\\client.py:1137: VersionMismatchWarning: Mismatched versions found\n",
      "\n",
      "+-------------+---------------+---------------+---------------+\n",
      "| Package     | client        | scheduler     | workers       |\n",
      "+-------------+---------------+---------------+---------------+\n",
      "| blosc       | None          | 1.9.2         | 1.9.2         |\n",
      "| cloudpickle | 1.5.0         | 1.6.0         | 1.6.0         |\n",
      "| dask        | 2.25.0        | 2.23.0        | 2.23.0        |\n",
      "| distributed | 2.25.0        | 2.26.0        | 2.26.0        |\n",
      "| lz4         | None          | 3.1.0         | 3.1.0         |\n",
      "| python      | 3.7.6.final.0 | 3.8.5.final.0 | 3.8.5.final.0 |\n",
      "+-------------+---------------+---------------+---------------+\n",
      "  warnings.warn(version_module.VersionMismatchWarning(msg[0][\"warning\"]))\n",
      "distributed.client - ERROR - Failed to reconnect to scheduler after 10.00 seconds, closing client\n",
      "_GatheringFuture exception was never retrieved\n",
      "future: <_GatheringFuture finished exception=CancelledError()>\n",
      "concurrent.futures._base.CancelledError\n"
     ]
    }
   ],
   "source": [
    "from dask.distributed import Client\n",
    "client = Client(name=cluster.name)\n",
    "print('Dashboard:', client.dashboard_link)"
   ]
  },
  {
   "cell_type": "code",
   "execution_count": 4,
   "metadata": {},
   "outputs": [
    {
     "data": {
      "text/plain": [
       "['Cloud',\n",
       " 'Cluster',\n",
       " '__builtins__',\n",
       " '__cached__',\n",
       " '__doc__',\n",
       " '__file__',\n",
       " '__getattr__',\n",
       " '__loader__',\n",
       " '__name__',\n",
       " '__package__',\n",
       " '__path__',\n",
       " '__spec__',\n",
       " '__version__',\n",
       " '_version',\n",
       " 'cli',\n",
       " 'cluster',\n",
       " 'compatibility',\n",
       " 'core',\n",
       " 'create_cluster',\n",
       " 'create_cluster_configuration',\n",
       " 'create_job_configuration',\n",
       " 'create_software_environment',\n",
       " 'delete_cluster',\n",
       " 'delete_cluster_configuration',\n",
       " 'delete_job_configuration',\n",
       " 'delete_software_environment',\n",
       " 'inspect',\n",
       " 'install',\n",
       " 'list_cluster_configurations',\n",
       " 'list_clusters',\n",
       " 'list_job_configurations',\n",
       " 'list_jobs',\n",
       " 'list_software_environments',\n",
       " 'start_job',\n",
       " 'stop_job',\n",
       " 'upload',\n",
       " 'utils']"
      ]
     },
     "execution_count": 4,
     "metadata": {},
     "output_type": "execute_result"
    }
   ],
   "source": [
    "dir(coiled)"
   ]
  },
  {
   "cell_type": "code",
   "execution_count": 19,
   "metadata": {},
   "outputs": [
    {
     "ename": "KeyboardInterrupt",
     "evalue": "",
     "output_type": "error",
     "traceback": [
      "\u001b[1;31m---------------------------------------------------------------------------\u001b[0m",
      "\u001b[1;31mKeyboardInterrupt\u001b[0m                         Traceback (most recent call last)",
      "\u001b[1;32m<ipython-input-19-9c89b60c6aab>\u001b[0m in \u001b[0;36m<module>\u001b[1;34m\u001b[0m\n\u001b[0;32m     13\u001b[0m ).persist()\n\u001b[0;32m     14\u001b[0m \u001b[1;33m\u001b[0m\u001b[0m\n\u001b[1;32m---> 15\u001b[1;33m \u001b[0mdf\u001b[0m\u001b[1;33m.\u001b[0m\u001b[0mgroupby\u001b[0m\u001b[1;33m(\u001b[0m\u001b[1;34m\"passenger_count\"\u001b[0m\u001b[1;33m)\u001b[0m\u001b[1;33m.\u001b[0m\u001b[0mtip_amount\u001b[0m\u001b[1;33m.\u001b[0m\u001b[0mmean\u001b[0m\u001b[1;33m(\u001b[0m\u001b[1;33m)\u001b[0m\u001b[1;33m.\u001b[0m\u001b[0mcompute\u001b[0m\u001b[1;33m(\u001b[0m\u001b[1;33m)\u001b[0m\u001b[1;33m\u001b[0m\u001b[1;33m\u001b[0m\u001b[0m\n\u001b[0m",
      "\u001b[1;32m~\\Anaconda3\\lib\\site-packages\\dask\\base.py\u001b[0m in \u001b[0;36mcompute\u001b[1;34m(self, **kwargs)\u001b[0m\n\u001b[0;32m    165\u001b[0m         \u001b[0mdask\u001b[0m\u001b[1;33m.\u001b[0m\u001b[0mbase\u001b[0m\u001b[1;33m.\u001b[0m\u001b[0mcompute\u001b[0m\u001b[1;33m\u001b[0m\u001b[1;33m\u001b[0m\u001b[0m\n\u001b[0;32m    166\u001b[0m         \"\"\"\n\u001b[1;32m--> 167\u001b[1;33m         \u001b[1;33m(\u001b[0m\u001b[0mresult\u001b[0m\u001b[1;33m,\u001b[0m\u001b[1;33m)\u001b[0m \u001b[1;33m=\u001b[0m \u001b[0mcompute\u001b[0m\u001b[1;33m(\u001b[0m\u001b[0mself\u001b[0m\u001b[1;33m,\u001b[0m \u001b[0mtraverse\u001b[0m\u001b[1;33m=\u001b[0m\u001b[1;32mFalse\u001b[0m\u001b[1;33m,\u001b[0m \u001b[1;33m**\u001b[0m\u001b[0mkwargs\u001b[0m\u001b[1;33m)\u001b[0m\u001b[1;33m\u001b[0m\u001b[1;33m\u001b[0m\u001b[0m\n\u001b[0m\u001b[0;32m    168\u001b[0m         \u001b[1;32mreturn\u001b[0m \u001b[0mresult\u001b[0m\u001b[1;33m\u001b[0m\u001b[1;33m\u001b[0m\u001b[0m\n\u001b[0;32m    169\u001b[0m \u001b[1;33m\u001b[0m\u001b[0m\n",
      "\u001b[1;32m~\\Anaconda3\\lib\\site-packages\\dask\\base.py\u001b[0m in \u001b[0;36mcompute\u001b[1;34m(*args, **kwargs)\u001b[0m\n\u001b[0;32m    450\u001b[0m         \u001b[0mpostcomputes\u001b[0m\u001b[1;33m.\u001b[0m\u001b[0mappend\u001b[0m\u001b[1;33m(\u001b[0m\u001b[0mx\u001b[0m\u001b[1;33m.\u001b[0m\u001b[0m__dask_postcompute__\u001b[0m\u001b[1;33m(\u001b[0m\u001b[1;33m)\u001b[0m\u001b[1;33m)\u001b[0m\u001b[1;33m\u001b[0m\u001b[1;33m\u001b[0m\u001b[0m\n\u001b[0;32m    451\u001b[0m \u001b[1;33m\u001b[0m\u001b[0m\n\u001b[1;32m--> 452\u001b[1;33m     \u001b[0mresults\u001b[0m \u001b[1;33m=\u001b[0m \u001b[0mschedule\u001b[0m\u001b[1;33m(\u001b[0m\u001b[0mdsk\u001b[0m\u001b[1;33m,\u001b[0m \u001b[0mkeys\u001b[0m\u001b[1;33m,\u001b[0m \u001b[1;33m**\u001b[0m\u001b[0mkwargs\u001b[0m\u001b[1;33m)\u001b[0m\u001b[1;33m\u001b[0m\u001b[1;33m\u001b[0m\u001b[0m\n\u001b[0m\u001b[0;32m    453\u001b[0m     \u001b[1;32mreturn\u001b[0m \u001b[0mrepack\u001b[0m\u001b[1;33m(\u001b[0m\u001b[1;33m[\u001b[0m\u001b[0mf\u001b[0m\u001b[1;33m(\u001b[0m\u001b[0mr\u001b[0m\u001b[1;33m,\u001b[0m \u001b[1;33m*\u001b[0m\u001b[0ma\u001b[0m\u001b[1;33m)\u001b[0m \u001b[1;32mfor\u001b[0m \u001b[0mr\u001b[0m\u001b[1;33m,\u001b[0m \u001b[1;33m(\u001b[0m\u001b[0mf\u001b[0m\u001b[1;33m,\u001b[0m \u001b[0ma\u001b[0m\u001b[1;33m)\u001b[0m \u001b[1;32min\u001b[0m \u001b[0mzip\u001b[0m\u001b[1;33m(\u001b[0m\u001b[0mresults\u001b[0m\u001b[1;33m,\u001b[0m \u001b[0mpostcomputes\u001b[0m\u001b[1;33m)\u001b[0m\u001b[1;33m]\u001b[0m\u001b[1;33m)\u001b[0m\u001b[1;33m\u001b[0m\u001b[1;33m\u001b[0m\u001b[0m\n\u001b[0;32m    454\u001b[0m \u001b[1;33m\u001b[0m\u001b[0m\n",
      "\u001b[1;32m~\\Anaconda3\\lib\\site-packages\\distributed\\client.py\u001b[0m in \u001b[0;36mget\u001b[1;34m(self, dsk, keys, restrictions, loose_restrictions, resources, sync, asynchronous, direct, retries, priority, fifo_timeout, actors, **kwargs)\u001b[0m\n\u001b[0;32m   2710\u001b[0m                     \u001b[0mshould_rejoin\u001b[0m \u001b[1;33m=\u001b[0m \u001b[1;32mFalse\u001b[0m\u001b[1;33m\u001b[0m\u001b[1;33m\u001b[0m\u001b[0m\n\u001b[0;32m   2711\u001b[0m             \u001b[1;32mtry\u001b[0m\u001b[1;33m:\u001b[0m\u001b[1;33m\u001b[0m\u001b[1;33m\u001b[0m\u001b[0m\n\u001b[1;32m-> 2712\u001b[1;33m                 \u001b[0mresults\u001b[0m \u001b[1;33m=\u001b[0m \u001b[0mself\u001b[0m\u001b[1;33m.\u001b[0m\u001b[0mgather\u001b[0m\u001b[1;33m(\u001b[0m\u001b[0mpacked\u001b[0m\u001b[1;33m,\u001b[0m \u001b[0masynchronous\u001b[0m\u001b[1;33m=\u001b[0m\u001b[0masynchronous\u001b[0m\u001b[1;33m,\u001b[0m \u001b[0mdirect\u001b[0m\u001b[1;33m=\u001b[0m\u001b[0mdirect\u001b[0m\u001b[1;33m)\u001b[0m\u001b[1;33m\u001b[0m\u001b[1;33m\u001b[0m\u001b[0m\n\u001b[0m\u001b[0;32m   2713\u001b[0m             \u001b[1;32mfinally\u001b[0m\u001b[1;33m:\u001b[0m\u001b[1;33m\u001b[0m\u001b[1;33m\u001b[0m\u001b[0m\n\u001b[0;32m   2714\u001b[0m                 \u001b[1;32mfor\u001b[0m \u001b[0mf\u001b[0m \u001b[1;32min\u001b[0m \u001b[0mfutures\u001b[0m\u001b[1;33m.\u001b[0m\u001b[0mvalues\u001b[0m\u001b[1;33m(\u001b[0m\u001b[1;33m)\u001b[0m\u001b[1;33m:\u001b[0m\u001b[1;33m\u001b[0m\u001b[1;33m\u001b[0m\u001b[0m\n",
      "\u001b[1;32m~\\Anaconda3\\lib\\site-packages\\distributed\\client.py\u001b[0m in \u001b[0;36mgather\u001b[1;34m(self, futures, errors, direct, asynchronous)\u001b[0m\n\u001b[0;32m   1989\u001b[0m                 \u001b[0mdirect\u001b[0m\u001b[1;33m=\u001b[0m\u001b[0mdirect\u001b[0m\u001b[1;33m,\u001b[0m\u001b[1;33m\u001b[0m\u001b[1;33m\u001b[0m\u001b[0m\n\u001b[0;32m   1990\u001b[0m                 \u001b[0mlocal_worker\u001b[0m\u001b[1;33m=\u001b[0m\u001b[0mlocal_worker\u001b[0m\u001b[1;33m,\u001b[0m\u001b[1;33m\u001b[0m\u001b[1;33m\u001b[0m\u001b[0m\n\u001b[1;32m-> 1991\u001b[1;33m                 \u001b[0masynchronous\u001b[0m\u001b[1;33m=\u001b[0m\u001b[0masynchronous\u001b[0m\u001b[1;33m,\u001b[0m\u001b[1;33m\u001b[0m\u001b[1;33m\u001b[0m\u001b[0m\n\u001b[0m\u001b[0;32m   1992\u001b[0m             )\n\u001b[0;32m   1993\u001b[0m \u001b[1;33m\u001b[0m\u001b[0m\n",
      "\u001b[1;32m~\\Anaconda3\\lib\\site-packages\\distributed\\client.py\u001b[0m in \u001b[0;36msync\u001b[1;34m(self, func, asynchronous, callback_timeout, *args, **kwargs)\u001b[0m\n\u001b[0;32m    832\u001b[0m         \u001b[1;32melse\u001b[0m\u001b[1;33m:\u001b[0m\u001b[1;33m\u001b[0m\u001b[1;33m\u001b[0m\u001b[0m\n\u001b[0;32m    833\u001b[0m             return sync(\n\u001b[1;32m--> 834\u001b[1;33m                 \u001b[0mself\u001b[0m\u001b[1;33m.\u001b[0m\u001b[0mloop\u001b[0m\u001b[1;33m,\u001b[0m \u001b[0mfunc\u001b[0m\u001b[1;33m,\u001b[0m \u001b[1;33m*\u001b[0m\u001b[0margs\u001b[0m\u001b[1;33m,\u001b[0m \u001b[0mcallback_timeout\u001b[0m\u001b[1;33m=\u001b[0m\u001b[0mcallback_timeout\u001b[0m\u001b[1;33m,\u001b[0m \u001b[1;33m**\u001b[0m\u001b[0mkwargs\u001b[0m\u001b[1;33m\u001b[0m\u001b[1;33m\u001b[0m\u001b[0m\n\u001b[0m\u001b[0;32m    835\u001b[0m             )\n\u001b[0;32m    836\u001b[0m \u001b[1;33m\u001b[0m\u001b[0m\n",
      "\u001b[1;32m~\\Anaconda3\\lib\\site-packages\\distributed\\utils.py\u001b[0m in \u001b[0;36msync\u001b[1;34m(loop, func, callback_timeout, *args, **kwargs)\u001b[0m\n\u001b[0;32m    334\u001b[0m     \u001b[1;32melse\u001b[0m\u001b[1;33m:\u001b[0m\u001b[1;33m\u001b[0m\u001b[1;33m\u001b[0m\u001b[0m\n\u001b[0;32m    335\u001b[0m         \u001b[1;32mwhile\u001b[0m \u001b[1;32mnot\u001b[0m \u001b[0me\u001b[0m\u001b[1;33m.\u001b[0m\u001b[0mis_set\u001b[0m\u001b[1;33m(\u001b[0m\u001b[1;33m)\u001b[0m\u001b[1;33m:\u001b[0m\u001b[1;33m\u001b[0m\u001b[1;33m\u001b[0m\u001b[0m\n\u001b[1;32m--> 336\u001b[1;33m             \u001b[0me\u001b[0m\u001b[1;33m.\u001b[0m\u001b[0mwait\u001b[0m\u001b[1;33m(\u001b[0m\u001b[1;36m10\u001b[0m\u001b[1;33m)\u001b[0m\u001b[1;33m\u001b[0m\u001b[1;33m\u001b[0m\u001b[0m\n\u001b[0m\u001b[0;32m    337\u001b[0m     \u001b[1;32mif\u001b[0m \u001b[0merror\u001b[0m\u001b[1;33m[\u001b[0m\u001b[1;36m0\u001b[0m\u001b[1;33m]\u001b[0m\u001b[1;33m:\u001b[0m\u001b[1;33m\u001b[0m\u001b[1;33m\u001b[0m\u001b[0m\n\u001b[0;32m    338\u001b[0m         \u001b[0mtyp\u001b[0m\u001b[1;33m,\u001b[0m \u001b[0mexc\u001b[0m\u001b[1;33m,\u001b[0m \u001b[0mtb\u001b[0m \u001b[1;33m=\u001b[0m \u001b[0merror\u001b[0m\u001b[1;33m[\u001b[0m\u001b[1;36m0\u001b[0m\u001b[1;33m]\u001b[0m\u001b[1;33m\u001b[0m\u001b[1;33m\u001b[0m\u001b[0m\n",
      "\u001b[1;32m~\\Anaconda3\\lib\\threading.py\u001b[0m in \u001b[0;36mwait\u001b[1;34m(self, timeout)\u001b[0m\n\u001b[0;32m    550\u001b[0m             \u001b[0msignaled\u001b[0m \u001b[1;33m=\u001b[0m \u001b[0mself\u001b[0m\u001b[1;33m.\u001b[0m\u001b[0m_flag\u001b[0m\u001b[1;33m\u001b[0m\u001b[1;33m\u001b[0m\u001b[0m\n\u001b[0;32m    551\u001b[0m             \u001b[1;32mif\u001b[0m \u001b[1;32mnot\u001b[0m \u001b[0msignaled\u001b[0m\u001b[1;33m:\u001b[0m\u001b[1;33m\u001b[0m\u001b[1;33m\u001b[0m\u001b[0m\n\u001b[1;32m--> 552\u001b[1;33m                 \u001b[0msignaled\u001b[0m \u001b[1;33m=\u001b[0m \u001b[0mself\u001b[0m\u001b[1;33m.\u001b[0m\u001b[0m_cond\u001b[0m\u001b[1;33m.\u001b[0m\u001b[0mwait\u001b[0m\u001b[1;33m(\u001b[0m\u001b[0mtimeout\u001b[0m\u001b[1;33m)\u001b[0m\u001b[1;33m\u001b[0m\u001b[1;33m\u001b[0m\u001b[0m\n\u001b[0m\u001b[0;32m    553\u001b[0m             \u001b[1;32mreturn\u001b[0m \u001b[0msignaled\u001b[0m\u001b[1;33m\u001b[0m\u001b[1;33m\u001b[0m\u001b[0m\n\u001b[0;32m    554\u001b[0m \u001b[1;33m\u001b[0m\u001b[0m\n",
      "\u001b[1;32m~\\Anaconda3\\lib\\threading.py\u001b[0m in \u001b[0;36mwait\u001b[1;34m(self, timeout)\u001b[0m\n\u001b[0;32m    298\u001b[0m             \u001b[1;32melse\u001b[0m\u001b[1;33m:\u001b[0m\u001b[1;33m\u001b[0m\u001b[1;33m\u001b[0m\u001b[0m\n\u001b[0;32m    299\u001b[0m                 \u001b[1;32mif\u001b[0m \u001b[0mtimeout\u001b[0m \u001b[1;33m>\u001b[0m \u001b[1;36m0\u001b[0m\u001b[1;33m:\u001b[0m\u001b[1;33m\u001b[0m\u001b[1;33m\u001b[0m\u001b[0m\n\u001b[1;32m--> 300\u001b[1;33m                     \u001b[0mgotit\u001b[0m \u001b[1;33m=\u001b[0m \u001b[0mwaiter\u001b[0m\u001b[1;33m.\u001b[0m\u001b[0macquire\u001b[0m\u001b[1;33m(\u001b[0m\u001b[1;32mTrue\u001b[0m\u001b[1;33m,\u001b[0m \u001b[0mtimeout\u001b[0m\u001b[1;33m)\u001b[0m\u001b[1;33m\u001b[0m\u001b[1;33m\u001b[0m\u001b[0m\n\u001b[0m\u001b[0;32m    301\u001b[0m                 \u001b[1;32melse\u001b[0m\u001b[1;33m:\u001b[0m\u001b[1;33m\u001b[0m\u001b[1;33m\u001b[0m\u001b[0m\n\u001b[0;32m    302\u001b[0m                     \u001b[0mgotit\u001b[0m \u001b[1;33m=\u001b[0m \u001b[0mwaiter\u001b[0m\u001b[1;33m.\u001b[0m\u001b[0macquire\u001b[0m\u001b[1;33m(\u001b[0m\u001b[1;32mFalse\u001b[0m\u001b[1;33m)\u001b[0m\u001b[1;33m\u001b[0m\u001b[1;33m\u001b[0m\u001b[0m\n",
      "\u001b[1;31mKeyboardInterrupt\u001b[0m: "
     ]
    }
   ],
   "source": [
    "import dask.dataframe as dd\n",
    "\n",
    "df = dd.read_csv(\n",
    "    \"s3://nyc-tlc/trip data/yellow_tripdata_2019-*.csv\",\n",
    "    dtype={\n",
    "        \"payment_type\": \"UInt8\",\n",
    "        \"VendorID\": \"UInt8\",\n",
    "        \"passenger_count\": \"UInt8\",\n",
    "        \"RatecodeID\": \"UInt8\",\n",
    "    },\n",
    "    storage_options={\"anon\": True},\n",
    "    blocksize=\"16 MiB\",\n",
    ").persist()\n",
    "\n",
    "df.groupby(\"passenger_count\").tip_amount.mean().compute()"
   ]
  },
  {
   "cell_type": "code",
   "execution_count": null,
   "metadata": {},
   "outputs": [],
   "source": []
  }
 ],
 "metadata": {
  "kernelspec": {
   "display_name": "Python 3",
   "language": "python",
   "name": "python3"
  },
  "language_info": {
   "codemirror_mode": {
    "name": "ipython",
    "version": 3
   },
   "file_extension": ".py",
   "mimetype": "text/x-python",
   "name": "python",
   "nbconvert_exporter": "python",
   "pygments_lexer": "ipython3",
   "version": "3.7.6"
  }
 },
 "nbformat": 4,
 "nbformat_minor": 4
}
