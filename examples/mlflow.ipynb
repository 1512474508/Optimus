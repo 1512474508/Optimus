{
 "cells": [
  {
   "cell_type": "code",
   "execution_count": 1,
   "metadata": {},
   "outputs": [],
   "source": [
    "# If you modify Optimus or any library this code is going to reload it\n",
    "%load_ext autoreload\n",
    "%autoreload "
   ]
  },
  {
   "cell_type": "code",
   "execution_count": 2,
   "metadata": {},
   "outputs": [],
   "source": [
    "# If you are in the example folder. This is the way to find optimus\n",
    "import sys\n",
    "sys.path.append(\"..\")"
   ]
  },
  {
   "cell_type": "code",
   "execution_count": 3,
   "metadata": {},
   "outputs": [
    {
     "data": {
      "text/html": [
       "<style> /* Tables*/\n",
       "\n",
       " .data_type {\n",
       "        font-size: 0.8em;\n",
       "        font-weight: normal;\n",
       "    }\n",
       "\n",
       "    .column_name {\n",
       "        font-size: 1.2em;\n",
       "    }\n",
       "\n",
       "    .info_items {\n",
       "        margin: 10px 0;\n",
       "        font-size: 0.8em;\n",
       "    }\n",
       "\n",
       "    .optimus_table td {\n",
       "        padding: 2px;\n",
       "        border-left: 1px solid #cccccc;\n",
       "        border-right: 1px solid #cccccc;\n",
       "    }\n",
       "\n",
       "    .optimus_table tr:nth-child(even) {\n",
       "        background-color: #f2f2f2 !important;\n",
       "    }\n",
       "\n",
       "    .optimus_table tr:nth-child(odd) {\n",
       "        background-color: #ffffff !important;\n",
       "    }\n",
       "\n",
       "    .optimus_table thead {\n",
       "        border-bottom: 1px solid black;\n",
       "    }\n",
       "    .optimus_table{\n",
       "        font-size: 12px;\n",
       "    }\n",
       "\n",
       "    .optimus_table tbody{\n",
       "        font-family: monospace;\n",
       "        border-bottom: 1px solid #cccccc;\n",
       "    }\n",
       "\n",
       "    /* Profiler */\n",
       "        .main{\n",
       "        width:100%;\n",
       "        overflow:auto;\n",
       "        border-bottom:1px solid #eeeeee;\n",
       "        padding: 10px 0;\n",
       "    }\n",
       "    .panel_profiler{\n",
       "        margin-right:2%;\n",
       "        float:left;\n",
       "        padding-bottom:2%;\n",
       "    }\n",
       "    .panel_profiler tbody{\n",
       "        font-family:monospace;\n",
       "    }\n",
       "    .title_profiler{\n",
       "        padding:20px;\n",
       "        background-color: #eeeeee\n",
       "    }\n",
       "    .info{\n",
       "        overflow: auto\n",
       "    }\n",
       "    .main td, main th{\n",
       "        padding:0em\n",
       "    }\n",
       "    .panel_profiler td {\n",
       "        padding:0.2em\n",
       "    }\n",
       "    .none{\n",
       "        color:#0000ff\n",
       "    }\n",
       "</style>"
      ],
      "text/plain": [
       "<IPython.core.display.HTML object>"
      ]
     },
     "metadata": {},
     "output_type": "display_data"
    }
   ],
   "source": [
    "# Create Optimus\n",
    "from optimus import Optimus\n",
    "op = Optimus()"
   ]
  },
  {
   "cell_type": "code",
   "execution_count": 8,
   "metadata": {},
   "outputs": [
    {
     "data": {
      "text/html": [
       "<style> /* Tables*/\n",
       "\n",
       " .data_type {\n",
       "        font-size: 0.8em;\n",
       "        font-weight: normal;\n",
       "    }\n",
       "\n",
       "    .column_name {\n",
       "        font-size: 1.2em;\n",
       "    }\n",
       "\n",
       "    .info_items {\n",
       "        margin: 10px 0;\n",
       "        font-size: 0.8em;\n",
       "    }\n",
       "\n",
       "    .optimus_table td {\n",
       "        padding: 2px;\n",
       "        border-left: 1px solid #cccccc;\n",
       "        border-right: 1px solid #cccccc;\n",
       "    }\n",
       "\n",
       "    .optimus_table tr:nth-child(even) {\n",
       "        background-color: #f2f2f2 !important;\n",
       "    }\n",
       "\n",
       "    .optimus_table tr:nth-child(odd) {\n",
       "        background-color: #ffffff !important;\n",
       "    }\n",
       "\n",
       "    .optimus_table thead {\n",
       "        border-bottom: 1px solid black;\n",
       "    }\n",
       "    .optimus_table{\n",
       "        font-size: 12px;\n",
       "    }\n",
       "\n",
       "    .optimus_table tbody{\n",
       "        font-family: monospace;\n",
       "        border-bottom: 1px solid #cccccc;\n",
       "    }\n",
       "\n",
       "    /* Profiler */\n",
       "        .main{\n",
       "        width:100%;\n",
       "        overflow:auto;\n",
       "        border-bottom:1px solid #eeeeee;\n",
       "        padding: 10px 0;\n",
       "    }\n",
       "    .panel_profiler{\n",
       "        margin-right:2%;\n",
       "        float:left;\n",
       "        padding-bottom:2%;\n",
       "    }\n",
       "    .panel_profiler tbody{\n",
       "        font-family:monospace;\n",
       "    }\n",
       "    .title_profiler{\n",
       "        padding:20px;\n",
       "        background-color: #eeeeee\n",
       "    }\n",
       "    .info{\n",
       "        overflow: auto\n",
       "    }\n",
       "    .main td, main th{\n",
       "        padding:0em\n",
       "    }\n",
       "    .panel_profiler td {\n",
       "        padding:0.2em\n",
       "    }\n",
       "    .none{\n",
       "        color:#0000ff\n",
       "    }\n",
       "</style>"
      ],
      "text/plain": [
       "<IPython.core.display.HTML object>"
      ]
     },
     "metadata": {},
     "output_type": "display_data"
    },
    {
     "ename": "ModuleNotFoundError",
     "evalue": "No module named 'mlflow.sklearn'; 'mlflow' is not a package",
     "output_type": "error",
     "traceback": [
      "\u001b[1;31m---------------------------------------------------------------------------\u001b[0m",
      "\u001b[1;31mModuleNotFoundError\u001b[0m                       Traceback (most recent call last)",
      "\u001b[1;32m<ipython-input-8-6485df56f13b>\u001b[0m in \u001b[0;36m<module>\u001b[1;34m\u001b[0m\n\u001b[1;32m----> 1\u001b[1;33m \u001b[1;32mimport\u001b[0m \u001b[0mmlflow\u001b[0m\u001b[1;33m\u001b[0m\u001b[1;33m\u001b[0m\u001b[0m\n\u001b[0m",
      "\u001b[1;32m~\\Documents\\Optimus\\examples\\mlflow.py\u001b[0m in \u001b[0;36m<module>\u001b[1;34m\u001b[0m\n\u001b[0;32m     26\u001b[0m \u001b[0mop\u001b[0m \u001b[1;33m=\u001b[0m \u001b[0mOptimus\u001b[0m\u001b[1;33m(\u001b[0m\u001b[1;33m)\u001b[0m\u001b[1;33m\u001b[0m\u001b[1;33m\u001b[0m\u001b[0m\n\u001b[0;32m     27\u001b[0m \u001b[1;33m\u001b[0m\u001b[0m\n\u001b[1;32m---> 28\u001b[1;33m \u001b[1;32mimport\u001b[0m \u001b[0mmlflow\u001b[0m\u001b[1;33m.\u001b[0m\u001b[0msklearn\u001b[0m\u001b[1;33m\u001b[0m\u001b[1;33m\u001b[0m\u001b[0m\n\u001b[0m\u001b[0;32m     29\u001b[0m \u001b[0mmodel\u001b[0m \u001b[1;33m=\u001b[0m \u001b[0mmlflow\u001b[0m\u001b[1;33m.\u001b[0m\u001b[0msklearn\u001b[0m\u001b[1;33m.\u001b[0m\u001b[0mload_model\u001b[0m\u001b[1;33m(\u001b[0m\u001b[0mpath\u001b[0m\u001b[1;33m=\u001b[0m\u001b[1;34m\"model\"\u001b[0m\u001b[1;33m,\u001b[0m \u001b[0mrun_id\u001b[0m\u001b[1;33m=\u001b[0m\u001b[1;34m\"6a7ee9e4748f48c88fd06f2e76794d42\"\u001b[0m\u001b[1;33m)\u001b[0m \u001b[1;31m#Use one of the run IDs captured above\u001b[0m\u001b[1;33m\u001b[0m\u001b[1;33m\u001b[0m\u001b[0m\n\u001b[0;32m     30\u001b[0m \u001b[0mmodel\u001b[0m\u001b[1;33m.\u001b[0m\u001b[0mcoef_\u001b[0m\u001b[1;33m\u001b[0m\u001b[1;33m\u001b[0m\u001b[0m\n",
      "\u001b[1;31mModuleNotFoundError\u001b[0m: No module named 'mlflow.sklearn'; 'mlflow' is not a package"
     ]
    }
   ],
   "source": [
    "import mlflow.sklearn\n",
    "model = mlflow.sklearn.load_model(path=\"model\", run_id=\"6a7ee9e4748f48c88fd06f2e76794d42\") #Use one of the run IDs captured above\n",
    "model.coef_"
   ]
  },
  {
   "cell_type": "code",
   "execution_count": null,
   "metadata": {},
   "outputs": [],
   "source": [
    "!pip uninstall mlflow"
   ]
  },
  {
   "cell_type": "code",
   "execution_count": null,
   "metadata": {},
   "outputs": [],
   "source": [
    "from sklearn import datasets\n",
    "import numpy as np\n",
    "import pandas as pd\n",
    "\n",
    "# Load Diabetes datasets\n",
    "diabetes = datasets.load_diabetes()\n",
    "X = diabetes.data\n",
    "y = diabetes.target\n",
    "\n",
    "# Create pandas DataFrame for sklearn ElasticNet linear_model\n",
    "Y = np.array([y]).transpose()\n",
    "d = np.concatenate((X, Y), axis=1)\n",
    "cols = ['age', 'sex', 'bmi', 'bp', 's1', 's2', 's3', 's4', 's5', 's6', 'progression']\n",
    "data = pd.DataFrame(d, columns=cols)"
   ]
  },
  {
   "cell_type": "code",
   "execution_count": 4,
   "metadata": {},
   "outputs": [
    {
     "name": "stdout",
     "output_type": "stream",
     "text": [
      "Requirement already satisfied: mlflow in c:\\users\\argenisleon\\anaconda3\\lib\\site-packages (0.9.1)\n",
      "Requirement already satisfied: six>=1.10.0 in c:\\users\\argenisleon\\anaconda3\\lib\\site-packages (from mlflow) (1.12.0)\n",
      "Requirement already satisfied: gunicorn in c:\\users\\argenisleon\\anaconda3\\lib\\site-packages (from mlflow) (19.9.0)\n",
      "Requirement already satisfied: numpy in c:\\users\\argenisleon\\anaconda3\\lib\\site-packages (from mlflow) (1.15.2)\n",
      "Requirement already satisfied: scikit-learn in c:\\users\\argenisleon\\anaconda3\\lib\\site-packages (from mlflow) (0.20.1)\n",
      "Requirement already satisfied: pyyaml in c:\\users\\argenisleon\\anaconda3\\lib\\site-packages (from mlflow) (3.13)\n",
      "Requirement already satisfied: requests>=2.17.3 in c:\\users\\argenisleon\\anaconda3\\lib\\site-packages (from mlflow) (2.21.0)\n",
      "Requirement already satisfied: databricks-cli>=0.8.0 in c:\\users\\argenisleon\\anaconda3\\lib\\site-packages (from mlflow) (0.8.6)\n",
      "Requirement already satisfied: python-dateutil in c:\\users\\argenisleon\\anaconda3\\lib\\site-packages (from mlflow) (2.7.5)\n",
      "Requirement already satisfied: querystring-parser in c:\\users\\argenisleon\\anaconda3\\lib\\site-packages (from mlflow) (1.2.3)\n",
      "Requirement already satisfied: click>=7.0 in c:\\users\\argenisleon\\anaconda3\\lib\\site-packages (from mlflow) (7.0)\n",
      "Requirement already satisfied: gitpython>=2.1.0 in c:\\users\\argenisleon\\anaconda3\\lib\\site-packages (from mlflow) (2.1.11)\n",
      "Requirement already satisfied: entrypoints in c:\\users\\argenisleon\\anaconda3\\lib\\site-packages (from mlflow) (0.2.3)\n",
      "Requirement already satisfied: pandas in c:\\users\\argenisleon\\anaconda3\\lib\\site-packages (from mlflow) (0.23.4)\n",
      "Requirement already satisfied: mleap>=0.8.1 in c:\\users\\argenisleon\\anaconda3\\lib\\site-packages (from mlflow) (0.8.1)\n",
      "Requirement already satisfied: scipy in c:\\users\\argenisleon\\anaconda3\\lib\\site-packages (from mlflow) (1.1.0)\n",
      "Requirement already satisfied: docker>=3.6.0 in c:\\users\\argenisleon\\anaconda3\\lib\\site-packages (from mlflow) (3.7.2)\n",
      "Requirement already satisfied: cloudpickle in c:\\users\\argenisleon\\anaconda3\\lib\\site-packages (from mlflow) (0.6.1)\n",
      "Requirement already satisfied: boto3>=1.7.12 in c:\\users\\argenisleon\\anaconda3\\lib\\site-packages (from mlflow) (1.9.139)\n",
      "Requirement already satisfied: protobuf>=3.6.0 in c:\\users\\argenisleon\\anaconda3\\lib\\site-packages (from mlflow) (3.7.0)\n",
      "Requirement already satisfied: Flask in c:\\users\\argenisleon\\anaconda3\\lib\\site-packages (from mlflow) (1.0.2)\n",
      "Requirement already satisfied: simplejson in c:\\users\\argenisleon\\anaconda3\\lib\\site-packages (from mlflow) (3.16.0)\n",
      "Requirement already satisfied: sqlparse in c:\\users\\argenisleon\\anaconda3\\lib\\site-packages (from mlflow) (0.3.0)\n",
      "Requirement already satisfied: certifi>=2017.4.17 in c:\\users\\argenisleon\\anaconda3\\lib\\site-packages (from requests>=2.17.3->mlflow) (2018.11.29)\n",
      "Requirement already satisfied: chardet<3.1.0,>=3.0.2 in c:\\users\\argenisleon\\anaconda3\\lib\\site-packages (from requests>=2.17.3->mlflow) (3.0.4)\n",
      "Requirement already satisfied: idna<2.9,>=2.5 in c:\\users\\argenisleon\\anaconda3\\lib\\site-packages (from requests>=2.17.3->mlflow) (2.8)\n",
      "Requirement already satisfied: urllib3<1.25,>=1.21.1 in c:\\users\\argenisleon\\anaconda3\\lib\\site-packages (from requests>=2.17.3->mlflow) (1.24.1)\n",
      "Requirement already satisfied: tabulate>=0.7.7 in c:\\users\\argenisleon\\anaconda3\\lib\\site-packages (from databricks-cli>=0.8.0->mlflow) (0.8.2)\n",
      "Requirement already satisfied: configparser>=0.3.5 in c:\\users\\argenisleon\\anaconda3\\lib\\site-packages (from databricks-cli>=0.8.0->mlflow) (3.7.4)\n",
      "Requirement already satisfied: gitdb2>=2.0.0 in c:\\users\\argenisleon\\anaconda3\\lib\\site-packages (from gitpython>=2.1.0->mlflow) (2.0.5)\n",
      "Requirement already satisfied: pytz>=2011k in c:\\users\\argenisleon\\anaconda3\\lib\\site-packages (from pandas->mlflow) (2018.7)\n",
      "Requirement already satisfied: argparse>=1.1 in c:\\users\\argenisleon\\anaconda3\\lib\\site-packages (from mleap>=0.8.1->mlflow) (1.4.0)\n",
      "Requirement already satisfied: nose-exclude>=0.5.0 in c:\\users\\argenisleon\\anaconda3\\lib\\site-packages (from mleap>=0.8.1->mlflow) (0.5.0)\n",
      "Requirement already satisfied: websocket-client>=0.32.0 in c:\\users\\argenisleon\\anaconda3\\lib\\site-packages (from docker>=3.6.0->mlflow) (0.56.0)\n",
      "Requirement already satisfied: docker-pycreds>=0.4.0 in c:\\users\\argenisleon\\anaconda3\\lib\\site-packages (from docker>=3.6.0->mlflow) (0.4.0)\n",
      "Requirement already satisfied: pypiwin32==223; sys_platform == \"win32\" and python_version >= \"3.6\" in c:\\users\\argenisleon\\anaconda3\\lib\\site-packages (from docker>=3.6.0->mlflow) (223)\n",
      "Requirement already satisfied: jmespath<1.0.0,>=0.7.1 in c:\\users\\argenisleon\\anaconda3\\lib\\site-packages (from boto3>=1.7.12->mlflow) (0.9.4)\n",
      "Requirement already satisfied: s3transfer<0.3.0,>=0.2.0 in c:\\users\\argenisleon\\anaconda3\\lib\\site-packages (from boto3>=1.7.12->mlflow) (0.2.0)\n",
      "Requirement already satisfied: botocore<1.13.0,>=1.12.139 in c:\\users\\argenisleon\\anaconda3\\lib\\site-packages (from boto3>=1.7.12->mlflow) (1.12.139)\n",
      "Requirement already satisfied: setuptools in c:\\users\\argenisleon\\anaconda3\\lib\\site-packages (from protobuf>=3.6.0->mlflow) (40.6.3)\n",
      "Requirement already satisfied: itsdangerous>=0.24 in c:\\users\\argenisleon\\anaconda3\\lib\\site-packages (from Flask->mlflow) (1.1.0)\n",
      "Requirement already satisfied: Werkzeug>=0.14 in c:\\users\\argenisleon\\anaconda3\\lib\\site-packages (from Flask->mlflow) (0.14.1)\n",
      "Requirement already satisfied: Jinja2>=2.10 in c:\\users\\argenisleon\\anaconda3\\lib\\site-packages (from Flask->mlflow) (2.10)\n",
      "Requirement already satisfied: smmap2>=2.0.0 in c:\\users\\argenisleon\\anaconda3\\lib\\site-packages (from gitdb2>=2.0.0->gitpython>=2.1.0->mlflow) (2.0.5)\n",
      "Requirement already satisfied: nose in c:\\users\\argenisleon\\anaconda3\\lib\\site-packages (from nose-exclude>=0.5.0->mleap>=0.8.1->mlflow) (1.3.7)\n",
      "Requirement already satisfied: pywin32>=223 in c:\\users\\argenisleon\\anaconda3\\lib\\site-packages (from pypiwin32==223; sys_platform == \"win32\" and python_version >= \"3.6\"->docker>=3.6.0->mlflow) (223)\n",
      "Requirement already satisfied: docutils>=0.10 in c:\\users\\argenisleon\\anaconda3\\lib\\site-packages (from botocore<1.13.0,>=1.12.139->boto3>=1.7.12->mlflow) (0.14)\n",
      "Requirement already satisfied: MarkupSafe>=0.23 in c:\\users\\argenisleon\\anaconda3\\lib\\site-packages (from Jinja2>=2.10->Flask->mlflow) (1.1.0)\n",
      "Requirement already satisfied: scikit-learn in c:\\users\\argenisleon\\anaconda3\\lib\\site-packages (0.20.1)\n",
      "Requirement already satisfied: numpy>=1.8.2 in c:\\users\\argenisleon\\anaconda3\\lib\\site-packages (from scikit-learn) (1.15.2)\n",
      "Requirement already satisfied: scipy>=0.13.3 in c:\\users\\argenisleon\\anaconda3\\lib\\site-packages (from scikit-learn) (1.1.0)\n"
     ]
    }
   ],
   "source": [
    "!pip install mlflow\n",
    "!pip install scikit-learn"
   ]
  },
  {
   "cell_type": "code",
   "execution_count": null,
   "metadata": {},
   "outputs": [],
   "source": []
  }
 ],
 "metadata": {
  "jupytext": {
   "formats": "ipynb,py"
  },
  "kernelspec": {
   "display_name": "Python 3",
   "language": "python",
   "name": "python3"
  },
  "language_info": {
   "codemirror_mode": {
    "name": "ipython",
    "version": 3
   },
   "file_extension": ".py",
   "mimetype": "text/x-python",
   "name": "python",
   "nbconvert_exporter": "python",
   "pygments_lexer": "ipython3",
   "version": "3.7.1"
  }
 },
 "nbformat": 4,
 "nbformat_minor": 2
}
