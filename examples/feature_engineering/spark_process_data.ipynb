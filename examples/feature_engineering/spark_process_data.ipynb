{
 "cells": [
  {
   "cell_type": "code",
   "execution_count": 1,
   "metadata": {},
   "outputs": [],
   "source": [
    "%load_ext autoreload\n",
    "%autoreload 2"
   ]
  },
  {
   "cell_type": "code",
   "execution_count": 5,
   "metadata": {},
   "outputs": [],
   "source": [
    "import featuretools as ft\n",
    "import pandas as pd\n",
    "import os\n",
    "from tqdm import tqdm"
   ]
  },
  {
   "cell_type": "code",
   "execution_count": 2,
   "metadata": {},
   "outputs": [],
   "source": [
    "import sys\n",
    "sys.path.append(\"../..\")"
   ]
  },
  {
   "cell_type": "code",
   "execution_count": 3,
   "metadata": {},
   "outputs": [],
   "source": [
    "# Create optimus\n",
    "from optimus import Optimus\n",
    "op = Optimus()"
   ]
  },
  {
   "cell_type": "code",
   "execution_count": 6,
   "metadata": {},
   "outputs": [
    {
     "name": "stdout",
     "output_type": "stream",
     "text": [
      "         order_id  product_id  add_to_cart_order  reordered\n",
      "0               2       33120                  1          1\n",
      "1               2       28985                  2          1\n",
      "2               2        9327                  3          0\n",
      "3               2       45918                  4          1\n",
      "4               2       30035                  5          0\n",
      "5               2       17794                  6          1\n",
      "6               2       40141                  7          1\n",
      "7               2        1819                  8          1\n",
      "8               2       43668                  9          0\n",
      "9               3       33754                  1          1\n",
      "10              3       24838                  2          1\n",
      "11              3       17704                  3          1\n",
      "12              3       21903                  4          1\n",
      "13              3       17668                  5          1\n",
      "14              3       46667                  6          1\n",
      "15              3       17461                  7          1\n",
      "16              3       32665                  8          1\n",
      "17              4       46842                  1          0\n",
      "18              4       26434                  2          1\n",
      "19              4       39758                  3          1\n",
      "20              4       27761                  4          1\n",
      "21              4       10054                  5          1\n",
      "22              4       21351                  6          1\n",
      "23              4       22598                  7          1\n",
      "24              4       34862                  8          1\n",
      "25              4       40285                  9          1\n",
      "26              4       17616                 10          1\n",
      "27              4       25146                 11          1\n",
      "28              4       32645                 12          1\n",
      "29              4       41276                 13          1\n",
      "...           ...         ...                ...        ...\n",
      "1384587   3421026       32237                  3          0\n",
      "1384588   3421026          10                  4          0\n",
      "1384589   3421026        4493                  5          0\n",
      "1384590   3421026        7781                  6          0\n",
      "1384591   3421049       40800                  1          0\n",
      "1384592   3421049       17706                  2          0\n",
      "1384593   3421049       33424                  3          1\n",
      "1384594   3421049       17299                  4          0\n",
      "1384595   3421049       26800                  5          0\n",
      "1384596   3421049       34243                  6          0\n",
      "1384597   3421056        5750                  1          1\n",
      "1384598   3421056        9340                  2          1\n",
      "1384599   3421056       21709                  3          1\n",
      "1384600   3421056       16475                  4          0\n",
      "1384601   3421056       12432                  5          0\n",
      "1384602   3421058       15629                  1          1\n",
      "1384603   3421058        4347                  2          1\n",
      "1384604   3421058       34466                  3          1\n",
      "1384605   3421058        6244                  4          1\n",
      "1384606   3421058        6858                  5          1\n",
      "1384607   3421058       30316                  6          1\n",
      "1384608   3421058       35578                  7          0\n",
      "1384609   3421058       32650                  8          1\n",
      "1384610   3421063       49235                  1          1\n",
      "1384611   3421063       13565                  2          1\n",
      "1384612   3421063       14233                  3          1\n",
      "1384613   3421063       35548                  4          1\n",
      "1384614   3421070       35951                  1          1\n",
      "1384615   3421070       16953                  2          1\n",
      "1384616   3421070        4724                  3          1\n",
      "\n",
      "[33819106 rows x 4 columns]\n"
     ]
    }
   ],
   "source": [
    "data_dir = \"data\"\n",
    "order_products = pd.concat([pd.read_csv(os.path.join(data_dir,\"order_products__prior.csv\")),\n",
    "                            pd.read_csv(os.path.join(data_dir, \"order_products__train.csv\"))])\n",
    "print(order_products)"
   ]
  },
  {
   "cell_type": "code",
   "execution_count": 29,
   "metadata": {},
   "outputs": [
    {
     "data": {
      "text/html": [
       "<style>\n",
       "    .data_type{\n",
       "        font-size: 0.8em;\n",
       "        font-weight:normal;\n",
       "    }\n",
       "    .column_name{\n",
       "        font-size: 1.2em;\n",
       "    }\n",
       "    .info_items{\n",
       "        margin: 10px 0;\n",
       "        font-size: 0.8em;\n",
       "    }\n",
       "</style>\n",
       "<div class=\"info_items\">Viewing 1 of 206209</div>\n",
       "<table>\n",
       "    <thead>\n",
       "    <tr>\n",
       "        \n",
       "        <th>\n",
       "            <div class=\"column_name\">user_id</div>\n",
       "            <div class=\"data_type\">1 (string)</div>\n",
       "\n",
       "        </th>\n",
       "        \n",
       "    </tr>\n",
       "\n",
       "    </thead>\n",
       "    <tbody>\n",
       "    \n",
       "    <tr>\n",
       "        \n",
       "        <td>\n",
       "            296\n",
       "        </td>\n",
       "        \n",
       "    </tr>\n",
       "    \n",
       "    </tbody>\n",
       "</table>\n",
       "<div class=\"info_items\">Viewing 1 of 206209</div>"
      ],
      "text/plain": [
       "<IPython.core.display.HTML object>"
      ]
     },
     "metadata": {},
     "output_type": "display_data"
    }
   ],
   "source": [
    "#pd.read_csv(os.path.join(data_dir,\"order_products__prior.csv\"))\n",
    "order_products = op.concat([op.read.csv(os.path.join(data_dir,\"order_products__prior.csv\"), header= True),\n",
    "    op.read.csv(os.path.join(data_dir, \"order_products__train.csv\"), header=True)], \"rows\")\n",
    "\n",
    "orders = op.read.csv(os.path.join(data_dir, \"orders.csv\"),header=True)\n",
    "departments = op.read.csv(os.path.join(data_dir, \"departments.csv\"),header=True)\n",
    "products = op.read.csv(os.path.join(data_dir, \"products.csv\"), header=True)\n",
    "\n",
    "users_unique = orders.cols.unique(\"user_id\")\n",
    "chunksize = 1000\n",
    "part_num = 0\n",
    "partition_dir = \"partitioned_data\"\n",
    "\n",
    "users_unique.table(1)    "
   ]
  },
  {
   "cell_type": "code",
   "execution_count": 30,
   "metadata": {},
   "outputs": [],
   "source": [
    "def make_user_sample(orders, order_products, departments, products, user_ids, out_dir):\n",
    "    print(\"hola\")\n",
    "    return\n",
    "    orders_sample = orders[orders[\"user_id\"].isin(user_ids)]\n",
    "\n",
    "    orders_keep = orders_sample[\"order_id\"].values\n",
    "    order_products_sample = order_products[order_products[\"order_id\"].isin(orders_keep)]\n",
    "\n",
    "    try:\n",
    "        os.mkdir(out_dir)\n",
    "    except:\n",
    "        pass\n",
    "    order_products_sample.to_csv(os.path.join(out_dir, \"order_products__prior.csv\"), index=None)\n",
    "    orders_sample.to_csv(os.path.join(out_dir, \"orders.csv\"), index=None)\n",
    "    departments.to_csv(os.path.join(out_dir, \"departments.csv\"), index=None)\n",
    "    products.to_csv(os.path.join(out_dir, \"products.csv\"), index=None)"
   ]
  },
  {
   "cell_type": "code",
   "execution_count": 32,
   "metadata": {},
   "outputs": [
    {
     "name": "stderr",
     "output_type": "stream",
     "text": [
      "  0%|          | 0/207 [00:00<?, ?it/s]\n"
     ]
    },
    {
     "ename": "TypeError",
     "evalue": "unexpected item type: <class 'slice'>",
     "output_type": "error",
     "traceback": [
      "\u001b[1;31m---------------------------------------------------------------------------\u001b[0m",
      "\u001b[1;31mTypeError\u001b[0m                                 Traceback (most recent call last)",
      "\u001b[1;32m<ipython-input-32-46a1207a90c4>\u001b[0m in \u001b[0;36m<module>\u001b[1;34m()\u001b[0m\n\u001b[0;32m      5\u001b[0m \u001b[1;33m\u001b[0m\u001b[0m\n\u001b[0;32m      6\u001b[0m \u001b[1;32mfor\u001b[0m \u001b[0mi\u001b[0m \u001b[1;32min\u001b[0m \u001b[0mtqdm\u001b[0m\u001b[1;33m(\u001b[0m\u001b[0mrange\u001b[0m\u001b[1;33m(\u001b[0m\u001b[1;36m0\u001b[0m\u001b[1;33m,\u001b[0m \u001b[0musers_unique\u001b[0m\u001b[1;33m.\u001b[0m\u001b[0mcount\u001b[0m\u001b[1;33m(\u001b[0m\u001b[1;33m)\u001b[0m\u001b[1;33m,\u001b[0m \u001b[0mchunksize\u001b[0m\u001b[1;33m)\u001b[0m\u001b[1;33m)\u001b[0m\u001b[1;33m:\u001b[0m\u001b[1;33m\u001b[0m\u001b[0m\n\u001b[1;32m----> 7\u001b[1;33m     \u001b[0musers_keep\u001b[0m \u001b[1;33m=\u001b[0m \u001b[0musers_unique\u001b[0m\u001b[1;33m[\u001b[0m\u001b[0mi\u001b[0m\u001b[1;33m:\u001b[0m \u001b[0mi\u001b[0m\u001b[1;33m+\u001b[0m\u001b[0mchunksize\u001b[0m\u001b[1;33m]\u001b[0m\u001b[1;33m\u001b[0m\u001b[0m\n\u001b[0m\u001b[0;32m      8\u001b[0m     \u001b[0mmake_user_sample\u001b[0m\u001b[1;33m(\u001b[0m\u001b[0morders\u001b[0m\u001b[1;33m,\u001b[0m \u001b[0morder_products\u001b[0m\u001b[1;33m,\u001b[0m \u001b[0mdepartments\u001b[0m\u001b[1;33m,\u001b[0m \u001b[0mproducts\u001b[0m\u001b[1;33m,\u001b[0m \u001b[0musers_keep\u001b[0m\u001b[1;33m,\u001b[0m \u001b[0mos\u001b[0m\u001b[1;33m.\u001b[0m\u001b[0mpath\u001b[0m\u001b[1;33m.\u001b[0m\u001b[0mjoin\u001b[0m\u001b[1;33m(\u001b[0m\u001b[0mpartition_dir\u001b[0m\u001b[1;33m,\u001b[0m \u001b[1;34m\"part_%d\"\u001b[0m \u001b[1;33m%\u001b[0m \u001b[0mpart_num\u001b[0m\u001b[1;33m)\u001b[0m\u001b[1;33m)\u001b[0m\u001b[1;33m\u001b[0m\u001b[0m\n\u001b[0;32m      9\u001b[0m     \u001b[0mpart_num\u001b[0m \u001b[1;33m+=\u001b[0m \u001b[1;36m1\u001b[0m\u001b[1;33m\u001b[0m\u001b[0m\n",
      "\u001b[1;32m~\\AppData\\Local\\Continuum\\anaconda3\\lib\\site-packages\\pyspark\\sql\\dataframe.py\u001b[0m in \u001b[0;36m__getitem__\u001b[1;34m(self, item)\u001b[0m\n\u001b[0;32m   1169\u001b[0m             \u001b[1;32mreturn\u001b[0m \u001b[0mColumn\u001b[0m\u001b[1;33m(\u001b[0m\u001b[0mjc\u001b[0m\u001b[1;33m)\u001b[0m\u001b[1;33m\u001b[0m\u001b[0m\n\u001b[0;32m   1170\u001b[0m         \u001b[1;32melse\u001b[0m\u001b[1;33m:\u001b[0m\u001b[1;33m\u001b[0m\u001b[0m\n\u001b[1;32m-> 1171\u001b[1;33m             \u001b[1;32mraise\u001b[0m \u001b[0mTypeError\u001b[0m\u001b[1;33m(\u001b[0m\u001b[1;34m\"unexpected item type: %s\"\u001b[0m \u001b[1;33m%\u001b[0m \u001b[0mtype\u001b[0m\u001b[1;33m(\u001b[0m\u001b[0mitem\u001b[0m\u001b[1;33m)\u001b[0m\u001b[1;33m)\u001b[0m\u001b[1;33m\u001b[0m\u001b[0m\n\u001b[0m\u001b[0;32m   1172\u001b[0m \u001b[1;33m\u001b[0m\u001b[0m\n\u001b[0;32m   1173\u001b[0m     \u001b[1;33m@\u001b[0m\u001b[0msince\u001b[0m\u001b[1;33m(\u001b[0m\u001b[1;36m1.3\u001b[0m\u001b[1;33m)\u001b[0m\u001b[1;33m\u001b[0m\u001b[0m\n",
      "\u001b[1;31mTypeError\u001b[0m: unexpected item type: <class 'slice'>"
     ]
    }
   ],
   "source": [
    "try:\n",
    "    os.mkdir(partition_dir)\n",
    "except:\n",
    "    pass\n",
    "\n",
    "for i in tqdm(range(0, users_unique.count(), chunksize)):\n",
    "    users_keep = users_unique[i: i+chunksize]\n",
    "    make_user_sample(orders, order_products, departments, products, users_keep, os.path.join(partition_dir, \"part_%d\" % part_num))\n",
    "    part_num += 1"
   ]
  },
  {
   "cell_type": "code",
   "execution_count": 22,
   "metadata": {},
   "outputs": [
    {
     "name": "stdout",
     "output_type": "stream",
     "text": [
      "[     1      2      3 ... 206207 206208 206209]\n"
     ]
    }
   ],
   "source": [
    "data_dir = \"data\"\n",
    "order_products = pd.concat([pd.read_csv(os.path.join(data_dir,\"order_products__prior.csv\")),\n",
    "                            pd.read_csv(os.path.join(data_dir, \"order_products__train.csv\"))])\n",
    "\n",
    "orders = pd.read_csv(os.path.join(data_dir, \"orders.csv\"))\n",
    "departments = pd.read_csv(os.path.join(data_dir, \"departments.csv\"))\n",
    "products = pd.read_csv(os.path.join(data_dir, \"products.csv\"))\n",
    "\n",
    "users_unique = orders[\"user_id\"].unique()\n",
    "print(users_unique)"
   ]
  },
  {
   "cell_type": "code",
   "execution_count": null,
   "metadata": {},
   "outputs": [],
   "source": [
    "chunksize = 1000\n",
    "part_num = 0\n",
    "partition_dir = \"partitioned_data\"\n",
    "try:\n",
    "    os.mkdir(partition_dir)\n",
    "except:\n",
    "    pass\n",
    "for i in tqdm(range(0, len(users_unique), chunksize)):\n",
    "    users_keep = users_unique[i: i+chunksize]\n",
    "    make_user_sample(orders, order_products, departments, products, users_keep, os.path.join(partition_dir, \"part_%d\" % part_num))\n",
    "    part_num += 1"
   ]
  }
 ],
 "metadata": {
  "kernelspec": {
   "display_name": "Python 3",
   "language": "python",
   "name": "python3"
  },
  "language_info": {
   "codemirror_mode": {
    "name": "ipython",
    "version": 3
   },
   "file_extension": ".py",
   "mimetype": "text/x-python",
   "name": "python",
   "nbconvert_exporter": "python",
   "pygments_lexer": "ipython3",
   "version": "3.6.5"
  }
 },
 "nbformat": 4,
 "nbformat_minor": 2
}
