{
 "cells": [
  {
   "cell_type": "code",
   "execution_count": 1,
   "metadata": {},
   "outputs": [],
   "source": [
    "%load_ext autoreload\n",
    "%autoreload 2"
   ]
  },
  {
   "cell_type": "code",
   "execution_count": 2,
   "metadata": {},
   "outputs": [
    {
     "data": {
      "text/html": [
       "<style>\n",
       ".output_wrapper, .output {\n",
       "    height:auto !important;\n",
       "    max-height:1000px;  /* your desired max-height here */\n",
       "}\n",
       ".output_scroll {\n",
       "    box-shadow:none !important;\n",
       "    webkit-box-shadow:none !important;\n",
       "}\n",
       "</style>"
      ],
      "text/plain": [
       "<IPython.core.display.HTML object>"
      ]
     },
     "metadata": {},
     "output_type": "display_data"
    }
   ],
   "source": [
    "%%html\n",
    "<style>\n",
    ".output_wrapper, .output {\n",
    "    height:auto !important;\n",
    "    max-height:1000px;  /* your desired max-height here */\n",
    "}\n",
    ".output_scroll {\n",
    "    box-shadow:none !important;\n",
    "    webkit-box-shadow:none !important;\n",
    "}\n",
    "</style>"
   ]
  },
  {
   "cell_type": "code",
   "execution_count": 3,
   "metadata": {},
   "outputs": [],
   "source": [
    "import sys\n",
    "sys.path.append(\"..\")"
   ]
  },
  {
   "cell_type": "code",
   "execution_count": 4,
   "metadata": {},
   "outputs": [],
   "source": [
    "from optimus import Optimus\n",
    "from optimus.profiler.functions import print_json as j"
   ]
  },
  {
   "cell_type": "code",
   "execution_count": 5,
   "metadata": {},
   "outputs": [],
   "source": [
    "# Create optimus\n",
    "op = Optimus()"
   ]
  },
  {
   "cell_type": "code",
   "execution_count": 6,
   "metadata": {},
   "outputs": [],
   "source": [
    "df = op.read.csv(\"Meteorite_Landings.csv\", header=True)"
   ]
  },
  {
   "cell_type": "code",
   "execution_count": 7,
   "metadata": {},
   "outputs": [],
   "source": [
    "#df =df.cols().cast([(\"id\",\"integer\")])\n",
    "#df.dtypes\n",
    "\n",
    "from optimus.profiler.profiler import Profiler\n",
    "profiler = Profiler()"
   ]
  },
  {
   "cell_type": "code",
   "execution_count": 9,
   "metadata": {},
   "outputs": [],
   "source": [
    "summary = Profiler.dataset_info(df)"
   ]
  },
  {
   "cell_type": "code",
   "execution_count": 10,
   "metadata": {},
   "outputs": [
    {
     "name": "stdout",
     "output_type": "stream",
     "text": [
      "<class 'dict'>\n"
     ]
    }
   ],
   "source": [
    "p =Profiler.columns(df, \"*\")"
   ]
  },
  {
   "cell_type": "code",
   "execution_count": 27,
   "metadata": {},
   "outputs": [
    {
     "data": {
      "text/html": [
       "<style>\n",
       "    .main{\n",
       "        width:100%;\n",
       "        overflow:auto;\n",
       "        border-bottom:1px solid #eeeeee;\n",
       "        padding: 10px 0;\n",
       "    }\n",
       "    .panel_profiler{\n",
       "        margin-right:2%;\n",
       "        float:left;\n",
       "        padding-bottom:2%;\n",
       "    }\n",
       "    .title_profiler{\n",
       "        padding:20px;\n",
       "        background-color: #eeeeee\n",
       "    }\n",
       "</style>\n",
       "{'cols_count': 10, 'rows_count': 45716, 'missing_count': 22364, 'size': '3.1MiB'}\n",
       "<div class=\"title_profiler\">\n",
       "    <h1>Overview</h1>\n",
       "</div>\n",
       "<div class=\"main\">\n",
       "    <div class=\"panel_profiler\">\n",
       "        <h2>Dataset info</h2>\n",
       "        <table>\n",
       "            <tbody>\n",
       "            <tr>\n",
       "                <td>Number of columns</td>\n",
       "                <td>10</td>\n",
       "\n",
       "            </tr>\n",
       "            <tr>\n",
       "                <td>Number of rows</td>\n",
       "                <td>45716</td>\n",
       "\n",
       "            </tr>\n",
       "            <tr>\n",
       "                <td>Total Missing (%)</td>\n",
       "                <td>22364</td>\n",
       "\n",
       "            </tr>\n",
       "            <tr>\n",
       "                <td>Total size in memory</td>\n",
       "                <td>3.1MiB</td>\n",
       "\n",
       "            </tr>\n",
       "            </tbody>\n",
       "        </table>\n",
       "    </div>\n",
       "    <div class=\"panel_profiler\">\n",
       "        <h2>Variables types</h2>\n",
       "        <table>\n",
       "            <tbody>\n",
       "            <tr>\n",
       "                <td>Categorical</td>\n",
       "                <td>0</td>\n",
       "\n",
       "            </tr>\n",
       "            <tr>\n",
       "                <td>Numeric</td>\n",
       "                <td>0</td>\n",
       "\n",
       "            </tr>\n",
       "            <tr>\n",
       "                <td>Date</td>\n",
       "                <td>1</td>\n",
       "\n",
       "            </tr>\n",
       "            <tr>\n",
       "                <td>Not available</td>\n",
       "                <td>0</td>\n",
       "\n",
       "            </tr>\n",
       "            </tbody>\n",
       "        </table>\n",
       "    </div>\n",
       "</div>\n",
       "<div class=\"title_profiler\">\n",
       "    <h1>Variables</h1>\n",
       "</div>\n",
       "\n",
       "<div class=\"main\">\n",
       "\n",
       "    \n",
       "    <div class=\"panel_profiler\">\n",
       "        <div>\n",
       "            <h2>year</h2>\n",
       "            <div>date</div>\n",
       "        </div>\n",
       "        <table>\n",
       "            <tbody>\n",
       "            <tr>\n",
       "                <td>Distinct count</td>\n",
       "                <td> 270</td>\n",
       "            </tr>\n",
       "            <tr>\n",
       "                <td>Unique (%)</td>\n",
       "                <td> 0.59</td>\n",
       "            </tr>\n",
       "            <tr>\n",
       "                <td>Missing (%)</td>\n",
       "                <td>288</td>\n",
       "            </tr>\n",
       "            <tr>\n",
       "                <td>Missing (n)</td>\n",
       "                <td>0.63</td>\n",
       "            </tr>\n",
       "            </tbody>\n",
       "        </table>\n",
       "        \n",
       "\n",
       "    </div>\n",
       "    <div class=\"panel_profiler\">\n",
       "        <h3>Frequency</h3>\n",
       "        <table>\n",
       "            <tbody>\n",
       "            <th>Value</th>\n",
       "            <th>Count</th>\n",
       "            <th>Frecuency (%)</th>\n",
       "            \n",
       "            <tr>\n",
       "                <td>01/01/2003 12:00:00 AM</td>\n",
       "                <td>3323</td>\n",
       "                <td>7.27%</td>\n",
       "            </tr>\n",
       "\n",
       "            \n",
       "            <tr>\n",
       "                <td>01/01/1979 12:00:00 AM</td>\n",
       "                <td>3046</td>\n",
       "                <td>6.66%</td>\n",
       "            </tr>\n",
       "\n",
       "            \n",
       "            <tr>\n",
       "                <td>01/01/1998 12:00:00 AM</td>\n",
       "                <td>2697</td>\n",
       "                <td>5.9%</td>\n",
       "            </tr>\n",
       "\n",
       "            \n",
       "            <tr>\n",
       "                <td>01/01/2006 12:00:00 AM</td>\n",
       "                <td>2456</td>\n",
       "                <td>5.37%</td>\n",
       "            </tr>\n",
       "\n",
       "            \n",
       "            <tr>\n",
       "                <td>01/01/1988 12:00:00 AM</td>\n",
       "                <td>2296</td>\n",
       "                <td>5.02%</td>\n",
       "            </tr>\n",
       "\n",
       "            \n",
       "            <tr>\n",
       "                <td>01/01/2002 12:00:00 AM</td>\n",
       "                <td>2078</td>\n",
       "                <td>4.55%</td>\n",
       "            </tr>\n",
       "\n",
       "            \n",
       "            <tr>\n",
       "                <td>01/01/2004 12:00:00 AM</td>\n",
       "                <td>1940</td>\n",
       "                <td>4.24%</td>\n",
       "            </tr>\n",
       "\n",
       "            \n",
       "            <tr>\n",
       "                <td>01/01/2000 12:00:00 AM</td>\n",
       "                <td>1792</td>\n",
       "                <td>3.92%</td>\n",
       "            </tr>\n",
       "\n",
       "            \n",
       "            <tr>\n",
       "                <td>01/01/1997 12:00:00 AM</td>\n",
       "                <td>1696</td>\n",
       "                <td>3.71%</td>\n",
       "            </tr>\n",
       "\n",
       "            \n",
       "            <tr>\n",
       "                <td>01/01/1999 12:00:00 AM</td>\n",
       "                <td>1691</td>\n",
       "                <td>3.7%</td>\n",
       "            </tr>\n",
       "\n",
       "            \n",
       "            <!--<tr>\n",
       "                <td>Other Values</td>\n",
       "                <td></td>\n",
       "                <td>0.99%</td>\n",
       "            </tr>-->\n",
       "            <tr>\n",
       "                <td>\"Missing\"</td>\n",
       "                <td>288</td>\n",
       "                <td>0.63%</td>\n",
       "            </tr>\n",
       "            </tbody>\n",
       "        </table>\n",
       "    </div>\n",
       "    \n",
       "\n",
       "    \n",
       "\n",
       "</div>\n"
      ],
      "text/plain": [
       "<IPython.core.display.HTML object>"
      ]
     },
     "metadata": {},
     "output_type": "display_data"
    }
   ],
   "source": [
    "#column stats\n",
    "#from Jinja2 import Environment, PackageLoader, select_autoescape\n",
    "import jinja2\n",
    "import json\n",
    "from IPython.core.display import display, HTML\n",
    "\n",
    "templateLoader = jinja2.FileSystemLoader(searchpath=\"../optimus/templates\")\n",
    "templateEnv = jinja2.Environment(loader=templateLoader)\n",
    "\n",
    "template = templateEnv.get_template(\"column_stats.html\")\n",
    "\n",
    "df_data= json.dumps(p)\n",
    "output = template.render(data=p, summary=summary)\n",
    "display(HTML(output))"
   ]
  },
  {
   "cell_type": "code",
   "execution_count": 24,
   "metadata": {},
   "outputs": [
    {
     "name": "stdout",
     "output_type": "stream",
     "text": [
      "<class 'dict'>\n"
     ]
    }
   ],
   "source": [
    "p =Profiler.columns(df, \"year\")"
   ]
  },
  {
   "cell_type": "code",
   "execution_count": 25,
   "metadata": {},
   "outputs": [
    {
     "name": "stdout",
     "output_type": "stream",
     "text": [
      "{'columns': {'year': {'missing_count': 288, 'p_missing': 0.63, 'column_type': 'date', 'frequency': [{'value': '01/01/2003 12:00:00 AM', 'count': 3323, 'percentage': 7.27}, {'value': '01/01/1979 12:00:00 AM', 'count': 3046, 'percentage': 6.66}, {'value': '01/01/1998 12:00:00 AM', 'count': 2697, 'percentage': 5.9}, {'value': '01/01/2006 12:00:00 AM', 'count': 2456, 'percentage': 5.37}, {'value': '01/01/1988 12:00:00 AM', 'count': 2296, 'percentage': 5.02}, {'value': '01/01/2002 12:00:00 AM', 'count': 2078, 'percentage': 4.55}, {'value': '01/01/2004 12:00:00 AM', 'count': 1940, 'percentage': 4.24}, {'value': '01/01/2000 12:00:00 AM', 'count': 1792, 'percentage': 3.92}, {'value': '01/01/1997 12:00:00 AM', 'count': 1696, 'percentage': 3.71}, {'value': '01/01/1999 12:00:00 AM', 'count': 1691, 'percentage': 3.7}], 'uniques_count': 270, 'p_uniques': 0.59, 'min': '01/01/1583 12:00:00 AM', 'max': '12/28/0860 12:00:00 AM'}}, 'rows_count': 45716, 'count_types': {'date': 1, 'null': 0, 'categorical': 0, 'numeric': 0}, 'size': '78.0MiB'}\n"
     ]
    }
   ],
   "source": [
    "print(p)"
   ]
  },
  {
   "cell_type": "code",
   "execution_count": null,
   "metadata": {},
   "outputs": [],
   "source": []
  }
 ],
 "metadata": {
  "kernelspec": {
   "display_name": "Python 3",
   "language": "python",
   "name": "python3"
  },
  "language_info": {
   "codemirror_mode": {
    "name": "ipython",
    "version": 3
   },
   "file_extension": ".py",
   "mimetype": "text/x-python",
   "name": "python",
   "nbconvert_exporter": "python",
   "pygments_lexer": "ipython3",
   "version": "3.6.4"
  }
 },
 "nbformat": 4,
 "nbformat_minor": 2
}
