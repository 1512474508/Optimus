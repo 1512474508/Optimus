{
 "cells": [
  {
   "cell_type": "code",
   "execution_count": 1,
   "metadata": {},
   "outputs": [],
   "source": [
    "%load_ext autoreload\n",
    "%autoreload 2"
   ]
  },
  {
   "cell_type": "code",
   "execution_count": 2,
   "metadata": {},
   "outputs": [],
   "source": [
    "import sys\n",
    "sys.path.append(\"..\")"
   ]
  },
  {
   "cell_type": "code",
   "execution_count": 3,
   "metadata": {},
   "outputs": [
    {
     "name": "stderr",
     "output_type": "stream",
     "text": [
      "C:\\Users\\argenisleon\\Anaconda3\\lib\\site-packages\\socks.py:58: DeprecationWarning: Using or importing the ABCs from 'collections' instead of from 'collections.abc' is deprecated, and in 3.8 it will stop working\n",
      "  from collections import Callable\n",
      "\n",
      "    You are using PySparkling of version 2.4.10, but your PySpark is of\n",
      "    version 2.3.1. Please make sure Spark and PySparkling versions are compatible. \n",
      "`formatargspec` is deprecated since Python 3.5. Use `signature` and the `Signature` object directly\n"
     ]
    }
   ],
   "source": [
    "from optimus import Optimus"
   ]
  },
  {
   "cell_type": "code",
   "execution_count": 4,
   "metadata": {},
   "outputs": [
    {
     "data": {
      "text/html": [
       "Your connection keys are in bumblebee.ini. If you really care about privacy get your keys and put them<a href ='http://app.hi-bumblebee.com'> here</a>. If you are testing just <a target='_blank' href ='http://app.hi-bumblebee.com/?session=4333ca23-2415-49fd-9eb3-0fc0df770082&key=-sW4qA88E1zYztUXoyFIaZyJe_9MYcxrXUDnkiQii4k=&view=0'>call bumblebee</a>"
      ],
      "text/plain": [
       "<IPython.core.display.HTML object>"
      ]
     },
     "metadata": {},
     "output_type": "display_data"
    }
   ],
   "source": [
    "op= Optimus(master=\"local[*]\",comm=True)"
   ]
  },
  {
   "cell_type": "code",
   "execution_count": 9,
   "metadata": {},
   "outputs": [],
   "source": [
    "df = op.load.csv(\"data/crime.csv\")"
   ]
  },
  {
   "cell_type": "code",
   "execution_count": 10,
   "metadata": {},
   "outputs": [
    {
     "name": "stdout",
     "output_type": "stream",
     "text": [
      "'stddev' function in 'INCIDENT_NUMBER' column is returning 'nan'. Is that what you expected?. Seems that 'INCIDENT_NUMBER' has 'nan' values\n",
      "'kurtosis' function in 'INCIDENT_NUMBER' column is returning 'nan'. Is that what you expected?. Seems that 'INCIDENT_NUMBER' has 'nan' values\n",
      "'skewness' function in 'INCIDENT_NUMBER' column is returning 'nan'. Is that what you expected?. Seems that 'INCIDENT_NUMBER' has 'nan' values\n",
      "'variance' function in 'INCIDENT_NUMBER' column is returning 'nan'. Is that what you expected?. Seems that 'INCIDENT_NUMBER' has 'nan' values\n",
      "'kurtosis' function in 'STREET' column is returning 'nan'. Is that what you expected?. Seems that 'STREET' has 'nan' values\n",
      "'skewness' function in 'STREET' column is returning 'nan'. Is that what you expected?. Seems that 'STREET' has 'nan' values\n",
      "Data sent \n",
      "\n"
     ]
    }
   ],
   "source": [
    "df.send(\"crime\")"
   ]
  },
  {
   "cell_type": "code",
   "execution_count": 7,
   "metadata": {},
   "outputs": [],
   "source": [
    "df_many = op.load.parquet(\"many-columns.parquet\")"
   ]
  },
  {
   "cell_type": "code",
   "execution_count": 8,
   "metadata": {},
   "outputs": [
    {
     "name": "stdout",
     "output_type": "stream",
     "text": [
      "'kurtosis' function in 'NIVELES' column is returning 'nan'. Is that what you expected?. Seems that 'NIVELES' has 'nan' values\n",
      "'skewness' function in 'NIVELES' column is returning 'nan'. Is that what you expected?. Seems that 'NIVELES' has 'nan' values\n",
      "'kurtosis' function in 'ALCOB' column is returning 'nan'. Is that what you expected?. Seems that 'ALCOB' has 'nan' values\n",
      "'skewness' function in 'ALCOB' column is returning 'nan'. Is that what you expected?. Seems that 'ALCOB' has 'nan' values\n",
      "'kurtosis' function in 'Cuarto_Servicio' column is returning 'nan'. Is that what you expected?. Seems that 'Cuarto_Servicio' has 'nan' values\n",
      "'skewness' function in 'Cuarto_Servicio' column is returning 'nan'. Is that what you expected?. Seems that 'Cuarto_Servicio' has 'nan' values\n",
      "'stddev' function in 'OTRO1' column is returning 'nan'. Is that what you expected?. Seems that 'OTRO1' has 'nan' values\n",
      "'kurtosis' function in 'OTRO1' column is returning 'nan'. Is that what you expected?. Seems that 'OTRO1' has 'nan' values\n",
      "'skewness' function in 'OTRO1' column is returning 'nan'. Is that what you expected?. Seems that 'OTRO1' has 'nan' values\n",
      "'variance' function in 'OTRO1' column is returning 'nan'. Is that what you expected?. Seems that 'OTRO1' has 'nan' values\n",
      "'kurtosis' function in 'cTipoIdentificación' column is returning 'nan'. Is that what you expected?. Seems that 'cTipoIdentificación' has 'nan' values\n",
      "'skewness' function in 'cTipoIdentificación' column is returning 'nan'. Is that what you expected?. Seems that 'cTipoIdentificación' has 'nan' values\n",
      "Data sent \n",
      "\n"
     ]
    }
   ],
   "source": [
    "df_many.send(\"manycolumns\")"
   ]
  },
  {
   "cell_type": "code",
   "execution_count": null,
   "metadata": {},
   "outputs": [],
   "source": [
    "Identificar Idiomas en el profiler. Textbox.\n",
    "no has tenido problemas con la cantidad. \n",
    "Correlaciones para numerica.\n",
    "Analisis de correspondencia. varaibles categoricas cuales estan relacionas.\n",
    "\n"
   ]
  },
  {
   "cell_type": "code",
   "execution_count": null,
   "metadata": {},
   "outputs": [],
   "source": [
    "df.cols.select(df[\"a\"] + df[\"b\"]).send()"
   ]
  },
  {
   "cell_type": "code",
   "execution_count": 6,
   "metadata": {},
   "outputs": [
    {
     "ename": "AttributeError",
     "evalue": "'Optimus' object has no attribute 'JDBC'",
     "output_type": "error",
     "traceback": [
      "\u001b[1;31m---------------------------------------------------------------------------\u001b[0m",
      "\u001b[1;31mAttributeError\u001b[0m                            Traceback (most recent call last)",
      "\u001b[1;32m<ipython-input-6-a2dbfa275f11>\u001b[0m in \u001b[0;36m<module>\u001b[1;34m\u001b[0m\n\u001b[0;32m      1\u001b[0m \u001b[1;31m# Put your db credentials here\u001b[0m\u001b[1;33m\u001b[0m\u001b[1;33m\u001b[0m\u001b[1;33m\u001b[0m\u001b[0m\n\u001b[1;32m----> 2\u001b[1;33m db =  op.JDBC(\n\u001b[0m\u001b[0;32m      3\u001b[0m     \u001b[0mdb_type\u001b[0m\u001b[1;33m=\u001b[0m\u001b[1;34m\"mysql\"\u001b[0m\u001b[1;33m,\u001b[0m\u001b[1;33m\u001b[0m\u001b[1;33m\u001b[0m\u001b[0m\n\u001b[0;32m      4\u001b[0m     \u001b[0murl\u001b[0m\u001b[1;33m=\u001b[0m\u001b[1;34m\"165.227.196.70\"\u001b[0m\u001b[1;33m,\u001b[0m\u001b[1;33m\u001b[0m\u001b[1;33m\u001b[0m\u001b[0m\n\u001b[0;32m      5\u001b[0m     \u001b[0mdatabase\u001b[0m\u001b[1;33m=\u001b[0m \u001b[1;34m\"optimus\"\u001b[0m\u001b[1;33m,\u001b[0m\u001b[1;33m\u001b[0m\u001b[1;33m\u001b[0m\u001b[0m\n",
      "\u001b[1;31mAttributeError\u001b[0m: 'Optimus' object has no attribute 'JDBC'"
     ]
    }
   ],
   "source": [
    "# Put your db credentials here\n",
    "db =  op.JDBC(\n",
    "    db_type=\"mysql\", \n",
    "    url=\"165.227.196.70\", \n",
    "    database= \"optimus\", \n",
    "    user= \"read-only\", \n",
    "    password = \"readonly\")"
   ]
  },
  {
   "cell_type": "code",
   "execution_count": null,
   "metadata": {},
   "outputs": [],
   "source": []
  }
 ],
 "metadata": {
  "kernelspec": {
   "display_name": "Python 3",
   "language": "python",
   "name": "python3"
  },
  "language_info": {
   "codemirror_mode": {
    "name": "ipython",
    "version": 3
   },
   "file_extension": ".py",
   "mimetype": "text/x-python",
   "name": "python",
   "nbconvert_exporter": "python",
   "pygments_lexer": "ipython3",
   "version": "3.7.1"
  }
 },
 "nbformat": 4,
 "nbformat_minor": 4
}
