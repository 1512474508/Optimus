{
 "cells": [
  {
   "cell_type": "code",
   "execution_count": 1,
   "metadata": {},
   "outputs": [],
   "source": [
    "%load_ext autoreload\n",
    "%autoreload 2"
   ]
  },
  {
   "cell_type": "code",
   "execution_count": 2,
   "metadata": {},
   "outputs": [],
   "source": [
    "import sys\n",
    "sys.path.append(\"..\")"
   ]
  },
  {
   "cell_type": "code",
   "execution_count": 3,
   "metadata": {},
   "outputs": [],
   "source": [
    "from optimus import Optimus\n",
    "\n",
    "from pyspark.sql.session import SparkSession\n",
    "from pyspark.sql.types import StructType, StructField, StringType, BooleanType, IntegerType, ArrayType"
   ]
  },
  {
   "cell_type": "code",
   "execution_count": 4,
   "metadata": {},
   "outputs": [
    {
     "name": "stderr",
     "output_type": "stream",
     "text": [
      "\n",
      "                             ____        __  _                     \n",
      "                            / __ \\____  / /_(_)___ ___  __  _______\n",
      "                           / / / / __ \\/ __/ / __ `__ \\/ / / / ___/\n",
      "                          / /_/ / /_/ / /_/ / / / / / / /_/ (__  ) \n",
      "                          \\____/ .___/\\__/_/_/ /_/ /_/\\__,_/____/  \n",
      "                              /_/                                  \n",
      "                              \n",
      "Transform and Roll out...\n",
      "Just checking that all necessary environments vars are present...\n",
      "-----\n",
      "PYSPARK_PYTHON=python\n",
      "SPARK_HOME=C:\\opt\\spark\\spark-2.3.1-bin-hadoop2.7\n",
      "JAVA_HOME=C:\\java8\n",
      "Pyarrow Installed\n",
      "-----\n",
      "Starting or getting SparkSession and SparkContext...\n",
      "Setting checkpoint folder local. If you are in a cluster initialize Optimus with master='your_ip' as param\n",
      "Deleting previous folder if exists...\n",
      "Creating the checkpoint directory...\n",
      "Optimus successfully imported. Have fun :).\n"
     ]
    }
   ],
   "source": [
    "# Create optimus\n",
    "op = Optimus()"
   ]
  },
  {
   "cell_type": "code",
   "execution_count": 5,
   "metadata": {},
   "outputs": [
    {
     "name": "stdout",
     "output_type": "stream",
     "text": [
      "+-------------------+---+-------+-----+------+------+\n",
      "|              words|num|animals|thing|second|filter|\n",
      "+-------------------+---+-------+-----+------+------+\n",
      "|  I like     fish  |  1|dog dog|housé|     5|     a|\n",
      "|            zombies|  2|    cat|   tv|     6|     b|\n",
      "|simpsons   cat lady|  2|   frog|table|     7|     1|\n",
      "|               null|  3|  eagle|glass|     8|     c|\n",
      "+-------------------+---+-------+-----+------+------+\n",
      "\n"
     ]
    }
   ],
   "source": [
    "df = op.create.df([\n",
    "                (\"words\", \"str\", True),\n",
    "                (\"num\", \"int\", True),\n",
    "                (\"animals\", \"str\", True),\n",
    "                (\"thing\", StringType(), True),\n",
    "                (\"second\", \"int\", True),\n",
    "                (\"filter\", StringType(), True)\n",
    "            ],\n",
    "            [\n",
    "                (\"  I like     fish  \", 1, \"dog dog\", \"housé\", 5 , \"a\"),\n",
    "                (\"    zombies\", 2, \"cat\", \"tv\", 6, \"b\"),\n",
    "                (\"simpsons   cat lady\", 2, \"frog\", \"table\", 7, \"1\"),\n",
    "                (None, 3, \"eagle\", \"glass\", 8, \"c\")\n",
    "                \n",
    "            ])\n",
    "\n",
    "df.show()"
   ]
  },
  {
   "cell_type": "code",
   "execution_count": 6,
   "metadata": {},
   "outputs": [
    {
     "data": {
      "text/plain": [
       "[('words', 'string'),\n",
       " ('num', 'int'),\n",
       " ('animals', 'string'),\n",
       " ('thing', 'string'),\n",
       " ('second', 'int'),\n",
       " ('filter', 'string')]"
      ]
     },
     "execution_count": 6,
     "metadata": {},
     "output_type": "execute_result"
    }
   ],
   "source": [
    "df.dtypes"
   ]
  },
  {
   "cell_type": "markdown",
   "metadata": {},
   "source": [
    "## Append row\n",
    "### Spark\n",
    "Not available in Spark. You need to create a dataframe and the union to append a row"
   ]
  },
  {
   "cell_type": "code",
   "execution_count": 7,
   "metadata": {},
   "outputs": [
    {
     "name": "stdout",
     "output_type": "stream",
     "text": [
      "append function took 39.838 ms\n",
      "+-------------------+---+-----------------+---------------+------+----------------+\n",
      "|              words|num|          animals|          thing|second|          filter|\n",
      "+-------------------+---+-----------------+---------------+------+----------------+\n",
      "|  I like     fish  |  1|          dog dog|          housé|     5|               a|\n",
      "|            zombies|  2|              cat|             tv|     6|               b|\n",
      "|simpsons   cat lady|  2|             frog|          table|     7|               1|\n",
      "|               null|  3|            eagle|          glass|     8|               c|\n",
      "|     this is a word|  2|this is an animal|this is a thing|    64|this is a filter|\n",
      "+-------------------+---+-----------------+---------------+------+----------------+\n",
      "\n"
     ]
    }
   ],
   "source": [
    "df.rows.append([\"this is a word\",2, \"this is an animal\", \"this is a thing\", 64, \"this is a filter\"]).show()"
   ]
  },
  {
   "cell_type": "markdown",
   "metadata": {},
   "source": [
    "## Filter by type\n",
    "### Spark \n",
    "Not available in Spark Vanilla.\n",
    "\n",
    "### Pandas\n"
   ]
  },
  {
   "cell_type": "code",
   "execution_count": 8,
   "metadata": {},
   "outputs": [
    {
     "name": "stdout",
     "output_type": "stream",
     "text": [
      "filter function took 8.975 ms\n",
      "+-------------------+---+-------+-----+------+------+\n",
      "|              words|num|animals|thing|second|filter|\n",
      "+-------------------+---+-------+-----+------+------+\n",
      "|  I like     fish  |  1|dog dog|housé|     5|     a|\n",
      "+-------------------+---+-------+-----+------+------+\n",
      "\n"
     ]
    }
   ],
   "source": [
    "df.rows.filter(df[\"num\"]==1).show()"
   ]
  },
  {
   "cell_type": "code",
   "execution_count": 9,
   "metadata": {
    "scrolled": true
   },
   "outputs": [
    {
     "name": "stdout",
     "output_type": "stream",
     "text": [
      "filter_by_dtypes function took 304.250 ms\n",
      "+-------------------+---+-------+-----+------+------+\n",
      "|              words|num|animals|thing|second|filter|\n",
      "+-------------------+---+-------+-----+------+------+\n",
      "|simpsons   cat lady|  2|   frog|table|     7|     1|\n",
      "+-------------------+---+-------+-----+------+------+\n",
      "\n"
     ]
    }
   ],
   "source": [
    "df.rows.filter_by_dtypes(\"filter\", \"integer\").show()"
   ]
  },
  {
   "cell_type": "markdown",
   "metadata": {},
   "source": [
    "## Drop by type"
   ]
  },
  {
   "cell_type": "code",
   "execution_count": 10,
   "metadata": {
    "scrolled": true
   },
   "outputs": [
    {
     "name": "stdout",
     "output_type": "stream",
     "text": [
      "drop function took 9.007 ms\n",
      "drop_by_dtypes function took 45.878 ms\n",
      "+-------------------+---+-------+-----+------+------+\n",
      "|              words|num|animals|thing|second|filter|\n",
      "+-------------------+---+-------+-----+------+------+\n",
      "|  I like     fish  |  1|dog dog|housé|     5|     a|\n",
      "|            zombies|  2|    cat|   tv|     6|     b|\n",
      "|               null|  3|  eagle|glass|     8|     c|\n",
      "+-------------------+---+-------+-----+------+------+\n",
      "\n"
     ]
    }
   ],
   "source": [
    "df.rows.drop_by_dtypes(\"filter\", \"integer\").show()"
   ]
  },
  {
   "cell_type": "code",
   "execution_count": 11,
   "metadata": {},
   "outputs": [
    {
     "name": "stdout",
     "output_type": "stream",
     "text": [
      "filter_by_dtypes function took 29.950 ms\n",
      "+-------------------+---+-------+-----+------+------+\n",
      "|              words|num|animals|thing|second|filter|\n",
      "+-------------------+---+-------+-----+------+------+\n",
      "|simpsons   cat lady|  2|   frog|table|     7|     1|\n",
      "+-------------------+---+-------+-----+------+------+\n",
      "\n"
     ]
    }
   ],
   "source": [
    "from optimus.functions import is_data_type as fbdt\n",
    "df.rows.filter_by_dtypes(\"filter\", \"integer\").show()"
   ]
  },
  {
   "cell_type": "code",
   "execution_count": 12,
   "metadata": {},
   "outputs": [
    {
     "name": "stdout",
     "output_type": "stream",
     "text": [
      "+-------------------+---+-------+-----+------+------+\n",
      "|              words|num|animals|thing|second|filter|\n",
      "+-------------------+---+-------+-----+------+------+\n",
      "|  I like     fish  |  1|dog dog|housé|     5|     a|\n",
      "+-------------------+---+-------+-----+------+------+\n",
      "\n"
     ]
    }
   ],
   "source": [
    "df.filter(df['num']==1).show()"
   ]
  },
  {
   "cell_type": "markdown",
   "metadata": {},
   "source": [
    "## Drop \n",
    "### Spark\n",
    "Drop not implemented"
   ]
  },
  {
   "cell_type": "code",
   "execution_count": 13,
   "metadata": {},
   "outputs": [
    {
     "name": "stdout",
     "output_type": "stream",
     "text": [
      "drop function took 4.987 ms\n",
      "+-----+---+-------+-----+------+------+\n",
      "|words|num|animals|thing|second|filter|\n",
      "+-----+---+-------+-----+------+------+\n",
      "| null|  3|  eagle|glass|     8|     c|\n",
      "+-----+---+-------+-----+------+------+\n",
      "\n"
     ]
    }
   ],
   "source": [
    "df.rows.drop((df[\"num\"]==2) | (df[\"second\"]==5)).show()"
   ]
  },
  {
   "cell_type": "code",
   "execution_count": 14,
   "metadata": {},
   "outputs": [
    {
     "name": "stdout",
     "output_type": "stream",
     "text": [
      "drop function took 4.025 ms\n",
      "drop_by_dtypes function took 36.906 ms\n",
      "+-------------------+---+-------+-----+------+------+\n",
      "|              words|num|animals|thing|second|filter|\n",
      "+-------------------+---+-------+-----+------+------+\n",
      "|  I like     fish  |  1|dog dog|housé|     5|     a|\n",
      "|            zombies|  2|    cat|   tv|     6|     b|\n",
      "|               null|  3|  eagle|glass|     8|     c|\n",
      "+-------------------+---+-------+-----+------+------+\n",
      "\n"
     ]
    }
   ],
   "source": [
    "df.rows.drop_by_dtypes(\"filter\", \"int\").show()"
   ]
  },
  {
   "cell_type": "code",
   "execution_count": 15,
   "metadata": {},
   "outputs": [
    {
     "data": {
      "text/plain": [
       "[('words', 'string'),\n",
       " ('num', 'int'),\n",
       " ('animals', 'string'),\n",
       " ('thing', 'string'),\n",
       " ('second', 'int'),\n",
       " ('filter', 'string')]"
      ]
     },
     "execution_count": 15,
     "metadata": {},
     "output_type": "execute_result"
    }
   ],
   "source": [
    "df.dtypes"
   ]
  },
  {
   "cell_type": "code",
   "execution_count": 16,
   "metadata": {},
   "outputs": [
    {
     "name": "stdout",
     "output_type": "stream",
     "text": [
      "Using 'Pandas UDF' to process column 'num'\n",
      "drop function took 5.984 ms\n",
      "+-------------------+---+-------+-----+------+------+\n",
      "|              words|num|animals|thing|second|filter|\n",
      "+-------------------+---+-------+-----+------+------+\n",
      "|  I like     fish  |  1|dog dog|housé|     5|     a|\n",
      "+-------------------+---+-------+-----+------+------+\n",
      "\n"
     ]
    }
   ],
   "source": [
    "from optimus.functions import abstract_udf as audf\n",
    "\n",
    "def func_data_type(value, attr):\n",
    "    return value >1\n",
    "\n",
    "\n",
    "df.rows.drop(audf(\"num\", func_data_type, \"boolean\")).show()"
   ]
  }
 ],
 "metadata": {
  "kernelspec": {
   "display_name": "Python 3",
   "language": "python",
   "name": "python3"
  },
  "language_info": {
   "codemirror_mode": {
    "name": "ipython",
    "version": 3
   },
   "file_extension": ".py",
   "mimetype": "text/x-python",
   "name": "python",
   "nbconvert_exporter": "python",
   "pygments_lexer": "ipython3",
   "version": "3.6.5"
  }
 },
 "nbformat": 4,
 "nbformat_minor": 2
}
