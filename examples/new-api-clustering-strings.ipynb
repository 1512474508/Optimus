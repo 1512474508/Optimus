{
 "cells": [
  {
   "cell_type": "code",
   "execution_count": 1,
   "metadata": {},
   "outputs": [],
   "source": [
    "%load_ext autoreload\n",
    "%autoreload 2"
   ]
  },
  {
   "cell_type": "code",
   "execution_count": 2,
   "metadata": {},
   "outputs": [],
   "source": [
    "import sys\n",
    "sys.path.append(\"..\")"
   ]
  },
  {
   "cell_type": "code",
   "execution_count": 3,
   "metadata": {},
   "outputs": [],
   "source": [
    "from optimus import Optimus"
   ]
  },
  {
   "cell_type": "code",
   "execution_count": 4,
   "metadata": {},
   "outputs": [
    {
     "name": "stderr",
     "output_type": "stream",
     "text": [
      "\n",
      "                             ____        __  _                     \n",
      "                            / __ \\____  / /_(_)___ ___  __  _______\n",
      "                           / / / / __ \\/ __/ / __ `__ \\/ / / / ___/\n",
      "                          / /_/ / /_/ / /_/ / / / / / / /_/ (__  ) \n",
      "                          \\____/ .___/\\__/_/_/ /_/ /_/\\__,_/____/  \n",
      "                              /_/                                  \n",
      "                              \n",
      "Transform and Roll out...\n",
      "Just checking that all necessary environments vars are present...\n",
      "-----\n",
      "PYSPARK_PYTHON=python\n",
      "SPARK_HOME=C:\\opt\\spark\\spark-2.3.1-bin-hadoop2.7\n",
      "JAVA_HOME=C:\\java8\n",
      "Pyarrow Installed\n",
      "-----\n",
      "Starting or getting SparkSession and SparkContext...\n",
      "Optimus successfully imported. Have fun :).\n"
     ]
    }
   ],
   "source": [
    "# Create optimus\n",
    "op = Optimus()"
   ]
  },
  {
   "cell_type": "code",
   "execution_count": 5,
   "metadata": {},
   "outputs": [],
   "source": [
    "df = op.read.csv(\"random.csv\",header=True, sep=\";\")"
   ]
  },
  {
   "cell_type": "code",
   "execution_count": 6,
   "metadata": {},
   "outputs": [
    {
     "name": "stderr",
     "output_type": "stream",
     "text": [
      "Using 'column_exp' to process column 'STATE_fingerprint' with function _trim\n",
      "Using 'column_exp' to process column 'STATE_fingerprint' with function _lower\n",
      "Using 'pandas_udf' to process column 'STATE_fingerprint' with function _remove_special_chars\n",
      "Using 'pandas_udf' to process column 'STATE_fingerprint' with function _remove_accents\n",
      "Using 'pandas_udf' to process column 'STATE_fingerprint' with function func\n"
     ]
    },
    {
     "data": {
      "text/plain": [
       "[{'STATE': 'Distrito Federal', 'count': 3, 'fingerprint': 'distritofederal'},\n",
       " {'STATE': 'México D.F.', 'count': 2, 'fingerprint': 'mexicodf'},\n",
       " {'STATE': 'Distriro Federal', 'count': 1, 'fingerprint': 'distrirofederal'},\n",
       " {'STATE': 'D.F.', 'count': 1, 'fingerprint': 'df'},\n",
       " {'STATE': 'Estado de México', 'count': 1, 'fingerprint': 'estadodemexico'}]"
      ]
     },
     "execution_count": 6,
     "metadata": {},
     "output_type": "execute_result"
    }
   ],
   "source": [
    "from optimus.ml.Keycollision import KeyCollision\n",
    "op.spark.conf.set(\"spark.sql.shuffle.partitions\", \"4\")\n",
    "op.spark.conf.set(\"spark.sql.autoBroadcastJoinThreshold\", 1 * 1024 * 1024 * 1024)\n",
    "\n",
    "keyCol = KeyCollision(df)\n",
    "keyCol.fingerprint('STATE')"
   ]
  },
  {
   "cell_type": "code",
   "execution_count": 7,
   "metadata": {},
   "outputs": [
    {
     "name": "stderr",
     "output_type": "stream",
     "text": [
      "Using 'column_exp' to process column 'STATE_ngram' with function _lower\n",
      "Using 'column_exp' to process column 'STATE_ngram' with function _remove_white_spaces\n",
      "Using 'pandas_udf' to process column 'STATE_ngram' with function _remove_special_chars\n",
      "Using 'pandas_udf' to process column 'STATE_ngram' with function _remove_accents\n",
      "Using 'column_exp' to process column 'STATE_ngram' with function _split\n",
      "Using 'pandas_udf' to process column 'STATE_ngram_fingerprint' with function func\n"
     ]
    },
    {
     "data": {
      "text/plain": [
       "[{'STATE': 'Distrito Federal',\n",
       "  'count': 3,\n",
       "  'fingerprint': 'aldediederfeisitlofraristtotr'},\n",
       " {'STATE': 'México D.F.', 'count': 2, 'fingerprint': 'codfexficmeodxi'},\n",
       " {'STATE': 'D.F.', 'count': 1, 'fingerprint': 'dff'},\n",
       " {'STATE': 'Estado de México',\n",
       "  'count': 1,\n",
       "  'fingerprint': 'adcodedoemesexicmeoodsttaxi'},\n",
       " {'STATE': 'Distriro Federal',\n",
       "  'count': 1,\n",
       "  'fingerprint': 'aldediederfeirislofrarirosttr'}]"
      ]
     },
     "execution_count": 7,
     "metadata": {},
     "output_type": "execute_result"
    }
   ],
   "source": [
    "keyCol.n_gram_fingerprint('STATE', 2)"
   ]
  },
  {
   "cell_type": "code",
   "execution_count": null,
   "metadata": {},
   "outputs": [],
   "source": []
  }
 ],
 "metadata": {
  "kernelspec": {
   "display_name": "Python 3",
   "language": "python",
   "name": "python3"
  },
  "language_info": {
   "codemirror_mode": {
    "name": "ipython",
    "version": 3
   },
   "file_extension": ".py",
   "mimetype": "text/x-python",
   "name": "python",
   "nbconvert_exporter": "python",
   "pygments_lexer": "ipython3",
   "version": "3.6.4"
  }
 },
 "nbformat": 4,
 "nbformat_minor": 1
}
