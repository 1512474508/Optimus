{
 "cells": [
  {
   "cell_type": "markdown",
   "metadata": {},
   "source": [
    "# Optimus Example"
   ]
  },
  {
   "cell_type": "markdown",
   "metadata": {},
   "source": [
    "This Notebook is a simple tutorial about DataFrameTransformer, DataFrameAnalyzer and Utilities modules.\n",
    "\n",
    "- DataFrameTransformer is a dedicated module to easily make dataframe transformations. \n",
    "\n",
    "- DataFrameProfiler is a dedicated module to run a basic profile of the dataframe.\n",
    "\n",
    "- DataFrameAnalyzer is a dedicated module to plot and see important features of a spark\n",
    " Dataframe.\n",
    "\n",
    "- Utilities module contains tool classes that support use of DataFrameTransformer and DataFrameAnalyzer modules. "
   ]
  },
  {
   "cell_type": "markdown",
   "metadata": {},
   "source": [
    "### Importing Modules"
   ]
  },
  {
   "cell_type": "code",
   "execution_count": 1,
   "metadata": {
    "scrolled": true
   },
   "outputs": [
    {
     "data": {
      "text/html": [
       "<div>Starting or getting SparkSession and SparkContext.</div>"
      ],
      "text/plain": [
       "<IPython.core.display.HTML object>"
      ]
     },
     "metadata": {},
     "output_type": "display_data"
    },
    {
     "data": {
      "text/html": [
       "<div>Setting checkpoint folder (local). If you are in a cluster change it with set_check_point_folder(path,'hadoop').</div>"
      ],
      "text/plain": [
       "<IPython.core.display.HTML object>"
      ]
     },
     "metadata": {},
     "output_type": "display_data"
    },
    {
     "name": "stdout",
     "output_type": "stream",
     "text": [
      "Deleting previous folder if exists...\n",
      "Creation of checkpoint directory...\n",
      "Done.\n"
     ]
    },
    {
     "data": {
      "text/html": [
       "\n",
       "        <div style=\"margin:10px\">\n",
       "            <a href=\"https://github.com/ironmussa/Optimus\" target=\"_new\">\n",
       "                <img src=\"https://github.com/ironmussa/Optimus/raw/master/images/robotOptimus.png\" style=\"float:left;margin-right:10px;vertical-align:top;text-align:center\" height=\"50\" width=\"50\"/>\n",
       "            </a>\n",
       "            <span><b><h2>Optimus successfully imported. Have fun :).</h2></b></span>\n",
       "        </div>\n",
       "        "
      ],
      "text/plain": [
       "<IPython.core.display.HTML object>"
      ]
     },
     "metadata": {},
     "output_type": "display_data"
    }
   ],
   "source": [
    "# Import optimus\n",
    "import optimus as op"
   ]
  },
  {
   "cell_type": "markdown",
   "metadata": {},
   "source": [
    "### Instantiation of Utility class\n",
    "The utility class is a tool class that includes functions to read csv files, setting checkpoint issues (to save or temporally save dataFrames)."
   ]
  },
  {
   "cell_type": "code",
   "execution_count": 2,
   "metadata": {
    "collapsed": true
   },
   "outputs": [],
   "source": [
    "# Instance of Utilities class\n",
    "tools = op.Utilities()"
   ]
  },
  {
   "cell_type": "markdown",
   "metadata": {},
   "source": [
    "### Reading DataFrame"
   ]
  },
  {
   "cell_type": "code",
   "execution_count": 3,
   "metadata": {
    "collapsed": true
   },
   "outputs": [],
   "source": [
    "# Reading dataframe in this case, local file \n",
    "# system (hard drive of the pc) is used.\n",
    "\n",
    "df = tools.read_csv(path=\"foo.csv\", sep=',')"
   ]
  },
  {
   "cell_type": "markdown",
   "metadata": {},
   "source": [
    "### General view of DataFrame"
   ]
  },
  {
   "cell_type": "markdown",
   "metadata": {},
   "source": [
    "Initially it is a good idea to see a general view of the DataFrame to be analyzed. \n",
    "\n",
    "In the following cell, a basic profile of the DataFrame is shown. This overview presents basic information about the DataFrame, like number of variable it has, how many are missing values and in which column, the types of each varaible, also some statistical information that describes the variable plus a frecuency plot. table that specifies the existing datatypes in each column dataFrame and other features. Also, for this particular case, the table of dataType is shown in order to visualize a sample of column content. "
   ]
  },
  {
   "cell_type": "code",
   "execution_count": 4,
   "metadata": {
    "scrolled": false
   },
   "outputs": [
    {
     "data": {
      "text/html": [
       "<meta charset=\"UTF-8\">\n",
       "\n",
       "<style>\n",
       "        .variablerow {\n",
       "            border: 1px solid #e1e1e8;\n",
       "            border-top: hidden;\n",
       "            padding-top: 2em;\n",
       "            padding-bottom: 1em;\n",
       "            padding-left: 1em;\n",
       "            padding-right: 1em;\n",
       "        }\n",
       "        .headerrow {\n",
       "            border: 1px solid #e1e1e8;\n",
       "            background-color: #f5f5f5;\n",
       "            padding: 2em;\n",
       "        }\n",
       "        .namecol {\n",
       "            margin-top: -1em;\n",
       "        }\n",
       "        .dl-horizontal dt {\n",
       "            text-align: left;\n",
       "            padding-right: 1em;\n",
       "            white-space: normal;\n",
       "        }\n",
       "        .dl-horizontal dd {\n",
       "            margin-left: 0;\n",
       "        }\n",
       "        .ignore {\n",
       "            opacity: 0.4;\n",
       "        }\n",
       "        .container.pandas-profiling {\n",
       "            max-width:975px;\n",
       "        }\n",
       "        .col-md-12 {\n",
       "            padding-left: 2em;\n",
       "        }\n",
       "        .indent {\n",
       "            margin-left: 1em;\n",
       "        }\n",
       "        /* Table example_values */\n",
       "            table.example_values {\n",
       "                border: 0;\n",
       "            }\n",
       "            .example_values th {\n",
       "                border: 0;\n",
       "                padding: 0 ;\n",
       "                color: #555;\n",
       "                font-weight: 600;\n",
       "            }\n",
       "            .example_values tr, .example_values td{\n",
       "                border: 0;\n",
       "                padding: 0;\n",
       "                color: #555;\n",
       "            }\n",
       "        /* STATS */\n",
       "            table.stats {\n",
       "                border: 0;\n",
       "            }\n",
       "            .stats th {\n",
       "                border: 0;\n",
       "                padding: 0 2em 0 0;\n",
       "                color: #555;\n",
       "                font-weight: 600;\n",
       "            }\n",
       "            .stats tr {\n",
       "                border: 0;\n",
       "            }\n",
       "            .stats tr:hover{\n",
       "                text-decoration: underline;\n",
       "            }\n",
       "            .stats td{\n",
       "                color: #555;\n",
       "                padding: 1px;\n",
       "                border: 0;\n",
       "            }\n",
       "        /* Sample table */\n",
       "            table.sample {\n",
       "                border: 0;\n",
       "                margin-bottom: 2em;\n",
       "                margin-left:1em;\n",
       "            }\n",
       "            .sample tr {\n",
       "                border:0;\n",
       "            }\n",
       "            .sample td, .sample th{\n",
       "                padding: 0.5em;\n",
       "                white-space: nowrap;\n",
       "                border: none;\n",
       "            }\n",
       "            .sample thead {\n",
       "                border-top: 0;\n",
       "                border-bottom: 2px solid #ddd;\n",
       "            }\n",
       "            .sample td {\n",
       "                width:100%;\n",
       "            }\n",
       "        /* There is no good solution available to make the divs equal height and then center ... */\n",
       "            .histogram {\n",
       "                margin-top: 3em;\n",
       "            }\n",
       "        /* Freq table */\n",
       "            table.freq {\n",
       "                margin-bottom: 2em;\n",
       "                border: 0;\n",
       "            }\n",
       "            table.freq th, table.freq tr, table.freq td {\n",
       "                border: 0;\n",
       "                padding: 0;\n",
       "            }\n",
       "            .freq thead {\n",
       "                font-weight: 600;\n",
       "                white-space: nowrap;\n",
       "                overflow: hidden;\n",
       "                text-overflow: ellipsis;\n",
       "            }\n",
       "            td.fillremaining{\n",
       "                width:auto;\n",
       "                max-width: none;\n",
       "            }\n",
       "            td.number, th.number {\n",
       "                text-align:right ;\n",
       "            }\n",
       "        /* Freq mini */\n",
       "            .freq.mini td{\n",
       "                width: 50%;\n",
       "                padding: 1px;\n",
       "                font-size: 12px;\n",
       "            }\n",
       "            table.freq.mini {\n",
       "                 width:100%;\n",
       "            }\n",
       "            .freq.mini th {\n",
       "                overflow: hidden;\n",
       "                text-overflow: ellipsis;\n",
       "                white-space: nowrap;\n",
       "                max-width: 5em;\n",
       "                font-weight: 400;\n",
       "                text-align:right;\n",
       "                padding-right: 0.5em;\n",
       "            }\n",
       "            .missing {\n",
       "                color: #a94442;\n",
       "            }\n",
       "            .alert, .alert > th, .alert > td {\n",
       "                color: #a94442;\n",
       "            }\n",
       "        /* Bars in tables */\n",
       "            .freq .bar{\n",
       "                float: left;\n",
       "                width: 0;\n",
       "                height: 100%;\n",
       "                line-height: 20px;\n",
       "                color: #fff;\n",
       "                text-align: center;\n",
       "                background-color: #337ab7;\n",
       "                border-radius: 3px;\n",
       "                margin-right: 4px;\n",
       "            }\n",
       "            .other .bar {\n",
       "                background-color: #999;\n",
       "            }\n",
       "            .missing .bar{\n",
       "                background-color: #a94442;\n",
       "            }\n",
       "            .tooltip-inner {\n",
       "                width: 100%;\n",
       "                white-space: nowrap;\n",
       "                text-align:left;\n",
       "            }\n",
       "            .extrapadding{\n",
       "                padding: 2em;\n",
       "            }\n",
       "</style>\n",
       "\n",
       "<div class=\"container pandas-profiling\">\n",
       "    <div class=\"row headerrow highlight\">\n",
       "        <h1>Overview</h1>\n",
       "    </div>\n",
       "    <div class=\"row variablerow\">\n",
       "    <div class=\"col-md-6 namecol\">\n",
       "        <p class=\"h4\">Dataset info</p>\n",
       "        <table class=\"stats\" style=\"margin-left: 1em;\">\n",
       "            <tbody>\n",
       "            <tr>\n",
       "                <th>Number of variables</th>\n",
       "                <td>8 </td>\n",
       "            </tr>\n",
       "            <tr>\n",
       "                <th>Number of observations</th>\n",
       "                <td>19 </td>\n",
       "            </tr>\n",
       "            <tr>\n",
       "                <th>Total Missing (%)</th>\n",
       "                <td>0.0% </td>\n",
       "            </tr>\n",
       "            <tr>\n",
       "                <th>Total size in memory</th>\n",
       "                <td>0.0 B </td>\n",
       "            </tr>\n",
       "            <tr>\n",
       "                <th>Average record size in memory</th>\n",
       "                <td>0.0 B </td>\n",
       "            </tr>\n",
       "            </tbody>\n",
       "        </table>\n",
       "    </div>\n",
       "    <div class=\"col-md-6 namecol\">\n",
       "        <p class=\"h4\">Variables types</p>\n",
       "        <table class=\"stats\" style=\"margin-left: 1em;\">\n",
       "            <tbody>\n",
       "            <tr>\n",
       "                <th>Numeric</th>\n",
       "                <td>3 </td>\n",
       "            </tr>\n",
       "            <tr>\n",
       "                <th>Categorical</th>\n",
       "                <td>2 </td>\n",
       "            </tr>\n",
       "            <tr>\n",
       "                <th>Date</th>\n",
       "                <td>0 </td>\n",
       "            </tr>\n",
       "            <tr>\n",
       "                <th>Text (Unique)</th>\n",
       "                <td>3 </td>\n",
       "            </tr>\n",
       "            <tr>\n",
       "                <th>Rejected</th>\n",
       "                <td>0 </td>\n",
       "            </tr>\n",
       "            </tbody>\n",
       "        </table>\n",
       "    </div>\n",
       "    <div class=\"col-md-12\" style=\"padding-left: 1em;\">\n",
       "        <p class=\"h4\">Warnings</p>\n",
       "        <ul class=\"list-unstyled\"> </ul>\n",
       "    </div>\n",
       "</div>\n",
       "    <div class=\"row headerrow highlight\">\n",
       "        <h1>Variables</h1>\n",
       "    </div>\n",
       "    <div class=\"row variablerow\">\n",
       "    <div class=\"col-md-3 namecol\">\n",
       "        <p class=\"h4\">billingId<br/>\n",
       "            <small>Numeric</small>\n",
       "        </p>\n",
       "    </div> <div class=\"col-md-6\">\n",
       "    <div class=\"row\">\n",
       "        <div class=\"col-sm-6\">\n",
       "            <table class=\"stats \">\n",
       "                <tr>\n",
       "                    <th>Distinct count</th>\n",
       "                    <td>19</td>\n",
       "                </tr>\n",
       "                <tr>\n",
       "                    <th>Unique (%)</th>\n",
       "                    <td>100.0%</td>\n",
       "                </tr>\n",
       "                <tr class=\"ignore\">\n",
       "                    <th>Missing (%)</th>\n",
       "                    <td>0.0%</td>\n",
       "                </tr>\n",
       "                <tr class=\"ignore\">\n",
       "                    <th>Missing (n)</th>\n",
       "                    <td>0</td>\n",
       "                </tr>\n",
       "                <tr class=\"ignore\">\n",
       "                    <th>Infinite (%)</th>\n",
       "                    <td>0.0%</td>\n",
       "                </tr>\n",
       "                <tr class=\"ignore\">\n",
       "                    <th>Infinite (n)</th>\n",
       "                    <td>0</td>\n",
       "                </tr>\n",
       "            </table>\n",
       "\n",
       "        </div>\n",
       "        <div class=\"col-sm-6\">\n",
       "            <table class=\"stats \">\n",
       "\n",
       "                <tr>\n",
       "                    <th>Mean</th>\n",
       "                    <td>556</td>\n",
       "                </tr>\n",
       "                <tr>\n",
       "                    <th>Minimum</th>\n",
       "                    <td>111</td>\n",
       "                </tr>\n",
       "                <tr>\n",
       "                    <th>Maximum</th>\n",
       "                    <td>992</td>\n",
       "                </tr>\n",
       "                <tr class=\"ignore\">\n",
       "                    <th>Zeros (%)</th>\n",
       "                    <td>0.0%</td>\n",
       "                </tr>\n",
       "            </table>\n",
       "        </div>\n",
       "    </div>\n",
       "</div>\n",
       "<div class=\"col-md-3 collapse in\" id=\"minihistogram7567338950382516910\">\n",
       "    <img src=\"data:image/png;base64,iVBORw0KGgoAAAANSUhEUgAAAMgAAABLCAYAAAA1fMjoAAAABHNCSVQICAgIfAhkiAAAAAlwSFlzAAAPYQAAD2EBqD%2BnaQAAADl0RVh0U29mdHdhcmUAbWF0cGxvdGxpYiB2ZXJzaW9uIDIuMS4wLCBodHRwOi8vbWF0cGxvdGxpYi5vcmcvpW3flQAAAR1JREFUeJzt28EJAjEQQFEVS7IIe/JsTxZhT/Eu8sGVdYO%2Bdw9MDp%2B5JPsxxtgBLx22HgBmdtx6gGeny%2B3tM/freYVJPrfkLkvMev9fYINAEAgEgUAQCASBQBAIBIFAEAgEgUAQCASBQBAIBIFAEAgEgUCY7j8I6/vWP5UlZvvbYoNAEAgEgUAQCASBQBAIBIFAEAgEgUAQCASBQBAIBIFAEAiEn3juPvPz7W/49/uvyQaBIBAIAoEgEAgCgSAQCAKBIBAIAoEgEAgCgSAQCAKBIBAIAoGwH2OMrYeAWdkgEAQCQSAQBAJBIBAEAkEgEAQCQSAQBAJBIBAEAkEgEAQCQSAQBAJBIBAEAkEgEAQCQSAQBAJBIBAEAkEgEB5MlBRhvzVi7wAAAABJRU5ErkJggg%3D%3D\">\n",
       "\n",
       "</div>\n",
       "<div class=\"col-md-12 text-right\">\n",
       "    <a role=\"button\" data-toggle=\"collapse\" data-target=\"#descriptives7567338950382516910,#minihistogram7567338950382516910\"\n",
       "       aria-expanded=\"false\" aria-controls=\"collapseExample\">\n",
       "        Toggle details\n",
       "    </a>\n",
       "</div>\n",
       "<div class=\"row collapse col-md-12\" id=\"descriptives7567338950382516910\">\n",
       "    <div class=\"col-sm-4\">\n",
       "        <p class=\"h4\">Quantile statistics</p>\n",
       "        <table class=\"stats indent\">\n",
       "            <tr>\n",
       "                <th>Minimum</th>\n",
       "                <td>111</td>\n",
       "            </tr>\n",
       "            <tr>\n",
       "                <th>5-th percentile</th>\n",
       "                <td>115.5</td>\n",
       "            </tr>\n",
       "            <tr>\n",
       "                <th>Q1</th>\n",
       "                <td>373</td>\n",
       "            </tr>\n",
       "            <tr>\n",
       "                <th>Median</th>\n",
       "                <td>553</td>\n",
       "            </tr>\n",
       "            <tr>\n",
       "                <th>Q3</th>\n",
       "                <td>773.5</td>\n",
       "            </tr>\n",
       "            <tr>\n",
       "                <th>95-th percentile</th>\n",
       "                <td>920</td>\n",
       "            </tr>\n",
       "            <tr>\n",
       "                <th>Maximum</th>\n",
       "                <td>992</td>\n",
       "            </tr>\n",
       "            <tr>\n",
       "                <th>Range</th>\n",
       "                <td>881</td>\n",
       "            </tr>\n",
       "            <tr>\n",
       "                <th>Interquartile range</th>\n",
       "                <td>400.5</td>\n",
       "            </tr>\n",
       "        </table>\n",
       "        <p class=\"h4\">Descriptive statistics</p>\n",
       "        <table class=\"stats indent\">\n",
       "            <tr>\n",
       "                <th>Standard deviation</th>\n",
       "                <td>280.2</td>\n",
       "            </tr>\n",
       "            <tr>\n",
       "                <th>Coef of variation</th>\n",
       "                <td>0.50395</td>\n",
       "            </tr>\n",
       "            <tr>\n",
       "                <th>Kurtosis</th>\n",
       "                <td>-1.0412</td>\n",
       "            </tr>\n",
       "            <tr>\n",
       "                <th>Mean</th>\n",
       "                <td>556</td>\n",
       "            </tr>\n",
       "            <tr>\n",
       "                <th>MAD</th>\n",
       "                <td>225.05</td>\n",
       "            </tr>\n",
       "            <tr class=\"\">\n",
       "                <th>Skewness</th>\n",
       "                <td>-0.2137</td>\n",
       "            </tr>\n",
       "            <tr>\n",
       "                <th>Sum</th>\n",
       "                <td>10564</td>\n",
       "            </tr>\n",
       "            <tr>\n",
       "                <th>Variance</th>\n",
       "                <td>78511</td>\n",
       "            </tr>\n",
       "            <tr>\n",
       "                <th>Memory size</th>\n",
       "                <td>0.0 B</td>\n",
       "            </tr>\n",
       "        </table>\n",
       "    </div>\n",
       "    <div class=\"col-sm-8 histogram\">\n",
       "        <img src=\"data:image/png;base64,iVBORw0KGgoAAAANSUhEUgAAAlgAAAGQCAYAAAByNR6YAAAABHNCSVQICAgIfAhkiAAAAAlwSFlzAAAPYQAAD2EBqD%2BnaQAAADl0RVh0U29mdHdhcmUAbWF0cGxvdGxpYiB2ZXJzaW9uIDIuMS4wLCBodHRwOi8vbWF0cGxvdGxpYi5vcmcvpW3flQAAIABJREFUeJzt3X9U1XWex/EXcEGuKBumNNscz2ICOqa73BF0TLAZRmo0IcbRZWvG1LLmLIjKyR%2BZs01WTjr9WFOy446OM5OejcYTk2NYzc4y2KyOaJGjFCaWYcsEJD8UkBD47h%2Bzst29/sD8wPd7uc/HORzjc7/e7/vy8cqz%2BwODLMuyBAAAAGOC7R4AAACgvyGwAAAADCOwAAAADCOwAAAADCOwAAAADCOwAAAADCOwAAAADCOwAAAADCOwAAAADCOwAAAADCOwAAAADCOwAAAADCOwAAAADCOwAAAADCOwAAAADCOwAAAADCOwAAAADCOwAAAADCOwAAAADCOwAAAADCOwAAAADCOwAAAADCOwAAAADCOwAAAADCOwAAAADCOwAAAADCOwAAAADCOwAAAADCOwAAAADCOwAAAADCOwAAAADCOwAAAADCOwAAAADCOwAAAADCOwAAAADCOwAAAADCOwAAAADCOwAAAADCOwAAAADHPZPUCgqKs7a/cI/VZwcJCGDIlQfX2Lurosu8cJaOyFc7AXzsFe2GvYsMG2nJdHsOD3goODFBQUpODgILtHCXjshXOwF87BXgQmAgsAAMAwAgsAAMAwAgsAAMAwAgsAAMAwAgsAAMAwAgsAAMAwAgsAAMAwAgsAAMAwAgsAAMCwgAms/fv3a/bs2fr617%2BuyZMn6/HHH1dbW9tFjy0pKVF6eroSEhI0bdo0FRcX9/G0AADAnwVEYNXX1%2BuHP/yh7rrrLh06dEiFhYUqLS3Vv/3bv/kce/LkSeXm5mrx4sU6dOiQcnNztWTJEtXU1NgwOQAA8EcBEVhDhgzRvn37NHPmTAUFBamxsVGff/65hgwZ4nNsYWGhEhMTNXXqVLlcLk2fPl1JSUkqKCiwYXIAAOCPXHYP0FcGDRokSbr11ltVU1OjxMREzZw50%2Be4yspKxcfHe63FxsaqoqKix%2Beqra1VXV2d15rLNVDR0dFfYnJcSUhIsNevsA974RzshXOwF4EpYALrgjfffFNNTU1aunSpFi1apC1btnhd3tLSIrfb7bUWHh6u1tbWHp%2BjoKBA%2Bfn5Xms5OTlatGjRlx/8EhJXvW78OnvLoTXf6dXrj4x0X/kg9Ikr7YU//bn1R1%2B8r3G/cA72IrAEXGCFh4crPDxcy5Yt0%2BzZs9XU1KS/%2BZu/6b7c7Xb7vPi9ra1NERERPT5HVlaWUlNTvdZcroFqaGi5tuH9XG/d/pCQYEVGunXmzDl1dnb1yjnQM%2ByFMzQ0tLAXDsJe2Csqquffv00KiMB655139PDDD2vXrl0KCwuTJLW3tys0NNTn0ar4%2BHiVl5d7rVVWVmrs2LE9Pl90dLTP04F1dWfV0RHYd6zevv2dnV0B/zV2CvbCXl/82rMXzsFeBJaAeEJ41KhRamtr0zPPPKP29nb993//t9atW6dZs2Z1B9cFGRkZKi0tVVFRkTo6OlRUVKTS0lLdeeedNk0PAAD8TUAEVkREhLZs2aLjx49r8uTJmjNnjm655RY9/PDDkiSPx6Ndu3ZJkkaOHKnnn39emzdvVlJSkjZt2qSNGzdqxIgRdt4EAADgRwLiKULpr%2B8E/PnPf37Ry8rKyrw%2BT0lJUUpKSl%2BMBQAA%2BqGAeAQLAACgLxFYAAAAhhFYAAAAhhFYAAAAhhFYAAAAhhFYAAAAhhFYAAAAhhFYAAAAhhFYAAAAhhFYAAAAhhFYAAAAhhFYAAAAhhFYAAAAhhFYAAAAhhFYAAAAhhFYAAAAhhFYAAAAhhFYAAAAhhFYAAAAhhFYAAAAhhFYAAAAhhFYAAAAhhFYAAAAhhFYAAAAhhFYAAAAhhFYAAAAhhFYAAAAhhFYAAAAhhFYAAAAhhFYAAAAhhFYAAAAhhFYAAAAhhFYAAAAhhFYAAAAhhFYAAAAhhFYAAAAhhFYAAAAhhFYAAAAhhFYAAAAhhFYAAAAhhFYAAAAhrnsHqCvVFRUaN26dSovL1doaKgmT56shx56SEOGDPE5dsGCBTpw4IBcrv/78jz33HOaMmVKX44MAAD8VEA8gtXW1qYFCxbI4/Hoj3/8o3bv3q3GxkY9/PDDFz3%2B6NGj2rp1q8rKyro/iCsAANBTARFY1dXVGj16tHJychQWFqaoqChlZWXp4MGDPseeOnVKTU1NGjNmjA2TAgCA/iAgniK86aabtGXLFq%2B1N954QzfffLPPsUeOHFFERITy8vJ05MgRDR06VPPmzdOsWbN6fL7a2lrV1dV5rblcAxUdHf3lbkA/4XL1Ts%2BHhAR7/Qr7sBfO4HIFsxcOwl4EpoAIrC%2ByLEvr169XcXGxtm/f7nN5e3u7EhISlJeXp7i4OB04cEC5ubmKiIjQtGnTenSOgoIC5efne63l5ORo0aJFRm6Dv4qKiujV64%2BMdPfq9aPn2At7ffG%2Bxl44B3sRWAIqsJqbm7Vy5UqVl5dr%2B/btGjVqlM8xmZmZyszM7P48OTlZmZmZ2rNnT48DKysrS6mpqV5rLtdANTS0XNsN8HO9dftDQoIVGenWmTPn1NnZ1SvnQM%2BwF87Q0NDCXjgIe2Gv3v6f%2B0sJmMCqqqrS/fffrxtvvFE7d%2B686LsHJWnnzp0%2Bj1a1t7drwIABPT5XdHS0z9OBdXVn1dER2Hes3r79nZ1dAf81dgr2wl5f/NqzF87BXgSWgHhCuKmpSXPnztXXv/51bd269ZJxJf31Ua7HH39c7733nrq6uvSHP/xBu3fvVlZWVh9ODAAA/FlAPIL1yiuvqLq6Wnv27NHrr7/udVlZWZk8Ho9Wr16tjIwMzZ07V62trVq4cKFOnz6t4cOHa926dUpMTLRpegAA4G8CIrDmz5%2Bv%2BfPnX/LysrKy7v8OCgpSdna2srOz%2B2I0AADQDwXEU4QAAAB9icACAAAwjMACAAAwjMACAAAwjMACAAAwjMACAAAwjMACAAAwjMACAAAwjMACAAAwjMACAAAwjMACAAAwjMACAAAwjMACAAAwjMACAAAwjMACAAAwjMACAAAwjMACAAAwjMACAAAwjMACAAAwjMACAAAwjMACAAAwjMACAAAwjMACAAAwjMACAAAwjMACAAAwjMACAAAwjMACAAAwjMACAAAwjMACAAAwjMACAAAwjMACAAAwjMACAAAwjMACAAAwjMACAAAwjMACAAAwjMACAAAwjMACAAAwjMACAAAwjMACAAAwjMACAAAwLCACq6KiQvPnz9eECRM0efJkLV%2B%2BXPX19Rc9tqSkROnp6UpISNC0adNUXFzcx9MCAAB/1%2B8Dq62tTQsWLJDH49Ef//hH7d69W42NjXr44Yd9jj158qRyc3O1ePFiHTp0SLm5uVqyZIlqampsmBwAAPirfh9Y1dXVGj16tHJychQWFqaoqChlZWXp4MGDPscWFhYqMTFRU6dOlcvl0vTp05WUlKSCggIbJgcAAP7KZfcAve2mm27Sli1bvNbeeOMN3XzzzT7HVlZWKj4%2B3mstNjZWFRUVvTojAADoX/p9YH2RZVlav369iouLtX37dp/LW1pa5Ha7vdbCw8PV2tp6Veepra1VXV2d15rLNVDR0dFXP3Q/4nL1zgOmISHBXr/CPuyFM7hcweyFg7AXgSlgAqu5uVkrV65UeXm5tm/frlGjRvkc43a71dbW5rXW1tamiIiIqzpXQUGB8vPzvdZycnK0aNGiqx%2B8H4mKurqv49WKjHRf%2BSD0CfbCXl%2B8rzl9LxJXvW73CHCIQ2u%2BY/cIRgVEYFVVVen%2B%2B%2B/XjTfeqJ07d2rIkCEXPS4%2BPl7l5eVea5WVlRo7duxVnS8rK0upqaleay7XQDU0tFzd4P1Mb93%2BkJBgRUa6debMOXV2dvXKOdAz7IUzNDS0sBfwO731PaK3/%2Bf%2BUvp9YDU1NWnu3Ln6xje%2BoTVr1ig4%2BNIP0WZkZGjbtm0qKirSbbfdpjfffFOlpaVatWrVVZ0zOjra5%2BnAurqz6ugI7L/kevv2d3Z2BfzX2CnYC3t98WvPXsBf9Lc/p/3%2BCeFXXnlF1dXV2rNnj8aPHy%2BPx9P9IUkej0e7du2SJI0cOVLPP/%2B8Nm/erKSkJG3atEkbN27UiBEj7LwJAADAz/T7R7Dmz5%2Bv%2BfPnX/LysrIyr89TUlKUkpLS22MBAIB%2BrN8/ggUAANDXCCwAAADDCCwAAADDCCwAAADDHB9YnZ2ddo8AAABwVRwfWFOmTNFPf/pTVVZW2j0KAABAjzg%2BsBYuXKh33nlHM2bM0OzZs/XSSy/p7Nmzdo8FAABwSY4PrLvuuksvvfSSXn/9dd1yyy362c9%2BpuTkZD344IPat2%2Bf3eMBAAD4cHxgXRATE6O8vDy9/vrrysnJ0e9//3vdd999Sk1N1bZt23itFgAAcAy/%2BUnuhw8f1m9%2B8xsVFRWpvb1daWlpmjlzpmpqavTcc8/pyJEjevbZZ%2B0eEwAAwPmBtWnTJr366qv6%2BOOPNW7cOOXl5WnGjBkaNGhQ9zEhISF65JFHbJwSAADg/zg%2BsLZv366MjAzNmjVLsbGxFz1m5MiRWrp0aR9PBgAAcHGOD6y9e/equblZjY2N3WtFRUWaNGmSoqKiJEljxozRmDFj7BoRAADAi%2BNf5P7ee%2B/p9ttvV0FBQffaU089pfT0dH3wwQc2TgYAAHBxjg%2Bsn/70p7rtttuUl5fXvfYf//EfmjJlitauXWvjZAAAABfn%2BMAqLy/XAw88oLCwsO61kJAQPfDAA3r33XdtnAwAAODiHB9YgwYNUlVVlc/6p59%2BqvDwcBsmAgAAuDzHB9btt9%2BuRx99VPv27VNzc7NaWlr0pz/9SY899pjS0tLsHg8AAMCH499F%2BOCDD%2BrUqVO69957FRQU1L2elpam5cuX2zgZAADAxTk%2BsNxutzZv3qyPPvpIx44dU2hoqEaOHKmYmBi7RwMAALgoxwfWBSNGjNCIESPsHgMAAOCKHB9YH330kR577DG9/fbbOn/%2BvM/l77//vg1TAQAAXJrjA%2BvRRx9VdXW1li5dqsGDB9s9DgAAwBU5PrDKysr0y1/%2BUh6Px%2B5RAAAAesTxP6YhKipKERERdo8BAADQY44PrDlz5ujZZ5/V2bNn7R4FAACgRxz/FGFJSYneffddTZw4Uddff73XP5kjSb///e9tmgwAAODiHB9YEydO1MSJE%2B0eAwAAoMccH1gLFy60ewQAAICr4vjXYElSRUWFVq5cqX/6p39STU2NduzYoQMHDtg9FgAAwEU5PrCOHj2q2bNn65NPPtHRo0fV3t6u999/X/fee6%2BKi4vtHg8AAMCH4wPr6aef1r333qsXX3xRoaGhkqQnnnhC99xzj/Lz822eDgAAwJfjA%2Bvo0aPKzMz0Wb/rrrv04Ycf2jARAADA5Tk%2BsEJDQ9Xc3OyzXl1dLbfbbcNEAAAAl%2Bf4wJo6daqeeeYZNTQ0dK%2BdOHFCa9as0Te/%2BU37BgMAALgExwfWihUr1NbWpltuuUXnzp3TzJkzNWPGDLlcLi1fvtzu8QAAAHw4/udgDRo0SC%2B99JL279%2Bv9957T11dXYqPj1dKSoqCgx3fhwAAIAA5PrAumDRpkiZNmmT3GAAAAFfk%2BMBKTU1VUFDQJS/n3yIEAABO4/jA%2Bu53v%2BsVWOfPn9fHH3%2BsvXv3asmSJTZOBgAAcHGOD6zc3NyLrm/fvl1vv/227rnnnj6eCAAA4PL89lXi3/rWt1RSUnLVv6%2B%2Bvl5paWmX/bcMFyxYoHHjxsnj8XR/7N2791rGBQAAAcTxj2BdSmlpqQYMGHBVv%2Bftt9/WQw89pKqqqssed/ToUW3dulUTJky4lhEBAECAcnxg/f%2BnAC3LUnNzs44dO3ZVTw8WFhZqw4YNWrZsmfLy8i553KlTp9TU1KQxY8Z86ZkBAEBgc3xg3XjjjT7vIgwNDdXcuXOVnp7e4%2BtJTk5Wenq6XC7XZQPryJEjioiIUF5eno4cOaKhQ4dq3rx5mjVr1pe%2BDQAAILA4PrDWrl1r5HqGDRvWo%2BPa29uVkJCgvLw8xcXF6cCBA8rNzVVERISmTZvWo%2Buora1VXV2d15rLNVDR0dFXPXd/4nL1zkv%2BQkKCvX6FfdgLZ3C5gtkL%2BJ3e%2Bh5hF8cH1sGDB3t8bFJS0jWfLzMzU5mZmd2fJycnKzMzU3v27OlxYBUUFCg/P99rLScnR4sWLbrm%2BfxZVFREr15/ZCT/%2BLdTsBf2%2BuJ9jb2Av%2Bjt7xF9zfGBNW/ePFmW1f1xwYWnDS%2BsBQUF6f3337/m8%2B3cudPn0ar29varekF9VlaWUlNTvdZcroFqaGi55vn8WW/d/pCQYEVGunXmzDl1dnb1yjnQM%2ByFMzQ0tLAX8Du99T3CrnBzfGBt3LhRTz75pFasWKFvfOMbCg0N1eHDh/Xoo4/q7rvv1re%2B9S2j52tubtazzz6rv/u7v9Po0aO1d%2B9e7d69W1u3bu3xdURHR/s8HVhXd1YdHYH9l1xv3/7Ozq6A/xo7BXthry9%2B7dkL%2BIv%2B9ufU8YG1bt06/fjHP1ZycnL32oQJE/TYY49p%2BfLl%2BsEPfnDN5/B4PFq9erUyMjI0d%2B5ctba2auHChTp9%2BrSGDx%2BudevWKTEx8ZrPAwAAAoPjA6u2tlZ/%2B7d/67M%2BaNAgNTQ0fKnrPHbsmNfnZWVl3f8dFBSk7OxsZWdnf6nrBgAAcPxL9hMSEvTss8%2Bqubm5e62xsVFPPfWUJk2aZONkAAAAF%2Bf4R7B%2B9KMfae7cuZoyZYpiYmIkSR999JGGDRumX/3qV/YOBwAAcBGOD6yRI0eqqKhIv/3tb3XixAlJ0t1336077rhDbjdvPwYAAM7j%2BMCSpMjISM2ePVuffPKJhg8fLumvP80dAADAiRz/GizLsvT0008rKSlJM2bM0KeffqoVK1Zo5cqVOn/%2BvN3jAQAA%2BHB8YL344ot69dVX9eMf/1hhYWGSpKlTp%2Bo///M/9dxzz9k8HQAAgC/HB1ZBQYEeeeQRzZw5s/unt0%2BfPl1r1qzRa6%2B9ZvN0AAAAvhwfWJ988om%2B9rWv%2BayPGjVKn332mQ0TAQAAXJ7jA%2BurX/2q/vznP/usl5SUdL/gHQAAwEkc/y7C%2B%2B67T6tXr1ZNTY0sy9L%2B/fv10ksv6cUXX9TKlSvtHg8AAMCH4wPre9/7njo6OvTCCy%2Bora1NjzzyiK6//nrl5eXprrvusns8AAAAH44PrF27duk73/mOsrKyVF9fL8uydP3119s9FgAAwCU5/jVYTzzxRPeL2YcMGUJcAQAAx3N8YMXExOjYsWN2jwEAANBjjn%2BKMC4uTkuXLtWWLVsUExOjAQMGeF3%2B5JNP2jQZAADAxTk%2BsKqqqjR%2B/HhJUl1dnc3TAAAAXJkjA%2BvJJ5/U4sWLNXDgQL344ot2jwMAAHBVHPkarF/96lc6d%2B6c19p9992n2tpamyYCAADoOUcGlmVZPmvvvPOOPv/8cxumAQAAuDqODCwAAAB/RmABAAAY5tjACgoKsnsEAACAL8WR7yKU/voT3L/4M6/Onz%2Bvp556ShEREV7H8XOwAACA0zgysJKSknx%2B5pXH41FDQ4MaGhpsmgoAAKBnHBlY/OwrAADgzxz7GiwAAAB/RWABAAAYRmABAAAYRmABAAAYRmABAAAYRmABAAAYRmABAAAYRmABAAAYRmABAAAYRmABAAAYRmABAAAYRmABAAAYRmABAAAYRmABAAAYRmABAAAYRmABAAAYFnCBVV9fr7S0NB04cOCSx5SUlCg9PV0JCQmaNm2aiouL%2B3BCAADg7wIqsN5%2B%2B21lZWWpqqrqksecPHlSubm5Wrx4sQ4dOqTc3FwtWbJENTU1fTgpAADwZwETWIWFhVq6dKny8vKueFxiYqKmTp0ql8ul6dOnKykpSQUFBX00KQAA8HcuuwfoK8nJyUpPT5fL5bpsZFVWVio%2BPt5rLTY2VhUVFT0%2BV21trerq6rzWXK6Bio6Ovrqh%2BxmXq3d6PiQk2OtX2Ie9cAaXK5i9gN/pre8RdgmYwBo2bFiPjmtpaZHb7fZaCw8PV2tra4/PVVBQoPz8fK%2B1nJwcLVq0qMfX0R%2BlPf2W3SMAAYH7GvxRVFSE3SMYFTCB1VNut1ttbW1ea21tbYqI6PnGZ2VlKTU11WvN5RqohoYWIzMCANDf9Nb3SLvCjcD6f%2BLj41VeXu61VllZqbFjx/b4OqKjo32eDqyrO6uOji4jMwIA0N/0t%2B%2BR/esJTwMyMjJUWlqqoqIidXR0qKioSKWlpbrzzjvtHg0AAPgJAkuSx%2BPRrl27JEkjR47U888/r82bNyspKUmbNm3Sxo0bNWLECJunBAAA/iLIsizL7iECQV3d2V653mnr/6tXrhcAgL60Z8nkXrneYcMG98r1XgmPYAEAABhGYAEAABhGYAEAABhGYAEAABhGYAEAABhGYAEAABhGYAEAABhGYAEAABhGYAEAABhGYAEAABhGYAEAABhGYAEAABhGYAEAABhGYAEAABhGYAEAABhGYAEAABhGYAEAABhGYAEAABhGYAEAABhGYAEAABhGYAEAABhGYAEAABhGYAEAABhGYAEAABhGYAEAABhGYAEAABhGYAEAABhGYAEAABhGYAEAABhGYAEAABhGYAEAABhGYAEAABhGYAEAABhGYAEAABhGYAEAABhGYAEAABhGYAEAABhGYAEAABhGYAEAABhGYAEAABhGYAEAABgWMIF1%2BvRpZWdnKzExURMnTtSaNWvU0dFx0WMXLFigcePGyePxdH/s3bu3jycGAAD%2BymX3AH1lyZIluuGGG/TWW2/ps88%2B0z//8z/rF7/4hRYsWOBz7NGjR7V161ZNmDDBhkkBAIC/C4hHsD7%2B%2BGOVlpZq2bJlcrvdGj58uLKzs7Vjxw6fY0%2BdOqWmpiaNGTPGhkkBAEB/EBCPYB0/flzXXXedbrjhhu61kSNHqrq6WmfOnFFkZGT3%2BpEjRxQREaG8vDwdOXJEQ4cO1bx58zRr1qwen6%2B2tlZ1dXVeay7XQEVHR1/7jQEAoB9yufrXYz4BEVgtLS1yu91eaxc%2Bb21t9Qqs9vZ2JSQkKC8vT3FxcTpw4IByc3MVERGhadOm9eh8BQUFys/P91rLycnRokWLrvGWAADQP0VFRdg9glEBEVgDBw7UuXPnvNYufB4R4b2hmZmZyszM7P48OTlZmZmZ2rNnT48DKysrS6mpqV5rLtdANTS0fJnxAQDo93rre6Rd4RYQgRUXF6fGxkZ99tlnGjp0qCTpxIkT%2BspXvqLBgwd7Hbtz506fR6va29s1YMCAHp8vOjra5%2BnAurqz6ujouoZbAQBA/9Xfvkf2ryc8LyEmJkbjx4/XT37yEzU3N%2BvUqVPatGnTRV9X1dzcrMcff1zvvfeeurq69Ic//EG7d%2B9WVlaWDZMDAAB/FBCPYEnShg0b9Nhjj%2Bnb3/62goODlZmZqezsbEmSx%2BPR6tWrlZGRoblz56q1tVULFy7U6dOnNXz4cK1bt06JiYk23wIAAOAvgizLsuweIhDU1Z3tleudtv6/euV6AQDoS3uWTO6V6x02bPCVD%2BoFAfEUIQAAQF8isAAAAAwjsAAAAAwjsAAAAAwjsAAAAAwjsAAAAAwjsAAAAAwjsAAAAAwjsAAAAAwjsAAAAAwjsAAAAAwjsAAAAAwjsAAAAAwjsAAAAAwjsAAAAAwjsAAAAAwjsAAAAAwjsAAAAAwjsAAAAAwjsAAAAAwjsAAAAAwjsAAAAAwjsAAAAAwjsAAAAAwjsAAAAAwjsAAAAAwjsAAAAAwjsAAAAAwjsAAAAAwjsAAAAAwjsAAAAAwjsAAAAAwjsAAAAAwjsAAAAAwjsAAAAAwjsAAAAAwjsAAAAAwjsAAAAAwjsAAAAAwjsAAAAAwLmMA6ffq0srOzlZiYqIkTJ2rNmjXq6Oi46LElJSVKT09XQkKCpk2bpuLi4j6eFgAA%2BLOACawlS5Zo4MCBeuutt7Rz507t379fv/jFL3yOO3nypHJzc7V48WIdOnRIubm5WrJkiWpqavp%2BaAAA4JcCIrA%2B/vhjlZaWatmyZXK73Ro%2BfLiys7O1Y8cOn2MLCwuVmJioqVOnyuVyafr06UpKSlJBQYENkwMAAH8UEIF1/PhxXXfddbrhhhu610aOHKnq6mqdOXPG69jKykrFx8d7rcXGxqqioqJPZgUAAP7PZfcAfaGlpUVut9tr7cLnra2tioyMvOyx4eHham1t7fH5amtrVVdX57Xmcg1UdHT01Y4OAEBAcLn612M%2BARFYAwcO1Llz57zWLnweERHhte52u9XW1ua11tbW5nPc5RQUFCg/P99rbeHChcrNzb2asXvk0JrvGL9Of1NbW6uCggJlZWURsTZjL5yDvXAO9iIwBURgxcXFqbGxUZ999pmGDh0qSTpx4oS%2B8pWvaPDgwV7HxsfHq7y83GutsrJSY8eO7fH5srKylJqa6rU2bNiwLzk9rqSurk75%2BflKTU3lLy%2BbsRfOwV44B3sRmPrX43GXEBMTo/Hjx%2BsnP/mJmpubderUKW3atEmzZs3yOTYjI0OlpaUqKipSR0eHioqKVFpaqjvvvLPH54uOjtbNN9/s9cGdCgCAwBEQgSVJGzZsUEdHh7797W/rH//xH5WSkqLs7GxJksfj0a5duyT99cXvzz//vDZv3qykpCRt2rRJGzdu1IgRI%2BwcHwAA%2BJGAeIpQkoYOHaoNGzZc9LKysjKvz1NSUpSSktIXYwEAgH4o5NFHH33U7iGAaxUREaEJEyZc1ZsR0DvYC%2BdgL5yDvQg8QZZlWXYPAQAA0J8EzGuwAAAA%2BgqBBQAAYBiBBQAAYBiBBQAAYBiBBQAAYBiBBQAAYBiBBQAAYBiBBQAAYBiBBUerqKjQ/PnzNWHCBE2ePFnLly9XfX29JOnw4cOaPXu2PB6PUlNT9etf/9rr9xYWFiotLU0JCQmaOXOmzz%2BJhKvX2dmpOXPm6KGHHupeKykpUXp6uhISEjRt2jQVFxd7/Z6f/exnmjJlihISEjSzk%2Bu4AAAF60lEQVRnzhx9%2BOGHfT12v9PY2Kjly5dr4sSJSkpKUnZ2tmprayVxv%2Bhr5eXl%2Bv73v6/ExEQlJyfriSeeUHt7uyTuGwHPAhzq3Llz1uTJk63nnnvO%2Bvzzz636%2Bnrr/vvvt374wx9ajY2N1oQJE6zt27db58%2Bft/bt22d5PB7r8OHDlmVZ1p/%2B9CfL4/FYhw4dstrb261t27ZZEydOtFpbW22%2BVf5t/fr11ujRo60VK1ZYlmVZH330kTVu3Djrd7/7nXX%2B/Hnrtddes/7%2B7//e%2BvTTTy3LsqxXXnnFSklJsT744AOrra3NevLJJ6077rjD6urqsvNm%2BL0f/OAHVk5OjtXU1GSdPXvWWrhwofXAAw9wv%2BhjnZ2d1uTJk61f/vKXVmdnp/WXv/zFuv322638/HzuG7B4BAuOVV1drdGjRysnJ0dhYWGKiopSVlaWDh48qDfffFPXXXedvv/978vlcmnSpElKT0/Xjh07JEm//vWvdccdd2j8%2BPEKDQ3VvHnzFBUVpaKiIptvlf/av3%2B/3nzzTd12223da4WFhUpMTNTUqVPlcrk0ffp0JSUlqaCgQJL08ssv6%2B6771ZcXJwGDBigBx98UNXV1Tpw4IBdN8PvHT16VIcPH9batWsVGRmpQYMG6fHHH9fSpUu5X/SxpqYm1dXVqaurS9b//qtzwcHBcrvd3DfAU4RwrptuuklbtmxRSEhI99obb7yhm2%2B%2BWcePH1d8fLzX8bGxsaqoqJAkVVZWXvZyXJ3Tp09r1apVeuaZZ%2BR2u7vXr/R1/v%2BXh4aGKiYmhn24Bn/%2B858VGxurl19%2BWWlpaUpOTta6des0bNgw7hd9LCoqSvPmzdO6des0btw43XrrrYqJidG8efO4b4DAgn%2BwLEv/%2Bq//quLiYq1atUotLS1e3%2BglKTw8XK2trZJ0xcvRc11dXVq2bJnmz5%2Bv0aNHe13GPvS9pqYmHTt2TCdPnlRhYaF%2B85vfqKamRitWrGA/%2BlhXV5fCw8P1L//yL3r33Xe1e/dunThxQhs2bGAvQGDB%2BZqbm7Vo0SL99re/1fbt2zVq1Ci53W61tbV5HdfW1qaIiAhJuuLl6LnNmzcrLCxMc%2BbM8bmMfeh7YWFhkqRVq1Zp0KBBGjp0qJYsWaKSkhJZlsV%2B9KHf/e53euONN3T33XcrLCxMcXFxysnJ0b//%2B79z3wCBBWerqqrS9773PTU3N2vnzp0aNWqUJCk%2BPl7Hjx/3OrayslJxcXGSpLi4uMtejp579dVXVVpaqsTERCUmJmr37t3avXu3EhMTr3ofzp8/r5MnT/o8dYKei42NVVdXl86fP9%2B91tXVJUn62te%2Bxv2iD/3lL3/pfsfgBS6XS6Ghodw3wLsI4VyNjY3WN7/5Teuhhx6yOjs7vS6rr6%2B3EhMTrW3btlnt7e3W/v37LY/HY%2B3fv9%2ByLKv73VP79%2B/vfrdUUlKS1dDQYMdN6VdWrFjR/S7CyspKa9y4cdZrr73W/U6pcePGWR9%2B%2BKFlWZb18ssvWykpKdb777/f/U6ptLQ0q7293c6b4Nfa29uttLQ0Kzc312pubrZOnz5t3XPPPVZOTg73iz52/Phxa%2BzYsdYLL7xgdXR0WFVVVdaMGTOstWvXct%2BAFWRZ//vWB8Bhtm3bprVr18rtdisoKMjrsrKyMh05ckRr1qzRBx98oCFDhig7O1szZ87sPubVV1/VCy%2B8oJqaGsXGxupHP/qR/uEf/qGvb0a/c%2BFnYK1du1aS9NZbb%2Bnpp59WVVWVvvrVr2rZsmW69dZbJf31tXPbtm3Tjh07VF9fr3Hjxmn16tUaMWKEbfP3BzU1NVq7dq0OHjyozz//XKmpqVq1apUiIyO5X/Sxffv2af369frwww81ePBgZWRkdL/zmftGYCOwAAAADOM1WAAAAIYRWAAAAIYRWAAAAIYRWAAAAIYRWAAAAIYRWAAAAIYRWAAAAIYRWAAAAIYRWAAAAIYRWAAAAIYRWAAAAIYRWAAAAIYRWAAAAIYRWAAAAIYRWAAAAIb9D3y3jmUYa4%2BhAAAAAElFTkSuQmCC\">\n",
       "    </div>\n",
       "</div>\n",
       "</div><div class=\"row variablerow\">\n",
       "    <div class=\"col-md-3 namecol\">\n",
       "        <p class=\"h4\">birth<br/>\n",
       "            <small>Categorical, Unique</small>\n",
       "        </p>\n",
       "    </div> <div class=\"col-md-3 collapse in\" id=\"minivalues3802944212925243443\"><table border=\"1\" class=\"dataframe example_values\">\n",
       "  <thead>\n",
       "    <tr style=\"text-align: right;\">\n",
       "      <th>First 3 values</th>\n",
       "    </tr>\n",
       "  </thead>\n",
       "  <tbody>\n",
       "    <tr>\n",
       "      <td>1970/07/13</td>\n",
       "    </tr>\n",
       "    <tr>\n",
       "      <td>2000/03/22</td>\n",
       "    </tr>\n",
       "    <tr>\n",
       "      <td>1990/07/11</td>\n",
       "    </tr>\n",
       "  </tbody>\n",
       "</table></div>\n",
       "<div class=\"col-md-6 collapse in\" id=\"minivalues3802944212925243443\"><table border=\"1\" class=\"dataframe example_values\">\n",
       "  <thead>\n",
       "    <tr style=\"text-align: right;\">\n",
       "      <th>Last 3 values</th>\n",
       "    </tr>\n",
       "  </thead>\n",
       "  <tbody>\n",
       "    <tr>\n",
       "      <td>1956/11/30</td>\n",
       "    </tr>\n",
       "    <tr>\n",
       "      <td>1994/01/04</td>\n",
       "    </tr>\n",
       "    <tr>\n",
       "      <td>1954/07/10</td>\n",
       "    </tr>\n",
       "  </tbody>\n",
       "</table></div>\n",
       "<div class=\"col-md-12 text-right\">\n",
       "    <a role=\"button\" data-toggle=\"collapse\" data-target=\"#values3802944212925243443,#minivalues3802944212925243443\" aria-expanded=\"false\"\n",
       "       aria-controls=\"collapseExample\">\n",
       "        Toggle details\n",
       "    </a>\n",
       "</div>\n",
       "<div class=\"col-md-12 collapse\" id=\"values3802944212925243443\">\n",
       "    <p class=\"h4\">First 20 values</p>\n",
       "    <table border=\"1\" class=\"dataframe sample table table-hover\">\n",
       "  <tbody>\n",
       "    <tr>\n",
       "      <th>1</th>\n",
       "      <td>1970/07/13</td>\n",
       "    </tr>\n",
       "    <tr>\n",
       "      <th>2</th>\n",
       "      <td>2000/03/22</td>\n",
       "    </tr>\n",
       "    <tr>\n",
       "      <th>3</th>\n",
       "      <td>1990/07/11</td>\n",
       "    </tr>\n",
       "    <tr>\n",
       "      <th>4</th>\n",
       "      <td>1999/02/15</td>\n",
       "    </tr>\n",
       "    <tr>\n",
       "      <th>5</th>\n",
       "      <td>1997/06/27</td>\n",
       "    </tr>\n",
       "    <tr>\n",
       "      <th>6</th>\n",
       "      <td>1899/01/01</td>\n",
       "    </tr>\n",
       "    <tr>\n",
       "      <th>7</th>\n",
       "      <td>1958/03/26</td>\n",
       "    </tr>\n",
       "    <tr>\n",
       "      <th>8</th>\n",
       "      <td>1950/07/08</td>\n",
       "    </tr>\n",
       "    <tr>\n",
       "      <th>9</th>\n",
       "      <td>1921/05/03</td>\n",
       "    </tr>\n",
       "    <tr>\n",
       "      <th>10</th>\n",
       "      <td>1923/03/12</td>\n",
       "    </tr>\n",
       "    <tr>\n",
       "      <th>11</th>\n",
       "      <td>1950/07/14</td>\n",
       "    </tr>\n",
       "    <tr>\n",
       "      <th>12</th>\n",
       "      <td>1990/07/09</td>\n",
       "    </tr>\n",
       "    <tr>\n",
       "      <th>13</th>\n",
       "      <td>1980/07/07</td>\n",
       "    </tr>\n",
       "    <tr>\n",
       "      <th>14</th>\n",
       "      <td>1920/04/22</td>\n",
       "    </tr>\n",
       "    <tr>\n",
       "      <th>15</th>\n",
       "      <td>1930/08/12</td>\n",
       "    </tr>\n",
       "    <tr>\n",
       "      <th>16</th>\n",
       "      <td>1993/12/08</td>\n",
       "    </tr>\n",
       "    <tr>\n",
       "      <th>17</th>\n",
       "      <td>1956/11/30</td>\n",
       "    </tr>\n",
       "    <tr>\n",
       "      <th>18</th>\n",
       "      <td>1994/01/04</td>\n",
       "    </tr>\n",
       "    <tr>\n",
       "      <th>19</th>\n",
       "      <td>1954/07/10</td>\n",
       "    </tr>\n",
       "  </tbody>\n",
       "</table>\n",
       "    <p class=\"h4\">Last 20 values</p>\n",
       "    \n",
       "</div>\n",
       "</div><div class=\"row variablerow\">\n",
       "    <div class=\"col-md-3 namecol\">\n",
       "        <p class=\"h4\">dummyCol<br/>\n",
       "            <small>Categorical</small>\n",
       "        </p>\n",
       "    </div> <div class=\"col-md-3\">\n",
       "    <table class=\"stats \">\n",
       "        <tr class=\"\">\n",
       "            <th>Distinct count</th>\n",
       "            <td>13</td>\n",
       "        </tr>\n",
       "        <tr>\n",
       "            <th>Unique (%)</th>\n",
       "            <td>68.4%</td>\n",
       "        </tr>\n",
       "        <tr class=\"ignore\">\n",
       "            <th>Missing (%)</th>\n",
       "            <td>0.0%</td>\n",
       "        </tr>\n",
       "        <tr class=\"ignore\">\n",
       "            <th>Missing (n)</th>\n",
       "            <td>0</td>\n",
       "        </tr>\n",
       "        <tr class=\"ignore\">\n",
       "            <th>Infinite (%)</th>\n",
       "            <td>0.0%</td>\n",
       "        </tr>\n",
       "        <tr class=\"ignore\">\n",
       "            <th>Infinite (n)</th>\n",
       "            <td>0</td>\n",
       "        </tr>\n",
       "    </table>\n",
       "</div>\n",
       "<div class=\"col-md-6 collapse in\" id=\"minifreqtable52488389370696450\">\n",
       "    <table class=\"mini freq\">\n",
       "        <tr class=\"\">\n",
       "    <th>you</th>\n",
       "    <td>\n",
       "        <div class=\"bar\" style=\"width:27%\" data-toggle=\"tooltip\" data-placement=\"right\" data-html=\"true\"\n",
       "             data-delay=500 title=\"Percentage: 15.8%\">\n",
       "            3\n",
       "        </div>\n",
       "        \n",
       "    </td>\n",
       "</tr> <tr class=\"\">\n",
       "    <th>gonna</th>\n",
       "    <td>\n",
       "        <div class=\"bar\" style=\"width:27%\" data-toggle=\"tooltip\" data-placement=\"right\" data-html=\"true\"\n",
       "             data-delay=500 title=\"Percentage: 15.8%\">\n",
       "            3\n",
       "        </div>\n",
       "        \n",
       "    </td>\n",
       "</tr> <tr class=\"\">\n",
       "    <th>never</th>\n",
       "    <td>\n",
       "        <div class=\"bar\" style=\"width:19%\" data-toggle=\"tooltip\" data-placement=\"right\" data-html=\"true\"\n",
       "             data-delay=500 title=\"Percentage: 10.5%\">\n",
       "            &nbsp;\n",
       "        </div>\n",
       "        2\n",
       "    </td>\n",
       "</tr> <tr class=\"other\">\n",
       "    <th>Other values (10)</th>\n",
       "    <td>\n",
       "        <div class=\"bar\" style=\"width:100%\" data-toggle=\"tooltip\" data-placement=\"right\" data-html=\"true\"\n",
       "             data-delay=500 title=\"Percentage: 57.9%\">\n",
       "            11\n",
       "        </div>\n",
       "        \n",
       "    </td>\n",
       "</tr> \n",
       "    </table>\n",
       "</div> \n",
       "<div class=\"col-md-12 text-right\">\n",
       "    <a role=\"button\" data-toggle=\"collapse\" data-target=\"#freqtable52488389370696450, #minifreqtable52488389370696450\"\n",
       "       aria-expanded=\"true\" aria-controls=\"collapseExample\">\n",
       "        Toggle details\n",
       "    </a>\n",
       "</div>\n",
       "<div class=\"col-md-12 collapse extrapadding\" id=\"freqtable52488389370696450\">\n",
       "    <table class=\"freq table table-hover\">\n",
       "        <thead>\n",
       "        <tr>\n",
       "            <td class=\"fillremaining\">Value</td>\n",
       "            <td class=\"number\">Count</td>\n",
       "            <td class=\"number\">Frequency (%)</td>\n",
       "            <td style=\"min-width:200px\">&nbsp;</td>\n",
       "        </tr>\n",
       "        </thead>\n",
       "        <tr class=\"\">\n",
       "        <td class=\"fillremaining\">you</td>\n",
       "        <td class=\"number\">3</td>\n",
       "        <td class=\"number\">15.8%</td>\n",
       "        <td>\n",
       "            <div class=\"bar\" style=\"width:100%\">&nbsp;</div>\n",
       "        </td>\n",
       "</tr> <tr class=\"\">\n",
       "        <td class=\"fillremaining\">gonna</td>\n",
       "        <td class=\"number\">3</td>\n",
       "        <td class=\"number\">15.8%</td>\n",
       "        <td>\n",
       "            <div class=\"bar\" style=\"width:100%\">&nbsp;</div>\n",
       "        </td>\n",
       "</tr> <tr class=\"\">\n",
       "        <td class=\"fillremaining\">never</td>\n",
       "        <td class=\"number\">2</td>\n",
       "        <td class=\"number\">10.5%</td>\n",
       "        <td>\n",
       "            <div class=\"bar\" style=\"width:67%\">&nbsp;</div>\n",
       "        </td>\n",
       "</tr> <tr class=\"\">\n",
       "        <td class=\"fillremaining\">#</td>\n",
       "        <td class=\"number\">2</td>\n",
       "        <td class=\"number\">10.5%</td>\n",
       "        <td>\n",
       "            <div class=\"bar\" style=\"width:67%\">&nbsp;</div>\n",
       "        </td>\n",
       "</tr> <tr class=\"\">\n",
       "        <td class=\"fillremaining\">never </td>\n",
       "        <td class=\"number\">1</td>\n",
       "        <td class=\"number\">5.3%</td>\n",
       "        <td>\n",
       "            <div class=\"bar\" style=\"width:34%\">&nbsp;</div>\n",
       "        </td>\n",
       "</tr> <tr class=\"\">\n",
       "        <td class=\"fillremaining\">down</td>\n",
       "        <td class=\"number\">1</td>\n",
       "        <td class=\"number\">5.3%</td>\n",
       "        <td>\n",
       "            <div class=\"bar\" style=\"width:34%\">&nbsp;</div>\n",
       "        </td>\n",
       "</tr> <tr class=\"\">\n",
       "        <td class=\"fillremaining\">run </td>\n",
       "        <td class=\"number\">1</td>\n",
       "        <td class=\"number\">5.3%</td>\n",
       "        <td>\n",
       "            <div class=\"bar\" style=\"width:34%\">&nbsp;</div>\n",
       "        </td>\n",
       "</tr> <tr class=\"\">\n",
       "        <td class=\"fillremaining\">desert</td>\n",
       "        <td class=\"number\">1</td>\n",
       "        <td class=\"number\">5.3%</td>\n",
       "        <td>\n",
       "            <div class=\"bar\" style=\"width:34%\">&nbsp;</div>\n",
       "        </td>\n",
       "</tr> <tr class=\"\">\n",
       "        <td class=\"fillremaining\">up</td>\n",
       "        <td class=\"number\">1</td>\n",
       "        <td class=\"number\">5.3%</td>\n",
       "        <td>\n",
       "            <div class=\"bar\" style=\"width:34%\">&nbsp;</div>\n",
       "        </td>\n",
       "</tr> <tr class=\"\">\n",
       "        <td class=\"fillremaining\">and</td>\n",
       "        <td class=\"number\">1</td>\n",
       "        <td class=\"number\">5.3%</td>\n",
       "        <td>\n",
       "            <div class=\"bar\" style=\"width:34%\">&nbsp;</div>\n",
       "        </td>\n",
       "</tr> <tr class=\"\">\n",
       "        <td class=\"fillremaining\">around</td>\n",
       "        <td class=\"number\">1</td>\n",
       "        <td class=\"number\">5.3%</td>\n",
       "        <td>\n",
       "            <div class=\"bar\" style=\"width:34%\">&nbsp;</div>\n",
       "        </td>\n",
       "</tr> <tr class=\"\">\n",
       "        <td class=\"fillremaining\">let</td>\n",
       "        <td class=\"number\">1</td>\n",
       "        <td class=\"number\">5.3%</td>\n",
       "        <td>\n",
       "            <div class=\"bar\" style=\"width:34%\">&nbsp;</div>\n",
       "        </td>\n",
       "</tr> <tr class=\"\">\n",
       "        <td class=\"fillremaining\">give</td>\n",
       "        <td class=\"number\">1</td>\n",
       "        <td class=\"number\">5.3%</td>\n",
       "        <td>\n",
       "            <div class=\"bar\" style=\"width:34%\">&nbsp;</div>\n",
       "        </td>\n",
       "</tr> \n",
       "    </table>\n",
       "</div> \n",
       "</div><div class=\"row variablerow\">\n",
       "    <div class=\"col-md-3 namecol\">\n",
       "        <p class=\"h4\">firstName<br/>\n",
       "            <small>Categorical, Unique</small>\n",
       "        </p>\n",
       "    </div> <div class=\"col-md-3 collapse in\" id=\"minivalues2307617383209650038\"><table border=\"1\" class=\"dataframe example_values\">\n",
       "  <thead>\n",
       "    <tr style=\"text-align: right;\">\n",
       "      <th>First 3 values</th>\n",
       "    </tr>\n",
       "  </thead>\n",
       "  <tbody>\n",
       "    <tr>\n",
       "      <td>JAMES</td>\n",
       "    </tr>\n",
       "    <tr>\n",
       "      <td>André</td>\n",
       "    </tr>\n",
       "    <tr>\n",
       "      <td>CaRL</td>\n",
       "    </tr>\n",
       "  </tbody>\n",
       "</table></div>\n",
       "<div class=\"col-md-6 collapse in\" id=\"minivalues2307617383209650038\"><table border=\"1\" class=\"dataframe example_values\">\n",
       "  <thead>\n",
       "    <tr style=\"text-align: right;\">\n",
       "      <th>Last 3 values</th>\n",
       "    </tr>\n",
       "  </thead>\n",
       "  <tbody>\n",
       "    <tr>\n",
       "      <td>Arthur</td>\n",
       "    </tr>\n",
       "    <tr>\n",
       "      <td>Johannes</td>\n",
       "    </tr>\n",
       "    <tr>\n",
       "      <td>JaMES</td>\n",
       "    </tr>\n",
       "  </tbody>\n",
       "</table></div>\n",
       "<div class=\"col-md-12 text-right\">\n",
       "    <a role=\"button\" data-toggle=\"collapse\" data-target=\"#values2307617383209650038,#minivalues2307617383209650038\" aria-expanded=\"false\"\n",
       "       aria-controls=\"collapseExample\">\n",
       "        Toggle details\n",
       "    </a>\n",
       "</div>\n",
       "<div class=\"col-md-12 collapse\" id=\"values2307617383209650038\">\n",
       "    <p class=\"h4\">First 20 values</p>\n",
       "    <table border=\"1\" class=\"dataframe sample table table-hover\">\n",
       "  <tbody>\n",
       "    <tr>\n",
       "      <th>1</th>\n",
       "      <td>JAMES</td>\n",
       "    </tr>\n",
       "    <tr>\n",
       "      <th>2</th>\n",
       "      <td>André</td>\n",
       "    </tr>\n",
       "    <tr>\n",
       "      <th>3</th>\n",
       "      <td>CaRL</td>\n",
       "    </tr>\n",
       "    <tr>\n",
       "      <th>4</th>\n",
       "      <td>David</td>\n",
       "    </tr>\n",
       "    <tr>\n",
       "      <th>5</th>\n",
       "      <td>PAUL</td>\n",
       "    </tr>\n",
       "    <tr>\n",
       "      <th>6</th>\n",
       "      <td>Max!!!</td>\n",
       "    </tr>\n",
       "    <tr>\n",
       "      <th>7</th>\n",
       "      <td>NiELS</td>\n",
       "    </tr>\n",
       "    <tr>\n",
       "      <th>8</th>\n",
       "      <td>Luis</td>\n",
       "    </tr>\n",
       "    <tr>\n",
       "      <th>9</th>\n",
       "      <td>Marie</td>\n",
       "    </tr>\n",
       "    <tr>\n",
       "      <th>10</th>\n",
       "      <td>Albert</td>\n",
       "    </tr>\n",
       "    <tr>\n",
       "      <th>11</th>\n",
       "      <td>Emmy%%</td>\n",
       "    </tr>\n",
       "    <tr>\n",
       "      <th>12</th>\n",
       "      <td>Isaac</td>\n",
       "    </tr>\n",
       "    <tr>\n",
       "      <th>13</th>\n",
       "      <td>(((   Heinrich )))))</td>\n",
       "    </tr>\n",
       "    <tr>\n",
       "      <th>14</th>\n",
       "      <td>William</td>\n",
       "    </tr>\n",
       "    <tr>\n",
       "      <th>15</th>\n",
       "      <td>Galileo</td>\n",
       "    </tr>\n",
       "    <tr>\n",
       "      <th>16</th>\n",
       "      <td>Fred</td>\n",
       "    </tr>\n",
       "    <tr>\n",
       "      <th>17</th>\n",
       "      <td>Arthur</td>\n",
       "    </tr>\n",
       "    <tr>\n",
       "      <th>18</th>\n",
       "      <td>Johannes</td>\n",
       "    </tr>\n",
       "    <tr>\n",
       "      <th>19</th>\n",
       "      <td>JaMES</td>\n",
       "    </tr>\n",
       "  </tbody>\n",
       "</table>\n",
       "    <p class=\"h4\">Last 20 values</p>\n",
       "    \n",
       "</div>\n",
       "</div><div class=\"row variablerow\">\n",
       "    <div class=\"col-md-3 namecol\">\n",
       "        <p class=\"h4\">id<br/>\n",
       "            <small>Numeric</small>\n",
       "        </p>\n",
       "    </div> <div class=\"col-md-6\">\n",
       "    <div class=\"row\">\n",
       "        <div class=\"col-sm-6\">\n",
       "            <table class=\"stats \">\n",
       "                <tr>\n",
       "                    <th>Distinct count</th>\n",
       "                    <td>19</td>\n",
       "                </tr>\n",
       "                <tr>\n",
       "                    <th>Unique (%)</th>\n",
       "                    <td>100.0%</td>\n",
       "                </tr>\n",
       "                <tr class=\"ignore\">\n",
       "                    <th>Missing (%)</th>\n",
       "                    <td>0.0%</td>\n",
       "                </tr>\n",
       "                <tr class=\"ignore\">\n",
       "                    <th>Missing (n)</th>\n",
       "                    <td>0</td>\n",
       "                </tr>\n",
       "                <tr class=\"ignore\">\n",
       "                    <th>Infinite (%)</th>\n",
       "                    <td>0.0%</td>\n",
       "                </tr>\n",
       "                <tr class=\"ignore\">\n",
       "                    <th>Infinite (n)</th>\n",
       "                    <td>0</td>\n",
       "                </tr>\n",
       "            </table>\n",
       "\n",
       "        </div>\n",
       "        <div class=\"col-sm-6\">\n",
       "            <table class=\"stats \">\n",
       "\n",
       "                <tr>\n",
       "                    <th>Mean</th>\n",
       "                    <td>10</td>\n",
       "                </tr>\n",
       "                <tr>\n",
       "                    <th>Minimum</th>\n",
       "                    <td>1</td>\n",
       "                </tr>\n",
       "                <tr>\n",
       "                    <th>Maximum</th>\n",
       "                    <td>19</td>\n",
       "                </tr>\n",
       "                <tr class=\"ignore\">\n",
       "                    <th>Zeros (%)</th>\n",
       "                    <td>0.0%</td>\n",
       "                </tr>\n",
       "            </table>\n",
       "        </div>\n",
       "    </div>\n",
       "</div>\n",
       "<div class=\"col-md-3 collapse in\" id=\"minihistogram-4551653824094333614\">\n",
       "    <img src=\"data:image/png;base64,iVBORw0KGgoAAAANSUhEUgAAAMgAAABLCAYAAAA1fMjoAAAABHNCSVQICAgIfAhkiAAAAAlwSFlzAAAPYQAAD2EBqD%2BnaQAAADl0RVh0U29mdHdhcmUAbWF0cGxvdGxpYiB2ZXJzaW9uIDIuMS4wLCBodHRwOi8vbWF0cGxvdGxpYi5vcmcvpW3flQAAARBJREFUeJzt3MEJAjEQQFFXLMki7MmzPVmEPcW7yAcXJcv63j0wCXzmlmWMMQ7AW8fZA8CWnWYP8Op8vc8e4Wset8vHZ/Z0/zXWvNkv2SAQBAJBIBAEAkEgEAQCQSAQBAJBIBAEAkEgEAQCQSAQBAJBIBAEAkEgEAQCQSAQBAJBIBAEAkEgEDb3L9ae/PsfV3tgg0AQCASBQBAIBIFAEAgEgUAQCASBQBAIBIFAEAgEgUAQCASBQBAIBIFAEAgEgUAQCASBQBAIhGWMMWYPAVtlg0AQCASBQBAIBIFAEAgEgUAQCASBQBAIBIFAEAgEgUAQCASBQBAIBIFAEAgEgUAQCASBQBAIBIFAEAgEgUB4Ak95D/jqZxT/AAAAAElFTkSuQmCC\">\n",
       "\n",
       "</div>\n",
       "<div class=\"col-md-12 text-right\">\n",
       "    <a role=\"button\" data-toggle=\"collapse\" data-target=\"#descriptives-4551653824094333614,#minihistogram-4551653824094333614\"\n",
       "       aria-expanded=\"false\" aria-controls=\"collapseExample\">\n",
       "        Toggle details\n",
       "    </a>\n",
       "</div>\n",
       "<div class=\"row collapse col-md-12\" id=\"descriptives-4551653824094333614\">\n",
       "    <div class=\"col-sm-4\">\n",
       "        <p class=\"h4\">Quantile statistics</p>\n",
       "        <table class=\"stats indent\">\n",
       "            <tr>\n",
       "                <th>Minimum</th>\n",
       "                <td>1</td>\n",
       "            </tr>\n",
       "            <tr>\n",
       "                <th>5-th percentile</th>\n",
       "                <td>1.9</td>\n",
       "            </tr>\n",
       "            <tr>\n",
       "                <th>Q1</th>\n",
       "                <td>5.5</td>\n",
       "            </tr>\n",
       "            <tr>\n",
       "                <th>Median</th>\n",
       "                <td>10</td>\n",
       "            </tr>\n",
       "            <tr>\n",
       "                <th>Q3</th>\n",
       "                <td>14.5</td>\n",
       "            </tr>\n",
       "            <tr>\n",
       "                <th>95-th percentile</th>\n",
       "                <td>18.1</td>\n",
       "            </tr>\n",
       "            <tr>\n",
       "                <th>Maximum</th>\n",
       "                <td>19</td>\n",
       "            </tr>\n",
       "            <tr>\n",
       "                <th>Range</th>\n",
       "                <td>18</td>\n",
       "            </tr>\n",
       "            <tr>\n",
       "                <th>Interquartile range</th>\n",
       "                <td>9</td>\n",
       "            </tr>\n",
       "        </table>\n",
       "        <p class=\"h4\">Descriptive statistics</p>\n",
       "        <table class=\"stats indent\">\n",
       "            <tr>\n",
       "                <th>Standard deviation</th>\n",
       "                <td>5.6273</td>\n",
       "            </tr>\n",
       "            <tr>\n",
       "                <th>Coef of variation</th>\n",
       "                <td>0.56273</td>\n",
       "            </tr>\n",
       "            <tr>\n",
       "                <th>Kurtosis</th>\n",
       "                <td>-1.2067</td>\n",
       "            </tr>\n",
       "            <tr>\n",
       "                <th>Mean</th>\n",
       "                <td>10</td>\n",
       "            </tr>\n",
       "            <tr>\n",
       "                <th>MAD</th>\n",
       "                <td>4.7368</td>\n",
       "            </tr>\n",
       "            <tr class=\"\">\n",
       "                <th>Skewness</th>\n",
       "                <td>0</td>\n",
       "            </tr>\n",
       "            <tr>\n",
       "                <th>Sum</th>\n",
       "                <td>190</td>\n",
       "            </tr>\n",
       "            <tr>\n",
       "                <th>Variance</th>\n",
       "                <td>31.667</td>\n",
       "            </tr>\n",
       "            <tr>\n",
       "                <th>Memory size</th>\n",
       "                <td>0.0 B</td>\n",
       "            </tr>\n",
       "        </table>\n",
       "    </div>\n",
       "    <div class=\"col-sm-8 histogram\">\n",
       "        <img src=\"data:image/png;base64,iVBORw0KGgoAAAANSUhEUgAAAlgAAAGQCAYAAAByNR6YAAAABHNCSVQICAgIfAhkiAAAAAlwSFlzAAAPYQAAD2EBqD%2BnaQAAADl0RVh0U29mdHdhcmUAbWF0cGxvdGxpYiB2ZXJzaW9uIDIuMS4wLCBodHRwOi8vbWF0cGxvdGxpYi5vcmcvpW3flQAAIABJREFUeJzt3XtUVXX%2B//EXclAuijIh1jj2pVFwxlucRCEV10g65o1MLabUNJWaRFGXmvpzpsl7TtpFUVdjTn5T10ShTtbg15mmUr9dwGtDGSqaSvFVDorKVTiwf3%2B0ZHUEFHXLhsPzsRaL9nt/zof3p7PPOS/P3hw8DMMwBAAAANM0sboBAAAAd0PAAgAAMBkBCwAAwGQELAAAAJMRsAAAAExGwAIAADAZAQsAAMBkBCwAAACTEbAAAABMRsACAAAwGQELAADAZAQsAAAAkxGwAAAATEbAAgAAMBkBCwAAwGQELAAAAJMRsAAAAExGwAIAADAZAQsAAMBkBCwAAACTEbAAAABMRsACAAAwGQELAADAZAQsAAAAkxGwAAAATEbAAgAAMBkBCwAAwGQELAAAAJMRsAAAAExGwAIAADAZAQsAAMBkBCwAAACTEbAAAABMRsACAAAwGQELAADAZAQsAAAAkxGwAAAATEbAAgAAMBkBCwAAwGQ2qxtoLByOfFPmadLEQz/7mZ8uXChURYVhypz1HWt2/zU3tvVKjW/NjW29EmuuL2tu3bqFJT%2BXd7AamCZNPOTh4aEmTTysbqXOsGb319jWKzW%2BNTe29UqsubEjYAEAAJiMgAUAAGAyAhYAAIDJCFgAAAAmI2ABAACYjIAFAABgMgIWAACAyQhYAAAAJiNgAQAAmMxtAlZGRoaefvpp9ezZU71799bzzz%2BvCxcuVDt29%2B7dGjZsmMLCwjRo0CB98sknLvvXr1%2Bvvn37KiwsTGPHjtXJkyfrYgkAAMBNuEXAKikp0aRJk2S32/W///u/%2BvDDD3Xx4kX9v//3/6qMPXXqlKZOnapp06Zp//79mjp1qqZPn65z585JkrZv365NmzZpw4YNSk1NVefOnZWQkCDDqB9/UwkAANR/bhGwsrOz9atf/Urx8fFq2rSpAgICFBsbq3379lUZu337doWHh6t///6y2WwaPHiwevTooaSkJEnSu%2B%2B%2BqyeffFIhISFq1qyZZs6cqezsbKWmptb1sgAAQANls7oBM/zyl7/Um2%2B%2B6VLbtWuXOnfuXGVsZmamQkNDXWodOnRQRkZG5f64uLjKfV5eXgoODlZGRoYiIyNr1U9OTo4cDodLzWbzVVBQUK1ufz2enk1cvjcGrNn9Nbb1So1vzY1tvRJrbuzcImD9lGEYeu211/TJJ59o8%2BbNVfYXFhbKx8fHpebt7a2ioqJa7a%2BNpKQkJSYmutTi4%2BOVkJBQ6zluxN//xx7D5/%2BPaXMCdWX/koerrV89rusbHmfAnVfT80JD5VYBq6CgQPPmzdM333yjzZs3q2PHjlXG%2BPj4qKSkxKVWUlIiPz%2B/Wu2vjdjYWEVHR7vUbDZf5eUV1nqOmnh6NpG/v48uXy5WeXnFbc8HWOHaxwLHNQAzXiOrExBQ%2B9dvM7lNwDpz5ozi4uL085//XMnJyfrZz35W7bjQ0FB98803LrXMzEx16dJFkhQSEqLjx4%2BrX79%2BkqSysjKdOnWqymnF6wkKCqpyOtDhyJfTad4LR3l5hanzAXWppmOX4xpovNztse8WJ0kvXbqkcePG6YEHHtCGDRtqDFeSFBMTo7S0NKWkpMjpdColJUVpaWl65JFHJEkjR47U5s2blZGRoStXrmjlypUKDAxUeHh4XS0HAAA0cG7xDta2bduUnZ2tnTt36n/%2Bx/VaiUOHDslut2vBggWKiYlR%2B/bttWbNGq1YsULz589X27ZttXr1at13332SpFGjRik/P1/x8fG6cOGCunbtqjfeeENeXl5WLA0AADRAHgYf8FQnHI58U%2Bax2ZooIMBPeXmFcjorNOi1z0yZF6hLO6f3dtm%2B9riub3icAXfetc8LZmndusUdmfdG3OIUIQAAQH1CwAIAADAZAQsAAMBkBCwAAACTEbAAAABMRsACAAAwGQELAADAZAQsAAAAkxGwAAAATEbAAgAAMBkBCwAAwGQELAAAAJMRsAAAAExGwAIAADAZAQsAAMBkBCwAAACTEbAAAABMRsACAAAwGQELAADAZAQsAAAAkxGwAAAATEbAAgAAMBkBCwAAwGQELAAAAJMRsAAAAExGwAIAADAZAQsAAMBkBCwAAACT2axuwGwXLlxQbGysFi9erIiIiCr7J02apAMHDrjUioqKFBsbq4ULFyo3N1e9e/eWr69v5f6AgAB9/PHHd7x3AADgHtwqYB04cEBz587VmTNnahzz5ptvumwnJycrMTFRU6ZMkSSlp6erbdu2BCoAAHDL3OYU4fbt2zVr1izNmDGj1rc5efKkFi1apBUrVigoKEjSjwGrS5cud6pNAADQCLjNO1h9%2BvTRsGHDZLPZah2yFixYoOHDhys8PLyylp6erkuXLmno0KHKzc1V165dNWfOHHXo0KHWveTk5MjhcLjUbDbfyhB3Ozw9m7h8Bxoim831%2BOW4BnDt80JD5zYBq3Xr1jc1fv/%2B/frqq6%2B0YsUKl7q/v786dOiguLg4NW3aVK%2B//rqefvpppaSkqEWLFrWaOykpSYmJiS61%2BPh4JSQk3FSP1%2BPv72PaXEBdCwjwq7bOcQ00XjU9LzRUbhOwblZSUpIGDRpUJZitXLnSZXvevHnaunWr9u/fr379%2BtVq7tjYWEVHR7vUbDZf5eUV3l7T%2BvFf%2BP7%2BPrp8uVjl5RW3PR9ghWsfCxzXAMx4jayOVcGtUQYsp9Opf//731qzZo1LvaCgQGvWrNGYMWPUtm1bSVJ5ebmcTqe8vb1rPX9QUFCV04EOR76cTvNeOMrLK0ydD6hLNR27HNdA4%2BVuj333OuFZS0ePHtWVK1f0wAMPuNSbN2%2Buzz//XMuXL1d%2Bfr4KCwu1aNEi/eIXv3C5TgsAAOB6GkXAstvt2rFjR%2BV2VlaWWrZsqWbNmlUZu3btWlVUVKh///6KioqSw%2BHQ%2BvXr5eXlVZctAwCABswtTxEePXrUZfvQoUMu2w8//LAefvjham/btm3bKheoAwAA3IxG8Q4WAABAXSJgAQAAmIyABQAAYDICFgAAgMkIWAAAACYjYAEAAJiMgAUAAGAyAhYAAIDJCFgAAAAmI2ABAACYjIAFAABgMgIWAACAyQhYAAAAJiNgAQAAmIyABQAAYDICFgAAgMkIWAAAACYjYAEAAJiMgAUAAGAyAhYAAIDJCFgAAAAmI2ABAACYjIAFAABgMgIWAACAyQhYAAAAJiNgAQAAmIyABQAAYDICFgAAgMncLmBduHBBAwYMUGpqao1jJk2apK5du8put1d%2B7dmzR5JUXl6u5cuXq1evXrLb7XruueeUk5NTV%2B0DAAA34FYB68CBA4qNjdWZM2euO%2B7rr7/Whg0bdOjQocqvvn37SpLWrVunzz77TFu3btXevXvl7e2tP/zhD3XRPgAAcBNuE7C2b9%2BuWbNmacaMGdcdl5WVpUuXLqlTp07V7n/vvfcUFxene%2B65R82bN9f8%2BfO1Z88eZWVl3Ym2AQCAG7JZ3YBZ%2BvTpo2HDhslms103ZKWnp8vPz08zZsxQenq6AgMDNX78eI0aNUr5%2Bfk6e/asQkNDK8cHBgaqZcuWOnr0qNq1a1erXnJycuRwOFxqNpuvgoKCbm1xP%2BHp2cTlO9AQ2Wyuxy/HNYBrnxcaOrcJWK1bt67VuNLSUoWFhWnGjBkKCQlRamqqpk6dKj8/P9ntdkmSr6%2Bvy228vb1VWFhY616SkpKUmJjoUouPj1dCQkKt57gRf38f0%2BYC6lpAgF%2B1dY5roPGq6XmhoXKbgFVbw4cP1/Dhwyu3%2B/Tpo%2BHDh2vnzp3q1auXJKm4uNjlNiUlJfLzq/0dHxsbq%2BjoaJeazearvLzah7SaeHo2kb%2B/jy5fLlZ5ecVtzwdY4drHAsc1ADNeI6tjVXBrdAErOTlZfn5%2BGjRoUGWttLRUzZo1U8uWLdWmTRtlZmZWniZ0OBy6ePGiy2nDGwkKCqpyOtDhyJfTad4LR3l5hanzAXWppmOX4xpovNztse9eJzxroaCgQIsWLdKRI0dUUVGhTz/9VB9%2B%2BKFiY2MlSSNGjNC6deuUlZWlgoICLV26VD179tS9995rcecAAKChaBTvYNntdi1YsEAxMTEaN26cioqKNGXKFJ0/f17t2rXT8uXLFR4eLunHa6WcTqdGjx6twsJCRURE6LXXXrN4BQAAoCHxMAzDsLqJxsDhyDdlHputiQIC/JSXVyins0KDXvvMlHmBurRzem%2BX7WuP6/qGxxlw5137vGCW1q1b3JF5b6TRnSIEAAC40whYAAAAJiNgAQAAmIyABQAAYDICFgAAgMkIWAAAACYjYAEAAJiMgAUAAGAyAhYAAIDJCFgAAAAmI2ABAACYjIAFAABgMgIWAACAyQhYAAAAJiNgAQAAmIyABQAAYDICFgAAgMkIWAAAACYjYAEAAJiMgAUAAGAyAhYAAIDJCFgAAAAmI2ABAACYjIAFAABgMgIWAACAyQhYAAAAJiNgAQAAmIyABQAAYDK3C1gXLlzQgAEDlJqaWuOYv/3tbxo4cKDsdrsGDhyoLVu2VO6rqKiQ3W5XWFiY7HZ75VdRUVFdtA8AANyAzeoGysvL5enpacpcBw4c0Ny5c3XmzJkax3z00Ud65ZVXtH79et1///06fPiwnnnmGQUGBmrgwIHKzMxUWVmZDh48qKZNm5rSFwAAaFwsfwerb9%2B%2B%2BvOf/6zMzMzbmmf79u2aNWuWZsyYcd1x586dU1xcnMLCwuTh4SG73a6IiAjt27dPkpSenq6OHTsSrgAAwC2zPGBNmTJFBw8e1NChQ/XYY4/pnXfeUX5%2B/k3P06dPH/3rX//S4MGDrztu9OjReuaZZyq3z58/r3379qlLly6SfgxYV65c0ciRIxUZGanRo0fr4MGDN90PAABovCw/RfjEE0/oiSee0KlTp7R9%2B3atX79ey5YtU//%2B/TVy5Ej16tWrVvO0bt36pn%2B2w%2BHQs88%2Bqy5dumjo0KGSJG9vb3Xr1k3Tpk1Ty5YttWXLFk2cOFE7duxQu3btajVvTk6OHA6HS81m81VQUNBN93gtT88mLt%2BBhshmcz1%2BOa4BXPu80NB5GIZhWN3ET5WVlemtt97S2rVrdeXKFd1zzz0aO3asnnrqqVpfq9WxY0e9/fbbioiIqHHM4cOHNW3aNIWHh2vZsmXXPSU4ZMgQPfHEExozZkytfv7q1auVmJjoUouPj1dCQkKtbn8zwuf/j%2BlzAnfa/iUPW93CTeFxBtx5De154UYsfwfrqq%2B%2B%2Bkp///vflZKSotLSUg0YMEAjRozQuXPn9Prrrys9PV2vvPKKKT8rOTlZixcvVkJCgiZMmOCy79VXX9XAgQPVqVOnylppaamaNWtW6/ljY2MVHR3tUrPZfJWXV3h7jevHf%2BH7%2B/vo8uVilZdX3PZ8gBWufSxwXAMw4zWyOgEBfndk3huxPGCtXbtW77//vk6fPq2uXbtqxowZGjp0qJo3b145xtPTUy%2B88IIpP2/Xrl168cUXtW7dOkVFRVXZf%2BzYMe3fv1%2BvvfaaWrZsqb/85S8qKCjQgAEDav0zgoKCqpwOdDjy5XSa98JRXl5h6nxAXarp2OW4Bhovd3vsWx6wNm/erJiYGI0aNUodOnSodkz79u01a9asW/4ZdrtdCxYsUExMjBITE1VeXl7ldN2wYcO0cOFCLVu2TMuXL9cjjzyi4uJide3aVW%2B99ZZatWp1yz8fAAA0LpYHrD179qigoEAXL16srKWkpOjBBx9UQECAJKlTp04up%2Bxu5OjRoy7bhw4dqvzvDz744Lq3bdWqlZYtW1brnwUAAHAtyy/ZP3LkiAYOHKikpKTK2ssvv6xhw4bp2LFjFnYGAABwaywPWH/%2B85/129/%2B1uUDQj/66CP17dtXL730koWdAQAA3BrLA9Y333yjZ555xuVjEjw9PfXMM8/o8OHDFnYGAABwaywPWM2bN6/2bweePXtW3t7eFnQEAABweywPWAMHDtSLL76ozz//XAUFBSosLNSXX36phQsX3tRHIwAAANQXlv8W4cyZM5WVlaUJEybIw8Ojsj5gwAA9//zzFnYGAABwaywPWD4%2BPnrjjTf03Xff6ejRo/Ly8lL79u0VHBxsdWsAAAC3xPKAddV9992n%2B%2B67z%2Bo2AAAAbpvlAeu7777TwoULdeDAAZWVlVXZ/%2B2331rQFQAAwK2zPGC9%2BOKLys7O1qxZs9SiRQur2wEAALhtlgesQ4cO6b//%2B79lt9utbgUAAMAUln9MQ0BAgPz8/KxuAwAAwDSWB6yxY8fqlVdeUX5%2BvtWtAAAAmMLyU4S7d%2B/W4cOHFRERobvuusvlT%2BZI0r///W%2BLOgMAALg1lgesiIgIRUREWN0GAACAaSwPWFOmTLG6BQAAAFNZfg2WJGVkZGjevHn63e9%2Bp3PnzmnLli1KTU21ui0AAIBbYnnA%2Bvrrr/XYY4/p%2B%2B%2B/19dff63S0lJ9%2B%2B23mjBhgj755BOr2wMAALhplgesFStWaMKECdq0aZO8vLwkSYsXL9ZTTz2lxMREi7sDAAC4eZYHrK%2B//lrDhw%2BvUn/iiSd08uRJCzoCAAC4PZYHLC8vLxUUFFSpZ2dny8fHx4KOAAAAbo/lAat///5auXKl8vLyKmsnTpzQkiVL9Jvf/Ma6xgAAAG6R5QFrzpw5KikpUa9evVRcXKwRI0Zo6NChstlsev75561uDwAA4KZZ/jlYzZs31zvvvKMvvvhCR44cUUVFhUJDQxUVFaUmTSzPfwAAADfN8oB11YMPPqgHH3zQ6jYAAABum%2BUBKzo6Wh4eHjXu528RAgCAhsbygPXoo4%2B6BKyysjKdPn1ae/bs0fTp0y3sDAAA4NZYHrCmTp1abX3z5s06cOCAnnrqqTruCAAA4PbU26vI%2B/Xrp927d9/07S5cuKABAwZc928Z7t69W8OGDVNYWJgGDRpU5U/yrF%2B/Xn379lVYWJjGjh3LB54CAICbUm8DVlpampo1a3ZTtzlw4IBiY2N15syZGsecOnVKU6dO1bRp07R//35NnTpV06dP17lz5yRJ27dv16ZNm7Rhwwalpqaqc%2BfOSkhIkGEYt7UeAADQeFh%2BivDaU4CGYaigoEBHjx69qdOD27dv16pVqzR79mzNmDHjuuPCw8PVv39/SdLgwYO1bds2JSUlKSEhQe%2B%2B%2B66efPJJhYSESJJmzpypd999V6mpqYqMjLyFFQIAgMbG8oD185//vMpvEXp5eWncuHEaNmxYrefp06ePhg0bJpvNdt2AlZmZqdDQUJdahw4dlJGRUbk/Li7OpZfg4GBlZGQQsAAAQK1YHrBeeuklU%2BZp3bp1rcYVFhZW%2BRuH3t7eKioqqtX%2B2sjJyZHD4XCp2Wy%2BCgoKqvUcNfH0bOLyHWiIbDbX45fjGsC1zwsNneUBa9%2B%2BfbUe26NHj9v%2BeT4%2BPiopKXGplZSUyM/Pr1b7ayMpKUmJiYkutfj4eCUkJNxi11X5%2B/OHsNFwDVix1%2BoWANQzAQG1f51tCCwPWOPHj5dhGJVfV109bXi15uHhoW%2B//fa2f15oaKi%2B%2BeYbl1pmZqa6dOkiSQoJCdHx48fVr18/ST9%2BLtepU6eqnFa8ntjYWEVHR7vUbDZf5eUV3mb3P/4L39/fR5cvF6u8vOK25wMAoD4w4zWyOlYFN8sD1urVq7Vs2TLNmTNHkZGR8vLy0ldffaUXX3xRTz75ZGXQMUtMTIzeeustpaSk6Le//a3%2B%2Bc9/Ki0tTfPnz5ckjRw5UqtXr1bfvn1133336dVXX1VgYKDCw8Nr/TOCgoKqnA50OPLldJoXiMrLK0ydDwAAK7nba5rlJzyXL1%2BuP/3pT%2Brfv7%2BaN2%2BuZs2aqWfPnlq4cKH%2B%2Bte/qm3btpVft8put2vHjh2SpPbt22vNmjV644031KNHD61du1arV6/WfffdJ0kaNWqUxo8fr/j4eEVGRurIkSN644035OXlZcp6AQCA%2B7P8HaycnBzdc889VerNmzdXXl7eLc159OhRl%2B1Dhw65bEdFRSkqKqra23p4eGjChAmaMGHCLf1sAAAAy9/BCgsL0yuvvKKCgoLK2sWLF/Xyyy/rwQcftLAzAACAW2P5O1h/%2BMMfNG7cOPXt21fBwcGSpO%2B%2B%2B06tW7fW22%2B/bW1zAAAAt8DygNW%2BfXulpKTogw8%2B0IkTJyRJTz75pIYMGVLl86gAAAAaAssDliT5%2B/vrscce0/fff6927dpJEheVAwCABsvya7AMw9CKFSvUo0cPDR06VGfPntWcOXM0b948lZWVWd0eAADATbM8YG3atEnvv/%2B%2B/vSnP6lp06aSpP79%2B%2Bvjjz/W66%2B/bnF3AAAAN8/ygJWUlKQXXnhBI0aMqPz09sGDB2vJkiX6xz/%2BYXF3AAAAN8/ygPX999/r17/%2BdZV6x44dlZuba0FHAAAAt8fygNW2bVv95z//qVLfvXt35QXvAAAADYnlv0U4ceJELViwQOfOnZNhGPriiy/0zjvvaNOmTZo3b57V7QEAANw0ywPWyJEj5XQ6tW7dOpWUlOiFF17QXXfdpRkzZuiJJ56wuj0AAICbZnnA2rFjhx5%2B%2BGHFxsbqwoULMgxDd911l9VtAQAA3DLLr8FavHhx5cXsP/vZzwhXAACgwbM8YAUHB%2Bvo0aNWtwEAAGAay08RhoSEaNasWXrzzTcVHBysZs2auexftmyZRZ0BAADcGssD1pkzZ9S9e3dJksPhsLgbAACA22dJwFq2bJmmTZsmX19fbdq0yYoWAAAA7hhLrsF6%2B%2B23VVxc7FKbOHGicnJyrGgHAADAVJYELMMwqtQOHjyoK1euWNANAACAuSz/LUIAAAB3Q8ACAAAwmWUBy8PDw6ofDQAAcEdZ9jENixcvdvnMq7KyMr388svy8/NzGcfnYAEAgIbGkoDVo0ePKp95ZbfblZeXp7y8PCtaAgAAMI0lAYvPvgIAAO6Mi9wBAABMRsACAAAwGQELAADAZJb/sWeznD9/Xn/84x%2BVlpYmT09PxcTEaM6cObLZXJc4adIkHThwwKVWVFSk2NhYLVy4ULm5uerdu7d8fX0r9wcEBOjjjz%2Buk3UAAICGz20C1vTp09WmTRvt3btXubm5eu6557Rx40ZNmjTJZdybb77psp2cnKzExERNmTJFkpSenq62bdsSqAAAwC1zi1OEp0%2BfVlpammbPni0fHx%2B1a9dOkydP1pYtW657u5MnT2rRokVasWKFgoKCJP0YsLp06VIXbQMAADflFgHr%2BPHjatWqldq0aVNZa9%2B%2BvbKzs3X58uUab7dgwQINHz5c4eHhlbX09HSdPXtWQ4cOVWRkpOLi4pSZmXlH%2BwcAAO7FLU4RFhYWysfHx6V2dbuoqEj%2B/v5VbrN//3599dVXWrFihUvd399fHTp0UFxcnJo2barXX39dTz/9tFJSUtSiRYta9ZOTk1Plg1RtNt/Kd8luh6dnE5fvAAC4A5vNvV7X3CJg%2Bfr6qri42KV2dfvaP71zVVJSkgYNGqTWrVu71FeuXOmyPW/ePG3dulX79%2B9Xv379atVPUlKSEhMTXWrx8fFKSEio1e1rw9/f58aDAABoIAICqn%2B9bqjcImCFhITo4sWLys3NVWBgoCTpxIkTuvvuu6t918npdOrf//631qxZ41IvKCjQmjVrNGbMGLVt21aSVF5eLqfTKW9v71r3Exsbq%2BjoaJeazearvLzCm11aFZ6eTeTv76PLl4tVXl5x2/MBAFAfmPEaWR2rgptbBKzg4GB1795dS5cu1cKFC5WXl6e1a9dq1KhR1Y4/evSorly5ogceeMCl3rx5c33%2B%2Bef64YcftGTJEjVp0kTLly/XL37xC5frtG4kKCioyulAhyNfTqd5gai8vMLU%2BQAAsJK7vaa5zQnPVatWyel06qGHHtLjjz%2BuqKgoTZ48WdKPf0h6x44dlWOzsrLUsmVLNWvWrMo8a9euVUVFhfr376%2BoqCg5HA6tX79eXl5edbYWAADQsHkYhmFY3URj4HDkmzKPzdZEAQF%2ByssrlNNZoUGvfWbKvAAAWGnn9N53ZN7WrWv3C2pmc5t3sAAAAOoLAhYAAIDJCFgAAAAmI2ABAACYjIAFAABgMgIWAACAyQhYAAAAJiNgAQAAmIyABQAAYDICFgAAgMkIWAAAACYjYAEAAJiMgAUAAGAyAhYAAIDJCFgAAAAmI2ABAACYjIAFAABgMgIWAACAyQhYAAAAJiNgAQAAmIyABQAAYDICFgAAgMkIWAAAACYjYAEAAJiMgAUAAGAyAhYAAIDJCFgAAAAmI2ABAACYzG0C1vnz5zV58mSFh4crIiJCS5YskdPprHbspEmT1LVrV9nt9sqvPXv2SJLKy8u1fPly9erVS3a7Xc8995xycnLqcikAAKCBc5uANX36dPn6%2Bmrv3r1KTk7WF198oY0bN1Y79uuvv9aGDRt06NChyq%2B%2BfftKktatW6fPPvtMW7du1d69e%2BXt7a0//OEPdbgSAADQ0LlFwDp9%2BrTS0tI0e/Zs%2Bfj4qF27dpo8ebK2bNlSZWxWVpYuXbqkTp06VTvXe%2B%2B9p7i4ON1zzz1q3ry55s%2Bfrz179igrK%2BtOLwMAALgJtwhYx48fV6tWrdSmTZvKWvv27ZWdna3Lly%2B7jE1PT5efn59mzJihyMhIDR06VMnJyZKk/Px8nT17VqGhoZXjAwMD1bJlSx09erRuFgMAABo8m9UNmKGwsFA%2BPj4utavbRUVF8vf3r6yXlpYqLCxMM2bMUEhIiFJTUzV16lT5%2BfnJbrdLknx9fV3m8vb2VmFhYa37ycnJkcPhcKnZbL4KCgq6qXVVx9Ozict3AADcgc3mXq9rbhGwfH19VVxc7FK7uu3n5%2BdSHz58uIYPH1653adPHw0fPlw7d%2B5Ur169XG57VUlJSZV5ricpKUmJiYkutfj4eCUkJNR6jhvx9/e58SAAABqIgIDav842BG4RsEJCQnTx4kXl5uYqMDBQknTixAndfffdatGihcvY5ORTU9SBAAAWMklEQVRk%2Bfn5adCgQZW10tJSNWvWTC1btlSbNm2UmZlZeZrQ4XDo4sWLLqcNbyQ2NlbR0dEuNZvNV3l5tX8XrCaenk3k7%2B%2Bjy5eLVV5ecdvzAQBQH5jxGlkdq4KbWwSs4OBgde/eXUuXLtXChQuVl5entWvXatSoUVXGFhQU6JVXXtF//dd/6Ve/%2BpX27NmjDz/8UBs2bJAkjRgxQuvWrVPXrl0VEBCgpUuXqmfPnrr33ntr3U9QUFCV04EOR76cTvMCUXl5hanzAQBgJXd7TXOLgCVJq1at0sKFC/XQQw%2BpSZMmGj58uCZPnixJstvtWrBggWJiYjRu3DgVFRVpypQpOn/%2BvNq1a6fly5crPDxc0o%2Bn8pxOp0aPHq3CwkJFRETotddes3JpAACggfEwDMOwuonGwOHIN2Uem62JAgL8lJdXKKezQoNe%2B8yUeQEAsNLO6b3vyLytW7e48aA7wL0u2QcAAKgHCFgAAAAmI2ABAACYjIAFAABgMgIWAACAyQhYAAAAJiNgAQAAmIyABQAAYDICFgAAgMkIWAAAACYjYAEAAJiMgAUAAGAyAhYAAIDJCFgAAAAmI2ABAACYjIAFAABgMgIWAACAyQhYAAAAJiNgAQAAmIyABQAAYDICFgAAgMkIWAAAACYjYAEAAJiMgAUAAGAyAhYAAIDJCFgAAAAmI2ABAACYjIAFAABgMpvVDZjl/Pnz%2BuMf/6i0tDR5enoqJiZGc%2BbMkc1WdYl/%2B9vftHHjRuXk5CgoKEhPPfWURo8eLUmqqKhQ9%2B7dZRiGPDw8Km/z2WefydfXt87WAwAAGi63CVjTp09XmzZttHfvXuXm5uq5557Txo0bNWnSJJdxH330kV555RWtX79e999/vw4fPqxnnnlGgYGBGjhwoDIzM1VWVqaDBw%2BqadOmFq0GAAA0ZG5xivD06dNKS0vT7Nmz5ePjo3bt2mny5MnasmVLlbHnzp1TXFycwsLC5OHhIbvdroiICO3bt0%2BSlJ6ero4dOxKuAADALXOLgHX8%2BHG1atVKbdq0qay1b99e2dnZunz5ssvY0aNH65lnnqncPn/%2BvPbt26cuXbpI%2BjFgXblyRSNHjlRkZKRGjx6tgwcP1s1CAACAW3CLU4SFhYXy8fFxqV3dLioqkr%2B/f7W3czgcevbZZ9WlSxcNHTpUkuTt7a1u3bpp2rRpatmypbZs2aKJEydqx44dateuXa36ycnJkcPhcKnZbL4KCgq62aVV4enZxOU7AADuwGZzr9c1twhYvr6%2BKi4udqld3fbz86v2NocPH9a0adMUHh6uZcuWVV4MP3fuXJdxEydO1LZt27R7926NGTOmVv0kJSUpMTHRpRYfH6%2BEhIRa3b42/P19bjwIAIAGIiCg%2BtfrhsotAlZISIguXryo3NxcBQYGSpJOnDihu%2B%2B%2BWy1atKgyPjk5WYsXL1ZCQoImTJjgsu/VV1/VwIED1alTp8paaWmpmjVrVut%2BYmNjFR0d7VKz2XyVl1d4M8uqlqdnE/n7%2B%2Bjy5WKVl1fc9nwAANQHZrxGVseq4OYWASs4OFjdu3fX0qVLtXDhQuXl5Wnt2rUaNWpUlbG7du3Siy%2B%2BqHXr1ikqKqrK/mPHjmn//v167bXX1LJlS/3lL39RQUGBBgwYUOt%2BgoKCqpwOdDjy5XSaF4jKyytMnQ8AACu522ua25zwXLVqlZxOpx566CE9/vjjioqK0uTJkyVJdrtdO3bskCQlJiaqvLxcCQkJstvtlV8vvPCCJGnZsmW699579cgjjygiIkJpaWl666231KpVK8vWBgAAGhYPwzAMq5toDByOfFPmsdmaKCDAT3l5hXI6KzTotc9MmRcAACvtnN77jszbunXVS4Xqgtu8gwUAAFBfELAAAABMRsACAAAwGQELAADAZAQsAAAAkxGwAAAATEbAAgAAMBkBCwAAwGQELAAAAJMRsAAAAExGwAIAADAZAQsAAMBkBCwAAACTEbAAAABMRsACAAAwGQELAADAZAQsAAAAkxGwAAAATEbAAgAAMBkBCwAAwGQELAAAAJMRsAAAAExGwAIAADAZAQsAAMBkBCwAAACTEbAAAABMRsACAAAwGQELAADAZG4TsM6fP6/JkycrPDxcERERWrJkiZxOZ7Vjd%2B/erWHDhiksLEyDBg3SJ5984rJ//fr16tu3r8LCwjR27FidPHmyLpYAAADchNsErOnTp8vX11d79%2B5VcnKyvvjiC23cuLHKuFOnTmnq1KmaNm2a9u/fr6lTp2r69Ok6d%2B6cJGn79u3atGmTNmzYoNTUVHXu3FkJCQkyDKOOVwQAABoqtwhYp0%2BfVlpammbPni0fHx%2B1a9dOkydP1pYtW6qM3b59u8LDw9W/f3/ZbDYNHjxYPXr0UFJSkiTp3Xff1ZNPPqmQkBA1a9ZMM2fOVHZ2tlJTU%2Bt6WQAAoIFyi4B1/PhxtWrVSm3atKmstW/fXtnZ2bp8%2BbLL2MzMTIWGhrrUOnTooIyMjGr3e3l5KTg4uHI/AADAjdisbsAMhYWF8vHxcald3S4qKpK/v/91x3p7e6uoqKhW%2B2sjJydHDofDpWaz%2BSooKKjWc9TE07OJy3cAANyBzeZer2tuEbB8fX1VXFzsUru67efn51L38fFRSUmJS62kpKRy3I3210ZSUpISExNdalOmTNHUqVNrPUdNcnJy9N///aZiY2MVFBSk/Usevu0567ucnBwlJSVVrrkxaGxrbmzrlRrfmhvbeiXW3FjWXBO3iIshISG6ePGicnNzK2snTpzQ3XffrRYtWriMDQ0N1fHjx11qmZmZCgkJqZzrp/vLysp06tSpKqcVryc2Nlbbtm1z%2BYqNjb2VpVXhcDiUmJhY5R0yd8aa3V9jW6/U%2BNbc2NYrsebGzi0CVnBwsLp3766lS5eqoKBAWVlZWrt2rUaNGlVlbExMjNLS0pSSkiKn06mUlBSlpaXpkUcekSSNHDlSmzdvVkZGhq5cuaKVK1cqMDBQ4eHhte4nKChInTt3dvlq7EkeAIDGxC0CliStWrVKTqdTDz30kB5//HFFRUVp8uTJkiS73a4dO3ZI%2BvHi9zVr1uiNN95Qjx49tHbtWq1evVr33XefJGnUqFEaP3684uPjFRkZqSNHjuiNN96Ql5eXZWsDAAANi1tcgyVJgYGBWrVqVbX7Dh065LIdFRWlqKioasd6eHhowoQJmjBhguk9AgCAxsHzxRdffNHqJnBz/Pz81LNnz5u68L6hY83ur7GtV2p8a25s65VYc2PmYfAR5QAAAKZym2uwAAAA6gsCFgAAgMkIWAAAACYjYAEAAJiMgAUAAGAyAhYAAIDJCFgAAAAmI2ABAACYjIBVD50/f16TJ09WeHi4IiIitGTJEjmdzmrH7t69W8OGDVNYWJgGDRqkTz75pI67NUdGRoaefvpp9ezZU71799bzzz%2BvCxcuVDt20qRJ6tq1q%2Bx2e%2BXXnj176rjj25eSkqJOnTq5rGP27NnVjt2%2BfbsGDBigsLAwjRgxosqff6rvduzY4bJOu92uLl26qEuXLtWOHzRokO6//36X8SdOnKjjrm/dhQsXNGDAAKWmplbWvvrqKz322GOy2%2B2Kjo7We%2B%2B9d9051q9fr759%2ByosLExjx47VyZMn73Tbt6y69e7atUuPPPKIHnjgAUVHRysxMVEVFRXV3r6iokJ2u11hYWEu93lRUVFdLeGmVbfmP/3pT%2BrSpYvLGpKSkqq9fXl5uZYvX65evXrJbrfrueeeU05OTl21f0uuXfMLL7xQ5XH961//WhMnTqz29rm5uerYsaPL%2BOjo6LpcQt0yUO%2BMGTPGmDlzplFUVGScOXPGGDJkiLF%2B/foq47777juja9euxr/%2B9S%2BjrKzM%2BMc//mF069bNOHv2rAVd37ri4mKjd%2B/exuuvv25cuXLFuHDhghEXF2c8%2B%2Byz1Y6PiIgwUlNT67hL87300kvG3Llzbzjuyy%2B/NOx2u7F//36jtLTUeOutt4yIiAijqKioDrq8M86ePWv07t3b%2BPvf/15lX35%2BvtGxY0fj%2B%2B%2B/t6Cz27d//36jf//%2BRmhoqPHll18ahmEYFy9eNHr27Gls3rzZKCsrMz7//HPDbrcbX331VbVzbNu2zYiKijKOHTtmlJSUGMuWLTOGDBliVFRU1OVSaqW69aanpxvdunUzPv74Y6O8vNzIzMw0%2BvXrZ2zYsKHaOY4ePWp07tzZuHLlSl22fsuqW7NhGMajjz5qbNu2rVZzrF692hg2bJiRnZ1t5OfnG9OnTzfi4uLuVMu3raY1/9TevXuNnj17GseOHat2/8cff2z069fvTrZZr/AOVj1z%2BvRppaWlafbs2fLx8VG7du00efJkbdmypcrY7du3Kzw8XP3795fNZtPgwYPVo0ePGv/FVF9lZ2frV7/6leLj49W0aVMFBAQoNjZW%2B/btqzI2KytLly5dUqdOnSzo1Fzp6ek1voPzU%2B%2B9956GDBmi7t27y8vLS%2BPHj1dAQIBSUlLqoEvzGYah2bNn6ze/%2BY0eeeSRKvu//vprtWrVSm3btrWgu9uzfft2zZo1SzNmzHCp//Of/1SrVq00evRo2Ww2Pfjggxo2bFi1j2tJevfdd/Xkk08qJCREzZo108yZM5Wdne3ybkl9UNN6f/jhB/3ud79Tv3791KRJE7Vv314DBgyo9jEt/fhY6Nixo5o2bVoXbd%2BWmtZcWlqqY8eO1eoxLf34uI6Li9M999yj5s2ba/78%2BdqzZ4%2BysrLuRNu3paY1/9SFCxc0a9YszZ8/XyEhIdWOqe1znrsgYNUzx48fV6tWrdSmTZvKWvv27ZWdna3Lly%2B7jM3MzFRoaKhLrUOHDsrIyKiTXs3yy1/%2BUm%2B%2B%2BaY8PT0ra7t27VLnzp2rjE1PT5efn59mzJihyMhIDR06VMnJyXXZrikqKir0zTff6NNPP1W/fv3Ut29f/fGPf9SlS5eqjHWX%2B/mq999/X5mZmZo7d261%2B9PT0%2BXj46MxY8YoIiJCI0aMaDCnvvv06aN//etfGjx4sEv9%2BPHjN3UfXnufe3l5KTg4uN7d5zWtd%2BDAgZo3b17ldklJiT799NNqH9PSj/f5lStXNHLkSEVGRmr06NE6ePDgHe39VtW05oyMDDmdTq1atUq9evXSwIED9Ze//KXa06L5%2Bfk6e/asy30cGBioli1b6ujRo3d8DTerpjX/1IoVK9SlSxfFxMTUOCY9PV1nz57V0KFDFRkZqbi4OGVmZt6JlusFAlY9U1hYKB8fH5fa1e1rr0eobqy3t3e9vm7hRgzD0KuvvqpPPvlE8%2BfPr7K/tLRUYWFhmjFjhvbu3au5c%2BdqyZIl2rlzpwXd3roLFy6oU6dOGjhwoFJSUvTOO%2B/o1KlT1V6D5U73c0VFhdatW6ff//73at68ebVjPDw81LVrVy1evFh79%2B7V%2BPHjNXXqVB0%2BfLiOu715rVu3ls1mq1K/2fuwodznNa33pwoKChQfHy9vb2%2BNHz%2B%2B2jHe3t7q1q2b1q5dq08//VTR0dGaOHFivXw3p6Y15%2Bfnq2fPnho7dqx2796tl19%2BWZs2bdJf//rXKmMLCwslSb6%2Bvi51b2/vyn31yY3u56ysLO3YsUMzZ8687jz%2B/v7q3r273n77bX300UcKDg7W008/rfz8fLNbrheu/8hAnfP19VVxcbFL7eq2n5%2BfS93Hx0clJSUutZKSkirjGoqCggLNmzdP33zzjTZv3qyOHTtWGTN8%2BHANHz68crtPnz4aPny4du7cqUGDBtVlu7clMDDQ5fSQj4%2BPZs%2Berccff1wFBQUu4aOm%2BzkgIKDO%2BjVLamqqcnJyNGrUqBrHTJo0yWU7JiZGH374oXbt2qWwsLA73eId4ePjU%2BVF5HqPVXd5bJ88eVIJCQm666679Pbbb9cYqq99N3PixInatm2bdu/erTFjxtRFq7etd%2B/e6t27d%2BV2t27dNG7cOKWkpFQ5pq%2BG52uf6xvifSxJW7durbzA/XpWrlzpsj1v3jxt3bpV%2B/fvV79%2B/e5ki5bgHax6JiQkRBcvXlRubm5l7cSJE7r77rvVokULl7GhoaE6fvy4Sy0zM7PG89/12ZkzZzRy5EgVFBQoOTm52nAlScnJyVXerSotLVWzZs3qok3TZGRkaMWKFTIMo7JWWlqqJk2aVLkOJSQkxG3u5127dmnAgAFV/uX%2BUxs2bNAXX3zhUmuI9/FP3exj9dr7vKysTKdOnapymrE%2B2717tx577DFFRUVpw4YNatmyZY1jX331VR05csSl1tDu848%2B%2BkjvvPOOS620tFTe3t5VxrZs2VJt2rRxOT3mcDh08eLFBnUfX/XPf/6z2uspf6qgoEDLly/XDz/8UFkrLy%2BX0%2Bms9v%2BROyBg1TPBwcHq3r27li5dqoKCAmVlZWnt2rXV/os/JiZGaWlpSklJkdPpVEpKitLS0m54oNc3ly5d0rhx4/TAAw9ow4YN%2BtnPflbj2IKCAi1atEhHjhxRRUWFPv30U3344YeKjY2tw45vX6tWrbRlyxa9%2Beabcjqdys7O1ssvv6xHH320SsAaNWqUPvjgA3355ZcqKyvTxo0bdf78eQ0YMMCi7m/dgQMH1KNHj%2BuO%2Bb//%2Bz8tWLBAWVlZcjqdSk5O1qFDh/Too4/WUZfmGzBggHJzc7Vx40aVlZXpyy%2B/1AcffKCRI0dWO37kyJHavHmzMjIydOXKFa1cuVKBgYEKDw%2Bv485vzeHDhxUfH6958%2BZpzpw5NzyNeOzYMS1ZskQOh0OlpaVKTExUQUFBgzrGDcPQsmXL9MUXX8gwDB06dEhvv/12jc9NI0aM0Lp165SVlaWCggItXbpUPXv21L333lvHnd%2BevLw8nThx4oaP6%2BbNm%2Bvzzz/X8uXLlZ%2Bfr8LCQi1atEi/%2BMUvGsxxfdMs/R1GVMvhcBhTp041evbsaURGRhovvfSS4XQ6DcMwjLCwMOP999%2BvHLtnzx4jJibGCAsLM4YMGWJ8%2BumnVrV9y/76178aoaGhxv3332%2BEhYW5fBmG65orKiqMNWvWGP369TO6detmDBkyxNi5c6eV7d%2By1NRUIzY21rDb7UZkZKSxaNEio6SkxPjhhx%2BMsLAwY9%2B%2BfZVj//73vxsDBw40wsLCjFGjRhmHDx%2B2sPNbFxYWVuUYvXa9V65cMZYsWWL06dPHuP/%2B%2B42RI0fW%2BGvh9dm1v87%2Bn//8p/L%2Bfuihh4ytW7dW7tu3b58RFhZm/PDDD4Zh/Hicb9iwwYiOjjbCwsKMsWPHGidPnqzzNdyMn6732WefNTp27Fjl8Txx4kTDMKquNy8vz5g7d67x4IMPVq7322%2B/tWwttXXtffy3v/3N%2BO1vf2vcf//9xkMPPWRs3ry5ct/7779f%2BZxmGIZRWlpqvPzyy0ZUVJTxwAMPGM8995yRm5tbp/3fiuqO69DQUKO4uLjK2GvX/P333xvx8fFGz549Dbvdbvz%2B979vsB/HUhsehvGTcxQAAAC4bZwiBAAAMBkBCwAAwGQELAAAAJMRsAAAAExGwAIAADAZAQsAAMBkBCwAAACTEbAAAABMRsACAAAwGQELAADAZAQsAAAAkxGwAAAATEbAAgAAMBkBCwAAwGQELAAAAJP9f2%2ByPkr/TyQFAAAAAElFTkSuQmCC\">\n",
       "    </div>\n",
       "</div>\n",
       "</div><div class=\"row variablerow\">\n",
       "    <div class=\"col-md-3 namecol\">\n",
       "        <p class=\"h4\">lastName<br/>\n",
       "            <small>Categorical, Unique</small>\n",
       "        </p>\n",
       "    </div> <div class=\"col-md-3 collapse in\" id=\"minivalues5774885502032911726\"><table border=\"1\" class=\"dataframe example_values\">\n",
       "  <thead>\n",
       "    <tr style=\"text-align: right;\">\n",
       "      <th>First 3 values</th>\n",
       "    </tr>\n",
       "  </thead>\n",
       "  <tbody>\n",
       "    <tr>\n",
       "      <td>Ampère</td>\n",
       "    </tr>\n",
       "    <tr>\n",
       "      <td>GALiLEI</td>\n",
       "    </tr>\n",
       "    <tr>\n",
       "      <td>Hoy&amp;&amp;&amp;le</td>\n",
       "    </tr>\n",
       "  </tbody>\n",
       "</table></div>\n",
       "<div class=\"col-md-6 collapse in\" id=\"minivalues5774885502032911726\"><table border=\"1\" class=\"dataframe example_values\">\n",
       "  <thead>\n",
       "    <tr style=\"text-align: right;\">\n",
       "      <th>Last 3 values</th>\n",
       "    </tr>\n",
       "  </thead>\n",
       "  <tbody>\n",
       "    <tr>\n",
       "      <td>Hertz</td>\n",
       "    </tr>\n",
       "    <tr>\n",
       "      <td>Chadwick</td>\n",
       "    </tr>\n",
       "    <tr>\n",
       "      <td>Newton</td>\n",
       "    </tr>\n",
       "  </tbody>\n",
       "</table></div>\n",
       "<div class=\"col-md-12 text-right\">\n",
       "    <a role=\"button\" data-toggle=\"collapse\" data-target=\"#values5774885502032911726,#minivalues5774885502032911726\" aria-expanded=\"false\"\n",
       "       aria-controls=\"collapseExample\">\n",
       "        Toggle details\n",
       "    </a>\n",
       "</div>\n",
       "<div class=\"col-md-12 collapse\" id=\"values5774885502032911726\">\n",
       "    <p class=\"h4\">First 20 values</p>\n",
       "    <table border=\"1\" class=\"dataframe sample table table-hover\">\n",
       "  <tbody>\n",
       "    <tr>\n",
       "      <th>1</th>\n",
       "      <td>Ampère</td>\n",
       "    </tr>\n",
       "    <tr>\n",
       "      <th>2</th>\n",
       "      <td>GALiLEI</td>\n",
       "    </tr>\n",
       "    <tr>\n",
       "      <th>3</th>\n",
       "      <td>Hoy&amp;&amp;&amp;le</td>\n",
       "    </tr>\n",
       "    <tr>\n",
       "      <th>4</th>\n",
       "      <td>KEPLER</td>\n",
       "    </tr>\n",
       "    <tr>\n",
       "      <th>5</th>\n",
       "      <td>M$$ax%%well</td>\n",
       "    </tr>\n",
       "    <tr>\n",
       "      <th>6</th>\n",
       "      <td>Planck!!!</td>\n",
       "    </tr>\n",
       "    <tr>\n",
       "      <th>7</th>\n",
       "      <td>COM%%%pton</td>\n",
       "    </tr>\n",
       "    <tr>\n",
       "      <th>8</th>\n",
       "      <td>Nöether$</td>\n",
       "    </tr>\n",
       "    <tr>\n",
       "      <th>9</th>\n",
       "      <td>H$$$ilbert</td>\n",
       "    </tr>\n",
       "    <tr>\n",
       "      <th>10</th>\n",
       "      <td>Alvarez$$%!</td>\n",
       "    </tr>\n",
       "    <tr>\n",
       "      <th>11</th>\n",
       "      <td>CURIE</td>\n",
       "    </tr>\n",
       "    <tr>\n",
       "      <th>12</th>\n",
       "      <td>Gilbert###</td>\n",
       "    </tr>\n",
       "    <tr>\n",
       "      <th>13</th>\n",
       "      <td>dirac$</td>\n",
       "    </tr>\n",
       "    <tr>\n",
       "      <th>14</th>\n",
       "      <td>Böhr//((%%</td>\n",
       "    </tr>\n",
       "    <tr>\n",
       "      <th>15</th>\n",
       "      <td>Einstein</td>\n",
       "    </tr>\n",
       "    <tr>\n",
       "      <th>16</th>\n",
       "      <td>Ga%%%uss</td>\n",
       "    </tr>\n",
       "    <tr>\n",
       "      <th>17</th>\n",
       "      <td>Hertz</td>\n",
       "    </tr>\n",
       "    <tr>\n",
       "      <th>18</th>\n",
       "      <td>Chadwick</td>\n",
       "    </tr>\n",
       "    <tr>\n",
       "      <th>19</th>\n",
       "      <td>Newton</td>\n",
       "    </tr>\n",
       "  </tbody>\n",
       "</table>\n",
       "    <p class=\"h4\">Last 20 values</p>\n",
       "    \n",
       "</div>\n",
       "</div><div class=\"row variablerow\">\n",
       "    <div class=\"col-md-3 namecol\">\n",
       "        <p class=\"h4\">price<br/>\n",
       "            <small>Numeric</small>\n",
       "        </p>\n",
       "    </div> <div class=\"col-md-6\">\n",
       "    <div class=\"row\">\n",
       "        <div class=\"col-sm-6\">\n",
       "            <table class=\"stats \">\n",
       "                <tr>\n",
       "                    <th>Distinct count</th>\n",
       "                    <td>8</td>\n",
       "                </tr>\n",
       "                <tr>\n",
       "                    <th>Unique (%)</th>\n",
       "                    <td>42.1%</td>\n",
       "                </tr>\n",
       "                <tr class=\"ignore\">\n",
       "                    <th>Missing (%)</th>\n",
       "                    <td>0.0%</td>\n",
       "                </tr>\n",
       "                <tr class=\"ignore\">\n",
       "                    <th>Missing (n)</th>\n",
       "                    <td>0</td>\n",
       "                </tr>\n",
       "                <tr class=\"ignore\">\n",
       "                    <th>Infinite (%)</th>\n",
       "                    <td>0.0%</td>\n",
       "                </tr>\n",
       "                <tr class=\"ignore\">\n",
       "                    <th>Infinite (n)</th>\n",
       "                    <td>0</td>\n",
       "                </tr>\n",
       "            </table>\n",
       "\n",
       "        </div>\n",
       "        <div class=\"col-sm-6\">\n",
       "            <table class=\"stats \">\n",
       "\n",
       "                <tr>\n",
       "                    <th>Mean</th>\n",
       "                    <td>6.0526</td>\n",
       "                </tr>\n",
       "                <tr>\n",
       "                    <th>Minimum</th>\n",
       "                    <td>1</td>\n",
       "                </tr>\n",
       "                <tr>\n",
       "                    <th>Maximum</th>\n",
       "                    <td>10</td>\n",
       "                </tr>\n",
       "                <tr class=\"ignore\">\n",
       "                    <th>Zeros (%)</th>\n",
       "                    <td>0.0%</td>\n",
       "                </tr>\n",
       "            </table>\n",
       "        </div>\n",
       "    </div>\n",
       "</div>\n",
       "<div class=\"col-md-3 collapse in\" id=\"minihistogram-6172455909322380017\">\n",
       "    <img src=\"data:image/png;base64,iVBORw0KGgoAAAANSUhEUgAAAMgAAABLCAYAAAA1fMjoAAAABHNCSVQICAgIfAhkiAAAAAlwSFlzAAAPYQAAD2EBqD%2BnaQAAADl0RVh0U29mdHdhcmUAbWF0cGxvdGxpYiB2ZXJzaW9uIDIuMS4wLCBodHRwOi8vbWF0cGxvdGxpYi5vcmcvpW3flQAAAjtJREFUeJzt3SFLJHEcx%2BHfHgu%2Bgl1M%2BhIsl7WJZbLBtyCY5TAeYrLoe9AsyJlspiuK2S2mnWrQoHPtQDi%2B3AmOw/k8bcIy/w0ffrsz898ddV3XFfBHXz56ATBk449eAP37%2Bu3HP7/m5/eNd1jJ8JkgEAgEAoFAIBAIBAKBQCAQCAQCgUAgEAgEAoFAIBAIBAKBQCAQCASfdj%2BIPRH8DRMEAoFAIBAIBAKBQCAQCAQCgUAgEAgEAoFAIBAIBAKBQCAQCASf9nH3PvxPj9S/5b28xdDevwkCgUAgEAgEAoFAIBAIBAKBQDC4%2ByB9XW9/iyGvjfdhgkAgEAgEAoFAIBAIBAKBQCAQjLqu6z56EZDM5/M6PT2tzc3Nmk6nvZ7bBGHw2rato6Ojatu293MLBAKBQCAQCATC4E0mk9re3q7JZNL7uV3FgsAEgUAgEAgEAoFAIBAIBAKBQCAQCIP08PBQTdPU/f19VVVdXV1V0zS1vr5eh4eH1dftO4EwONfX17W1tVWz2ayqqh4fH2t3d7eOj4/r/Py8bm9v6/Lyspe1CITBOTk5qb29vd97P25ubmp5ebmWlpZqPB5X0zR1cXHRy1oG98NxsL%2B//%2Bp4Pp%2B/2ig1nU572xtigjB4Ly8vNRqNfh93Xffq%2BD0JhMFbXFx8NTHatu1t661AGLyVlZW6u7ur2WxWz8/PdXZ2Vqurq72c23cQBm9hYaEODg5qZ2ennp6eam1trTY2%2BvmzT/tBIPARCwKBQCAQCH4Bx%2BCBNxyGyw8AAAAASUVORK5CYII%3D\">\n",
       "\n",
       "</div>\n",
       "<div class=\"col-md-12 text-right\">\n",
       "    <a role=\"button\" data-toggle=\"collapse\" data-target=\"#descriptives-6172455909322380017,#minihistogram-6172455909322380017\"\n",
       "       aria-expanded=\"false\" aria-controls=\"collapseExample\">\n",
       "        Toggle details\n",
       "    </a>\n",
       "</div>\n",
       "<div class=\"row collapse col-md-12\" id=\"descriptives-6172455909322380017\">\n",
       "    <div class=\"col-sm-4\">\n",
       "        <p class=\"h4\">Quantile statistics</p>\n",
       "        <table class=\"stats indent\">\n",
       "            <tr>\n",
       "                <th>Minimum</th>\n",
       "                <td>1</td>\n",
       "            </tr>\n",
       "            <tr>\n",
       "                <th>5-th percentile</th>\n",
       "                <td>1.9</td>\n",
       "            </tr>\n",
       "            <tr>\n",
       "                <th>Q1</th>\n",
       "                <td>3</td>\n",
       "            </tr>\n",
       "            <tr>\n",
       "                <th>Median</th>\n",
       "                <td>8</td>\n",
       "            </tr>\n",
       "            <tr>\n",
       "                <th>Q3</th>\n",
       "                <td>8</td>\n",
       "            </tr>\n",
       "            <tr>\n",
       "                <th>95-th percentile</th>\n",
       "                <td>10</td>\n",
       "            </tr>\n",
       "            <tr>\n",
       "                <th>Maximum</th>\n",
       "                <td>10</td>\n",
       "            </tr>\n",
       "            <tr>\n",
       "                <th>Range</th>\n",
       "                <td>9</td>\n",
       "            </tr>\n",
       "            <tr>\n",
       "                <th>Interquartile range</th>\n",
       "                <td>5</td>\n",
       "            </tr>\n",
       "        </table>\n",
       "        <p class=\"h4\">Descriptive statistics</p>\n",
       "        <table class=\"stats indent\">\n",
       "            <tr>\n",
       "                <th>Standard deviation</th>\n",
       "                <td>2.9528</td>\n",
       "            </tr>\n",
       "            <tr>\n",
       "                <th>Coef of variation</th>\n",
       "                <td>0.48786</td>\n",
       "            </tr>\n",
       "            <tr>\n",
       "                <th>Kurtosis</th>\n",
       "                <td>-1.4482</td>\n",
       "            </tr>\n",
       "            <tr>\n",
       "                <th>Mean</th>\n",
       "                <td>6.0526</td>\n",
       "            </tr>\n",
       "            <tr>\n",
       "                <th>MAD</th>\n",
       "                <td>2.6814</td>\n",
       "            </tr>\n",
       "            <tr class=\"\">\n",
       "                <th>Skewness</th>\n",
       "                <td>-0.22564</td>\n",
       "            </tr>\n",
       "            <tr>\n",
       "                <th>Sum</th>\n",
       "                <td>115</td>\n",
       "            </tr>\n",
       "            <tr>\n",
       "                <th>Variance</th>\n",
       "                <td>8.7193</td>\n",
       "            </tr>\n",
       "            <tr>\n",
       "                <th>Memory size</th>\n",
       "                <td>0.0 B</td>\n",
       "            </tr>\n",
       "        </table>\n",
       "    </div>\n",
       "    <div class=\"col-sm-8 histogram\">\n",
       "        <img src=\"data:image/png;base64,iVBORw0KGgoAAAANSUhEUgAAAlgAAAGQCAYAAAByNR6YAAAABHNCSVQICAgIfAhkiAAAAAlwSFlzAAAPYQAAD2EBqD%2BnaQAAADl0RVh0U29mdHdhcmUAbWF0cGxvdGxpYiB2ZXJzaW9uIDIuMS4wLCBodHRwOi8vbWF0cGxvdGxpYi5vcmcvpW3flQAAHuxJREFUeJzt3XtwleWdwPEfyUkgJE0N1tS14wyteFlbZxblUhB1mwVxurDbqpjVDira2hmirIxcKqh1VUTrbetm2qWlbltwSrqO1OpavJWxdaUqWkGssNZ1pQ5bEk0AiaRAkv2jA7MJqEGf5E3O%2BXxmmIwPyZtfzpMXv7zvyWFQZ2dnZwAAkExR1gMAAOQbgQUAkJjAAgBITGABACQmsAAAEhNYAACJCSwAgMQEFgBAYgILACAxgQUAkJjAAgBITGABACQmsAAAEhNYAACJCSwAgMQEFgBAYgILACAxgQUAkJjAAgBITGABACQmsAAAEhNYAACJCSwAgMQEFgBAYgILACAxgQUAkJjAAgBITGABACQmsAAAEhNYAACJCSwAgMQEFgBAYgILACAxgQUAkJjAAgBITGABACQmsAAAEhNYAACJCSwAgMRyWQ9QKJqa3sl6hIJRVDQohg0rj%2Bbm1ujo6Mx6nIJkD7JnD7JnD7JXVDQoDj%2B8IpvPnclnhV5UVDQoBg0aFEVFg7IepWDZg%2BzZg%2BzZg%2Bxl%2BdgLLACAxAQWAEBiAgsAIDGBBQCQmMACAEhMYAEAJCawAAASE1gAAIkJLACAxATWQWzbti3mzZsXY8eOjdGjR8fMmTOjsbEx67EAgAFCYB3EFVdcEe%2B%2B%2B2489thjsXr16iguLo5rr70267EAgAHCP/bczYYNG2LdunXx9NNPR0XFn/%2BByBtvvDGampoyngwAGCgEVjfr16%2BPESNGxE9/%2BtP4yU9%2BErt27YrTTjst5s%2Bf3%2BNjNDY2HhBkudzQqK6uTj0uB1FcXNTlLX3PHmTPHmTPHmQvy8deYHWzffv22LRpU3zuc5%2BLlStXRltbW8ybNy/mz58fS5Ys6dExGhoaor6%2BvstaXV1dzJo1qzdG5j1UVpZlPULBswfZ6%2B97MGrhqqxHOCRrF511yB/T3/eA3iGwuiktLY2IiIULF8bgwYOjoqIirrzyyjjvvPOitbU1ysvLP/AYtbW1UVNT02UtlxsaLS2tvTIzXRUXF0VlZVns2LEr2ts7sh6nINmD7NmD3nEof47bg%2Bzt24MsCKxuRowYER0dHbFnz54YPHhwRER0dPz5xOjs7OzRMaqrqw%2B4HdjU9E7s3esE60vt7R0e84zZg%2BzZg7Q%2BzGNpDwqTG8PdjB8/Po4%2B%2BuhYsGBBtLa2RnNzc9x1110xceLE/U96BwB4PwKrm5KSkli2bFkUFxfH5MmTY/LkyXHkkUfGzTffnPVoAMAA4RbhQXzyk5%2BMu%2B66K%2BsxAIAByhUsAIDEBBYAQGICCwAgMYEFAJCYwAIASExgAQAkJrAAABITWAAAiQksAIDEBBYAQGICCwAgMYEFAJCYwAIASExgAQAkJrAAABITWAAAiQksAIDEBBYAQGICCwAgMYEFAJCYwAIASExgAQAkJrAAABITWAAAiQksAIDEBBYAQGICCwAgMYEFAJCYwAIASExgAQAkJrAAABITWAAAiQksAIDEBBYAQGICCwAgMYEFAJCYwAIASExgAQAkJrAAABITWAAAiQksAIDEBNZBPPzww3HiiSfGyJEj9/%2BaO3du1mMBAANELusB%2BqOXXnop/v7v/z4WL16c9SgAwADkCtZBvPTSS/G5z30u6zEAgAHKFaxuOjo64uWXX46ysrJYunRptLe3xxlnnBFz5syJj3/84z06RmNjYzQ1NXVZy%2BWGRnV1dW%2BMTDfFxUVd3tL37EH27EHvyOV6/njag%2Bxl%2BdgLrG6am5vjxBNPjMmTJ8fdd98dLS0tMX/%2B/Jg7d25873vf69ExGhoaor6%2BvstaXV1dzJo1qzdG5j1UVpZlPULBswfZswdpVVWVH/LH2IPCNKizs7Mz6yH6u/Xr18d5550Xa9eujYqKig98f1ewslVcXBSVlWWxY8euaG/vyHqcgmQPsjdQ9mDS7b/OeoRD8tic03r8vgNlD/LZvj3IgitY3WzcuDEeeuihuOqqq2LQoEEREbF79%2B4oKiqK0tLSHh2jurr6gJhqanon9u51gvWl9vYOj3nG7EH27EFaH%2BaxtAeFyY3hbg477LC49957Y%2BnSpbF3797YsmVL3HbbbfHlL3%2B5x4EFABQ2gdXNkUceGUuWLIknnngixowZE%2Becc06cdNJJcd1112U9GgAwQLhFeBBjxoyJFStWZD0GADBAuYIFAJCYwAIASExgAQAkJrAAABITWAAAiQksAIDEBBYAQGICCwAgMYEFAJCYwAIASExgAQAkJrAAABITWAAAiQksAIDEBBYAQGICCwAgMYEFAJCYwAIASExgAQAkJrAAABITWAAAiQksAIDEBBYAQGICCwAgMYEFAJCYwAIASExgAQAkJrAAABITWAAAiQksAIDEBBYAQGICCwAgMYEFAJCYwAIASExgAQAkJrAAABITWAAAiQksAIDEBBYAQGICCwAgMYH1Ptrb22P69OnxjW98I%2BtRAIABRGC9j/r6%2Bli7dm3WYwAAA4zAeg9r1qyJRx99NM4888ysRwEABhiBdRBvv/12LFy4MO64444oKyvLehwAYIDJZT1Af9PR0RFz586NGTNmxAknnPChjtHY2BhNTU1d1nK5oVFdXZ1iRD5AcXFRl7f0PXuQPXvQO3K5nj%2Be9iB7WT72AqubJUuWRGlpaUyfPv1DH6OhoSHq6%2Bu7rNXV1cWsWbM%2B6ngcgsrKj3b1cdTCVYkm6RtrF52V9QgH%2BKh7wEdnD9Kqqio/5I%2BxB4VJYHXzwAMPRGNjY4waNSoiItra2iIi4vHHH%2B/xE95ra2ujpqamy1ouNzRaWlrTDstBFRcXRWVlWezYsSva2zuyHqfP9Kfvr0Ldg/7EHvSOQznP7EH29u1BFgRWN6tWdb1qse8lGm655ZYeH6O6uvqA24FNTe/E3r1OsL7U3t5RUI95f/xaC20P%2BiN7kNaHeSztQWFyYxgAIDFXsD7AoVy5AgCIcAULACA5gQUAkJjAAgBITGABACSWV4HV3t6e9QgAAPkVWKeffnp861vfit///vdZjwIAFLC8CqzLL788XnjhhZgyZUpMmzYtVqxYEe%2B8807WYwEABSavAuv888%2BPFStWxKpVq2L8%2BPHx/e9/PyZMmBBXXXVVPP3001mPBwAUiLwKrH2GDx8es2fPjlWrVkVdXV088cQTcemll0ZNTU3827/9m%2BdqAQC9Ki9fyX3dunXxs5/9LB5%2B%2BOHYvXt3TJo0Kc4%2B%2B%2BzYunVrfPvb346XXnop7rzzzqzHBADyVF4F1ne%2B85144IEH4o033oiTTjopZs%2BeHVOmTImKior971NcXBzXXXddhlMCAPkurwJr%2BfLl8Xd/93dx7rnnxogRIw76Psccc0zMmTOnjycDAApJXgXWr371q9i5c2ds27Zt/9rDDz8c48aNi6qqqoiIOPHEE%2BPEE0/MakQAoADk1ZPcf/e738XkyZOjoaFh/9ptt90WU6dOjf/6r//KcDIAoJDkVWB961vfijPPPDNmz569f%2B3xxx%2BP008/PW655ZYMJwMACkleBdbLL78cl112WZSWlu5fKy4ujssuuyxefPHFDCcDAApJXgVWRUVFbN68%2BYD1P/7xjzFkyJAMJgIAClFeBdbkyZPj%2Buuvj6effjp27twZra2t8Zvf/CZuuOGGmDRpUtbjAQAFIq9%2BivCqq66KP/zhD3HJJZfEoEGD9q9PmjQp5s2bl%2BFkAEAhyavAKisriyVLlsTrr78emzZtipKSkjjmmGNi%2BPDhWY8GABSQvAqsfT796U/Hpz/96azHAAAKVF4F1uuvvx433HBDPP/887Fnz54Dfv%2BVV17JYCoAoNDkVWBdf/31sWXLlpgzZ0587GMfy3ocAKBA5VVg/fa3v40f/ehHMXLkyKxHAQAKWF69TENVVVWUl5dnPQYAUODyKrCmT58ed955Z7zzzjtZjwIAFLC8ukX45JNPxosvvhhjx46Nww8/vMs/mRMR8cQTT2Q0GQBQSPIqsMaOHRtjx47NegwAoMDlVWBdfvnlWY8AAJBfz8GKiNi4cWNcffXV8Q//8A%2BxdevWuPfee%2BOZZ57JeiwAoIDkVWBt2LAhpk2bFm%2B%2B%2BWZs2LAhdu/eHa%2B88kpccsklsXr16qzHAwAKRF4F1u233x6XXHJJLFu2LEpKSiIi4qabbooLL7ww6uvrM54OACgUeRVYGzZsiC996UsHrJ9//vnx3//93xlMBAAUorwKrJKSkti5c%2BcB61u2bImysrIMJgIAClFeBdbEiRPjjjvuiJaWlv1rr732WixatCj%2B%2Bq//OrvBAICCkleBNX/%2B/Ghra4vx48fHrl274uyzz44pU6ZELpeLefPmZT0eAFAg8up1sCoqKmLFihWxZs2a%2BN3vfhcdHR1x3HHHxWmnnRZFRXnVkgBAP5ZXgbXPuHHjYty4cVmPAQAUqLwKrJqamhg0aNB7/r5/ixAA6At5FVhf/vKXuwTWnj174o033ohf/epXceWVV2Y4GQBQSPIqsK644oqDri9fvjyef/75uPDCC/t4IgCgEBXEM7%2B/8IUvxJNPPtnj91%2BzZk1MmzYtTj755Dj11FPjxhtvjLa2tl6cEADIJwURWM8%2B%2B2wMHjy4R%2B/b3NwcX//61%2BP888%2BPtWvXxsqVK%2BPZZ5%2BN733ve708JQCQL/LqFmH3W4CdnZ2xc%2BfO2LRpU49vDw4bNiyefvrpqKioiM7Ozti2bVv86U9/imHDhvXGyABAHsqrwDrqqKMO%2BCnCkpKSuOiii2Lq1Kk9Pk5FRUVERJxxxhmxdevWGDVqVJx99tlJZwUA8ldeBdYtt9yS9HiPPvpobN%2B%2BPebMmROzZs2KpUuX9ujjGhsbo6mpqctaLjc0qqurk87HwRUXF3V5Wyhyuf7z9RbqHvQn9qB3HMp5Zg%2Byl%2BVjn1eB9dxzz/X4fUePHv2B7zNkyJAYMmRIzJ07N6ZNmxbbt2%2BPj3/84x/4cQ0NDVFfX99lra6uLmbNmtXj%2BfjoKisL6x/4rqoqz3qEAxTaHvRH9iCtD3Oe2YPClFeBdfHFF0dnZ%2Bf%2BX/vsu224b23QoEHxyiuvHPQYL7zwQixYsCB%2B/vOfR2lpaURE7N69O0pKSqKsrGcnSW1tbdTU1HRZy%2BWGRktL6yF/TRy64uKiqKwsix07dkV7e0fW4/SZ/vT9Vah70J/Yg95xKOeZPcjevj3IQl4F1r/8y7/E4sWLY/78%2BfH5z38%2BSkpKYt26dXH99dfHBRdcEF/4whc%2B8BjHH398tLW1xR133BFXXXVVNDU1xa233hrnnnvu/uD6INXV1QfcDmxqeif27nWC9aX29o6Cesz749daaHvQH9mDtD7MY2kPClNe3Ri%2B9dZb45vf/GZMnDgxKioqYvDgwTFmzJi44YYb4p577olPfepT%2B3%2B9l/Ly8li6dGm8%2Buqrceqpp8b06dNj/PjxsWDBgj78SgCAgSyvrmA1NjbGX/zFXxywXlFRES0tLT0%2BzogRI%2BKee%2B5JORoAUEDy6grWX/3VX8Wdd94ZO3fu3L%2B2bdu2uO2222LcuHEZTgYAFJK8uoJ1zTXXxEUXXRSnn356DB8%2BPCIiXn/99TjiiCPixz/%2BcbbDAQAFI68C65hjjomHH344HnzwwXjttdciIuKCCy6Iv/3bv%2B3xTwACAHxUeRVYERGVlZUxbdq0ePPNN%2BPoo4%2BOiD%2B/mjsAQF/Jq%2BdgdXZ2xu233x6jR4%2BOKVOmxB//%2BMeYP39%2BXH311bFnz56sxwMACkReBdayZcvigQceiG9%2B85v7X7Nq4sSJ8ctf/jK%2B/e1vZzwdAFAo8iqwGhoa4rrrrouzzz57/6u3f/GLX4xFixbFf/zHf2Q8HQBQKPIqsN588834y7/8ywPWjz/%2B%2BHjrrbcymAgAKER5FVif%2BtSnYv369QesP/nkk/uf8A4A0Nvy6qcIL7300vinf/qn2Lp1a3R2dsaaNWtixYoVsWzZsrj66quzHg8AKBB5FVjnnHNO7N27N7773e9GW1tbXHfddXH44YfH7Nmz4/zzz896PACgQORVYP385z%2BPs846K2pra6O5uTk6Ozvj8MMPz3osAKDA5NVzsG666ab9T2YfNmyYuAIAMpFXgTV8%2BPDYtGlT1mMAAAUur24RHnvssTFnzpxYunRpDB8%2BPAYPHtzl9xcvXpzRZABAIcmrwNq8eXOccsopERHR1NSU8TQAQKEa8IG1ePHi%2BMd//McYOnRoLFu2LOtxAAAG/nOwfvzjH8euXbu6rF166aXR2NiY0UQAQKEb8IHV2dl5wNoLL7wQf/rTnzKYBgAgDwILAKC/EVgAAInlRWANGjQo6xEAAPYb8D9FGPHnV3D//695tWfPnrjtttuivLy8y/t5HSwAoC8M%2BMAaPXr0Aa95NXLkyGhpaYmWlpaMpgIACtmADyyvfQUA9Dd58RwsAID%2BRGABACQmsAAAEhNYAACJCSwAgMQEFgBAYgILACAxgQUAkJjAAgBITGABACQmsAAAEhNYAACJCSwAgMQEFgBAYgILACAxgQUAkJjAOoiNGzfGjBkzYsyYMXHqqafGvHnzorm5OeuxAIABQmB109bWFl/96ldj5MiR8dRTT8VDDz0U27ZtiwULFmQ9GgAwQAisbrZs2RInnHBC1NXVRWlpaVRVVUVtbW0899xzWY8GAAwQuawH6G8%2B85nPxNKlS7usPfLII/HZz362x8dobGyMpqamLmu53NCorq5OMiPvr7i4qMvbQpHL9Z%2Bvt1D3oD%2BxB73jUM4ze5C9LB97gfU%2BOjs745//%2BZ9j9erVsXz58h5/XENDQ9TX13dZq6uri1mzZqUekfdRWVmW9Qh9qqqqPOsRDvBeezBq4ao%2BnuSjWbvorKxH%2BNAK7TzobZNu/3XWI%2BStgXyeHYzAeg87d%2B6Mq6%2B%2BOl5%2B%2BeVYvnx5HH/88T3%2B2Nra2qipqemylssNjZaW1tRjchDFxUVRWVkWO3bsivb2jqzH6TP96fsr3/agPz22PZVve0D%2B643zbN95kAWBdRCbN2%2BOr33ta3HUUUfFfffdF8OGDTukj6%2Burj7gdmBT0zuxd68/5PpSe3tHQT3m/fFrzZc9GMhfQ77sAfkv375P3RjuZvv27XHRRRfFySefHD/4wQ8OOa4AAFzB6ub%2B%2B%2B%2BPLVu2xC9%2B8YtYtarr80R%2B%2B9vfZjQVADCQCKxuZsyYETNmzMh6DABgAHOLEAAgMYEFAJCYwAIASExgAQAkJrAAABITWAAAiQksAIDEBBYAQGICCwAgMYEFAJCYwAIASExgAQAkJrAAABITWAAAiQksAIDEBBYAQGICCwAgMYEFAJCYwAIASExgAQAkJrAAABITWAAAiQksAIDEBBYAQGICCwAgMYEFAJCYwAIASExgAQAkJrAAABITWAAAiQksAIDEBBYAQGICCwAgMYEFAJCYwAIASExgAQAkJrAAABITWAAAiQksAIDEBBYAQGICCwAgMYH1Ppqbm2PSpEnxzDPPZD0KADCACKz38Pzzz0dtbW1s3rw561EAgAFGYB3EypUrY86cOTF79uysRwEABqBc1gP0RxMmTIipU6dGLpf7UJHV2NgYTU1NXdZyuaFRXV2dakTeR3FxUZe3hSKX6z9fb77tQX96bHsq3/aA/Ncb51mW3/8C6yCOOOKIj/TxDQ0NUV9f32Wtrq4uZs2a9ZGOezCjFq5KfkwGpkm3/zrrEfJWVVV51iN8aJWVZVmPAD0ykM%2BzgxFYvaC2tjZqamq6rOVyQ6OlpTWjiYCPYiCeu8XFRVFZWRY7duyK9vaOrMeBD9Qb59m%2B8yALAqsXVFdXH3A7sKnpndi71x9yMBAN5HO3vb1jQM9P4ci371M35wEAEhNYAACJuUX4ATZt2pT1CADAAOMKFgBAYgILACAxgQUAkJjAAgBITGABACQmsAAAEhNYAACJCSwAgMQEFgBAYgILACAxgQUAkJjAAgBITGABACQmsAAAEhNYAACJCSwAgMQEFgBAYgILACAxgQUAkJjAAgBITGABACQmsAAAEhNYAACJCSwAgMQEFgBAYgILACAxgQUAkJjAAgBITGABACQmsAAAEhNYAACJCSwAgMQEFgBAYgILACAxgQUAkJjAAgBITGABACQmsAAAEhNYAACJCSwAgMQE1kG8/fbbMXPmzBg1alSMHTs2Fi1aFHv37s16LABggBBYB3HllVfG0KFD49e//nXcd999sWbNmvjhD3%2BY9VgAwAAhsLp544034tlnn425c%2BdGWVlZHH300TFz5sy49957sx4NABggBFY3r776ahx22GHxyU9%2Bcv/aMcccE1u2bIkdO3ZkOBkAMFDksh6gv2ltbY2ysrIua/v%2B%2B913343KysoPPEZjY2M0NTV1WcvlhkZ1dXW6QYE%2Bk8sNvL%2BLFhcXdXkL/V1vnGdZfv8LrG6GDh0au3bt6rK277/Ly8t7dIyGhoaor6/vsnb55ZfHFVdckWbI/2ftorOSH3Oga2xsjIaGhqitrRW1GbEH2WtsbIwf/Whpv9%2BDfP4zzHmQvSzPA3%2B16ebYY4%2BNbdu2xVtvvbV/7bXXXosjjzwyPvaxj/XoGLW1tXH//fd3%2BVVbW9tbI9NNU1NT1NfXH3AVkb5jD7JnD7JnD7KX5R64gtXN8OHD45RTTombb745brjhhmhpaYnvfOc7ce655/b4GNXV1f62AgAFzBWsg7j77rtj79698Td/8zdx3nnnxWmnnRYzZ87MeiwAYIBwBesgPvGJT8Tdd9%2Bd9RgAwABVfP3111%2Bf9RCQWnl5eYwZM6bHP5hAevYge/Yge/Yge1ntwaDOzs7OPv2MAAB5znOwAAASE1gAAIkJLACAxAQWAEBiAgsAIDGBBQCQmMACAEhMYAEAJCawyCsbN26MGTNmxJgxY%2BLUU0%2BNefPmRXNzc9ZjFZz29vaYPn16fOMb38h6lIK0bdu2mDdvXowdOzZGjx4dM2fOjMbGxqzHKigvv/xyfOUrX4lRo0bFhAkT4qabbordu3dnPVZBaG5ujkmTJsUzzzyzf23dunUxbdq0GDlyZNTU1MS///u/9/ocAou80dbWFl/96ldj5MiR8dRTT8VDDz0U27ZtiwULFmQ9WsGpr6%2BPtWvXZj1Gwbriiivi3XffjcceeyxWr14dxcXFce2112Y9VsHo6OiIr3/96zF58uR49tln47777ounnnoqvv/972c9Wt57/vnno7a2NjZv3rx/bfv27XHZZZfFl770pXjuuedi0aJFsXjx4li/fn2vziKwyBtbtmyJE044Ierq6qK0tDSqqqqitrY2nnvuuaxHKyhr1qyJRx99NM4888ysRylIGzZsiHXr1sUtt9wSlZWVUVFRETfeeGPMmTMn69EKxvbt26OpqSk6Ojpi379GV1RUFGVlZRlPlt9WrlwZc%2BbMidmzZ3dZf/TRR%2BOwww6Lr3zlK5HL5WLcuHExderUuPfee3t1HoFF3vjMZz4TS5cujeLi4v1rjzzySHz2s5/NcKrC8vbbb8fChQvjjjvu8D%2BTjKxfvz5GjBgRP/3pT2PSpEkxYcKEuPXWW%2BOII47IerSCUVVVFRdffHHceuutcdJJJ8UZZ5wRw4cPj4svvjjr0fLahAkT4rHHHosvfvGLXdZfffXVOO6447qsjRgxIjZu3Nir8wgs8lJnZ2fcddddsXr16li4cGHW4xSEjo6OmDt3bsyYMSNOOOGErMcpWNu3b49NmzbF//zP/8TKlSvjZz/7WWzdujXmz5%2Bf9WgFo6OjI4YMGRLXXnttvPjii/HQQw/Fa6%2B9FnfffXfWo%2BW1I444InK53AHrra2tB/yFb8iQIfHuu%2B/26jwCi7yzc%2BfOmDVrVjz44IOxfPnyOP7447MeqSAsWbIkSktLY/r06VmPUtBKS0sjImLhwoVRUVERn/jEJ%2BLKK6%2BMJ598MlpbWzOerjA89thj8cgjj8QFF1wQpaWlceyxx0ZdXV385Cc/yXq0glRWVhZtbW1d1tra2qK8vLxXP%2B%2BBqQcD2ObNm%2BNrX/taHHXUUXHffffFsGHDsh6pYDzwwAPR2NgYo0aNiojY/wfa448/7gnvfWjEiBHR0dERe/bsicGDB0fEn6%2BoRMT%2B5wPRu/73f//3gJ8YzOVyUVJSktFEhe24446L//zP/%2Byy9vvf/z6OPfbYXv28rmCRN7Zv3x4XXXRRnHzyyfGDH/xAXPWxVatWxQsvvBBr166NtWvXxpQpU2LKlCniqo%2BNHz8%2Bjj766FiwYEG0trZGc3Nz3HXXXTFx4sSoqKjIeryCMGHChGhqaop//dd/jfb29vjDH/4Q3/3ud2Pq1KlZj1aQJk2aFG%2B99Vb88Ic/jD179sRvfvObePDBB%2BOcc87p1c8rsMgb999/f2zZsiV%2B8YtfxCmnnBIjR47c/wsKRUlJSSxbtiyKi4tj8uTJMXny5DjyyCPj5ptvznq0gjFixIhYsmRJ/PKXv4yxY8fGhRdeGDU1NQf8dBt9o6qqKu65555YtWpVjB07Nq655pq45ppr4vOf/3yvft5Bna4ZAwAk5QoWAEBiAgsAIDGBBQCQmMACAEhMYAEAJCawAAASE1gAAIkJLACAxAQWAEBiAgsAIDGBBQCQmMACAEhMYAEAJCawAAASE1gAAIn9H2LbAGUQnTCiAAAAAElFTkSuQmCC\">\n",
       "    </div>\n",
       "</div>\n",
       "</div><div class=\"row variablerow\">\n",
       "    <div class=\"col-md-3 namecol\">\n",
       "        <p class=\"h4\">product<br/>\n",
       "            <small>Categorical</small>\n",
       "        </p>\n",
       "    </div> <div class=\"col-md-3\">\n",
       "    <table class=\"stats \">\n",
       "        <tr class=\"\">\n",
       "            <th>Distinct count</th>\n",
       "            <td>13</td>\n",
       "        </tr>\n",
       "        <tr>\n",
       "            <th>Unique (%)</th>\n",
       "            <td>68.4%</td>\n",
       "        </tr>\n",
       "        <tr class=\"ignore\">\n",
       "            <th>Missing (%)</th>\n",
       "            <td>0.0%</td>\n",
       "        </tr>\n",
       "        <tr class=\"ignore\">\n",
       "            <th>Missing (n)</th>\n",
       "            <td>0</td>\n",
       "        </tr>\n",
       "        <tr class=\"ignore\">\n",
       "            <th>Infinite (%)</th>\n",
       "            <td>0.0%</td>\n",
       "        </tr>\n",
       "        <tr class=\"ignore\">\n",
       "            <th>Infinite (n)</th>\n",
       "            <td>0</td>\n",
       "        </tr>\n",
       "    </table>\n",
       "</div>\n",
       "<div class=\"col-md-6 collapse in\" id=\"minifreqtable4655739955714559854\">\n",
       "    <table class=\"mini freq\">\n",
       "        <tr class=\"\">\n",
       "    <th>pizza</th>\n",
       "    <td>\n",
       "        <div class=\"bar\" style=\"width:40%\" data-toggle=\"tooltip\" data-placement=\"right\" data-html=\"true\"\n",
       "             data-delay=500 title=\"Percentage: 21.1%\">\n",
       "            4\n",
       "        </div>\n",
       "        \n",
       "    </td>\n",
       "</tr> <tr class=\"\">\n",
       "    <th>taco</th>\n",
       "    <td>\n",
       "        <div class=\"bar\" style=\"width:30%\" data-toggle=\"tooltip\" data-placement=\"right\" data-html=\"true\"\n",
       "             data-delay=500 title=\"Percentage: 15.8%\">\n",
       "            3\n",
       "        </div>\n",
       "        \n",
       "    </td>\n",
       "</tr> <tr class=\"\">\n",
       "    <th>pasta</th>\n",
       "    <td>\n",
       "        <div class=\"bar\" style=\"width:20%\" data-toggle=\"tooltip\" data-placement=\"right\" data-html=\"true\"\n",
       "             data-delay=500 title=\"Percentage: 10.5%\">\n",
       "            &nbsp;\n",
       "        </div>\n",
       "        2\n",
       "    </td>\n",
       "</tr> <tr class=\"other\">\n",
       "    <th>Other values (10)</th>\n",
       "    <td>\n",
       "        <div class=\"bar\" style=\"width:100%\" data-toggle=\"tooltip\" data-placement=\"right\" data-html=\"true\"\n",
       "             data-delay=500 title=\"Percentage: 52.6%\">\n",
       "            10\n",
       "        </div>\n",
       "        \n",
       "    </td>\n",
       "</tr> \n",
       "    </table>\n",
       "</div> \n",
       "<div class=\"col-md-12 text-right\">\n",
       "    <a role=\"button\" data-toggle=\"collapse\" data-target=\"#freqtable4655739955714559854, #minifreqtable4655739955714559854\"\n",
       "       aria-expanded=\"true\" aria-controls=\"collapseExample\">\n",
       "        Toggle details\n",
       "    </a>\n",
       "</div>\n",
       "<div class=\"col-md-12 collapse extrapadding\" id=\"freqtable4655739955714559854\">\n",
       "    <table class=\"freq table table-hover\">\n",
       "        <thead>\n",
       "        <tr>\n",
       "            <td class=\"fillremaining\">Value</td>\n",
       "            <td class=\"number\">Count</td>\n",
       "            <td class=\"number\">Frequency (%)</td>\n",
       "            <td style=\"min-width:200px\">&nbsp;</td>\n",
       "        </tr>\n",
       "        </thead>\n",
       "        <tr class=\"\">\n",
       "        <td class=\"fillremaining\">pizza</td>\n",
       "        <td class=\"number\">4</td>\n",
       "        <td class=\"number\">21.1%</td>\n",
       "        <td>\n",
       "            <div class=\"bar\" style=\"width:100%\">&nbsp;</div>\n",
       "        </td>\n",
       "</tr> <tr class=\"\">\n",
       "        <td class=\"fillremaining\">taco</td>\n",
       "        <td class=\"number\">3</td>\n",
       "        <td class=\"number\">15.8%</td>\n",
       "        <td>\n",
       "            <div class=\"bar\" style=\"width:75%\">&nbsp;</div>\n",
       "        </td>\n",
       "</tr> <tr class=\"\">\n",
       "        <td class=\"fillremaining\">pasta</td>\n",
       "        <td class=\"number\">2</td>\n",
       "        <td class=\"number\">10.5%</td>\n",
       "        <td>\n",
       "            <div class=\"bar\" style=\"width:50%\">&nbsp;</div>\n",
       "        </td>\n",
       "</tr> <tr class=\"\">\n",
       "        <td class=\"fillremaining\">taaaccoo</td>\n",
       "        <td class=\"number\">1</td>\n",
       "        <td class=\"number\">5.3%</td>\n",
       "        <td>\n",
       "            <div class=\"bar\" style=\"width:25%\">&nbsp;</div>\n",
       "        </td>\n",
       "</tr> <tr class=\"\">\n",
       "        <td class=\"fillremaining\">piza</td>\n",
       "        <td class=\"number\">1</td>\n",
       "        <td class=\"number\">5.3%</td>\n",
       "        <td>\n",
       "            <div class=\"bar\" style=\"width:25%\">&nbsp;</div>\n",
       "        </td>\n",
       "</tr> <tr class=\"\">\n",
       "        <td class=\"fillremaining\">hamburguer</td>\n",
       "        <td class=\"number\">1</td>\n",
       "        <td class=\"number\">5.3%</td>\n",
       "        <td>\n",
       "            <div class=\"bar\" style=\"width:25%\">&nbsp;</div>\n",
       "        </td>\n",
       "</tr> <tr class=\"\">\n",
       "        <td class=\"fillremaining\">BEER</td>\n",
       "        <td class=\"number\">1</td>\n",
       "        <td class=\"number\">5.3%</td>\n",
       "        <td>\n",
       "            <div class=\"bar\" style=\"width:25%\">&nbsp;</div>\n",
       "        </td>\n",
       "</tr> <tr class=\"\">\n",
       "        <td class=\"fillremaining\">pizzza</td>\n",
       "        <td class=\"number\">1</td>\n",
       "        <td class=\"number\">5.3%</td>\n",
       "        <td>\n",
       "            <div class=\"bar\" style=\"width:25%\">&nbsp;</div>\n",
       "        </td>\n",
       "</tr> <tr class=\"\">\n",
       "        <td class=\"fillremaining\">arepa</td>\n",
       "        <td class=\"number\">1</td>\n",
       "        <td class=\"number\">5.3%</td>\n",
       "        <td>\n",
       "            <div class=\"bar\" style=\"width:25%\">&nbsp;</div>\n",
       "        </td>\n",
       "</tr> <tr class=\"\">\n",
       "        <td class=\"fillremaining\">Rice</td>\n",
       "        <td class=\"number\">1</td>\n",
       "        <td class=\"number\">5.3%</td>\n",
       "        <td>\n",
       "            <div class=\"bar\" style=\"width:25%\">&nbsp;</div>\n",
       "        </td>\n",
       "</tr> <tr class=\"\">\n",
       "        <td class=\"fillremaining\">110790</td>\n",
       "        <td class=\"number\">1</td>\n",
       "        <td class=\"number\">5.3%</td>\n",
       "        <td>\n",
       "            <div class=\"bar\" style=\"width:25%\">&nbsp;</div>\n",
       "        </td>\n",
       "</tr> <tr class=\"\">\n",
       "        <td class=\"fillremaining\">Cake</td>\n",
       "        <td class=\"number\">1</td>\n",
       "        <td class=\"number\">5.3%</td>\n",
       "        <td>\n",
       "            <div class=\"bar\" style=\"width:25%\">&nbsp;</div>\n",
       "        </td>\n",
       "</tr> <tr class=\"\">\n",
       "        <td class=\"fillremaining\">null</td>\n",
       "        <td class=\"number\">1</td>\n",
       "        <td class=\"number\">5.3%</td>\n",
       "        <td>\n",
       "            <div class=\"bar\" style=\"width:25%\">&nbsp;</div>\n",
       "        </td>\n",
       "</tr> \n",
       "    </table>\n",
       "</div> \n",
       "</div>\n",
       "    <div class=\"row headerrow highlight\">\n",
       "        <h1>Sample</h1>\n",
       "    </div>\n",
       "    <div class=\"row variablerow\">\n",
       "    <div class=\"col-md-12\" style=\"overflow:scroll; width: 100%%; overflow-y: hidden;\">\n",
       "        <table border=\"1\" class=\"dataframe sample\">\n",
       "  <thead>\n",
       "    <tr style=\"text-align: right;\">\n",
       "      <th></th>\n",
       "      <th>id</th>\n",
       "      <th>firstName</th>\n",
       "      <th>lastName</th>\n",
       "      <th>billingId</th>\n",
       "      <th>product</th>\n",
       "      <th>price</th>\n",
       "      <th>birth</th>\n",
       "      <th>dummyCol</th>\n",
       "    </tr>\n",
       "  </thead>\n",
       "  <tbody>\n",
       "    <tr>\n",
       "      <th>0</th>\n",
       "      <td>1</td>\n",
       "      <td>Luis</td>\n",
       "      <td>Alvarez$$%!</td>\n",
       "      <td>123</td>\n",
       "      <td>Cake</td>\n",
       "      <td>10</td>\n",
       "      <td>1980/07/07</td>\n",
       "      <td>never</td>\n",
       "    </tr>\n",
       "    <tr>\n",
       "      <th>1</th>\n",
       "      <td>2</td>\n",
       "      <td>André</td>\n",
       "      <td>Ampère</td>\n",
       "      <td>423</td>\n",
       "      <td>piza</td>\n",
       "      <td>8</td>\n",
       "      <td>1950/07/08</td>\n",
       "      <td>gonna</td>\n",
       "    </tr>\n",
       "    <tr>\n",
       "      <th>2</th>\n",
       "      <td>3</td>\n",
       "      <td>NiELS</td>\n",
       "      <td>Böhr//((%%</td>\n",
       "      <td>551</td>\n",
       "      <td>pizza</td>\n",
       "      <td>8</td>\n",
       "      <td>1990/07/09</td>\n",
       "      <td>give</td>\n",
       "    </tr>\n",
       "    <tr>\n",
       "      <th>3</th>\n",
       "      <td>4</td>\n",
       "      <td>PAUL</td>\n",
       "      <td>dirac$</td>\n",
       "      <td>521</td>\n",
       "      <td>pizza</td>\n",
       "      <td>8</td>\n",
       "      <td>1954/07/10</td>\n",
       "      <td>you</td>\n",
       "    </tr>\n",
       "    <tr>\n",
       "      <th>4</th>\n",
       "      <td>5</td>\n",
       "      <td>Albert</td>\n",
       "      <td>Einstein</td>\n",
       "      <td>634</td>\n",
       "      <td>pizza</td>\n",
       "      <td>8</td>\n",
       "      <td>1990/07/11</td>\n",
       "      <td>up</td>\n",
       "    </tr>\n",
       "  </tbody>\n",
       "</table>\n",
       "    </div>\n",
       "</div>\n",
       "</div>"
      ],
      "text/plain": [
       "<spark_df_profiling_optimus.ProfileReport at 0x1156e29b0>"
      ]
     },
     "execution_count": 4,
     "metadata": {},
     "output_type": "execute_result"
    }
   ],
   "source": [
    "# Instance of profiler class\n",
    "profiler = op.DataFrameProfiler(df)\n",
    "profiler.profiler()"
   ]
  },
  {
   "cell_type": "markdown",
   "metadata": {},
   "source": [
    "### Instantiation of analyzer class"
   ]
  },
  {
   "cell_type": "markdown",
   "metadata": {},
   "source": [
    "But if you want more information for data exploration, Optimus has the DataFrameAnalizer which has several functions for analyzing your dataset. It presents a table that specifies the existing datatypes in each column dataFrame and other features. Also, for this particular case, the table of dataType is shown in order to visualize a sample of column content. "
   ]
  },
  {
   "cell_type": "code",
   "execution_count": 5,
   "metadata": {
    "collapsed": true
   },
   "outputs": [],
   "source": [
    "# Instance of analyzer class\n",
    "analyzer = op.DataFrameAnalyzer(df=df)"
   ]
  },
  {
   "cell_type": "markdown",
   "metadata": {},
   "source": [
    "DataFrameAnalizer has a method called columnAnalize. This method can check all rows of\n",
    "dataFrame and tries to parse each element of each row to determine if the corresponding \n",
    "element is a string or a number. Besides, it can show 20 distinct values of each column\n",
    "classified according the possible datatype value, i.e: a number can be a string, so this \n",
    "function can recognize a number in a column of string dataType by trying to parse the string. \n",
    "\n",
    "Also the function can plot numerical or categorical histograms."
   ]
  },
  {
   "cell_type": "markdown",
   "metadata": {},
   "source": [
    "### General view of DataFrame"
   ]
  },
  {
   "cell_type": "markdown",
   "metadata": {},
   "source": [
    "Initially it is a good idea to see a general view of the DataFrame to be analyzed. \n",
    "\n",
    "In the following cell, the basic results of analyzing the DataFrame are made are shown. Basic results include a table that specifies the existing datatypes in each column dataFrame and other features. Also, for this particular case, the table of dataType is shown in order to visualize a sample of column content. "
   ]
  },
  {
   "cell_type": "code",
   "execution_count": 6,
   "metadata": {
    "scrolled": false
   },
   "outputs": [
    {
     "data": {
      "text/html": [
       "<table width=50%><tr><td colspan=3 ><b> Column name: </b>id</td></tr><tr><td colspan=3 ><b> Column datatype: </b>int</td></tr><tr><th>Datatype</td><th>Quantity</td><th>Percentage</td></tr><tr><td>None</td><td>0</td><td>0.00 %</td></tr><tr><td>Empty str</td><td>0</td><td>0.00 %</td></tr><tr><td>String</td><td>0</td><td>0.00 %</td></tr><tr><td>Integer</td><td>19</td><td>100.00 %</td></tr><tr><td>Float</td><td>0</td><td>0.00 %</td></tr></table>"
      ],
      "text/plain": [
       "<optimus.df_analyzer.ColumnTables at 0x115845cc0>"
      ]
     },
     "metadata": {},
     "output_type": "display_data"
    },
    {
     "name": "stdout",
     "output_type": "stream",
     "text": [
      "Min value:  1\n",
      "Max value:  19\n"
     ]
    },
    {
     "data": {
      "text/plain": [
       "<optimus.df_analyzer.DataTypeTable at 0x1158ca518>"
      ]
     },
     "metadata": {},
     "output_type": "display_data"
    },
    {
     "name": "stdout",
     "output_type": "stream",
     "text": [
      "end of __analyze 4.188860893249512\n"
     ]
    },
    {
     "data": {
      "text/html": [
       "<table width=50%><tr><td colspan=3 ><b> Column name: </b>firstName</td></tr><tr><td colspan=3 ><b> Column datatype: </b>string</td></tr><tr><th>Datatype</td><th>Quantity</td><th>Percentage</td></tr><tr><td>None</td><td>0</td><td>0.00 %</td></tr><tr><td>Empty str</td><td>0</td><td>0.00 %</td></tr><tr><td>String</td><td>19</td><td>100.00 %</td></tr><tr><td>Integer</td><td>0</td><td>0.00 %</td></tr><tr><td>Float</td><td>0</td><td>0.00 %</td></tr></table>"
      ],
      "text/plain": [
       "<optimus.df_analyzer.ColumnTables at 0x1156e2828>"
      ]
     },
     "metadata": {},
     "output_type": "display_data"
    },
    {
     "data": {
      "text/plain": [
       "<optimus.df_analyzer.DataTypeTable at 0x1158ce710>"
      ]
     },
     "metadata": {},
     "output_type": "display_data"
    },
    {
     "name": "stdout",
     "output_type": "stream",
     "text": [
      "end of __analyze 1.4075579643249512\n"
     ]
    },
    {
     "data": {
      "text/html": [
       "<table width=50%><tr><td colspan=3 ><b> Column name: </b>lastName</td></tr><tr><td colspan=3 ><b> Column datatype: </b>string</td></tr><tr><th>Datatype</td><th>Quantity</td><th>Percentage</td></tr><tr><td>None</td><td>0</td><td>0.00 %</td></tr><tr><td>Empty str</td><td>0</td><td>0.00 %</td></tr><tr><td>String</td><td>19</td><td>100.00 %</td></tr><tr><td>Integer</td><td>0</td><td>0.00 %</td></tr><tr><td>Float</td><td>0</td><td>0.00 %</td></tr></table>"
      ],
      "text/plain": [
       "<optimus.df_analyzer.ColumnTables at 0x11588de80>"
      ]
     },
     "metadata": {},
     "output_type": "display_data"
    },
    {
     "data": {
      "text/plain": [
       "<optimus.df_analyzer.DataTypeTable at 0x112dca978>"
      ]
     },
     "metadata": {},
     "output_type": "display_data"
    },
    {
     "name": "stdout",
     "output_type": "stream",
     "text": [
      "end of __analyze 1.5998477935791016\n"
     ]
    },
    {
     "data": {
      "text/html": [
       "<table width=50%><tr><td colspan=3 ><b> Column name: </b>billingId</td></tr><tr><td colspan=3 ><b> Column datatype: </b>int</td></tr><tr><th>Datatype</td><th>Quantity</td><th>Percentage</td></tr><tr><td>None</td><td>0</td><td>0.00 %</td></tr><tr><td>Empty str</td><td>0</td><td>0.00 %</td></tr><tr><td>String</td><td>0</td><td>0.00 %</td></tr><tr><td>Integer</td><td>19</td><td>100.00 %</td></tr><tr><td>Float</td><td>0</td><td>0.00 %</td></tr></table>"
      ],
      "text/plain": [
       "<optimus.df_analyzer.ColumnTables at 0x11586f128>"
      ]
     },
     "metadata": {},
     "output_type": "display_data"
    },
    {
     "name": "stdout",
     "output_type": "stream",
     "text": [
      "Min value:  111\n",
      "Max value:  992\n"
     ]
    },
    {
     "data": {
      "text/plain": [
       "<optimus.df_analyzer.DataTypeTable at 0x10a7f7a20>"
      ]
     },
     "metadata": {},
     "output_type": "display_data"
    },
    {
     "name": "stdout",
     "output_type": "stream",
     "text": [
      "end of __analyze 2.8739702701568604\n"
     ]
    },
    {
     "data": {
      "text/html": [
       "<table width=50%><tr><td colspan=3 ><b> Column name: </b>product</td></tr><tr><td colspan=3 ><b> Column datatype: </b>string</td></tr><tr><th>Datatype</td><th>Quantity</td><th>Percentage</td></tr><tr><td>None</td><td>0</td><td>0.00 %</td></tr><tr><td>Empty str</td><td>0</td><td>0.00 %</td></tr><tr><td>String</td><td>18</td><td>94.74 %</td></tr><tr><td>Integer</td><td>1</td><td>5.26 %</td></tr><tr><td>Float</td><td>0</td><td>0.00 %</td></tr></table>"
      ],
      "text/plain": [
       "<optimus.df_analyzer.ColumnTables at 0x11586f470>"
      ]
     },
     "metadata": {},
     "output_type": "display_data"
    },
    {
     "data": {
      "text/plain": [
       "<optimus.df_analyzer.DataTypeTable at 0x10a93e710>"
      ]
     },
     "metadata": {},
     "output_type": "display_data"
    },
    {
     "name": "stdout",
     "output_type": "stream",
     "text": [
      "end of __analyze 2.0136988162994385\n"
     ]
    },
    {
     "data": {
      "text/html": [
       "<table width=50%><tr><td colspan=3 ><b> Column name: </b>price</td></tr><tr><td colspan=3 ><b> Column datatype: </b>int</td></tr><tr><th>Datatype</td><th>Quantity</td><th>Percentage</td></tr><tr><td>None</td><td>0</td><td>0.00 %</td></tr><tr><td>Empty str</td><td>0</td><td>0.00 %</td></tr><tr><td>String</td><td>0</td><td>0.00 %</td></tr><tr><td>Integer</td><td>19</td><td>100.00 %</td></tr><tr><td>Float</td><td>0</td><td>0.00 %</td></tr></table>"
      ],
      "text/plain": [
       "<optimus.df_analyzer.ColumnTables at 0x115845198>"
      ]
     },
     "metadata": {},
     "output_type": "display_data"
    },
    {
     "name": "stdout",
     "output_type": "stream",
     "text": [
      "Min value:  1\n",
      "Max value:  10\n"
     ]
    },
    {
     "data": {
      "text/plain": [
       "<optimus.df_analyzer.DataTypeTable at 0x1158d49e8>"
      ]
     },
     "metadata": {},
     "output_type": "display_data"
    },
    {
     "name": "stdout",
     "output_type": "stream",
     "text": [
      "end of __analyze 3.189754009246826\n"
     ]
    },
    {
     "data": {
      "text/html": [
       "<table width=50%><tr><td colspan=3 ><b> Column name: </b>birth</td></tr><tr><td colspan=3 ><b> Column datatype: </b>string</td></tr><tr><th>Datatype</td><th>Quantity</td><th>Percentage</td></tr><tr><td>None</td><td>0</td><td>0.00 %</td></tr><tr><td>Empty str</td><td>0</td><td>0.00 %</td></tr><tr><td>String</td><td>19</td><td>100.00 %</td></tr><tr><td>Integer</td><td>0</td><td>0.00 %</td></tr><tr><td>Float</td><td>0</td><td>0.00 %</td></tr></table>"
      ],
      "text/plain": [
       "<optimus.df_analyzer.ColumnTables at 0x1158937f0>"
      ]
     },
     "metadata": {},
     "output_type": "display_data"
    },
    {
     "data": {
      "text/plain": [
       "<optimus.df_analyzer.DataTypeTable at 0x1158d4240>"
      ]
     },
     "metadata": {},
     "output_type": "display_data"
    },
    {
     "name": "stdout",
     "output_type": "stream",
     "text": [
      "end of __analyze 1.3791899681091309\n"
     ]
    },
    {
     "data": {
      "text/html": [
       "<table width=50%><tr><td colspan=3 ><b> Column name: </b>dummyCol</td></tr><tr><td colspan=3 ><b> Column datatype: </b>string</td></tr><tr><th>Datatype</td><th>Quantity</td><th>Percentage</td></tr><tr><td>None</td><td>0</td><td>0.00 %</td></tr><tr><td>Empty str</td><td>0</td><td>0.00 %</td></tr><tr><td>String</td><td>19</td><td>100.00 %</td></tr><tr><td>Integer</td><td>0</td><td>0.00 %</td></tr><tr><td>Float</td><td>0</td><td>0.00 %</td></tr></table>"
      ],
      "text/plain": [
       "<optimus.df_analyzer.ColumnTables at 0x1158d8668>"
      ]
     },
     "metadata": {},
     "output_type": "display_data"
    },
    {
     "data": {
      "text/plain": [
       "<optimus.df_analyzer.DataTypeTable at 0x11588d438>"
      ]
     },
     "metadata": {},
     "output_type": "display_data"
    },
    {
     "name": "stdout",
     "output_type": "stream",
     "text": [
      "end of __analyze 1.3395709991455078\n",
      "Total execution time:  18.06541085243225\n"
     ]
    },
    {
     "data": {
      "text/html": [
       "<table width=50%><tr><th colspan=3>General description</td></tr><tr><th colspan=1>Features</td><th colspan=2>Name or Quantity</td></tr><tr><th colspan=1>File Name</td><td colspan=2>file with no path</td></tr><tr><th colspan=1>Columns</td><td colspan=2>8</td></tr><tr><th colspan=1>Rows</td><td colspan=2>19</td></tr>"
      ],
      "text/plain": [
       "<optimus.df_analyzer.GeneralDescripTable at 0x10a574400>"
      ]
     },
     "metadata": {},
     "output_type": "display_data"
    }
   ],
   "source": [
    "analyzer_tables = analyzer.column_analyze(column_list=\"*\", print_type=True, plots=False)"
   ]
  },
  {
   "cell_type": "markdown",
   "metadata": {},
   "source": [
    "The results obtained by running the analyzer class, details the presence of special chars, \n",
    "string columns with possible numbers on them and None and empty string values in columns."
   ]
  },
  {
   "cell_type": "markdown",
   "metadata": {},
   "source": [
    "You can also plot histograms for individual columns using the `plot_hist` function. This is an interesting feature because you are plotting from a Spark Dataframe:"
   ]
  },
  {
   "cell_type": "code",
   "execution_count": 7,
   "metadata": {},
   "outputs": [
    {
     "data": {
      "image/png": "[encoded data removed]",
      "text/plain": [
       "<matplotlib.figure.Figure at 0x1156f89e8>"
      ]
     },
     "metadata": {},
     "output_type": "display_data"
    }
   ],
   "source": [
    "analyzer.plot_hist(\"price\",\"numerical\")"
   ]
  },
  {
   "cell_type": "markdown",
   "metadata": {},
   "source": [
    "### Instantiation of DataFrameTransformer\n",
    "DataFrameTransformer is a specialized class to make dataFrame transformations. Transformations are optimized as much as possible to internally used native spark \n",
    "transformation functions."
   ]
  },
  {
   "cell_type": "code",
   "execution_count": 8,
   "metadata": {
    "collapsed": true
   },
   "outputs": [],
   "source": [
    "# Instance of transformer class \n",
    "transformer = op.DataFrameTransformer(df)"
   ]
  },
  {
   "cell_type": "code",
   "execution_count": 9,
   "metadata": {},
   "outputs": [
    {
     "name": "stdout",
     "output_type": "stream",
     "text": [
      "+---+---------+--------------------+---------+--------+-----+----------+--------+\n",
      "| id|firstName|            lastName|billingId| product|price|     birth|dummyCol|\n",
      "+---+---------+--------------------+---------+--------+-----+----------+--------+\n",
      "|  1|     Luis|         Alvarez$$%!|      123|    Cake|   10|1980/07/07|   never|\n",
      "|  2|    André|              Ampère|      423|    piza|    8|1950/07/08|   gonna|\n",
      "|  3|    NiELS|          Böhr//((%%|      551|   pizza|    8|1990/07/09|    give|\n",
      "|  4|     PAUL|              dirac$|      521|   pizza|    8|1954/07/10|     you|\n",
      "|  5|   Albert|            Einstein|      634|   pizza|    8|1990/07/11|      up|\n",
      "|  6|  Galileo|             GALiLEI|      672|   arepa|    5|1930/08/12|   never|\n",
      "|  7|     CaRL|            Ga%%%uss|      323|    taco|    3|1970/07/13|   gonna|\n",
      "|  8|    David|          H$$$ilbert|      624|taaaccoo|    3|1950/07/14|     let|\n",
      "|  9| Johannes|              KEPLER|      735|    taco|    3|1920/04/22|     you|\n",
      "| 10|    JaMES|         M$$ax%%well|      875|    taco|    3|1923/03/12|    down|\n",
      "+---+---------+--------------------+---------+--------+-----+----------+--------+\n",
      "only showing top 10 rows\n",
      "\n"
     ]
    }
   ],
   "source": [
    "transformer.show()"
   ]
  },
  {
   "cell_type": "markdown",
   "metadata": {},
   "source": [
    "### Trimming blanck spaces at beginning and endings of cells dataFrames"
   ]
  },
  {
   "cell_type": "code",
   "execution_count": 10,
   "metadata": {},
   "outputs": [
    {
     "name": "stdout",
     "output_type": "stream",
     "text": [
      "Original dataFrame:\n",
      "+---+---------+-----------+---------+-------+-----+----------+--------+\n",
      "| id|firstName|   lastName|billingId|product|price|     birth|dummyCol|\n",
      "+---+---------+-----------+---------+-------+-----+----------+--------+\n",
      "|  1|     Luis|Alvarez$$%!|      123|   Cake|   10|1980/07/07|   never|\n",
      "|  2|    André|     Ampère|      423|   piza|    8|1950/07/08|   gonna|\n",
      "|  3|    NiELS| Böhr//((%%|      551|  pizza|    8|1990/07/09|    give|\n",
      "|  4|     PAUL|     dirac$|      521|  pizza|    8|1954/07/10|     you|\n",
      "|  5|   Albert|   Einstein|      634|  pizza|    8|1990/07/11|      up|\n",
      "+---+---------+-----------+---------+-------+-----+----------+--------+\n",
      "only showing top 5 rows\n",
      "\n",
      "Trimmed dataFrame:\n",
      "+---+---------+-----------+---------+-------+-----+----------+--------+\n",
      "| id|firstName|   lastName|billingId|product|price|     birth|dummyCol|\n",
      "+---+---------+-----------+---------+-------+-----+----------+--------+\n",
      "|  1|     Luis|Alvarez$$%!|      123|   Cake|   10|1980/07/07|   never|\n",
      "|  2|    André|     Ampère|      423|   piza|    8|1950/07/08|   gonna|\n",
      "|  3|    NiELS| Böhr//((%%|      551|  pizza|    8|1990/07/09|    give|\n",
      "|  4|     PAUL|     dirac$|      521|  pizza|    8|1954/07/10|     you|\n",
      "|  5|   Albert|   Einstein|      634|  pizza|    8|1990/07/11|      up|\n",
      "+---+---------+-----------+---------+-------+-----+----------+--------+\n",
      "only showing top 5 rows\n",
      "\n"
     ]
    }
   ],
   "source": [
    "# Printing of original dataFrame:\n",
    "print('Original dataFrame:')\n",
    "transformer.show(5)\n",
    "\n",
    "# Triming string blank spaces:\n",
    "transformer.trim_col(\"*\")\n",
    "\n",
    "# Printing trimmed dataFrame:\n",
    "print('Trimmed dataFrame:')\n",
    "transformer.show(5)"
   ]
  },
  {
   "cell_type": "markdown",
   "metadata": {},
   "source": [
    "### Removing especial chars and accents:"
   ]
  },
  {
   "cell_type": "code",
   "execution_count": 11,
   "metadata": {},
   "outputs": [
    {
     "name": "stdout",
     "output_type": "stream",
     "text": [
      "Original dataFrame:\n",
      "+---+---------+-----------+---------+-------+-----+----------+--------+\n",
      "| id|firstName|   lastName|billingId|product|price|     birth|dummyCol|\n",
      "+---+---------+-----------+---------+-------+-----+----------+--------+\n",
      "|  1|     Luis|Alvarez$$%!|      123|   Cake|   10|1980/07/07|   never|\n",
      "|  2|    André|     Ampère|      423|   piza|    8|1950/07/08|   gonna|\n",
      "|  3|    NiELS| Böhr//((%%|      551|  pizza|    8|1990/07/09|    give|\n",
      "|  4|     PAUL|     dirac$|      521|  pizza|    8|1954/07/10|     you|\n",
      "|  5|   Albert|   Einstein|      634|  pizza|    8|1990/07/11|      up|\n",
      "+---+---------+-----------+---------+-------+-----+----------+--------+\n",
      "only showing top 5 rows\n",
      "\n",
      "Removing special chars and accents dataFrame:\n",
      "+---+---------+--------+---------+-------+-----+--------+--------+\n",
      "| id|firstName|lastName|billingId|product|price|   birth|dummyCol|\n",
      "+---+---------+--------+---------+-------+-----+--------+--------+\n",
      "|  1|     Luis| Alvarez|      123|   Cake|   10|19800707|   never|\n",
      "|  2|    Andre|  Ampere|      423|   piza|    8|19500708|   gonna|\n",
      "|  3|    NiELS|    Bohr|      551|  pizza|    8|19900709|    give|\n",
      "|  4|     PAUL|   dirac|      521|  pizza|    8|19540710|     you|\n",
      "|  5|   Albert|Einstein|      634|  pizza|    8|19900711|      up|\n",
      "+---+---------+--------+---------+-------+-----+--------+--------+\n",
      "only showing top 5 rows\n",
      "\n"
     ]
    }
   ],
   "source": [
    "# Printing of original dataFrame:\n",
    "print('Original dataFrame:')\n",
    "transformer.show(5)\n",
    "\n",
    "# Remove special chars:\n",
    "transformer.remove_special_chars(\"*\").clear_accents(\"*\")\n",
    "\n",
    "# This can also be done by passing a Regex if you want something more personalized\n",
    "\n",
    "#####################################################################\n",
    "\n",
    "#transformer.remove_special_chars_regex(\"*\",'[^\\w\\s]').clear_accents(\"*\")\n",
    "\n",
    "#####################################################################\n",
    "\n",
    "# Printing trimmed dataFrame:\n",
    "print('Removing special chars and accents dataFrame:')\n",
    "transformer.show(5)"
   ]
  },
  {
   "cell_type": "markdown",
   "metadata": {},
   "source": [
    "### Drop dummy column"
   ]
  },
  {
   "cell_type": "code",
   "execution_count": 12,
   "metadata": {},
   "outputs": [
    {
     "name": "stdout",
     "output_type": "stream",
     "text": [
      "Original dataFrame:\n",
      "+---+---------+--------+---------+-------+-----+--------+--------+\n",
      "| id|firstName|lastName|billingId|product|price|   birth|dummyCol|\n",
      "+---+---------+--------+---------+-------+-----+--------+--------+\n",
      "|  1|     Luis| Alvarez|      123|   Cake|   10|19800707|   never|\n",
      "|  2|    Andre|  Ampere|      423|   piza|    8|19500708|   gonna|\n",
      "|  3|    NiELS|    Bohr|      551|  pizza|    8|19900709|    give|\n",
      "|  4|     PAUL|   dirac|      521|  pizza|    8|19540710|     you|\n",
      "|  5|   Albert|Einstein|      634|  pizza|    8|19900711|      up|\n",
      "+---+---------+--------+---------+-------+-----+--------+--------+\n",
      "only showing top 5 rows\n",
      "\n",
      "Dataframe without dummy column:\n",
      "+---+---------+--------+---------+-------+-----+--------+\n",
      "| id|firstName|lastName|billingId|product|price|   birth|\n",
      "+---+---------+--------+---------+-------+-----+--------+\n",
      "|  1|     Luis| Alvarez|      123|   Cake|   10|19800707|\n",
      "|  2|    Andre|  Ampere|      423|   piza|    8|19500708|\n",
      "|  3|    NiELS|    Bohr|      551|  pizza|    8|19900709|\n",
      "|  4|     PAUL|   dirac|      521|  pizza|    8|19540710|\n",
      "|  5|   Albert|Einstein|      634|  pizza|    8|19900711|\n",
      "+---+---------+--------+---------+-------+-----+--------+\n",
      "only showing top 5 rows\n",
      "\n"
     ]
    }
   ],
   "source": [
    "# Printing of original dataFrame:\n",
    "print('Original dataFrame:')\n",
    "transformer.show(5)\n",
    "\n",
    "# Droping a column:\n",
    "transformer.drop_col(\"dummyCol\")\n",
    "\n",
    "# Printing trimmed dataFrame:\n",
    "print('Dataframe without dummy column:')\n",
    "transformer.show(5)"
   ]
  },
  {
   "cell_type": "markdown",
   "metadata": {},
   "source": [
    "### Setting all letters to lowerCase"
   ]
  },
  {
   "cell_type": "code",
   "execution_count": 13,
   "metadata": {},
   "outputs": [
    {
     "name": "stdout",
     "output_type": "stream",
     "text": [
      "Original dataFrame:\n",
      "+---+---------+--------+---------+-------+-----+--------+\n",
      "| id|firstName|lastName|billingId|product|price|   birth|\n",
      "+---+---------+--------+---------+-------+-----+--------+\n",
      "|  1|     Luis| Alvarez|      123|   Cake|   10|19800707|\n",
      "|  2|    Andre|  Ampere|      423|   piza|    8|19500708|\n",
      "|  3|    NiELS|    Bohr|      551|  pizza|    8|19900709|\n",
      "|  4|     PAUL|   dirac|      521|  pizza|    8|19540710|\n",
      "|  5|   Albert|Einstein|      634|  pizza|    8|19900711|\n",
      "+---+---------+--------+---------+-------+-----+--------+\n",
      "only showing top 5 rows\n",
      "\n",
      "Setting all letters to lowerCase:\n",
      "+---+---------+--------+---------+-------+-----+--------+\n",
      "| id|firstName|lastName|billingId|product|price|   birth|\n",
      "+---+---------+--------+---------+-------+-----+--------+\n",
      "|  1|     luis| alvarez|      123|   cake|   10|19800707|\n",
      "|  2|    andre|  ampere|      423|   piza|    8|19500708|\n",
      "|  3|    niels|    bohr|      551|  pizza|    8|19900709|\n",
      "|  4|     paul|   dirac|      521|  pizza|    8|19540710|\n",
      "|  5|   albert|einstein|      634|  pizza|    8|19900711|\n",
      "+---+---------+--------+---------+-------+-----+--------+\n",
      "only showing top 5 rows\n",
      "\n"
     ]
    }
   ],
   "source": [
    "# Printing of original dataFrame:\n",
    "print('Original dataFrame:')\n",
    "transformer.show(5)\n",
    "\n",
    "print('Setting all letters to lowerCase:')\n",
    "transformer.lower_case(\"*\")\n",
    "transformer.show(5)"
   ]
  },
  {
   "cell_type": "markdown",
   "metadata": {},
   "source": [
    "### Date Transformation (Format of date is changed)"
   ]
  },
  {
   "cell_type": "code",
   "execution_count": 14,
   "metadata": {},
   "outputs": [
    {
     "name": "stdout",
     "output_type": "stream",
     "text": [
      "Original dataFrame:\n",
      "+---+---------+--------+---------+-------+-----+--------+\n",
      "| id|firstName|lastName|billingId|product|price|   birth|\n",
      "+---+---------+--------+---------+-------+-----+--------+\n",
      "|  1|     luis| alvarez|      123|   cake|   10|19800707|\n",
      "|  2|    andre|  ampere|      423|   piza|    8|19500708|\n",
      "|  3|    niels|    bohr|      551|  pizza|    8|19900709|\n",
      "|  4|     paul|   dirac|      521|  pizza|    8|19540710|\n",
      "|  5|   albert|einstein|      634|  pizza|    8|19900711|\n",
      "+---+---------+--------+---------+-------+-----+--------+\n",
      "only showing top 5 rows\n",
      "\n",
      "Dataframe without dummy column:\n",
      "+---+---------+--------+---------+-------+-----+----------+\n",
      "| id|firstName|lastName|billingId|product|price|     birth|\n",
      "+---+---------+--------+---------+-------+-----+----------+\n",
      "|  1|     luis| alvarez|      123|   cake|   10|07-07-1980|\n",
      "|  2|    andre|  ampere|      423|   piza|    8|08-07-1950|\n",
      "|  3|    niels|    bohr|      551|  pizza|    8|09-07-1990|\n",
      "|  4|     paul|   dirac|      521|  pizza|    8|10-07-1954|\n",
      "|  5|   albert|einstein|      634|  pizza|    8|11-07-1990|\n",
      "+---+---------+--------+---------+-------+-----+----------+\n",
      "only showing top 5 rows\n",
      "\n"
     ]
    }
   ],
   "source": [
    "# Printing of original dataFrame:\n",
    "print('Original dataFrame:')\n",
    "transformer.show(5)\n",
    "\n",
    "# Priting the new date format:\n",
    "print('Dataframe without dummy column:')\n",
    "transformer.date_transform(\"birth\", \"yyyyMMdd\", \"dd-MM-YYYY\") \\\n",
    "           .show(5)"
   ]
  },
  {
   "cell_type": "markdown",
   "metadata": {},
   "source": [
    "### Age calculation from birth date client"
   ]
  },
  {
   "cell_type": "code",
   "execution_count": 15,
   "metadata": {},
   "outputs": [
    {
     "name": "stdout",
     "output_type": "stream",
     "text": [
      "Original dataFrame:\n",
      "+---+---------+--------+---------+-------+-----+----------+\n",
      "| id|firstName|lastName|billingId|product|price|     birth|\n",
      "+---+---------+--------+---------+-------+-----+----------+\n",
      "|  1|     luis| alvarez|      123|   cake|   10|07-07-1980|\n",
      "|  2|    andre|  ampere|      423|   piza|    8|08-07-1950|\n",
      "|  3|    niels|    bohr|      551|  pizza|    8|09-07-1990|\n",
      "|  4|     paul|   dirac|      521|  pizza|    8|10-07-1954|\n",
      "|  5|   albert|einstein|      634|  pizza|    8|11-07-1990|\n",
      "+---+---------+--------+---------+-------+-----+----------+\n",
      "only showing top 5 rows\n",
      "\n",
      "Printing calculation of age born date client\n",
      "+---+---------+--------+---------+-------+-----+----------+---------+\n",
      "| id|firstName|lastName|billingId|product|price|     birth|clientAge|\n",
      "+---+---------+--------+---------+-------+-----+----------+---------+\n",
      "|  1|     luis| alvarez|      123|   cake|   10|07-07-1980|  37.9032|\n",
      "|  2|    andre|  ampere|      423|   piza|    8|08-07-1950|  67.8978|\n",
      "|  3|    niels|    bohr|      551|  pizza|    8|09-07-1990|  27.9005|\n",
      "|  4|     paul|   dirac|      521|  pizza|    8|10-07-1954|  63.9113|\n",
      "|  5|   albert|einstein|      634|  pizza|    8|11-07-1990|  27.9005|\n",
      "+---+---------+--------+---------+-------+-----+----------+---------+\n",
      "only showing top 5 rows\n",
      "\n"
     ]
    }
   ],
   "source": [
    "# Printing of original dataFrame:\n",
    "print('Original dataFrame:')\n",
    "transformer.show(5)\n",
    "\n",
    "print(\"Printing calculation of age born date client\")\n",
    "transformer.age_calculate(\"birth\", \"dd-MM-YYYY\", \"clientAge\") \\\n",
    "           .show(5)"
   ]
  },
  {
   "cell_type": "markdown",
   "metadata": {},
   "source": [
    "### Renaming columns:"
   ]
  },
  {
   "cell_type": "code",
   "execution_count": 16,
   "metadata": {},
   "outputs": [
    {
     "name": "stdout",
     "output_type": "stream",
     "text": [
      "Original dataframe\n",
      "+---+---------+--------+---------+-------+-----+----------+---------+\n",
      "| id|firstName|lastName|billingId|product|price|     birth|clientAge|\n",
      "+---+---------+--------+---------+-------+-----+----------+---------+\n",
      "|  1|     luis| alvarez|      123|   cake|   10|07-07-1980|  37.9032|\n",
      "|  2|    andre|  ampere|      423|   piza|    8|08-07-1950|  67.8978|\n",
      "|  3|    niels|    bohr|      551|  pizza|    8|09-07-1990|  27.9005|\n",
      "|  4|     paul|   dirac|      521|  pizza|    8|10-07-1954|  63.9113|\n",
      "|  5|   albert|einstein|      634|  pizza|    8|11-07-1990|  27.9005|\n",
      "+---+---------+--------+---------+-------+-----+----------+---------+\n",
      "only showing top 5 rows\n",
      "\n",
      "Renaming some columns of dataFrame\n",
      "+-------+---+---------+--------+---------+-------+-----+----------+\n",
      "|    age| id|firstName|lastName|billingId|product|price|     birth|\n",
      "+-------+---+---------+--------+---------+-------+-----+----------+\n",
      "|37.9032|  1|     luis| alvarez|      123|   cake|   10|07-07-1980|\n",
      "|67.8978|  2|    andre|  ampere|      423|   piza|    8|08-07-1950|\n",
      "|27.9005|  3|    niels|    bohr|      551|  pizza|    8|09-07-1990|\n",
      "|63.9113|  4|     paul|   dirac|      521|  pizza|    8|10-07-1954|\n",
      "|27.9005|  5|   albert|einstein|      634|  pizza|    8|11-07-1990|\n",
      "+-------+---+---------+--------+---------+-------+-----+----------+\n",
      "only showing top 5 rows\n",
      "\n"
     ]
    }
   ],
   "source": [
    "# Printing original dataframe:\n",
    "print (\"Original dataframe\")\n",
    "transformer.show(5)\n",
    "print (\"Renaming some columns of dataFrame\")\n",
    "transformer.rename_col(columns=[(\"clientAge\", \"age\")])\n",
    "transformer.show(5)"
   ]
  },
  {
   "cell_type": "markdown",
   "metadata": {},
   "source": [
    "### Changing positions of columns dataframe:"
   ]
  },
  {
   "cell_type": "code",
   "execution_count": 17,
   "metadata": {},
   "outputs": [
    {
     "name": "stdout",
     "output_type": "stream",
     "text": [
      "Original dataframe\n",
      "+-------+---+---------+--------+---------+-------+-----+----------+\n",
      "|    age| id|firstName|lastName|billingId|product|price|     birth|\n",
      "+-------+---+---------+--------+---------+-------+-----+----------+\n",
      "|37.9032|  1|     luis| alvarez|      123|   cake|   10|07-07-1980|\n",
      "|67.8978|  2|    andre|  ampere|      423|   piza|    8|08-07-1950|\n",
      "|27.9005|  3|    niels|    bohr|      551|  pizza|    8|09-07-1990|\n",
      "|63.9113|  4|     paul|   dirac|      521|  pizza|    8|10-07-1954|\n",
      "|27.9005|  5|   albert|einstein|      634|  pizza|    8|11-07-1990|\n",
      "+-------+---+---------+--------+---------+-------+-----+----------+\n",
      "only showing top 5 rows\n",
      "\n",
      "age column moved\n",
      "+---+---------+--------+-------+---------+-------+-----+----------+\n",
      "| id|firstName|lastName|    age|billingId|product|price|     birth|\n",
      "+---+---------+--------+-------+---------+-------+-----+----------+\n",
      "|  1|     luis| alvarez|37.9032|      123|   cake|   10|07-07-1980|\n",
      "|  2|    andre|  ampere|67.8978|      423|   piza|    8|08-07-1950|\n",
      "|  3|    niels|    bohr|27.9005|      551|  pizza|    8|09-07-1990|\n",
      "|  4|     paul|   dirac|63.9113|      521|  pizza|    8|10-07-1954|\n",
      "|  5|   albert|einstein|27.9005|      634|  pizza|    8|11-07-1990|\n",
      "+---+---------+--------+-------+---------+-------+-----+----------+\n",
      "only showing top 5 rows\n",
      "\n"
     ]
    }
   ],
   "source": [
    "# Printing original dataframe:\n",
    "print (\"Original dataframe\")\n",
    "transformer.show(5)\n",
    "\n",
    "# This action is to move column age, just after the lastName column\n",
    "print (\"age column moved\")\n",
    "transformer.move_col(\"age\", \"lastName\", \"after\")\n",
    "transformer.show(5)"
   ]
  },
  {
   "cell_type": "markdown",
   "metadata": {},
   "source": [
    "### Setting a custom transformation\n",
    "The core of this function is base on the user define function provide from the lambda function provided in the 'func' argument. \n",
    "\n",
    "In this example, cells that are not greater than 20, are multiplied by 20, the rest of them stay intact."
   ]
  },
  {
   "cell_type": "code",
   "execution_count": 18,
   "metadata": {},
   "outputs": [
    {
     "name": "stdout",
     "output_type": "stream",
     "text": [
      "Original dataframe\n",
      "+---+---------+--------+-------+---------+-------+-----+----------+\n",
      "| id|firstName|lastName|    age|billingId|product|price|     birth|\n",
      "+---+---------+--------+-------+---------+-------+-----+----------+\n",
      "|  1|     luis| alvarez|37.9032|      123|   cake|   10|07-07-1980|\n",
      "|  2|    andre|  ampere|67.8978|      423|   piza|    8|08-07-1950|\n",
      "|  3|    niels|    bohr|27.9005|      551|  pizza|    8|09-07-1990|\n",
      "|  4|     paul|   dirac|63.9113|      521|  pizza|    8|10-07-1954|\n",
      "|  5|   albert|einstein|27.9005|      634|  pizza|    8|11-07-1990|\n",
      "+---+---------+--------+-------+---------+-------+-----+----------+\n",
      "only showing top 5 rows\n",
      "\n",
      " Multiplying by 20 a number if value in cell is greater than 20:\n",
      "+---+------------+--------+--------+---------+----------+-----+----------+\n",
      "| id|   firstName|lastName|     age|billingId|   product|price|     birth|\n",
      "+---+------------+--------+--------+---------+----------+-----+----------+\n",
      "|  1|        luis| alvarez| 37.9032|      123|      cake|  200|07-07-1980|\n",
      "|  2|       andre|  ampere| 67.8978|      423|      piza|  160|08-07-1950|\n",
      "|  3|       niels|    bohr| 27.9005|      551|     pizza|  160|09-07-1990|\n",
      "|  4|        paul|   dirac| 63.9113|      521|     pizza|  160|10-07-1954|\n",
      "|  5|      albert|einstein| 27.9005|      634|     pizza|  160|11-07-1990|\n",
      "|  6|     galileo| galilei| 87.9059|      672|     arepa|  100|12-08-1930|\n",
      "|  7|        carl|   gauss| 47.9086|      323|      taco|   60|13-07-1970|\n",
      "|  8|       david| hilbert| 67.8978|      624|  taaaccoo|   60|14-07-1950|\n",
      "|  9|    johannes|  kepler| 97.9086|      735|      taco|   60|22-04-1920|\n",
      "| 10|       james| maxwell| 94.9005|      875|      taco|   60|12-03-1923|\n",
      "| 11|       isaac|  newton| 18.9113|      992|     pasta|  180|15-02-1999|\n",
      "| 12|        emmy| noether| 24.9113|      234|     pasta|  180|08-12-1993|\n",
      "| 13|         max|  planck| 23.9140|      111|hamburguer|   80|04-01-1994|\n",
      "| 14|        fred|   hoyle| 20.9059|      553|    pizzza|  160|27-06-1997|\n",
      "| 15|   heinrich |   hertz| 61.8978|      116|     pizza|  160|30-11-1956|\n",
      "| 16|     william| gilbert| 59.9059|      886|      beer|   40|26-03-1958|\n",
      "| 17|       marie|   curie| 17.9140|      912|      rice|   20|22-03-2000|\n",
      "| 18|      arthur| compton|118.8978|      812|    110790|  100|01-01-1899|\n",
      "| 19|       james|chadwick| 96.9140|      467|      null|  200|03-05-1921|\n",
      "+---+------------+--------+--------+---------+----------+-----+----------+\n",
      "\n"
     ]
    }
   ],
   "source": [
    "# Printing original dataframe:\n",
    "print (\"Original dataframe\")\n",
    "transformer.show(5)\n",
    "\n",
    "print (' Multiplying by 20 a number if value in cell is greater than 20:')\n",
    "# Replacing a number:   \n",
    "func = lambda cell: (cell * 20) if ((cell != None) and (cell < 20)) else cell\n",
    "transformer.set_col(['price'], func, 'integer')\n",
    "transformer.show(20)"
   ]
  },
  {
   "cell_type": "markdown",
   "metadata": {},
   "source": [
    "After the transformation process detailed in the previous cells. It is a good idea to\n",
    "analyze to see if the transformations have solved issued related with special characters, \n",
    "presence of number in column where is to supposed only letters, etc."
   ]
  },
  {
   "cell_type": "markdown",
   "metadata": {},
   "source": [
    "### Analyzing columns after transformations"
   ]
  },
  {
   "cell_type": "code",
   "execution_count": 19,
   "metadata": {
    "scrolled": false
   },
   "outputs": [
    {
     "data": {
      "text/html": [
       "<table width=50%><tr><td colspan=3 ><b> Column name: </b>id</td></tr><tr><td colspan=3 ><b> Column datatype: </b>int</td></tr><tr><th>Datatype</td><th>Quantity</td><th>Percentage</td></tr><tr><td>None</td><td>0</td><td>0.00 %</td></tr><tr><td>Empty str</td><td>0</td><td>0.00 %</td></tr><tr><td>String</td><td>0</td><td>0.00 %</td></tr><tr><td>Integer</td><td>19</td><td>100.00 %</td></tr><tr><td>Float</td><td>0</td><td>0.00 %</td></tr></table>"
      ],
      "text/plain": [
       "<optimus.df_analyzer.ColumnTables at 0x1154adb70>"
      ]
     },
     "metadata": {},
     "output_type": "display_data"
    },
    {
     "name": "stdout",
     "output_type": "stream",
     "text": [
      "Min value:  1\n",
      "Max value:  19\n"
     ]
    },
    {
     "data": {
      "text/plain": [
       "<optimus.df_analyzer.DataTypeTable at 0x115853d30>"
      ]
     },
     "metadata": {},
     "output_type": "display_data"
    },
    {
     "data": {
      "image/png": "[encoded data removed]",
      "text/plain": [
       "<matplotlib.figure.Figure at 0x1157b49e8>"
      ]
     },
     "metadata": {},
     "output_type": "display_data"
    },
    {
     "name": "stdout",
     "output_type": "stream",
     "text": [
      "end of __analyze 5.55001425743103\n"
     ]
    },
    {
     "data": {
      "text/html": [
       "<table width=50%><tr><td colspan=3 ><b> Column name: </b>firstName</td></tr><tr><td colspan=3 ><b> Column datatype: </b>string</td></tr><tr><th>Datatype</td><th>Quantity</td><th>Percentage</td></tr><tr><td>None</td><td>0</td><td>0.00 %</td></tr><tr><td>Empty str</td><td>0</td><td>0.00 %</td></tr><tr><td>String</td><td>19</td><td>100.00 %</td></tr><tr><td>Integer</td><td>0</td><td>0.00 %</td></tr><tr><td>Float</td><td>0</td><td>0.00 %</td></tr></table>"
      ],
      "text/plain": [
       "<optimus.df_analyzer.ColumnTables at 0x1155b0f28>"
      ]
     },
     "metadata": {},
     "output_type": "display_data"
    },
    {
     "data": {
      "text/plain": [
       "<optimus.df_analyzer.DataTypeTable at 0x11550d8d0>"
      ]
     },
     "metadata": {},
     "output_type": "display_data"
    },
    {
     "data": {
      "image/png": "[encoded data removed]",
      "text/plain": [
       "<matplotlib.figure.Figure at 0x10a50a7b8>"
      ]
     },
     "metadata": {},
     "output_type": "display_data"
    },
    {
     "name": "stdout",
     "output_type": "stream",
     "text": [
      "end of __analyze 2.189232349395752\n"
     ]
    },
    {
     "data": {
      "text/html": [
       "<table width=50%><tr><td colspan=3 ><b> Column name: </b>lastName</td></tr><tr><td colspan=3 ><b> Column datatype: </b>string</td></tr><tr><th>Datatype</td><th>Quantity</td><th>Percentage</td></tr><tr><td>None</td><td>0</td><td>0.00 %</td></tr><tr><td>Empty str</td><td>0</td><td>0.00 %</td></tr><tr><td>String</td><td>19</td><td>100.00 %</td></tr><tr><td>Integer</td><td>0</td><td>0.00 %</td></tr><tr><td>Float</td><td>0</td><td>0.00 %</td></tr></table>"
      ],
      "text/plain": [
       "<optimus.df_analyzer.ColumnTables at 0x1155992b0>"
      ]
     },
     "metadata": {},
     "output_type": "display_data"
    },
    {
     "data": {
      "text/plain": [
       "<optimus.df_analyzer.DataTypeTable at 0x115893588>"
      ]
     },
     "metadata": {},
     "output_type": "display_data"
    },
    {
     "data": {
      "image/png": "[encoded data removed]",
      "text/plain": [
       "<matplotlib.figure.Figure at 0x10c69ae10>"
      ]
     },
     "metadata": {},
     "output_type": "display_data"
    },
    {
     "name": "stdout",
     "output_type": "stream",
     "text": [
      "end of __analyze 2.050110101699829\n"
     ]
    },
    {
     "data": {
      "text/html": [
       "<table width=50%><tr><td colspan=3 ><b> Column name: </b>age</td></tr><tr><td colspan=3 ><b> Column datatype: </b>string</td></tr><tr><th>Datatype</td><th>Quantity</td><th>Percentage</td></tr><tr><td>None</td><td>0</td><td>0.00 %</td></tr><tr><td>Empty str</td><td>0</td><td>0.00 %</td></tr><tr><td>String</td><td>0</td><td>0.00 %</td></tr><tr><td>Integer</td><td>0</td><td>0.00 %</td></tr><tr><td>Float</td><td>19</td><td>100.00 %</td></tr></table>"
      ],
      "text/plain": [
       "<optimus.df_analyzer.ColumnTables at 0x10c69a7f0>"
      ]
     },
     "metadata": {},
     "output_type": "display_data"
    },
    {
     "data": {
      "text/plain": [
       "<optimus.df_analyzer.DataTypeTable at 0x115dbb9b0>"
      ]
     },
     "metadata": {},
     "output_type": "display_data"
    },
    {
     "data": {
      "image/png": "[encoded data removed]",
      "text/plain": [
       "<matplotlib.figure.Figure at 0x115dbbd30>"
      ]
     },
     "metadata": {},
     "output_type": "display_data"
    },
    {
     "name": "stdout",
     "output_type": "stream",
     "text": [
      "end of __analyze 6.792464017868042\n"
     ]
    },
    {
     "data": {
      "text/html": [
       "<table width=50%><tr><td colspan=3 ><b> Column name: </b>billingId</td></tr><tr><td colspan=3 ><b> Column datatype: </b>int</td></tr><tr><th>Datatype</td><th>Quantity</td><th>Percentage</td></tr><tr><td>None</td><td>0</td><td>0.00 %</td></tr><tr><td>Empty str</td><td>0</td><td>0.00 %</td></tr><tr><td>String</td><td>0</td><td>0.00 %</td></tr><tr><td>Integer</td><td>19</td><td>100.00 %</td></tr><tr><td>Float</td><td>0</td><td>0.00 %</td></tr></table>"
      ],
      "text/plain": [
       "<optimus.df_analyzer.ColumnTables at 0x115e7f4a8>"
      ]
     },
     "metadata": {},
     "output_type": "display_data"
    },
    {
     "name": "stdout",
     "output_type": "stream",
     "text": [
      "Min value:  111\n",
      "Max value:  992\n"
     ]
    },
    {
     "data": {
      "text/plain": [
       "<optimus.df_analyzer.DataTypeTable at 0x115e82b38>"
      ]
     },
     "metadata": {},
     "output_type": "display_data"
    },
    {
     "data": {
      "image/png": "[encoded data removed]",
      "text/plain": [
       "<matplotlib.figure.Figure at 0x115dff9e8>"
      ]
     },
     "metadata": {},
     "output_type": "display_data"
    },
    {
     "name": "stdout",
     "output_type": "stream",
     "text": [
      "end of __analyze 4.095335006713867\n"
     ]
    },
    {
     "data": {
      "text/html": [
       "<table width=50%><tr><td colspan=3 ><b> Column name: </b>product</td></tr><tr><td colspan=3 ><b> Column datatype: </b>string</td></tr><tr><th>Datatype</td><th>Quantity</td><th>Percentage</td></tr><tr><td>None</td><td>0</td><td>0.00 %</td></tr><tr><td>Empty str</td><td>0</td><td>0.00 %</td></tr><tr><td>String</td><td>18</td><td>94.74 %</td></tr><tr><td>Integer</td><td>1</td><td>5.26 %</td></tr><tr><td>Float</td><td>0</td><td>0.00 %</td></tr></table>"
      ],
      "text/plain": [
       "<optimus.df_analyzer.ColumnTables at 0x115dc5780>"
      ]
     },
     "metadata": {},
     "output_type": "display_data"
    },
    {
     "data": {
      "text/plain": [
       "<optimus.df_analyzer.DataTypeTable at 0x115e9df98>"
      ]
     },
     "metadata": {},
     "output_type": "display_data"
    },
    {
     "data": {
      "image/png": "[encoded data removed]",
      "text/plain": [
       "<matplotlib.figure.Figure at 0x115db2780>"
      ]
     },
     "metadata": {},
     "output_type": "display_data"
    },
    {
     "name": "stdout",
     "output_type": "stream",
     "text": [
      "end of __analyze 1.9829370975494385\n"
     ]
    },
    {
     "data": {
      "text/html": [
       "<table width=50%><tr><td colspan=3 ><b> Column name: </b>price</td></tr><tr><td colspan=3 ><b> Column datatype: </b>int</td></tr><tr><th>Datatype</td><th>Quantity</td><th>Percentage</td></tr><tr><td>None</td><td>0</td><td>0.00 %</td></tr><tr><td>Empty str</td><td>0</td><td>0.00 %</td></tr><tr><td>String</td><td>0</td><td>0.00 %</td></tr><tr><td>Integer</td><td>19</td><td>100.00 %</td></tr><tr><td>Float</td><td>0</td><td>0.00 %</td></tr></table>"
      ],
      "text/plain": [
       "<optimus.df_analyzer.ColumnTables at 0x115ef0f28>"
      ]
     },
     "metadata": {},
     "output_type": "display_data"
    },
    {
     "name": "stdout",
     "output_type": "stream",
     "text": [
      "Min value:  20\n",
      "Max value:  200\n"
     ]
    },
    {
     "data": {
      "text/plain": [
       "<optimus.df_analyzer.DataTypeTable at 0x1166868d0>"
      ]
     },
     "metadata": {},
     "output_type": "display_data"
    },
    {
     "data": {
      "image/png": "[encoded data removed]",
      "text/plain": [
       "<matplotlib.figure.Figure at 0x11668e4e0>"
      ]
     },
     "metadata": {},
     "output_type": "display_data"
    },
    {
     "name": "stdout",
     "output_type": "stream",
     "text": [
      "end of __analyze 3.8433783054351807\n"
     ]
    },
    {
     "data": {
      "text/html": [
       "<table width=50%><tr><td colspan=3 ><b> Column name: </b>birth</td></tr><tr><td colspan=3 ><b> Column datatype: </b>string</td></tr><tr><th>Datatype</td><th>Quantity</td><th>Percentage</td></tr><tr><td>None</td><td>0</td><td>0.00 %</td></tr><tr><td>Empty str</td><td>0</td><td>0.00 %</td></tr><tr><td>String</td><td>19</td><td>100.00 %</td></tr><tr><td>Integer</td><td>0</td><td>0.00 %</td></tr><tr><td>Float</td><td>0</td><td>0.00 %</td></tr></table>"
      ],
      "text/plain": [
       "<optimus.df_analyzer.ColumnTables at 0x115ed2b38>"
      ]
     },
     "metadata": {},
     "output_type": "display_data"
    },
    {
     "data": {
      "text/plain": [
       "<optimus.df_analyzer.DataTypeTable at 0x11669bef0>"
      ]
     },
     "metadata": {},
     "output_type": "display_data"
    },
    {
     "data": {
      "image/png": "[encoded data removed]",
      "text/plain": [
       "<matplotlib.figure.Figure at 0x116686c50>"
      ]
     },
     "metadata": {},
     "output_type": "display_data"
    },
    {
     "name": "stdout",
     "output_type": "stream",
     "text": [
      "end of __analyze 1.9685709476470947\n",
      "Total execution time:  28.550841808319092\n"
     ]
    },
    {
     "data": {
      "text/html": [
       "<table width=50%><tr><th colspan=3>General description</td></tr><tr><th colspan=1>Features</td><th colspan=2>Name or Quantity</td></tr><tr><th colspan=1>File Name</td><td colspan=2>file with no path</td></tr><tr><th colspan=1>Columns</td><td colspan=2>8</td></tr><tr><th colspan=1>Rows</td><td colspan=2>19</td></tr>"
      ],
      "text/plain": [
       "<optimus.df_analyzer.GeneralDescripTable at 0x116668240>"
      ]
     },
     "metadata": {},
     "output_type": "display_data"
    }
   ],
   "source": [
    "# Setting the new dataFrame transformed into the analyzer class\n",
    "analyzer.set_data_frame(transformer.df)\n",
    "analyzer_table = analyzer.column_analyze(\"*\", print_type=True, plots=True)"
   ]
  },
  {
   "cell_type": "markdown",
   "metadata": {},
   "source": [
    "It can be seen from output of the analyzer object, that there are columns with numbers\n",
    "even when ceratin column (for example) is supposed to be only of words or letters. \n",
    "\n",
    "In order to solve this problem, operationInType function of DataFrameTransformer class \n",
    "can be used. \n",
    "\n",
    "operationInType function is useful to make operations in a certain element of one dataType. In this particular example, it can be seen in the last output cell (specifically in 'product' column' that are values that don't fit the rest of the data, the aren't strings but they are numbers or empty strings. operationInType can take care about them and clean the column dataFrame."
   ]
  },
  {
   "cell_type": "markdown",
   "metadata": {},
   "source": [
    "In the following example, operationInType of function of DataFrameTransformer class is run in order to converts all posible \n",
    "parsables strings to integer into a null or none value. Notice how the 110790 value in product\n",
    "column have been changed, but the rest of the column has remained intact."
   ]
  },
  {
   "cell_type": "markdown",
   "metadata": {},
   "source": [
    "### Making transformation in the inferred dataType elements of a certains columns"
   ]
  },
  {
   "cell_type": "code",
   "execution_count": 20,
   "metadata": {},
   "outputs": [
    {
     "name": "stdout",
     "output_type": "stream",
     "text": [
      "+---+---------+--------+-------+---------+-----+----------+--------+\n",
      "| id|firstName|lastName|    age|billingId|price|     birth| product|\n",
      "+---+---------+--------+-------+---------+-----+----------+--------+\n",
      "|  1|     luis| alvarez|37.9032|      123|  200|07-07-1980|    cake|\n",
      "|  2|    andre|  ampere|67.8978|      423|  160|08-07-1950|    piza|\n",
      "|  3|    niels|    bohr|27.9005|      551|  160|09-07-1990|   pizza|\n",
      "|  4|     paul|   dirac|63.9113|      521|  160|10-07-1954|   pizza|\n",
      "|  5|   albert|einstein|27.9005|      634|  160|11-07-1990|   pizza|\n",
      "|  6|  galileo| galilei|87.9059|      672|  100|12-08-1930|   arepa|\n",
      "|  7|     carl|   gauss|47.9086|      323|   60|13-07-1970|    taco|\n",
      "|  8|    david| hilbert|67.8978|      624|   60|14-07-1950|taaaccoo|\n",
      "|  9| johannes|  kepler|97.9086|      735|   60|22-04-1920|    taco|\n",
      "| 10|    james| maxwell|94.9005|      875|   60|12-03-1923|    taco|\n",
      "+---+---------+--------+-------+---------+-----+----------+--------+\n",
      "only showing top 10 rows\n",
      "\n"
     ]
    }
   ],
   "source": [
    "# This function makes changes or transformation in the column specified only in the cells\n",
    "# that are recognized as the dataType specified. \n",
    "transformer.operation_in_type([('product', 'integer', None)]).show()"
   ]
  },
  {
   "cell_type": "markdown",
   "metadata": {},
   "source": [
    "Sometimes there a some values that are different but actually are the same. In the product\n",
    "column for example, there are the following values: 'taaaccoo', 'piza'. It \n",
    "can be inferred that the correct value is taco and piza and not the rest of them. This problem can\n",
    "be solved with the lookup function of the DataFrameTransformer class."
   ]
  },
  {
   "cell_type": "markdown",
   "metadata": {},
   "source": [
    "### Replacing multiple string values to a single string"
   ]
  },
  {
   "cell_type": "code",
   "execution_count": 21,
   "metadata": {},
   "outputs": [
    {
     "name": "stdout",
     "output_type": "stream",
     "text": [
      "+---+------------+--------+--------+---------+-----+----------+----------+\n",
      "| id|   firstName|lastName|     age|billingId|price|     birth|   product|\n",
      "+---+------------+--------+--------+---------+-----+----------+----------+\n",
      "|  1|        luis| alvarez| 37.9032|      123|  200|07-07-1980|      cake|\n",
      "|  2|       andre|  ampere| 67.8978|      423|  160|08-07-1950|     pizza|\n",
      "|  3|       niels|    bohr| 27.9005|      551|  160|09-07-1990|     pizza|\n",
      "|  4|        paul|   dirac| 63.9113|      521|  160|10-07-1954|     pizza|\n",
      "|  5|      albert|einstein| 27.9005|      634|  160|11-07-1990|     pizza|\n",
      "|  6|     galileo| galilei| 87.9059|      672|  100|12-08-1930|     arepa|\n",
      "|  7|        carl|   gauss| 47.9086|      323|   60|13-07-1970|      taco|\n",
      "|  8|       david| hilbert| 67.8978|      624|   60|14-07-1950|      taco|\n",
      "|  9|    johannes|  kepler| 97.9086|      735|   60|22-04-1920|      taco|\n",
      "| 10|       james| maxwell| 94.9005|      875|   60|12-03-1923|      taco|\n",
      "| 11|       isaac|  newton| 18.9113|      992|  180|15-02-1999|     pasta|\n",
      "| 12|        emmy| noether| 24.9113|      234|  180|08-12-1993|     pasta|\n",
      "| 13|         max|  planck| 23.9140|      111|   80|04-01-1994|hamburguer|\n",
      "| 14|        fred|   hoyle| 20.9059|      553|  160|27-06-1997|     pizza|\n",
      "| 15|   heinrich |   hertz| 61.8978|      116|  160|30-11-1956|     pizza|\n",
      "| 16|     william| gilbert| 59.9059|      886|   40|26-03-1958|      beer|\n",
      "| 17|       marie|   curie| 17.9140|      912|   20|22-03-2000|      rice|\n",
      "| 18|      arthur| compton|118.8978|      812|  100|01-01-1899|      null|\n",
      "| 19|       james|chadwick| 96.9140|      467|  200|03-05-1921|      null|\n",
      "+---+------------+--------+--------+---------+-----+----------+----------+\n",
      "\n"
     ]
    }
   ],
   "source": [
    "transformer.lookup('product', str_to_replace='taco', list_str=['taaaccoo']) \n",
    "transformer.lookup('product', str_to_replace='pizza', list_str=['piza', 'pizzza']) \n",
    "transformer.show(20)"
   ]
  },
  {
   "cell_type": "markdown",
   "metadata": {},
   "source": [
    "As can be notice above, string specified in the list argument 'list_str' have been\n",
    "replaced to 'str_to_replace' value. "
   ]
  },
  {
   "cell_type": "markdown",
   "metadata": {},
   "source": [
    "## Chaining and lazy evaluation"
   ]
  },
  {
   "cell_type": "markdown",
   "metadata": {},
   "source": [
    "The past transformations were done step by step, but this can be achieved by chaining\n",
    "all operations into one line of code, like the cell below. This way is much more efficient and scalable because it uses all optimization issues from the lazy evaluation approach."
   ]
  },
  {
   "cell_type": "markdown",
   "metadata": {},
   "source": [
    "All the transformation set before can be done into a single line of code thanks to the \n",
    "chaining feature of the DataFrameTransformer class. This option is a optimal way to \n",
    "make different transformations, because it uses as much as possible all advantages of\n",
    "the lazy evaluation approach. "
   ]
  },
  {
   "cell_type": "code",
   "execution_count": 22,
   "metadata": {},
   "outputs": [
    {
     "name": "stdout",
     "output_type": "stream",
     "text": [
      "+---+--------------------+--------------------+---------+----------+-----+----------+--------+\n",
      "| id|           firstName|            lastName|billingId|   product|price|     birth|dummyCol|\n",
      "+---+--------------------+--------------------+---------+----------+-----+----------+--------+\n",
      "|  1|                Luis|         Alvarez$$%!|      123|      Cake|   10|1980/07/07|   never|\n",
      "|  2|               André|              Ampère|      423|      piza|    8|1950/07/08|   gonna|\n",
      "|  3|               NiELS|          Böhr//((%%|      551|     pizza|    8|1990/07/09|    give|\n",
      "|  4|                PAUL|              dirac$|      521|     pizza|    8|1954/07/10|     you|\n",
      "|  5|              Albert|            Einstein|      634|     pizza|    8|1990/07/11|      up|\n",
      "|  6|             Galileo|             GALiLEI|      672|     arepa|    5|1930/08/12|   never|\n",
      "|  7|                CaRL|            Ga%%%uss|      323|      taco|    3|1970/07/13|   gonna|\n",
      "|  8|               David|          H$$$ilbert|      624|  taaaccoo|    3|1950/07/14|     let|\n",
      "|  9|            Johannes|              KEPLER|      735|      taco|    3|1920/04/22|     you|\n",
      "| 10|               JaMES|         M$$ax%%well|      875|      taco|    3|1923/03/12|    down|\n",
      "| 11|               Isaac|              Newton|      992|     pasta|    9|1999/02/15|  never |\n",
      "| 12|              Emmy%%|            Nöether$|      234|     pasta|    9|1993/12/08|   gonna|\n",
      "| 13|              Max!!!|           Planck!!!|      111|hamburguer|    4|1994/01/04|    run |\n",
      "| 14|                Fred|            Hoy&&&le|      553|    pizzza|    8|1997/06/27|  around|\n",
      "| 15|(((   Heinrich )))))|               Hertz|      116|     pizza|    8|1956/11/30|     and|\n",
      "| 16|             William|          Gilbert###|      886|      BEER|    2|1958/03/26|  desert|\n",
      "| 17|               Marie|               CURIE|      912|      Rice|    1|2000/03/22|     you|\n",
      "| 18|              Arthur|          COM%%%pton|      812|    110790|    5|1899/01/01|       #|\n",
      "| 19|               JAMES|            Chadwick|      467|      null|   10|1921/05/03|       #|\n",
      "+---+--------------------+--------------------+---------+----------+-----+----------+--------+\n",
      "\n",
      "+---+------------+--------+---------+-----+----------+---------+----------+\n",
      "| id|   firstName|lastName|billingId|price|     birth|clientAge|   product|\n",
      "+---+------------+--------+---------+-----+----------+---------+----------+\n",
      "|  1|        luis| alvarez|      123|   10|07-07-1980|  37.9032|      cake|\n",
      "|  2|       andre|  ampere|      423|    8|08-07-1950|  67.8978|     pizza|\n",
      "|  3|       niels|    bohr|      551|    8|09-07-1990|  27.9005|     pizza|\n",
      "|  4|        paul|   dirac|      521|    8|10-07-1954|  63.9113|     pizza|\n",
      "|  5|      albert|einstein|      634|    8|11-07-1990|  27.9005|     pizza|\n",
      "|  6|     galileo| galilei|      672|    5|12-08-1930|  87.9059|     arepa|\n",
      "|  7|        carl|   gauss|      323|    3|13-07-1970|  47.9086|      taco|\n",
      "|  8|       david| hilbert|      624|    3|14-07-1950|  67.8978|      taco|\n",
      "|  9|    johannes|  kepler|      735|    3|22-04-1920|  97.9086|      taco|\n",
      "| 10|       james| maxwell|      875|    3|12-03-1923|  94.9005|      taco|\n",
      "| 11|       isaac|  newton|      992|    9|15-02-1999|  18.9113|     pasta|\n",
      "| 12|        emmy| noether|      234|    9|08-12-1993|  24.9113|     pasta|\n",
      "| 13|         max|  planck|      111|    4|04-01-1994|  23.9140|hamburguer|\n",
      "| 14|        fred|   hoyle|      553|    8|27-06-1997|  20.9059|     pizza|\n",
      "| 15|   heinrich |   hertz|      116|    8|30-11-1956|  61.8978|     pizza|\n",
      "| 16|     william| gilbert|      886|    2|26-03-1958|  59.9059|      beer|\n",
      "| 17|       marie|   curie|      912|    1|22-03-2000|  17.9140|      rice|\n",
      "| 18|      arthur| compton|      812|    5|01-01-1899| 118.8978|      null|\n",
      "| 19|       james|chadwick|      467|   10|03-05-1921|  96.9140|      null|\n",
      "+---+------------+--------+---------+-----+----------+---------+----------+\n",
      "\n"
     ]
    }
   ],
   "source": [
    "# Instanciate DataFrameTransfomer\n",
    "transformer = op.DataFrameTransformer(df)\n",
    "# Get original dataFrame to show it.\n",
    "transformer.show(20)\n",
    "\n",
    "# Chaining function transformations\n",
    "transformer.trim_col(\"*\") \\\n",
    "           .remove_special_chars(\"*\") \\\n",
    "           .clear_accents(\"*\") \\\n",
    "           .lower_case(\"*\") \\\n",
    "           .drop_col(\"dummyCol\") \\\n",
    "           .date_transform(\"birth\", \"yyyyMMdd\", \"dd-MM-YYYY\") \\\n",
    "           .age_calculate(\"birth\", \"dd-MM-YYYY\", \"clientAge\") \\\n",
    "           .operation_in_type([('product', 'integer', None)]) \\\n",
    "           .lookup('product', str_to_replace='taco', list_str=['taaaccoo']) \\\n",
    "           .lookup('product', str_to_replace='pizza', list_str=['piza', 'pizzza'])  \\\n",
    "        \n",
    "        \n",
    "transformer.show(20)"
   ]
  }
 ],
 "metadata": {
  "kernelspec": {
   "display_name": "Python 3",
   "language": "python",
   "name": "python3"
  },
  "language_info": {
   "codemirror_mode": {
    "name": "ipython",
    "version": 3
   },
   "file_extension": ".py",
   "mimetype": "text/x-python",
   "name": "python",
   "nbconvert_exporter": "python",
   "pygments_lexer": "ipython3",
   "version": "3.6.4"
  }
 },
 "nbformat": 4,
 "nbformat_minor": 1
}
