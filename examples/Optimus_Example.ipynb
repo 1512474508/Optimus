{
 "cells": [
  {
   "cell_type": "markdown",
   "metadata": {},
   "source": [
    "# Optimus Example"
   ]
  },
  {
   "cell_type": "markdown",
   "metadata": {},
   "source": [
    "This Notebook is a simple tutorial about DataFrameTransformer, DataFrameAnalyzer and Utilities modules.\n",
    "\n",
    "- DataFrameTransformer is a dedicated module to easily make dataFrame transformations. \n",
    "\n",
    "- DataFrameAnalyzer is a dedicated module to plot and see important features of a spark\n",
    " Dataframe.\n",
    "\n",
    "- Utilities module contains tool classes that support use of DataFrameTransformer and DataFrameAnalyzer modules. "
   ]
  },
  {
   "cell_type": "markdown",
   "metadata": {},
   "source": [
    "### Importing Modules"
   ]
  },
  {
   "cell_type": "code",
   "execution_count": 3,
   "metadata": {
    "scrolled": true
   },
   "outputs": [],
   "source": [
    "# Importing DataFrameTransformer library\n",
    "from optimus.DfTransf import DataFrameTransformer\n",
    "# Importing DataFrameAnalyzer library\n",
    "from optimus.DfAnalizer import DataFrameAnalizer\n",
    "# Importing Utility library\n",
    "from optimus.utilities import *\n",
    "# Setting notebook to show plots inline\n",
    "%matplotlib inline \n",
    "# Import module for system tools \n",
    "import os"
   ]
  },
  {
   "cell_type": "markdown",
   "metadata": {},
   "source": [
    "### Instantiation of Utility class\n",
    "The utility class is a tool class that includes functions to read csv files, setting checkpoint issues (to save or temporally save dataFrames)."
   ]
  },
  {
   "cell_type": "code",
   "execution_count": 4,
   "metadata": {
    "collapsed": true
   },
   "outputs": [],
   "source": [
    "# Instance of Utilities class\n",
    "tools = Utilites()"
   ]
  },
  {
   "cell_type": "code",
   "execution_count": 5,
   "metadata": {},
   "outputs": [
    {
     "name": "stdout",
     "output_type": "stream",
     "text": [
      "Deleting previous folder if exists...\n",
      "Creation of checkpoint directory...\n",
      "Listo.\n"
     ]
    }
   ],
   "source": [
    "tools.setCheckPointFolder(os.getcwd(), \"local\")"
   ]
  },
  {
   "cell_type": "markdown",
   "metadata": {},
   "source": [
    "### Reading DataFrame"
   ]
  },
  {
   "cell_type": "code",
   "execution_count": 6,
   "metadata": {
    "collapsed": true
   },
   "outputs": [],
   "source": [
    "# Reading dataframe. os.getcwd() returns de current directory of the notebook \n",
    "# 'file:///' is a prefix that specifies the type of file system used, in this\n",
    "# case, local file system (hard drive of the pc) is used.\n",
    "filePath = \"file:///\" + os.getcwd() + \"/foo.csv\"\n",
    "\n",
    "df = tools.readDatasetCsv(path=filePath,\n",
    " delimiterMark=',')"
   ]
  },
  {
   "cell_type": "markdown",
   "metadata": {},
   "source": [
    "### Instantiation of analyzer class"
   ]
  },
  {
   "cell_type": "code",
   "execution_count": 7,
   "metadata": {
    "collapsed": true
   },
   "outputs": [],
   "source": [
    "# Instance of analyzer class\n",
    "analyzer = DataFrameAnalizer(df=df,pathFile=filePath)"
   ]
  },
  {
   "cell_type": "markdown",
   "metadata": {},
   "source": [
    "DataFrameAnalizer has a method called columnAnalize. This method can check all rows of\n",
    "dataFrame and tries to parse each element of each row to determine if the corresponding \n",
    "element is a string or a number. Besides, it can show 20 distinct values of each column\n",
    "classified according the possible datatype value, i.e: a number can be a string, so this \n",
    "function can recognize a number in a column of string dataType by trying to parse the string. \n",
    "\n",
    "Also the function can plot numerical or categorical histograms."
   ]
  },
  {
   "cell_type": "markdown",
   "metadata": {},
   "source": [
    "### General view of DataFrame"
   ]
  },
  {
   "cell_type": "markdown",
   "metadata": {},
   "source": [
    "Initially it is a good idea to see a general view of the DataFrame to be analyzed. \n",
    "\n",
    "In the following cell, the basic results of analyzing the DataFrame are made are shown. Basic results include a table that specifies the existing datatypes in each column dataFrame and other features. Also, for this particular case, the table of dataType is shown in order to visualize a sample of column content. "
   ]
  },
  {
   "cell_type": "code",
   "execution_count": 8,
   "metadata": {
    "scrolled": false
   },
   "outputs": [
    {
     "data": {
      "text/html": [
       "<table width=50%><tr><td colspan=3 ><b> Column name: </b>id</td></tr><tr><td colspan=3 ><b> Column datatype: </b>int</td></tr><tr><th>Datatype</td><th>Quantity</td><th>Percentage</td></tr><tr><td>None</td><td>0</td><td>0.00 %</td></tr><tr><td>Empty str</td><td>0</td><td>0.00 %</td></tr><tr><td>String</td><td>0</td><td>0.00 %</td></tr><tr><td>Integer</td><td>19</td><td>100.00 %</td></tr><tr><td>Float</td><td>0</td><td>0.00 %</td></tr></table>"
      ],
      "text/plain": [
       "<optimus.DfAnalizer.ColumnTables at 0x10f9ee7b8>"
      ]
     },
     "metadata": {},
     "output_type": "display_data"
    },
    {
     "name": "stdout",
     "output_type": "stream",
     "text": [
      "Min value:  1\n",
      "Max value:  19\n"
     ]
    },
    {
     "data": {
      "text/html": [
       "<table width=50%><tr></tr><tr></tr></table>"
      ],
      "text/plain": [
       "<optimus.DfAnalizer.DataTypeTable at 0x10fa405f8>"
      ]
     },
     "metadata": {},
     "output_type": "display_data"
    },
    {
     "name": "stdout",
     "output_type": "stream",
     "text": [
      "end of __analyze 6.755282878875732\n"
     ]
    },
    {
     "data": {
      "text/html": [
       "<table width=50%><tr><td colspan=3 ><b> Column name: </b>firstName</td></tr><tr><td colspan=3 ><b> Column datatype: </b>string</td></tr><tr><th>Datatype</td><th>Quantity</td><th>Percentage</td></tr><tr><td>None</td><td>0</td><td>0.00 %</td></tr><tr><td>Empty str</td><td>0</td><td>0.00 %</td></tr><tr><td>String</td><td>19</td><td>100.00 %</td></tr><tr><td>Integer</td><td>0</td><td>0.00 %</td></tr><tr><td>Float</td><td>0</td><td>0.00 %</td></tr></table>"
      ],
      "text/plain": [
       "<optimus.DfAnalizer.ColumnTables at 0x10fa40ba8>"
      ]
     },
     "metadata": {},
     "output_type": "display_data"
    },
    {
     "data": {
      "text/html": [
       "<table width=50%><tr><th style='text-align: center'>strings</th></tr><tr><td style='vertical-align: top;text-align: center;'><table width=100%><tr ><td style='text-align: center'><div style='min-height: 20px;'>André</div></td></tr><tr ><td style='text-align: center'><div style='min-height: 20px;'>JaMES</div></td></tr><tr ><td style='text-align: center'><div style='min-height: 20px;'>Fred</div></td></tr><tr ><td style='text-align: center'><div style='min-height: 20px;'>Max!!!</div></td></tr><tr ><td style='text-align: center'><div style='min-height: 20px;'>NiELS</div></td></tr><tr ><td style='text-align: center'><div style='min-height: 20px;'>Albert</div></td></tr><tr ><td style='text-align: center'><div style='min-height: 20px;'>CaRL</div></td></tr><tr ><td style='text-align: center'><div style='min-height: 20px;'>(((   Heinrich )))))</div></td></tr><tr ><td style='text-align: center'><div style='min-height: 20px;'>Arthur</div></td></tr><tr ><td style='text-align: center'><div style='min-height: 20px;'>Galileo</div></td></tr></table></td></tr></table>"
      ],
      "text/plain": [
       "<optimus.DfAnalizer.DataTypeTable at 0x10fa40c18>"
      ]
     },
     "metadata": {},
     "output_type": "display_data"
    },
    {
     "name": "stdout",
     "output_type": "stream",
     "text": [
      "end of __analyze 1.819901943206787\n"
     ]
    },
    {
     "data": {
      "text/html": [
       "<table width=50%><tr><td colspan=3 ><b> Column name: </b>lastName</td></tr><tr><td colspan=3 ><b> Column datatype: </b>string</td></tr><tr><th>Datatype</td><th>Quantity</td><th>Percentage</td></tr><tr><td>None</td><td>0</td><td>0.00 %</td></tr><tr><td>Empty str</td><td>0</td><td>0.00 %</td></tr><tr><td>String</td><td>19</td><td>100.00 %</td></tr><tr><td>Integer</td><td>0</td><td>0.00 %</td></tr><tr><td>Float</td><td>0</td><td>0.00 %</td></tr></table>"
      ],
      "text/plain": [
       "<optimus.DfAnalizer.ColumnTables at 0x10fa40128>"
      ]
     },
     "metadata": {},
     "output_type": "display_data"
    },
    {
     "data": {
      "text/html": [
       "<table width=50%><tr><th style='text-align: center'>strings</th></tr><tr><td style='vertical-align: top;text-align: center;'><table width=100%><tr ><td style='text-align: center'><div style='min-height: 20px;'>Hertz</div></td></tr><tr ><td style='text-align: center'><div style='min-height: 20px;'>COM%%%pton</div></td></tr><tr ><td style='text-align: center'><div style='min-height: 20px;'>dirac$</div></td></tr><tr ><td style='text-align: center'><div style='min-height: 20px;'>Ampère</div></td></tr><tr ><td style='text-align: center'><div style='min-height: 20px;'>Newton</div></td></tr><tr ><td style='text-align: center'><div style='min-height: 20px;'>M$$ax%%well</div></td></tr><tr ><td style='text-align: center'><div style='min-height: 20px;'>H$$$ilbert</div></td></tr><tr ><td style='text-align: center'><div style='min-height: 20px;'>Ga%%%uss</div></td></tr><tr ><td style='text-align: center'><div style='min-height: 20px;'>Gilbert###</div></td></tr><tr ><td style='text-align: center'><div style='min-height: 20px;'>Nöether$</div></td></tr></table></td></tr></table>"
      ],
      "text/plain": [
       "<optimus.DfAnalizer.DataTypeTable at 0x10f9cb5c0>"
      ]
     },
     "metadata": {},
     "output_type": "display_data"
    },
    {
     "name": "stdout",
     "output_type": "stream",
     "text": [
      "end of __analyze 1.3421449661254883\n"
     ]
    },
    {
     "data": {
      "text/html": [
       "<table width=50%><tr><td colspan=3 ><b> Column name: </b>billingId</td></tr><tr><td colspan=3 ><b> Column datatype: </b>int</td></tr><tr><th>Datatype</td><th>Quantity</td><th>Percentage</td></tr><tr><td>None</td><td>0</td><td>0.00 %</td></tr><tr><td>Empty str</td><td>0</td><td>0.00 %</td></tr><tr><td>String</td><td>0</td><td>0.00 %</td></tr><tr><td>Integer</td><td>19</td><td>100.00 %</td></tr><tr><td>Float</td><td>0</td><td>0.00 %</td></tr></table>"
      ],
      "text/plain": [
       "<optimus.DfAnalizer.ColumnTables at 0x10fac9400>"
      ]
     },
     "metadata": {},
     "output_type": "display_data"
    },
    {
     "name": "stdout",
     "output_type": "stream",
     "text": [
      "Min value:  111\n",
      "Max value:  992\n"
     ]
    },
    {
     "data": {
      "text/html": [
       "<table width=50%><tr></tr><tr></tr></table>"
      ],
      "text/plain": [
       "<optimus.DfAnalizer.DataTypeTable at 0x10fabcba8>"
      ]
     },
     "metadata": {},
     "output_type": "display_data"
    },
    {
     "name": "stdout",
     "output_type": "stream",
     "text": [
      "end of __analyze 2.5881779193878174\n"
     ]
    },
    {
     "data": {
      "text/html": [
       "<table width=50%><tr><td colspan=3 ><b> Column name: </b>product</td></tr><tr><td colspan=3 ><b> Column datatype: </b>string</td></tr><tr><th>Datatype</td><th>Quantity</td><th>Percentage</td></tr><tr><td>None</td><td>0</td><td>0.00 %</td></tr><tr><td>Empty str</td><td>0</td><td>0.00 %</td></tr><tr><td>String</td><td>18</td><td>94.74 %</td></tr><tr><td>Integer</td><td>1</td><td>5.26 %</td></tr><tr><td>Float</td><td>0</td><td>0.00 %</td></tr></table>"
      ],
      "text/plain": [
       "<optimus.DfAnalizer.ColumnTables at 0x10fabc898>"
      ]
     },
     "metadata": {},
     "output_type": "display_data"
    },
    {
     "data": {
      "text/html": [
       "<table width=50%><tr><th style='text-align: center'>integers</th><th style='text-align: center'>strings</th></tr><tr><td style='vertical-align: top;text-align: center;'><table width=100%><tr ><td style='text-align: center'><div style='min-height: 20px;'>110790</div></td></tr></table></td><td style='vertical-align: top;text-align: center;'><table width=100%><tr ><td style='text-align: center'><div style='min-height: 20px;'>taaaccoo</div></td></tr><tr ><td style='text-align: center'><div style='min-height: 20px;'>piza</div></td></tr><tr ><td style='text-align: center'><div style='min-height: 20px;'>hamburguer</div></td></tr><tr ><td style='text-align: center'><div style='min-height: 20px;'>taco</div></td></tr><tr ><td style='text-align: center'><div style='min-height: 20px;'>BEER</div></td></tr><tr ><td style='text-align: center'><div style='min-height: 20px;'>pizzza</div></td></tr><tr ><td style='text-align: center'><div style='min-height: 20px;'>arepa</div></td></tr><tr ><td style='text-align: center'><div style='min-height: 20px;'>pizza</div></td></tr><tr ><td style='text-align: center'><div style='min-height: 20px;'>Rice</div></td></tr><tr ><td style='text-align: center'><div style='min-height: 20px;'>Cake</div></td></tr></table></td></tr></table>"
      ],
      "text/plain": [
       "<optimus.DfAnalizer.DataTypeTable at 0x10fa77320>"
      ]
     },
     "metadata": {},
     "output_type": "display_data"
    },
    {
     "name": "stdout",
     "output_type": "stream",
     "text": [
      "end of __analyze 1.265305995941162\n"
     ]
    },
    {
     "data": {
      "text/html": [
       "<table width=50%><tr><td colspan=3 ><b> Column name: </b>price</td></tr><tr><td colspan=3 ><b> Column datatype: </b>int</td></tr><tr><th>Datatype</td><th>Quantity</td><th>Percentage</td></tr><tr><td>None</td><td>0</td><td>0.00 %</td></tr><tr><td>Empty str</td><td>0</td><td>0.00 %</td></tr><tr><td>String</td><td>0</td><td>0.00 %</td></tr><tr><td>Integer</td><td>19</td><td>100.00 %</td></tr><tr><td>Float</td><td>0</td><td>0.00 %</td></tr></table>"
      ],
      "text/plain": [
       "<optimus.DfAnalizer.ColumnTables at 0x10fab16a0>"
      ]
     },
     "metadata": {},
     "output_type": "display_data"
    },
    {
     "name": "stdout",
     "output_type": "stream",
     "text": [
      "Min value:  1\n",
      "Max value:  10\n"
     ]
    },
    {
     "data": {
      "text/html": [
       "<table width=50%><tr></tr><tr></tr></table>"
      ],
      "text/plain": [
       "<optimus.DfAnalizer.DataTypeTable at 0x10f9eecc0>"
      ]
     },
     "metadata": {},
     "output_type": "display_data"
    },
    {
     "name": "stdout",
     "output_type": "stream",
     "text": [
      "end of __analyze 1.3205790519714355\n"
     ]
    },
    {
     "data": {
      "text/html": [
       "<table width=50%><tr><td colspan=3 ><b> Column name: </b>birth</td></tr><tr><td colspan=3 ><b> Column datatype: </b>string</td></tr><tr><th>Datatype</td><th>Quantity</td><th>Percentage</td></tr><tr><td>None</td><td>0</td><td>0.00 %</td></tr><tr><td>Empty str</td><td>0</td><td>0.00 %</td></tr><tr><td>String</td><td>19</td><td>100.00 %</td></tr><tr><td>Integer</td><td>0</td><td>0.00 %</td></tr><tr><td>Float</td><td>0</td><td>0.00 %</td></tr></table>"
      ],
      "text/plain": [
       "<optimus.DfAnalizer.ColumnTables at 0x10face470>"
      ]
     },
     "metadata": {},
     "output_type": "display_data"
    },
    {
     "data": {
      "text/html": [
       "<table width=50%><tr><th style='text-align: center'>strings</th></tr><tr><td style='vertical-align: top;text-align: center;'><table width=100%><tr ><td style='text-align: center'><div style='min-height: 20px;'>1921/05/03</div></td></tr><tr ><td style='text-align: center'><div style='min-height: 20px;'>1970/07/13</div></td></tr><tr ><td style='text-align: center'><div style='min-height: 20px;'>1930/08/12</div></td></tr><tr ><td style='text-align: center'><div style='min-height: 20px;'>1997/06/27</div></td></tr><tr ><td style='text-align: center'><div style='min-height: 20px;'>1999/02/15</div></td></tr><tr ><td style='text-align: center'><div style='min-height: 20px;'>1993/12/08</div></td></tr><tr ><td style='text-align: center'><div style='min-height: 20px;'>1980/07/07</div></td></tr><tr ><td style='text-align: center'><div style='min-height: 20px;'>1899/01/01</div></td></tr><tr ><td style='text-align: center'><div style='min-height: 20px;'>1950/07/14</div></td></tr><tr ><td style='text-align: center'><div style='min-height: 20px;'>2000/03/22</div></td></tr></table></td></tr></table>"
      ],
      "text/plain": [
       "<optimus.DfAnalizer.DataTypeTable at 0x10fa77710>"
      ]
     },
     "metadata": {},
     "output_type": "display_data"
    },
    {
     "name": "stdout",
     "output_type": "stream",
     "text": [
      "end of __analyze 1.303837776184082\n"
     ]
    },
    {
     "data": {
      "text/html": [
       "<table width=50%><tr><td colspan=3 ><b> Column name: </b>dummyCol</td></tr><tr><td colspan=3 ><b> Column datatype: </b>string</td></tr><tr><th>Datatype</td><th>Quantity</td><th>Percentage</td></tr><tr><td>None</td><td>0</td><td>0.00 %</td></tr><tr><td>Empty str</td><td>0</td><td>0.00 %</td></tr><tr><td>String</td><td>19</td><td>100.00 %</td></tr><tr><td>Integer</td><td>0</td><td>0.00 %</td></tr><tr><td>Float</td><td>0</td><td>0.00 %</td></tr></table>"
      ],
      "text/plain": [
       "<optimus.DfAnalizer.ColumnTables at 0x10fac9e48>"
      ]
     },
     "metadata": {},
     "output_type": "display_data"
    },
    {
     "data": {
      "text/html": [
       "<table width=50%><tr><th style='text-align: center'>strings</th></tr><tr><td style='vertical-align: top;text-align: center;'><table width=100%><tr ><td style='text-align: center'><div style='min-height: 20px;'>never </div></td></tr><tr ><td style='text-align: center'><div style='min-height: 20px;'>down</div></td></tr><tr ><td style='text-align: center'><div style='min-height: 20px;'>you</div></td></tr><tr ><td style='text-align: center'><div style='min-height: 20px;'>gonna</div></td></tr><tr ><td style='text-align: center'><div style='min-height: 20px;'>run </div></td></tr><tr ><td style='text-align: center'><div style='min-height: 20px;'>desert</div></td></tr><tr ><td style='text-align: center'><div style='min-height: 20px;'>never</div></td></tr><tr ><td style='text-align: center'><div style='min-height: 20px;'>up</div></td></tr><tr ><td style='text-align: center'><div style='min-height: 20px;'>and</div></td></tr><tr ><td style='text-align: center'><div style='min-height: 20px;'>around</div></td></tr></table></td></tr></table>"
      ],
      "text/plain": [
       "<optimus.DfAnalizer.DataTypeTable at 0x10face518>"
      ]
     },
     "metadata": {},
     "output_type": "display_data"
    },
    {
     "name": "stdout",
     "output_type": "stream",
     "text": [
      "end of __analyze 1.2761359214782715\n",
      "Total execution time:  18.418708086013794\n"
     ]
    },
    {
     "data": {
      "text/html": [
       "<table width=50%><tr><th colspan=3>General description</td></tr><tr><th colspan=1>Features</td><th colspan=2>Name or Quantity</td></tr><tr><th colspan=1>File Name</td><td colspan=2>foo.csv</td></tr><tr><th colspan=1>Columns</td><td colspan=2>8</td></tr><tr><th colspan=1>Rows</td><td colspan=2>19</td></tr>"
      ],
      "text/plain": [
       "<optimus.DfAnalizer.GeneralDescripTable at 0x10fac9e48>"
      ]
     },
     "metadata": {},
     "output_type": "display_data"
    }
   ],
   "source": [
    "analyzerJson = analyzer.columnAnalize(columnList=\"*\", printType=True, plots=False)"
   ]
  },
  {
   "cell_type": "markdown",
   "metadata": {},
   "source": [
    "The results obtained by running the analyzer class, details the presence of special chars, \n",
    "string columns with possible numbers on them and None and empty string values in columns."
   ]
  },
  {
   "cell_type": "markdown",
   "metadata": {},
   "source": [
    "### Instantiation of DataFrameTransformer\n",
    "DataFrameTransformer is a specialized class to make dataFrame transformations. Transformations are optimized as much as possible to internally used native spark \n",
    "transformation functions."
   ]
  },
  {
   "cell_type": "code",
   "execution_count": 9,
   "metadata": {
    "collapsed": true
   },
   "outputs": [],
   "source": [
    "# Instance of transformer class \n",
    "transformer = DataFrameTransformer(df)"
   ]
  },
  {
   "cell_type": "markdown",
   "metadata": {},
   "source": [
    "### Trimming blanck spaces at beginning and endings of cells dataFrames"
   ]
  },
  {
   "cell_type": "code",
   "execution_count": 10,
   "metadata": {},
   "outputs": [
    {
     "name": "stdout",
     "output_type": "stream",
     "text": [
      "Original dataFrame:\n",
      "+---+---------+-----------+---------+-------+-----+----------+--------+\n",
      "| id|firstName|   lastName|billingId|product|price|     birth|dummyCol|\n",
      "+---+---------+-----------+---------+-------+-----+----------+--------+\n",
      "|  1|     Luis|Alvarez$$%!|      123|   Cake|   10|1980/07/07|   never|\n",
      "|  2|    André|     Ampère|      423|   piza|    8|1950/07/08|   gonna|\n",
      "|  3|    NiELS| Böhr//((%%|      551|  pizza|    8|1990/07/09|    give|\n",
      "|  4|     PAUL|     dirac$|      521|  pizza|    8|1954/07/10|     you|\n",
      "|  5|   Albert|   Einstein|      634|  pizza|    8|1990/07/11|      up|\n",
      "+---+---------+-----------+---------+-------+-----+----------+--------+\n",
      "only showing top 5 rows\n",
      "\n",
      "Trimmed dataFrame:\n",
      "+---+---------+-----------+---------+-------+-----+----------+--------+\n",
      "| id|firstName|   lastName|billingId|product|price|     birth|dummyCol|\n",
      "+---+---------+-----------+---------+-------+-----+----------+--------+\n",
      "|  1|     Luis|Alvarez$$%!|      123|   Cake|   10|1980/07/07|   never|\n",
      "|  2|    André|     Ampère|      423|   piza|    8|1950/07/08|   gonna|\n",
      "|  3|    NiELS| Böhr//((%%|      551|  pizza|    8|1990/07/09|    give|\n",
      "|  4|     PAUL|     dirac$|      521|  pizza|    8|1954/07/10|     you|\n",
      "|  5|   Albert|   Einstein|      634|  pizza|    8|1990/07/11|      up|\n",
      "+---+---------+-----------+---------+-------+-----+----------+--------+\n",
      "only showing top 5 rows\n",
      "\n"
     ]
    }
   ],
   "source": [
    "# Printing of original dataFrame:\n",
    "print('Original dataFrame:')\n",
    "transformer.getDataframe().show(5)\n",
    "\n",
    "# Triming string blank spaces:\n",
    "transformer.trimCol(\"*\")\n",
    "\n",
    "# Printing trimmed dataFrame:\n",
    "print('Trimmed dataFrame:')\n",
    "transformer.getDataframe().show(5)"
   ]
  },
  {
   "cell_type": "markdown",
   "metadata": {},
   "source": [
    "### Removing especial chars and accents:"
   ]
  },
  {
   "cell_type": "code",
   "execution_count": 11,
   "metadata": {},
   "outputs": [
    {
     "name": "stdout",
     "output_type": "stream",
     "text": [
      "Original dataFrame:\n",
      "+---+---------+-----------+---------+-------+-----+----------+--------+\n",
      "| id|firstName|   lastName|billingId|product|price|     birth|dummyCol|\n",
      "+---+---------+-----------+---------+-------+-----+----------+--------+\n",
      "|  1|     Luis|Alvarez$$%!|      123|   Cake|   10|1980/07/07|   never|\n",
      "|  2|    André|     Ampère|      423|   piza|    8|1950/07/08|   gonna|\n",
      "|  3|    NiELS| Böhr//((%%|      551|  pizza|    8|1990/07/09|    give|\n",
      "|  4|     PAUL|     dirac$|      521|  pizza|    8|1954/07/10|     you|\n",
      "|  5|   Albert|   Einstein|      634|  pizza|    8|1990/07/11|      up|\n",
      "+---+---------+-----------+---------+-------+-----+----------+--------+\n",
      "only showing top 5 rows\n",
      "\n",
      "Removing special chars and accents dataFrame:\n",
      "+---+---------+--------+---------+-------+-----+--------+--------+\n",
      "| id|firstName|lastName|billingId|product|price|   birth|dummyCol|\n",
      "+---+---------+--------+---------+-------+-----+--------+--------+\n",
      "|  1|     Luis| Alvarez|      123|   Cake|   10|19800707|   never|\n",
      "|  2|    Andre|  Ampere|      423|   piza|    8|19500708|   gonna|\n",
      "|  3|    NiELS|    Bohr|      551|  pizza|    8|19900709|    give|\n",
      "|  4|     PAUL|   dirac|      521|  pizza|    8|19540710|     you|\n",
      "|  5|   Albert|Einstein|      634|  pizza|    8|19900711|      up|\n",
      "+---+---------+--------+---------+-------+-----+--------+--------+\n",
      "only showing top 5 rows\n",
      "\n"
     ]
    }
   ],
   "source": [
    "# Printing of original dataFrame:\n",
    "print('Original dataFrame:')\n",
    "transformer.getDataframe().show(5)\n",
    "\n",
    "# Remove special chars:\n",
    "transformer.removeSpecialChars(\"*\").clearAccents(\"*\")\n",
    "\n",
    "# This can also be done by passing a Regex if you want something more personalized\n",
    "\n",
    "#####################################################################\n",
    "\n",
    "#transformer.removeSpecialCharsRegex(\"*\",'[^\\w\\s]').clearAccents(\"*\")\n",
    "\n",
    "#####################################################################\n",
    "\n",
    "# Printing trimmed dataFrame:\n",
    "print('Removing special chars and accents dataFrame:')\n",
    "transformer.getDataframe().show(5)"
   ]
  },
  {
   "cell_type": "markdown",
   "metadata": {},
   "source": [
    "### Drop dummy column"
   ]
  },
  {
   "cell_type": "code",
   "execution_count": 12,
   "metadata": {},
   "outputs": [
    {
     "name": "stdout",
     "output_type": "stream",
     "text": [
      "Original dataFrame:\n",
      "+---+---------+--------+---------+-------+-----+--------+--------+\n",
      "| id|firstName|lastName|billingId|product|price|   birth|dummyCol|\n",
      "+---+---------+--------+---------+-------+-----+--------+--------+\n",
      "|  1|     Luis| Alvarez|      123|   Cake|   10|19800707|   never|\n",
      "|  2|    Andre|  Ampere|      423|   piza|    8|19500708|   gonna|\n",
      "|  3|    NiELS|    Bohr|      551|  pizza|    8|19900709|    give|\n",
      "|  4|     PAUL|   dirac|      521|  pizza|    8|19540710|     you|\n",
      "|  5|   Albert|Einstein|      634|  pizza|    8|19900711|      up|\n",
      "+---+---------+--------+---------+-------+-----+--------+--------+\n",
      "only showing top 5 rows\n",
      "\n",
      "Dataframe without dummy column:\n",
      "+---+---------+--------+---------+-------+-----+--------+\n",
      "| id|firstName|lastName|billingId|product|price|   birth|\n",
      "+---+---------+--------+---------+-------+-----+--------+\n",
      "|  1|     Luis| Alvarez|      123|   Cake|   10|19800707|\n",
      "|  2|    Andre|  Ampere|      423|   piza|    8|19500708|\n",
      "|  3|    NiELS|    Bohr|      551|  pizza|    8|19900709|\n",
      "|  4|     PAUL|   dirac|      521|  pizza|    8|19540710|\n",
      "|  5|   Albert|Einstein|      634|  pizza|    8|19900711|\n",
      "+---+---------+--------+---------+-------+-----+--------+\n",
      "only showing top 5 rows\n",
      "\n"
     ]
    }
   ],
   "source": [
    "# Printing of original dataFrame:\n",
    "print('Original dataFrame:')\n",
    "transformer.getDataframe().show(5)\n",
    "\n",
    "# Droping a column:\n",
    "transformer.dropCol(\"dummyCol\")\n",
    "\n",
    "# Printing trimmed dataFrame:\n",
    "print('Dataframe without dummy column:')\n",
    "transformer.getDataframe().show(5)"
   ]
  },
  {
   "cell_type": "markdown",
   "metadata": {},
   "source": [
    "### Setting all letters to lowerCase"
   ]
  },
  {
   "cell_type": "code",
   "execution_count": 13,
   "metadata": {},
   "outputs": [
    {
     "name": "stdout",
     "output_type": "stream",
     "text": [
      "Original dataFrame:\n",
      "+---+---------+--------+---------+-------+-----+--------+\n",
      "| id|firstName|lastName|billingId|product|price|   birth|\n",
      "+---+---------+--------+---------+-------+-----+--------+\n",
      "|  1|     Luis| Alvarez|      123|   Cake|   10|19800707|\n",
      "|  2|    Andre|  Ampere|      423|   piza|    8|19500708|\n",
      "|  3|    NiELS|    Bohr|      551|  pizza|    8|19900709|\n",
      "|  4|     PAUL|   dirac|      521|  pizza|    8|19540710|\n",
      "|  5|   Albert|Einstein|      634|  pizza|    8|19900711|\n",
      "+---+---------+--------+---------+-------+-----+--------+\n",
      "only showing top 5 rows\n",
      "\n",
      "Setting all letters to lowerCase:\n",
      "+---+---------+--------+---------+-------+-----+--------+\n",
      "| id|firstName|lastName|billingId|product|price|   birth|\n",
      "+---+---------+--------+---------+-------+-----+--------+\n",
      "|  1|     luis| alvarez|      123|   cake|   10|19800707|\n",
      "|  2|    andre|  ampere|      423|   piza|    8|19500708|\n",
      "|  3|    niels|    bohr|      551|  pizza|    8|19900709|\n",
      "|  4|     paul|   dirac|      521|  pizza|    8|19540710|\n",
      "|  5|   albert|einstein|      634|  pizza|    8|19900711|\n",
      "+---+---------+--------+---------+-------+-----+--------+\n",
      "only showing top 5 rows\n",
      "\n"
     ]
    }
   ],
   "source": [
    "# Printing of original dataFrame:\n",
    "print('Original dataFrame:')\n",
    "transformer.getDataframe().show(5)\n",
    "\n",
    "print('Setting all letters to lowerCase:')\n",
    "transformer.lowerCase(\"*\")\n",
    "transformer.getDataframe().show(5)"
   ]
  },
  {
   "cell_type": "markdown",
   "metadata": {},
   "source": [
    "### Date Transformation (Format of date is changed)"
   ]
  },
  {
   "cell_type": "code",
   "execution_count": 14,
   "metadata": {},
   "outputs": [
    {
     "name": "stdout",
     "output_type": "stream",
     "text": [
      "Original dataFrame:\n",
      "+---+---------+--------+---------+-------+-----+--------+\n",
      "| id|firstName|lastName|billingId|product|price|   birth|\n",
      "+---+---------+--------+---------+-------+-----+--------+\n",
      "|  1|     luis| alvarez|      123|   cake|   10|19800707|\n",
      "|  2|    andre|  ampere|      423|   piza|    8|19500708|\n",
      "|  3|    niels|    bohr|      551|  pizza|    8|19900709|\n",
      "|  4|     paul|   dirac|      521|  pizza|    8|19540710|\n",
      "|  5|   albert|einstein|      634|  pizza|    8|19900711|\n",
      "+---+---------+--------+---------+-------+-----+--------+\n",
      "only showing top 5 rows\n",
      "\n",
      "Dataframe without dummy column:\n",
      "+---+---------+--------+---------+-------+-----+----------+\n",
      "| id|firstName|lastName|billingId|product|price|     birth|\n",
      "+---+---------+--------+---------+-------+-----+----------+\n",
      "|  1|     luis| alvarez|      123|   cake|   10|07-07-1980|\n",
      "|  2|    andre|  ampere|      423|   piza|    8|08-07-1950|\n",
      "|  3|    niels|    bohr|      551|  pizza|    8|09-07-1990|\n",
      "|  4|     paul|   dirac|      521|  pizza|    8|10-07-1954|\n",
      "|  5|   albert|einstein|      634|  pizza|    8|11-07-1990|\n",
      "+---+---------+--------+---------+-------+-----+----------+\n",
      "only showing top 5 rows\n",
      "\n"
     ]
    }
   ],
   "source": [
    "# Printing of original dataFrame:\n",
    "print('Original dataFrame:')\n",
    "transformer.getDataframe().show(5)\n",
    "\n",
    "# Priting the new date format:\n",
    "print('Dataframe without dummy column:')\n",
    "transformer.dateTransform(\"birth\", \"yyyyMMdd\", \"dd-MM-YYYY\") \\\n",
    "           .getDataframe() \\\n",
    "           .show(5)"
   ]
  },
  {
   "cell_type": "markdown",
   "metadata": {},
   "source": [
    "### Age calculation from birth date client"
   ]
  },
  {
   "cell_type": "code",
   "execution_count": 15,
   "metadata": {},
   "outputs": [
    {
     "name": "stdout",
     "output_type": "stream",
     "text": [
      "Original dataFrame:\n",
      "+---+---------+--------+---------+-------+-----+----------+\n",
      "| id|firstName|lastName|billingId|product|price|     birth|\n",
      "+---+---------+--------+---------+-------+-----+----------+\n",
      "|  1|     luis| alvarez|      123|   cake|   10|07-07-1980|\n",
      "|  2|    andre|  ampere|      423|   piza|    8|08-07-1950|\n",
      "|  3|    niels|    bohr|      551|  pizza|    8|09-07-1990|\n",
      "|  4|     paul|   dirac|      521|  pizza|    8|10-07-1954|\n",
      "|  5|   albert|einstein|      634|  pizza|    8|11-07-1990|\n",
      "+---+---------+--------+---------+-------+-----+----------+\n",
      "only showing top 5 rows\n",
      "\n",
      "Printing calculation of age born date client\n",
      "+---+---------+--------+---------+-------+-----+----------+---------+\n",
      "| id|firstName|lastName|billingId|product|price|     birth|clientAge|\n",
      "+---+---------+--------+---------+-------+-----+----------+---------+\n",
      "|  1|     luis| alvarez|      123|   cake|   10|07-07-1980|  37.6237|\n",
      "|  2|    andre|  ampere|      423|   piza|    8|08-07-1950|  67.6183|\n",
      "|  3|    niels|    bohr|      551|  pizza|    8|09-07-1990|  27.6210|\n",
      "|  4|     paul|   dirac|      521|  pizza|    8|10-07-1954|  63.6317|\n",
      "|  5|   albert|einstein|      634|  pizza|    8|11-07-1990|  27.6210|\n",
      "+---+---------+--------+---------+-------+-----+----------+---------+\n",
      "only showing top 5 rows\n",
      "\n"
     ]
    }
   ],
   "source": [
    "# Printing of original dataFrame:\n",
    "print('Original dataFrame:')\n",
    "transformer.getDataframe().show(5)\n",
    "\n",
    "print(\"Printing calculation of age born date client\")\n",
    "transformer.ageCalculate(\"birth\", \"dd-MM-YYYY\", \"clientAge\") \\\n",
    "           .getDataframe() \\\n",
    "           .show(5)"
   ]
  },
  {
   "cell_type": "markdown",
   "metadata": {},
   "source": [
    "### Renaming columns:"
   ]
  },
  {
   "cell_type": "code",
   "execution_count": 16,
   "metadata": {},
   "outputs": [
    {
     "name": "stdout",
     "output_type": "stream",
     "text": [
      "Original dataframe\n",
      "+---+---------+--------+---------+-------+-----+----------+---------+\n",
      "| id|firstName|lastName|billingId|product|price|     birth|clientAge|\n",
      "+---+---------+--------+---------+-------+-----+----------+---------+\n",
      "|  1|     luis| alvarez|      123|   cake|   10|07-07-1980|  37.6237|\n",
      "|  2|    andre|  ampere|      423|   piza|    8|08-07-1950|  67.6183|\n",
      "|  3|    niels|    bohr|      551|  pizza|    8|09-07-1990|  27.6210|\n",
      "|  4|     paul|   dirac|      521|  pizza|    8|10-07-1954|  63.6317|\n",
      "|  5|   albert|einstein|      634|  pizza|    8|11-07-1990|  27.6210|\n",
      "+---+---------+--------+---------+-------+-----+----------+---------+\n",
      "only showing top 5 rows\n",
      "\n",
      "Renaming some columns of dataFrame\n",
      "+-------+---+---------+--------+---------+-------+-----+----------+\n",
      "|    age| id|firstName|lastName|billingId|product|price|     birth|\n",
      "+-------+---+---------+--------+---------+-------+-----+----------+\n",
      "|37.6237|  1|     luis| alvarez|      123|   cake|   10|07-07-1980|\n",
      "|67.6183|  2|    andre|  ampere|      423|   piza|    8|08-07-1950|\n",
      "|27.6210|  3|    niels|    bohr|      551|  pizza|    8|09-07-1990|\n",
      "|63.6317|  4|     paul|   dirac|      521|  pizza|    8|10-07-1954|\n",
      "|27.6210|  5|   albert|einstein|      634|  pizza|    8|11-07-1990|\n",
      "+-------+---+---------+--------+---------+-------+-----+----------+\n",
      "only showing top 5 rows\n",
      "\n"
     ]
    }
   ],
   "source": [
    "# Printing original dataframe:\n",
    "print (\"Original dataframe\")\n",
    "transformer.getDataframe().show(5)\n",
    "print (\"Renaming some columns of dataFrame\")\n",
    "transformer.renameCol(columns=[(\"clientAge\", \"age\")])\n",
    "transformer.getDataframe().show(5)"
   ]
  },
  {
   "cell_type": "markdown",
   "metadata": {},
   "source": [
    "### Changing positions of columns dataframe:"
   ]
  },
  {
   "cell_type": "code",
   "execution_count": 17,
   "metadata": {},
   "outputs": [
    {
     "name": "stdout",
     "output_type": "stream",
     "text": [
      "Original dataframe\n",
      "+-------+---+---------+--------+---------+-------+-----+----------+\n",
      "|    age| id|firstName|lastName|billingId|product|price|     birth|\n",
      "+-------+---+---------+--------+---------+-------+-----+----------+\n",
      "|37.6237|  1|     luis| alvarez|      123|   cake|   10|07-07-1980|\n",
      "|67.6183|  2|    andre|  ampere|      423|   piza|    8|08-07-1950|\n",
      "|27.6210|  3|    niels|    bohr|      551|  pizza|    8|09-07-1990|\n",
      "|63.6317|  4|     paul|   dirac|      521|  pizza|    8|10-07-1954|\n",
      "|27.6210|  5|   albert|einstein|      634|  pizza|    8|11-07-1990|\n",
      "+-------+---+---------+--------+---------+-------+-----+----------+\n",
      "only showing top 5 rows\n",
      "\n",
      "age column moved\n",
      "+---+---------+--------+-------+---------+-------+-----+----------+\n",
      "| id|firstName|lastName|    age|billingId|product|price|     birth|\n",
      "+---+---------+--------+-------+---------+-------+-----+----------+\n",
      "|  1|     luis| alvarez|37.6237|      123|   cake|   10|07-07-1980|\n",
      "|  2|    andre|  ampere|67.6183|      423|   piza|    8|08-07-1950|\n",
      "|  3|    niels|    bohr|27.6210|      551|  pizza|    8|09-07-1990|\n",
      "|  4|     paul|   dirac|63.6317|      521|  pizza|    8|10-07-1954|\n",
      "|  5|   albert|einstein|27.6210|      634|  pizza|    8|11-07-1990|\n",
      "+---+---------+--------+-------+---------+-------+-----+----------+\n",
      "only showing top 5 rows\n",
      "\n"
     ]
    }
   ],
   "source": [
    "# Printing original dataframe:\n",
    "print (\"Original dataframe\")\n",
    "transformer.getDataframe().show(5)\n",
    "\n",
    "# This action is to move column age, just after the lastName column\n",
    "print (\"age column moved\")\n",
    "transformer.moveCol(\"age\", \"lastName\", \"after\")\n",
    "transformer.getDataframe().show(5)"
   ]
  },
  {
   "cell_type": "markdown",
   "metadata": {},
   "source": [
    "### Setting a custom transformation\n",
    "The core of this function is base on the user define function provide from the lambda function provided in the 'func' argument. \n",
    "\n",
    "In this example, cells that are not greater than 20, are multiplied by 20, the rest of them stay intact."
   ]
  },
  {
   "cell_type": "code",
   "execution_count": 18,
   "metadata": {},
   "outputs": [
    {
     "name": "stdout",
     "output_type": "stream",
     "text": [
      "Original dataframe\n",
      "+---+---------+--------+-------+---------+-------+-----+----------+\n",
      "| id|firstName|lastName|    age|billingId|product|price|     birth|\n",
      "+---+---------+--------+-------+---------+-------+-----+----------+\n",
      "|  1|     luis| alvarez|37.6237|      123|   cake|   10|07-07-1980|\n",
      "|  2|    andre|  ampere|67.6183|      423|   piza|    8|08-07-1950|\n",
      "|  3|    niels|    bohr|27.6210|      551|  pizza|    8|09-07-1990|\n",
      "|  4|     paul|   dirac|63.6317|      521|  pizza|    8|10-07-1954|\n",
      "|  5|   albert|einstein|27.6210|      634|  pizza|    8|11-07-1990|\n",
      "+---+---------+--------+-------+---------+-------+-----+----------+\n",
      "only showing top 5 rows\n",
      "\n",
      " Multiplying by 20 a number if value in cell is greater than 20:\n",
      "+---+------------+--------+--------+---------+----------+-----+----------+\n",
      "| id|   firstName|lastName|     age|billingId|   product|price|     birth|\n",
      "+---+------------+--------+--------+---------+----------+-----+----------+\n",
      "|  1|        luis| alvarez| 37.6237|      123|      cake|  200|07-07-1980|\n",
      "|  2|       andre|  ampere| 67.6183|      423|      piza|  160|08-07-1950|\n",
      "|  3|       niels|    bohr| 27.6210|      551|     pizza|  160|09-07-1990|\n",
      "|  4|        paul|   dirac| 63.6317|      521|     pizza|  160|10-07-1954|\n",
      "|  5|      albert|einstein| 27.6210|      634|     pizza|  160|11-07-1990|\n",
      "|  6|     galileo| galilei| 87.6263|      672|     arepa|  100|12-08-1930|\n",
      "|  7|        carl|   gauss| 47.6290|      323|      taco|   60|13-07-1970|\n",
      "|  8|       david| hilbert| 67.6183|      624|  taaaccoo|   60|14-07-1950|\n",
      "|  9|    johannes|  kepler| 97.6290|      735|      taco|   60|22-04-1920|\n",
      "| 10|       james| maxwell| 94.6210|      875|      taco|   60|12-03-1923|\n",
      "| 11|       isaac|  newton| 18.6317|      992|     pasta|  180|15-02-1999|\n",
      "| 12|        emmy| noether| 24.6317|      234|     pasta|  180|08-12-1993|\n",
      "| 13|         max|  planck| 23.6344|      111|hamburguer|   80|04-01-1994|\n",
      "| 14|        fred|   hoyle| 20.6263|      553|    pizzza|  160|27-06-1997|\n",
      "| 15|   heinrich |   hertz| 61.6183|      116|     pizza|  160|30-11-1956|\n",
      "| 16|     william| gilbert| 59.6263|      886|      beer|   40|26-03-1958|\n",
      "| 17|       marie|   curie| 17.6344|      912|      rice|   20|22-03-2000|\n",
      "| 18|      arthur| compton|118.6183|      812|    110790|  100|01-01-1899|\n",
      "| 19|       james|chadwick| 96.6344|      467|      null|  200|03-05-1921|\n",
      "+---+------------+--------+--------+---------+----------+-----+----------+\n",
      "\n"
     ]
    }
   ],
   "source": [
    "# Printing original dataframe:\n",
    "print (\"Original dataframe\")\n",
    "transformer.getDataframe().show(5)\n",
    "\n",
    "print (' Multiplying by 20 a number if value in cell is greater than 20:')\n",
    "# Replacing a number:   \n",
    "func = lambda cell: (cell * 20) if ((cell != None) and (cell < 20)) else cell\n",
    "transformer.setCol(['price'], func, 'integer')\n",
    "transformer.getDataframe().show(20)"
   ]
  },
  {
   "cell_type": "markdown",
   "metadata": {},
   "source": [
    "After the transformation process detailed in the previous cells. It is a good idea to\n",
    "analyze to see if the transformations have solved issued related with special characters, \n",
    "presence of number in column where is to supposed only letters, etc."
   ]
  },
  {
   "cell_type": "markdown",
   "metadata": {},
   "source": [
    "### Analyzing columns after transformations"
   ]
  },
  {
   "cell_type": "code",
   "execution_count": 19,
   "metadata": {
    "scrolled": false
   },
   "outputs": [
    {
     "data": {
      "text/html": [
       "<table width=50%><tr><td colspan=3 ><b> Column name: </b>id</td></tr><tr><td colspan=3 ><b> Column datatype: </b>int</td></tr><tr><th>Datatype</td><th>Quantity</td><th>Percentage</td></tr><tr><td>None</td><td>0</td><td>0.00 %</td></tr><tr><td>Empty str</td><td>0</td><td>0.00 %</td></tr><tr><td>String</td><td>0</td><td>0.00 %</td></tr><tr><td>Integer</td><td>19</td><td>100.00 %</td></tr><tr><td>Float</td><td>0</td><td>0.00 %</td></tr></table>"
      ],
      "text/plain": [
       "<optimus.DfAnalizer.ColumnTables at 0x10fab10b8>"
      ]
     },
     "metadata": {},
     "output_type": "display_data"
    },
    {
     "name": "stdout",
     "output_type": "stream",
     "text": [
      "Min value:  1\n",
      "Max value:  19\n"
     ]
    },
    {
     "data": {
      "text/html": [
       "<table width=50%><tr></tr><tr></tr></table>"
      ],
      "text/plain": [
       "<optimus.DfAnalizer.DataTypeTable at 0x10f991b38>"
      ]
     },
     "metadata": {},
     "output_type": "display_data"
    },
    {
     "data": {
      "image/png": "[encoded data removed]",
      "text/plain": [
       "<matplotlib.figure.Figure at 0x10fab1710>"
      ]
     },
     "metadata": {},
     "output_type": "display_data"
    },
    {
     "name": "stdout",
     "output_type": "stream",
     "text": [
      "end of __analyze 3.2545740604400635\n"
     ]
    },
    {
     "data": {
      "text/html": [
       "<table width=50%><tr><td colspan=3 ><b> Column name: </b>firstName</td></tr><tr><td colspan=3 ><b> Column datatype: </b>string</td></tr><tr><th>Datatype</td><th>Quantity</td><th>Percentage</td></tr><tr><td>None</td><td>0</td><td>0.00 %</td></tr><tr><td>Empty str</td><td>0</td><td>0.00 %</td></tr><tr><td>String</td><td>19</td><td>100.00 %</td></tr><tr><td>Integer</td><td>0</td><td>0.00 %</td></tr><tr><td>Float</td><td>0</td><td>0.00 %</td></tr></table>"
      ],
      "text/plain": [
       "<optimus.DfAnalizer.ColumnTables at 0x10fdfcbe0>"
      ]
     },
     "metadata": {},
     "output_type": "display_data"
    },
    {
     "data": {
      "text/html": [
       "<table width=50%><tr><th style='text-align: center'>strings</th></tr><tr><td style='vertical-align: top;text-align: center;'><table width=100%><tr ><td style='text-align: center'><div style='min-height: 20px;'>isaac</div></td></tr><tr ><td style='text-align: center'><div style='min-height: 20px;'>fred</div></td></tr><tr ><td style='text-align: center'><div style='min-height: 20px;'>david</div></td></tr><tr ><td style='text-align: center'><div style='min-height: 20px;'>galileo</div></td></tr><tr ><td style='text-align: center'><div style='min-height: 20px;'>   heinrich </div></td></tr><tr ><td style='text-align: center'><div style='min-height: 20px;'>paul</div></td></tr><tr ><td style='text-align: center'><div style='min-height: 20px;'>arthur</div></td></tr><tr ><td style='text-align: center'><div style='min-height: 20px;'>william</div></td></tr><tr ><td style='text-align: center'><div style='min-height: 20px;'>albert</div></td></tr><tr ><td style='text-align: center'><div style='min-height: 20px;'>emmy</div></td></tr></table></td></tr></table>"
      ],
      "text/plain": [
       "<optimus.DfAnalizer.DataTypeTable at 0x10feedb00>"
      ]
     },
     "metadata": {},
     "output_type": "display_data"
    },
    {
     "data": {
      "image/png": "[encoded data removed]",
      "text/plain": [
       "<matplotlib.figure.Figure at 0x10fe04cf8>"
      ]
     },
     "metadata": {},
     "output_type": "display_data"
    },
    {
     "name": "stdout",
     "output_type": "stream",
     "text": [
      "end of __analyze 2.1330182552337646\n"
     ]
    },
    {
     "data": {
      "text/html": [
       "<table width=50%><tr><td colspan=3 ><b> Column name: </b>lastName</td></tr><tr><td colspan=3 ><b> Column datatype: </b>string</td></tr><tr><th>Datatype</td><th>Quantity</td><th>Percentage</td></tr><tr><td>None</td><td>0</td><td>0.00 %</td></tr><tr><td>Empty str</td><td>0</td><td>0.00 %</td></tr><tr><td>String</td><td>19</td><td>100.00 %</td></tr><tr><td>Integer</td><td>0</td><td>0.00 %</td></tr><tr><td>Float</td><td>0</td><td>0.00 %</td></tr></table>"
      ],
      "text/plain": [
       "<optimus.DfAnalizer.ColumnTables at 0x10fe44d68>"
      ]
     },
     "metadata": {},
     "output_type": "display_data"
    },
    {
     "data": {
      "text/html": [
       "<table width=50%><tr><th style='text-align: center'>strings</th></tr><tr><td style='vertical-align: top;text-align: center;'><table width=100%><tr ><td style='text-align: center'><div style='min-height: 20px;'>newton</div></td></tr><tr ><td style='text-align: center'><div style='min-height: 20px;'>alvarez</div></td></tr><tr ><td style='text-align: center'><div style='min-height: 20px;'>hoyle</div></td></tr><tr ><td style='text-align: center'><div style='min-height: 20px;'>ampere</div></td></tr><tr ><td style='text-align: center'><div style='min-height: 20px;'>hilbert</div></td></tr><tr ><td style='text-align: center'><div style='min-height: 20px;'>bohr</div></td></tr><tr ><td style='text-align: center'><div style='min-height: 20px;'>gilbert</div></td></tr><tr ><td style='text-align: center'><div style='min-height: 20px;'>gauss</div></td></tr><tr ><td style='text-align: center'><div style='min-height: 20px;'>einstein</div></td></tr><tr ><td style='text-align: center'><div style='min-height: 20px;'>noether</div></td></tr></table></td></tr></table>"
      ],
      "text/plain": [
       "<optimus.DfAnalizer.DataTypeTable at 0x10ff7fc18>"
      ]
     },
     "metadata": {},
     "output_type": "display_data"
    },
    {
     "data": {
      "image/png": "[encoded data removed]",
      "text/plain": [
       "<matplotlib.figure.Figure at 0x110022c88>"
      ]
     },
     "metadata": {},
     "output_type": "display_data"
    },
    {
     "name": "stdout",
     "output_type": "stream",
     "text": [
      "end of __analyze 1.8793861865997314\n"
     ]
    },
    {
     "data": {
      "text/html": [
       "<table width=50%><tr><td colspan=3 ><b> Column name: </b>billingId</td></tr><tr><td colspan=3 ><b> Column datatype: </b>int</td></tr><tr><th>Datatype</td><th>Quantity</td><th>Percentage</td></tr><tr><td>None</td><td>0</td><td>0.00 %</td></tr><tr><td>Empty str</td><td>0</td><td>0.00 %</td></tr><tr><td>String</td><td>0</td><td>0.00 %</td></tr><tr><td>Integer</td><td>19</td><td>100.00 %</td></tr><tr><td>Float</td><td>0</td><td>0.00 %</td></tr></table>"
      ],
      "text/plain": [
       "<optimus.DfAnalizer.ColumnTables at 0x10ff93438>"
      ]
     },
     "metadata": {},
     "output_type": "display_data"
    },
    {
     "name": "stdout",
     "output_type": "stream",
     "text": [
      "Min value:  111\n",
      "Max value:  992\n"
     ]
    },
    {
     "data": {
      "text/html": [
       "<table width=50%><tr></tr><tr></tr></table>"
      ],
      "text/plain": [
       "<optimus.DfAnalizer.DataTypeTable at 0x110204080>"
      ]
     },
     "metadata": {},
     "output_type": "display_data"
    },
    {
     "data": {
      "image/png": "[encoded data removed]",
      "text/plain": [
       "<matplotlib.figure.Figure at 0x110204828>"
      ]
     },
     "metadata": {},
     "output_type": "display_data"
    },
    {
     "name": "stdout",
     "output_type": "stream",
     "text": [
      "end of __analyze 2.8375630378723145\n"
     ]
    },
    {
     "data": {
      "text/html": [
       "<table width=50%><tr><td colspan=3 ><b> Column name: </b>birth</td></tr><tr><td colspan=3 ><b> Column datatype: </b>string</td></tr><tr><th>Datatype</td><th>Quantity</td><th>Percentage</td></tr><tr><td>None</td><td>0</td><td>0.00 %</td></tr><tr><td>Empty str</td><td>0</td><td>0.00 %</td></tr><tr><td>String</td><td>19</td><td>100.00 %</td></tr><tr><td>Integer</td><td>0</td><td>0.00 %</td></tr><tr><td>Float</td><td>0</td><td>0.00 %</td></tr></table>"
      ],
      "text/plain": [
       "<optimus.DfAnalizer.ColumnTables at 0x1102e3c50>"
      ]
     },
     "metadata": {},
     "output_type": "display_data"
    },
    {
     "data": {
      "text/html": [
       "<table width=50%><tr><th style='text-align: center'>strings</th></tr><tr><td style='vertical-align: top;text-align: center;'><table width=100%><tr ><td style='text-align: center'><div style='min-height: 20px;'>27-06-1997</div></td></tr><tr ><td style='text-align: center'><div style='min-height: 20px;'>04-01-1994</div></td></tr><tr ><td style='text-align: center'><div style='min-height: 20px;'>08-12-1993</div></td></tr><tr ><td style='text-align: center'><div style='min-height: 20px;'>15-02-1999</div></td></tr><tr ><td style='text-align: center'><div style='min-height: 20px;'>09-07-1990</div></td></tr><tr ><td style='text-align: center'><div style='min-height: 20px;'>12-03-1923</div></td></tr><tr ><td style='text-align: center'><div style='min-height: 20px;'>13-07-1970</div></td></tr><tr ><td style='text-align: center'><div style='min-height: 20px;'>22-04-1920</div></td></tr><tr ><td style='text-align: center'><div style='min-height: 20px;'>12-08-1930</div></td></tr><tr ><td style='text-align: center'><div style='min-height: 20px;'>11-07-1990</div></td></tr></table></td></tr></table>"
      ],
      "text/plain": [
       "<optimus.DfAnalizer.DataTypeTable at 0x1103a3b70>"
      ]
     },
     "metadata": {},
     "output_type": "display_data"
    },
    {
     "data": {
      "image/png": "[encoded data removed]",
      "text/plain": [
       "<matplotlib.figure.Figure at 0x110398a90>"
      ]
     },
     "metadata": {},
     "output_type": "display_data"
    },
    {
     "name": "stdout",
     "output_type": "stream",
     "text": [
      "end of __analyze 2.2586071491241455\n"
     ]
    },
    {
     "data": {
      "text/html": [
       "<table width=50%><tr><td colspan=3 ><b> Column name: </b>age</td></tr><tr><td colspan=3 ><b> Column datatype: </b>string</td></tr><tr><th>Datatype</td><th>Quantity</td><th>Percentage</td></tr><tr><td>None</td><td>0</td><td>0.00 %</td></tr><tr><td>Empty str</td><td>0</td><td>0.00 %</td></tr><tr><td>String</td><td>0</td><td>0.00 %</td></tr><tr><td>Integer</td><td>0</td><td>0.00 %</td></tr><tr><td>Float</td><td>19</td><td>100.00 %</td></tr></table>"
      ],
      "text/plain": [
       "<optimus.DfAnalizer.ColumnTables at 0x110415d30>"
      ]
     },
     "metadata": {},
     "output_type": "display_data"
    },
    {
     "data": {
      "text/html": [
       "<table width=50%><tr><th style='text-align: center'>floats</th></tr><tr><td style='vertical-align: top;text-align: center;'><table width=100%><tr ><td style='text-align: center'><div style='min-height: 20px;'>87.6263</div></td></tr><tr ><td style='text-align: center'><div style='min-height: 20px;'>61.6183</div></td></tr><tr ><td style='text-align: center'><div style='min-height: 20px;'>20.6263</div></td></tr><tr ><td style='text-align: center'><div style='min-height: 20px;'>94.6210</div></td></tr><tr ><td style='text-align: center'><div style='min-height: 20px;'>27.6210</div></td></tr><tr ><td style='text-align: center'><div style='min-height: 20px;'>96.6344</div></td></tr><tr ><td style='text-align: center'><div style='min-height: 20px;'>47.6290</div></td></tr><tr ><td style='text-align: center'><div style='min-height: 20px;'>18.6317</div></td></tr><tr ><td style='text-align: center'><div style='min-height: 20px;'>67.6183</div></td></tr><tr ><td style='text-align: center'><div style='min-height: 20px;'>17.6344</div></td></tr></table></td></tr></table>"
      ],
      "text/plain": [
       "<optimus.DfAnalizer.DataTypeTable at 0x1102aa908>"
      ]
     },
     "metadata": {},
     "output_type": "display_data"
    },
    {
     "data": {
      "image/png": "[encoded data removed]",
      "text/plain": [
       "<matplotlib.figure.Figure at 0x1102a0a58>"
      ]
     },
     "metadata": {},
     "output_type": "display_data"
    },
    {
     "name": "stdout",
     "output_type": "stream",
     "text": [
      "end of __analyze 3.764118194580078\n"
     ]
    },
    {
     "data": {
      "text/html": [
       "<table width=50%><tr><td colspan=3 ><b> Column name: </b>product</td></tr><tr><td colspan=3 ><b> Column datatype: </b>string</td></tr><tr><th>Datatype</td><th>Quantity</td><th>Percentage</td></tr><tr><td>None</td><td>0</td><td>0.00 %</td></tr><tr><td>Empty str</td><td>0</td><td>0.00 %</td></tr><tr><td>String</td><td>18</td><td>94.74 %</td></tr><tr><td>Integer</td><td>1</td><td>5.26 %</td></tr><tr><td>Float</td><td>0</td><td>0.00 %</td></tr></table>"
      ],
      "text/plain": [
       "<optimus.DfAnalizer.ColumnTables at 0x1102e3f28>"
      ]
     },
     "metadata": {},
     "output_type": "display_data"
    },
    {
     "data": {
      "text/html": [
       "<table width=50%><tr><th style='text-align: center'>integers</th><th style='text-align: center'>strings</th></tr><tr><td style='vertical-align: top;text-align: center;'><table width=100%><tr ><td style='text-align: center'><div style='min-height: 20px;'>110790</div></td></tr></table></td><td style='vertical-align: top;text-align: center;'><table width=100%><tr ><td style='text-align: center'><div style='min-height: 20px;'>taaaccoo</div></td></tr><tr ><td style='text-align: center'><div style='min-height: 20px;'>piza</div></td></tr><tr ><td style='text-align: center'><div style='min-height: 20px;'>hamburguer</div></td></tr><tr ><td style='text-align: center'><div style='min-height: 20px;'>taco</div></td></tr><tr ><td style='text-align: center'><div style='min-height: 20px;'>pizzza</div></td></tr><tr ><td style='text-align: center'><div style='min-height: 20px;'>arepa</div></td></tr><tr ><td style='text-align: center'><div style='min-height: 20px;'>pizza</div></td></tr><tr ><td style='text-align: center'><div style='min-height: 20px;'>rice</div></td></tr><tr ><td style='text-align: center'><div style='min-height: 20px;'>beer</div></td></tr><tr ><td style='text-align: center'><div style='min-height: 20px;'>cake</div></td></tr></table></td></tr></table>"
      ],
      "text/plain": [
       "<optimus.DfAnalizer.DataTypeTable at 0x10ff936d8>"
      ]
     },
     "metadata": {},
     "output_type": "display_data"
    },
    {
     "data": {
      "image/png": "[encoded data removed]",
      "text/plain": [
       "<matplotlib.figure.Figure at 0x110306278>"
      ]
     },
     "metadata": {},
     "output_type": "display_data"
    },
    {
     "name": "stdout",
     "output_type": "stream",
     "text": [
      "end of __analyze 2.1445980072021484\n",
      "Total execution time:  18.352669954299927\n"
     ]
    },
    {
     "data": {
      "text/html": [
       "<table width=50%><tr><th colspan=3>General description</td></tr><tr><th colspan=1>Features</td><th colspan=2>Name or Quantity</td></tr><tr><th colspan=1>File Name</td><td colspan=2>foo.csv</td></tr><tr><th colspan=1>Columns</td><td colspan=2>8</td></tr><tr><th colspan=1>Rows</td><td colspan=2>19</td></tr>"
      ],
      "text/plain": [
       "<optimus.DfAnalizer.GeneralDescripTable at 0x10fed5a90>"
      ]
     },
     "metadata": {},
     "output_type": "display_data"
    }
   ],
   "source": [
    "# Setting the new dataFrame transformed into the analyzer class\n",
    "analyzer.setDataframe(transformer.getDataframe())\n",
    "analyzerJson = analyzer.columnAnalize(['id','firstName','lastName','billingId','birth','age','product'], \n",
    "                                      printType=True, plots=True)"
   ]
  },
  {
   "cell_type": "markdown",
   "metadata": {},
   "source": [
    "It can be seen from output of the analyzer object, that there are columns with numbers\n",
    "even when ceratin column (for example) is supposed to be only of words or letters. \n",
    "\n",
    "In order to solve this problem, operationInType function of DataFrameTransformer class \n",
    "can be used. \n",
    "\n",
    "operationInType function is useful to make operations in a certain element of one dataType. In this particular example, it can be seen in the last output cell (specifically in 'product' column' that are values that don't fit the rest of the data, the aren't strings but they are numbers or empty strings. operationInType can take care about them and clean the column dataFrame."
   ]
  },
  {
   "cell_type": "markdown",
   "metadata": {},
   "source": [
    "In the following example, operationInType of function of DataFrameTransformer class is run in order to converts all posible \n",
    "parsables strings to integer into a null or none value. Notice how the 110790 value in product\n",
    "column have been changed, but the rest of the column has remained intact."
   ]
  },
  {
   "cell_type": "markdown",
   "metadata": {},
   "source": [
    "### Making transformation in the inferred dataType elements of a certains columns"
   ]
  },
  {
   "cell_type": "code",
   "execution_count": 20,
   "metadata": {},
   "outputs": [
    {
     "name": "stdout",
     "output_type": "stream",
     "text": [
      "+---+------------+--------+--------+---------+-----+----------+----------+\n",
      "| id|   firstName|lastName|     age|billingId|price|     birth|   product|\n",
      "+---+------------+--------+--------+---------+-----+----------+----------+\n",
      "|  1|        luis| alvarez| 37.6237|      123|  200|07-07-1980|      cake|\n",
      "|  2|       andre|  ampere| 67.6183|      423|  160|08-07-1950|      piza|\n",
      "|  3|       niels|    bohr| 27.6210|      551|  160|09-07-1990|     pizza|\n",
      "|  4|        paul|   dirac| 63.6317|      521|  160|10-07-1954|     pizza|\n",
      "|  5|      albert|einstein| 27.6210|      634|  160|11-07-1990|     pizza|\n",
      "|  6|     galileo| galilei| 87.6263|      672|  100|12-08-1930|     arepa|\n",
      "|  7|        carl|   gauss| 47.6290|      323|   60|13-07-1970|      taco|\n",
      "|  8|       david| hilbert| 67.6183|      624|   60|14-07-1950|  taaaccoo|\n",
      "|  9|    johannes|  kepler| 97.6290|      735|   60|22-04-1920|      taco|\n",
      "| 10|       james| maxwell| 94.6210|      875|   60|12-03-1923|      taco|\n",
      "| 11|       isaac|  newton| 18.6317|      992|  180|15-02-1999|     pasta|\n",
      "| 12|        emmy| noether| 24.6317|      234|  180|08-12-1993|     pasta|\n",
      "| 13|         max|  planck| 23.6344|      111|   80|04-01-1994|hamburguer|\n",
      "| 14|        fred|   hoyle| 20.6263|      553|  160|27-06-1997|    pizzza|\n",
      "| 15|   heinrich |   hertz| 61.6183|      116|  160|30-11-1956|     pizza|\n",
      "| 16|     william| gilbert| 59.6263|      886|   40|26-03-1958|      beer|\n",
      "| 17|       marie|   curie| 17.6344|      912|   20|22-03-2000|      rice|\n",
      "| 18|      arthur| compton|118.6183|      812|  100|01-01-1899|      null|\n",
      "| 19|       james|chadwick| 96.6344|      467|  200|03-05-1921|      null|\n",
      "+---+------------+--------+--------+---------+-----+----------+----------+\n",
      "\n"
     ]
    }
   ],
   "source": [
    "# This function makes changes or transformation in the column specified only in the cells\n",
    "# that are recognized as the dataType specified. \n",
    "transformer.operationInType([('product', 'integer', None)]).getDataframe().show()"
   ]
  },
  {
   "cell_type": "markdown",
   "metadata": {},
   "source": [
    "Sometimes there a some values that are different but actually are the same. In the product\n",
    "column for example, there are the following values: 'taaaccoo', 'piza'. It \n",
    "can be inferred that the correct value is taco and piza and not the rest of them. This problem can\n",
    "be solved with the lookup function of the DataFrameTransformer class."
   ]
  },
  {
   "cell_type": "markdown",
   "metadata": {},
   "source": [
    "### Replacing multiple string values to a single string"
   ]
  },
  {
   "cell_type": "code",
   "execution_count": 21,
   "metadata": {},
   "outputs": [
    {
     "name": "stdout",
     "output_type": "stream",
     "text": [
      "+---+------------+--------+--------+---------+-----+----------+----------+\n",
      "| id|   firstName|lastName|     age|billingId|price|     birth|   product|\n",
      "+---+------------+--------+--------+---------+-----+----------+----------+\n",
      "|  1|        luis| alvarez| 37.6237|      123|  200|07-07-1980|      cake|\n",
      "|  2|       andre|  ampere| 67.6183|      423|  160|08-07-1950|     pizza|\n",
      "|  3|       niels|    bohr| 27.6210|      551|  160|09-07-1990|     pizza|\n",
      "|  4|        paul|   dirac| 63.6317|      521|  160|10-07-1954|     pizza|\n",
      "|  5|      albert|einstein| 27.6210|      634|  160|11-07-1990|     pizza|\n",
      "|  6|     galileo| galilei| 87.6263|      672|  100|12-08-1930|     arepa|\n",
      "|  7|        carl|   gauss| 47.6290|      323|   60|13-07-1970|      taco|\n",
      "|  8|       david| hilbert| 67.6183|      624|   60|14-07-1950|      taco|\n",
      "|  9|    johannes|  kepler| 97.6290|      735|   60|22-04-1920|      taco|\n",
      "| 10|       james| maxwell| 94.6210|      875|   60|12-03-1923|      taco|\n",
      "| 11|       isaac|  newton| 18.6317|      992|  180|15-02-1999|     pasta|\n",
      "| 12|        emmy| noether| 24.6317|      234|  180|08-12-1993|     pasta|\n",
      "| 13|         max|  planck| 23.6344|      111|   80|04-01-1994|hamburguer|\n",
      "| 14|        fred|   hoyle| 20.6263|      553|  160|27-06-1997|     pizza|\n",
      "| 15|   heinrich |   hertz| 61.6183|      116|  160|30-11-1956|     pizza|\n",
      "| 16|     william| gilbert| 59.6263|      886|   40|26-03-1958|      beer|\n",
      "| 17|       marie|   curie| 17.6344|      912|   20|22-03-2000|      rice|\n",
      "| 18|      arthur| compton|118.6183|      812|  100|01-01-1899|      null|\n",
      "| 19|       james|chadwick| 96.6344|      467|  200|03-05-1921|      null|\n",
      "+---+------------+--------+--------+---------+-----+----------+----------+\n",
      "\n"
     ]
    }
   ],
   "source": [
    "transformer.lookup('product', strToReplace='taco', listStr=['taaaccoo']) \n",
    "transformer.lookup('product', strToReplace='pizza', listStr=['piza', 'pizzza']) \n",
    "transformer.getDataframe().show()"
   ]
  },
  {
   "cell_type": "markdown",
   "metadata": {},
   "source": [
    "As can be notice above, string specified in the list argument 'listStr' have been\n",
    "replaced to 'strToReplace' value. "
   ]
  },
  {
   "cell_type": "markdown",
   "metadata": {},
   "source": [
    "## Chaining and lazy evaluation"
   ]
  },
  {
   "cell_type": "markdown",
   "metadata": {},
   "source": [
    "The past transformations were done step by step, but this can be achieved by chaining\n",
    "all operations into one line of code, like the cell below. This way is much more efficient and scalable because it uses all optimization issues from the lazy evaluation approach."
   ]
  },
  {
   "cell_type": "markdown",
   "metadata": {},
   "source": [
    "All the transformation set before can be done into a single line of code thanks to the \n",
    "chaining feature of the DataFrameTransformer class. This option is a optimal way to \n",
    "make different transformations, because it uses as much as possible all advantages of\n",
    "the lazy evaluation approach. "
   ]
  },
  {
   "cell_type": "code",
   "execution_count": 22,
   "metadata": {},
   "outputs": [
    {
     "name": "stdout",
     "output_type": "stream",
     "text": [
      "+---+--------------------+--------------------+---------+----------+-----+----------+--------+\n",
      "| id|           firstName|            lastName|billingId|   product|price|     birth|dummyCol|\n",
      "+---+--------------------+--------------------+---------+----------+-----+----------+--------+\n",
      "|  1|                Luis|         Alvarez$$%!|      123|      Cake|   10|1980/07/07|   never|\n",
      "|  2|               André|              Ampère|      423|      piza|    8|1950/07/08|   gonna|\n",
      "|  3|               NiELS|          Böhr//((%%|      551|     pizza|    8|1990/07/09|    give|\n",
      "|  4|                PAUL|              dirac$|      521|     pizza|    8|1954/07/10|     you|\n",
      "|  5|              Albert|            Einstein|      634|     pizza|    8|1990/07/11|      up|\n",
      "|  6|             Galileo|             GALiLEI|      672|     arepa|    5|1930/08/12|   never|\n",
      "|  7|                CaRL|            Ga%%%uss|      323|      taco|    3|1970/07/13|   gonna|\n",
      "|  8|               David|          H$$$ilbert|      624|  taaaccoo|    3|1950/07/14|     let|\n",
      "|  9|            Johannes|              KEPLER|      735|      taco|    3|1920/04/22|     you|\n",
      "| 10|               JaMES|         M$$ax%%well|      875|      taco|    3|1923/03/12|    down|\n",
      "| 11|               Isaac|              Newton|      992|     pasta|    9|1999/02/15|  never |\n",
      "| 12|              Emmy%%|            Nöether$|      234|     pasta|    9|1993/12/08|   gonna|\n",
      "| 13|              Max!!!|           Planck!!!|      111|hamburguer|    4|1994/01/04|    run |\n",
      "| 14|                Fred|            Hoy&&&le|      553|    pizzza|    8|1997/06/27|  around|\n",
      "| 15|(((   Heinrich )))))|               Hertz|      116|     pizza|    8|1956/11/30|     and|\n",
      "| 16|             William|          Gilbert###|      886|      BEER|    2|1958/03/26|  desert|\n",
      "| 17|               Marie|               CURIE|      912|      Rice|    1|2000/03/22|     you|\n",
      "| 18|              Arthur|          COM%%%pton|      812|    110790|    5|1899/01/01|       #|\n",
      "| 19|               JAMES|            Chadwick|      467|      null|   10|1921/05/03|       #|\n",
      "+---+--------------------+--------------------+---------+----------+-----+----------+--------+\n",
      "\n",
      "+---+------------+--------+---------+-----+----------+---------+----------+\n",
      "| id|   firstName|lastName|billingId|price|     birth|clientAge|   product|\n",
      "+---+------------+--------+---------+-----+----------+---------+----------+\n",
      "|  1|        luis| alvarez|      123|   10|07-07-1980|  37.6237|      cake|\n",
      "|  2|       andre|  ampere|      423|    8|08-07-1950|  67.6183|     pizza|\n",
      "|  3|       niels|    bohr|      551|    8|09-07-1990|  27.6210|     pizza|\n",
      "|  4|        paul|   dirac|      521|    8|10-07-1954|  63.6317|     pizza|\n",
      "|  5|      albert|einstein|      634|    8|11-07-1990|  27.6210|     pizza|\n",
      "|  6|     galileo| galilei|      672|    5|12-08-1930|  87.6263|     arepa|\n",
      "|  7|        carl|   gauss|      323|    3|13-07-1970|  47.6290|      taco|\n",
      "|  8|       david| hilbert|      624|    3|14-07-1950|  67.6183|      taco|\n",
      "|  9|    johannes|  kepler|      735|    3|22-04-1920|  97.6290|      taco|\n",
      "| 10|       james| maxwell|      875|    3|12-03-1923|  94.6210|      taco|\n",
      "| 11|       isaac|  newton|      992|    9|15-02-1999|  18.6317|     pasta|\n",
      "| 12|        emmy| noether|      234|    9|08-12-1993|  24.6317|     pasta|\n",
      "| 13|         max|  planck|      111|    4|04-01-1994|  23.6344|hamburguer|\n",
      "| 14|        fred|   hoyle|      553|    8|27-06-1997|  20.6263|     pizza|\n",
      "| 15|   heinrich |   hertz|      116|    8|30-11-1956|  61.6183|     pizza|\n",
      "| 16|     william| gilbert|      886|    2|26-03-1958|  59.6263|      beer|\n",
      "| 17|       marie|   curie|      912|    1|22-03-2000|  17.6344|      rice|\n",
      "| 18|      arthur| compton|      812|    5|01-01-1899| 118.6183|      null|\n",
      "| 19|       james|chadwick|      467|   10|03-05-1921|  96.6344|      null|\n",
      "+---+------------+--------+---------+-----+----------+---------+----------+\n",
      "\n"
     ]
    }
   ],
   "source": [
    "# Instanciate DataFrameTransfomer\n",
    "transformer = DataFrameTransformer(df)\n",
    "# Get original dataFrame to show it.\n",
    "transformer.getDataframe().show()\n",
    "\n",
    "# Chaining function transformations\n",
    "transformer.trimCol(\"*\") \\\n",
    "           .removeSpecialChars(\"*\") \\\n",
    "           .clearAccents(\"*\") \\\n",
    "           .lowerCase(\"*\") \\\n",
    "           .dropCol(\"dummyCol\") \\\n",
    "           .dateTransform(\"birth\", \"yyyyMMdd\", \"dd-MM-YYYY\") \\\n",
    "           .ageCalculate(\"birth\", \"dd-MM-YYYY\", \"clientAge\") \\\n",
    "           .operationInType([('product', 'integer', None)]) \\\n",
    "           .lookup('product', strToReplace='taco', listStr=['taaaccoo']) \\\n",
    "           .lookup('product', strToReplace='pizza', listStr=['piza', 'pizzza'])  \\\n",
    "        \n",
    "        \n",
    "transformer.getDataframe().show()"
   ]
  }
 ],
 "metadata": {
  "kernelspec": {
   "display_name": "Python 3",
   "language": "python",
   "name": "python3"
  },
  "language_info": {
   "codemirror_mode": {
    "name": "ipython",
    "version": 3
   },
   "file_extension": ".py",
   "mimetype": "text/x-python",
   "name": "python",
   "nbconvert_exporter": "python",
   "pygments_lexer": "ipython3",
   "version": "3.6.1"
  }
 },
 "nbformat": 4,
 "nbformat_minor": 1
}
