{
 "cells": [
  {
   "cell_type": "code",
   "execution_count": 9,
   "metadata": {},
   "outputs": [
    {
     "name": "stdout",
     "output_type": "stream",
     "text": [
      "The autoreload extension is already loaded. To reload it, use:\n",
      "  %reload_ext autoreload\n"
     ]
    }
   ],
   "source": [
    "%load_ext autoreload\n",
    "%autoreload 2"
   ]
  },
  {
   "cell_type": "code",
   "execution_count": 10,
   "metadata": {},
   "outputs": [],
   "source": [
    "import sys\n",
    "sys.path.append(\"..\")"
   ]
  },
  {
   "cell_type": "code",
   "execution_count": 11,
   "metadata": {},
   "outputs": [],
   "source": [
    "from optimus import Optimus"
   ]
  },
  {
   "cell_type": "code",
   "execution_count": 12,
   "metadata": {},
   "outputs": [],
   "source": [
    "# Create optimus\n",
    "op = Optimus()"
   ]
  },
  {
   "cell_type": "markdown",
   "metadata": {},
   "source": [
    "## Create dataframe\n",
    "### Spark\n",
    "\n",
    "This is ugly:\n",
    "\n",
    "```\n",
    "val someData = Seq(\n",
    "  Row(8, \"bat\"),\n",
    "  Row(64, \"mouse\"),\n",
    "  Row(-27, \"horse\")\n",
    ")\n",
    "\n",
    "val someSchema = List(\n",
    "  StructField(\"number\", IntegerType, true),\n",
    "  StructField(\"word\", StringType, true)\n",
    ")\n",
    "\n",
    "val someDF = spark.createDataFrame(\n",
    "  spark.sparkContext.parallelize(someData),\n",
    "  StructType(someSchema)\n",
    ")```"
   ]
  },
  {
   "cell_type": "code",
   "execution_count": 13,
   "metadata": {},
   "outputs": [
    {
     "name": "stdout",
     "output_type": "stream",
     "text": [
      "+-------------------+---+-------+-----+-------------+------+-----+\n",
      "|              words|num|animals|thing|  two strings|filter|num 2|\n",
      "+-------------------+---+-------+-----+-------------+------+-----+\n",
      "|  I like     fish  |  1|    dog|housé|      cat-car|     a|    1|\n",
      "|            zombies|  2|    cat|   tv|       dog-tv|     b|    2|\n",
      "|simpsons   cat lady|  2|   frog|table|eagle-tv-plus|     1|    3|\n",
      "|               null|  3|  eagle|glass|      lion-pc|     c|    4|\n",
      "+-------------------+---+-------+-----+-------------+------+-----+\n",
      "\n",
      "+-----+---------+-------+--------+-------+\n",
      "|num 1|animals 1|thing 1|filter 1|num 2 1|\n",
      "+-----+---------+-------+--------+-------+\n",
      "|    1|      dog|  housé|       a|      1|\n",
      "|    2|      cat|     tv|       b|      2|\n",
      "|    2|     frog|  table|       1|      3|\n",
      "|    3|    eagle|  glass|       c|      4|\n",
      "+-----+---------+-------+--------+-------+\n",
      "\n",
      "+-----+--------+\n",
      "|num 2|filter 2|\n",
      "+-----+--------+\n",
      "|    1|       a|\n",
      "|    2|       b|\n",
      "|    2|       1|\n",
      "|    3|       c|\n",
      "+-----+--------+\n",
      "\n"
     ]
    }
   ],
   "source": [
    "from pyspark.sql.types import StructType, StructField, StringType, BooleanType, IntegerType, ArrayType\n",
    "\n",
    "df = op.create.df(\n",
    "            [\n",
    "                (\"words\", \"str\", True),\n",
    "                (\"num\", \"int\", True),\n",
    "                (\"animals\", \"str\", True),\n",
    "                (\"thing\", StringType(), True),\n",
    "                (\"two strings\", StringType(), True),\n",
    "                (\"filter\", StringType(), True),\n",
    "                (\"num 2\", \"string\", True)\n",
    "\n",
    "            ]\n",
    ",\n",
    "[\n",
    "                (\"  I like     fish  \", 1, \"dog\", \"housé\", \"cat-car\", \"a\",\"1\"),\n",
    "                (\"    zombies\", 2, \"cat\", \"tv\", \"dog-tv\", \"b\",\"2\"),\n",
    "                (\"simpsons   cat lady\", 2, \"frog\", \"table\",\"eagle-tv-plus\",\"1\",\"3\"),\n",
    "                (None, 3, \"eagle\", \"glass\", \"lion-pc\", \"c\",\"4\")\n",
    "            ])\n",
    "\n",
    "df1 = op.create.df(\n",
    "            [\n",
    "         \n",
    "                (\"num 1\", \"int\", True),\n",
    "                (\"animals 1\", \"str\", True),\n",
    "                (\"thing 1\", StringType(), True),\n",
    "                (\"filter 1\", StringType(), True),\n",
    "                (\"num 2 1\", \"string\", True)\n",
    "\n",
    "            ]\n",
    ",\n",
    "[\n",
    "                ( 1, \"dog\", \"housé\",  \"a\",\"1\"),\n",
    "                ( 2, \"cat\", \"tv\",  \"b\",\"2\"),\n",
    "                ( 2, \"frog\", \"table\",\"1\",\"3\"),\n",
    "                ( 3, \"eagle\", \"glass\",  \"c\",\"4\")\n",
    "            ])\n",
    "\n",
    "df2 = op.create.df(\n",
    "            [\n",
    "         \n",
    "                (\"num 2\", \"int\", True),\n",
    "                (\"filter 2\", StringType(), True),\n",
    "        \n",
    "\n",
    "            ]\n",
    ",\n",
    "[\n",
    "                ( 1, \"a\"),\n",
    "                ( 2,  \"b\"),\n",
    "                ( 2, \"1\"),\n",
    "                ( 3, \"c\")\n",
    "            ])\n",
    "\n",
    "df.show()\n",
    "df1.show()\n",
    "df2.show()"
   ]
  },
  {
   "cell_type": "markdown",
   "metadata": {},
   "source": [
    "## Create Columns\n",
    "### Spark\n",
    "* You can not create multiple columns at the same time\n",
    "* You need to use the lit function. lit???\n",
    "\n",
    "### Pandas\n",
    "* Assing function seems to do the job https://stackoverflow.com/questions/12555323/adding-new-column-to-existing-dataframe-in-python-pandas\n"
   ]
  },
  {
   "cell_type": "code",
   "execution_count": 14,
   "metadata": {
    "scrolled": true
   },
   "outputs": [
    {
     "name": "stdout",
     "output_type": "stream",
     "text": [
      "+-------------------+---+-------+-----+-------------+------+-----+---------+\n",
      "|              words|num|animals|thing|  two strings|filter|num 2|new_col_1|\n",
      "+-------------------+---+-------+-----+-------------+------+-----+---------+\n",
      "|  I like     fish  |  1|    dog|housé|      cat-car|     a|    1|   [1, 2]|\n",
      "|            zombies|  2|    cat|   tv|       dog-tv|     b|    2|   [1, 2]|\n",
      "|simpsons   cat lady|  2|   frog|table|eagle-tv-plus|     1|    3|   [1, 2]|\n",
      "|               null|  3|  eagle|glass|      lion-pc|     c|    4|   [1, 2]|\n",
      "+-------------------+---+-------+-----+-------------+------+-----+---------+\n",
      "\n"
     ]
    }
   ],
   "source": [
    "df.cols().append(\"new_col_1\", (1,2)).show()"
   ]
  },
  {
   "cell_type": "code",
   "execution_count": 15,
   "metadata": {},
   "outputs": [
    {
     "name": "stdout",
     "output_type": "stream",
     "text": [
      "+-------------------+---+-------+-----+-------------+------+-----+-----+-------+------+-------+-----+---------+---------+\n",
      "|              words|num|animals|thing|  two strings|filter|num 2|float|integer|string|boolean|multi|    array|    tuple|\n",
      "+-------------------+---+-------+-----+-------------+------+-----+-----+-------+------+-------+-----+---------+---------+\n",
      "|  I like     fish  |  1|    dog|housé|      cat-car|     a|    1| 2.22|      3|  test|   true|    2|[1, 2, 3]|[6, 7, 8]|\n",
      "|            zombies|  2|    cat|   tv|       dog-tv|     b|    2| 2.22|      3|  test|   true|    4|[1, 2, 3]|[6, 7, 8]|\n",
      "|simpsons   cat lady|  2|   frog|table|eagle-tv-plus|     1|    3| 2.22|      3|  test|   true|    4|[1, 2, 3]|[6, 7, 8]|\n",
      "|               null|  3|  eagle|glass|      lion-pc|     c|    4| 2.22|      3|  test|   true|    6|[1, 2, 3]|[6, 7, 8]|\n",
      "+-------------------+---+-------+-----+-------------+------+-----+-----+-------+------+-------+-----+---------+---------+\n",
      "\n"
     ]
    }
   ],
   "source": [
    "from pyspark.sql.functions import *\n",
    "\n",
    "df.cols().append([\n",
    "    (\"float\", 2.22),\n",
    "    (\"integer\", lit(3)),\n",
    "    (\"string\", \"test\"),\n",
    "    (\"boolean\", True),       \n",
    "    (\"multi\", df['num']*2),\n",
    "    (\"array\", [1,2,3]),\n",
    "    (\"tuple\", (6,7,8))\n",
    "    \n",
    "    ]).show()\n",
    "\n"
   ]
  },
  {
   "cell_type": "code",
   "execution_count": 16,
   "metadata": {},
   "outputs": [
    {
     "name": "stdout",
     "output_type": "stream",
     "text": [
      "+-------------------+---+-------+-----+-------------+------+-----+-----+---------+-------+--------+-------+-----+--------+\n",
      "|              words|num|animals|thing|  two strings|filter|num 2|num 1|animals 1|thing 1|filter 1|num 2 1|num 2|filter 2|\n",
      "+-------------------+---+-------+-----+-------------+------+-----+-----+---------+-------+--------+-------+-----+--------+\n",
      "|  I like     fish  |  1|    dog|housé|      cat-car|     a|    1|    1|      dog|  housé|       a|      1|    1|       a|\n",
      "|            zombies|  2|    cat|   tv|       dog-tv|     b|    2|    2|      cat|     tv|       b|      2|    2|       b|\n",
      "|               null|  3|  eagle|glass|      lion-pc|     c|    4|    3|    eagle|  glass|       c|      4|    3|       c|\n",
      "|simpsons   cat lady|  2|   frog|table|eagle-tv-plus|     1|    3|    2|     frog|  table|       1|      3|    2|       1|\n",
      "+-------------------+---+-------+-----+-------------+------+-----+-----+---------+-------+--------+-------+-----+--------+\n",
      "\n"
     ]
    }
   ],
   "source": [
    "df.cols().append([df1,df2]).show()"
   ]
  },
  {
   "cell_type": "markdown",
   "metadata": {},
   "source": [
    "## Select columns\n",
    "### Spark\n",
    "* You can not select columns by string and index at the same time\n",
    "\n",
    "### Pandas\n",
    "* You can not select columns by string and index at the same time"
   ]
  },
  {
   "cell_type": "code",
   "execution_count": 17,
   "metadata": {},
   "outputs": [
    {
     "name": "stdout",
     "output_type": "stream",
     "text": [
      "+-------------------+---+-------+-----+-------------------+\n",
      "|              words|num|animals|thing|              words|\n",
      "+-------------------+---+-------+-----+-------------------+\n",
      "|  I like     fish  |  1|    dog|housé|  I like     fish  |\n",
      "|            zombies|  2|    cat|   tv|            zombies|\n",
      "|simpsons   cat lady|  2|   frog|table|simpsons   cat lady|\n",
      "|               null|  3|  eagle|glass|               null|\n",
      "+-------------------+---+-------+-----+-------------------+\n",
      "\n"
     ]
    }
   ],
   "source": [
    "columns = [\"words\", 1, \"animals\", 3, 0]\n",
    "df.cols().filter(columns).show()"
   ]
  },
  {
   "cell_type": "code",
   "execution_count": 18,
   "metadata": {},
   "outputs": [
    {
     "name": "stdout",
     "output_type": "stream",
     "text": [
      "+---+-----+\n",
      "|num|num 2|\n",
      "+---+-----+\n",
      "|  1|    1|\n",
      "|  2|    2|\n",
      "|  2|    3|\n",
      "|  3|    4|\n",
      "+---+-----+\n",
      "\n"
     ]
    }
   ],
   "source": [
    "df.cols().filter(\"n.*\", regex = True).show()"
   ]
  },
  {
   "cell_type": "code",
   "execution_count": 22,
   "metadata": {},
   "outputs": [
    {
     "name": "stdout",
     "output_type": "stream",
     "text": [
      "+---+\n",
      "|num|\n",
      "+---+\n",
      "|  1|\n",
      "|  2|\n",
      "|  2|\n",
      "|  3|\n",
      "+---+\n",
      "\n"
     ]
    }
   ],
   "source": [
    "df.cols().filter(\"*\", data_type = \"int\").show()"
   ]
  },
  {
   "cell_type": "markdown",
   "metadata": {},
   "source": [
    "## Rename Column\n",
    "### Spark\n",
    "You can not rename multiple columns using Spark Vanilla API\n",
    "\n",
    "\n",
    "### Pandas\n",
    "* Almost the same behavior https://pandas.pydata.org/pandas-docs/stable/generated/pandas.DataFrame.rename.html"
   ]
  },
  {
   "cell_type": "code",
   "execution_count": 40,
   "metadata": {},
   "outputs": [
    {
     "name": "stdout",
     "output_type": "stream",
     "text": [
      "+-------------------+------+-------+-----+-------------+------+-----+\n",
      "|              words|number|animals|thing|  two strings|filter|num 2|\n",
      "+-------------------+------+-------+-----+-------------+------+-----+\n",
      "|  I like     fish  |     1|    dog|housé|      cat-car|     a|    1|\n",
      "|            zombies|     2|    cat|   tv|       dog-tv|     b|    2|\n",
      "|simpsons   cat lady|     2|   frog|table|eagle-tv-plus|     1|    3|\n",
      "|               null|     3|  eagle|glass|      lion-pc|     c|    4|\n",
      "+-------------------+------+-------+-----+-------------+------+-----+\n",
      "\n"
     ]
    }
   ],
   "source": [
    "df.cols().rename([('num','number')]).show()"
   ]
  },
  {
   "cell_type": "code",
   "execution_count": 22,
   "metadata": {},
   "outputs": [
    {
     "name": "stdout",
     "output_type": "stream",
     "text": [
      "+-------------------+---+-------+-----+-------------+------+-----+\n",
      "|              words|num|animals|thing|  two strings|filter|num 2|\n",
      "+-------------------+---+-------+-----+-------------+------+-----+\n",
      "|  I like     fish  |  1|    dog|housé|      cat-car|     a|    1|\n",
      "|            zombies|  2|    cat|   tv|       dog-tv|     b|    2|\n",
      "|simpsons   cat lady|  2|   frog|table|eagle-tv-plus|     1|    3|\n",
      "|               null|  3|  eagle|glass|      lion-pc|     c|    4|\n",
      "+-------------------+---+-------+-----+-------------+------+-----+\n",
      "\n"
     ]
    }
   ],
   "source": [
    "df.cols().rename(func = str.lower).show()"
   ]
  },
  {
   "cell_type": "code",
   "execution_count": 23,
   "metadata": {},
   "outputs": [
    {
     "name": "stdout",
     "output_type": "stream",
     "text": [
      "+-------------------+---+-------+-----+-------------+------+-----+\n",
      "|              WORDS|NUM|ANIMALS|THING|  TWO STRINGS|FILTER|NUM 2|\n",
      "+-------------------+---+-------+-----+-------------+------+-----+\n",
      "|  I like     fish  |  1|    dog|housé|      cat-car|     a|    1|\n",
      "|            zombies|  2|    cat|   tv|       dog-tv|     b|    2|\n",
      "|simpsons   cat lady|  2|   frog|table|eagle-tv-plus|     1|    3|\n",
      "|               null|  3|  eagle|glass|      lion-pc|     c|    4|\n",
      "+-------------------+---+-------+-----+-------------+------+-----+\n",
      "\n"
     ]
    }
   ],
   "source": [
    "df.cols().rename(func = str.upper).show()"
   ]
  },
  {
   "cell_type": "markdown",
   "metadata": {},
   "source": [
    "## Cast a columns\n",
    "\n",
    "### Spark\n",
    "* Can not cast multiple columns\n",
    "\n",
    "### Pandas\n",
    "This is a opinionated way to handle column casting. \n",
    "One of the first thing that every data cleaning process need to acomplish is define a data dictionary.\n",
    "Because of that we prefer to create a tuple like this:\n",
    "\n",
    "df.cols().cast(\n",
    "[(\"words\",\"str\"),\n",
    "(\"num\",\"int\"),\n",
    "(\"animals\",\"float\"),\n",
    "(\"thing\",\"str\")]\n",
    ")\n",
    "\n",
    "\n",
    "https://pandas.pydata.org/pandas-docs/stable/generated/pandas.DataFrame.astype.html"
   ]
  },
  {
   "cell_type": "code",
   "execution_count": 25,
   "metadata": {},
   "outputs": [
    {
     "data": {
      "text/plain": [
       "DataFrame[words: string, num: string, animals: string, thing: string, two strings: string, filter: string, num 2: int]"
      ]
     },
     "execution_count": 25,
     "metadata": {},
     "output_type": "execute_result"
    }
   ],
   "source": [
    "df.cols().cast([(\"num\", \"string\"),(\"num 2\", \"integer\")])"
   ]
  },
  {
   "cell_type": "markdown",
   "metadata": {},
   "source": [
    "## Keep columns\n",
    "### Spark\n",
    "* You can not remove multiple columns\n",
    "\n",
    "### Pandas\n",
    "* Handle in pandas with drop\n"
   ]
  },
  {
   "cell_type": "code",
   "execution_count": 26,
   "metadata": {},
   "outputs": [
    {
     "data": {
      "text/plain": [
       "DataFrame[words: string, num: string, animals: string, thing: string, two strings: string, filter: string, num 2: string]"
      ]
     },
     "execution_count": 26,
     "metadata": {},
     "output_type": "execute_result"
    }
   ],
   "source": [
    "from pyspark.sql.functions import *\n",
    "df.withColumn(\"num\", col(\"num\").cast(StringType()))\n"
   ]
  },
  {
   "cell_type": "code",
   "execution_count": 27,
   "metadata": {},
   "outputs": [
    {
     "name": "stdout",
     "output_type": "stream",
     "text": [
      "+---+\n",
      "|num|\n",
      "+---+\n",
      "|  1|\n",
      "|  2|\n",
      "|  2|\n",
      "|  3|\n",
      "+---+\n",
      "\n"
     ]
    }
   ],
   "source": [
    "df.cols().keep(\"num\").show()"
   ]
  },
  {
   "cell_type": "markdown",
   "metadata": {},
   "source": [
    "## Move columns\n",
    "### Spark\n",
    "Do not exist in spark\n",
    "\n",
    "### Pandas\n",
    "Do not exist in pandas"
   ]
  },
  {
   "cell_type": "code",
   "execution_count": 28,
   "metadata": {},
   "outputs": [
    {
     "name": "stdout",
     "output_type": "stream",
     "text": [
      "+---+-------+-----+-------------------+-------------+------+-----+\n",
      "|num|animals|thing|              words|  two strings|filter|num 2|\n",
      "+---+-------+-----+-------------------+-------------+------+-----+\n",
      "|  1|    dog|housé|  I like     fish  |      cat-car|     a|    1|\n",
      "|  2|    cat|   tv|            zombies|       dog-tv|     b|    2|\n",
      "|  2|   frog|table|simpsons   cat lady|eagle-tv-plus|     1|    3|\n",
      "|  3|  eagle|glass|               null|      lion-pc|     c|    4|\n",
      "+---+-------+-----+-------------------+-------------+------+-----+\n",
      "\n"
     ]
    }
   ],
   "source": [
    "df.cols().move(\"words\", \"thing\", \"after\").show()"
   ]
  },
  {
   "cell_type": "markdown",
   "metadata": {},
   "source": [
    "## Sorting Columns\n",
    "### Spark\n",
    "You can not sort columns using Spark Vanilla API \n",
    "\n",
    "### Pandas\n",
    "Similar to pandas\n",
    "http://pandas.pydata.org/pandas-docs/version/0.19/generated/pandas.DataFrame.sort_values.html#pandas.DataFrame.sort_values"
   ]
  },
  {
   "cell_type": "code",
   "execution_count": 33,
   "metadata": {},
   "outputs": [
    {
     "name": "stdout",
     "output_type": "stream",
     "text": [
      "+-------+------+---+-----+-----+-------------+-------------------+\n",
      "|animals|filter|num|num 2|thing|  two strings|              words|\n",
      "+-------+------+---+-----+-----+-------------+-------------------+\n",
      "|    dog|     a|  1|    1|housé|      cat-car|  I like     fish  |\n",
      "|    cat|     b|  2|    2|   tv|       dog-tv|            zombies|\n",
      "|   frog|     1|  2|    3|table|eagle-tv-plus|simpsons   cat lady|\n",
      "|  eagle|     c|  3|    4|glass|      lion-pc|               null|\n",
      "+-------+------+---+-----+-----+-------------+-------------------+\n",
      "\n"
     ]
    }
   ],
   "source": [
    "df.cols().sort().show()"
   ]
  },
  {
   "cell_type": "code",
   "execution_count": 36,
   "metadata": {},
   "outputs": [
    {
     "name": "stdout",
     "output_type": "stream",
     "text": [
      "+-------------------+-------------+-----+-----+---+------+-------+\n",
      "|              words|  two strings|thing|num 2|num|filter|animals|\n",
      "+-------------------+-------------+-----+-----+---+------+-------+\n",
      "|  I like     fish  |      cat-car|housé|    1|  1|     a|    dog|\n",
      "|            zombies|       dog-tv|   tv|    2|  2|     b|    cat|\n",
      "|simpsons   cat lady|eagle-tv-plus|table|    3|  2|     1|   frog|\n",
      "|               null|      lion-pc|glass|    4|  3|     c|  eagle|\n",
      "+-------------------+-------------+-----+-----+---+------+-------+\n",
      "\n"
     ]
    }
   ],
   "source": [
    "df.cols().sort(order = \"desc\").show()"
   ]
  },
  {
   "cell_type": "markdown",
   "metadata": {},
   "source": [
    "## Drop columns\n",
    "### Spark \n",
    "* You can not delete multiple colums\n",
    "\n",
    "### Pandas\n",
    "* Almost the same as pandas\n",
    "https://pandas.pydata.org/pandas-docs/stable/generated/pandas.DataFrame.drop.html"
   ]
  },
  {
   "cell_type": "code",
   "execution_count": 35,
   "metadata": {},
   "outputs": [
    {
     "name": "stdout",
     "output_type": "stream",
     "text": [
      "+-------+-----+-------------+------+-----+\n",
      "|animals|thing|  two strings|filter|num 2|\n",
      "+-------+-----+-------------+------+-----+\n",
      "|    dog|housé|      cat-car|     a|    1|\n",
      "|    cat|   tv|       dog-tv|     b|    2|\n",
      "|   frog|table|eagle-tv-plus|     1|    3|\n",
      "|  eagle|glass|      lion-pc|     c|    4|\n",
      "+-------+-----+-------------+------+-----+\n",
      "\n"
     ]
    }
   ],
   "source": [
    "df2 = df.cols().drop(\"num\")\n",
    "df2 = df.cols().drop([\"num\",\"words\"])\n",
    "df2.show()"
   ]
  },
  {
   "cell_type": "markdown",
   "metadata": {},
   "source": [
    "## Chaining\n",
    "\n",
    "cols y rows functions are used to organize and encapsulate optimus' functionality apart of Apache Spark Dataframe API. This have a disadvantage at chaining time because we need to user invoke cols or rows in every step.\n",
    "\n",
    "At the same time it can be helpfull when you look at the code because every line is self explained."
   ]
  },
  {
   "cell_type": "code",
   "execution_count": 23,
   "metadata": {},
   "outputs": [
    {
     "name": "stdout",
     "output_type": "stream",
     "text": [
      "+-------------------+---+-------+-----+-------------+------+-----+\n",
      "|              words|num|animals|thing|  two strings|filter|num 2|\n",
      "+-------------------+---+-------+-----+-------------+------+-----+\n",
      "|  I like     fish  |  1|    dog|housé|      cat-car|     a|    1|\n",
      "|            zombies|  2|    cat|   tv|       dog-tv|     b|    2|\n",
      "|simpsons   cat lady|  2|   frog|table|eagle-tv-plus|     1|    3|\n",
      "|               null|  3|  eagle|glass|      lion-pc|     c|    4|\n",
      "+-------------------+---+-------+-----+-------------+------+-----+\n",
      "\n"
     ]
    }
   ],
   "source": [
    "df.show()"
   ]
  },
  {
   "cell_type": "code",
   "execution_count": 30,
   "metadata": {},
   "outputs": [
    {
     "name": "stdout",
     "output_type": "stream",
     "text": [
      "+-----+-----+---------+---------+------+-------+\n",
      "|thing|num 2|new_col_2|new_col_1|filter|animals|\n",
      "+-----+-----+---------+---------+------+-------+\n",
      "|housé|    1|spongebob|        1|     a|    dog|\n",
      "|   tv|    2|spongebob|        1|     b|    cat|\n",
      "|glass|    4|spongebob|        1|     c|  eagle|\n",
      "+-----+-----+---------+---------+------+-------+\n",
      "\n"
     ]
    }
   ],
   "source": [
    "from pyspark.sql import functions  as F\n",
    "\n",
    "df\\\n",
    "    .cols().rename([(\"num\",\"number\")])\\\n",
    "    .cols().drop([\"number\",\"words\"])\\\n",
    "    .withColumn(\"new_col_2\", lit(\"spongebob\"))\\\n",
    "    .cols().append(\"new_col_1\", 1)\\\n",
    "    .rows().drop(F.col(\"filter\")==\"1\")\\\n",
    "    .cols().sort(order= \"desc\")\\\n",
    "    .cols().drop(\"two strings\")\\\n",
    "    .show()"
   ]
  },
  {
   "cell_type": "code",
   "execution_count": 101,
   "metadata": {},
   "outputs": [
    {
     "name": "stdout",
     "output_type": "stream",
     "text": [
      "+------+-------+-----+-------------+------+-----+---------+\n",
      "|number|animals|thing|  two strings|filter|num 2|new_col_2|\n",
      "+------+-------+-----+-------------+------+-----+---------+\n",
      "|    11|    dog|housé|      cat-car|     a|    1|       12|\n",
      "|    12|    cat|   tv|       dog-tv|     b|    2|       13|\n",
      "|    12|   frog|table|eagle-tv-plus|     1|    3|       13|\n",
      "|    13|  eagle|glass|      lion-pc|     c|    4|       14|\n",
      "+------+-------+-----+-------------+------+-----+---------+\n",
      "\n"
     ]
    }
   ],
   "source": [
    "from pyspark.sql.functions import *\n",
    "\n",
    "def func(value, args):\n",
    "    return value + 10\n",
    "    \n",
    "df\\\n",
    "    .cols().rename([(\"num\",\"number\")])\\\n",
    "    .withColumn(\"new_col_2\", lit(\"spongebob\"))\\\n",
    "    .cols().apply(\"number\", func, \"int\")\\\n",
    "    .cols().apply_exp(\"new_col_2\", F.col(\"number\")+1)\\\n",
    "    .cols().drop(\"words\")\\\n",
    "    .show()"
   ]
  },
  {
   "cell_type": "markdown",
   "metadata": {},
   "source": [
    "## Split Columns\n",
    "### Spark\n",
    "\n",
    "### Pandas"
   ]
  },
  {
   "cell_type": "code",
   "execution_count": 21,
   "metadata": {},
   "outputs": [
    {
     "name": "stdout",
     "output_type": "stream",
     "text": [
      "+-------------------+---+-------+-----+-------------+------+-----+---------+-----+-----+-----+\n",
      "|              words|num|animals|thing|  two strings|filter|num 2|new_col_1|COL_0|COL_1|COL_2|\n",
      "+-------------------+---+-------+-----+-------------+------+-----+---------+-----+-----+-----+\n",
      "|  I like     fish  |  1|    dog|housé|      cat-car|     a|    1|        1|  cat|  car| null|\n",
      "|            zombies|  2|    cat|   tv|       dog-tv|     b|    2|        1|  dog|   tv| null|\n",
      "|simpsons   cat lady|  2|   frog|table|eagle-tv-plus|     1|    3|        1|eagle|   tv| plus|\n",
      "|               null|  3|  eagle|glass|      lion-pc|     c|    4|        1| lion|   pc| null|\n",
      "+-------------------+---+-------+-----+-------------+------+-----+---------+-----+-----+-----+\n",
      "\n"
     ]
    }
   ],
   "source": [
    "df.cols().split(\"two strings\",\"-\", n=3).show()"
   ]
  },
  {
   "cell_type": "code",
   "execution_count": 22,
   "metadata": {},
   "outputs": [
    {
     "name": "stdout",
     "output_type": "stream",
     "text": [
      "+-------------------+---+-------+-----+-------------+------+-----+---------+-----+\n",
      "|              words|num|animals|thing|  two strings|filter|num 2|new_col_1|COL_1|\n",
      "+-------------------+---+-------+-----+-------------+------+-----+---------+-----+\n",
      "|  I like     fish  |  1|    dog|housé|      cat-car|     a|    1|        1|  car|\n",
      "|            zombies|  2|    cat|   tv|       dog-tv|     b|    2|        1|   tv|\n",
      "|simpsons   cat lady|  2|   frog|table|eagle-tv-plus|     1|    3|        1|   tv|\n",
      "|               null|  3|  eagle|glass|      lion-pc|     c|    4|        1|   pc|\n",
      "+-------------------+---+-------+-----+-------------+------+-----+---------+-----+\n",
      "\n"
     ]
    }
   ],
   "source": [
    "df.cols().split(\"two strings\",\"-\", get = 1).show()"
   ]
  },
  {
   "cell_type": "markdown",
   "metadata": {},
   "source": [
    "## Impute\n",
    "### Spark"
   ]
  },
  {
   "cell_type": "code",
   "execution_count": 23,
   "metadata": {},
   "outputs": [
    {
     "name": "stdout",
     "output_type": "stream",
     "text": [
      "+-------------------+---+-------+-----+-------------+------+-----+---------+\n",
      "|              words|num|animals|thing|  two strings|filter|num 2|new_col_1|\n",
      "+-------------------+---+-------+-----+-------------+------+-----+---------+\n",
      "|  I like     fish  |1.0|    dog|housé|      cat-car|     a|  1.0|        1|\n",
      "|            zombies|2.0|    cat|   tv|       dog-tv|     b|  2.0|        1|\n",
      "|simpsons   cat lady|2.0|   frog|table|eagle-tv-plus|     1|  3.0|        1|\n",
      "|               null|3.0|  eagle|glass|      lion-pc|     c|  4.0|        1|\n",
      "+-------------------+---+-------+-----+-------------+------+-----+---------+\n",
      "\n"
     ]
    }
   ],
   "source": [
    "df_cast =df.cols().cast([(\"num\",\"double\"),(\"num 2\", \"double\")])\n",
    "df_cast.dtypes\n",
    "\n",
    "df_cast.cols().impute([\"num\",\"num 2\"], [\"out_a\",\"out_B\"], strategy=\"mean\")\n",
    "df_cast.show()"
   ]
  },
  {
   "cell_type": "markdown",
   "metadata": {},
   "source": [
    "## Get columns by type\n",
    "### Spark\n",
    "\n",
    "### Pandas"
   ]
  },
  {
   "cell_type": "code",
   "execution_count": 24,
   "metadata": {},
   "outputs": [
    {
     "name": "stdout",
     "output_type": "stream",
     "text": [
      "+---+---------+\n",
      "|num|new_col_1|\n",
      "+---+---------+\n",
      "|  1|        1|\n",
      "|  2|        1|\n",
      "|  2|        1|\n",
      "|  3|        1|\n",
      "+---+---------+\n",
      "\n"
     ]
    }
   ],
   "source": [
    "df.cols().filter_by_dtypes(\"int\").show()"
   ]
  },
  {
   "cell_type": "markdown",
   "metadata": {},
   "source": [
    "## Apply custom function\n",
    "### Spark\n",
    "You need to declare a UDF Spark function\n",
    "\n",
    "### Pandas\n",
    "Almost the same behavior"
   ]
  },
  {
   "cell_type": "code",
   "execution_count": 25,
   "metadata": {},
   "outputs": [
    {
     "name": "stdout",
     "output_type": "stream",
     "text": [
      "+-------------------+---+-------+-----+-------------+------+-----+---------+\n",
      "|              words|num|animals|thing|  two strings|filter|num 2|new_col_1|\n",
      "+-------------------+---+-------+-----+-------------+------+-----+---------+\n",
      "|  I like     fish  |  1|    dog|housé|      cat-car|     a|    1|        1|\n",
      "|            zombies|  2|    cat|   tv|       dog-tv|     b|    2|        1|\n",
      "|simpsons   cat lady|  2|   frog|table|eagle-tv-plus|     1|    3|        1|\n",
      "|               null|  3|  eagle|glass|      lion-pc|     c|    4|        1|\n",
      "+-------------------+---+-------+-----+-------------+------+-----+---------+\n",
      "\n"
     ]
    }
   ],
   "source": [
    "df.show()"
   ]
  },
  {
   "cell_type": "code",
   "execution_count": 26,
   "metadata": {},
   "outputs": [
    {
     "name": "stdout",
     "output_type": "stream",
     "text": [
      "+-------------------+---+-------+-----+-------------+------+-----+---------+\n",
      "|              words|num|animals|thing|  two strings|filter|num 2|new_col_1|\n",
      "+-------------------+---+-------+-----+-------------+------+-----+---------+\n",
      "|  I like     fish  |  1|    dog|housé|      cat-car|     a|    1|        1|\n",
      "|            zombies|  2|    cat|   tv|       dog-tv|     b|    2|        1|\n",
      "|simpsons   cat lady|  2|   frog|table|eagle-tv-plus|    10|    3|        1|\n",
      "|               null|  3|  eagle|glass|      lion-pc|     c|    4|        1|\n",
      "+-------------------+---+-------+-----+-------------+------+-----+---------+\n",
      "\n"
     ]
    }
   ],
   "source": [
    "def sum_(val, attr):\n",
    "    return attr\n",
    "\n",
    "df.cols().apply_by_dtypes(\"filter\", sum_, \"string\", \"10\", filter_by_data_type=\"integer\").show()"
   ]
  },
  {
   "cell_type": "code",
   "execution_count": 7,
   "metadata": {},
   "outputs": [
    {
     "name": "stdout",
     "output_type": "stream",
     "text": [
      "32\n",
      "<function func at 0x0000016C72BFAA60>\n",
      "32\n",
      "<function func at 0x0000016C72BFAA60>\n",
      "+-------------------+---+-------+-----+-------------+------+-----+\n",
      "|              words|num|animals|thing|  two strings|filter|num 2|\n",
      "+-------------------+---+-------+-----+-------------+------+-----+\n",
      "|  I like     fish  | 65|    dog|housé|      cat-car|     a|    1|\n",
      "|            zombies| 66|    cat|   tv|       dog-tv|     b|    2|\n",
      "|simpsons   cat lady| 66|   frog|table|eagle-tv-plus|     1|    3|\n",
      "|               null| 67|  eagle|glass|      lion-pc|     c|    4|\n",
      "+-------------------+---+-------+-----+-------------+------+-----+\n",
      "\n"
     ]
    }
   ],
   "source": [
    "def func(val, attr):\n",
    "    return val + attr\n",
    "\n",
    "df.cols().apply([\"num\", \"num\"], func, \"int\", 32 ,\"udf\").show()"
   ]
  },
  {
   "cell_type": "code",
   "execution_count": 99,
   "metadata": {},
   "outputs": [
    {
     "name": "stdout",
     "output_type": "stream",
     "text": [
      "32\n",
      "32\n",
      "+-------------------+---+-------+-----+-------------+------+-----+\n",
      "|              words|num|animals|thing|  two strings|filter|num 2|\n",
      "+-------------------+---+-------+-----+-------------+------+-----+\n",
      "|  I like     fish  | 65|    dog|housé|      cat-car|     a|    1|\n",
      "|            zombies| 66|    cat|   tv|       dog-tv|     b|    2|\n",
      "|simpsons   cat lady| 66|   frog|table|eagle-tv-plus|     1|    3|\n",
      "|               null| 67|  eagle|glass|      lion-pc|     c|    4|\n",
      "+-------------------+---+-------+-----+-------------+------+-----+\n",
      "\n"
     ]
    }
   ],
   "source": [
    "def func(val, attr):\n",
    "    return val + attr\n",
    "\n",
    "df.cols().apply([\"num\", \"num\"], func, \"int\", 32 ,\"udf\").show()"
   ]
  },
  {
   "cell_type": "code",
   "execution_count": 1,
   "metadata": {},
   "outputs": [
    {
     "ename": "ModuleNotFoundError",
     "evalue": "No module named 'optimus'",
     "output_type": "error",
     "traceback": [
      "\u001b[1;31m---------------------------------------------------------------------------\u001b[0m",
      "\u001b[1;31mModuleNotFoundError\u001b[0m                       Traceback (most recent call last)",
      "\u001b[1;32m<ipython-input-1-3a64fd17ed18>\u001b[0m in \u001b[0;36m<module>\u001b[1;34m()\u001b[0m\n\u001b[1;32m----> 1\u001b[1;33m \u001b[1;32mfrom\u001b[0m \u001b[0moptimus\u001b[0m\u001b[1;33m.\u001b[0m\u001b[0mfunctions\u001b[0m \u001b[1;32mimport\u001b[0m \u001b[0mfilter_row_by_data_type\u001b[0m \u001b[1;32mas\u001b[0m \u001b[0mfbdt\u001b[0m\u001b[1;33m\u001b[0m\u001b[0m\n\u001b[0m\u001b[0;32m      2\u001b[0m \u001b[1;33m\u001b[0m\u001b[0m\n\u001b[0;32m      3\u001b[0m \u001b[0mdf\u001b[0m\u001b[1;33m.\u001b[0m\u001b[0mwhere\u001b[0m\u001b[1;33m(\u001b[0m\u001b[0mfbdt\u001b[0m\u001b[1;33m(\u001b[0m\u001b[1;34m\"filter\"\u001b[0m\u001b[1;33m,\u001b[0m \u001b[1;34m\"integer\"\u001b[0m\u001b[1;33m)\u001b[0m\u001b[1;33m)\u001b[0m\u001b[1;33m.\u001b[0m\u001b[0mshow\u001b[0m\u001b[1;33m(\u001b[0m\u001b[1;33m)\u001b[0m\u001b[1;33m\u001b[0m\u001b[0m\n",
      "\u001b[1;31mModuleNotFoundError\u001b[0m: No module named 'optimus'"
     ]
    }
   ],
   "source": [
    "from optimus.functions import filter_row_by_data_type as fbdt\n",
    "\n",
    "df.where(fbdt(\"filter\", \"integer\")).show()"
   ]
  },
  {
   "cell_type": "code",
   "execution_count": 30,
   "metadata": {},
   "outputs": [
    {
     "name": "stdout",
     "output_type": "stream",
     "text": [
      "+-------------------+---+-------+-----+-------------+------+-----+---------+\n",
      "|              words|num|animals|thing|  two strings|filter|num 2|new_col_1|\n",
      "+-------------------+---+-------+-----+-------------+------+-----+---------+\n",
      "|  I like     fish  | 21|    dog|housé|      cat-car|     a|    1|        1|\n",
      "|            zombies| 22|    cat|   tv|       dog-tv|     b|    2|        1|\n",
      "|simpsons   cat lady| 22|   frog|table|eagle-tv-plus|     1|    3|        1|\n",
      "|               null| 23|  eagle|glass|      lion-pc|     c|    4|        1|\n",
      "+-------------------+---+-------+-----+-------------+------+-----+---------+\n",
      "\n"
     ]
    }
   ],
   "source": [
    "def func(val, attr):\n",
    "    return val + attr\n",
    "\n",
    "df.cols().apply([\"num\", \"num\"], func, \"int\", 10).show()"
   ]
  },
  {
   "cell_type": "markdown",
   "metadata": {},
   "source": [
    "## Abstract UDF"
   ]
  },
  {
   "cell_type": "code",
   "execution_count": 33,
   "metadata": {},
   "outputs": [
    {
     "name": "stdout",
     "output_type": "stream",
     "text": [
      "+-------------------+---+-------+-----+-------------+------+-----+\n",
      "|              words|num|animals|thing|  two strings|filter|num 2|\n",
      "+-------------------+---+-------+-----+-------------+------+-----+\n",
      "|            zombies|  2|    cat|   tv|       dog-tv|     b|    2|\n",
      "|simpsons   cat lady|  2|   frog|table|eagle-tv-plus|     1|    3|\n",
      "|               null|  3|  eagle|glass|      lion-pc|     c|    4|\n",
      "+-------------------+---+-------+-----+-------------+------+-----+\n",
      "\n"
     ]
    }
   ],
   "source": [
    "from optimus.functions import abstract_udf as audf \n",
    "\n",
    "def func(val, attr):\n",
    "    return val>1\n",
    "\n",
    "df.rows().filter(audf(\"num\", func, \"bool\")).show()"
   ]
  },
  {
   "cell_type": "code",
   "execution_count": 35,
   "metadata": {},
   "outputs": [
    {
     "name": "stdout",
     "output_type": "stream",
     "text": [
      "+-----+---+-------+-----+-----------+------+-----+\n",
      "|words|num|animals|thing|two strings|filter|num 2|\n",
      "+-----+---+-------+-----+-----------+------+-----+\n",
      "| null|  3|  eagle|glass|    lion-pc|     c|    4|\n",
      "+-----+---+-------+-----+-----------+------+-----+\n",
      "\n"
     ]
    }
   ],
   "source": [
    "from optimus.functions import abstract_udf as audf \n",
    "from optimus.functions import filter_row_by_data_type as frdt\n",
    "def func(val, attr):\n",
    "    return val>2\n",
    "\n",
    "df.rows().filter(audf(\"num\", func, \"bool\")).show()"
   ]
  },
  {
   "cell_type": "code",
   "execution_count": 32,
   "metadata": {},
   "outputs": [
    {
     "name": "stdout",
     "output_type": "stream",
     "text": [
      "+-------------------+---+-------+-----+-------------+------+-----+\n",
      "|              words|num|animals|thing|  two strings|filter|num 2|\n",
      "+-------------------+---+-------+-----+-------------+------+-----+\n",
      "|  I like     fish  | 31|    dog|housé|      cat-car|     a|    1|\n",
      "|            zombies| 32|    cat|   tv|       dog-tv|     b|    2|\n",
      "|simpsons   cat lady| 32|   frog|table|eagle-tv-plus|     1|    3|\n",
      "|               null| 33|  eagle|glass|      lion-pc|     c|    4|\n",
      "+-------------------+---+-------+-----+-------------+------+-----+\n",
      "\n"
     ]
    }
   ],
   "source": [
    "# https://stackoverflow.com/questions/31400143/column-filtering-in-pyspark\n",
    "from optimus.functions import abstract_udf as audf \n",
    "\n",
    "def func(val, attr):\n",
    "    return val+attr[0]+attr[1]\n",
    "\n",
    "\n",
    "df.withColumn(\"num\", audf (\"num\", func, \"int\", [10,20])).show()"
   ]
  },
  {
   "cell_type": "code",
   "execution_count": 107,
   "metadata": {},
   "outputs": [
    {
     "name": "stdout",
     "output_type": "stream",
     "text": [
      "+-------------------+---+-------+-----+-------------+------+-----+\n",
      "|              words|num|animals|thing|  two strings|filter|num 2|\n",
      "+-------------------+---+-------+-----+-------------+------+-----+\n",
      "|  I like     fish  |  2|    dog|housé|      cat-car|     a|    1|\n",
      "|            zombies|  3|    cat|   tv|       dog-tv|     b|    2|\n",
      "|simpsons   cat lady|  3|   frog|table|eagle-tv-plus|     1|    3|\n",
      "|               null|  4|  eagle|glass|      lion-pc|     c|    4|\n",
      "+-------------------+---+-------+-----+-------------+------+-----+\n",
      "\n"
     ]
    }
   ],
   "source": [
    "def func(col_name, attr):\n",
    "    return F.col(col_name) + 1\n",
    "\n",
    "df.withColumn(\"num\", audf (\"num\", func, \"int\", [\"num\",\"num\"], \"column_exp\")).show()"
   ]
  },
  {
   "cell_type": "markdown",
   "metadata": {},
   "source": [
    "## Apply Exp"
   ]
  },
  {
   "cell_type": "code",
   "execution_count": 41,
   "metadata": {},
   "outputs": [
    {
     "name": "stdout",
     "output_type": "stream",
     "text": [
      "+-------------------+---+-------+-----+-------------+------+-----+\n",
      "|              words|num|animals|thing|  two strings|filter|num 2|\n",
      "+-------------------+---+-------+-----+-------------+------+-----+\n",
      "|  I like     fish  |  2|    dog|housé|      cat-car|     a|    2|\n",
      "|            zombies|  2|    cat|   tv|       dog-tv|     b|    2|\n",
      "|simpsons   cat lady|  2|   frog|table|eagle-tv-plus|     1|    2|\n",
      "|               null|  2|  eagle|glass|      lion-pc|     c|    2|\n",
      "+-------------------+---+-------+-----+-------------+------+-----+\n",
      "\n"
     ]
    }
   ],
   "source": [
    "from pyspark.sql import functions as F\n",
    "def func(col_name, attr):\n",
    "    # return F.col(col_name) + 1\n",
    "    return F.when(F.col(col_name)>0 ,2)\n",
    "\n",
    "df.cols().apply_exp([\"num\",\"num 2\"], func).show()"
   ]
  },
  {
   "cell_type": "code",
   "execution_count": 42,
   "metadata": {},
   "outputs": [
    {
     "name": "stdout",
     "output_type": "stream",
     "text": [
      "+-------------------+---+-------+-----+-------------+------+-----+\n",
      "|              words|num|animals|thing|  two strings|filter|num 2|\n",
      "+-------------------+---+-------+-----+-------------+------+-----+\n",
      "|  I like     fish  |  2|    dog|housé|      cat-car|     a|    1|\n",
      "|            zombies|  2|    cat|   tv|       dog-tv|     b|    2|\n",
      "|simpsons   cat lady|  2|   frog|table|eagle-tv-plus|     1|    3|\n",
      "|               null|  2|  eagle|glass|      lion-pc|     c|    4|\n",
      "+-------------------+---+-------+-----+-------------+------+-----+\n",
      "\n"
     ]
    }
   ],
   "source": [
    "df.cols().apply_exp([\"num\"], F.when(F.col(\"num\")>0 ,2)).show()"
   ]
  },
  {
   "cell_type": "code",
   "execution_count": 33,
   "metadata": {},
   "outputs": [
    {
     "name": "stdout",
     "output_type": "stream",
     "text": [
      "+-------------------+---+-------+-----+-------------+------+-----+---------+\n",
      "|              words|num|animals|thing|  two strings|filter|num 2|new_col_1|\n",
      "+-------------------+---+-------+-----+-------------+------+-----+---------+\n",
      "|  I like     fish  |  1|    DOG|housé|      CAT-CAR|     a|    1|        1|\n",
      "|            zombies|  2|    CAT|   tv|       DOG-TV|     b|    2|        1|\n",
      "|simpsons   cat lady|  2|   FROG|table|EAGLE-TV-PLUS|     1|    3|        1|\n",
      "|               null|  3|  EAGLE|glass|      LION-PC|     c|    4|        1|\n",
      "+-------------------+---+-------+-----+-------------+------+-----+---------+\n",
      "\n"
     ]
    }
   ],
   "source": [
    "from pyspark.sql import functions as F\n",
    "def func(col_name, attr):\n",
    "    return F.upper(F.col(col_name))\n",
    "\n",
    "df.cols().apply_exp([\"two strings\",\"animals\"], func).show()"
   ]
  },
  {
   "cell_type": "code",
   "execution_count": 34,
   "metadata": {},
   "outputs": [
    {
     "name": "stdout",
     "output_type": "stream",
     "text": [
      "+-------------------+---+-------+-----+-------------+------+-----+---------+\n",
      "|              words|num|animals|thing|  two strings|filter|num 2|new_col_1|\n",
      "+-------------------+---+-------+-----+-------------+------+-----+---------+\n",
      "|  I like     fish  |  1|    dog|housé|      cat-car|     a|    1|        1|\n",
      "|            zombies| 10|    cat|   tv|       dog-tv|     b|    2|        1|\n",
      "|simpsons   cat lady| 10|   frog|table|eagle-tv-plus|     1|    3|        1|\n",
      "|               null| 10|  eagle|glass|      lion-pc|     c|    4|        1|\n",
      "+-------------------+---+-------+-----+-------------+------+-----+---------+\n",
      "\n",
      "+-------------------+---+-------+-----+-------------+------+-----+---------+\n",
      "|              words|num|animals|thing|  two strings|filter|num 2|new_col_1|\n",
      "+-------------------+---+-------+-----+-------------+------+-----+---------+\n",
      "|  I like     fish  | 10|    dog|housé|      cat-car|     a|    1|        1|\n",
      "|            zombies| 10|    cat|   tv|       dog-tv|     b|    2|        1|\n",
      "|simpsons   cat lady| 10|   frog|table|eagle-tv-plus|     1|    3|        1|\n",
      "|               null| 10|  eagle|glass|      lion-pc|     c|    4|        1|\n",
      "+-------------------+---+-------+-----+-------------+------+-----+---------+\n",
      "\n"
     ]
    }
   ],
   "source": [
    "def func(val, attr):\n",
    "    return 10\n",
    "\n",
    "col = \"num\"\n",
    "\n",
    "df.cols().apply(col, func, \"int\", when= df[\"num\"]>1).show()\n",
    "\n",
    "df.cols().apply(col, func, \"int\", when= fbdt(col, \"integer\")).show()\n"
   ]
  },
  {
   "cell_type": "markdown",
   "metadata": {},
   "source": [
    "## Count Nulls\n",
    "### Spark\n",
    "\n",
    "### Pandas"
   ]
  },
  {
   "cell_type": "code",
   "execution_count": 35,
   "metadata": {},
   "outputs": [],
   "source": [
    "import numpy as np\n",
    "\n",
    "df_null = op.get_ss().createDataFrame(\n",
    "    [(1, 1, None), (1, 2, float(5)), (1, 3, np.nan), (1, 4, None), (1, 5, float(10)), (1, 6, float('nan')), (1, 6, float('nan'))],\n",
    "    ('session', \"timestamp1\", \"id2\"))"
   ]
  },
  {
   "cell_type": "code",
   "execution_count": 36,
   "metadata": {},
   "outputs": [
    {
     "data": {
      "text/plain": [
       "{'id2': 5}"
      ]
     },
     "execution_count": 36,
     "metadata": {},
     "output_type": "execute_result"
    }
   ],
   "source": [
    "df_null.cols().count_na(\"id2\")"
   ]
  },
  {
   "cell_type": "code",
   "execution_count": 37,
   "metadata": {},
   "outputs": [
    {
     "data": {
      "text/plain": [
       "{'id2': 5, 'session': 0, 'timestamp1': 0}"
      ]
     },
     "execution_count": 37,
     "metadata": {},
     "output_type": "execute_result"
    }
   ],
   "source": [
    "df_null.cols().count_na(\"*\")"
   ]
  },
  {
   "cell_type": "markdown",
   "metadata": {},
   "source": [
    "## Count uniques\n",
    "### Spark\n",
    "\n",
    "### Pandas\n"
   ]
  },
  {
   "cell_type": "code",
   "execution_count": 38,
   "metadata": {},
   "outputs": [
    {
     "data": {
      "text/plain": [
       "{'animals': 4,\n",
       " 'filter': 4,\n",
       " 'new_col_1': 1,\n",
       " 'num': 3,\n",
       " 'num 2': 4,\n",
       " 'thing': 4,\n",
       " 'two strings': 4,\n",
       " 'words': 4}"
      ]
     },
     "execution_count": 38,
     "metadata": {},
     "output_type": "execute_result"
    }
   ],
   "source": [
    "df.cols().count_uniques(\"*\")"
   ]
  },
  {
   "cell_type": "markdown",
   "metadata": {},
   "source": [
    "## Unique\n",
    "### Spark\n",
    "An abstraction of distinct to be use in multiple columns at the same time\n",
    "\n",
    "### Pandas\n",
    "Similar behavior than pandas"
   ]
  },
  {
   "cell_type": "code",
   "execution_count": 39,
   "metadata": {},
   "outputs": [
    {
     "name": "stdout",
     "output_type": "stream",
     "text": [
      "+-------------------+---+-------+-----+-------------+------+-----+---------+\n",
      "|              words|num|animals|thing|  two strings|filter|num 2|new_col_1|\n",
      "+-------------------+---+-------+-----+-------------+------+-----+---------+\n",
      "|  I like     fish  |  1|    dog|housé|      cat-car|     a|    1|        1|\n",
      "|            zombies|  2|    cat|   tv|       dog-tv|     b|    2|        1|\n",
      "|simpsons   cat lady|  2|   frog|table|eagle-tv-plus|     1|    3|        1|\n",
      "|               null|  3|  eagle|glass|      lion-pc|     c|    4|        1|\n",
      "+-------------------+---+-------+-----+-------------+------+-----+---------+\n",
      "\n"
     ]
    }
   ],
   "source": [
    "df.show()"
   ]
  },
  {
   "cell_type": "code",
   "execution_count": 40,
   "metadata": {},
   "outputs": [],
   "source": [
    "df_distinct = op.create.df(\n",
    "            [\n",
    "                (\"words\", \"str\", True),\n",
    "                (\"num\", \"int\", True)\n",
    "            ],\n",
    "[\n",
    "                (\"  I like     fish  \", 1),\n",
    "                (\"    zombies\", 2),\n",
    "                (\"simpsons   cat lady\", 2),\n",
    "                (None, 3),\n",
    "                  (None, 0)\n",
    "            ])"
   ]
  },
  {
   "cell_type": "code",
   "execution_count": 41,
   "metadata": {},
   "outputs": [
    {
     "name": "stdout",
     "output_type": "stream",
     "text": [
      "+---+\n",
      "|num|\n",
      "+---+\n",
      "|  1|\n",
      "|  3|\n",
      "|  2|\n",
      "|  0|\n",
      "+---+\n",
      "\n"
     ]
    }
   ],
   "source": [
    "df_distinct\\\n",
    "    .select(\"num\")\\\n",
    "    .cols().unique().show()"
   ]
  },
  {
   "cell_type": "markdown",
   "metadata": {},
   "source": [
    "## Count Zeros"
   ]
  },
  {
   "cell_type": "code",
   "execution_count": 42,
   "metadata": {},
   "outputs": [
    {
     "name": "stdout",
     "output_type": "stream",
     "text": [
      "+-------------------+---+\n",
      "|              words|num|\n",
      "+-------------------+---+\n",
      "|  I like     fish  |  1|\n",
      "|            zombies|  2|\n",
      "|simpsons   cat lady|  2|\n",
      "|               null|  3|\n",
      "|               null|  0|\n",
      "+-------------------+---+\n",
      "\n"
     ]
    },
    {
     "data": {
      "text/plain": [
       "{'num': 1, 'words': 0}"
      ]
     },
     "execution_count": 42,
     "metadata": {},
     "output_type": "execute_result"
    }
   ],
   "source": [
    "df_zeros = df_distinct\n",
    "df_zeros.show()\n",
    "df_zeros.cols().count_zeros(\"*\")"
   ]
  },
  {
   "cell_type": "markdown",
   "metadata": {},
   "source": [
    "## Column Data Types"
   ]
  },
  {
   "cell_type": "code",
   "execution_count": 43,
   "metadata": {},
   "outputs": [
    {
     "data": {
      "text/plain": [
       "{'animals': 'string',\n",
       " 'filter': 'string',\n",
       " 'new_col_1': 'int',\n",
       " 'num': 'int',\n",
       " 'num 2': 'string',\n",
       " 'thing': 'string',\n",
       " 'two strings': 'string',\n",
       " 'words': 'string'}"
      ]
     },
     "execution_count": 43,
     "metadata": {},
     "output_type": "execute_result"
    }
   ],
   "source": [
    "df.cols().dtypes('*')"
   ]
  },
  {
   "cell_type": "markdown",
   "metadata": {},
   "source": [
    "## Replace"
   ]
  },
  {
   "cell_type": "code",
   "execution_count": 44,
   "metadata": {},
   "outputs": [
    {
     "name": "stdout",
     "output_type": "stream",
     "text": [
      "+-------------------+---+-------+-----+-------------+------+-----+---------+\n",
      "|              words|num|animals|thing|  two strings|filter|num 2|new_col_1|\n",
      "+-------------------+---+-------+-----+-------------+------+-----+---------+\n",
      "|  I like     fish  |  1|    dog|housé|      cat-car|     a|    1|        1|\n",
      "|            zombies|  2|animals|   tv|      animals|     b|    2|        1|\n",
      "|simpsons   cat lady|  2|   frog|table|eagle-tv-plus|     1|    3|        1|\n",
      "|               null|  3|animals|glass|      lion-pc|     c|    4|        1|\n",
      "+-------------------+---+-------+-----+-------------+------+-----+---------+\n",
      "\n",
      "+-------------------+---+-------+-----+-------------+------+-----+---------+\n",
      "|              words|num|animals|thing|  two strings|filter|num 2|new_col_1|\n",
      "+-------------------+---+-------+-----+-------------+------+-----+---------+\n",
      "|  I like     fish  |  1|animals|housé|      cat-car|     a|    1|        1|\n",
      "|            zombies|  2|animals|   tv|       dog-tv|     b|    2|        1|\n",
      "|simpsons   cat lady|  2|   frog|table|eagle-tv-plus|     1|    3|        1|\n",
      "|               null|  3|  eagle|glass|      lion-pc|     c|    4|        1|\n",
      "+-------------------+---+-------+-----+-------------+------+-----+---------+\n",
      "\n",
      "+-------------------+---+-------+-----+-------------+------+-----+---------+\n",
      "|              words|num|animals|thing|  two strings|filter|num 2|new_col_1|\n",
      "+-------------------+---+-------+-----+-------------+------+-----+---------+\n",
      "|  I like     fish  |  1|animals|housé|      cat-car|     a|    1|        1|\n",
      "|            zombies|  2|animals|   tv|       dog-tv|     b|    2|        1|\n",
      "|simpsons   cat lady|  2|   frog|table|eagle-tv-plus|     1|    3|        1|\n",
      "|               null|  3|  eagle|glass|      lion-pc|     c|    4|        1|\n",
      "+-------------------+---+-------+-----+-------------+------+-----+---------+\n",
      "\n",
      "+-------------------+---+-------+-----+-------------+------+-----+---------+\n",
      "|              words|num|animals|thing|  two strings|filter|num 2|new_col_1|\n",
      "+-------------------+---+-------+-----+-------------+------+-----+---------+\n",
      "|  I like     fish  |  1| animal|housé|      cat-car|     a|    1|        1|\n",
      "|            zombies|  2|    cat|   tv|       dog-tv|     b|    2|        1|\n",
      "|simpsons   cat lady|  2|   frog|table|eagle-tv-plus|     1|    3|        1|\n",
      "|               null|  3|  eagle|glass|      lion-pc|     c|    4|        1|\n",
      "+-------------------+---+-------+-----+-------------+------+-----+---------+\n",
      "\n",
      "+-------------------+---+-------+-----+-------------+------+-----+---------+\n",
      "|              words|num|animals|thing|  two strings|filter|num 2|new_col_1|\n",
      "+-------------------+---+-------+-----+-------------+------+-----+---------+\n",
      "|  I like     fish  |  1|    dog|housé|      cat-car|     a|    1|        1|\n",
      "|            zombies| 10|    cat|   tv|       dog-tv|     b|    2|        1|\n",
      "|simpsons   cat lady| 10|   frog|table|eagle-tv-plus|     1|    3|        1|\n",
      "|               null| 10|  eagle|glass|      lion-pc|     c|    4|        1|\n",
      "+-------------------+---+-------+-----+-------------+------+-----+---------+\n",
      "\n",
      "+-------------------+---+-------+-----+-------------+------+-----+---------+\n",
      "|              words|num|animals|thing|  two strings|filter|num 2|new_col_1|\n",
      "+-------------------+---+-------+-----+-------------+------+-----+---------+\n",
      "|  I like     fish  |  1|    dog|housé|      cat-car|     a|    1|        1|\n",
      "|            zombies|  6|    cat|   tv|       dog-tv|     b|    2|        1|\n",
      "|simpsons   cat lady|  6|   frog|table|eagle-tv-plus|     1|    3|        1|\n",
      "|               null|  6|  eagle|glass|      lion-pc|     c|    4|        1|\n",
      "+-------------------+---+-------+-----+-------------+------+-----+---------+\n",
      "\n"
     ]
    }
   ],
   "source": [
    "df.cols().replace([\"two strings\",\"animals\"], [\"dog-tv\", \"cat\", \"eagle\", \"fish\"], \"animals\").show()\n",
    "\n",
    "df.cols().replace('animals',[\"dog\",\"cat\"],\"animals\").show()\n",
    "\n",
    "df.cols().replace('animals',[(\"dog\",\"animals\"),(\"cat\",\"animals\")]).show()\n",
    "\n",
    "df.cols().replace('animals',\"dog\",'animal').show()\n",
    "\n",
    "df.cols().replace('num',[\"3\",2], 10).show()\n",
    "\n",
    "df.cols().replace('num',[(\"3\",6),(2,6)]).show()"
   ]
  },
  {
   "cell_type": "code",
   "execution_count": 45,
   "metadata": {},
   "outputs": [
    {
     "name": "stdout",
     "output_type": "stream",
     "text": [
      "+-------------------+---+-------+-----+-------------+------+-----+---------+\n",
      "|              words|num|animals|thing|  two strings|filter|num 2|new_col_1|\n",
      "+-------------------+---+-------+-----+-------------+------+-----+---------+\n",
      "|  I like     fish  |  1|    dog|housé|       animal|     a|    1|        1|\n",
      "|            zombies|  2| animal|   tv|       dog-tv|     b|    2|        1|\n",
      "|             animal|  2|   frog|table|eagle-tv-plus|     1|    3|        1|\n",
      "|               null|  3|  eagle|glass|      lion-pc|     c|    4|        1|\n",
      "+-------------------+---+-------+-----+-------------+------+-----+---------+\n",
      "\n",
      "+--------------------+---+-------+-----+-------------+------+-----+---------+\n",
      "|               words|num|animals|thing|  two strings|filter|num 2|new_col_1|\n",
      "+--------------------+---+-------+-----+-------------+------+-----+---------+\n",
      "|   I like     fish  |  1|    dog|housé|   animal-car|     a|    1|        1|\n",
      "|             zombies|  2| animal|   tv|       dog-tv|     b|    2|        1|\n",
      "|simpsons   animal...|  2|   frog|table|eagle-tv-plus|     1|    3|        1|\n",
      "|                null|  3|  eagle|glass|      lion-pc|     c|    4|        1|\n",
      "+--------------------+---+-------+-----+-------------+------+-----+---------+\n",
      "\n"
     ]
    }
   ],
   "source": [
    "df.cols().replace('*','.*[Cc]at.*', 'animal', regex=True).show()\n",
    "df.cols().replace('*','cat', 'animal', regex=True).show()"
   ]
  }
 ],
 "metadata": {
  "kernelspec": {
   "display_name": "Python 3",
   "language": "python",
   "name": "python3"
  },
  "language_info": {
   "codemirror_mode": {
    "name": "ipython",
    "version": 3
   },
   "file_extension": ".py",
   "mimetype": "text/x-python",
   "name": "python",
   "nbconvert_exporter": "python",
   "pygments_lexer": "ipython3",
   "version": "3.6.4"
  }
 },
 "nbformat": 4,
 "nbformat_minor": 2
}
