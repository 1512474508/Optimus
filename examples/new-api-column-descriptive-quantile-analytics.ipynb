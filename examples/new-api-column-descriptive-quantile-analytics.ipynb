{
 "cells": [
  {
   "cell_type": "code",
   "execution_count": 1,
   "metadata": {},
   "outputs": [],
   "source": [
    "%load_ext autoreload\n",
    "%autoreload 2"
   ]
  },
  {
   "cell_type": "code",
   "execution_count": 2,
   "metadata": {},
   "outputs": [],
   "source": [
    "import sys\n",
    "sys.path.append(\"..\")"
   ]
  },
  {
   "cell_type": "code",
   "execution_count": 3,
   "metadata": {},
   "outputs": [],
   "source": [
    "from optimus import Optimus"
   ]
  },
  {
   "cell_type": "code",
   "execution_count": 4,
   "metadata": {},
   "outputs": [
    {
     "name": "stderr",
     "output_type": "stream",
     "text": [
      "\n",
      "                             ____        __  _                     \n",
      "                            / __ \\____  / /_(_)___ ___  __  _______\n",
      "                           / / / / __ \\/ __/ / __ `__ \\/ / / / ___/\n",
      "                          / /_/ / /_/ / /_/ / / / / / / /_/ (__  ) \n",
      "                          \\____/ .___/\\__/_/_/ /_/ /_/\\__,_/____/  \n",
      "                              /_/                                  \n",
      "                              \n",
      "Transform and Roll out...\n",
      "Just checking that all necessary environments vars are present...\n",
      "-----\n",
      "PYSPARK_PYTHON=python\n",
      "SPARK_HOME=C:\\opt\\spark\\spark-2.3.1-bin-hadoop2.7\n",
      "JAVA_HOME=C:\\java8\n",
      "Pyarrow Installed\n",
      "-----\n",
      "Starting or getting SparkSession and SparkContext...\n",
      "Setting checkpoint folder local. If you are in a cluster initialize Optimus with master='your_ip' as param\n",
      "Deleting previous folder if exists...\n",
      "Creating the checkpoint directory...\n",
      "Optimus successfully imported. Have fun :).\n"
     ]
    }
   ],
   "source": [
    "# Create optimus\n",
    "op = Optimus()"
   ]
  },
  {
   "cell_type": "code",
   "execution_count": 5,
   "metadata": {},
   "outputs": [
    {
     "name": "stderr",
     "output_type": "stream",
     "text": [
      "Downloading foo.csv from https://raw.githubusercontent.com/ironmussa/Optimus/master/examples/foo.csv\n",
      "Downloaded 967 bytes\n",
      "Creating DataFrame for foo.csv. Please wait...\n",
      "Loading file using SparkSession\n",
      "Successfully created DataFrame for 'foo.csv'\n"
     ]
    }
   ],
   "source": [
    "from pyspark.sql.types import StructType, StructField, StringType, BooleanType, IntegerType, ArrayType\n",
    "\n",
    "df =op.load.url(\"https://raw.githubusercontent.com/ironmussa/Optimus/master/examples/foo.csv\")"
   ]
  },
  {
   "cell_type": "markdown",
   "metadata": {},
   "source": [
    "### Quantile Statistics"
   ]
  },
  {
   "cell_type": "code",
   "execution_count": 6,
   "metadata": {},
   "outputs": [
    {
     "name": "stdout",
     "output_type": "stream",
     "text": [
      "min function took 1538.694 ms\n",
      "111\n",
      "drop_na function took 12.965 ms\n",
      "cast function took 11.915 ms\n",
      "drop_na function took 5.984 ms\n",
      "cast function took 7.978 ms\n",
      "percentile function took 270.276 ms\n",
      "{'billingId': {0.05: 111.0, 0.25: 323.0, 0.5: 553.0, 0.75: 812.0, 0.95: 992.0}, 'price': {0.05: 1.0, 0.25: 3.0, 0.5: 8.0, 0.75: 8.0, 0.95: 10.0}}\n",
      "max function took 1130.199 ms\n",
      "992\n",
      "drop_na function took 6.981 ms\n",
      "cast function took 7.944 ms\n",
      "drop_na function took 4.987 ms\n",
      "cast function took 7.948 ms\n",
      "median function took 179.520 ms\n",
      "{'billingId': 553.0, 'price': 8.0}\n",
      "max function took 1097.800 ms\n",
      "min function took 1109.014 ms\n",
      "max function took 1124.247 ms\n",
      "min function took 1116.700 ms\n",
      "range function took 4448.723 ms\n",
      "{'billingId': {'min': 111, 'max': 992}, 'price': {'min': 1, 'max': 10}}\n",
      "std function took 1191.743 ms\n",
      "{'stddev_billingId': 280.1973510859008, 'stddev_price': 2.9528457876452054}\n"
     ]
    }
   ],
   "source": [
    "print(df.cols.min(\"billingId\"))\n",
    "print(df.cols.percentile(['billingId', 'price'], [0.05, 0.25, 0.5, 0.75, 0.95]))\n",
    "print(df.cols.max(\"billingId\"))\n",
    "print(df.cols.median([\"billingId\",\"price\"]))\n",
    "print(df.cols.range([\"billingId\",\"price\"]))\n",
    "print(df.cols.std([\"billingId\",\"price\"]))"
   ]
  },
  {
   "cell_type": "code",
   "execution_count": 7,
   "metadata": {},
   "outputs": [
    {
     "name": "stdout",
     "output_type": "stream",
     "text": [
      "min function took 1229.156 ms\n",
      "{'min_id': 1, 'min_firstName': '(((   Heinrich )))))', 'min_lastName': '             GALiLEI', 'min_billingId': 111, 'min_product': '110790', 'min_price': 1, 'min_birth': '1899/01/01', 'min_dummyCol': '#'}\n"
     ]
    }
   ],
   "source": [
    "print(df.cols.min(\"*\"))"
   ]
  },
  {
   "cell_type": "markdown",
   "metadata": {},
   "source": [
    "### Descriptive Statistics"
   ]
  },
  {
   "cell_type": "code",
   "execution_count": 8,
   "metadata": {},
   "outputs": [
    {
     "name": "stdout",
     "output_type": "stream",
     "text": [
      "kurt function took 1198.001 ms\n",
      "-1.0411548120618528\n",
      "mean function took 1171.006 ms\n",
      "556.0\n",
      "skewness function took 1150.990 ms\n",
      "-0.2137018086949909\n",
      "sum function took 1129.183 ms\n",
      "10564\n",
      "variance function took 1154.769 ms\n",
      "78510.55555555555\n",
      "drop_na function took 7.979 ms\n",
      "cast function took 6.979 ms\n",
      "median function took 82.747 ms\n",
      "drop_na function took 2.992 ms\n",
      "cast function took 4.932 ms\n",
      "median function took 98.736 ms\n",
      "mad function took 243.318 ms\n",
      "230.0\n"
     ]
    }
   ],
   "source": [
    "print(df.cols.kurt(\"billingId\"))\n",
    "print(df.cols.mean(\"billingId\"))\n",
    "print(df.cols.skewness(\"billingId\"))\n",
    "print(df.cols.sum(\"billingId\"))\n",
    "print(df.cols.variance(\"billingId\"))\n",
    "print(df.cols.mad(\"billingId\"))"
   ]
  },
  {
   "cell_type": "code",
   "execution_count": 9,
   "metadata": {},
   "outputs": [
    {
     "name": "stdout",
     "output_type": "stream",
     "text": [
      "drop_na function took 5.954 ms\n",
      "cast function took 7.979 ms\n",
      "median function took 80.753 ms\n",
      "drop_na function took 3.991 ms\n",
      "cast function took 10.009 ms\n",
      "median function took 101.727 ms\n",
      "mad function took 233.340 ms\n"
     ]
    },
    {
     "data": {
      "text/plain": [
       "2.0"
      ]
     },
     "execution_count": 9,
     "metadata": {},
     "output_type": "execute_result"
    }
   ],
   "source": [
    "df.cols.mad(\"price\")"
   ]
  },
  {
   "cell_type": "code",
   "execution_count": 10,
   "metadata": {},
   "outputs": [
    {
     "name": "stdout",
     "output_type": "stream",
     "text": [
      "drop_na function took 6.022 ms\n",
      "cast function took 7.980 ms\n",
      "median function took 93.750 ms\n",
      "drop_na function took 3.990 ms\n",
      "cast function took 5.985 ms\n",
      "median function took 76.794 ms\n",
      "mad function took 227.392 ms\n"
     ]
    },
    {
     "data": {
      "text/plain": [
       "{'mad': 2.0, 'median': 8.0}"
      ]
     },
     "execution_count": 10,
     "metadata": {},
     "output_type": "execute_result"
    }
   ],
   "source": [
    "df.cols.mad(\"price\", more= True)"
   ]
  },
  {
   "cell_type": "code",
   "execution_count": 11,
   "metadata": {},
   "outputs": [
    {
     "name": "stdout",
     "output_type": "stream",
     "text": [
      "drop_na function took 4.951 ms\n",
      "cast function took 10.911 ms\n",
      "percentile function took 79.752 ms\n",
      "{0.05: 1.0, 0.25: 3.0, 0.5: 8.0, 0.75: 8.0, 0.95: 10.0}\n"
     ]
    }
   ],
   "source": [
    "print(df.cols.percentile(['price'], [0.05, 0.25, 0.5, 0.75, 0.95]))"
   ]
  },
  {
   "cell_type": "code",
   "execution_count": 12,
   "metadata": {},
   "outputs": [
    {
     "name": "stdout",
     "output_type": "stream",
     "text": [
      "mode function took 11922.792 ms\n",
      "[{'price': 8}, {'billingId': None}]\n"
     ]
    }
   ],
   "source": [
    "print(df.cols.mode([\"price\",\"billingId\"]))"
   ]
  },
  {
   "cell_type": "markdown",
   "metadata": {},
   "source": [
    "### String Operations"
   ]
  },
  {
   "cell_type": "code",
   "execution_count": 13,
   "metadata": {},
   "outputs": [
    {
     "name": "stdout",
     "output_type": "stream",
     "text": [
      "+---+--------------------+--------------------+---------+----------+-----+----------+--------+\n",
      "| id|           firstName|            lastName|billingId|   product|price|     birth|dummyCol|\n",
      "+---+--------------------+--------------------+---------+----------+-----+----------+--------+\n",
      "|  1|                Luis|         Alvarez$$%!|      123|      Cake|   10|1980/07/07|   never|\n",
      "|  2|               André|              Ampère|      423|      piza|    8|1950/07/08|   gonna|\n",
      "|  3|               NiELS|          Böhr//((%%|      551|     pizza|    8|1990/07/09|    give|\n",
      "|  4|                PAUL|              dirac$|      521|     pizza|    8|1954/07/10|     you|\n",
      "|  5|              Albert|            Einstein|      634|     pizza|    8|1990/07/11|      up|\n",
      "|  6|             Galileo|             GALiLEI|      672|     arepa|    5|1930/08/12|   never|\n",
      "|  7|                CaRL|            Ga%%%uss|      323|      taco|    3|1970/07/13|   gonna|\n",
      "|  8|               David|          H$$$ilbert|      624|  taaaccoo|    3|1950/07/14|     let|\n",
      "|  9|            Johannes|              KEPLER|      735|      taco|    3|1920/04/22|     you|\n",
      "| 10|               JaMES|         M$$ax%%well|      875|      taco|    3|1923/03/12|    down|\n",
      "| 11|               Isaac|              Newton|      992|     pasta|    9|1999/02/15|  never |\n",
      "| 12|              Emmy%%|            Nöether$|      234|     pasta|    9|1993/12/08|   gonna|\n",
      "| 13|              Max!!!|           Planck!!!|      111|hamburguer|    4|1994/01/04|    run |\n",
      "| 14|                Fred|            Hoy&&&le|      553|    pizzza|    8|1997/06/27|  around|\n",
      "| 15|(((   Heinrich )))))|               Hertz|      116|     pizza|    8|1956/11/30|     and|\n",
      "| 16|             William|          Gilbert###|      886|      BEER|    2|1958/03/26|  desert|\n",
      "| 17|               Marie|               CURIE|      912|      Rice|    1|2000/03/22|     you|\n",
      "| 18|              Arthur|          COM%%%pton|      812|    110790|    5|1899/01/01|       #|\n",
      "| 19|               JAMES|            Chadwick|      467|      null|   10|1921/05/03|       #|\n",
      "+---+--------------------+--------------------+---------+----------+-----+----------+--------+\n",
      "\n"
     ]
    }
   ],
   "source": [
    "df.show() "
   ]
  },
  {
   "cell_type": "code",
   "execution_count": 14,
   "metadata": {},
   "outputs": [
    {
     "name": "stdout",
     "output_type": "stream",
     "text": [
      "Using 'Column Expression' to process column 'lastName'\n",
      "trim function took 5.984 ms\n",
      "Using 'Column Expression' to process column 'lastName'\n",
      "lower function took 8.975 ms\n",
      "Using 'Column Expression' to process column 'product'\n",
      "Using 'Column Expression' to process column 'firstName'\n",
      "upper function took 12.965 ms\n",
      "Using 'Column Expression' to process column 'firstName'\n",
      "reverse function took 5.980 ms\n",
      "+---+--------------------+-----------+---------+----------+-----+----------+--------+\n",
      "| id|           firstName|   lastName|billingId|   product|price|     birth|dummyCol|\n",
      "+---+--------------------+-----------+---------+----------+-----+----------+--------+\n",
      "|  1|                SIUL|alvarez$$%!|      123|      CAKE|   10|1980/07/07|   never|\n",
      "|  2|               ÉRDNA|     ampère|      423|      PIZA|    8|1950/07/08|   gonna|\n",
      "|  3|               SLEIN| böhr//((%%|      551|     PIZZA|    8|1990/07/09|    give|\n",
      "|  4|                LUAP|     dirac$|      521|     PIZZA|    8|1954/07/10|     you|\n",
      "|  5|              TREBLA|   einstein|      634|     PIZZA|    8|1990/07/11|      up|\n",
      "|  6|             OELILAG|    galilei|      672|     AREPA|    5|1930/08/12|   never|\n",
      "|  7|                LRAC|   ga%%%uss|      323|      TACO|    3|1970/07/13|   gonna|\n",
      "|  8|               DIVAD| h$$$ilbert|      624|  TAAACCOO|    3|1950/07/14|     let|\n",
      "|  9|            SENNAHOJ|     kepler|      735|      TACO|    3|1920/04/22|     you|\n",
      "| 10|               SEMAJ|m$$ax%%well|      875|      TACO|    3|1923/03/12|    down|\n",
      "| 11|               CAASI|     newton|      992|     PASTA|    9|1999/02/15|  never |\n",
      "| 12|              %%YMME|   nöether$|      234|     PASTA|    9|1993/12/08|   gonna|\n",
      "| 13|              !!!XAM|  planck!!!|      111|HAMBURGUER|    4|1994/01/04|    run |\n",
      "| 14|                DERF|   hoy&&&le|      553|    PIZZZA|    8|1997/06/27|  around|\n",
      "| 15|))))) HCIRNIEH   (((|      hertz|      116|     PIZZA|    8|1956/11/30|     and|\n",
      "| 16|             MAILLIW| gilbert###|      886|      BEER|    2|1958/03/26|  desert|\n",
      "| 17|               EIRAM|      curie|      912|      RICE|    1|2000/03/22|     you|\n",
      "| 18|              RUHTRA| com%%%pton|      812|    110790|    5|1899/01/01|       #|\n",
      "| 19|               SEMAJ|   chadwick|      467|      NULL|   10|1921/05/03|       #|\n",
      "+---+--------------------+-----------+---------+----------+-----+----------+--------+\n",
      "\n"
     ]
    }
   ],
   "source": [
    "df\\\n",
    "    .cols.trim(\"lastName\")\\\n",
    "    .cols.lower(\"lastName\")\\\n",
    "    .cols.upper([\"product\", \"firstName\"])\\\n",
    "    .cols.reverse(\"firstName\")\\\n",
    "    .show()"
   ]
  },
  {
   "cell_type": "code",
   "execution_count": 15,
   "metadata": {},
   "outputs": [
    {
     "name": "stdout",
     "output_type": "stream",
     "text": [
      "drop_na function took 5.986 ms\n",
      "cast function took 9.972 ms\n",
      "percentile function took 83.776 ms\n",
      "iqr function took 84.774 ms\n"
     ]
    },
    {
     "data": {
      "text/plain": [
       "5.0"
      ]
     },
     "execution_count": 15,
     "metadata": {},
     "output_type": "execute_result"
    }
   ],
   "source": [
    "df.cols.iqr(\"price\")"
   ]
  },
  {
   "cell_type": "code",
   "execution_count": 16,
   "metadata": {},
   "outputs": [
    {
     "name": "stdout",
     "output_type": "stream",
     "text": [
      "drop_na function took 5.984 ms\n",
      "cast function took 10.972 ms\n",
      "percentile function took 91.757 ms\n",
      "iqr function took 92.753 ms\n"
     ]
    },
    {
     "data": {
      "text/plain": [
       "{'iqr': 5.0, 'q1': 3.0, 'q3': 8.0}"
      ]
     },
     "execution_count": 16,
     "metadata": {},
     "output_type": "execute_result"
    }
   ],
   "source": [
    "df.cols.iqr(\"price\", more= True)"
   ]
  },
  {
   "cell_type": "code",
   "execution_count": 17,
   "metadata": {},
   "outputs": [
    {
     "name": "stdout",
     "output_type": "stream",
     "text": [
      "mean function took 1091.136 ms\n",
      "std function took 1166.092 ms\n",
      "z_score function took 2313.077 ms\n",
      "+---+--------------------+--------------------+---------+----------+-----+----------+--------+------------------+\n",
      "| id|           firstName|            lastName|billingId|   product|price|     birth|dummyCol|       z_col_price|\n",
      "+---+--------------------+--------------------+---------+----------+-----+----------+--------+------------------+\n",
      "|  1|                Luis|         Alvarez$$%!|      123|      Cake|   10|1980/07/07|   never|1.3368014129178498|\n",
      "|  2|               André|              Ampère|      423|      piza|    8|1950/07/08|   gonna|0.6594886970394727|\n",
      "|  3|               NiELS|          Böhr//((%%|      551|     pizza|    8|1990/07/09|    give|0.6594886970394727|\n",
      "|  4|                PAUL|              dirac$|      521|     pizza|    8|1954/07/10|     you|0.6594886970394727|\n",
      "|  5|              Albert|            Einstein|      634|     pizza|    8|1990/07/11|      up|0.6594886970394727|\n",
      "|  6|             Galileo|             GALiLEI|      672|     arepa|    5|1930/08/12|   never|0.3564803767780932|\n",
      "|  7|                CaRL|            Ga%%%uss|      323|      taco|    3|1970/07/13|   gonna|1.0337930926564705|\n",
      "|  8|               David|          H$$$ilbert|      624|  taaaccoo|    3|1950/07/14|     let|1.0337930926564705|\n",
      "|  9|            Johannes|              KEPLER|      735|      taco|    3|1920/04/22|     you|1.0337930926564705|\n",
      "| 10|               JaMES|         M$$ax%%well|      875|      taco|    3|1923/03/12|    down|1.0337930926564705|\n",
      "| 11|               Isaac|              Newton|      992|     pasta|    9|1999/02/15|  never |0.9981450549786612|\n",
      "| 12|              Emmy%%|            Nöether$|      234|     pasta|    9|1993/12/08|   gonna|0.9981450549786612|\n",
      "| 13|              Max!!!|           Planck!!!|      111|hamburguer|    4|1994/01/04|    run |0.6951367347172818|\n",
      "| 14|                Fred|            Hoy&&&le|      553|    pizzza|    8|1997/06/27|  around|0.6594886970394727|\n",
      "| 15|(((   Heinrich )))))|               Hertz|      116|     pizza|    8|1956/11/30|     and|0.6594886970394727|\n",
      "| 16|             William|          Gilbert###|      886|      BEER|    2|1958/03/26|  desert| 1.372449450595659|\n",
      "| 17|               Marie|               CURIE|      912|      Rice|    1|2000/03/22|     you|1.7111058085348476|\n",
      "| 18|              Arthur|          COM%%%pton|      812|    110790|    5|1899/01/01|       #|0.3564803767780932|\n",
      "| 19|               JAMES|            Chadwick|      467|      null|   10|1921/05/03|       #|1.3368014129178498|\n",
      "+---+--------------------+--------------------+---------+----------+-----+----------+--------+------------------+\n",
      "\n"
     ]
    }
   ],
   "source": [
    "df.cols.z_score(\"price\").show()"
   ]
  }
 ],
 "metadata": {
  "kernelspec": {
   "display_name": "Python 3",
   "language": "python",
   "name": "python3"
  },
  "language_info": {
   "codemirror_mode": {
    "name": "ipython",
    "version": 3
   },
   "file_extension": ".py",
   "mimetype": "text/x-python",
   "name": "python",
   "nbconvert_exporter": "python",
   "pygments_lexer": "ipython3",
   "version": "3.6.4"
  }
 },
 "nbformat": 4,
 "nbformat_minor": 2
}
