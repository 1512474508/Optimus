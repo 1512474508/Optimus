{
 "cells": [
  {
   "cell_type": "code",
   "execution_count": 1,
   "metadata": {},
   "outputs": [],
   "source": [
    "%load_ext autoreload\n",
    "%autoreload 2"
   ]
  },
  {
   "cell_type": "code",
   "execution_count": 3,
   "metadata": {},
   "outputs": [],
   "source": [
    "from optimus import Optimus"
   ]
  },
  {
   "cell_type": "code",
   "execution_count": 4,
   "metadata": {},
   "outputs": [
    {
     "name": "stdout",
     "output_type": "stream",
     "text": [
      "\n",
      "             ____        __  _                     \n",
      "            / __ \\____  / /_(_)___ ___  __  _______\n",
      "           / / / / __ \\/ __/ / __ `__ \\/ / / / ___/\n",
      "          / /_/ / /_/ / /_/ / / / / / / /_/ (__  ) \n",
      "          \\____/ .___/\\__/_/_/ /_/ /_/\\__,_/____/  \n",
      "              /_/                                  \n",
      "              \n",
      "Just checking that all necessary environments vars are present...\n",
      "-----\n",
      "PYSPARK_PYTHON=python\n",
      "SPARK_HOME=C:\\opt\\spark\\spark-2.3.1-bin-hadoop2.7\n",
      "JAVA_HOME=C:\\java8\n",
      "-----\n",
      "Starting or getting SparkSession and SparkContext...\n",
      "Setting checkpoint folder ( local ). If you are in a cluster initialize optimus with master='your_ip' as param\n",
      "Deleting previous folder if exists...\n",
      "Creating the checkpoint directory...\n",
      "Optimus successfully imported. Have fun :).\n"
     ]
    }
   ],
   "source": [
    "# Create optimus\n",
    "op = Optimus()"
   ]
  },
  {
   "cell_type": "code",
   "execution_count": 5,
   "metadata": {},
   "outputs": [
    {
     "name": "stdout",
     "output_type": "stream",
     "text": [
      "csv\n",
      "Downloading 'foo.csv' from https://raw.githubusercontent.com/ironmussa/Optimus/master/examples/foo.csv\n",
      "Downloaded 967 bytes\n",
      "Creating pySpark DataFrame for 'foo.csv'. Please wait...\n",
      "path\n",
      "Loading file using 'SparkSession'\n",
      "Successfully created pySpark DataFrame for 'foo.csv'\n",
      "+---+--------------------+--------------------+---------+----------+-----+----------+--------+\n",
      "| id|           firstName|            lastName|billingId|   product|price|     birth|dummyCol|\n",
      "+---+--------------------+--------------------+---------+----------+-----+----------+--------+\n",
      "|  1|                Luis|         Alvarez$$%!|      123|      Cake|   10|1980/07/07|   never|\n",
      "|  2|               André|              Ampère|      423|      piza|    8|1950/07/08|   gonna|\n",
      "|  3|               NiELS|          Böhr//((%%|      551|     pizza|    8|1990/07/09|    give|\n",
      "|  4|                PAUL|              dirac$|      521|     pizza|    8|1954/07/10|     you|\n",
      "|  5|              Albert|            Einstein|      634|     pizza|    8|1990/07/11|      up|\n",
      "|  6|             Galileo|             GALiLEI|      672|     arepa|    5|1930/08/12|   never|\n",
      "|  7|                CaRL|            Ga%%%uss|      323|      taco|    3|1970/07/13|   gonna|\n",
      "|  8|               David|          H$$$ilbert|      624|  taaaccoo|    3|1950/07/14|     let|\n",
      "|  9|            Johannes|              KEPLER|      735|      taco|    3|1920/04/22|     you|\n",
      "| 10|               JaMES|         M$$ax%%well|      875|      taco|    3|1923/03/12|    down|\n",
      "| 11|               Isaac|              Newton|      992|     pasta|    9|1999/02/15|  never |\n",
      "| 12|              Emmy%%|            Nöether$|      234|     pasta|    9|1993/12/08|   gonna|\n",
      "| 13|              Max!!!|           Planck!!!|      111|hamburguer|    4|1994/01/04|    run |\n",
      "| 14|                Fred|            Hoy&&&le|      553|    pizzza|    8|1997/06/27|  around|\n",
      "| 15|(((   Heinrich )))))|               Hertz|      116|     pizza|    8|1956/11/30|     and|\n",
      "| 16|             William|          Gilbert###|      886|      BEER|    2|1958/03/26|  desert|\n",
      "| 17|               Marie|               CURIE|      912|      Rice|    1|2000/03/22|     you|\n",
      "| 18|              Arthur|          COM%%%pton|      812|    110790|    5|1899/01/01|       #|\n",
      "| 19|               JAMES|            Chadwick|      467|      null|   10|1921/05/03|       #|\n",
      "+---+--------------------+--------------------+---------+----------+-----+----------+--------+\n",
      "\n"
     ]
    }
   ],
   "source": [
    "df_csv =op.load.url(\"https://raw.githubusercontent.com/ironmussa/Optimus/master/examples/foo.csv\")\n",
    "df_csv.show()"
   ]
  },
  {
   "cell_type": "code",
   "execution_count": 5,
   "metadata": {},
   "outputs": [
    {
     "name": "stdout",
     "output_type": "stream",
     "text": [
      "Downloading 'repos' from https://api.github.com/users/mralexgray/repos\n",
      "Downloaded 152662 bytes\n",
      "Creating pySpark DataFrame for 'repos'. Please wait...\n",
      "Loading file using a pyspark.read.json\n",
      "Successfully created pySpark DataFrame for 'repos'\n",
      "+--------------------+--------+--------------------+--------------------+--------------------+--------------------+--------------------+--------------------+--------------------+--------------------+--------------------+--------------------+--------------------+--------------+--------------------+--------------------+--------------------+--------------------+-----+-----+-----------+--------------------+--------------------+--------------------+--------------------+--------------------+--------------------+-------------+----------+---------+------------+--------+--------------------+--------------------+--------------------+---------+--------------------+--------------------+--------------------+--------------------+--------------------+-----------+--------------------+--------------------+--------------------+--------------------+----------+--------------------+--------------------+--------------------+-----------+-----------------+--------------------+-------+--------------------+--------------------+--------------------+------+--------------------+----------------+--------------------+--------------------+--------------------+--------------------+--------------------+--------------------+--------------------+--------------------+--------------------+--------------------+--------+--------------+\n",
      "|         archive_url|archived|       assignees_url|           blobs_url|        branches_url|           clone_url|   collaborators_url|        comments_url|         commits_url|         compare_url|        contents_url|    contributors_url|          created_at|default_branch|     deployments_url|         description|       downloads_url|          events_url| fork|forks|forks_count|           forks_url|           full_name|     git_commits_url|        git_refs_url|        git_tags_url|             git_url|has_downloads|has_issues|has_pages|has_projects|has_wiki|            homepage|           hooks_url|            html_url|       id|   issue_comment_url|    issue_events_url|          issues_url|            keys_url|          labels_url|   language|       languages_url|             license|          merges_url|      milestones_url|mirror_url|                name|             node_id|   notifications_url|open_issues|open_issues_count|               owner|private|           pulls_url|           pushed_at|        releases_url|  size|             ssh_url|stargazers_count|      stargazers_url|        statuses_url|     subscribers_url|    subscription_url|             svn_url|            tags_url|           teams_url|           trees_url|          updated_at|                 url|watchers|watchers_count|\n",
      "+--------------------+--------+--------------------+--------------------+--------------------+--------------------+--------------------+--------------------+--------------------+--------------------+--------------------+--------------------+--------------------+--------------+--------------------+--------------------+--------------------+--------------------+-----+-----+-----------+--------------------+--------------------+--------------------+--------------------+--------------------+--------------------+-------------+----------+---------+------------+--------+--------------------+--------------------+--------------------+---------+--------------------+--------------------+--------------------+--------------------+--------------------+-----------+--------------------+--------------------+--------------------+--------------------+----------+--------------------+--------------------+--------------------+-----------+-----------------+--------------------+-------+--------------------+--------------------+--------------------+------+--------------------+----------------+--------------------+--------------------+--------------------+--------------------+--------------------+--------------------+--------------------+--------------------+--------------------+--------------------+--------+--------------+\n",
      "|https://api.githu...|   false|https://api.githu...|https://api.githu...|https://api.githu...|https://github.co...|https://api.githu...|https://api.githu...|https://api.githu...|https://api.githu...|https://api.githu...|https://api.githu...|2012-10-06T16:37:39Z|        master|https://api.githu...|                null|https://api.githu...|https://api.githu...|false|    0|          0|https://api.githu...|mralexgray/-REPONAME|https://api.githu...|https://api.githu...|https://api.githu...|git://github.com/...|         true|      true|    false|        true|    true|                null|https://api.githu...|https://github.co...|  6104546|https://api.githu...|https://api.githu...|https://api.githu...|https://api.githu...|https://api.githu...|       null|https://api.githu...|                null|https://api.githu...|https://api.githu...|      null|           -REPONAME|MDEwOlJlcG9zaXRvc...|https://api.githu...|          0|                0|[https://avatars3...|  false|https://api.githu...|2012-10-06T16:37:39Z|https://api.githu...|    48|git@github.com:mr...|               0|https://api.githu...|https://api.githu...|https://api.githu...|https://api.githu...|https://github.co...|https://api.githu...|https://api.githu...|https://api.githu...|2013-01-12T13:39:30Z|https://api.githu...|       0|             0|\n",
      "|https://api.githu...|   false|https://api.githu...|https://api.githu...|https://api.githu...|https://github.co...|https://api.githu...|https://api.githu...|https://api.githu...|https://api.githu...|https://api.githu...|https://api.githu...|2017-09-22T19:19:42Z|        master|https://api.githu...|:computer: Public...|https://api.githu...|https://api.githu...| true|    0|          0|https://api.githu...|      mralexgray/...|https://api.githu...|https://api.githu...|https://api.githu...|git://github.com/...|         true|     false|    false|        true|   false|https://driesvint...|https://api.githu...|https://github.co...|104510411|https://api.githu...|https://api.githu...|https://api.githu...|https://api.githu...|https://api.githu...|      Shell|https://api.githu...|[mit, MIT License...|https://api.githu...|https://api.githu...|      null|                 ...|MDEwOlJlcG9zaXRvc...|https://api.githu...|          0|                0|[https://avatars3...|  false|https://api.githu...|2017-09-15T08:27:32Z|https://api.githu...|   113|git@github.com:mr...|               0|https://api.githu...|https://api.githu...|https://api.githu...|https://api.githu...|https://github.co...|https://api.githu...|https://api.githu...|https://api.githu...|2017-09-22T19:20:22Z|https://api.githu...|       0|             0|\n",
      "|https://api.githu...|   false|https://api.githu...|https://api.githu...|https://api.githu...|https://github.co...|https://api.githu...|https://api.githu...|https://api.githu...|https://api.githu...|https://api.githu...|https://api.githu...|2016-05-12T16:05:28Z|        master|https://api.githu...|A reverse enginee...|https://api.githu...|https://api.githu...| true|    1|          1|https://api.githu...|mralexgray/220008...|https://api.githu...|https://api.githu...|https://api.githu...|git://github.com/...|         true|     false|    false|        true|    true|http://daviddwork...|https://api.githu...|https://github.co...| 58656723|https://api.githu...|https://api.githu...|https://api.githu...|https://api.githu...|https://api.githu...|     Python|https://api.githu...|[gpl-2.0, GNU Gen...|https://api.githu...|https://api.githu...|      null|2200087-Serial-Pr...|MDEwOlJlcG9zaXRvc...|https://api.githu...|          0|                0|[https://avatars3...|  false|https://api.githu...|2016-05-12T16:07:24Z|https://api.githu...|    41|git@github.com:mr...|               0|https://api.githu...|https://api.githu...|https://api.githu...|https://api.githu...|https://github.co...|https://api.githu...|https://api.githu...|https://api.githu...|2016-05-12T16:05:30Z|https://api.githu...|       0|             0|\n",
      "|https://api.githu...|   false|https://api.githu...|https://api.githu...|https://api.githu...|https://github.co...|https://api.githu...|https://api.githu...|https://api.githu...|https://api.githu...|https://api.githu...|https://api.githu...|2013-09-26T11:58:10Z|        master|https://api.githu...|Ace (Ajax.org Clo...|https://api.githu...|https://api.githu...| true|    0|          0|https://api.githu...|      mralexgray/ace|https://api.githu...|https://api.githu...|https://api.githu...|git://github.com/...|         true|     false|    false|        true|    true|    http://ace.c9.io|https://api.githu...|https://github.co...| 13121042|https://api.githu...|https://api.githu...|https://api.githu...|https://api.githu...|https://api.githu...| JavaScript|https://api.githu...|[other, Other, MD...|https://api.githu...|https://api.githu...|      null|                 ace|MDEwOlJlcG9zaXRvc...|https://api.githu...|          0|                0|[https://avatars3...|  false|https://api.githu...|2013-10-26T12:34:48Z|https://api.githu...| 21080|git@github.com:mr...|               0|https://api.githu...|https://api.githu...|https://api.githu...|https://api.githu...|https://github.co...|https://api.githu...|https://api.githu...|https://api.githu...|2013-10-26T12:34:49Z|https://api.githu...|       0|             0|\n",
      "|https://api.githu...|   false|https://api.githu...|https://api.githu...|https://api.githu...|https://github.co...|https://api.githu...|https://api.githu...|https://api.githu...|https://api.githu...|https://api.githu...|https://api.githu...|2013-06-19T12:15:04Z|        master|https://api.githu...|Use the wonderful...|https://api.githu...|https://api.githu...| true|    1|          1|https://api.githu...|  mralexgray/ACEView|https://api.githu...|https://api.githu...|https://api.githu...|git://github.com/...|         true|     false|    false|        true|    true|                null|https://api.githu...|https://github.co...| 10791045|https://api.githu...|https://api.githu...|https://api.githu...|https://api.githu...|https://api.githu...|Objective-C|https://api.githu...|[bsd-3-clause, BS...|https://api.githu...|https://api.githu...|      null|             ACEView|MDEwOlJlcG9zaXRvc...|https://api.githu...|          0|                0|[https://avatars3...|  false|https://api.githu...|2014-05-09T01:36:23Z|https://api.githu...|  1733|git@github.com:mr...|               0|https://api.githu...|https://api.githu...|https://api.githu...|https://api.githu...|https://github.co...|https://api.githu...|https://api.githu...|https://api.githu...|2015-11-24T01:14:10Z|https://api.githu...|       0|             0|\n",
      "|https://api.githu...|   false|https://api.githu...|https://api.githu...|https://api.githu...|https://github.co...|https://api.githu...|https://api.githu...|https://api.githu...|https://api.githu...|https://api.githu...|https://api.githu...|2013-10-16T15:52:37Z|        master|https://api.githu...|Shut up all logs ...|https://api.githu...|https://api.githu...| true|    0|          0|https://api.githu...|mralexgray/ActiveLog|https://api.githu...|https://api.githu...|https://api.githu...|git://github.com/...|         true|     false|    false|        true|    true|http://deepitpro....|https://api.githu...|https://github.co...| 13623648|https://api.githu...|https://api.githu...|https://api.githu...|https://api.githu...|https://api.githu...|Objective-C|https://api.githu...|                null|https://api.githu...|https://api.githu...|      null|           ActiveLog|MDEwOlJlcG9zaXRvc...|https://api.githu...|          0|                0|[https://avatars3...|  false|https://api.githu...|2011-07-03T06:28:59Z|https://api.githu...|    60|git@github.com:mr...|               0|https://api.githu...|https://api.githu...|https://api.githu...|https://api.githu...|https://github.co...|https://api.githu...|https://api.githu...|https://api.githu...|2013-10-16T15:52:37Z|https://api.githu...|       0|             0|\n",
      "|https://api.githu...|   false|https://api.githu...|https://api.githu...|https://api.githu...|https://github.co...|https://api.githu...|https://api.githu...|https://api.githu...|https://api.githu...|https://api.githu...|https://api.githu...|2013-04-27T14:59:33Z|        master|https://api.githu...|Official mirror o...|https://api.githu...|https://api.githu...| true|    0|          0|https://api.githu...|    mralexgray/adium|https://api.githu...|https://api.githu...|https://api.githu...|git://github.com/...|         true|     false|    false|        true|   false|                null|https://api.githu...|https://github.co...|  9716210|https://api.githu...|https://api.githu...|https://api.githu...|https://api.githu...|https://api.githu...|Objective-C|https://api.githu...|[other, Other, MD...|https://api.githu...|https://api.githu...|      null|               adium|MDEwOlJlcG9zaXRvc...|https://api.githu...|          0|                0|[https://avatars3...|  false|https://api.githu...|2013-04-26T16:43:53Z|https://api.githu...|277719|git@github.com:mr...|               0|https://api.githu...|https://api.githu...|https://api.githu...|https://api.githu...|https://github.co...|https://api.githu...|https://api.githu...|https://api.githu...|2013-04-27T14:59:33Z|https://api.githu...|       0|             0|\n",
      "|https://api.githu...|   false|https://api.githu...|https://api.githu...|https://api.githu...|https://github.co...|https://api.githu...|https://api.githu...|https://api.githu...|https://api.githu...|https://api.githu...|https://api.githu...|2013-09-11T09:18:01Z|        master|https://api.githu...|  Lively UITableView|https://api.githu...|https://api.githu...| true|    0|          0|https://api.githu...|mralexgray/ADLive...|https://api.githu...|https://api.githu...|https://api.githu...|git://github.com/...|         true|     false|    false|        true|    true|http://applidium....|https://api.githu...|https://github.co...| 12752329|https://api.githu...|https://api.githu...|https://api.githu...|https://api.githu...|https://api.githu...|Objective-C|https://api.githu...|[other, Other, MD...|https://api.githu...|https://api.githu...|      null|   ADLivelyTableView|MDEwOlJlcG9zaXRvc...|https://api.githu...|          0|                0|[https://avatars3...|  false|https://api.githu...|2012-05-10T10:40:15Z|https://api.githu...|    73|git@github.com:mr...|               0|https://api.githu...|https://api.githu...|https://api.githu...|https://api.githu...|https://github.co...|https://api.githu...|https://api.githu...|https://api.githu...|2013-09-11T09:18:03Z|https://api.githu...|       0|             0|\n",
      "|https://api.githu...|   false|https://api.githu...|https://api.githu...|https://api.githu...|https://github.co...|https://api.githu...|https://api.githu...|https://api.githu...|https://api.githu...|https://api.githu...|https://api.githu...|2012-09-06T04:20:33Z|        master|https://api.githu...|Core Data Persist...|https://api.githu...|https://api.githu...| true|    0|          0|https://api.githu...|mralexgray/AFIncr...|https://api.githu...|https://api.githu...|https://api.githu...|git://github.com/...|         true|     false|    false|        true|    true|                null|https://api.githu...|https://github.co...|  5697379|https://api.githu...|https://api.githu...|https://api.githu...|https://api.githu...|https://api.githu...|Objective-C|https://api.githu...|[mit, MIT License...|https://api.githu...|https://api.githu...|      null|  AFIncrementalStore|MDEwOlJlcG9zaXRvc...|https://api.githu...|          0|                0|[https://avatars3...|  false|https://api.githu...|2012-09-01T22:46:25Z|https://api.githu...|   139|git@github.com:mr...|               0|https://api.githu...|https://api.githu...|https://api.githu...|https://api.githu...|https://github.co...|https://api.githu...|https://api.githu...|https://api.githu...|2013-01-12T03:15:29Z|https://api.githu...|       0|             0|\n",
      "|https://api.githu...|   false|https://api.githu...|https://api.githu...|https://api.githu...|https://github.co...|https://api.githu...|https://api.githu...|https://api.githu...|https://api.githu...|https://api.githu...|https://api.githu...|2012-12-02T17:00:04Z|        master|https://api.githu...|A delightful iOS ...|https://api.githu...|https://api.githu...| true|    0|          0|https://api.githu...|mralexgray/AFNetw...|https://api.githu...|https://api.githu...|https://api.githu...|git://github.com/...|         true|     false|    false|        true|    true|http://afnetworki...|https://api.githu...|https://github.co...|  6969621|https://api.githu...|https://api.githu...|https://api.githu...|https://api.githu...|https://api.githu...|Objective-C|https://api.githu...|[mit, MIT License...|https://api.githu...|https://api.githu...|      null|        AFNetworking|MDEwOlJlcG9zaXRvc...|https://api.githu...|          0|                0|[https://avatars3...|  false|https://api.githu...|2014-01-24T07:14:32Z|https://api.githu...|  4341|git@github.com:mr...|               2|https://api.githu...|https://api.githu...|https://api.githu...|https://api.githu...|https://github.co...|https://api.githu...|https://api.githu...|https://api.githu...|2014-01-24T07:14:33Z|https://api.githu...|       2|             2|\n",
      "|https://api.githu...|   false|https://api.githu...|https://api.githu...|https://api.githu...|https://github.co...|https://api.githu...|https://api.githu...|https://api.githu...|https://api.githu...|https://api.githu...|https://api.githu...|2013-04-17T00:10:13Z|        master|https://api.githu...|Simple NSSplitVie...|https://api.githu...|https://api.githu...| true|    0|          0|https://api.githu...|mralexgray/AGNSSp...|https://api.githu...|https://api.githu...|https://api.githu...|git://github.com/...|         true|     false|    false|        true|    true|                null|https://api.githu...|https://github.co...|  9485541|https://api.githu...|https://api.githu...|https://api.githu...|https://api.githu...|https://api.githu...|Objective-C|https://api.githu...|                null|https://api.githu...|https://api.githu...|      null|       AGNSSplitView|MDEwOlJlcG9zaXRvc...|https://api.githu...|          0|                0|[https://avatars3...|  false|https://api.githu...|2013-02-26T00:32:32Z|https://api.githu...|    68|git@github.com:mr...|               0|https://api.githu...|https://api.githu...|https://api.githu...|https://api.githu...|https://github.co...|https://api.githu...|https://api.githu...|https://api.githu...|2013-04-17T00:10:13Z|https://api.githu...|       0|             0|\n",
      "|https://api.githu...|   false|https://api.githu...|https://api.githu...|https://api.githu...|https://github.co...|https://api.githu...|https://api.githu...|https://api.githu...|https://api.githu...|https://api.githu...|https://api.githu...|2013-09-11T21:06:54Z|        master|https://api.githu...|Custom scope bar ...|https://api.githu...|https://api.githu...| true|    0|          0|https://api.githu...|mralexgray/AGScop...|https://api.githu...|https://api.githu...|https://api.githu...|git://github.com/...|         true|     false|    false|        true|    true|                null|https://api.githu...|https://github.co...| 12767784|https://api.githu...|https://api.githu...|https://api.githu...|https://api.githu...|https://api.githu...|Objective-C|https://api.githu...|                null|https://api.githu...|https://api.githu...|      null|          AGScopeBar|MDEwOlJlcG9zaXRvc...|https://api.githu...|          0|                0|[https://avatars3...|  false|https://api.githu...|2013-05-07T03:35:29Z|https://api.githu...|    64|git@github.com:mr...|               0|https://api.githu...|https://api.githu...|https://api.githu...|https://api.githu...|https://github.co...|https://api.githu...|https://api.githu...|https://api.githu...|2013-09-11T21:06:54Z|https://api.githu...|       0|             0|\n",
      "|https://api.githu...|   false|https://api.githu...|https://api.githu...|https://api.githu...|https://github.co...|https://api.githu...|https://api.githu...|https://api.githu...|https://api.githu...|https://api.githu...|https://api.githu...|2015-03-07T22:15:38Z|        master|https://api.githu...|this is a plugin ...|https://api.githu...|https://api.githu...| true|    0|          0|https://api.githu...|mralexgray/agvtoo...|https://api.githu...|https://api.githu...|https://api.githu...|git://github.com/...|         true|     false|    false|        true|    true|                null|https://api.githu...|https://github.co...| 31829499|https://api.githu...|https://api.githu...|https://api.githu...|https://api.githu...|https://api.githu...|Objective-C|https://api.githu...|                null|https://api.githu...|https://api.githu...|      null|agvtool-xcode-plugin|MDEwOlJlcG9zaXRvc...|https://api.githu...|          0|                0|[https://avatars3...|  false|https://api.githu...|2015-03-08T00:04:31Z|https://api.githu...|   102|git@github.com:mr...|               0|https://api.githu...|https://api.githu...|https://api.githu...|https://api.githu...|https://github.co...|https://api.githu...|https://api.githu...|https://api.githu...|2015-03-07T22:15:41Z|https://api.githu...|       0|             0|\n",
      "|https://api.githu...|   false|https://api.githu...|https://api.githu...|https://api.githu...|https://github.co...|https://api.githu...|https://api.githu...|https://api.githu...|https://api.githu...|https://api.githu...|https://api.githu...|2013-04-04T20:56:16Z|        master|https://api.githu...|A Mac only webvie...|https://api.githu...|https://api.githu...| true|    0|          0|https://api.githu...|mralexgray/AHCont...|https://api.githu...|https://api.githu...|https://api.githu...|git://github.com/...|         true|     false|    false|        true|    true|                    |https://api.githu...|https://github.co...|  9227846|https://api.githu...|https://api.githu...|https://api.githu...|https://api.githu...|https://api.githu...|Objective-C|https://api.githu...|                null|https://api.githu...|https://api.githu...|      null|    AHContentBrowser|MDEwOlJlcG9zaXRvc...|https://api.githu...|          0|                0|[https://avatars3...|  false|https://api.githu...|2013-03-13T17:38:23Z|https://api.githu...|   223|git@github.com:mr...|               0|https://api.githu...|https://api.githu...|https://api.githu...|https://api.githu...|https://github.co...|https://api.githu...|https://api.githu...|https://api.githu...|2015-10-22T05:00:24Z|https://api.githu...|       0|             0|\n",
      "|https://api.githu...|   false|https://api.githu...|https://api.githu...|https://api.githu...|https://github.co...|https://api.githu...|https://api.githu...|https://api.githu...|https://api.githu...|https://api.githu...|https://api.githu...|2015-06-14T21:31:03Z|        master|https://api.githu...|LaunchD Framework...|https://api.githu...|https://api.githu...| true|    0|          0|https://api.githu...|mralexgray/AHLaun...|https://api.githu...|https://api.githu...|https://api.githu...|git://github.com/...|         true|     false|    false|        true|    true|                    |https://api.githu...|https://github.co...| 37430328|https://api.githu...|https://api.githu...|https://api.githu...|https://api.githu...|https://api.githu...|Objective-C|https://api.githu...|[other, Other, MD...|https://api.githu...|https://api.githu...|      null|         AHLaunchCtl|MDEwOlJlcG9zaXRvc...|https://api.githu...|          0|                0|[https://avatars3...|  false|https://api.githu...|2015-05-26T18:50:48Z|https://api.githu...|   592|git@github.com:mr...|               0|https://api.githu...|https://api.githu...|https://api.githu...|https://api.githu...|https://github.co...|https://api.githu...|https://api.githu...|https://api.githu...|2015-06-14T21:31:04Z|https://api.githu...|       0|             0|\n",
      "|https://api.githu...|   false|https://api.githu...|https://api.githu...|https://api.githu...|https://github.co...|https://api.githu...|https://api.githu...|https://api.githu...|https://api.githu...|https://api.githu...|https://api.githu...|2013-04-02T10:10:30Z|        master|https://api.githu...|            AHLayout|https://api.githu...|https://api.githu...| true|    0|          0|https://api.githu...| mralexgray/AHLayout|https://api.githu...|https://api.githu...|https://api.githu...|git://github.com/...|         true|     false|    false|        true|    true|                null|https://api.githu...|https://github.co...|  9167473|https://api.githu...|https://api.githu...|https://api.githu...|https://api.githu...|https://api.githu...|Objective-C|https://api.githu...|                null|https://api.githu...|https://api.githu...|      null|            AHLayout|MDEwOlJlcG9zaXRvc...|https://api.githu...|          0|                0|[https://avatars3...|  false|https://api.githu...|2013-07-08T02:31:14Z|https://api.githu...|   359|git@github.com:mr...|               0|https://api.githu...|https://api.githu...|https://api.githu...|https://api.githu...|https://github.co...|https://api.githu...|https://api.githu...|https://api.githu...|2013-07-08T02:31:17Z|https://api.githu...|       0|             0|\n",
      "|https://api.githu...|   false|https://api.githu...|https://api.githu...|https://api.githu...|https://github.co...|https://api.githu...|https://api.githu...|https://api.githu...|https://api.githu...|https://api.githu...|https://api.githu...|2014-04-04T19:33:54Z|        master|https://api.githu...|                null|https://api.githu...|https://api.githu...| true|    0|          0|https://api.githu...|mralexgray/Airmai...|https://api.githu...|https://api.githu...|https://api.githu...|git://github.com/...|         true|     false|    false|        true|    true|                null|https://api.githu...|https://github.co...| 18450201|https://api.githu...|https://api.githu...|https://api.githu...|https://api.githu...|https://api.githu...|       null|https://api.githu...|[gpl-2.0, GNU Gen...|https://api.githu...|https://api.githu...|      null|Airmail-Plug-In-F...|MDEwOlJlcG9zaXRvc...|https://api.githu...|          0|                0|[https://avatars3...|  false|https://api.githu...|2014-03-27T15:42:19Z|https://api.githu...|   888|git@github.com:mr...|               0|https://api.githu...|https://api.githu...|https://api.githu...|https://api.githu...|https://github.co...|https://api.githu...|https://api.githu...|https://api.githu...|2014-11-23T19:31:04Z|https://api.githu...|       0|             0|\n",
      "|https://api.githu...|   false|https://api.githu...|https://api.githu...|https://api.githu...|https://github.co...|https://api.githu...|https://api.githu...|https://api.githu...|https://api.githu...|https://api.githu...|https://api.githu...|2012-07-27T10:20:58Z|        master|https://api.githu...|Cocoa wrapper for...|https://api.githu...|https://api.githu...| true|    0|          0|https://api.githu...|mralexgray/AJS-iT...|https://api.githu...|https://api.githu...|https://api.githu...|git://github.com/...|         true|     false|    false|        true|    true|                    |https://api.githu...|https://github.co...|  5203219|https://api.githu...|https://api.githu...|https://api.githu...|https://api.githu...|https://api.githu...|Objective-C|https://api.githu...|                null|https://api.githu...|https://api.githu...|      null|      AJS-iTunes-API|MDEwOlJlcG9zaXRvc...|https://api.githu...|          0|                0|[https://avatars3...|  false|https://api.githu...|2011-10-30T22:26:48Z|https://api.githu...|   103|git@github.com:mr...|               2|https://api.githu...|https://api.githu...|https://api.githu...|https://api.githu...|https://github.co...|https://api.githu...|https://api.githu...|https://api.githu...|2013-01-11T11:00:05Z|https://api.githu...|       2|             2|\n",
      "|https://api.githu...|   false|https://api.githu...|https://api.githu...|https://api.githu...|https://github.co...|https://api.githu...|https://api.githu...|https://api.githu...|https://api.githu...|https://api.githu...|https://api.githu...|2013-05-16T04:41:13Z|        master|https://api.githu...|The most awesome ...|https://api.githu...|https://api.githu...| true|    0|          0|https://api.githu...| mralexgray/Alcatraz|https://api.githu...|https://api.githu...|https://api.githu...|git://github.com/...|         true|     false|    false|        true|   false|mneorr.github.com...|https://api.githu...|https://github.co...| 10093801|https://api.githu...|https://api.githu...|https://api.githu...|https://api.githu...|https://api.githu...|Objective-C|https://api.githu...|[mit, MIT License...|https://api.githu...|https://api.githu...|      null|            Alcatraz|MDEwOlJlcG9zaXRvc...|https://api.githu...|          0|                0|[https://avatars3...|  false|https://api.githu...|2014-03-19T12:50:37Z|https://api.githu...|  3668|git@github.com:mr...|               0|https://api.githu...|https://api.githu...|https://api.githu...|https://api.githu...|https://github.co...|https://api.githu...|https://api.githu...|https://api.githu...|2014-03-19T20:38:35Z|https://api.githu...|       0|             0|\n",
      "|https://api.githu...|   false|https://api.githu...|https://api.githu...|https://api.githu...|https://github.co...|https://api.githu...|https://api.githu...|https://api.githu...|https://api.githu...|https://api.githu...|https://api.githu...|2013-09-18T07:15:24Z|        master|https://api.githu...|Package list repo...|https://api.githu...|https://api.githu...| true|    0|          0|https://api.githu...|mralexgray/alcatr...|https://api.githu...|https://api.githu...|https://api.githu...|git://github.com/...|         true|     false|    false|        true|    true|mneorr.github.com...|https://api.githu...|https://github.co...| 12916552|https://api.githu...|https://api.githu...|https://api.githu...|https://api.githu...|https://api.githu...|       Ruby|https://api.githu...|                null|https://api.githu...|https://api.githu...|      null|   alcatraz-packages|MDEwOlJlcG9zaXRvc...|https://api.githu...|          0|                0|[https://avatars3...|  false|https://api.githu...|2015-12-14T16:21:31Z|https://api.githu...|   826|git@github.com:mr...|               0|https://api.githu...|https://api.githu...|https://api.githu...|https://api.githu...|https://github.co...|https://api.githu...|https://api.githu...|https://api.githu...|2015-11-10T20:52:30Z|https://api.githu...|       0|             0|\n",
      "+--------------------+--------+--------------------+--------------------+--------------------+--------------------+--------------------+--------------------+--------------------+--------------------+--------------------+--------------------+--------------------+--------------+--------------------+--------------------+--------------------+--------------------+-----+-----+-----------+--------------------+--------------------+--------------------+--------------------+--------------------+--------------------+-------------+----------+---------+------------+--------+--------------------+--------------------+--------------------+---------+--------------------+--------------------+--------------------+--------------------+--------------------+-----------+--------------------+--------------------+--------------------+--------------------+----------+--------------------+--------------------+--------------------+-----------+-----------------+--------------------+-------+--------------------+--------------------+--------------------+------+--------------------+----------------+--------------------+--------------------+--------------------+--------------------+--------------------+--------------------+--------------------+--------------------+--------------------+--------------------+--------+--------------+\n",
      "only showing top 20 rows\n",
      "\n"
     ]
    }
   ],
   "source": [
    "df_json =op.load.url(\"https://api.github.com/users/mralexgray/repos\", \"json\")\n",
    "df_json.show()"
   ]
  },
  {
   "cell_type": "code",
   "execution_count": 8,
   "metadata": {},
   "outputs": [],
   "source": [
    "df_csv.save().csv(\"test.csv\")"
   ]
  },
  {
   "cell_type": "code",
   "execution_count": 9,
   "metadata": {},
   "outputs": [],
   "source": [
    "df_json.save().json(\"test.json\")"
   ]
  },
  {
   "cell_type": "code",
   "execution_count": 10,
   "metadata": {},
   "outputs": [],
   "source": [
    "df_csv.save().parquet(\"test.parquet\")"
   ]
  }
 ],
 "metadata": {
  "kernelspec": {
   "display_name": "Python 3",
   "language": "python",
   "name": "python3"
  },
  "language_info": {
   "codemirror_mode": {
    "name": "ipython",
    "version": 3
   },
   "file_extension": ".py",
   "mimetype": "text/x-python",
   "name": "python",
   "nbconvert_exporter": "python",
   "pygments_lexer": "ipython3",
   "version": "3.6.5"
  }
 },
 "nbformat": 4,
 "nbformat_minor": 2
}
