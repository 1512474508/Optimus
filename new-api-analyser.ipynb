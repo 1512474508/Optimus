{
 "cells": [
  {
   "cell_type": "code",
   "execution_count": 1,
   "metadata": {},
   "outputs": [],
   "source": [
    "%load_ext autoreload\n",
    "%autoreload 2"
   ]
  },
  {
   "cell_type": "code",
   "execution_count": 2,
   "metadata": {},
   "outputs": [],
   "source": [
    "from optimus import *"
   ]
  },
  {
   "cell_type": "code",
   "execution_count": 17,
   "metadata": {},
   "outputs": [
    {
     "name": "stdout",
     "output_type": "stream",
     "text": [
      "\n",
      "             ____        __  _                     \n",
      "            / __ \\____  / /_(_)___ ___  __  _______\n",
      "           / / / / __ \\/ __/ / __ `__ \\/ / / / ___/\n",
      "          / /_/ / /_/ / /_/ / / / / / / /_/ (__  ) \n",
      "          \\____/ .___/\\__/_/_/ /_/ /_/\\__,_/____/  \n",
      "              /_/                                  \n",
      "              \n",
      "Just checking that all necessary environments vars are present...\n",
      "-----\n",
      "PYSPARK_PYTHON=python\n",
      "SPARK_HOME=C:\\opt\\spark\\spark-2.3.1-bin-hadoop2.7\n",
      "JAVA_HOME=C:\\java8\n",
      "-----\n",
      "Starting or getting SparkSession and SparkContext...\n",
      "Setting checkpoint folder ( local ). If you are in a cluster initialize optimus with master='your_ip' as param\n",
      "Deleting previous folder if exists...\n",
      "Creating the checkpoint directory...\n",
      "Optimus successfully imported. Have fun :).\n"
     ]
    }
   ],
   "source": [
    "# Create optimus\n",
    "op = Optimus(master=\"local\", app_name= \"optimus\")"
   ]
  },
  {
   "cell_type": "code",
   "execution_count": 18,
   "metadata": {},
   "outputs": [],
   "source": [
    "df = op.get_ss().read.csv(\"Meteorite_Landings.csv\", header=True)"
   ]
  },
  {
   "cell_type": "code",
   "execution_count": 19,
   "metadata": {},
   "outputs": [
    {
     "ename": "AssertionError",
     "evalue": "Error:The ['num'] columns do not exists in the DataFrame with the following columns ['name', 'id', 'nametype', 'recclass', 'mass (g)', 'fall', 'year', 'reclat', 'reclong', 'GeoLocation'] column(s) not exist(s)",
     "output_type": "error",
     "traceback": [
      "\u001b[1;31m---------------------------------------------------------------------------\u001b[0m",
      "\u001b[1;31mAssertionError\u001b[0m                            Traceback (most recent call last)",
      "\u001b[1;32m<ipython-input-19-5211584411ec>\u001b[0m in \u001b[0;36m<module>\u001b[1;34m()\u001b[0m\n\u001b[0;32m      1\u001b[0m \u001b[1;32mfrom\u001b[0m \u001b[0moptimus\u001b[0m \u001b[1;32mimport\u001b[0m \u001b[0mDataFrameAnalyzer\u001b[0m\u001b[1;33m\u001b[0m\u001b[0m\n\u001b[0;32m      2\u001b[0m \u001b[0manalyse\u001b[0m\u001b[1;33m=\u001b[0m \u001b[0mDataFrameAnalyzer\u001b[0m\u001b[1;33m(\u001b[0m\u001b[0mdf\u001b[0m\u001b[1;33m)\u001b[0m\u001b[1;33m\u001b[0m\u001b[0m\n\u001b[1;32m----> 3\u001b[1;33m \u001b[0manalyse\u001b[0m\u001b[1;33m.\u001b[0m\u001b[0mcolumn\u001b[0m\u001b[1;33m(\u001b[0m\u001b[1;33m[\u001b[0m\u001b[1;34m\"num\"\u001b[0m\u001b[1;33m]\u001b[0m\u001b[1;33m,\u001b[0m \u001b[0mplots\u001b[0m\u001b[1;33m=\u001b[0m\u001b[1;32mFalse\u001b[0m\u001b[1;33m)\u001b[0m\u001b[1;33m\u001b[0m\u001b[0m\n\u001b[0m\u001b[0;32m      4\u001b[0m \u001b[1;33m\u001b[0m\u001b[0m\n\u001b[0;32m      5\u001b[0m \u001b[1;31m#analyzer = op.DataFrameAnalyzer(df)\u001b[0m\u001b[1;33m\u001b[0m\u001b[1;33m\u001b[0m\u001b[0m\n",
      "\u001b[1;32m~\\Documents\\Optimus\\optimus\\df_analyser.py\u001b[0m in \u001b[0;36mcolumn\u001b[1;34m(self, columns, plots, values_bar, print_type, num_bars, print_all)\u001b[0m\n\u001b[0;32m    585\u001b[0m         \"\"\"\n\u001b[0;32m    586\u001b[0m \u001b[1;33m\u001b[0m\u001b[0m\n\u001b[1;32m--> 587\u001b[1;33m         \u001b[0mcolumns\u001b[0m \u001b[1;33m=\u001b[0m \u001b[0mparse_columns\u001b[0m\u001b[1;33m(\u001b[0m\u001b[0mself\u001b[0m\u001b[1;33m.\u001b[0m\u001b[0m_df\u001b[0m\u001b[1;33m,\u001b[0m \u001b[0mcolumns\u001b[0m\u001b[1;33m)\u001b[0m\u001b[1;33m\u001b[0m\u001b[0m\n\u001b[0m\u001b[0;32m    588\u001b[0m \u001b[1;33m\u001b[0m\u001b[0m\n\u001b[0;32m    589\u001b[0m         \u001b[1;31m# Asserting if values_bar is type Boolean\u001b[0m\u001b[1;33m\u001b[0m\u001b[1;33m\u001b[0m\u001b[0m\n",
      "\u001b[1;32m~\\Documents\\Optimus\\optimus\\helpers\\functions.py\u001b[0m in \u001b[0;36mparse_columns\u001b[1;34m(df, columns, index)\u001b[0m\n\u001b[0;32m    143\u001b[0m \u001b[1;33m\u001b[0m\u001b[0m\n\u001b[0;32m    144\u001b[0m     \u001b[1;31m# Validate that all the columns exist\u001b[0m\u001b[1;33m\u001b[0m\u001b[1;33m\u001b[0m\u001b[0m\n\u001b[1;32m--> 145\u001b[1;33m     \u001b[0mvalidate_columns_names\u001b[0m\u001b[1;33m(\u001b[0m\u001b[0mdf\u001b[0m\u001b[1;33m,\u001b[0m \u001b[0mcolumns\u001b[0m\u001b[1;33m)\u001b[0m\u001b[1;33m\u001b[0m\u001b[0m\n\u001b[0m\u001b[0;32m    146\u001b[0m \u001b[1;33m\u001b[0m\u001b[0m\n\u001b[0;32m    147\u001b[0m     \u001b[1;32mreturn\u001b[0m \u001b[0mcolumns\u001b[0m\u001b[1;33m\u001b[0m\u001b[0m\n",
      "\u001b[1;32m~\\Documents\\Optimus\\optimus\\helpers\\functions.py\u001b[0m in \u001b[0;36mvalidate_columns_names\u001b[1;34m(df, col_names, index)\u001b[0m\n\u001b[0;32m    108\u001b[0m         all_col_names=all_col_names)\n\u001b[0;32m    109\u001b[0m \u001b[1;33m\u001b[0m\u001b[0m\n\u001b[1;32m--> 110\u001b[1;33m     \u001b[1;32massert\u001b[0m \u001b[0mlen\u001b[0m\u001b[1;33m(\u001b[0m\u001b[0mmissing_col_names\u001b[0m\u001b[1;33m)\u001b[0m \u001b[1;33m==\u001b[0m \u001b[1;36m0\u001b[0m\u001b[1;33m,\u001b[0m \u001b[1;34m\"Error:%s column(s) not exist(s)\"\u001b[0m \u001b[1;33m%\u001b[0m \u001b[0merror_message\u001b[0m\u001b[1;33m\u001b[0m\u001b[0m\n\u001b[0m\u001b[0;32m    111\u001b[0m \u001b[1;33m\u001b[0m\u001b[0m\n\u001b[0;32m    112\u001b[0m     \u001b[1;32mreturn\u001b[0m \u001b[1;32mTrue\u001b[0m\u001b[1;33m\u001b[0m\u001b[0m\n",
      "\u001b[1;31mAssertionError\u001b[0m: Error:The ['num'] columns do not exists in the DataFrame with the following columns ['name', 'id', 'nametype', 'recclass', 'mass (g)', 'fall', 'year', 'reclat', 'reclong', 'GeoLocation'] column(s) not exist(s)"
     ]
    }
   ],
   "source": [
    "from optimus import DataFrameAnalyzer\n",
    "analyse= DataFrameAnalyzer(df)\n",
    "analyse.column([\"num\"], plots=False)\n",
    "\n",
    "#analyzer = op.DataFrameAnalyzer(df)"
   ]
  },
  {
   "cell_type": "code",
   "execution_count": 21,
   "metadata": {},
   "outputs": [
    {
     "name": "stdout",
     "output_type": "stream",
     "text": [
      "+-------------------+---+--------+------------+--------+----+--------------------+----------+-----------+--------------------+\n",
      "|               name| id|nametype|    recclass|mass (g)|fall|                year|    reclat|    reclong|         GeoLocation|\n",
      "+-------------------+---+--------+------------+--------+----+--------------------+----------+-----------+--------------------+\n",
      "|             Aachen|  1|   Valid|          L5|      21|Fell|01/01/1880 12:00:...| 50.775000|   6.083330|(50.775000, 6.083...|\n",
      "|             Aarhus|  2|   Valid|          H6|     720|Fell|01/01/1951 12:00:...| 56.183330|  10.233330|(56.183330, 10.23...|\n",
      "|               Abee|  6|   Valid|         EH4|  107000|Fell|01/01/1952 12:00:...| 54.216670|-113.000000|(54.216670, -113....|\n",
      "|           Acapulco| 10|   Valid| Acapulcoite|    1914|Fell|01/01/1976 12:00:...| 16.883330| -99.900000|(16.883330, -99.9...|\n",
      "|            Achiras|370|   Valid|          L6|     780|Fell|01/01/1902 12:00:...|-33.166670| -64.950000|(-33.166670, -64....|\n",
      "|           Adhi Kot|379|   Valid|         EH4|    4239|Fell|01/01/1919 12:00:...| 32.100000|  71.800000|(32.100000, 71.80...|\n",
      "|Adzhi-Bogdo (stone)|390|   Valid|       LL3-6|     910|Fell|01/01/1949 12:00:...| 44.833330|  95.166670|(44.833330, 95.16...|\n",
      "|               Agen|392|   Valid|          H5|   30000|Fell|01/01/1814 12:00:...| 44.216670|   0.616670|(44.216670, 0.616...|\n",
      "|             Aguada|398|   Valid|          L6|    1620|Fell|01/01/1930 12:00:...|-31.600000| -65.233330|(-31.600000, -65....|\n",
      "|      Aguila Blanca|417|   Valid|           L|    1440|Fell|01/01/1920 12:00:...|-30.866670| -64.550000|(-30.866670, -64....|\n",
      "|   Aioun el Atrouss|423|   Valid|Diogenite-pm|    1000|Fell|01/01/1974 12:00:...| 16.398060|  -9.570280|(16.398060, -9.57...|\n",
      "|                Aïr|424|   Valid|          L6|   24000|Fell|01/01/1925 12:00:...| 19.083330|   8.383330|(19.083330, 8.383...|\n",
      "|    Aire-sur-la-Lys|425|   Valid|     Unknown|    null|Fell|01/01/1769 12:00:...| 50.666670|   2.333330|(50.666670, 2.333...|\n",
      "|              Akaba|426|   Valid|          L6|     779|Fell|01/01/1949 12:00:...| 29.516670|  35.050000|(29.516670, 35.05...|\n",
      "|           Akbarpur|427|   Valid|          H4|    1800|Fell|01/01/1838 12:00:...| 29.716670|  77.950000|(29.716670, 77.95...|\n",
      "|            Akwanga|432|   Valid|           H|    3000|Fell|01/01/1959 12:00:...|  8.916670|   8.433330|(8.916670, 8.433330)|\n",
      "|            Akyumak|433|   Valid|   Iron, IVA|   50000|Fell|01/01/1981 12:00:...| 39.916670|  42.816670|(39.916670, 42.81...|\n",
      "|            Al Rais|446|   Valid|      CR2-an|     160|Fell|01/01/1957 12:00:...| 24.416670|  39.516670|(24.416670, 39.51...|\n",
      "|          Al Zarnkh|447|   Valid|         LL5|     700|Fell|01/01/2001 12:00:...| 13.660330|  28.960000|(13.660330, 28.96...|\n",
      "|              Alais|448|   Valid|         CI1|    6000|Fell|01/01/1806 12:00:...| 44.116670|   4.083330|(44.116670, 4.083...|\n",
      "+-------------------+---+--------+------------+--------+----+--------------------+----------+-----------+--------------------+\n",
      "only showing top 20 rows\n",
      "\n"
     ]
    }
   ],
   "source": [
    "df.show()"
   ]
  },
  {
   "cell_type": "code",
   "execution_count": 20,
   "metadata": {},
   "outputs": [],
   "source": [
    "profiler = op.profiler(df)"
   ]
  },
  {
   "cell_type": "code",
   "execution_count": 21,
   "metadata": {},
   "outputs": [
    {
     "name": "stdout",
     "output_type": "stream",
     "text": [
      "10\n",
      "45716\n",
      "+----+---+--------+--------+--------+----+----+------+-------+-----------+\n",
      "|name| id|nametype|recclass|mass (g)|fall|year|reclat|reclong|GeoLocation|\n",
      "+----+---+--------+--------+--------+----+----+------+-------+-----------+\n",
      "|   0|  0|       0|       0|       0|   0|   0|     0|      0|          0|\n",
      "+----+---+--------+--------+--------+----+----+------+-------+-----------+\n",
      "\n",
      "None\n"
     ]
    },
    {
     "ename": "AttributeError",
     "evalue": "'function' object has no attribute 'count'",
     "output_type": "error",
     "traceback": [
      "\u001b[1;31m---------------------------------------------------------------------------\u001b[0m",
      "\u001b[1;31mAttributeError\u001b[0m                            Traceback (most recent call last)",
      "\u001b[1;32m<ipython-input-21-031895ab3f6d>\u001b[0m in \u001b[0;36m<module>\u001b[1;34m()\u001b[0m\n\u001b[1;32m----> 1\u001b[1;33m \u001b[0mprofiler\u001b[0m\u001b[1;33m.\u001b[0m\u001b[0mcolumn\u001b[0m\u001b[1;33m(\u001b[0m\u001b[1;33m)\u001b[0m\u001b[1;33m\u001b[0m\u001b[0m\n\u001b[0m",
      "\u001b[1;32m~\\Documents\\Optimus\\optimus\\profiler\\profiler.py\u001b[0m in \u001b[0;36mcolumn\u001b[1;34m(self)\u001b[0m\n\u001b[0;32m     16\u001b[0m         \u001b[0mprint\u001b[0m\u001b[1;33m(\u001b[0m\u001b[0mdf\u001b[0m\u001b[1;33m.\u001b[0m\u001b[0mselect\u001b[0m\u001b[1;33m(\u001b[0m\u001b[1;33m[\u001b[0m\u001b[0mF\u001b[0m\u001b[1;33m.\u001b[0m\u001b[0mcount\u001b[0m\u001b[1;33m(\u001b[0m\u001b[0mF\u001b[0m\u001b[1;33m.\u001b[0m\u001b[0mwhen\u001b[0m\u001b[1;33m(\u001b[0m\u001b[0mF\u001b[0m\u001b[1;33m.\u001b[0m\u001b[0misnan\u001b[0m\u001b[1;33m(\u001b[0m\u001b[0mc\u001b[0m\u001b[1;33m)\u001b[0m\u001b[1;33m,\u001b[0m \u001b[0mc\u001b[0m\u001b[1;33m)\u001b[0m\u001b[1;33m)\u001b[0m\u001b[1;33m.\u001b[0m\u001b[0malias\u001b[0m\u001b[1;33m(\u001b[0m\u001b[0mc\u001b[0m\u001b[1;33m)\u001b[0m \u001b[1;32mfor\u001b[0m \u001b[0mc\u001b[0m \u001b[1;32min\u001b[0m \u001b[0mdf\u001b[0m\u001b[1;33m.\u001b[0m\u001b[0mcolumns\u001b[0m\u001b[1;33m]\u001b[0m\u001b[1;33m)\u001b[0m\u001b[1;33m.\u001b[0m\u001b[0mshow\u001b[0m\u001b[1;33m(\u001b[0m\u001b[1;33m)\u001b[0m\u001b[1;33m)\u001b[0m\u001b[1;33m\u001b[0m\u001b[0m\n\u001b[0;32m     17\u001b[0m \u001b[1;33m\u001b[0m\u001b[0m\n\u001b[1;32m---> 18\u001b[1;33m         \u001b[0mdf\u001b[0m\u001b[1;33m.\u001b[0m\u001b[0mcols\u001b[0m\u001b[1;33m(\u001b[0m\u001b[1;33m)\u001b[0m\u001b[1;33m.\u001b[0m\u001b[0mcount\u001b[0m\u001b[1;33m(\u001b[0m\u001b[1;34m\"*\"\u001b[0m\u001b[1;33m)\u001b[0m\u001b[1;33m\u001b[0m\u001b[0m\n\u001b[0m\u001b[0;32m     19\u001b[0m \u001b[1;33m\u001b[0m\u001b[0m\n\u001b[0;32m     20\u001b[0m \u001b[1;33m\u001b[0m\u001b[0m\n",
      "\u001b[1;31mAttributeError\u001b[0m: 'function' object has no attribute 'count'"
     ]
    }
   ],
   "source": [
    "profiler.column()"
   ]
  },
  {
   "cell_type": "code",
   "execution_count": 7,
   "metadata": {},
   "outputs": [
    {
     "name": "stdout",
     "output_type": "stream",
     "text": [
      "+------------------+-----+--------+----------+------------------+-----+--------------------+----------+----------+--------------------+\n",
      "|              name|   id|nametype|  recclass|          mass (g)| fall|                year|    reclat|   reclong|         GeoLocation|\n",
      "+------------------+-----+--------+----------+------------------+-----+--------------------+----------+----------+--------------------+\n",
      "|           Andhara| 2294|   Valid|Stone-uncl|              2700| Fell|01/01/1880 12:00:...| 26.583330| 85.566670|(26.583330, 85.56...|\n",
      "|    Bradford Woods| 5128|   Valid|         L|               762| Fell|01/01/1886 12:00:...| 40.500000|-80.083330|(40.500000, -80.0...|\n",
      "|        Chervettaz| 5341|   Valid|        L5|               705| Fell|01/01/1901 12:00:...| 46.550000|  6.816670|(46.550000, 6.816...|\n",
      "|            Lusaka|14759|   Valid|   Unknown|              null| Fell|01/01/1951 12:00:...| -7.216670| 29.433330|(-7.216670, 29.43...|\n",
      "|            Mardan|15414|   Valid|        H5|              4500| Fell|01/01/1948 12:00:...| 34.233330| 72.083330|(34.233330, 72.08...|\n",
      "|             Monze|16733|   Valid|        L6|              null| Fell|01/01/1950 12:00:...|-15.966670| 27.350000|(-15.966670, 27.3...|\n",
      "|         Murchison|16875|   Valid|       CM2|            100000| Fell|01/01/1969 12:00:...|-36.616670|145.200000|(-36.616670, 145....|\n",
      "|            Pacula|18068|   Valid|        L6|              3400| Fell|01/01/1881 12:00:...| 21.050000|-99.300000|(21.050000, -99.3...|\n",
      "|         Sultanpur|23741|   Valid|     L/LL6|            1710.5| Fell|01/01/1916 12:00:...| 25.933330| 84.283330|(25.933330, 84.28...|\n",
      "|               Zag|30384|   Valid|      H3-6|            175000| Fell|01/01/1998 12:00:...| 27.333330| -9.333330|(27.333330, -9.33...|\n",
      "|         Acfer 004|   14|   Valid|        L6|              1020|Found|01/01/1989 12:00:...| 27.583330|  3.816670|(27.583330, 3.816...|\n",
      "|         Acfer 253|  261|   Valid|     LL5-6|                47|Found|01/01/1991 12:00:...| 27.513610|  3.896940|(27.513610, 3.896...|\n",
      "| Allan Hills 06011|44868|   Valid|       H~5|              24.3|Found|01/01/2006 12:00:...|-76.712550|158.778600|(-76.712550, 158....|\n",
      "| Allan Hills 84044|  646|   Valid|       CM2|             147.4|Found|01/01/1984 12:00:...|-77.042950|157.071450|(-77.042950, 157....|\n",
      "| Allan Hills 84151|  753|   Valid|        H6|             112.4|Found|01/01/1984 12:00:...|-76.753230|158.766090|(-76.753230, 158....|\n",
      "| Allan Hills 85032|  898|   Valid|        H6|             424.2|Found|01/01/1985 12:00:...|-76.863210|156.436320|(-76.863210, 156....|\n",
      "|Allan Hills A77036| 1350|   Valid|      L3.5|               8.5|Found|01/01/1977 12:00:...|-76.716670|159.666670|(-76.716670, 159....|\n",
      "|Allan Hills A78135| 1750|   Valid|        H6|130.80000000000001|Found|01/01/1978 12:00:...|-76.716670|159.666670|(-76.716670, 159....|\n",
      "|Allan Hills A80120| 1947|   Valid|        L6|              60.1|Found|01/01/1980 12:00:...|-76.773330|159.281940|(-76.773330, 159....|\n",
      "|Allan Hills A81032| 1992|   Valid|      L3.4|             726.8|Found|01/01/1981 12:00:...|-76.698060|159.387500|(-76.698060, 159....|\n",
      "+------------------+-----+--------+----------+------------------+-----+--------------------+----------+----------+--------------------+\n",
      "only showing top 20 rows\n",
      "\n"
     ]
    }
   ],
   "source": [
    "from pyspark.sql import functions as F\n",
    "df.select([c for c in df.columns]).distinct().show()\n",
    "#df.select([F.count(F.col(c).distinct()) for c in df.columns]).distinct()\n"
   ]
  },
  {
   "cell_type": "code",
   "execution_count": 10,
   "metadata": {},
   "outputs": [
    {
     "data": {
      "text/plain": [
       "[2, 270]"
      ]
     },
     "execution_count": 10,
     "metadata": {},
     "output_type": "execute_result"
    }
   ],
   "source": [
    "df.cols().count_uniques([\"fall\", \"year\"])"
   ]
  },
  {
   "cell_type": "code",
   "execution_count": null,
   "metadata": {},
   "outputs": [],
   "source": []
  }
 ],
 "metadata": {
  "kernelspec": {
   "display_name": "Python 3",
   "language": "python",
   "name": "python3"
  },
  "language_info": {
   "codemirror_mode": {
    "name": "ipython",
    "version": 3
   },
   "file_extension": ".py",
   "mimetype": "text/x-python",
   "name": "python",
   "nbconvert_exporter": "python",
   "pygments_lexer": "ipython3",
   "version": "3.6.4"
  }
 },
 "nbformat": 4,
 "nbformat_minor": 2
}
