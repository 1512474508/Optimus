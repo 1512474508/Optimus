{
 "cells": [
  {
   "cell_type": "code",
   "execution_count": 9,
   "metadata": {},
   "outputs": [
    {
     "name": "stdout",
     "output_type": "stream",
     "text": [
      "The autoreload extension is already loaded. To reload it, use:\n",
      "  %reload_ext autoreload\n"
     ]
    }
   ],
   "source": [
    "%load_ext autoreload\n",
    "%autoreload 2"
   ]
  },
  {
   "cell_type": "code",
   "execution_count": 10,
   "metadata": {},
   "outputs": [],
   "source": [
    "from optimus import *"
   ]
  },
  {
   "cell_type": "code",
   "execution_count": 11,
   "metadata": {},
   "outputs": [
    {
     "name": "stdout",
     "output_type": "stream",
     "text": [
      "\n",
      "             ____        __  _                     \n",
      "            / __ \\____  / /_(_)___ ___  __  _______\n",
      "           / / / / __ \\/ __/ / __ `__ \\/ / / / ___/\n",
      "          / /_/ / /_/ / /_/ / / / / / / /_/ (__  ) \n",
      "          \\____/ .___/\\__/_/_/ /_/ /_/\\__,_/____/  \n",
      "              /_/                                  \n",
      "              \n",
      "Just checking that all necessary environments vars are present...\n",
      "-----\n",
      "PYSPARK_PYTHON=python\n",
      "SPARK_HOME=C:\\opt\\spark\\spark-2.3.1-bin-hadoop2.7\n",
      "JAVA_HOME=C:\\java8\n",
      "-----\n",
      "Starting or getting SparkSession and SparkContext...\n",
      "Setting checkpoint folder ( local ). If you are in a cluster initialize optimus with master='your_ip' as param\n",
      "Deleting previous folder if exists...\n",
      "Creating the checkpoint directory...\n",
      "Optimus successfully imported. Have fun :).\n"
     ]
    }
   ],
   "source": [
    "# Create optimus\n",
    "op = Optimus()"
   ]
  },
  {
   "cell_type": "markdown",
   "metadata": {},
   "source": [
    "## Create dataframe\n",
    "### Spark\n",
    "\n",
    "This is ugly:\n",
    "\n",
    "```\n",
    "val someData = Seq(\n",
    "  Row(8, \"bat\"),\n",
    "  Row(64, \"mouse\"),\n",
    "  Row(-27, \"horse\")\n",
    ")\n",
    "\n",
    "val someSchema = List(\n",
    "  StructField(\"number\", IntegerType, true),\n",
    "  StructField(\"word\", StringType, true)\n",
    ")\n",
    "\n",
    "val someDF = spark.createDataFrame(\n",
    "  spark.sparkContext.parallelize(someData),\n",
    "  StructType(someSchema)\n",
    ")```"
   ]
  },
  {
   "cell_type": "code",
   "execution_count": 12,
   "metadata": {},
   "outputs": [
    {
     "name": "stdout",
     "output_type": "stream",
     "text": [
      "+-------------------+---+-------+-----+------+-----+\n",
      "|              words|num|animals|thing|second|third|\n",
      "+-------------------+---+-------+-----+------+-----+\n",
      "|  I like     fish  |  1|    dog|housé|     5|    1|\n",
      "|            zombies|  2|    cat|   tv|     6|    1|\n",
      "|simpsons   cat lady|  2|   frog|table|     7|    2|\n",
      "|               null|  3|  eagle|glass|     8|    2|\n",
      "+-------------------+---+-------+-----+------+-----+\n",
      "\n"
     ]
    }
   ],
   "source": [
    "df = op.create.df(\n",
    "            [\n",
    "                (\"words\", \"str\", True),\n",
    "                (\"num\", \"int\", True),\n",
    "                (\"animals\", \"str\", True),\n",
    "                (\"thing\", StringType(), True),\n",
    "                (\"second\", \"int\", True),\n",
    "                (\"third\", \"int\", True)\n",
    "            ],\n",
    "            [\n",
    "                (\"  I like     fish  \", 1, \"dog\", \"housé\", 5 , 1),\n",
    "                (\"    zombies\", 2, \"cat\", \"tv\", 6, 1),\n",
    "                (\"simpsons   cat lady\", 2, \"frog\", \"table\", 7, 2),\n",
    "                (None, 3, \"eagle\", \"glass\", 8, 2)\n",
    "            ])\n",
    "\n",
    "df.show()"
   ]
  },
  {
   "cell_type": "markdown",
   "metadata": {},
   "source": [
    "### Quantile Statistics"
   ]
  },
  {
   "cell_type": "code",
   "execution_count": 23,
   "metadata": {
    "scrolled": true
   },
   "outputs": [
    {
     "name": "stdout",
     "output_type": "stream",
     "text": [
      "1\n",
      "{'num': {0.05: 1.0, 0.25: 1.0, 0.5: 2.0, 0.75: 2.0, 0.95: 3.0}, 'second': {0.05: 5.0, 0.25: 5.0, 0.5: 6.0, 0.75: 7.0, 0.95: 8.0}}\n",
      "3\n",
      "{'num': 2.0, 'second': 6.0}\n"
     ]
    }
   ],
   "source": [
    "print(df.cols().min(\"num\"))\n",
    "print(df.cols().percentile(['num', 'second'], [0.05, 0.25, 0.5, 0.75, 0.95]))\n",
    "print(df.cols().max(\"num\"))\n",
    "print(df.cols().median([\"num\",\"second\"]))"
   ]
  },
  {
   "cell_type": "code",
   "execution_count": 24,
   "metadata": {},
   "outputs": [
    {
     "name": "stdout",
     "output_type": "stream",
     "text": [
      "{'num': {'min': 1, 'max': 3}, 'second': {'min': 5, 'max': 8}}\n"
     ]
    }
   ],
   "source": [
    "print(df.cols().range([\"num\",\"second\"]))"
   ]
  },
  {
   "cell_type": "code",
   "execution_count": 25,
   "metadata": {},
   "outputs": [
    {
     "name": "stdout",
     "output_type": "stream",
     "text": [
      "{'num': 0.816496580927726, 'second': 1.2909944487358056}\n"
     ]
    }
   ],
   "source": [
    "print(df.cols().std([\"num\",\"second\"]))"
   ]
  },
  {
   "cell_type": "markdown",
   "metadata": {},
   "source": [
    "### Descriptive Statistics"
   ]
  },
  {
   "cell_type": "code",
   "execution_count": 27,
   "metadata": {},
   "outputs": [
    {
     "name": "stdout",
     "output_type": "stream",
     "text": [
      "-1.0\n",
      "2.0\n",
      "-3.14018491736755e-16\n",
      "8\n",
      "0.6666666666666666\n"
     ]
    }
   ],
   "source": [
    "print(df.cols().kurt(\"num\"))\n",
    "print(df.cols().mean(\"num\"))\n",
    "print(df.cols().skewness(\"num\"))\n",
    "print(df.cols().sum(\"num\"))\n",
    "print(df.cols().variance(\"num\"))\n",
    "print(df.cols().mad(\"num\"))"
   ]
  },
  {
   "cell_type": "code",
   "execution_count": 29,
   "metadata": {},
   "outputs": [
    {
     "name": "stdout",
     "output_type": "stream",
     "text": [
      "{0.05: 1.0, 0.25: 1.0, 0.5: 2.0, 0.75: 2.0, 0.95: 3.0}\n"
     ]
    }
   ],
   "source": [
    "print(df.cols().percentile(['num'], [0.05, 0.25, 0.5, 0.75, 0.95]))"
   ]
  },
  {
   "cell_type": "code",
   "execution_count": 9,
   "metadata": {},
   "outputs": [
    {
     "name": "stdout",
     "output_type": "stream",
     "text": [
      "[{'num': 2}, {'second': None}, {'third': [1, 2]}]\n"
     ]
    }
   ],
   "source": [
    "print(df.cols().mode([\"num\",\"second\",\"third\"]))"
   ]
  },
  {
   "cell_type": "markdown",
   "metadata": {},
   "source": [
    "### String Operations"
   ]
  },
  {
   "cell_type": "code",
   "execution_count": null,
   "metadata": {},
   "outputs": [],
   "source": [
    "df.show()"
   ]
  },
  {
   "cell_type": "code",
   "execution_count": null,
   "metadata": {},
   "outputs": [],
   "source": [
    "df\\\n",
    "    .cols().trim(\"words\")\\\n",
    "    .cols().lower(\"words\")\\\n",
    "    .cols().upper([\"animals\", \"thing\"])\\\n",
    "    .cols().reverse(\"thing\")\\\n",
    "    .show()"
   ]
  }
 ],
 "metadata": {
  "kernelspec": {
   "display_name": "Python 3",
   "language": "python",
   "name": "python3"
  }
 },
 "nbformat": 4,
 "nbformat_minor": 2
}
