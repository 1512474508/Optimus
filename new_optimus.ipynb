{
 "cells": [
  {
   "cell_type": "code",
   "execution_count": 1,
   "metadata": {},
   "outputs": [],
   "source": [
    "from pyspark.sql.session import SparkSession\n",
    "\n",
    "spark = SparkSession.builder.getOrCreate()\n",
    "sc = spark.sparkContext"
   ]
  },
  {
   "cell_type": "code",
   "execution_count": 2,
   "metadata": {},
   "outputs": [],
   "source": [
    "from pyspark.sql.types import StringType, IntegerType, StructType, StructField\n",
    "\n",
    "schema = StructType([\n",
    "        StructField(\"city\", StringType(), True),\n",
    "        StructField(\"country\", StringType(), True),\n",
    "        StructField(\"population\", IntegerType(), True)])\n",
    "\n",
    "countries = ['Colombia', 'US@A', 'Brazil', 'Spain']\n",
    "cities = ['Bogotá', 'New York', '   São Paulo   ', '~Madrid']\n",
    "population = [37800000,19795791,12341418,6489162]"
   ]
  },
  {
   "cell_type": "code",
   "execution_count": 8,
   "metadata": {},
   "outputs": [
    {
     "data": {
      "text/plain": [
       "[Row(city='Bogotá', country='Colombia', population=37800000),\n",
       " Row(city='New York', country='US@A', population=19795791),\n",
       " Row(city='   São Paulo   ', country='Brazil', population=12341418)]"
      ]
     },
     "execution_count": 8,
     "metadata": {},
     "output_type": "execute_result"
    }
   ],
   "source": [
    "df = spark.createDataFrame(list(zip(cities, countries, population)), schema=schema)\n",
    "df.head(3)"
   ]
  },
  {
   "cell_type": "code",
   "execution_count": 4,
   "metadata": {},
   "outputs": [],
   "source": [
    "# Referece \n",
    "# https://stackoverflow.com/questions/41598383/is-it-possible-to-subclass-dataframe-in-pyspark\n",
    "# Adding fucntion to python on the fly http://olivierpisano.over-blog.com/article-adding-methods-to-a-type-without-subclassing-72909750.html\n",
    "\n",
    "from pyspark.sql import DataFrame\n",
    "from pyspark.sql.functions import *\n",
    "\n",
    "\n",
    "class op_dataframe(DataFrame):\n",
    "    def __init__(self, df):\n",
    "        super(self.__class__, self).__init__(df._jdf, df.sql_ctx)\n",
    "\n",
    "    def lower(self, columns):\n",
    "        return op_dataframe(self.withColumn(columns, lower(col(columns))))\n",
    "    \n",
    "    def upper(self, columns):\n",
    "        return op_dataframe(self.withColumn(columns, upper(col(columns))))\n",
    "        \n",
    "    def reverse(self, columns):\n",
    "         return op_dataframe(self.withColumn(columns, reverse(col(columns))))\n",
    "    \n",
    "    def max(self,columns):\n",
    "        return op_dataframe(self.agg(\"max\", columns))\n",
    "    \n",
    "class op():\n",
    "    def DataFrame(data, schema):\n",
    "        df = spark.createDataFrame(data, schema=schema)\n",
    "        return op_dataframe(df)\n",
    "\n",
    "# This approach has a couple of problems\n",
    "# 1. if you chain a dataframe method and then use a optimus dataframe the chaining will fail beacuse you get a vanilla dataframe\n",
    "# df1 = op_df.withColumn(\"city\", lower(col(\"city\"))).reverse(\"city\")\n",
    "# 2. if you use a withColumn as last methos you will have to 'cast' to a optimus dataframe\n",
    "# df1 = op_df.withColumn(\"city\", lower(col(\"city\")))\n",
    "# df1 = op_dataframe(df1)\n",
    "# df1.upper(\"city\").show()"
   ]
  },
  {
   "cell_type": "code",
   "execution_count": 6,
   "metadata": {},
   "outputs": [
    {
     "name": "stdout",
     "output_type": "stream",
     "text": [
      "<class '__main__.op_dataframe'>\n",
      "<class 'pyspark.sql.dataframe.DataFrame'>\n",
      "== Parsed Logical Plan ==\n",
      "'Project [lower('city) AS city#26, country#13, population#14]\n",
      "+- AnalysisBarrier\n",
      "      +- Project [reverse(city#18) AS city#22, country#13, population#14]\n",
      "         +- Project [upper(city#12) AS city#18, country#13, population#14]\n",
      "            +- LogicalRDD [city#12, country#13, population#14], false\n",
      "\n",
      "== Analyzed Logical Plan ==\n",
      "city: string, country: string, population: int\n",
      "Project [lower(city#22) AS city#26, country#13, population#14]\n",
      "+- Project [reverse(city#18) AS city#22, country#13, population#14]\n",
      "   +- Project [upper(city#12) AS city#18, country#13, population#14]\n",
      "      +- LogicalRDD [city#12, country#13, population#14], false\n",
      "\n",
      "== Optimized Logical Plan ==\n",
      "Project [lower(reverse(upper(city#12))) AS city#26, country#13, population#14]\n",
      "+- LogicalRDD [city#12, country#13, population#14], false\n",
      "\n",
      "== Physical Plan ==\n",
      "*(1) Project [lower(reverse(upper(city#12))) AS city#26, country#13, population#14]\n",
      "+- Scan ExistingRDD[city#12,country#13,population#14]\n",
      "+---------------+--------+----------+\n",
      "|           city| country|population|\n",
      "+---------------+--------+----------+\n",
      "|         átogob|Colombia|  37800000|\n",
      "|       kroy wen|    US@A|  19795791|\n",
      "|   oluap oãs   |  Brazil|  12341418|\n",
      "|        dirdam~|   Spain|   6489162|\n",
      "+---------------+--------+----------+\n",
      "\n",
      "DataFrame[city: string, country: string, population: int]\n"
     ]
    }
   ],
   "source": [
    "\n",
    "op_df = op.DataFrame(list(zip(cities, countries, population)), schema = schema)\n",
    "\n",
    "print(type(op_df))\n",
    "df1 = op_df.upper(\"city\").reverse(\"city\").withColumn(\"city\", lower(col(\"city\")))\n",
    "print(type(df1))\n",
    "\n",
    "#df1.max1()\n",
    "df1.explain(True)\n",
    "df1.show()\n",
    "print(df1)"
   ]
  },
  {
   "cell_type": "code",
   "execution_count": 7,
   "metadata": {},
   "outputs": [
    {
     "name": "stdout",
     "output_type": "stream",
     "text": [
      "== Parsed Logical Plan ==\n",
      "'Project [lower('city) AS city#49, country#1, population#2]\n",
      "+- AnalysisBarrier\n",
      "      +- Project [reverse(city#41) AS city#45, country#1, population#2]\n",
      "         +- Project [upper(city#0) AS city#41, country#1, population#2]\n",
      "            +- LogicalRDD [city#0, country#1, population#2], false\n",
      "\n",
      "== Analyzed Logical Plan ==\n",
      "city: string, country: string, population: int\n",
      "Project [lower(city#45) AS city#49, country#1, population#2]\n",
      "+- Project [reverse(city#41) AS city#45, country#1, population#2]\n",
      "   +- Project [upper(city#0) AS city#41, country#1, population#2]\n",
      "      +- LogicalRDD [city#0, country#1, population#2], false\n",
      "\n",
      "== Optimized Logical Plan ==\n",
      "Project [lower(reverse(upper(city#0))) AS city#49, country#1, population#2]\n",
      "+- LogicalRDD [city#0, country#1, population#2], false\n",
      "\n",
      "== Physical Plan ==\n",
      "*(1) Project [lower(reverse(upper(city#0))) AS city#49, country#1, population#2]\n",
      "+- Scan ExistingRDD[city#0,country#1,population#2]\n",
      "+---------------+--------+----------+\n",
      "|           city| country|population|\n",
      "+---------------+--------+----------+\n",
      "|         átogob|Colombia|  37800000|\n",
      "|       kroy wen|    US@A|  19795791|\n",
      "|   oluap oãs   |  Brazil|  12341418|\n",
      "|        dirdam~|   Spain|   6489162|\n",
      "+---------------+--------+----------+\n",
      "\n"
     ]
    }
   ],
   "source": [
    "column = \"city\"\n",
    "result = df.withColumn(column, upper(col(column))).withColumn(column, reverse(col(column))).withColumn(column, lower(col(column)))\n",
    "result.explain(True)\n",
    "result.show()"
   ]
  },
  {
   "cell_type": "markdown",
   "metadata": {},
   "source": [
    "# using decorators"
   ]
  },
  {
   "cell_type": "code",
   "execution_count": 9,
   "metadata": {},
   "outputs": [],
   "source": [
    "# Reference https://medium.com/@mgarod/dynamically-add-a-method-to-a-class-in-python-c49204b85bd6\n",
    "\n",
    "from functools import wraps # This convenience func preserves name and docstring\n",
    "\n",
    "from pyspark.sql import DataFrame\n",
    "from pyspark.sql import functions as F\n",
    "\n",
    "# decorator to attach a custom fuction to a class\n",
    "def add_method(cls):\n",
    "    def decorator(func):\n",
    "        @wraps(func) \n",
    "        def wrapper(self, *args, **kwargs): \n",
    "            return func(self, *args, **kwargs)\n",
    "        setattr(cls, func.__name__, wrapper)\n",
    "        # Note we are not binding func, but wrapper which accepts self but does exactly the same as func\n",
    "        return func # returning func means func can still be used normally\n",
    "    return decorator\n",
    "\n",
    "@add_method(DataFrame)\n",
    "def lower(self, columns):\n",
    "     return self.apply(columns, F.lower)\n",
    "\n",
    "@add_method(DataFrame)\n",
    "def upper(self, columns):\n",
    "     return self.apply(columns, F.upper)\n",
    "\n",
    "@add_method(DataFrame)\n",
    "def reverse(self, columns):\n",
    "    return self.apply(columns, F.reverse)\n",
    "\n",
    "@add_method(DataFrame)\n",
    "def astype(self, type):\n",
    "    print\n",
    "    return 1\n",
    "\n",
    "\n",
    "@add_method(DataFrame)\n",
    "def select_cols(self, columns):\n",
    "    \n",
    "     # Verify that columns are a string or list of string\n",
    "    assert_type_str_or_list(columns)\n",
    "    \n",
    "    # if columns is * get all columns\n",
    "    _columns = list(map(lambda t: t[0], df.dtypes))\n",
    "    if (columns == \"*\"): columns = list(map(lambda t: t[0], df.dtypes))\n",
    "    else:\n",
    "        # Remove duplicated columns\n",
    "        if isinstance(columns, list): columns = set(columns)\n",
    "   \n",
    "         # if string convert to list. Because we always return a list\n",
    "        if isinstance(columns, str): columns = [columns]\n",
    "        \n",
    "        # Check if the columns you want to select exits in the dataframe\n",
    "        r = []\n",
    "        for column in columns: \n",
    "            if column not in self.columns: r.append(column)\n",
    "        assert len(r) == 0, \"Error:%s column(s) not exist(s)\" % r\n",
    "                    \n",
    "    return columns\n",
    "\n",
    "def assert_type_str_or_list(var):\n",
    "    \"\"\"This function asserts if variable is a string or a list dataType.\"\"\"\n",
    "    assert isinstance(var, (str, list)), \\\n",
    "        \"Error: argument must be a string or a list.\"\n",
    "            \n",
    "@add_method(DataFrame)\n",
    "def apply(self, columns, func):\n",
    "    \n",
    "    columns = select_cols(self, columns)\n",
    "        \n",
    "    for column in columns: \n",
    "        self= self.withColumn(column, func(col(column)))\n",
    "    return self\n"
   ]
  },
  {
   "cell_type": "code",
   "execution_count": 10,
   "metadata": {},
   "outputs": [
    {
     "name": "stdout",
     "output_type": "stream",
     "text": [
      "+---------------+--------+----------+\n",
      "|           city| country|population|\n",
      "+---------------+--------+----------+\n",
      "|         Bogotá|Colombia|  37800000|\n",
      "|       New York|    US@A|  19795791|\n",
      "|   São Paulo   |  Brazil|  12341418|\n",
      "|        ~Madrid|   Spain|   6489162|\n",
      "+---------------+--------+----------+\n",
      "\n"
     ]
    },
    {
     "ename": "NameError",
     "evalue": "name 'col' is not defined",
     "output_type": "error",
     "traceback": [
      "\u001b[1;31m---------------------------------------------------------------------------\u001b[0m",
      "\u001b[1;31mNameError\u001b[0m                                 Traceback (most recent call last)",
      "\u001b[1;32m<ipython-input-10-6843d8d87db0>\u001b[0m in \u001b[0;36m<module>\u001b[1;34m()\u001b[0m\n\u001b[0;32m     15\u001b[0m \u001b[1;33m\u001b[0m\u001b[0m\n\u001b[0;32m     16\u001b[0m \u001b[1;31m# Testing bonded function and withcolumn\u001b[0m\u001b[1;33m\u001b[0m\u001b[1;33m\u001b[0m\u001b[0m\n\u001b[1;32m---> 17\u001b[1;33m \u001b[0mr\u001b[0m \u001b[1;33m=\u001b[0m \u001b[0mdf\u001b[0m\u001b[1;33m.\u001b[0m\u001b[0mupper\u001b[0m\u001b[1;33m(\u001b[0m\u001b[1;33m[\u001b[0m\u001b[1;34m\"city\"\u001b[0m\u001b[1;33m,\u001b[0m\u001b[1;34m\"country\"\u001b[0m\u001b[1;33m]\u001b[0m\u001b[1;33m)\u001b[0m\u001b[1;33m.\u001b[0m\u001b[0mwithColumn\u001b[0m\u001b[1;33m(\u001b[0m\u001b[1;34m\"city\"\u001b[0m\u001b[1;33m,\u001b[0m \u001b[0mF\u001b[0m\u001b[1;33m.\u001b[0m\u001b[0mreverse\u001b[0m\u001b[1;33m(\u001b[0m\u001b[0mcol\u001b[0m\u001b[1;33m(\u001b[0m\u001b[1;34m\"city\"\u001b[0m\u001b[1;33m)\u001b[0m\u001b[1;33m)\u001b[0m\u001b[1;33m)\u001b[0m\u001b[1;33m\u001b[0m\u001b[0m\n\u001b[0m\u001b[0;32m     18\u001b[0m \u001b[0mr\u001b[0m\u001b[1;33m.\u001b[0m\u001b[0mshow\u001b[0m\u001b[1;33m(\u001b[0m\u001b[1;33m)\u001b[0m\u001b[1;33m\u001b[0m\u001b[0m\n\u001b[0;32m     19\u001b[0m \u001b[1;33m\u001b[0m\u001b[0m\n",
      "\u001b[1;32m<ipython-input-9-9c92bdff64a5>\u001b[0m in \u001b[0;36mwrapper\u001b[1;34m(self, *args, **kwargs)\u001b[0m\n\u001b[0;32m     11\u001b[0m         \u001b[1;33m@\u001b[0m\u001b[0mwraps\u001b[0m\u001b[1;33m(\u001b[0m\u001b[0mfunc\u001b[0m\u001b[1;33m)\u001b[0m\u001b[1;33m\u001b[0m\u001b[0m\n\u001b[0;32m     12\u001b[0m         \u001b[1;32mdef\u001b[0m \u001b[0mwrapper\u001b[0m\u001b[1;33m(\u001b[0m\u001b[0mself\u001b[0m\u001b[1;33m,\u001b[0m \u001b[1;33m*\u001b[0m\u001b[0margs\u001b[0m\u001b[1;33m,\u001b[0m \u001b[1;33m**\u001b[0m\u001b[0mkwargs\u001b[0m\u001b[1;33m)\u001b[0m\u001b[1;33m:\u001b[0m\u001b[1;33m\u001b[0m\u001b[0m\n\u001b[1;32m---> 13\u001b[1;33m             \u001b[1;32mreturn\u001b[0m \u001b[0mfunc\u001b[0m\u001b[1;33m(\u001b[0m\u001b[0mself\u001b[0m\u001b[1;33m,\u001b[0m \u001b[1;33m*\u001b[0m\u001b[0margs\u001b[0m\u001b[1;33m,\u001b[0m \u001b[1;33m**\u001b[0m\u001b[0mkwargs\u001b[0m\u001b[1;33m)\u001b[0m\u001b[1;33m\u001b[0m\u001b[0m\n\u001b[0m\u001b[0;32m     14\u001b[0m         \u001b[0msetattr\u001b[0m\u001b[1;33m(\u001b[0m\u001b[0mcls\u001b[0m\u001b[1;33m,\u001b[0m \u001b[0mfunc\u001b[0m\u001b[1;33m.\u001b[0m\u001b[0m__name__\u001b[0m\u001b[1;33m,\u001b[0m \u001b[0mwrapper\u001b[0m\u001b[1;33m)\u001b[0m\u001b[1;33m\u001b[0m\u001b[0m\n\u001b[0;32m     15\u001b[0m         \u001b[1;31m# Note we are not binding func, but wrapper which accepts self but does exactly the same as func\u001b[0m\u001b[1;33m\u001b[0m\u001b[1;33m\u001b[0m\u001b[0m\n",
      "\u001b[1;32m<ipython-input-9-9c92bdff64a5>\u001b[0m in \u001b[0;36mupper\u001b[1;34m(self, columns)\u001b[0m\n\u001b[0;32m     23\u001b[0m \u001b[1;33m@\u001b[0m\u001b[0madd_method\u001b[0m\u001b[1;33m(\u001b[0m\u001b[0mDataFrame\u001b[0m\u001b[1;33m)\u001b[0m\u001b[1;33m\u001b[0m\u001b[0m\n\u001b[0;32m     24\u001b[0m \u001b[1;32mdef\u001b[0m \u001b[0mupper\u001b[0m\u001b[1;33m(\u001b[0m\u001b[0mself\u001b[0m\u001b[1;33m,\u001b[0m \u001b[0mcolumns\u001b[0m\u001b[1;33m)\u001b[0m\u001b[1;33m:\u001b[0m\u001b[1;33m\u001b[0m\u001b[0m\n\u001b[1;32m---> 25\u001b[1;33m      \u001b[1;32mreturn\u001b[0m \u001b[0mself\u001b[0m\u001b[1;33m.\u001b[0m\u001b[0mapply\u001b[0m\u001b[1;33m(\u001b[0m\u001b[0mcolumns\u001b[0m\u001b[1;33m,\u001b[0m \u001b[0mF\u001b[0m\u001b[1;33m.\u001b[0m\u001b[0mupper\u001b[0m\u001b[1;33m)\u001b[0m\u001b[1;33m\u001b[0m\u001b[0m\n\u001b[0m\u001b[0;32m     26\u001b[0m \u001b[1;33m\u001b[0m\u001b[0m\n\u001b[0;32m     27\u001b[0m \u001b[1;33m@\u001b[0m\u001b[0madd_method\u001b[0m\u001b[1;33m(\u001b[0m\u001b[0mDataFrame\u001b[0m\u001b[1;33m)\u001b[0m\u001b[1;33m\u001b[0m\u001b[0m\n",
      "\u001b[1;32m<ipython-input-9-9c92bdff64a5>\u001b[0m in \u001b[0;36mwrapper\u001b[1;34m(self, *args, **kwargs)\u001b[0m\n\u001b[0;32m     11\u001b[0m         \u001b[1;33m@\u001b[0m\u001b[0mwraps\u001b[0m\u001b[1;33m(\u001b[0m\u001b[0mfunc\u001b[0m\u001b[1;33m)\u001b[0m\u001b[1;33m\u001b[0m\u001b[0m\n\u001b[0;32m     12\u001b[0m         \u001b[1;32mdef\u001b[0m \u001b[0mwrapper\u001b[0m\u001b[1;33m(\u001b[0m\u001b[0mself\u001b[0m\u001b[1;33m,\u001b[0m \u001b[1;33m*\u001b[0m\u001b[0margs\u001b[0m\u001b[1;33m,\u001b[0m \u001b[1;33m**\u001b[0m\u001b[0mkwargs\u001b[0m\u001b[1;33m)\u001b[0m\u001b[1;33m:\u001b[0m\u001b[1;33m\u001b[0m\u001b[0m\n\u001b[1;32m---> 13\u001b[1;33m             \u001b[1;32mreturn\u001b[0m \u001b[0mfunc\u001b[0m\u001b[1;33m(\u001b[0m\u001b[0mself\u001b[0m\u001b[1;33m,\u001b[0m \u001b[1;33m*\u001b[0m\u001b[0margs\u001b[0m\u001b[1;33m,\u001b[0m \u001b[1;33m**\u001b[0m\u001b[0mkwargs\u001b[0m\u001b[1;33m)\u001b[0m\u001b[1;33m\u001b[0m\u001b[0m\n\u001b[0m\u001b[0;32m     14\u001b[0m         \u001b[0msetattr\u001b[0m\u001b[1;33m(\u001b[0m\u001b[0mcls\u001b[0m\u001b[1;33m,\u001b[0m \u001b[0mfunc\u001b[0m\u001b[1;33m.\u001b[0m\u001b[0m__name__\u001b[0m\u001b[1;33m,\u001b[0m \u001b[0mwrapper\u001b[0m\u001b[1;33m)\u001b[0m\u001b[1;33m\u001b[0m\u001b[0m\n\u001b[0;32m     15\u001b[0m         \u001b[1;31m# Note we are not binding func, but wrapper which accepts self but does exactly the same as func\u001b[0m\u001b[1;33m\u001b[0m\u001b[1;33m\u001b[0m\u001b[0m\n",
      "\u001b[1;32m<ipython-input-9-9c92bdff64a5>\u001b[0m in \u001b[0;36mapply\u001b[1;34m(self, columns, func)\u001b[0m\n\u001b[0;32m     69\u001b[0m \u001b[1;33m\u001b[0m\u001b[0m\n\u001b[0;32m     70\u001b[0m     \u001b[1;32mfor\u001b[0m \u001b[0mcolumn\u001b[0m \u001b[1;32min\u001b[0m \u001b[0mcolumns\u001b[0m\u001b[1;33m:\u001b[0m\u001b[1;33m\u001b[0m\u001b[0m\n\u001b[1;32m---> 71\u001b[1;33m         \u001b[0mself\u001b[0m\u001b[1;33m=\u001b[0m \u001b[0mself\u001b[0m\u001b[1;33m.\u001b[0m\u001b[0mwithColumn\u001b[0m\u001b[1;33m(\u001b[0m\u001b[0mcolumn\u001b[0m\u001b[1;33m,\u001b[0m \u001b[0mfunc\u001b[0m\u001b[1;33m(\u001b[0m\u001b[0mcol\u001b[0m\u001b[1;33m(\u001b[0m\u001b[0mcolumn\u001b[0m\u001b[1;33m)\u001b[0m\u001b[1;33m)\u001b[0m\u001b[1;33m)\u001b[0m\u001b[1;33m\u001b[0m\u001b[0m\n\u001b[0m\u001b[0;32m     72\u001b[0m     \u001b[1;32mreturn\u001b[0m \u001b[0mself\u001b[0m\u001b[1;33m\u001b[0m\u001b[0m\n",
      "\u001b[1;31mNameError\u001b[0m: name 'col' is not defined"
     ]
    }
   ],
   "source": [
    "schema = StructType([\n",
    "        StructField(\"city\", StringType(), True),\n",
    "        StructField(\"country\", StringType(), True),\n",
    "        StructField(\"population\", IntegerType(), True)])\n",
    "\n",
    "countries = ['Colombia', 'US@A', 'Brazil', 'Spain']\n",
    "cities = ['Bogotá', 'New York', '   São Paulo   ', '~Madrid']\n",
    "population = [37800000,19795791,12341418,6489162]\n",
    "\n",
    "# Create dataframe\n",
    "df = spark.createDataFrame(list(zip(cities, countries, population)), schema=schema)\n",
    "\n",
    "# Some operation in multiple columns\n",
    "df.show()\n",
    "\n",
    "# Testing bonded function and withcolumn\n",
    "r = df.upper([\"city\",\"country\"]).withColumn(\"city\", F.reverse(col(\"city\")))\n",
    "r.show()\n",
    "\n",
    "# Testing apply and withcolum\n",
    "r = r.apply(\"country\", F.upper).apply([\"city\",\"country\"], F.lower).withColumn(\"city\", F.reverse(col(\"city\")))\n",
    "r.show()\n",
    "\n",
    "# Testing custom function\n",
    "def remove_some_chars(col_name):\n",
    "    removed_chars = (\"@\", \"?\")\n",
    "    regexp = \"|\".join('\\{0}'.format(i) for i in removed_chars)\n",
    "    return regexp_replace(col_name, regexp, \"\")\n",
    "\n",
    "# r = r.apply([\"country\"],remove_some_chars).upper([\"city\"]).withColumn(\"city\", F.reverse(col(\"country\")))\n",
    "r = r.apply([\"country\"], remove_some_chars).upper([\"city\"]).withColumn(\"country\", F.reverse(col(\"country\"))).lower([\"city\"])\n",
    "r.show()\n",
    "\n",
    "r = r.upper([\"country\"])\n",
    "r.show()\n"
   ]
  },
  {
   "cell_type": "code",
   "execution_count": 265,
   "metadata": {},
   "outputs": [
    {
     "name": "stdout",
     "output_type": "stream",
     "text": [
      "['city', 'country', 'population']\n",
      "[('city', 'string'), ('country', 'string'), ('population', 'int')]\n"
     ]
    }
   ],
   "source": [
    "# Filters all string columns in dataFrame\n",
    "valid_cols = list(map(lambda t: t[0], df.dtypes))\n",
    "\n",
    "# If None or [] is provided with column parameter:\n",
    "if columns == \"*\": columns = valid_cols\n",
    "print(valid_cols)\n",
    "print(df.dtypes)"
   ]
  },
  {
   "cell_type": "code",
   "execution_count": 221,
   "metadata": {},
   "outputs": [
    {
     "data": {
      "text/plain": [
       "['city', 'country', 'population']"
      ]
     },
     "execution_count": 221,
     "metadata": {},
     "output_type": "execute_result"
    }
   ],
   "source": [
    "list(map(lambda t: t[0], df.dtypes))"
   ]
  },
  {
   "cell_type": "code",
   "execution_count": 254,
   "metadata": {},
   "outputs": [
    {
     "ename": "AssertionError",
     "evalue": "the list is non empty",
     "output_type": "error",
     "traceback": [
      "\u001b[1;31m---------------------------------------------------------------------------\u001b[0m",
      "\u001b[1;31mAssertionError\u001b[0m                            Traceback (most recent call last)",
      "\u001b[1;32m<ipython-input-254-b2e46fe6c703>\u001b[0m in \u001b[0;36m<module>\u001b[1;34m()\u001b[0m\n\u001b[0;32m      5\u001b[0m     \u001b[1;32mif\u001b[0m \u001b[0mi\u001b[0m \u001b[1;32mnot\u001b[0m \u001b[1;32min\u001b[0m \u001b[0mZ\u001b[0m\u001b[1;33m:\u001b[0m \u001b[0my\u001b[0m\u001b[1;33m.\u001b[0m\u001b[0mappend\u001b[0m\u001b[1;33m(\u001b[0m\u001b[0mi\u001b[0m\u001b[1;33m)\u001b[0m\u001b[1;33m\u001b[0m\u001b[0m\n\u001b[0;32m      6\u001b[0m \u001b[1;33m\u001b[0m\u001b[0m\n\u001b[1;32m----> 7\u001b[1;33m \u001b[1;32massert\u001b[0m \u001b[0mlen\u001b[0m\u001b[1;33m(\u001b[0m\u001b[0my\u001b[0m\u001b[1;33m)\u001b[0m \u001b[1;33m==\u001b[0m \u001b[1;36m0\u001b[0m\u001b[1;33m,\u001b[0m \u001b[1;34m\"the list is non empty\"\u001b[0m\u001b[1;33m\u001b[0m\u001b[0m\n\u001b[0m\u001b[0;32m      8\u001b[0m \u001b[0mprint\u001b[0m\u001b[1;33m(\u001b[0m\u001b[0my\u001b[0m\u001b[1;33m)\u001b[0m\u001b[1;33m\u001b[0m\u001b[0m\n",
      "\u001b[1;31mAssertionError\u001b[0m: the list is non empty"
     ]
    }
   ],
   "source": [
    "items = [1,2,3,4]\n",
    "Z = [3,4]\n",
    "y = []\n",
    "for i in items: \n",
    "    if i not in Z: y.append(i)\n",
    "        \n",
    "assert len(y) == 0, \"the list is non empty\"\n",
    "print(y)"
   ]
  },
  {
   "cell_type": "code",
   "execution_count": null,
   "metadata": {},
   "outputs": [],
   "source": []
  }
 ],
 "metadata": {
  "kernelspec": {
   "display_name": "Python 3",
   "language": "python",
   "name": "python3"
  }
 },
 "nbformat": 4,
 "nbformat_minor": 2
}
