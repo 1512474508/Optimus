{
 "cells": [
  {
   "cell_type": "code",
   "execution_count": 1,
   "metadata": {},
   "outputs": [],
   "source": [
    "%load_ext autoreload\n",
    "%autoreload 2"
   ]
  },
  {
   "cell_type": "code",
   "execution_count": 12,
   "metadata": {},
   "outputs": [],
   "source": [
    "from optimus import *\n",
    "\n",
    "from pyspark.sql.session import SparkSession\n",
    "from pyspark.sql.types import StructType, StructField, StringType, BooleanType, IntegerType, ArrayType\n",
    "\n",
    "sc = SparkSession.builder.getOrCreate()"
   ]
  },
  {
   "cell_type": "code",
   "execution_count": 13,
   "metadata": {},
   "outputs": [
    {
     "name": "stdout",
     "output_type": "stream",
     "text": [
      "\n",
      "             ____        __  _                     \n",
      "            / __ \\____  / /_(_)___ ___  __  _______\n",
      "           / / / / __ \\/ __/ / __ `__ \\/ / / / ___/\n",
      "          / /_/ / /_/ / /_/ / / / / / / /_/ (__  ) \n",
      "          \\____/ .___/\\__/_/_/ /_/ /_/\\__,_/____/  \n",
      "              /_/                                  \n",
      "              \n",
      "Just checking that all necessary environments vars are present...\n",
      "-----\n",
      "PYSPARK_PYTHON=python\n",
      "SPARK_HOME=C:\\opt\\spark\\spark-2.3.1-bin-hadoop2.7\n",
      "JAVA_HOME=C:\\java8\n",
      "-----\n",
      "Starting or getting SparkSession and SparkContext...\n",
      "Setting checkpoint folder (local). If you are in a cluster change it with set_check_point_ folder(path,'hadoop').\n",
      "Deleting previous folder if exists...\n",
      "Creating the checkpoint directory...\n",
      "Done.\n",
      "Optimus successfully imported. Have fun :).\n"
     ]
    }
   ],
   "source": [
    "# Create optimus\n",
    "op = Optimus()"
   ]
  },
  {
   "cell_type": "markdown",
   "metadata": {},
   "source": [
    "## Create dataframe\n",
    "### Spark\n",
    "\n",
    "This is ugly:\n",
    "\n",
    "```\n",
    "val someData = Seq(\n",
    "  Row(8, \"bat\"),\n",
    "  Row(64, \"mouse\"),\n",
    "  Row(-27, \"horse\")\n",
    ")\n",
    "\n",
    "val someSchema = List(\n",
    "  StructField(\"number\", IntegerType, true),\n",
    "  StructField(\"word\", StringType, true)\n",
    ")\n",
    "\n",
    "val someDF = spark.createDataFrame(\n",
    "  spark.sparkContext.parallelize(someData),\n",
    "  StructType(someSchema)\n",
    ")```"
   ]
  },
  {
   "cell_type": "code",
   "execution_count": 14,
   "metadata": {},
   "outputs": [
    {
     "name": "stdout",
     "output_type": "stream",
     "text": [
      "+-------------------+---+-------+-----+------+------+\n",
      "|              words|num|animals|thing|second|filter|\n",
      "+-------------------+---+-------+-----+------+------+\n",
      "|  I like     fish  |  1|dog dog|housé|     5|     a|\n",
      "|            zombies|  2|    cat|   tv|     6|     b|\n",
      "|simpsons   cat lady|  2|   frog|table|     7|     1|\n",
      "|               null|  3|  eagle|glass|     8|     c|\n",
      "+-------------------+---+-------+-----+------+------+\n",
      "\n"
     ]
    }
   ],
   "source": [
    "# Thanks Mr Powers\n",
    "df = op.create.df([\n",
    "                (\"words\", \"str\", True),\n",
    "                (\"num\", \"int\", True),\n",
    "                (\"animals\", \"str\", True),\n",
    "                (\"thing\", StringType(), True),\n",
    "                (\"second\", \"int\", True),\n",
    "                (\"filter\", StringType(), True)\n",
    "            ],\n",
    "            [\n",
    "                (\"  I like     fish  \", 1, \"dog dog\", \"housé\", 5 , \"a\"),\n",
    "                (\"    zombies\", 2, \"cat\", \"tv\", 6, \"b\"),\n",
    "                (\"simpsons   cat lady\", 2, \"frog\", \"table\", 7, \"1\"),\n",
    "                (None, 3, \"eagle\", \"glass\", 8, \"c\")\n",
    "                \n",
    "            ])\n",
    "\n",
    "df.show()"
   ]
  },
  {
   "cell_type": "code",
   "execution_count": 8,
   "metadata": {},
   "outputs": [
    {
     "ename": "NameError",
     "evalue": "name 'df' is not defined",
     "output_type": "error",
     "traceback": [
      "\u001b[1;31m---------------------------------------------------------------------------\u001b[0m",
      "\u001b[1;31mNameError\u001b[0m                                 Traceback (most recent call last)",
      "\u001b[1;32m<ipython-input-8-5cc0934cc03c>\u001b[0m in \u001b[0;36m<module>\u001b[1;34m()\u001b[0m\n\u001b[1;32m----> 1\u001b[1;33m \u001b[0mdf\u001b[0m\u001b[1;33m.\u001b[0m\u001b[0mdtypes\u001b[0m\u001b[1;33m\u001b[0m\u001b[0m\n\u001b[0m",
      "\u001b[1;31mNameError\u001b[0m: name 'df' is not defined"
     ]
    }
   ],
   "source": [
    "df.dtypes"
   ]
  },
  {
   "cell_type": "markdown",
   "metadata": {},
   "source": [
    "## Append row\n",
    "### Spark\n",
    "Not available in Spark. You need to create a dataframe and the union to append a row"
   ]
  },
  {
   "cell_type": "code",
   "execution_count": 4,
   "metadata": {},
   "outputs": [
    {
     "name": "stdout",
     "output_type": "stream",
     "text": [
      "+-------------------+---+-----------------+---------------+------+----------------+\n",
      "|              words|num|          animals|          thing|second|          filter|\n",
      "+-------------------+---+-----------------+---------------+------+----------------+\n",
      "|  I like     fish  |  1|          dog dog|          housé|     5|               a|\n",
      "|            zombies|  2|              cat|             tv|     6|               b|\n",
      "|simpsons   cat lady|  2|             frog|          table|     7|               1|\n",
      "|               null|  3|            eagle|          glass|     8|               c|\n",
      "|     this is a word|  2|this is an animal|this is a thing|    64|this is a filter|\n",
      "+-------------------+---+-----------------+---------------+------+----------------+\n",
      "\n"
     ]
    }
   ],
   "source": [
    "df.rows().append([\"this is a word\",2, \"this is an animal\", \"this is a thing\", 64, \"this is a filter\"]).show()"
   ]
  },
  {
   "cell_type": "markdown",
   "metadata": {},
   "source": [
    "## Filter by type\n",
    "### Spark \n",
    "Not available in Spark Vanilla.\n",
    "\n",
    "### Pandas\n"
   ]
  },
  {
   "cell_type": "code",
   "execution_count": 6,
   "metadata": {
    "scrolled": true
   },
   "outputs": [
    {
     "name": "stdout",
     "output_type": "stream",
     "text": [
      "+-------------------+---+-------+-----+------+------+\n",
      "|              words|num|animals|thing|second|filter|\n",
      "+-------------------+---+-------+-----+------+------+\n",
      "|  I like     fish  |  1|dog dog|housé|     5|     a|\n",
      "|            zombies|  2|    cat|   tv|     6|     b|\n",
      "|               null|  3|  eagle|glass|     8|     c|\n",
      "+-------------------+---+-------+-----+------+------+\n",
      "\n"
     ]
    }
   ],
   "source": [
    "df.rows().filter_by_type(\"filter\", type = \"integer\").show()"
   ]
  },
  {
   "cell_type": "markdown",
   "metadata": {},
   "source": [
    "## Lookup\n",
    "### Spark\n",
    "Not available in Spark Vanilla.\n",
    "\n",
    "### Pandas"
   ]
  },
  {
   "cell_type": "code",
   "execution_count": 11,
   "metadata": {},
   "outputs": [
    {
     "name": "stdout",
     "output_type": "stream",
     "text": [
      "+-------------------+---+------------+-----+------+------+\n",
      "|              words|num|     animals|thing|second|filter|\n",
      "+-------------------+---+------------+-----+------+------+\n",
      "|  I like     fish  |  1|     dog dog|housé|     5|     a|\n",
      "|            zombies|  2|just animals|   tv|     6|     b|\n",
      "|simpsons   cat lady|  2|        frog|table|     7|     1|\n",
      "|               null|  3|just animals|glass|     8|     c|\n",
      "+-------------------+---+------------+-----+------+------+\n",
      "\n"
     ]
    }
   ],
   "source": [
    "df.rows().lookup(\"animals\", [\"dog\", \"cat\", \"eagle\"], \"just animals\").show()"
   ]
  },
  {
   "cell_type": "markdown",
   "metadata": {},
   "source": [
    "## Apply"
   ]
  },
  {
   "cell_type": "code",
   "execution_count": 10,
   "metadata": {},
   "outputs": [
    {
     "name": "stdout",
     "output_type": "stream",
     "text": [
      "+-------------------+---+-------+-----+------+------+\n",
      "|              words|num|animals|thing|second|filter|\n",
      "+-------------------+---+-------+-----+------+------+\n",
      "|  I like     fish  |  2|dog dog|housé|     5|     a|\n",
      "|            zombies|  3|    cat|   tv|     6|     b|\n",
      "|simpsons   cat lady|  3|   frog|table|     7|     1|\n",
      "|               null|  4|  eagle|glass|     8|     c|\n",
      "+-------------------+---+-------+-----+------+------+\n",
      "\n"
     ]
    }
   ],
   "source": [
    "def func(value): \n",
    "    return str(int(value) + 1 )\n",
    "\n",
    "df.rows().apply('num', func).show()"
   ]
  },
  {
   "cell_type": "markdown",
   "metadata": {},
   "source": [
    "## Apply by type\n",
    "### Spark\n",
    "Not available in Spark Vanilla.\n",
    "\n",
    "### Pandas\n"
   ]
  },
  {
   "cell_type": "code",
   "execution_count": 15,
   "metadata": {},
   "outputs": [
    {
     "name": "stdout",
     "output_type": "stream",
     "text": [
      "+-------------------+---+-------+-----+------+------+\n",
      "|              words|num|animals|thing|second|filter|\n",
      "+-------------------+---+-------+-----+------+------+\n",
      "|  I like     fish  |  2|dog dog|housé|     5|     a|\n",
      "|            zombies|  3|    cat|   tv|     6|     b|\n",
      "|simpsons   cat lady|  3|   frog|table|     7|     1|\n",
      "|               null|  4|  eagle|glass|     8|     c|\n",
      "+-------------------+---+-------+-----+------+------+\n",
      "\n"
     ]
    }
   ],
   "source": [
    "def func(value): \n",
    "    return str(int(value) + 1 )\n",
    "\n",
    "df.rows().apply_by_type([('num', 'integer', func)]).show()"
   ]
  },
  {
   "cell_type": "code",
   "execution_count": 18,
   "metadata": {},
   "outputs": [
    {
     "name": "stdout",
     "output_type": "stream",
     "text": [
      "+-------------------+---+-------+-----+------+------+\n",
      "|              words|num|animals|thing|second|filter|\n",
      "+-------------------+---+-------+-----+------+------+\n",
      "|  I like     fish  |  1|dog dog|  aaa|     5|     a|\n",
      "|            zombies|  2|    cat|  aaa|     6|     b|\n",
      "|simpsons   cat lady|  2|   frog|  aaa|     7|     d|\n",
      "|               null|  3|  eagle|  aaa|     8|     c|\n",
      "+-------------------+---+-------+-----+------+------+\n",
      "\n"
     ]
    }
   ],
   "source": [
    "df.rows().apply_by_type([('filter', 'integer', \"d\"), ('thing', 'string', \"aaa\")]).show()"
   ]
  },
  {
   "cell_type": "code",
   "execution_count": null,
   "metadata": {},
   "outputs": [],
   "source": []
  }
 ],
 "metadata": {
  "kernelspec": {
   "display_name": "Python 3",
   "language": "python",
   "name": "python3"
  },
  "language_info": {
   "codemirror_mode": {
    "name": "ipython",
    "version": 3
   },
   "file_extension": ".py",
   "mimetype": "text/x-python",
   "name": "python",
   "nbconvert_exporter": "python",
   "pygments_lexer": "ipython3",
   "version": "3.6.4"
  }
 },
 "nbformat": 4,
 "nbformat_minor": 2
}
