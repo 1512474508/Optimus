{
 "cells": [
  {
   "cell_type": "markdown",
   "metadata": {},
   "source": [
    "## A beautifull way to work with data\n",
    "\n",
    "This is an API proposal to access data.\n",
    "\n",
    "Dataframes would have rows and columns. \n",
    "\n",
    "* To access columns just use df.cols()\n",
    "* To access rows just use df.rows()\n",
    "* I/O operations to load and save data are in Optimus. op.load.csv(). op.save.csv()\n",
    "\n",
    "Easy and simple"
   ]
  },
  {
   "cell_type": "code",
   "execution_count": 1,
   "metadata": {},
   "outputs": [],
   "source": [
    "%load_ext autoreload\n",
    "%autoreload 2"
   ]
  },
  {
   "cell_type": "code",
   "execution_count": 2,
   "metadata": {},
   "outputs": [],
   "source": [
    "from optimus import *\n",
    "\n",
    "from pyspark.sql.session import SparkSession\n",
    "from pyspark.sql.types import StructType, StructField, StringType, BooleanType, IntegerType, ArrayType\n",
    "\n",
    "sc = SparkSession.builder.getOrCreate()"
   ]
  },
  {
   "cell_type": "code",
   "execution_count": 3,
   "metadata": {},
   "outputs": [
    {
     "name": "stdout",
     "output_type": "stream",
     "text": [
      "Using a created Spark Session...\n",
      "Done.\n"
     ]
    }
   ],
   "source": [
    "# Create optimus\n",
    "op = Optimus(sc)"
   ]
  },
  {
   "cell_type": "markdown",
   "metadata": {},
   "source": [
    "## Create dataframe\n",
    "### Spark\n",
    "\n",
    "This is ugly:\n",
    "\n",
    "```\n",
    "val someData = Seq(\n",
    "  Row(8, \"bat\"),\n",
    "  Row(64, \"mouse\"),\n",
    "  Row(-27, \"horse\")\n",
    ")\n",
    "\n",
    "val someSchema = List(\n",
    "  StructField(\"number\", IntegerType, true),\n",
    "  StructField(\"word\", StringType, true)\n",
    ")\n",
    "\n",
    "val someDF = spark.createDataFrame(\n",
    "  spark.sparkContext.parallelize(someData),\n",
    "  StructType(someSchema)\n",
    ")```"
   ]
  },
  {
   "cell_type": "code",
   "execution_count": 15,
   "metadata": {},
   "outputs": [
    {
     "name": "stdout",
     "output_type": "stream",
     "text": [
      "+-------------------+---+-------+-----+------+\n",
      "|              words|num|animals|thing|second|\n",
      "+-------------------+---+-------+-----+------+\n",
      "|  I like     fish  |  1|    dog|housé|     5|\n",
      "|            zombies|  2|    cat|   tv|     6|\n",
      "|simpsons   cat lady|  2|   frog|table|     7|\n",
      "|               null|  3|  eagle|glass|     8|\n",
      "+-------------------+---+-------+-----+------+\n",
      "\n"
     ]
    }
   ],
   "source": [
    "# Thanks Mr Powers\n",
    "df = op.create.df([\n",
    "                (\"  I like     fish  \", 1, \"dog\", \"housé\", 5 ),\n",
    "                (\"    zombies\", 2, \"cat\", \"tv\", 6),\n",
    "                (\"simpsons   cat lady\", 2, \"frog\", \"table\", 7),\n",
    "                (None, 3, \"eagle\", \"glass\", 8)\n",
    "            ],\n",
    "            [\n",
    "                (\"words\", \"str\", True),\n",
    "                (\"num\", \"int\", True),\n",
    "                (\"animals\", \"str\", True),\n",
    "                (\"thing\", StringType(), True),\n",
    "                (\"second\", \"int\", True)\n",
    "            ])\n",
    "\n",
    "df.show()"
   ]
  },
  {
   "cell_type": "markdown",
   "metadata": {},
   "source": [
    "### Math Operations"
   ]
  },
  {
   "cell_type": "code",
   "execution_count": 73,
   "metadata": {
    "scrolled": true
   },
   "outputs": [
    {
     "name": "stdout",
     "output_type": "stream",
     "text": [
      "{'num': 1}\n",
      "{'num': 3}\n",
      "{'num': 2.0, 'second': 2.0}\n",
      "{'num': 0.816496580927726}\n",
      "{'num': -1.0000000000000002}\n",
      "{'num': 2.0}\n",
      "{'num': 0.0}\n",
      "{'num': 0.0}\n",
      "{'num': 0.6666666666666666}\n"
     ]
    }
   ],
   "source": [
    "print(df.cols().min(\"num\"))\n",
    "print(df.cols().max(\"num\"))\n",
    "print(df.cols().range([\"num\",\"second\"]))\n",
    "print(df.cols().median([\"num\",\"second\"]))\n",
    "\n",
    "print(df.cols().stddev(\"num\"))\n",
    "print(df.cols().kurt(\"num\"))\n",
    "print(df.cols().mean(\"num\"))\n",
    "print(df.cols().skewness(\"num\"))\n",
    "print(df.cols().sum(\"num\"))\n",
    "print(df.cols().variance(\"num\"))"
   ]
  },
  {
   "cell_type": "code",
   "execution_count": 82,
   "metadata": {},
   "outputs": [
    {
     "name": "stdout",
     "output_type": "stream",
     "text": [
      "+-------------------+---+-------+-----+------+\n",
      "|              words|num|animals|thing|second|\n",
      "+-------------------+---+-------+-----+------+\n",
      "|    i like     fish|  1|    DOG|ésuoh|     5|\n",
      "|            zombies|  2|    CAT|   vt|     6|\n",
      "|simpsons   cat lady|  2|   FROG|elbat|     7|\n",
      "|               null|  3|  EAGLE|ssalg|     8|\n",
      "+-------------------+---+-------+-----+------+\n",
      "\n"
     ]
    }
   ],
   "source": [
    "df\\\n",
    "    .cols().trim(\"words\")\\\n",
    "    .cols().lower(\"words\")\\\n",
    "    .cols().upper(\"animals\")\\\n",
    "    .cols().reverse(\"thing\")\\\n",
    "    .show()\n",
    "    "
   ]
  },
  {
   "cell_type": "code",
   "execution_count": null,
   "metadata": {},
   "outputs": [],
   "source": []
  }
 ],
 "metadata": {
  "kernelspec": {
   "display_name": "Python 3",
   "language": "python",
   "name": "python3"
  },
  "language_info": {
   "codemirror_mode": {
    "name": "ipython",
    "version": 3
   },
   "file_extension": ".py",
   "mimetype": "text/x-python",
   "name": "python",
   "nbconvert_exporter": "python",
   "pygments_lexer": "ipython3",
   "version": "3.6.4"
  }
 },
 "nbformat": 4,
 "nbformat_minor": 2
}
