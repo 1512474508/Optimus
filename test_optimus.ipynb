{
 "cells": [
  {
   "cell_type": "code",
   "execution_count": 1,
   "metadata": {},
   "outputs": [],
   "source": [
    "%load_ext autoreload"
   ]
  },
  {
   "cell_type": "code",
   "execution_count": 2,
   "metadata": {},
   "outputs": [
    {
     "name": "stdout",
     "output_type": "stream",
     "text": [
      "Just checking that all necesary environments vars are present...\n",
      "PYSPARK_PYTHON=python\n",
      "SPARK_HOME=C:\\opt\\spark\\spark-2.3.1-bin-hadoop2.7\n",
      "JAVA_HOME=C:\\java8\n",
      "-----\n",
      "Starting or getting SparkSession and SparkContext...\n",
      "Setting checkpoint folder (local). If you are in a cluster change it with set_check_point_ folder(path,'hadoop').\n",
      "Deleting previous folder if exists...\n",
      "Creation of checkpoint directory...\n",
      "Done.\n"
     ]
    },
    {
     "data": {
      "text/html": [
       "\n",
       "        <div style=\"margin:10px\">\n",
       "            <a href=\"https://github.com/ironmussa/Optimus\" target=\"_new\">\n",
       "                <img src=\"https://github.com/ironmussa/Optimus/raw/master/images/robotOptimus.png\" style=\"float:left;margin-right:10px;vertical-align:top;text-align:center\" height=\"50\" width=\"50\"/>\n",
       "            </a>\n",
       "            <span><b><h2>Optimus successfully imported. Have fun :).</h2></b></span>\n",
       "        </div>\n",
       "        "
      ],
      "text/plain": [
       "<IPython.core.display.HTML object>"
      ]
     },
     "metadata": {},
     "output_type": "display_data"
    }
   ],
   "source": [
    "import optimus as op"
   ]
  },
  {
   "cell_type": "code",
   "execution_count": 26,
   "metadata": {},
   "outputs": [
    {
     "ename": "TypeError",
     "evalue": "'Column' object is not callable",
     "output_type": "error",
     "traceback": [
      "\u001b[1;31m---------------------------------------------------------------------------\u001b[0m",
      "\u001b[1;31mTypeError\u001b[0m                                 Traceback (most recent call last)",
      "\u001b[1;32m<ipython-input-26-6a746fe269d5>\u001b[0m in \u001b[0;36m<module>\u001b[1;34m()\u001b[0m\n\u001b[0;32m     17\u001b[0m \u001b[0mdf\u001b[0m \u001b[1;33m=\u001b[0m \u001b[0mop\u001b[0m\u001b[1;33m.\u001b[0m\u001b[0mspark\u001b[0m\u001b[1;33m.\u001b[0m\u001b[0mcreateDataFrame\u001b[0m\u001b[1;33m(\u001b[0m\u001b[0mlist\u001b[0m\u001b[1;33m(\u001b[0m\u001b[0mzip\u001b[0m\u001b[1;33m(\u001b[0m\u001b[0mcities\u001b[0m\u001b[1;33m,\u001b[0m \u001b[0mcountries\u001b[0m\u001b[1;33m,\u001b[0m \u001b[0mpopulation\u001b[0m\u001b[1;33m)\u001b[0m\u001b[1;33m)\u001b[0m\u001b[1;33m,\u001b[0m \u001b[0mschema\u001b[0m\u001b[1;33m=\u001b[0m\u001b[0mschema\u001b[0m\u001b[1;33m)\u001b[0m\u001b[1;33m\u001b[0m\u001b[0m\n\u001b[0;32m     18\u001b[0m \u001b[1;33m\u001b[0m\u001b[0m\n\u001b[1;32m---> 19\u001b[1;33m \u001b[0mdf\u001b[0m\u001b[1;33m[\u001b[0m\u001b[1;34m\"city\"\u001b[0m\u001b[1;33m]\u001b[0m\u001b[1;33m.\u001b[0m\u001b[0mmin\u001b[0m\u001b[1;33m(\u001b[0m\u001b[1;33m)\u001b[0m\u001b[1;33m\u001b[0m\u001b[0m\n\u001b[0m",
      "\u001b[1;31mTypeError\u001b[0m: 'Column' object is not callable"
     ]
    }
   ],
   "source": [
    "# Importing sql types\n",
    "from pyspark.sql.types import StringType, IntegerType, StructType, StructField\n",
    "# Importing optimus\n",
    "\n",
    "# Building a simple dataframe:\n",
    "schema = StructType([\n",
    "        StructField(\"city\", StringType(), True),\n",
    "        StructField(\"country\", StringType(), True),\n",
    "        StructField(\"population\", IntegerType(), True)])\n",
    "\n",
    "countries = ['Colombia', 'US@A', 'Brazil', 'Spain']\n",
    "cities = ['Bogotá', 'New York', '   São Paulo   ', '~Madrid']\n",
    "population = [37800000,19795791,12341418,6489162]\n",
    "\n",
    "print(schema)\n",
    "print(list(zip(cities, countries, population)))\n",
    "\n",
    "# Dataframe:\n",
    "df = op.spark.createDataFrame(list(zip(cities, countries, population)), schema=schema)\n",
    "\n",
    "df.show()"
   ]
  },
  {
   "cell_type": "code",
   "execution_count": 8,
   "metadata": {},
   "outputs": [
    {
     "data": {
      "text/plain": [
       "[6489162, 6489162]"
      ]
     },
     "execution_count": 8,
     "metadata": {},
     "output_type": "execute_result"
    }
   ],
   "source": [
    "t = op.DataFrameTransformer(df)\n",
    "\n",
    "t.min([\"population\",\"population\"])\n"
   ]
  },
  {
   "cell_type": "code",
   "execution_count": 6,
   "metadata": {},
   "outputs": [],
   "source": [
    "# Instance of profiler class\n",
    "# profiler = op.DataFrameProfiler(df)\n",
    "# profiler.profiler()"
   ]
  },
  {
   "cell_type": "code",
   "execution_count": 7,
   "metadata": {},
   "outputs": [],
   "source": [
    "#analyzer = op.DataFrameAnalyzer(df=df)"
   ]
  },
  {
   "cell_type": "code",
   "execution_count": 8,
   "metadata": {},
   "outputs": [],
   "source": [
    "#analyzer.column_analyze(\"*\", plots=True, values_bar=True, print_type=False, num_bars=10)"
   ]
  },
  {
   "cell_type": "markdown",
   "metadata": {},
   "source": [
    "Minimum\t6489200\n",
    "5-th percentile\t7367000\n",
    "Q1\t10878000\n",
    "Median\t16069000\n",
    "Q3\t24297000\n",
    "95-th percentile\t35099000\n",
    "Maximum\t37800000\n",
    "Range\t31311000\n",
    "Interquartile range\t13418000\n",
    "\n",
    "Standard deviation\t13600000\n",
    "Coef of variation\t0.7118\n",
    "Kurtosis\t-1.0571\n",
    "Mean\t19107000\n",
    "MAD\t9691300\n",
    "Skewness\t0.64484\n",
    "Sum\t76426000\n",
    "Variance\t184960000000000\n",
    "Memory size\t0.0 B"
   ]
  },
  {
   "cell_type": "code",
   "execution_count": 9,
   "metadata": {},
   "outputs": [
    {
     "name": "stdout",
     "output_type": "stream",
     "text": [
      "Quantile statistics\n",
      "Min: 6489162\n",
      "Max: 37800000\n",
      "Range: 31310838\n",
      "fiveth: [[6489162.0, 6489162.0, 12341418.0, 19795791.0, 37800000.0]]\n",
      "Descriptive statistics\n",
      "Standard deviation: 13600068.835257646\n",
      "Kurtosis: -1.0571472886032953\n",
      "Mean: 19106592.75\n",
      "Skewness: 0.6448376496844991\n",
      "Sum: 76426371\n",
      "Variance: 184961872323746.25\n"
     ]
    }
   ],
   "source": [
    "print(\"Quantile statistics\")\n",
    "\n",
    "min_val = df.agg({\"population\": \"min\"}).collect()[0][0]\n",
    "print(\"Min:\",min_val)\n",
    "\n",
    "#median = df.agg({\"population\": \"median\"}).collect()[0][0]\n",
    "#print (\"Median:\", median)\n",
    "\n",
    "max_val = df.agg({\"population\": \"max\"}).collect()[0][0]\n",
    "print (\"Max:\", max_val)\n",
    "\n",
    "range = max_val - min_val\n",
    "print (\"Range:\", range)\n",
    "\n",
    "fiveth = df.approxQuantile([\"population\"], [0.05, 0.25, 0.5, 0.75, 0.95], 0)\n",
    "print(\"fiveth:\", fiveth)\n",
    "\n",
    "print(\"Descriptive statistics\")\n",
    "\n",
    "stddev = df.agg({\"population\": \"stddev\"}).collect()[0][0]\n",
    "print (\"Standard deviation:\", stddev)\n",
    "\n",
    "kurtosis = df.agg({\"population\": \"kurtosis\"}).collect()[0][0]\n",
    "print (\"Kurtosis:\", kurtosis)\n",
    "\n",
    "mean = df.agg({\"population\": \"mean\"}).collect()[0][0]\n",
    "print (\"Mean:\", mean)\n",
    "\n",
    "skewness = df.agg({\"population\": \"skewness\"}).collect()[0][0]\n",
    "print(\"Skewness:\" , skewness)\n",
    "\n",
    "sum = df.agg({\"population\": \"sum\"}).collect()[0][0]\n",
    "print(\"Sum:\" , sum)\n",
    "\n",
    "variance = df.agg({\"population\": \"variance\"}).collect()[0][0]\n",
    "print(\"Variance:\" , variance)\n",
    "\n"
   ]
  },
  {
   "cell_type": "code",
   "execution_count": 42,
   "metadata": {},
   "outputs": [
    {
     "name": "stdout",
     "output_type": "stream",
     "text": [
      "[6489162, 6489162]\n"
     ]
    }
   ],
   "source": [
    "def min(columns):\n",
    "    \"\"\"This method eliminate the list of columns provided by user.\n",
    "    :param columns      list of columns names or a string (a column name).\n",
    "\n",
    "    :return transformer object\n",
    "    \"\"\"\n",
    "    \n",
    "    \n",
    "    return list(map(lambda c: df.agg({c: \"min\"}).collect()[0][0], columns))\n",
    "    \n",
    "    \n",
    "print(min([\"population\",\"population\"]))"
   ]
  },
  {
   "cell_type": "code",
   "execution_count": 24,
   "metadata": {},
   "outputs": [
    {
     "name": "stdout",
     "output_type": "stream",
     "text": [
      "+---------------+--------+----------+\n",
      "|           city| country|population|\n",
      "+---------------+--------+----------+\n",
      "|         Bogotá|Colombia|  37800000|\n",
      "|       New York|    US@A|  19795791|\n",
      "|   São Paulo   |  Brazil|  12341418|\n",
      "|        ~Madrid|   Spain|   6489162|\n",
      "+---------------+--------+----------+\n",
      "\n",
      "+-------------------+-------------------+\n",
      "|                  A|                  B|\n",
      "+-------------------+-------------------+\n",
      "|0.04573619341231541|-2.3699398007821846|\n",
      "| 0.2501995146351813|  0.823519825383789|\n",
      "|0.30709452689386885| -2.133765921086478|\n",
      "|0.09672810278194616|-0.6786879708350668|\n",
      "| -1.464578651239079|-0.6106423972327245|\n",
      "+-------------------+-------------------+\n",
      "\n"
     ]
    }
   ],
   "source": [
    "import numpy as np\n",
    "import pandas as pd\n",
    "\n",
    "def Dataframe(data=None, index=None, columns=None, dtype=None,copy=False):\n",
    "    spark_df = None\n",
    "    try:\n",
    "        df= pd.DataFrame(data, index, columns, dtype,copy)\n",
    "        spark_df = op.spark.createDataFrame(df)        \n",
    "    except:\n",
    "        raise\n",
    "        \n",
    "    return spark_df\n",
    "    \n",
    "df = Dataframe({\n",
    "    'city': ['Bogotá','New York','   São Paulo   ','~Madrid'],\n",
    "    'country': ['Colombia','US@A','Brazil','Spain'], \n",
    "    'population': [37800000,19795791,12341418,6489162]})\n",
    "\n",
    "df.show()\n",
    "\n",
    "df1 = Dataframe(np.random.randn(5, 2), columns=list('AB'))\n",
    "df1.show()\n",
    "\n"
   ]
  },
  {
   "cell_type": "code",
   "execution_count": 18,
   "metadata": {},
   "outputs": [],
   "source": [
    "import pandas as pd\n",
    "\n",
    "df1 = pd.DataFrame({\n",
    "    'city': ['Bogotá','New York','   São Paulo   ','~Madrid'],\n",
    "    'country': ['Colombia','US@A','Brazil','Spain'], \n",
    "    'population': [37800000,19795791,12341418,6489162]})\n",
    "\n"
   ]
  },
  {
   "cell_type": "code",
   "execution_count": 23,
   "metadata": {},
   "outputs": [
    {
     "data": {
      "text/plain": [
       "6489162"
      ]
     },
     "execution_count": 23,
     "metadata": {},
     "output_type": "execute_result"
    }
   ],
   "source": [
    "df1.head()\n",
    "df1[\"population\"].min()"
   ]
  },
  {
   "cell_type": "code",
   "execution_count": 36,
   "metadata": {},
   "outputs": [],
   "source": [
    "min1 = [1,2]\n",
    "max1= [3,4]"
   ]
  },
  {
   "cell_type": "code",
   "execution_count": 37,
   "metadata": {},
   "outputs": [
    {
     "data": {
      "text/plain": [
       "[4, 6]"
      ]
     },
     "execution_count": 37,
     "metadata": {},
     "output_type": "execute_result"
    }
   ],
   "source": [
    "[x + y for x, y in zip(max1, min1)]"
   ]
  },
  {
   "cell_type": "code",
   "execution_count": null,
   "metadata": {},
   "outputs": [],
   "source": []
  },
  {
   "cell_type": "code",
   "execution_count": null,
   "metadata": {},
   "outputs": [],
   "source": []
  }
 ],
 "metadata": {
  "kernelspec": {
   "display_name": "Python 3",
   "language": "python",
   "name": "python3"
  },
  "language_info": {
   "codemirror_mode": {
    "name": "ipython",
    "version": 3
   },
   "file_extension": ".py",
   "mimetype": "text/x-python",
   "name": "python",
   "nbconvert_exporter": "python",
   "pygments_lexer": "ipython3",
   "version": "3.6.4"
  }
 },
 "nbformat": 4,
 "nbformat_minor": 2
}
